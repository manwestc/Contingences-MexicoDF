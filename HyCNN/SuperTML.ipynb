{
 "cells": [
  {
   "cell_type": "markdown",
   "metadata": {
    "id": "EybOZ6hSjpCF"
   },
   "source": [
    "<h1><font color=\"#113D68\" size=5>TINTOlib: Converting Tidy Data into Synthetic Images</font></h1>>\n",
    "\n",
    "<h1><font color=\"#113D68\" size=5>Template Binary Classification problem with a Hibryd Networks (CNN+MLP)</font></h1>\n",
    "\n",
    "<br><br>\n",
    "<div style=\"text-align: right\">\n",
    "<font color=\"#113D68\" size=3>Manuel Castillo-Cara</font><br>\n",
    "<font color=\"#113D68\" size=3>Raúl García-Castro</font><br>\n",
    "<font color=\"#113D68\" size=3>Jiayun Liu</font><br>\n",
    "\n",
    "</div>\n",
    "\n",
    "---"
   ]
  },
  {
   "cell_type": "markdown",
   "metadata": {},
   "source": [
    "<div class=\"alert alert-block alert-info\">\n",
    "    \n",
    "<i class=\"fa fa-info-circle\" aria-hidden=\"true\"></i>\n",
    "More information about [Manuel Castillo-Cara](https://www.manuelcastillo.eu/)"
   ]
  },
  {
   "cell_type": "markdown",
   "metadata": {},
   "source": [
    "<div class=\"alert alert-block alert-info\">\n",
    "    \n",
    "<i class=\"fa fa-info-circle\" aria-hidden=\"true\"></i>\n",
    "More information about [Raúl García-Castro](http://www.garcia-castro.com/)"
   ]
  },
  {
   "cell_type": "markdown",
   "metadata": {},
   "source": [
    "---\n",
    "\n",
    "<a id=\"indice\"></a>\n",
    "<h2><font color=\"#004D7F\" size=5>Licencia</font></h2>\n",
    "\n",
    "<p><small><small>Improving Deep Learning by Exploiting Synthetic Images Copyright 2024 Manuel Castillo Cara.</p>\n",
    "<p><small><small> Licensed under the Apache License, Version 2.0 (the \"License\"); you may not use this file except in compliance with the License. You may obtain a copy of the License at </p>\n",
    "<p><small><small> <a href=\"https://www.apache.org/licenses/LICENSE-2.0\">https://www.apache.org/licenses/LICENSE-2.0</a> </p>\n",
    "<p><small><small> Unless required by applicable law or agreed to in writing, software distributed under the License is distributed on an \"AS IS\" BASIS, WITHOUT WARRANTIES OR CONDITIONS OF ANY KIND, either express or implied. See the License for the specific language governing permissions and limitations under the License. </p>"
   ]
  },
  {
   "cell_type": "markdown",
   "metadata": {
    "id": "2l5nFzsdjpCW"
   },
   "source": [
    "---\n",
    "\n",
    "<a id=\"indice\"></a>\n",
    "<h2><font color=\"#004D7F\" size=5>Index</font></h2>\n",
    "\n",
    "* [0. Context](#section0)\n",
    "* [1. Description](#section1)\n",
    "    * [1.1. Main Features](#section11)\n",
    "    * [1.2. Citation](#section12)\n",
    "    * [1.3. Documentation and License](#section13)\n",
    "* [2. Libraries](#section2)\n",
    "    * [2.1. System setup](#section21)\n",
    "    * [2.2. Invoke the libraries](#section22)\n",
    "* [3. Data processing](#section3)\n",
    "    * [3.1. TINTOlib methods](#section31)\n",
    "    * [3.2. Read the dataset](#section32)\n",
    "    * [3.3. Generate images](#section33)\n",
    "    * [3.4. Read images](#section34)\n",
    "    * [3.5. Mix images and tidy data](#section35)\n",
    "* [4. Pre-modelling phase](#section4)\n",
    "    * [4.1. Data curation](#section41)\n",
    "    * [4.2. One-hot encoding](#section42)\n",
    "* [5. Modelling hybrid network](#section5)\n",
    "    * [5.1. FFNN for tabular data](#section51)\n",
    "    * [5.2. CNN for TINTOlib images](#section52)\n",
    "    * [5.3. Concatenate branches](#section53)\n",
    "    * [5.4. Metrics](#section54)\n",
    "    * [5.5. Compile and fit](#section55)\n",
    "* [6. Results](#section6)\n",
    "    * [6.1. Train/Validation representation](#section61)\n",
    "    * [6.2. Validation/Test evaluation](#section62)"
   ]
  },
  {
   "cell_type": "markdown",
   "metadata": {
    "id": "4RKBgDwzjpCl"
   },
   "source": [
    "---\n",
    "<div style=\"text-align: right\"> <font size=5> <a href=\"#indice\"><i class=\"fa fa-arrow-circle-up\" aria-hidden=\"true\" style=\"color:#004D7F\"></i></a></font></div>\n",
    "\n",
    "---"
   ]
  },
  {
   "cell_type": "markdown",
   "metadata": {
    "id": "qwYF5A2njpC8"
   },
   "source": [
    "<a id=\"section2\"></a>\n",
    "# <font color=\"#004D7F\" size=6> 2. Libraries</font>"
   ]
  },
  {
   "cell_type": "markdown",
   "metadata": {},
   "source": [
    "---\n",
    "<a id=\"section22\"></a>\n",
    "# <font color=\"#004D7F\" size=5> 2.2. Invoke the libraries</font>"
   ]
  },
  {
   "cell_type": "code",
   "execution_count": 1,
   "metadata": {
    "id": "PeeBbGxlpjFp",
    "tags": []
   },
   "outputs": [
    {
     "name": "stderr",
     "output_type": "stream",
     "text": [
      "/Users/manwest/Library/Python/3.9/lib/python/site-packages/urllib3/__init__.py:35: NotOpenSSLWarning: urllib3 v2 only supports OpenSSL 1.1.1+, currently the 'ssl' module is compiled with 'LibreSSL 2.8.3'. See: https://github.com/urllib3/urllib3/issues/3020\n",
      "  warnings.warn(\n"
     ]
    }
   ],
   "source": [
    "import os\n",
    "import random\n",
    "import pandas as pd\n",
    "import numpy as np\n",
    "from tqdm import tqdm\n",
    "#import cv2\n",
    "import gc\n",
    "import matplotlib.pyplot as plt\n",
    "#import openslide\n",
    "#from openslide.deepzoom import DeepZoomGenerator\n",
    "import tifffile as tifi\n",
    "import sklearn\n",
    "import tensorflow as tf\n",
    "import seaborn as sns\n",
    "from PIL import Image\n",
    "\n",
    "\n",
    "from sklearn.metrics import mean_absolute_error, mean_squared_error, r2_score,mean_absolute_percentage_error\n",
    "\n",
    "from keras_preprocessing.image import ImageDataGenerator\n",
    "from tensorflow.keras.models import load_model\n",
    "\n",
    "from sklearn.model_selection import train_test_split\n",
    "from tensorflow.keras.applications import vgg16, vgg19, resnet50, mobilenet, inception_resnet_v2, densenet, inception_v3, xception, nasnet, ResNet152V2\n",
    "from tensorflow.keras.models import Sequential, Model, load_model\n",
    "from tensorflow.keras.layers import Dense, Conv2D, MaxPool2D, Flatten, Dropout, BatchNormalization, InputLayer, LayerNormalization\n",
    "from tensorflow.keras.callbacks import ModelCheckpoint, ReduceLROnPlateau, EarlyStopping\n",
    "from tensorflow.keras.optimizers import SGD, Adam, Adadelta, Adamax, AdamW\n",
    "from tensorflow.keras import layers, models, Model\n",
    "from tensorflow.keras.losses import MeanAbsoluteError, MeanAbsolutePercentageError\n",
    "from tensorflow.keras.layers import Input, Activation, MaxPooling2D, concatenate, Concatenate, AveragePooling2D\n",
    "from tensorflow.keras.utils import to_categorical\n",
    "from keras.utils import plot_model\n",
    "\n",
    "\n",
    "from imblearn.under_sampling import RandomUnderSampler\n",
    "\n",
    "#Models of TINTOlib\n",
    "from TINTOlib.tinto import TINTO\n",
    "from TINTOlib.supertml import SuperTML\n",
    "from TINTOlib.igtd import IGTD\n",
    "from TINTOlib.refined import REFINED\n",
    "from TINTOlib.barGraph import BarGraph\n",
    "from TINTOlib.distanceMatrix import DistanceMatrix\n",
    "from TINTOlib.combination import Combination\n",
    "from TINTOlib.featureWrap import FeatureWrap\n",
    "\n",
    "\n",
    "SEED = 64\n",
    "# SET RANDOM SEED FOR REPRODUCIBILITY\n",
    "#torch.manual_seed(SEED)\n",
    "#torch.cuda.manual_seed(SEED)\n",
    "#torch.cuda.manual_seed_all(SEED)\n",
    "#torch.backends.cudnn.deterministic = True\n",
    "#torch.backends.cudnn.benchmark = False\n",
    "os.environ['PYTHONHASHSEED']=str(SEED)\n",
    "random.seed(SEED)\n",
    "np.random.seed(SEED)\n",
    "tf.random.set_seed(SEED)"
   ]
  },
  {
   "cell_type": "markdown",
   "metadata": {
    "id": "NwS-cKUxjpDQ"
   },
   "source": [
    "---\n",
    "<div style=\"text-align: right\"> <font size=5> <a href=\"#indice\"><i class=\"fa fa-arrow-circle-up\" aria-hidden=\"true\" style=\"color:#004D7F\"></i></a></font></div>\n",
    "\n",
    "---"
   ]
  },
  {
   "cell_type": "markdown",
   "metadata": {
    "id": "aDL4LARWjpDT"
   },
   "source": [
    "<a id=\"section3\"></a>\n",
    "# <font color=\"#004D7F\" size=6> 3. Data processing</font>"
   ]
  },
  {
   "cell_type": "markdown",
   "metadata": {},
   "source": [
    "---\n",
    "<a id=\"section31\"></a>\n",
    "# <font color=\"#004D7F\" size=5> 3.1. TINTOlib methods</font>"
   ]
  },
  {
   "cell_type": "code",
   "execution_count": 2,
   "metadata": {},
   "outputs": [],
   "source": [
    "#Select the model and the parameters\n",
    "problem_type = \"supervised\"\n",
    "#problem_type = \"regression\"\n",
    "pixelTML = 30\n",
    "pixel = 40\n",
    "## zoom para ampliar la imagen\n",
    "#image_model = REFINED(problem=problem_type, random_seed=SEED, zoom=5, n_processors=8)\n",
    "#image_model = TINTO(problem= problem_type, blur=True, option='maximum', pixels=pixel, random_seed=SEED)\n",
    "# scale sería [7,4] porque hay 26 variables (para 24 pixeles); \n",
    "#image_model = IGTD(problem= problem_type, random_seed=SEED, scale=[3,3], zoom=5)\n",
    "#image_model = BarGraph(problem= problem_type, pixel_width=2, gap=1, zoom=1)\n",
    "#image_model = DistanceMatrix(problem= problem_type, zoom=4)\n",
    "#image_model = Combination(problem= problem_type, zoom=3)\n",
    "#image_model = SuperTML(problem= problem_type, pixels = pixelTML, font_size=4, feature_importance=True, random_seed=SEED)\n",
    "image_model = SuperTML(problem= problem_type, pixels=pixel, font_size=3, random_seed=SEED)\n",
    "\n",
    "#Define the dataset path and the folder where the images will be saved\n",
    "results_folder = \"SuperTML\"\n",
    "dataset_path = \"../dataset_train.csv\"\n",
    "images_folder = \"SuperTML\""
   ]
  },
  {
   "cell_type": "markdown",
   "metadata": {},
   "source": [
    "<div class=\"alert alert-block alert-info\">\n",
    "\n",
    "<i class=\"fa fa-info-circle\" aria-hidden=\"true\"></i>\n",
    "You can see all TINTOlib method in the [PyPI documentation](https://tintolib.readthedocs.io/en/latest/installation.html)"
   ]
  },
  {
   "cell_type": "markdown",
   "metadata": {},
   "source": [
    "---\n",
    "<a id=\"section32\"></a>\n",
    "# <font color=\"#004D7F\" size=5> 3.2. Read the dataset</font>"
   ]
  },
  {
   "cell_type": "code",
   "execution_count": 3,
   "metadata": {
    "scrolled": true
   },
   "outputs": [
    {
     "data": {
      "text/html": [
       "<div>\n",
       "<style scoped>\n",
       "    .dataframe tbody tr th:only-of-type {\n",
       "        vertical-align: middle;\n",
       "    }\n",
       "\n",
       "    .dataframe tbody tr th {\n",
       "        vertical-align: top;\n",
       "    }\n",
       "\n",
       "    .dataframe thead th {\n",
       "        text-align: right;\n",
       "    }\n",
       "</style>\n",
       "<table border=\"1\" class=\"dataframe\">\n",
       "  <thead>\n",
       "    <tr style=\"text-align: right;\">\n",
       "      <th></th>\n",
       "      <th>O3</th>\n",
       "      <th>TMP</th>\n",
       "      <th>RH</th>\n",
       "      <th>1/RH</th>\n",
       "      <th>WSP</th>\n",
       "      <th>WDR</th>\n",
       "      <th>class</th>\n",
       "    </tr>\n",
       "  </thead>\n",
       "  <tbody>\n",
       "    <tr>\n",
       "      <th>0</th>\n",
       "      <td>163.0</td>\n",
       "      <td>28.2</td>\n",
       "      <td>17.0</td>\n",
       "      <td>0.058824</td>\n",
       "      <td>3.2</td>\n",
       "      <td>346.0</td>\n",
       "      <td>1</td>\n",
       "    </tr>\n",
       "    <tr>\n",
       "      <th>1</th>\n",
       "      <td>170.0</td>\n",
       "      <td>28.9</td>\n",
       "      <td>23.0</td>\n",
       "      <td>0.043478</td>\n",
       "      <td>3.4</td>\n",
       "      <td>355.0</td>\n",
       "      <td>1</td>\n",
       "    </tr>\n",
       "  </tbody>\n",
       "</table>\n",
       "</div>"
      ],
      "text/plain": [
       "      O3   TMP    RH      1/RH  WSP    WDR  class\n",
       "0  163.0  28.2  17.0  0.058824  3.2  346.0      1\n",
       "1  170.0  28.9  23.0  0.043478  3.4  355.0      1"
      ]
     },
     "execution_count": 3,
     "metadata": {},
     "output_type": "execute_result"
    }
   ],
   "source": [
    "#Read CSV\n",
    "df = pd.read_csv(dataset_path)\n",
    "df.head(2)"
   ]
  },
  {
   "cell_type": "markdown",
   "metadata": {},
   "source": [
    "---\n",
    "<a id=\"section33\"></a>\n",
    "# <font color=\"#004D7F\" size=5> 3.3. Generate images</font>"
   ]
  },
  {
   "cell_type": "code",
   "execution_count": 4,
   "metadata": {},
   "outputs": [
    {
     "name": "stdout",
     "output_type": "stream",
     "text": [
      "The images are already generated\n",
      "SuperTML/supervised.csv\n"
     ]
    }
   ],
   "source": [
    "import os\n",
    "\n",
    "# Generate the images if the folder does not exist\n",
    "if not os.path.exists(images_folder):\n",
    "    #Generate thet images\n",
    "    image_model.generateImages(df, images_folder)\n",
    "else:\n",
    "    print(\"The images are already generated\")\n",
    "\n",
    "img_paths = os.path.join(images_folder,problem_type+\".csv\")\n",
    "\n",
    "print(img_paths)"
   ]
  },
  {
   "cell_type": "markdown",
   "metadata": {},
   "source": [
    "---\n",
    "<a id=\"section34\"></a>\n",
    "# <font color=\"#004D7F\" size=5> 3.4. Read Images</font>"
   ]
  },
  {
   "cell_type": "code",
   "execution_count": 5,
   "metadata": {},
   "outputs": [],
   "source": [
    "imgs = pd.read_csv(img_paths)\n",
    "\n",
    "#imgs[\"images\"]= images_folder + \"\\\\\" + imgs[\"images\"]\n",
    "imgs[\"images\"]= images_folder + \"/\" + imgs[\"images\"]"
   ]
  },
  {
   "cell_type": "markdown",
   "metadata": {},
   "source": [
    "---\n",
    "<a id=\"section35\"></a>\n",
    "# <font color=\"#004D7F\" size=5> 3.5. Mix images and tidy data</font>"
   ]
  },
  {
   "cell_type": "markdown",
   "metadata": {},
   "source": [
    "Since we are going to use hybrid networks, i.e. create a model in which we join a CNN for the images and a MLP for the tabular data, we are going to join it in order to integrate all the data in our hybrid model.\n"
   ]
  },
  {
   "cell_type": "code",
   "execution_count": 6,
   "metadata": {},
   "outputs": [
    {
     "data": {
      "text/html": [
       "<div>\n",
       "<style scoped>\n",
       "    .dataframe tbody tr th:only-of-type {\n",
       "        vertical-align: middle;\n",
       "    }\n",
       "\n",
       "    .dataframe tbody tr th {\n",
       "        vertical-align: top;\n",
       "    }\n",
       "\n",
       "    .dataframe thead th {\n",
       "        text-align: right;\n",
       "    }\n",
       "</style>\n",
       "<table border=\"1\" class=\"dataframe\">\n",
       "  <thead>\n",
       "    <tr style=\"text-align: right;\">\n",
       "      <th></th>\n",
       "      <th>O3</th>\n",
       "      <th>TMP</th>\n",
       "      <th>RH</th>\n",
       "      <th>1/RH</th>\n",
       "      <th>WSP</th>\n",
       "      <th>WDR</th>\n",
       "      <th>class</th>\n",
       "    </tr>\n",
       "  </thead>\n",
       "  <tbody>\n",
       "    <tr>\n",
       "      <th>0</th>\n",
       "      <td>0.772947</td>\n",
       "      <td>0.752613</td>\n",
       "      <td>0.126316</td>\n",
       "      <td>0.256966</td>\n",
       "      <td>0.247664</td>\n",
       "      <td>0.952542</td>\n",
       "      <td>1</td>\n",
       "    </tr>\n",
       "    <tr>\n",
       "      <th>1</th>\n",
       "      <td>0.806763</td>\n",
       "      <td>0.777003</td>\n",
       "      <td>0.189474</td>\n",
       "      <td>0.176201</td>\n",
       "      <td>0.269470</td>\n",
       "      <td>0.983051</td>\n",
       "      <td>1</td>\n",
       "    </tr>\n",
       "  </tbody>\n",
       "</table>\n",
       "</div>"
      ],
      "text/plain": [
       "         O3       TMP        RH      1/RH       WSP       WDR  class\n",
       "0  0.772947  0.752613  0.126316  0.256966  0.247664  0.952542      1\n",
       "1  0.806763  0.777003  0.189474  0.176201  0.269470  0.983051      1"
      ]
     },
     "execution_count": 6,
     "metadata": {},
     "output_type": "execute_result"
    }
   ],
   "source": [
    "# Select all the attributes to normalize\n",
    "columns_to_normalize = df.columns[:-1]\n",
    "\n",
    "# Normalize between 0 and 1\n",
    "df_normalized = (df[columns_to_normalize] - df[columns_to_normalize].min()) / (df[columns_to_normalize].max() - df[columns_to_normalize].min())\n",
    "\n",
    "# Combine the attributes and the label\n",
    "df_normalized = pd.concat([df_normalized, df[df.columns[-1]]], axis=1)\n",
    "\n",
    "df_normalized.head(2)"
   ]
  },
  {
   "cell_type": "markdown",
   "metadata": {},
   "source": [
    "Combine the images and tidy data in the same dataframe, split attributes and objective value"
   ]
  },
  {
   "cell_type": "code",
   "execution_count": 7,
   "metadata": {},
   "outputs": [
    {
     "name": "stdout",
     "output_type": "stream",
     "text": [
      "0        1\n",
      "1        1\n",
      "2        1\n",
      "3        1\n",
      "4        1\n",
      "        ..\n",
      "23804    0\n",
      "23805    0\n",
      "23806    0\n",
      "23807    0\n",
      "23808    0\n",
      "Name: class, Length: 23809, dtype: int64\n"
     ]
    }
   ],
   "source": [
    "combined_dataset = pd.concat([imgs,df_normalized[columns_to_normalize]],axis=1)\n",
    "\n",
    "df_x = combined_dataset.drop(\"class\",axis=1)\n",
    "df_y = combined_dataset[\"class\"]\n",
    "\n",
    "print(df_y)"
   ]
  },
  {
   "cell_type": "markdown",
   "metadata": {
    "id": "_haEKIo7jpD1"
   },
   "source": [
    "---\n",
    "<div style=\"text-align: right\"> <font size=5> <a href=\"#indice\"><i class=\"fa fa-arrow-circle-up\" aria-hidden=\"true\" style=\"color:#004D7F\"></i></a></font></div>\n",
    "\n",
    "---"
   ]
  },
  {
   "cell_type": "markdown",
   "metadata": {
    "id": "uF1lJWbojpD3"
   },
   "source": [
    "<a id=\"section4\"></a>\n",
    "# <font color=\"#004D7F\" size=6> 4. Pre-modelling phase</font>"
   ]
  },
  {
   "cell_type": "code",
   "execution_count": 8,
   "metadata": {},
   "outputs": [],
   "source": [
    "# Depends on the method yo may have to change the value of pixel variable\n",
    "pixel=40"
   ]
  },
  {
   "cell_type": "code",
   "execution_count": 9,
   "metadata": {},
   "outputs": [
    {
     "name": "stdout",
     "output_type": "stream",
     "text": [
      "Images shape:  (40, 40)\n",
      "Attributres:  6\n",
      "Image size (pixels): 40\n"
     ]
    }
   ],
   "source": [
    "import cv2\n",
    "X_train, X_val, y_train, y_val = train_test_split(df_x, df_y, test_size = 0.40, random_state = SEED,stratify=df_y)\n",
    "X_val, X_test, y_val, y_test = train_test_split(X_val, y_val, test_size = 0.50, random_state = SEED,stratify=y_val)\n",
    "\n",
    "#TIDY DATA SPLITTED\n",
    "X_train_num = X_train.drop(\"images\",axis=1)\n",
    "X_val_num = X_val.drop(\"images\",axis=1)\n",
    "X_test_num = X_test.drop(\"images\",axis=1)\n",
    "\n",
    "#IMAGES\n",
    "# For 3 canal (RGB)\n",
    "\"\"\"X_train_img = np.array([cv2.resize(cv2.imread(img),(pixel,pixel)) for img in X_train[\"images\"]])\n",
    "X_val_img = np.array([cv2.resize(cv2.imread(img),(pixel,pixel)) for img in X_val[\"images\"]])\n",
    "X_test_img = np.array([cv2.resize(cv2.imread(img),(pixel,pixel)) for img in X_test[\"images\"]])\"\"\"\n",
    "\n",
    "# For 1 canal (GRAY SCALE)\n",
    "X_train_img = np.array([cv2.imread(img,cv2.IMREAD_GRAYSCALE) for img in X_train[\"images\"]])\n",
    "X_val_img = np.array([cv2.imread(img,cv2.IMREAD_GRAYSCALE) for img in X_val[\"images\"]])\n",
    "X_test_img = np.array([cv2.imread(img,cv2.IMREAD_GRAYSCALE) for img in X_test[\"images\"]])\n",
    "\n",
    "attributes = len(X_train_num.columns)\n",
    "imgs_shape = X_train_img[0].shape\n",
    "\n",
    "print(\"Images shape: \",imgs_shape)\n",
    "print(\"Attributres: \",attributes)\n",
    "pixel=X_train_img[0].shape[0]\n",
    "print(\"Image size (pixels):\", pixel)"
   ]
  },
  {
   "cell_type": "code",
   "execution_count": 10,
   "metadata": {},
   "outputs": [],
   "source": [
    "X_train_img = X_train_img/255\n",
    "X_val_img = X_val_img/255\n",
    "X_test_img = X_test_img/255"
   ]
  },
  {
   "cell_type": "markdown",
   "metadata": {},
   "source": [
    "<a id=\"section5\"></a>\n",
    "# <font color=\"#004D7F\" size=6> 5. Modeling hybrid network</font>"
   ]
  },
  {
   "cell_type": "markdown",
   "metadata": {},
   "source": [
    "---\n",
    "<a id=\"section51\"></a>\n",
    "# <font color=\"#004D7F\" size=5> 5.1. FFNN for tabular data</font>\n",
    "\n",
    "This is an example of a simple FFNN for tabular data. Note that we are not looking for the optimization of the CNN but to show an example of TINTOlib execution."
   ]
  },
  {
   "cell_type": "code",
   "execution_count": 11,
   "metadata": {},
   "outputs": [],
   "source": [
    "dropout = 0.2"
   ]
  },
  {
   "cell_type": "code",
   "execution_count": 12,
   "metadata": {},
   "outputs": [
    {
     "name": "stderr",
     "output_type": "stream",
     "text": [
      "2024-12-13 11:25:58.517479: I metal_plugin/src/device/metal_device.cc:1154] Metal device set to: Apple M3 Pro\n",
      "2024-12-13 11:25:58.517499: I metal_plugin/src/device/metal_device.cc:296] systemMemory: 36.00 GB\n",
      "2024-12-13 11:25:58.517502: I metal_plugin/src/device/metal_device.cc:313] maxCacheSize: 13.50 GB\n",
      "2024-12-13 11:25:58.517514: I tensorflow/core/common_runtime/pluggable_device/pluggable_device_factory.cc:305] Could not identify NUMA node of platform GPU ID 0, defaulting to 0. Your kernel may not have been built with NUMA support.\n",
      "2024-12-13 11:25:58.517526: I tensorflow/core/common_runtime/pluggable_device/pluggable_device_factory.cc:271] Created TensorFlow device (/job:localhost/replica:0/task:0/device:GPU:0 with 0 MB memory) -> physical PluggableDevice (device: 0, name: METAL, pci bus id: <undefined>)\n"
     ]
    }
   ],
   "source": [
    "filters_ffnn = [1024,512,256,128,64,32,16]\n",
    "\n",
    "ff_inputs = Input(shape = (attributes,))\n",
    "\n",
    "# * START BRANCH 1\n",
    "#mlp_1 = Dense(1024, activation='relu')(ff_inputs)\n",
    "#mlp_1 = BatchNormalization()(mlp_1)\n",
    "#mlp_1 = Dropout(dropout)(mlp_1)\n",
    "\n",
    "#mlp_1 = Dense(512, activation='relu')(ff_inputs)\n",
    "#mlp_1 = BatchNormalization()(mlp_1)\n",
    "#mlp_1 = Dropout(dropout)(mlp_1)\n",
    "\n",
    "#mlp_1 = Dense(256, activation='relu')(ff_inputs)\n",
    "#mlp_1 = BatchNormalization()(mlp_1)\n",
    "#mlp_1 = Dropout(dropout)(mlp_1)\n",
    "\n",
    "mlp_1 = Dense(128, activation='relu')(ff_inputs)\n",
    "mlp_1 = BatchNormalization()(mlp_1)\n",
    "mlp_1 = Dropout(dropout)(mlp_1)\n",
    "\n",
    "mlp_1 = Dense(64, activation='relu')(mlp_1)\n",
    "mlp_1 = BatchNormalization()(mlp_1)\n",
    "mlp_1 = Dropout(dropout)(mlp_1)\n",
    "\n",
    "mlp_1 = Dense(32, activation='relu')(mlp_1)\n",
    "mlp_1 = BatchNormalization()(mlp_1)\n",
    "mlp_1 = Dropout(dropout)(mlp_1)\n",
    "\n",
    "mlp_1 = Dense(16, activation='relu')(mlp_1)\n",
    "mlp_1 = BatchNormalization()(mlp_1)\n",
    "mlp_1 = Dropout(dropout)(mlp_1)\n",
    "\n",
    "# * START BRANCH \n",
    "#mlp_2 = Dense(1024, activation='relu')(ff_inputs)\n",
    "#mlp_2 = BatchNormalization()(mlp_2)\n",
    "#mlp_2 = Dropout(dropout)(mlp_2)\n",
    "\n",
    "#mlp_2 = Dense(512, activation='relu')(ff_inputs)\n",
    "#mlp_2 = BatchNormalization()(mlp_2)\n",
    "#mlp_2 = Dropout(dropout)(mlp_2)\n",
    "\n",
    "#mlp_2 = Dense(256, activation='relu')(ff_inputs)\n",
    "#mlp_2 = BatchNormalization()(mlp_2)\n",
    "#mlp_2 = Dropout(dropout)(mlp_2)\n",
    "\n",
    "mlp_2 = Dense(128, activation='relu')(ff_inputs)\n",
    "mlp_2 = BatchNormalization()(mlp_2)\n",
    "mlp_2 = Dropout(dropout)(mlp_2)\n",
    "\n",
    "mlp_2 = Dense(64, activation='relu')(mlp_2)\n",
    "mlp_2 = BatchNormalization()(mlp_2)\n",
    "mlp_2 = Dropout(dropout)(mlp_2)\n",
    "\n",
    "mlp_2 = Dense(32, activation='relu')(mlp_2)\n",
    "mlp_2 = BatchNormalization()(mlp_2)\n",
    "mlp_2 = Dropout(dropout)(mlp_2)\n",
    "\n",
    "mlp_2 = Dense(16, activation='relu')(mlp_2)\n",
    "mlp_2 = BatchNormalization()(mlp_2)\n",
    "mlp_2 = Dropout(dropout)(mlp_2)\n",
    "\n",
    "\n",
    "merged_tabular = Concatenate(axis=1)([mlp_1, mlp_2])\n",
    "\n",
    "\n",
    "ff_model = Model(inputs = ff_inputs, outputs = merged_tabular)"
   ]
  },
  {
   "cell_type": "markdown",
   "metadata": {},
   "source": [
    "---\n",
    "<a id=\"section52\"></a>\n",
    "# <font color=\"#004D7F\" size=5> 5.2. CNN for TINTOlib images</font>\n",
    "\n",
    "This is an example of a simple CNN for TINTOlib images. Note that we are not looking for the optimization of the CNN but to show an example of TINTOlib execution."
   ]
  },
  {
   "cell_type": "code",
   "execution_count": 13,
   "metadata": {},
   "outputs": [],
   "source": [
    "#Input\n",
    "#input_shape = Input(shape=imgs_shape)\n",
    "input_shape = Input(shape=(pixel, pixel, 1))\n",
    "\n",
    "#Inicio de rama 1\n",
    "tower_1 = Conv2D(16, (3,3), activation='relu',padding=\"same\")(input_shape)\n",
    "tower_1 = BatchNormalization()(tower_1)\n",
    "#tower_1 = Activation('relu')(tower_1)\n",
    "tower_1 = MaxPooling2D(2,2)(tower_1)\n",
    "tower_1 = Dropout(dropout)(tower_1)\n",
    "        \n",
    "tower_1 = Conv2D(32, (3,3), activation='relu',padding=\"same\")(tower_1)\n",
    "tower_1 = BatchNormalization()(tower_1)\n",
    "#tower_1 = Activation('relu')(tower_1)\n",
    "tower_1 = MaxPooling2D(2,2)(tower_1)\n",
    "tower_1 = Dropout(dropout)(tower_1)\n",
    "        \n",
    "#tower_1 = Conv2D(64, (3,3), activation='relu',padding=\"same\")(tower_1)\n",
    "#tower_1 = BatchNormalization()(tower_1)\n",
    "#tower_1 = Activation('relu')(tower_1)\n",
    "#tower_1 = MaxPooling2D(2,2)(tower_1)\n",
    "#tower_1 = Dropout(dropout)(tower_1)\n",
    "        \n",
    "#tower_1 = Conv2D(64, (3,3), activation='relu',padding=\"same\")(tower_1)\n",
    "#tower_1 = BatchNormalization()(tower_1)\n",
    "#tower_1 = Activation('relu')(tower_1)\n",
    "#tower_1 = MaxPooling2D(2,2)(tower_1)\n",
    "#tower_1 = Dropout(dropout)(tower_1)\n",
    "#Fin de rama 1\n",
    "        \n",
    "#Inicio de rama 2\n",
    "tower_2 = Conv2D(16, (5,5), activation='relu',padding=\"same\")(input_shape)\n",
    "tower_2 = BatchNormalization()(tower_2)\n",
    "#tower_2 = Activation('relu')(tower_2)\n",
    "tower_2 = AveragePooling2D(2,2)(tower_2)\n",
    "tower_2 = Dropout(dropout)(tower_2)\n",
    "        \n",
    "tower_2 = Conv2D(32, (5,5), activation='relu',padding=\"same\")(tower_2)\n",
    "tower_2 = BatchNormalization()(tower_2)\n",
    "#tower_2 = Activation('relu')(tower_2)\n",
    "tower_2 = AveragePooling2D(2,2)(tower_2)\n",
    "tower_2 = Dropout(dropout)(tower_2)\n",
    "\n",
    "#tower_2 = Conv2D(64, (5,5), padding=\"same\")(tower_2)\n",
    "#tower_2 = BatchNormalization()(tower_2)\n",
    "#tower_2 = Activation('relu')(tower_2)\n",
    "#tower_2 = AveragePooling2D(2,2)(tower_2)\n",
    "#tower_2 = Dropout(dropout)(tower_2)\n",
    "\n",
    "#Concatenate CNN branches\n",
    "merged = Concatenate(axis=1)([tower_1, tower_2])\n",
    "\n",
    "#Flatten\n",
    "merged = Flatten()(merged)\n",
    "\n",
    "#Dense layers\n",
    "#out = Dense(256, activation='relu')(merged)\n",
    "#out = Dropout(dropout)(merged)\n",
    "out = Dense(128, activation='sigmoid')(merged)\n",
    "out = Dropout(dropout)(out)\n",
    "out = Dense(64, activation='sigmoid')(out)\n",
    "out = Dropout(dropout)(out)\n",
    "out = Dense(32, activation='sigmoid')(out)\n",
    "out = Dropout(dropout)(out)\n",
    "\n",
    "cnn_model = Model(input_shape, out)"
   ]
  },
  {
   "cell_type": "markdown",
   "metadata": {},
   "source": [
    "---\n",
    "<a id=\"section53\"></a>\n",
    "# <font color=\"#004D7F\" size=5> 5.3. Concatenate branches</font>\n",
    "\n",
    "Finally, we must concatenate the output of the CNN branch with the output of the FFNN branch in a final FFNN that will give the predictions."
   ]
  },
  {
   "cell_type": "code",
   "execution_count": 14,
   "metadata": {},
   "outputs": [],
   "source": [
    "combinedInput = concatenate([ff_model.output, cnn_model.output])\n",
    "x = Dense(128, activation=\"relu\")(combinedInput)\n",
    "x = BatchNormalization()(x)\n",
    "x = Dropout(dropout)(x)\n",
    "x = Dense(64, activation=\"relu\")(x)\n",
    "x = BatchNormalization()(x)\n",
    "x = Dropout(dropout)(x)\n",
    "x = Dense(32, activation=\"sigmoid\")(x)\n",
    "x = BatchNormalization()(x)\n",
    "x = Dropout(dropout)(x)\n",
    "x = Dense(1, activation=\"sigmoid\")(x)\n",
    "\n",
    "model = Model(inputs=[ff_model.input, cnn_model.input], outputs=x)"
   ]
  },
  {
   "cell_type": "markdown",
   "metadata": {},
   "source": [
    "---\n",
    "<a id=\"section54\"></a>\n",
    "# <font color=\"#004D7F\" size=5> 5.4. Metrics</font>\n",
    "\n",
    "Define metrics and some hyperparameters"
   ]
  },
  {
   "cell_type": "code",
   "execution_count": 15,
   "metadata": {},
   "outputs": [],
   "source": [
    "METRICS = [\n",
    "    tf.keras.metrics.TruePositives(name = 'tp'),\n",
    "    tf.keras.metrics.FalsePositives(name = 'fp'),\n",
    "    tf.keras.metrics.TrueNegatives(name = 'tn'),\n",
    "    tf.keras.metrics.FalseNegatives(name = 'fn'), \n",
    "    tf.keras.metrics.BinaryAccuracy(name ='accuracy'),\n",
    "    tf.keras.metrics.Precision(name = 'precision'),\n",
    "    tf.keras.metrics.Recall(name = 'recall'),\n",
    "    tf.keras.metrics.AUC(name = 'auc'),\n",
    "]"
   ]
  },
  {
   "cell_type": "markdown",
   "metadata": {},
   "source": [
    "---\n",
    "<a id=\"section55\"></a>\n",
    "# <font color=\"#004D7F\" size=5> 5.5. Compile and fit</font>\n",
    "\n",
    "Note to specify the **loss depending** on whether you have a binary or multiclass classification problem."
   ]
  },
  {
   "cell_type": "code",
   "execution_count": 16,
   "metadata": {},
   "outputs": [],
   "source": [
    "#HYPERPARAMETERS\n",
    "opt = Adamax(learning_rate=0.005)\n",
    "#Adam(learning_rate=1e-3)"
   ]
  },
  {
   "cell_type": "code",
   "execution_count": 17,
   "metadata": {},
   "outputs": [],
   "source": [
    "model.compile(\n",
    "    loss=\"binary_crossentropy\", \n",
    "    optimizer=opt,\n",
    "    metrics = METRICS\n",
    ")\n",
    "epochs = 100"
   ]
  },
  {
   "cell_type": "code",
   "execution_count": 18,
   "metadata": {},
   "outputs": [],
   "source": [
    "# Configure EarlyStopping for binary classification\n",
    "early_stopper = tf.keras.callbacks.EarlyStopping(\n",
    "    monitor='val_loss',  # Monitor the validation accuracy\n",
    "    min_delta=0.001,         # Minimum change in the monitored quantity to qualify as an improvement\n",
    "    patience=20,             # Number of epochs with no improvement after which training will be stopped\n",
    "    verbose=1,               # Log when training stops\n",
    "    mode='min',              # Maximize the accuracy; min the loss\n",
    "    restore_best_weights=True  # Restore model weights from the epoch with the best value of the monitored quantity\n",
    ")"
   ]
  },
  {
   "cell_type": "code",
   "execution_count": 19,
   "metadata": {
    "scrolled": true
   },
   "outputs": [
    {
     "name": "stdout",
     "output_type": "stream",
     "text": [
      "Epoch 1/100\n"
     ]
    },
    {
     "name": "stderr",
     "output_type": "stream",
     "text": [
      "/Users/manwest/Library/Python/3.9/lib/python/site-packages/keras/src/models/functional.py:225: UserWarning: The structure of `inputs` doesn't match the expected structure: ['keras_tensor', 'keras_tensor_26']. Received: the structure of inputs=('*', '*')\n",
      "  warnings.warn(\n",
      "2024-12-13 11:26:01.262954: I tensorflow/core/grappler/optimizers/custom_graph_optimizer_registry.cc:117] Plugin optimizer for device_type GPU is enabled.\n"
     ]
    },
    {
     "name": "stdout",
     "output_type": "stream",
     "text": [
      "\u001b[1m447/447\u001b[0m \u001b[32m━━━━━━━━━━━━━━━━━━━━\u001b[0m\u001b[37m\u001b[0m \u001b[1m0s\u001b[0m 138ms/step - accuracy: 0.8324 - auc: 0.6026 - fn: 515.2797 - fp: 415.3356 - loss: 0.4134 - precision: 0.0967 - recall: 0.1264 - tn: 6192.1206 - tp: 45.2215"
     ]
    },
    {
     "name": "stderr",
     "output_type": "stream",
     "text": [
      "/Users/manwest/Library/Python/3.9/lib/python/site-packages/keras/src/models/functional.py:225: UserWarning: The structure of `inputs` doesn't match the expected structure: ['keras_tensor', 'keras_tensor_26']. Received: the structure of inputs=('*', '*')\n",
      "  warnings.warn(\n"
     ]
    },
    {
     "name": "stdout",
     "output_type": "stream",
     "text": [
      "\u001b[1m447/447\u001b[0m \u001b[32m━━━━━━━━━━━━━━━━━━━━\u001b[0m\u001b[37m\u001b[0m \u001b[1m73s\u001b[0m 145ms/step - accuracy: 0.8326 - auc: 0.6027 - fn: 516.4241 - fp: 415.4598 - loss: 0.4131 - precision: 0.0968 - recall: 0.1262 - tn: 6206.6987 - tp: 45.2612 - val_accuracy: 0.9236 - val_auc: 0.8099 - val_fn: 364.0000 - val_fp: 0.0000e+00 - val_loss: 0.2461 - val_precision: 0.0000e+00 - val_recall: 0.0000e+00 - val_tn: 4398.0000 - val_tp: 0.0000e+00\n",
      "Epoch 2/100\n",
      "\u001b[1m447/447\u001b[0m \u001b[32m━━━━━━━━━━━━━━━━━━━━\u001b[0m\u001b[37m\u001b[0m \u001b[1m58s\u001b[0m 129ms/step - accuracy: 0.9196 - auc: 0.7313 - fn: 540.8170 - fp: 39.1339 - loss: 0.2531 - precision: 0.3454 - recall: 0.0358 - tn: 6583.0244 - tp: 20.8683 - val_accuracy: 0.9265 - val_auc: 0.7965 - val_fn: 350.0000 - val_fp: 0.0000e+00 - val_loss: 0.2242 - val_precision: 1.0000 - val_recall: 0.0385 - val_tn: 4398.0000 - val_tp: 14.0000\n",
      "Epoch 3/100\n",
      "\u001b[1m447/447\u001b[0m \u001b[32m━━━━━━━━━━━━━━━━━━━━\u001b[0m\u001b[37m\u001b[0m \u001b[1m57s\u001b[0m 128ms/step - accuracy: 0.9197 - auc: 0.7615 - fn: 547.4241 - fp: 28.7902 - loss: 0.2444 - precision: 0.3007 - recall: 0.0220 - tn: 6593.3682 - tp: 14.2612 - val_accuracy: 0.9284 - val_auc: 0.8339 - val_fn: 336.0000 - val_fp: 5.0000 - val_loss: 0.2078 - val_precision: 0.8485 - val_recall: 0.0769 - val_tn: 4393.0000 - val_tp: 28.0000\n",
      "Epoch 4/100\n",
      "\u001b[1m447/447\u001b[0m \u001b[32m━━━━━━━━━━━━━━━━━━━━\u001b[0m\u001b[37m\u001b[0m \u001b[1m56s\u001b[0m 125ms/step - accuracy: 0.9210 - auc: 0.7829 - fn: 531.5156 - fp: 33.8750 - loss: 0.2355 - precision: 0.4629 - recall: 0.0563 - tn: 6588.2837 - tp: 30.1696 - val_accuracy: 0.9271 - val_auc: 0.8350 - val_fn: 345.0000 - val_fp: 2.0000 - val_loss: 0.2075 - val_precision: 0.9048 - val_recall: 0.0522 - val_tn: 4396.0000 - val_tp: 19.0000\n",
      "Epoch 5/100\n",
      "\u001b[1m447/447\u001b[0m \u001b[32m━━━━━━━━━━━━━━━━━━━━\u001b[0m\u001b[37m\u001b[0m \u001b[1m56s\u001b[0m 126ms/step - accuracy: 0.9213 - auc: 0.7972 - fn: 526.6607 - fp: 33.5915 - loss: 0.2296 - precision: 0.4655 - recall: 0.0588 - tn: 6588.5669 - tp: 35.0246 - val_accuracy: 0.9328 - val_auc: 0.8246 - val_fn: 306.0000 - val_fp: 14.0000 - val_loss: 0.2138 - val_precision: 0.8056 - val_recall: 0.1593 - val_tn: 4384.0000 - val_tp: 58.0000\n",
      "Epoch 6/100\n",
      "\u001b[1m447/447\u001b[0m \u001b[32m━━━━━━━━━━━━━━━━━━━━\u001b[0m\u001b[37m\u001b[0m \u001b[1m57s\u001b[0m 129ms/step - accuracy: 0.9219 - auc: 0.8015 - fn: 524.4799 - fp: 35.8214 - loss: 0.2269 - precision: 0.4977 - recall: 0.0679 - tn: 6586.3369 - tp: 37.2054 - val_accuracy: 0.9294 - val_auc: 0.8425 - val_fn: 331.0000 - val_fp: 5.0000 - val_loss: 0.2035 - val_precision: 0.8684 - val_recall: 0.0907 - val_tn: 4393.0000 - val_tp: 33.0000\n",
      "Epoch 7/100\n",
      "\u001b[1m447/447\u001b[0m \u001b[32m━━━━━━━━━━━━━━━━━━━━\u001b[0m\u001b[37m\u001b[0m \u001b[1m57s\u001b[0m 127ms/step - accuracy: 0.9226 - auc: 0.7973 - fn: 524.8817 - fp: 32.7567 - loss: 0.2275 - precision: 0.5334 - recall: 0.0723 - tn: 6589.4019 - tp: 36.8036 - val_accuracy: 0.9299 - val_auc: 0.8216 - val_fn: 327.0000 - val_fp: 7.0000 - val_loss: 0.2132 - val_precision: 0.8409 - val_recall: 0.1016 - val_tn: 4391.0000 - val_tp: 37.0000\n",
      "Epoch 8/100\n",
      "\u001b[1m447/447\u001b[0m \u001b[32m━━━━━━━━━━━━━━━━━━━━\u001b[0m\u001b[37m\u001b[0m \u001b[1m57s\u001b[0m 128ms/step - accuracy: 0.9223 - auc: 0.8009 - fn: 523.0781 - fp: 34.5670 - loss: 0.2259 - precision: 0.5227 - recall: 0.0685 - tn: 6587.5913 - tp: 38.6071 - val_accuracy: 0.9341 - val_auc: 0.8332 - val_fn: 287.0000 - val_fp: 27.0000 - val_loss: 0.2050 - val_precision: 0.7404 - val_recall: 0.2115 - val_tn: 4371.0000 - val_tp: 77.0000\n",
      "Epoch 9/100\n",
      "\u001b[1m447/447\u001b[0m \u001b[32m━━━━━━━━━━━━━━━━━━━━\u001b[0m\u001b[37m\u001b[0m \u001b[1m57s\u001b[0m 128ms/step - accuracy: 0.9203 - auc: 0.8066 - fn: 527.7255 - fp: 39.3862 - loss: 0.2250 - precision: 0.4480 - recall: 0.0667 - tn: 6582.7725 - tp: 33.9598 - val_accuracy: 0.9320 - val_auc: 0.8242 - val_fn: 306.0000 - val_fp: 18.0000 - val_loss: 0.2137 - val_precision: 0.7632 - val_recall: 0.1593 - val_tn: 4380.0000 - val_tp: 58.0000\n",
      "Epoch 10/100\n",
      "\u001b[1m447/447\u001b[0m \u001b[32m━━━━━━━━━━━━━━━━━━━━\u001b[0m\u001b[37m\u001b[0m \u001b[1m56s\u001b[0m 125ms/step - accuracy: 0.9225 - auc: 0.8028 - fn: 530.0245 - fp: 26.9464 - loss: 0.2256 - precision: 0.5456 - recall: 0.0574 - tn: 6595.2119 - tp: 31.6607 - val_accuracy: 0.9307 - val_auc: 0.8315 - val_fn: 328.0000 - val_fp: 2.0000 - val_loss: 0.2074 - val_precision: 0.9474 - val_recall: 0.0989 - val_tn: 4396.0000 - val_tp: 36.0000\n",
      "Epoch 11/100\n",
      "\u001b[1m447/447\u001b[0m \u001b[32m━━━━━━━━━━━━━━━━━━━━\u001b[0m\u001b[37m\u001b[0m \u001b[1m50s\u001b[0m 113ms/step - accuracy: 0.9217 - auc: 0.8119 - fn: 534.5692 - fp: 26.5379 - loss: 0.2229 - precision: 0.4880 - recall: 0.0480 - tn: 6595.6206 - tp: 27.1161 - val_accuracy: 0.9236 - val_auc: 0.8407 - val_fn: 364.0000 - val_fp: 0.0000e+00 - val_loss: 0.2056 - val_precision: 0.0000e+00 - val_recall: 0.0000e+00 - val_tn: 4398.0000 - val_tp: 0.0000e+00\n",
      "Epoch 12/100\n",
      "\u001b[1m447/447\u001b[0m \u001b[32m━━━━━━━━━━━━━━━━━━━━\u001b[0m\u001b[37m\u001b[0m \u001b[1m44s\u001b[0m 98ms/step - accuracy: 0.9227 - auc: 0.8157 - fn: 531.5290 - fp: 23.3036 - loss: 0.2208 - precision: 0.5698 - recall: 0.0524 - tn: 6598.8550 - tp: 30.1562 - val_accuracy: 0.9313 - val_auc: 0.8358 - val_fn: 319.0000 - val_fp: 8.0000 - val_loss: 0.2078 - val_precision: 0.8491 - val_recall: 0.1236 - val_tn: 4390.0000 - val_tp: 45.0000\n",
      "Epoch 13/100\n",
      "\u001b[1m447/447\u001b[0m \u001b[32m━━━━━━━━━━━━━━━━━━━━\u001b[0m\u001b[37m\u001b[0m \u001b[1m43s\u001b[0m 95ms/step - accuracy: 0.9249 - auc: 0.8153 - fn: 515.5290 - fp: 28.3304 - loss: 0.2206 - precision: 0.6342 - recall: 0.0920 - tn: 6593.8281 - tp: 46.1562 - val_accuracy: 0.9236 - val_auc: 0.8396 - val_fn: 364.0000 - val_fp: 0.0000e+00 - val_loss: 0.2061 - val_precision: 0.0000e+00 - val_recall: 0.0000e+00 - val_tn: 4398.0000 - val_tp: 0.0000e+00\n",
      "Epoch 14/100\n",
      "\u001b[1m447/447\u001b[0m \u001b[32m━━━━━━━━━━━━━━━━━━━━\u001b[0m\u001b[37m\u001b[0m \u001b[1m43s\u001b[0m 96ms/step - accuracy: 0.9257 - auc: 0.8149 - fn: 509.2411 - fp: 26.0960 - loss: 0.2213 - precision: 0.6988 - recall: 0.0923 - tn: 6596.0625 - tp: 52.4442 - val_accuracy: 0.9328 - val_auc: 0.8406 - val_fn: 306.0000 - val_fp: 14.0000 - val_loss: 0.2035 - val_precision: 0.8056 - val_recall: 0.1593 - val_tn: 4384.0000 - val_tp: 58.0000\n",
      "Epoch 15/100\n",
      "\u001b[1m447/447\u001b[0m \u001b[32m━━━━━━━━━━━━━━━━━━━━\u001b[0m\u001b[37m\u001b[0m \u001b[1m42s\u001b[0m 94ms/step - accuracy: 0.9245 - auc: 0.8282 - fn: 493.1496 - fp: 55.4554 - loss: 0.2142 - precision: 0.5616 - recall: 0.1337 - tn: 6566.7031 - tp: 68.5357 - val_accuracy: 0.9320 - val_auc: 0.8313 - val_fn: 310.0000 - val_fp: 14.0000 - val_loss: 0.2087 - val_precision: 0.7941 - val_recall: 0.1484 - val_tn: 4384.0000 - val_tp: 54.0000\n",
      "Epoch 16/100\n",
      "\u001b[1m447/447\u001b[0m \u001b[32m━━━━━━━━━━━━━━━━━━━━\u001b[0m\u001b[37m\u001b[0m \u001b[1m42s\u001b[0m 95ms/step - accuracy: 0.9223 - auc: 0.8259 - fn: 498.1362 - fp: 56.7924 - loss: 0.2156 - precision: 0.5137 - recall: 0.1163 - tn: 6565.3662 - tp: 63.5491 - val_accuracy: 0.9318 - val_auc: 0.8393 - val_fn: 319.0000 - val_fp: 6.0000 - val_loss: 0.2063 - val_precision: 0.8824 - val_recall: 0.1236 - val_tn: 4392.0000 - val_tp: 45.0000\n",
      "Epoch 17/100\n",
      "\u001b[1m447/447\u001b[0m \u001b[32m━━━━━━━━━━━━━━━━━━━━\u001b[0m\u001b[37m\u001b[0m \u001b[1m45s\u001b[0m 101ms/step - accuracy: 0.9249 - auc: 0.8268 - fn: 489.8036 - fp: 47.5179 - loss: 0.2159 - precision: 0.5806 - recall: 0.1262 - tn: 6574.6406 - tp: 71.8817 - val_accuracy: 0.9332 - val_auc: 0.8391 - val_fn: 310.0000 - val_fp: 8.0000 - val_loss: 0.2038 - val_precision: 0.8710 - val_recall: 0.1484 - val_tn: 4390.0000 - val_tp: 54.0000\n",
      "Epoch 18/100\n",
      "\u001b[1m447/447\u001b[0m \u001b[32m━━━━━━━━━━━━━━━━━━━━\u001b[0m\u001b[37m\u001b[0m \u001b[1m46s\u001b[0m 103ms/step - accuracy: 0.9291 - auc: 0.8280 - fn: 481.2500 - fp: 32.1964 - loss: 0.2152 - precision: 0.7389 - recall: 0.1464 - tn: 6589.9619 - tp: 80.4353 - val_accuracy: 0.9345 - val_auc: 0.8429 - val_fn: 298.0000 - val_fp: 14.0000 - val_loss: 0.2023 - val_precision: 0.8250 - val_recall: 0.1813 - val_tn: 4384.0000 - val_tp: 66.0000\n",
      "Epoch 19/100\n",
      "\u001b[1m447/447\u001b[0m \u001b[32m━━━━━━━━━━━━━━━━━━━━\u001b[0m\u001b[37m\u001b[0m \u001b[1m44s\u001b[0m 99ms/step - accuracy: 0.9268 - auc: 0.8265 - fn: 486.4308 - fp: 39.7299 - loss: 0.2157 - precision: 0.6689 - recall: 0.1286 - tn: 6582.4287 - tp: 75.2545 - val_accuracy: 0.9322 - val_auc: 0.8302 - val_fn: 308.0000 - val_fp: 15.0000 - val_loss: 0.2082 - val_precision: 0.7887 - val_recall: 0.1538 - val_tn: 4383.0000 - val_tp: 56.0000\n",
      "Epoch 20/100\n",
      "\u001b[1m447/447\u001b[0m \u001b[32m━━━━━━━━━━━━━━━━━━━━\u001b[0m\u001b[37m\u001b[0m \u001b[1m43s\u001b[0m 97ms/step - accuracy: 0.9246 - auc: 0.8225 - fn: 499.1295 - fp: 42.8013 - loss: 0.2175 - precision: 0.5833 - recall: 0.1110 - tn: 6579.3569 - tp: 62.5558 - val_accuracy: 0.9357 - val_auc: 0.8391 - val_fn: 281.0000 - val_fp: 25.0000 - val_loss: 0.2019 - val_precision: 0.7685 - val_recall: 0.2280 - val_tn: 4373.0000 - val_tp: 83.0000\n",
      "Epoch 21/100\n",
      "\u001b[1m447/447\u001b[0m \u001b[32m━━━━━━━━━━━━━━━━━━━━\u001b[0m\u001b[37m\u001b[0m \u001b[1m44s\u001b[0m 98ms/step - accuracy: 0.9279 - auc: 0.8322 - fn: 482.7143 - fp: 41.1562 - loss: 0.2134 - precision: 0.6746 - recall: 0.1497 - tn: 6581.0024 - tp: 78.9710 - val_accuracy: 0.9360 - val_auc: 0.8413 - val_fn: 264.0000 - val_fp: 41.0000 - val_loss: 0.2084 - val_precision: 0.7092 - val_recall: 0.2747 - val_tn: 4357.0000 - val_tp: 100.0000\n",
      "Epoch 22/100\n",
      "\u001b[1m447/447\u001b[0m \u001b[32m━━━━━━━━━━━━━━━━━━━━\u001b[0m\u001b[37m\u001b[0m \u001b[1m43s\u001b[0m 97ms/step - accuracy: 0.9267 - auc: 0.8334 - fn: 481.8996 - fp: 48.7299 - loss: 0.2125 - precision: 0.6380 - recall: 0.1504 - tn: 6573.4287 - tp: 79.7857 - val_accuracy: 0.9360 - val_auc: 0.8316 - val_fn: 281.0000 - val_fp: 24.0000 - val_loss: 0.2098 - val_precision: 0.7757 - val_recall: 0.2280 - val_tn: 4374.0000 - val_tp: 83.0000\n",
      "Epoch 23/100\n",
      "\u001b[1m447/447\u001b[0m \u001b[32m━━━━━━━━━━━━━━━━━━━━\u001b[0m\u001b[37m\u001b[0m \u001b[1m44s\u001b[0m 98ms/step - accuracy: 0.9256 - auc: 0.8274 - fn: 488.4955 - fp: 46.5625 - loss: 0.2147 - precision: 0.6230 - recall: 0.1282 - tn: 6575.5962 - tp: 73.1897 - val_accuracy: 0.9341 - val_auc: 0.8286 - val_fn: 300.0000 - val_fp: 14.0000 - val_loss: 0.2086 - val_precision: 0.8205 - val_recall: 0.1758 - val_tn: 4384.0000 - val_tp: 64.0000\n",
      "Epoch 24/100\n",
      "\u001b[1m447/447\u001b[0m \u001b[32m━━━━━━━━━━━━━━━━━━━━\u001b[0m\u001b[37m\u001b[0m \u001b[1m44s\u001b[0m 98ms/step - accuracy: 0.9257 - auc: 0.8192 - fn: 486.2254 - fp: 48.8594 - loss: 0.2179 - precision: 0.6199 - recall: 0.1319 - tn: 6573.2993 - tp: 75.4598 - val_accuracy: 0.9332 - val_auc: 0.8372 - val_fn: 305.0000 - val_fp: 13.0000 - val_loss: 0.2068 - val_precision: 0.8194 - val_recall: 0.1621 - val_tn: 4385.0000 - val_tp: 59.0000\n",
      "Epoch 25/100\n",
      "\u001b[1m447/447\u001b[0m \u001b[32m━━━━━━━━━━━━━━━━━━━━\u001b[0m\u001b[37m\u001b[0m \u001b[1m44s\u001b[0m 99ms/step - accuracy: 0.9221 - auc: 0.8261 - fn: 492.1875 - fp: 65.3058 - loss: 0.2162 - precision: 0.5081 - recall: 0.1327 - tn: 6556.8525 - tp: 69.4978 - val_accuracy: 0.9311 - val_auc: 0.8422 - val_fn: 323.0000 - val_fp: 5.0000 - val_loss: 0.2048 - val_precision: 0.8913 - val_recall: 0.1126 - val_tn: 4393.0000 - val_tp: 41.0000\n",
      "Epoch 26/100\n",
      "\u001b[1m447/447\u001b[0m \u001b[32m━━━━━━━━━━━━━━━━━━━━\u001b[0m\u001b[37m\u001b[0m \u001b[1m44s\u001b[0m 99ms/step - accuracy: 0.9261 - auc: 0.8276 - fn: 489.1920 - fp: 40.5848 - loss: 0.2154 - precision: 0.6390 - recall: 0.1239 - tn: 6581.5737 - tp: 72.4933 - val_accuracy: 0.9341 - val_auc: 0.8437 - val_fn: 278.0000 - val_fp: 36.0000 - val_loss: 0.2016 - val_precision: 0.7049 - val_recall: 0.2363 - val_tn: 4362.0000 - val_tp: 86.0000\n",
      "Epoch 27/100\n",
      "\u001b[1m447/447\u001b[0m \u001b[32m━━━━━━━━━━━━━━━━━━━━\u001b[0m\u001b[37m\u001b[0m \u001b[1m44s\u001b[0m 99ms/step - accuracy: 0.9253 - auc: 0.8226 - fn: 486.9665 - fp: 50.6763 - loss: 0.2169 - precision: 0.5915 - recall: 0.1375 - tn: 6571.4819 - tp: 74.7188 - val_accuracy: 0.9381 - val_auc: 0.8426 - val_fn: 274.0000 - val_fp: 21.0000 - val_loss: 0.2007 - val_precision: 0.8108 - val_recall: 0.2473 - val_tn: 4377.0000 - val_tp: 90.0000\n",
      "Epoch 28/100\n",
      "\u001b[1m447/447\u001b[0m \u001b[32m━━━━━━━━━━━━━━━━━━━━\u001b[0m\u001b[37m\u001b[0m \u001b[1m44s\u001b[0m 99ms/step - accuracy: 0.9254 - auc: 0.8294 - fn: 484.7567 - fp: 53.6339 - loss: 0.2145 - precision: 0.5904 - recall: 0.1430 - tn: 6568.5244 - tp: 76.9286 - val_accuracy: 0.9355 - val_auc: 0.8447 - val_fn: 289.0000 - val_fp: 18.0000 - val_loss: 0.2007 - val_precision: 0.8065 - val_recall: 0.2060 - val_tn: 4380.0000 - val_tp: 75.0000\n",
      "Epoch 29/100\n",
      "\u001b[1m447/447\u001b[0m \u001b[32m━━━━━━━━━━━━━━━━━━━━\u001b[0m\u001b[37m\u001b[0m \u001b[1m44s\u001b[0m 99ms/step - accuracy: 0.9257 - auc: 0.8312 - fn: 485.7567 - fp: 46.4621 - loss: 0.2142 - precision: 0.6084 - recall: 0.1381 - tn: 6575.6963 - tp: 75.9286 - val_accuracy: 0.9366 - val_auc: 0.8487 - val_fn: 281.0000 - val_fp: 21.0000 - val_loss: 0.1987 - val_precision: 0.7981 - val_recall: 0.2280 - val_tn: 4377.0000 - val_tp: 83.0000\n",
      "Epoch 30/100\n",
      "\u001b[1m447/447\u001b[0m \u001b[32m━━━━━━━━━━━━━━━━━━━━\u001b[0m\u001b[37m\u001b[0m \u001b[1m44s\u001b[0m 99ms/step - accuracy: 0.9268 - auc: 0.8202 - fn: 481.2746 - fp: 44.7411 - loss: 0.2168 - precision: 0.6341 - recall: 0.1427 - tn: 6577.4175 - tp: 80.4107 - val_accuracy: 0.9357 - val_auc: 0.8454 - val_fn: 276.0000 - val_fp: 30.0000 - val_loss: 0.2030 - val_precision: 0.7458 - val_recall: 0.2418 - val_tn: 4368.0000 - val_tp: 88.0000\n",
      "Epoch 31/100\n",
      "\u001b[1m447/447\u001b[0m \u001b[32m━━━━━━━━━━━━━━━━━━━━\u001b[0m\u001b[37m\u001b[0m \u001b[1m44s\u001b[0m 99ms/step - accuracy: 0.9262 - auc: 0.8303 - fn: 480.7366 - fp: 52.6920 - loss: 0.2135 - precision: 0.6207 - recall: 0.1454 - tn: 6569.4663 - tp: 80.9487 - val_accuracy: 0.9343 - val_auc: 0.8441 - val_fn: 303.0000 - val_fp: 10.0000 - val_loss: 0.2021 - val_precision: 0.8592 - val_recall: 0.1676 - val_tn: 4388.0000 - val_tp: 61.0000\n",
      "Epoch 32/100\n",
      "\u001b[1m447/447\u001b[0m \u001b[32m━━━━━━━━━━━━━━━━━━━━\u001b[0m\u001b[37m\u001b[0m \u001b[1m44s\u001b[0m 99ms/step - accuracy: 0.9285 - auc: 0.8283 - fn: 469.4821 - fp: 49.9040 - loss: 0.2138 - precision: 0.6709 - recall: 0.1701 - tn: 6572.2544 - tp: 92.2031 - val_accuracy: 0.9368 - val_auc: 0.8439 - val_fn: 284.0000 - val_fp: 17.0000 - val_loss: 0.2001 - val_precision: 0.8247 - val_recall: 0.2198 - val_tn: 4381.0000 - val_tp: 80.0000\n",
      "Epoch 33/100\n",
      "\u001b[1m447/447\u001b[0m \u001b[32m━━━━━━━━━━━━━━━━━━━━\u001b[0m\u001b[37m\u001b[0m \u001b[1m46s\u001b[0m 102ms/step - accuracy: 0.9281 - auc: 0.8286 - fn: 470.0022 - fp: 48.8460 - loss: 0.2133 - precision: 0.6602 - recall: 0.1659 - tn: 6573.3125 - tp: 91.6830 - val_accuracy: 0.9355 - val_auc: 0.8478 - val_fn: 295.0000 - val_fp: 12.0000 - val_loss: 0.1983 - val_precision: 0.8519 - val_recall: 0.1896 - val_tn: 4386.0000 - val_tp: 69.0000\n",
      "Epoch 34/100\n",
      "\u001b[1m447/447\u001b[0m \u001b[32m━━━━━━━━━━━━━━━━━━━━\u001b[0m\u001b[37m\u001b[0m \u001b[1m46s\u001b[0m 102ms/step - accuracy: 0.9251 - auc: 0.8275 - fn: 472.8326 - fp: 64.3996 - loss: 0.2129 - precision: 0.5762 - recall: 0.1579 - tn: 6557.7588 - tp: 88.8527 - val_accuracy: 0.9364 - val_auc: 0.8429 - val_fn: 287.0000 - val_fp: 16.0000 - val_loss: 0.2011 - val_precision: 0.8280 - val_recall: 0.2115 - val_tn: 4382.0000 - val_tp: 77.0000\n",
      "Epoch 35/100\n",
      "\u001b[1m447/447\u001b[0m \u001b[32m━━━━━━━━━━━━━━━━━━━━\u001b[0m\u001b[37m\u001b[0m \u001b[1m46s\u001b[0m 102ms/step - accuracy: 0.9282 - auc: 0.8257 - fn: 464.5446 - fp: 55.5223 - loss: 0.2128 - precision: 0.6481 - recall: 0.1760 - tn: 6566.6362 - tp: 97.1406 - val_accuracy: 0.9326 - val_auc: 0.8437 - val_fn: 298.0000 - val_fp: 23.0000 - val_loss: 0.2041 - val_precision: 0.7416 - val_recall: 0.1813 - val_tn: 4375.0000 - val_tp: 66.0000\n",
      "Epoch 36/100\n",
      "\u001b[1m447/447\u001b[0m \u001b[32m━━━━━━━━━━━━━━━━━━━━\u001b[0m\u001b[37m\u001b[0m \u001b[1m44s\u001b[0m 99ms/step - accuracy: 0.9263 - auc: 0.8274 - fn: 487.2321 - fp: 46.0848 - loss: 0.2147 - precision: 0.6407 - recall: 0.1349 - tn: 6576.0737 - tp: 74.4531 - val_accuracy: 0.9324 - val_auc: 0.8448 - val_fn: 314.0000 - val_fp: 8.0000 - val_loss: 0.2056 - val_precision: 0.8621 - val_recall: 0.1374 - val_tn: 4390.0000 - val_tp: 50.0000\n",
      "Epoch 37/100\n",
      "\u001b[1m447/447\u001b[0m \u001b[32m━━━━━━━━━━━━━━━━━━━━\u001b[0m\u001b[37m\u001b[0m \u001b[1m46s\u001b[0m 103ms/step - accuracy: 0.9265 - auc: 0.8321 - fn: 474.7388 - fp: 50.9509 - loss: 0.2120 - precision: 0.6222 - recall: 0.1471 - tn: 6571.2075 - tp: 86.9464 - val_accuracy: 0.9370 - val_auc: 0.8434 - val_fn: 272.0000 - val_fp: 28.0000 - val_loss: 0.1999 - val_precision: 0.7667 - val_recall: 0.2527 - val_tn: 4370.0000 - val_tp: 92.0000\n",
      "Epoch 38/100\n",
      "\u001b[1m447/447\u001b[0m \u001b[32m━━━━━━━━━━━━━━━━━━━━\u001b[0m\u001b[37m\u001b[0m \u001b[1m46s\u001b[0m 102ms/step - accuracy: 0.9282 - auc: 0.8243 - fn: 467.3460 - fp: 51.1964 - loss: 0.2139 - precision: 0.6548 - recall: 0.1722 - tn: 6570.9619 - tp: 94.3393 - val_accuracy: 0.9341 - val_auc: 0.8419 - val_fn: 301.0000 - val_fp: 13.0000 - val_loss: 0.2003 - val_precision: 0.8289 - val_recall: 0.1731 - val_tn: 4385.0000 - val_tp: 63.0000\n",
      "Epoch 39/100\n",
      "\u001b[1m447/447\u001b[0m \u001b[32m━━━━━━━━━━━━━━━━━━━━\u001b[0m\u001b[37m\u001b[0m \u001b[1m45s\u001b[0m 101ms/step - accuracy: 0.9296 - auc: 0.8306 - fn: 469.6964 - fp: 39.1250 - loss: 0.2123 - precision: 0.7194 - recall: 0.1632 - tn: 6583.0337 - tp: 91.9888 - val_accuracy: 0.9309 - val_auc: 0.8390 - val_fn: 282.0000 - val_fp: 47.0000 - val_loss: 0.2055 - val_precision: 0.6357 - val_recall: 0.2253 - val_tn: 4351.0000 - val_tp: 82.0000\n",
      "Epoch 40/100\n",
      "\u001b[1m447/447\u001b[0m \u001b[32m━━━━━━━━━━━━━━━━━━━━\u001b[0m\u001b[37m\u001b[0m \u001b[1m45s\u001b[0m 102ms/step - accuracy: 0.9269 - auc: 0.8331 - fn: 472.1004 - fp: 58.9777 - loss: 0.2116 - precision: 0.6161 - recall: 0.1712 - tn: 6563.1807 - tp: 89.5848 - val_accuracy: 0.9347 - val_auc: 0.8415 - val_fn: 280.0000 - val_fp: 31.0000 - val_loss: 0.2003 - val_precision: 0.7304 - val_recall: 0.2308 - val_tn: 4367.0000 - val_tp: 84.0000\n",
      "Epoch 41/100\n",
      "\u001b[1m447/447\u001b[0m \u001b[32m━━━━━━━━━━━━━━━━━━━━\u001b[0m\u001b[37m\u001b[0m \u001b[1m43s\u001b[0m 97ms/step - accuracy: 0.9301 - auc: 0.8350 - fn: 458.2076 - fp: 46.4576 - loss: 0.2100 - precision: 0.7011 - recall: 0.1840 - tn: 6575.7007 - tp: 103.4777 - val_accuracy: 0.9374 - val_auc: 0.8417 - val_fn: 284.0000 - val_fp: 14.0000 - val_loss: 0.1981 - val_precision: 0.8511 - val_recall: 0.2198 - val_tn: 4384.0000 - val_tp: 80.0000\n",
      "Epoch 42/100\n",
      "\u001b[1m447/447\u001b[0m \u001b[32m━━━━━━━━━━━━━━━━━━━━\u001b[0m\u001b[37m\u001b[0m \u001b[1m44s\u001b[0m 99ms/step - accuracy: 0.9279 - auc: 0.8257 - fn: 470.4286 - fp: 48.3326 - loss: 0.2141 - precision: 0.6493 - recall: 0.1721 - tn: 6573.8257 - tp: 91.2567 - val_accuracy: 0.9336 - val_auc: 0.8420 - val_fn: 283.0000 - val_fp: 33.0000 - val_loss: 0.2021 - val_precision: 0.7105 - val_recall: 0.2225 - val_tn: 4365.0000 - val_tp: 81.0000\n",
      "Epoch 43/100\n",
      "\u001b[1m447/447\u001b[0m \u001b[32m━━━━━━━━━━━━━━━━━━━━\u001b[0m\u001b[37m\u001b[0m \u001b[1m44s\u001b[0m 99ms/step - accuracy: 0.9269 - auc: 0.8335 - fn: 459.7344 - fp: 62.9263 - loss: 0.2114 - precision: 0.6056 - recall: 0.1890 - tn: 6559.2319 - tp: 101.9509 - val_accuracy: 0.9339 - val_auc: 0.8448 - val_fn: 306.0000 - val_fp: 9.0000 - val_loss: 0.2011 - val_precision: 0.8657 - val_recall: 0.1593 - val_tn: 4389.0000 - val_tp: 58.0000\n",
      "Epoch 44/100\n",
      "\u001b[1m447/447\u001b[0m \u001b[32m━━━━━━━━━━━━━━━━━━━━\u001b[0m\u001b[37m\u001b[0m \u001b[1m44s\u001b[0m 99ms/step - accuracy: 0.9272 - auc: 0.8420 - fn: 465.6964 - fp: 60.6808 - loss: 0.2091 - precision: 0.6236 - recall: 0.1752 - tn: 6561.4775 - tp: 95.9888 - val_accuracy: 0.9339 - val_auc: 0.8412 - val_fn: 267.0000 - val_fp: 48.0000 - val_loss: 0.2044 - val_precision: 0.6690 - val_recall: 0.2665 - val_tn: 4350.0000 - val_tp: 97.0000\n",
      "Epoch 45/100\n",
      "\u001b[1m447/447\u001b[0m \u001b[32m━━━━━━━━━━━━━━━━━━━━\u001b[0m\u001b[37m\u001b[0m \u001b[1m44s\u001b[0m 98ms/step - accuracy: 0.9276 - auc: 0.8340 - fn: 468.3482 - fp: 54.3192 - loss: 0.2113 - precision: 0.6288 - recall: 0.1698 - tn: 6567.8394 - tp: 93.3371 - val_accuracy: 0.9345 - val_auc: 0.8449 - val_fn: 282.0000 - val_fp: 30.0000 - val_loss: 0.2011 - val_precision: 0.7321 - val_recall: 0.2253 - val_tn: 4368.0000 - val_tp: 82.0000\n",
      "Epoch 46/100\n",
      "\u001b[1m447/447\u001b[0m \u001b[32m━━━━━━━━━━━━━━━━━━━━\u001b[0m\u001b[37m\u001b[0m \u001b[1m44s\u001b[0m 99ms/step - accuracy: 0.9286 - auc: 0.8400 - fn: 468.7455 - fp: 47.3438 - loss: 0.2099 - precision: 0.6678 - recall: 0.1703 - tn: 6574.8149 - tp: 92.9397 - val_accuracy: 0.9334 - val_auc: 0.8371 - val_fn: 299.0000 - val_fp: 18.0000 - val_loss: 0.2053 - val_precision: 0.7831 - val_recall: 0.1786 - val_tn: 4380.0000 - val_tp: 65.0000\n",
      "Epoch 47/100\n",
      "\u001b[1m447/447\u001b[0m \u001b[32m━━━━━━━━━━━━━━━━━━━━\u001b[0m\u001b[37m\u001b[0m \u001b[1m45s\u001b[0m 100ms/step - accuracy: 0.9287 - auc: 0.8335 - fn: 457.1384 - fp: 54.5067 - loss: 0.2099 - precision: 0.6540 - recall: 0.1900 - tn: 6567.6519 - tp: 104.5469 - val_accuracy: 0.9345 - val_auc: 0.8446 - val_fn: 277.0000 - val_fp: 35.0000 - val_loss: 0.2011 - val_precision: 0.7131 - val_recall: 0.2390 - val_tn: 4363.0000 - val_tp: 87.0000\n",
      "Epoch 48/100\n",
      "\u001b[1m447/447\u001b[0m \u001b[32m━━━━━━━━━━━━━━━━━━━━\u001b[0m\u001b[37m\u001b[0m \u001b[1m44s\u001b[0m 99ms/step - accuracy: 0.9284 - auc: 0.8320 - fn: 458.2991 - fp: 55.9509 - loss: 0.2101 - precision: 0.6317 - recall: 0.1871 - tn: 6566.2075 - tp: 103.3862 - val_accuracy: 0.9368 - val_auc: 0.8478 - val_fn: 273.0000 - val_fp: 28.0000 - val_loss: 0.1974 - val_precision: 0.7647 - val_recall: 0.2500 - val_tn: 4370.0000 - val_tp: 91.0000\n",
      "Epoch 49/100\n",
      "\u001b[1m447/447\u001b[0m \u001b[32m━━━━━━━━━━━━━━━━━━━━\u001b[0m\u001b[37m\u001b[0m \u001b[1m44s\u001b[0m 98ms/step - accuracy: 0.9276 - auc: 0.8324 - fn: 474.2455 - fp: 49.0357 - loss: 0.2116 - precision: 0.6520 - recall: 0.1567 - tn: 6573.1226 - tp: 87.4397 - val_accuracy: 0.9341 - val_auc: 0.8439 - val_fn: 284.0000 - val_fp: 30.0000 - val_loss: 0.2003 - val_precision: 0.7273 - val_recall: 0.2198 - val_tn: 4368.0000 - val_tp: 80.0000\n",
      "Epoch 50/100\n",
      "\u001b[1m447/447\u001b[0m \u001b[32m━━━━━━━━━━━━━━━━━━━━\u001b[0m\u001b[37m\u001b[0m \u001b[1m43s\u001b[0m 97ms/step - accuracy: 0.9290 - auc: 0.8361 - fn: 453.0670 - fp: 60.9621 - loss: 0.2082 - precision: 0.6495 - recall: 0.1999 - tn: 6561.1963 - tp: 108.6183 - val_accuracy: 0.9362 - val_auc: 0.8435 - val_fn: 279.0000 - val_fp: 25.0000 - val_loss: 0.2001 - val_precision: 0.7727 - val_recall: 0.2335 - val_tn: 4373.0000 - val_tp: 85.0000\n",
      "Epoch 51/100\n",
      "\u001b[1m447/447\u001b[0m \u001b[32m━━━━━━━━━━━━━━━━━━━━\u001b[0m\u001b[37m\u001b[0m \u001b[1m43s\u001b[0m 97ms/step - accuracy: 0.9272 - auc: 0.8321 - fn: 465.1183 - fp: 56.0357 - loss: 0.2109 - precision: 0.6215 - recall: 0.1719 - tn: 6566.1226 - tp: 96.5670 - val_accuracy: 0.9330 - val_auc: 0.8395 - val_fn: 289.0000 - val_fp: 30.0000 - val_loss: 0.2030 - val_precision: 0.7143 - val_recall: 0.2060 - val_tn: 4368.0000 - val_tp: 75.0000\n",
      "Epoch 52/100\n",
      "\u001b[1m447/447\u001b[0m \u001b[32m━━━━━━━━━━━━━━━━━━━━\u001b[0m\u001b[37m\u001b[0m \u001b[1m43s\u001b[0m 97ms/step - accuracy: 0.9295 - auc: 0.8356 - fn: 456.6786 - fp: 49.2902 - loss: 0.2093 - precision: 0.6795 - recall: 0.1880 - tn: 6572.8682 - tp: 105.0067 - val_accuracy: 0.9357 - val_auc: 0.8436 - val_fn: 281.0000 - val_fp: 25.0000 - val_loss: 0.2000 - val_precision: 0.7685 - val_recall: 0.2280 - val_tn: 4373.0000 - val_tp: 83.0000\n",
      "Epoch 53/100\n",
      "\u001b[1m447/447\u001b[0m \u001b[32m━━━━━━━━━━━━━━━━━━━━\u001b[0m\u001b[37m\u001b[0m \u001b[1m44s\u001b[0m 98ms/step - accuracy: 0.9279 - auc: 0.8418 - fn: 460.2679 - fp: 55.0067 - loss: 0.2058 - precision: 0.6329 - recall: 0.1823 - tn: 6567.1519 - tp: 101.4174 - val_accuracy: 0.9332 - val_auc: 0.8464 - val_fn: 299.0000 - val_fp: 19.0000 - val_loss: 0.2004 - val_precision: 0.7738 - val_recall: 0.1786 - val_tn: 4379.0000 - val_tp: 65.0000\n",
      "Epoch 54/100\n",
      "\u001b[1m447/447\u001b[0m \u001b[32m━━━━━━━━━━━━━━━━━━━━\u001b[0m\u001b[37m\u001b[0m \u001b[1m44s\u001b[0m 98ms/step - accuracy: 0.9291 - auc: 0.8345 - fn: 463.7924 - fp: 46.6964 - loss: 0.2089 - precision: 0.6791 - recall: 0.1776 - tn: 6575.4619 - tp: 97.8929 - val_accuracy: 0.9347 - val_auc: 0.8327 - val_fn: 299.0000 - val_fp: 12.0000 - val_loss: 0.2033 - val_precision: 0.8442 - val_recall: 0.1786 - val_tn: 4386.0000 - val_tp: 65.0000\n",
      "Epoch 55/100\n",
      "\u001b[1m447/447\u001b[0m \u001b[32m━━━━━━━━━━━━━━━━━━━━\u001b[0m\u001b[37m\u001b[0m \u001b[1m44s\u001b[0m 99ms/step - accuracy: 0.9295 - auc: 0.8387 - fn: 449.9866 - fp: 59.0402 - loss: 0.2076 - precision: 0.6666 - recall: 0.1986 - tn: 6563.1182 - tp: 111.6987 - val_accuracy: 0.9336 - val_auc: 0.8492 - val_fn: 279.0000 - val_fp: 37.0000 - val_loss: 0.1996 - val_precision: 0.6967 - val_recall: 0.2335 - val_tn: 4361.0000 - val_tp: 85.0000\n",
      "Epoch 56/100\n",
      "\u001b[1m447/447\u001b[0m \u001b[32m━━━━━━━━━━━━━━━━━━━━\u001b[0m\u001b[37m\u001b[0m \u001b[1m45s\u001b[0m 100ms/step - accuracy: 0.9287 - auc: 0.8392 - fn: 455.3460 - fp: 56.4107 - loss: 0.2078 - precision: 0.6505 - recall: 0.1928 - tn: 6565.7476 - tp: 106.3393 - val_accuracy: 0.9357 - val_auc: 0.8414 - val_fn: 295.0000 - val_fp: 11.0000 - val_loss: 0.2014 - val_precision: 0.8625 - val_recall: 0.1896 - val_tn: 4387.0000 - val_tp: 69.0000\n",
      "Epoch 57/100\n",
      "\u001b[1m447/447\u001b[0m \u001b[32m━━━━━━━━━━━━━━━━━━━━\u001b[0m\u001b[37m\u001b[0m \u001b[1m44s\u001b[0m 98ms/step - accuracy: 0.9282 - auc: 0.8393 - fn: 469.1607 - fp: 44.6607 - loss: 0.2091 - precision: 0.6580 - recall: 0.1639 - tn: 6577.4976 - tp: 92.5246 - val_accuracy: 0.9360 - val_auc: 0.8442 - val_fn: 288.0000 - val_fp: 17.0000 - val_loss: 0.1993 - val_precision: 0.8172 - val_recall: 0.2088 - val_tn: 4381.0000 - val_tp: 76.0000\n",
      "Epoch 58/100\n",
      "\u001b[1m447/447\u001b[0m \u001b[32m━━━━━━━━━━━━━━━━━━━━\u001b[0m\u001b[37m\u001b[0m \u001b[1m45s\u001b[0m 100ms/step - accuracy: 0.9308 - auc: 0.8366 - fn: 453.4152 - fp: 50.7254 - loss: 0.2071 - precision: 0.7117 - recall: 0.1970 - tn: 6571.4331 - tp: 108.2701 - val_accuracy: 0.9357 - val_auc: 0.8373 - val_fn: 289.0000 - val_fp: 17.0000 - val_loss: 0.2024 - val_precision: 0.8152 - val_recall: 0.2060 - val_tn: 4381.0000 - val_tp: 75.0000\n",
      "Epoch 59/100\n",
      "\u001b[1m447/447\u001b[0m \u001b[32m━━━━━━━━━━━━━━━━━━━━\u001b[0m\u001b[37m\u001b[0m \u001b[1m44s\u001b[0m 99ms/step - accuracy: 0.9283 - auc: 0.8334 - fn: 457.5625 - fp: 51.6987 - loss: 0.2102 - precision: 0.6458 - recall: 0.1831 - tn: 6570.4600 - tp: 104.1228 - val_accuracy: 0.9366 - val_auc: 0.8446 - val_fn: 283.0000 - val_fp: 19.0000 - val_loss: 0.1995 - val_precision: 0.8100 - val_recall: 0.2225 - val_tn: 4379.0000 - val_tp: 81.0000\n",
      "Epoch 60/100\n",
      "\u001b[1m447/447\u001b[0m \u001b[32m━━━━━━━━━━━━━━━━━━━━\u001b[0m\u001b[37m\u001b[0m \u001b[1m44s\u001b[0m 99ms/step - accuracy: 0.9289 - auc: 0.8375 - fn: 452.1808 - fp: 55.7835 - loss: 0.2087 - precision: 0.6513 - recall: 0.1945 - tn: 6566.3750 - tp: 109.5045 - val_accuracy: 0.9318 - val_auc: 0.8396 - val_fn: 286.0000 - val_fp: 39.0000 - val_loss: 0.2029 - val_precision: 0.6667 - val_recall: 0.2143 - val_tn: 4359.0000 - val_tp: 78.0000\n",
      "Epoch 61/100\n",
      "\u001b[1m447/447\u001b[0m \u001b[32m━━━━━━━━━━━━━━━━━━━━\u001b[0m\u001b[37m\u001b[0m \u001b[1m50s\u001b[0m 111ms/step - accuracy: 0.9282 - auc: 0.8397 - fn: 469.2254 - fp: 46.3951 - loss: 0.2088 - precision: 0.6645 - recall: 0.1673 - tn: 6575.7632 - tp: 92.4598 - val_accuracy: 0.9339 - val_auc: 0.8393 - val_fn: 306.0000 - val_fp: 9.0000 - val_loss: 0.2049 - val_precision: 0.8657 - val_recall: 0.1593 - val_tn: 4389.0000 - val_tp: 58.0000\n",
      "Epoch 62/100\n",
      "\u001b[1m447/447\u001b[0m \u001b[32m━━━━━━━━━━━━━━━━━━━━\u001b[0m\u001b[37m\u001b[0m \u001b[1m47s\u001b[0m 105ms/step - accuracy: 0.9280 - auc: 0.8385 - fn: 457.6518 - fp: 57.4554 - loss: 0.2090 - precision: 0.6401 - recall: 0.1807 - tn: 6564.7031 - tp: 104.0335 - val_accuracy: 0.9334 - val_auc: 0.8415 - val_fn: 305.0000 - val_fp: 12.0000 - val_loss: 0.2062 - val_precision: 0.8310 - val_recall: 0.1621 - val_tn: 4386.0000 - val_tp: 59.0000\n",
      "Epoch 63/100\n",
      "\u001b[1m447/447\u001b[0m \u001b[32m━━━━━━━━━━━━━━━━━━━━\u001b[0m\u001b[37m\u001b[0m \u001b[1m45s\u001b[0m 100ms/step - accuracy: 0.9291 - auc: 0.8376 - fn: 456.0246 - fp: 55.3214 - loss: 0.2092 - precision: 0.6639 - recall: 0.1903 - tn: 6566.8369 - tp: 105.6607 - val_accuracy: 0.9372 - val_auc: 0.8372 - val_fn: 286.0000 - val_fp: 13.0000 - val_loss: 0.2006 - val_precision: 0.8571 - val_recall: 0.2143 - val_tn: 4385.0000 - val_tp: 78.0000\n",
      "Epoch 64/100\n",
      "\u001b[1m447/447\u001b[0m \u001b[32m━━━━━━━━━━━━━━━━━━━━\u001b[0m\u001b[37m\u001b[0m \u001b[1m45s\u001b[0m 101ms/step - accuracy: 0.9294 - auc: 0.8358 - fn: 461.9286 - fp: 43.8348 - loss: 0.2095 - precision: 0.6878 - recall: 0.1767 - tn: 6578.3237 - tp: 99.7567 - val_accuracy: 0.9353 - val_auc: 0.8342 - val_fn: 294.0000 - val_fp: 14.0000 - val_loss: 0.2052 - val_precision: 0.8333 - val_recall: 0.1923 - val_tn: 4384.0000 - val_tp: 70.0000\n",
      "Epoch 65/100\n",
      "\u001b[1m447/447\u001b[0m \u001b[32m━━━━━━━━━━━━━━━━━━━━\u001b[0m\u001b[37m\u001b[0m \u001b[1m45s\u001b[0m 100ms/step - accuracy: 0.9283 - auc: 0.8310 - fn: 459.8616 - fp: 55.9554 - loss: 0.2110 - precision: 0.6446 - recall: 0.1866 - tn: 6566.2031 - tp: 101.8237 - val_accuracy: 0.9336 - val_auc: 0.8485 - val_fn: 279.0000 - val_fp: 37.0000 - val_loss: 0.2000 - val_precision: 0.6967 - val_recall: 0.2335 - val_tn: 4361.0000 - val_tp: 85.0000\n",
      "Epoch 66/100\n",
      "\u001b[1m447/447\u001b[0m \u001b[32m━━━━━━━━━━━━━━━━━━━━\u001b[0m\u001b[37m\u001b[0m \u001b[1m45s\u001b[0m 100ms/step - accuracy: 0.9292 - auc: 0.8437 - fn: 448.3549 - fp: 63.1942 - loss: 0.2061 - precision: 0.6504 - recall: 0.2061 - tn: 6558.9644 - tp: 113.3304 - val_accuracy: 0.9320 - val_auc: 0.8401 - val_fn: 293.0000 - val_fp: 31.0000 - val_loss: 0.2034 - val_precision: 0.6961 - val_recall: 0.1951 - val_tn: 4367.0000 - val_tp: 71.0000\n",
      "Epoch 67/100\n",
      "\u001b[1m447/447\u001b[0m \u001b[32m━━━━━━━━━━━━━━━━━━━━\u001b[0m\u001b[37m\u001b[0m \u001b[1m44s\u001b[0m 99ms/step - accuracy: 0.9291 - auc: 0.8358 - fn: 456.2165 - fp: 50.2857 - loss: 0.2096 - precision: 0.6619 - recall: 0.1840 - tn: 6571.8726 - tp: 105.4688 - val_accuracy: 0.9332 - val_auc: 0.8415 - val_fn: 292.0000 - val_fp: 26.0000 - val_loss: 0.2023 - val_precision: 0.7347 - val_recall: 0.1978 - val_tn: 4372.0000 - val_tp: 72.0000\n",
      "Epoch 68/100\n",
      "\u001b[1m447/447\u001b[0m \u001b[32m━━━━━━━━━━━━━━━━━━━━\u001b[0m\u001b[37m\u001b[0m \u001b[1m44s\u001b[0m 98ms/step - accuracy: 0.9315 - auc: 0.8442 - fn: 442.4219 - fp: 53.5357 - loss: 0.2047 - precision: 0.6993 - recall: 0.2192 - tn: 6568.6226 - tp: 119.2634 - val_accuracy: 0.9345 - val_auc: 0.8481 - val_fn: 277.0000 - val_fp: 35.0000 - val_loss: 0.1979 - val_precision: 0.7131 - val_recall: 0.2390 - val_tn: 4363.0000 - val_tp: 87.0000\n",
      "Epoch 68: early stopping\n",
      "Restoring model weights from the end of the best epoch: 48.\n"
     ]
    }
   ],
   "source": [
    "model_history=model.fit(\n",
    "    x=[X_train_num, X_train_img], y=y_train,\n",
    "    validation_data=([X_val_num, X_val_img], y_val),\n",
    "    epochs=epochs, \n",
    "    batch_size=32,\n",
    "    callbacks = [early_stopper]\n",
    ")"
   ]
  },
  {
   "cell_type": "markdown",
   "metadata": {},
   "source": [
    "val_accuracy: 0.8325 - val_auc: 0.8439 - val_fn: 213.0000 - val_fp: 51.0000 - val_loss: 0.3847 - val_precision: 0.7475 - val_recall: 0.4148 - val_tn: 1161.0000 - val_tp: 151.0000"
   ]
  },
  {
   "cell_type": "code",
   "execution_count": 20,
   "metadata": {},
   "outputs": [
    {
     "name": "stdout",
     "output_type": "stream",
     "text": [
      "dict_keys(['accuracy', 'auc', 'fn', 'fp', 'loss', 'precision', 'recall', 'tn', 'tp', 'val_accuracy', 'val_auc', 'val_fn', 'val_fp', 'val_loss', 'val_precision', 'val_recall', 'val_tn', 'val_tp'])\n"
     ]
    }
   ],
   "source": [
    "print(model_history.history.keys())"
   ]
  },
  {
   "cell_type": "markdown",
   "metadata": {},
   "source": [
    "<a id=\"section6\"></a>\n",
    "# <font color=\"#004D7F\" size=6> 6. Results</font>\n",
    "\n",
    "Finally, we can evaluate our hybrid model with the images created by TINTOlib in any of the ways represented below."
   ]
  },
  {
   "cell_type": "markdown",
   "metadata": {},
   "source": [
    "---\n",
    "<a id=\"section61\"></a>\n",
    "# <font color=\"#004D7F\" size=5> 6.1. Train/Validation representation</font>"
   ]
  },
  {
   "cell_type": "code",
   "execution_count": 21,
   "metadata": {},
   "outputs": [
    {
     "data": {
      "image/png": "[encoded data removed]",
      "text/plain": [
       "<Figure size 640x480 with 1 Axes>"
      ]
     },
     "metadata": {},
     "output_type": "display_data"
    }
   ],
   "source": [
    "#print(model_history.history['loss'])\n",
    "plt.plot(model_history.history['loss'], color = 'red', label = 'loss')\n",
    "plt.plot(model_history.history['val_loss'], color = 'green', label = 'val loss')\n",
    "plt.legend(loc = 'upper right')\n",
    "\n",
    "plt.show()"
   ]
  },
  {
   "cell_type": "code",
   "execution_count": 22,
   "metadata": {},
   "outputs": [
    {
     "data": {
      "image/png": "[encoded data removed]",
      "text/plain": [
       "<Figure size 640x480 with 1 Axes>"
      ]
     },
     "metadata": {},
     "output_type": "display_data"
    }
   ],
   "source": [
    "plt.plot(model_history.history['accuracy'], color = 'red', label = 'accuracy')\n",
    "plt.plot(model_history.history['val_accuracy'], color = 'green', label = 'val accuracy')\n",
    "plt.legend(loc = 'upper right')\n",
    "plt.show()"
   ]
  },
  {
   "cell_type": "code",
   "execution_count": 23,
   "metadata": {},
   "outputs": [
    {
     "name": "stdout",
     "output_type": "stream",
     "text": [
      "Train accuracy: 0.9313965439796448\n",
      "Train AUC: 0.8368784189224243\n",
      "Train precision: 0.6773163080215454\n",
      "Train recall: 0.19431714713573456\n",
      "Train loss: 0.20493170619010925\n"
     ]
    }
   ],
   "source": [
    "train_accuracy = model_history.history[\"accuracy\"][-1]\n",
    "train_auc = model_history.history[\"auc\"][-1]\n",
    "train_precision = model_history.history[\"precision\"][-1]\n",
    "train_recall = model_history.history[\"recall\"][-1]\n",
    "train_loss = model_history.history[\"loss\"][-1]\n",
    "\n",
    "print(\"Train accuracy:\",train_accuracy)\n",
    "print(\"Train AUC:\",train_auc)\n",
    "print(\"Train precision:\",train_precision)\n",
    "print(\"Train recall:\",train_recall)\n",
    "print(\"Train loss:\",train_loss)"
   ]
  },
  {
   "cell_type": "code",
   "execution_count": 24,
   "metadata": {},
   "outputs": [
    {
     "name": "stdout",
     "output_type": "stream",
     "text": [
      "Validation accuracy: 0.9344813227653503\n",
      "Validation AUC: 0.8480952978134155\n",
      "Validation precision: 0.7131147384643555\n",
      "Validation recall: 0.2390109896659851\n",
      "Validation loss: 0.19789616763591766\n"
     ]
    }
   ],
   "source": [
    "validation_accuracy = model_history.history[\"val_accuracy\"][-1]\n",
    "validation_auc = model_history.history[\"val_auc\"][-1]\n",
    "validation_precision = model_history.history[\"val_precision\"][-1]\n",
    "validation_recall = model_history.history[\"val_recall\"][-1]\n",
    "validation_loss = model_history.history[\"val_loss\"][-1]\n",
    "\n",
    "print(\"Validation accuracy:\",validation_accuracy)\n",
    "print(\"Validation AUC:\",validation_auc)\n",
    "print(\"Validation precision:\",validation_precision)\n",
    "print(\"Validation recall:\",validation_recall)\n",
    "print(\"Validation loss:\",validation_loss)"
   ]
  },
  {
   "cell_type": "markdown",
   "metadata": {},
   "source": [
    "---\n",
    "<a id=\"section62\"></a>\n",
    "# <font color=\"#004D7F\" size=5> 6.2. Validation evaluation</font>"
   ]
  },
  {
   "cell_type": "code",
   "execution_count": 25,
   "metadata": {},
   "outputs": [
    {
     "name": "stderr",
     "output_type": "stream",
     "text": [
      "/Users/manwest/Library/Python/3.9/lib/python/site-packages/keras/src/models/functional.py:225: UserWarning: The structure of `inputs` doesn't match the expected structure: ['keras_tensor', 'keras_tensor_26']. Received: the structure of inputs=('*', '*')\n",
      "  warnings.warn(\n"
     ]
    },
    {
     "name": "stdout",
     "output_type": "stream",
     "text": [
      "\u001b[1m447/447\u001b[0m \u001b[32m━━━━━━━━━━━━━━━━━━━━\u001b[0m\u001b[37m\u001b[0m \u001b[1m3s\u001b[0m 5ms/step\n"
     ]
    },
    {
     "data": {
      "text/plain": [
       "(0.08, 0.7614902379730697)"
      ]
     },
     "execution_count": 25,
     "metadata": {},
     "output_type": "execute_result"
    }
   ],
   "source": [
    "from sklearn.metrics import roc_auc_score\n",
    "x_train_1 = [X_train_num, X_train_img]\n",
    "\n",
    "def find_best_threshold(y_true, y_probs):\n",
    "    thresholds = np.arange(0.0, 1.0, 0.01)\n",
    "    best_auc = 0\n",
    "    best_thresh = 0\n",
    "    for thresh in thresholds:\n",
    "        preds = (y_probs >= thresh).astype(int)\n",
    "        auc = roc_auc_score(y_true, preds)\n",
    "        if auc > best_auc:\n",
    "            best_auc = auc\n",
    "            best_thresh = thresh\n",
    "    return best_thresh, best_auc\n",
    "prediction = model.predict(x_train_1,)\n",
    "best_threshold = find_best_threshold(y_train, prediction)\n",
    "best_threshold ### !!!!!! IMPORTANTE PARA DEFINIR EL MEJOR CORTE PARA LAS PROBABILIDADES"
   ]
  },
  {
   "cell_type": "code",
   "execution_count": 26,
   "metadata": {},
   "outputs": [
    {
     "name": "stdout",
     "output_type": "stream",
     "text": [
      "\u001b[1m149/149\u001b[0m \u001b[32m━━━━━━━━━━━━━━━━━━━━\u001b[0m\u001b[37m\u001b[0m \u001b[1m2s\u001b[0m 12ms/step - accuracy: 0.9366 - auc: 0.8600 - fn: 133.2467 - fp: 14.4933 - loss: 0.1878 - precision: 0.6729 - recall: 0.2151 - tn: 2225.3533 - tp: 42.6133\n"
     ]
    }
   ],
   "source": [
    "#x_validacion = [X_test_num, X_test_img]\n",
    "#y_validacion = y_test\n",
    "x_validacion = [X_val_num, X_val_img]\n",
    "y_validacion = y_val\n",
    "score_test= model.evaluate(x_validacion, y_validacion)"
   ]
  },
  {
   "cell_type": "code",
   "execution_count": 27,
   "metadata": {},
   "outputs": [
    {
     "name": "stdout",
     "output_type": "stream",
     "text": [
      "\u001b[1m149/149\u001b[0m \u001b[32m━━━━━━━━━━━━━━━━━━━━\u001b[0m\u001b[37m\u001b[0m \u001b[1m1s\u001b[0m 5ms/step\n"
     ]
    }
   ],
   "source": [
    "#test_images = next(test_iter)[0]\n",
    "prediction = model.predict(x_validacion,)\n",
    "#prediction = model.predict(test_images)\n",
    "prediction_labels = (prediction > best_threshold[0]).astype(int)\n",
    "#print(prediction_labels)"
   ]
  },
  {
   "cell_type": "code",
   "execution_count": 28,
   "metadata": {},
   "outputs": [
    {
     "name": "stdout",
     "output_type": "stream",
     "text": [
      "Validation accuracy: 0.9367912411689758\n",
      "Validation AUC: 0.8478319644927979\n",
      "Validation precision: 0.7647058963775635\n",
      "Validation recall: 0.25\n"
     ]
    }
   ],
   "source": [
    "from sklearn.metrics import roc_auc_score,accuracy_score,precision_score, recall_score\n",
    "\n",
    "test_accuracy = score_test[5]\n",
    "test_auc = score_test[8]\n",
    "test_precision = score_test[6]\n",
    "test_recall = score_test[7]\n",
    "\n",
    "print(\"Validation accuracy:\",test_accuracy)\n",
    "print(\"Validation AUC:\",test_auc)\n",
    "print(\"Validation precision:\",test_precision)\n",
    "print(\"Validation recall:\",test_recall)"
   ]
  },
  {
   "cell_type": "code",
   "execution_count": 29,
   "metadata": {},
   "outputs": [
    {
     "data": {
      "text/plain": [
       "20134    0\n",
       "5477     0\n",
       "11396    0\n",
       "128      1\n",
       "4649     0\n",
       "        ..\n",
       "15036    0\n",
       "11887    0\n",
       "1596     0\n",
       "8594     0\n",
       "6684     0\n",
       "Name: class, Length: 4762, dtype: int64"
      ]
     },
     "execution_count": 29,
     "metadata": {},
     "output_type": "execute_result"
    }
   ],
   "source": [
    "y_test1 = y_validacion.astype(float).astype(int)\n",
    "y_test1"
   ]
  },
  {
   "cell_type": "code",
   "execution_count": 30,
   "metadata": {},
   "outputs": [
    {
     "name": "stdout",
     "output_type": "stream",
     "text": [
      "\u001b[1mTest Dataset.\u001b[0m \n",
      "\n",
      "\n",
      "\u001b[1mConfusion matrix:\u001b[0m\n"
     ]
    },
    {
     "data": {
      "image/png": "[encoded data removed]",
      "text/plain": [
       "<Figure size 640x480 with 2 Axes>"
      ]
     },
     "metadata": {},
     "output_type": "display_data"
    },
    {
     "name": "stdout",
     "output_type": "stream",
     "text": [
      "Verdaderos Negativos (VN): 3519\n",
      "Falsos Positivos (FP): 879\n",
      "Falsos Negativos (FN): 106\n",
      "Verdaderos Positivos (VP): 258 \n",
      "\n",
      "\n",
      "\u001b[1mAUC SCORE:\u001b[0m\n",
      "0.8479478684117158\n",
      "\u001b[1mRecall SCORE:\u001b[0m\n",
      "0.7087912087912088\n"
     ]
    },
    {
     "data": {
      "image/png": "[encoded data removed]",
      "text/plain": [
       "<Figure size 640x480 with 1 Axes>"
      ]
     },
     "metadata": {},
     "output_type": "display_data"
    }
   ],
   "source": [
    "from sklearn.metrics import ConfusionMatrixDisplay, confusion_matrix, roc_curve, roc_auc_score, recall_score\n",
    "\n",
    "# Suponiendo que ⁠ cnn_model ⁠ sea tu modelo entrenado y ⁠ X_test ⁠ tu conjunto de prueba\n",
    "print(\"\\033[1mTest Dataset.\\033[0m \\n\\n\")\n",
    "\n",
    "# Confusion Matrix\n",
    "print(\"\\033[1mConfusion matrix:\\033[0m\")\n",
    "cm = confusion_matrix(y_test1, prediction_labels)\n",
    "disp = ConfusionMatrixDisplay(confusion_matrix=cm)\n",
    "disp.plot()\n",
    "plt.show()\n",
    "print(f\"Verdaderos Negativos (VN): {cm[0, 0]}\")\n",
    "print(f\"Falsos Positivos (FP): {cm[0, 1]}\")\n",
    "print(f\"Falsos Negativos (FN): {cm[1, 0]}\")\n",
    "print(f\"Verdaderos Positivos (VP): {cm[1, 1]} \\n\\n\")\n",
    "\n",
    "# Calcular las métricas usando probabilidades en lugar de etiquetas\n",
    "#prediction_probs = model.predict([X_val_img])\n",
    "\n",
    "print(\"\\033[1mAUC SCORE:\\033[0m\")\n",
    "print(roc_auc_score(y_test1, prediction ))\n",
    "\n",
    "print(\"\\033[1mRecall SCORE:\\033[0m\")\n",
    "print(recall_score(y_test1, prediction_labels))\n",
    "\n",
    "# Curva ROC\n",
    "fpr, tpr, thresholds = roc_curve(y_test1, prediction)\n",
    "plt.plot([0, 1], [0, 1], 'k--')\n",
    "plt.plot(fpr, tpr)\n",
    "plt.xlabel('False Positive Rate')\n",
    "plt.ylabel('True Positive Rate')\n",
    "plt.title('ROC Curve and AUC')\n",
    "plt.fill_between(fpr, tpr, alpha=0.3)\n",
    "plt.tight_layout()\n",
    "plt.show()"
   ]
  },
  {
   "cell_type": "markdown",
   "metadata": {},
   "source": [
    "---\n",
    "<a id=\"section63\"></a>\n",
    "# <font color=\"#004D7F\" size=5> 6.3. Test evaluation</font>"
   ]
  },
  {
   "cell_type": "code",
   "execution_count": 31,
   "metadata": {},
   "outputs": [
    {
     "name": "stdout",
     "output_type": "stream",
     "text": [
      "\u001b[1m149/149\u001b[0m \u001b[32m━━━━━━━━━━━━━━━━━━━━\u001b[0m\u001b[37m\u001b[0m \u001b[1m2s\u001b[0m 11ms/step - accuracy: 0.9304 - auc: 0.8179 - fn: 136.7933 - fp: 20.9933 - loss: 0.2149 - precision: 0.6625 - recall: 0.2504 - tn: 2209.4199 - tp: 48.5000\n"
     ]
    }
   ],
   "source": [
    "x_validacion = [X_test_num, X_test_img]\n",
    "y_validacion = y_test\n",
    "#x_validacion = [X_val_num, X_val_img]\n",
    "#y_validacion = y_val\n",
    "score_test= model.evaluate(x_validacion, y_validacion)"
   ]
  },
  {
   "cell_type": "code",
   "execution_count": 32,
   "metadata": {},
   "outputs": [
    {
     "name": "stdout",
     "output_type": "stream",
     "text": [
      "\u001b[1m149/149\u001b[0m \u001b[32m━━━━━━━━━━━━━━━━━━━━\u001b[0m\u001b[37m\u001b[0m \u001b[1m1s\u001b[0m 4ms/step\n"
     ]
    }
   ],
   "source": [
    "#test_images = next(test_iter)[0]\n",
    "prediction = model.predict(x_validacion,)\n",
    "#prediction = model.predict(test_images)\n",
    "prediction_labels = (prediction > best_threshold[0]).astype(int)\n",
    "#print(prediction_labels)"
   ]
  },
  {
   "cell_type": "code",
   "execution_count": 33,
   "metadata": {},
   "outputs": [
    {
     "name": "stdout",
     "output_type": "stream",
     "text": [
      "Test accuracy: 0.9367912411689758\n",
      "Test AUC: 0.834719181060791\n",
      "Test precision: 0.7384615540504456\n",
      "Test recall: 0.26446279883384705\n"
     ]
    }
   ],
   "source": [
    "from sklearn.metrics import roc_auc_score,accuracy_score,precision_score, recall_score\n",
    "\n",
    "test_accuracy = score_test[5]\n",
    "test_auc = score_test[8]\n",
    "test_precision = score_test[6]\n",
    "test_recall = score_test[7]\n",
    "\n",
    "print(\"Test accuracy:\",test_accuracy)\n",
    "print(\"Test AUC:\",test_auc)\n",
    "print(\"Test precision:\",test_precision)\n",
    "print(\"Test recall:\",test_recall)"
   ]
  },
  {
   "cell_type": "code",
   "execution_count": 34,
   "metadata": {},
   "outputs": [
    {
     "data": {
      "text/plain": [
       "17734    0\n",
       "19878    0\n",
       "19543    0\n",
       "4964     0\n",
       "3278     0\n",
       "        ..\n",
       "14449    0\n",
       "5716     0\n",
       "1307     0\n",
       "9        1\n",
       "19709    0\n",
       "Name: class, Length: 4762, dtype: int64"
      ]
     },
     "execution_count": 34,
     "metadata": {},
     "output_type": "execute_result"
    }
   ],
   "source": [
    "y_test1 = y_validacion.astype(float).astype(int)\n",
    "y_test1"
   ]
  },
  {
   "cell_type": "code",
   "execution_count": 35,
   "metadata": {},
   "outputs": [
    {
     "name": "stdout",
     "output_type": "stream",
     "text": [
      "\u001b[1mTest Dataset.\u001b[0m \n",
      "\n",
      "\n",
      "\u001b[1mConfusion matrix:\u001b[0m\n"
     ]
    },
    {
     "data": {
      "image/png": "[encoded data removed]",
      "text/plain": [
       "<Figure size 640x480 with 2 Axes>"
      ]
     },
     "metadata": {},
     "output_type": "display_data"
    },
    {
     "name": "stdout",
     "output_type": "stream",
     "text": [
      "Verdaderos Negativos (VN): 3501\n",
      "Falsos Positivos (FP): 898\n",
      "Falsos Negativos (FN): 113\n",
      "Verdaderos Positivos (VP): 250 \n",
      "\n",
      "\n",
      "\u001b[1mAUC SCORE:\u001b[0m\n",
      "0.8353682936955996\n",
      "\u001b[1mRecall SCORE:\u001b[0m\n",
      "0.6887052341597796\n"
     ]
    },
    {
     "data": {
      "image/png": "[encoded data removed]",
      "text/plain": [
       "<Figure size 640x480 with 1 Axes>"
      ]
     },
     "metadata": {},
     "output_type": "display_data"
    }
   ],
   "source": [
    "from sklearn.metrics import ConfusionMatrixDisplay, confusion_matrix, roc_curve, roc_auc_score, recall_score\n",
    "\n",
    "# Suponiendo que ⁠ cnn_model ⁠ sea tu modelo entrenado y ⁠ X_test ⁠ tu conjunto de prueba\n",
    "print(\"\\033[1mTest Dataset.\\033[0m \\n\\n\")\n",
    "\n",
    "# Confusion Matrix\n",
    "print(\"\\033[1mConfusion matrix:\\033[0m\")\n",
    "cm = confusion_matrix(y_test1, prediction_labels)\n",
    "disp = ConfusionMatrixDisplay(confusion_matrix=cm)\n",
    "disp.plot()\n",
    "plt.show()\n",
    "print(f\"Verdaderos Negativos (VN): {cm[0, 0]}\")\n",
    "print(f\"Falsos Positivos (FP): {cm[0, 1]}\")\n",
    "print(f\"Falsos Negativos (FN): {cm[1, 0]}\")\n",
    "print(f\"Verdaderos Positivos (VP): {cm[1, 1]} \\n\\n\")\n",
    "\n",
    "# Calcular las métricas usando probabilidades en lugar de etiquetas\n",
    "#prediction_probs = model.predict([X_val_img])\n",
    "\n",
    "print(\"\\033[1mAUC SCORE:\\033[0m\")\n",
    "print(roc_auc_score(y_test1, prediction ))\n",
    "\n",
    "print(\"\\033[1mRecall SCORE:\\033[0m\")\n",
    "print(recall_score(y_test1, prediction_labels))\n",
    "\n",
    "# Curva ROC\n",
    "fpr, tpr, thresholds = roc_curve(y_test1, prediction)\n",
    "plt.plot([0, 1], [0, 1], 'k--')\n",
    "plt.plot(fpr, tpr)\n",
    "plt.xlabel('False Positive Rate')\n",
    "plt.ylabel('True Positive Rate')\n",
    "plt.title('ROC Curve and AUC')\n",
    "plt.fill_between(fpr, tpr, alpha=0.3)\n",
    "plt.tight_layout()\n",
    "plt.show()"
   ]
  },
  {
   "cell_type": "code",
   "execution_count": null,
   "metadata": {},
   "outputs": [],
   "source": []
  },
  {
   "cell_type": "code",
   "execution_count": null,
   "metadata": {},
   "outputs": [],
   "source": []
  }
 ],
 "metadata": {
  "colab": {
   "provenance": [
    {
     "file_id": "1plFq1CpEXIdc9LankaLPiOObRg0_y5l2",
     "timestamp": 1684250343977
    }
   ]
  },
  "kernelspec": {
   "display_name": "Python 3",
   "language": "python",
   "name": "python3"
  },
  "language_info": {
   "codemirror_mode": {
    "name": "ipython",
    "version": 3
   },
   "file_extension": ".py",
   "mimetype": "text/x-python",
   "name": "python",
   "nbconvert_exporter": "python",
   "pygments_lexer": "ipython3",
   "version": "3.9.6"
  }
 },
 "nbformat": 4,
 "nbformat_minor": 1
}
