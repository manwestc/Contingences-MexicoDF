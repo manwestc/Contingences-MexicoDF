{
  "cells": [
    {
      "cell_type": "markdown",
      "metadata": {
        "id": "EybOZ6hSjpCF"
      },
      "source": [
        "<h1><font color=\"#113D68\" size=5>TINTOlib: Converting Tidy Data into Synthetic Images</font></h1>>\n",
        "\n",
        "<h1><font color=\"#113D68\" size=5>Template Binary Classification problem with a Hibryd Networks (CNN+MLP)</font></h1>\n",
        "\n",
        "<br><br>\n",
        "<div style=\"text-align: right\">\n",
        "<font color=\"#113D68\" size=3>Manuel Castillo-Cara</font><br>\n",
        "<font color=\"#113D68\" size=3>Raúl García-Castro</font><br>\n",
        "<font color=\"#113D68\" size=3>Jiayun Liu</font><br>\n",
        "\n",
        "</div>\n",
        "\n",
        "---"
      ]
    },
    {
      "cell_type": "markdown",
      "metadata": {
        "id": "WIfKCxAY88m2"
      },
      "source": [
        "<div class=\"alert alert-block alert-info\">\n",
        "    \n",
        "<i class=\"fa fa-info-circle\" aria-hidden=\"true\"></i>\n",
        "More information about [Manuel Castillo-Cara](https://www.manuelcastillo.eu/)"
      ]
    },
    {
      "cell_type": "markdown",
      "metadata": {
        "id": "mNd3qzGj88m2"
      },
      "source": [
        "<div class=\"alert alert-block alert-info\">\n",
        "    \n",
        "<i class=\"fa fa-info-circle\" aria-hidden=\"true\"></i>\n",
        "More information about [Raúl García-Castro](http://www.garcia-castro.com/)"
      ]
    },
    {
      "cell_type": "markdown",
      "metadata": {
        "id": "3Z4oNkh888m3"
      },
      "source": [
        "---\n",
        "\n",
        "<a id=\"indice\"></a>\n",
        "<h2><font color=\"#004D7F\" size=5>Licencia</font></h2>\n",
        "\n",
        "<p><small><small>Improving Deep Learning by Exploiting Synthetic Images Copyright 2024 Manuel Castillo Cara.</p>\n",
        "<p><small><small> Licensed under the Apache License, Version 2.0 (the \"License\"); you may not use this file except in compliance with the License. You may obtain a copy of the License at </p>\n",
        "<p><small><small> <a href=\"https://www.apache.org/licenses/LICENSE-2.0\">https://www.apache.org/licenses/LICENSE-2.0</a> </p>\n",
        "<p><small><small> Unless required by applicable law or agreed to in writing, software distributed under the License is distributed on an \"AS IS\" BASIS, WITHOUT WARRANTIES OR CONDITIONS OF ANY KIND, either express or implied. See the License for the specific language governing permissions and limitations under the License. </p>"
      ]
    },
    {
      "cell_type": "markdown",
      "metadata": {
        "id": "2l5nFzsdjpCW"
      },
      "source": [
        "---\n",
        "\n",
        "<a id=\"indice\"></a>\n",
        "<h2><font color=\"#004D7F\" size=5>Index</font></h2>\n",
        "\n",
        "* [0. Context](#section0)\n",
        "* [1. Description](#section1)\n",
        "    * [1.1. Main Features](#section11)\n",
        "    * [1.2. Citation](#section12)\n",
        "    * [1.3. Documentation and License](#section13)\n",
        "* [2. Libraries](#section2)\n",
        "    * [2.1. System setup](#section21)\n",
        "    * [2.2. Invoke the libraries](#section22)\n",
        "* [3. Data processing](#section3)\n",
        "    * [3.1. TINTOlib methods](#section31)\n",
        "    * [3.2. Read the dataset](#section32)\n",
        "    * [3.3. Generate images](#section33)\n",
        "    * [3.4. Read images](#section34)\n",
        "    * [3.5. Mix images and tidy data](#section35)\n",
        "* [4. Pre-modelling phase](#section4)\n",
        "    * [4.1. Data curation](#section41)\n",
        "    * [4.2. One-hot encoding](#section42)\n",
        "* [5. Modelling hybrid network](#section5)\n",
        "    * [5.1. FFNN for tabular data](#section51)\n",
        "    * [5.2. CNN for TINTOlib images](#section52)\n",
        "    * [5.3. Concatenate branches](#section53)\n",
        "    * [5.4. Metrics](#section54)\n",
        "    * [5.5. Compile and fit](#section55)\n",
        "* [6. Results](#section6)\n",
        "    * [6.1. Train/Validation representation](#section61)\n",
        "    * [6.2. Validation/Test evaluation](#section62)"
      ]
    },
    {
      "cell_type": "markdown",
      "metadata": {
        "id": "4RKBgDwzjpCl"
      },
      "source": [
        "---\n",
        "<div style=\"text-align: right\"> <font size=5> <a href=\"#indice\"><i class=\"fa fa-arrow-circle-up\" aria-hidden=\"true\" style=\"color:#004D7F\"></i></a></font></div>\n",
        "\n",
        "---"
      ]
    },
    {
      "cell_type": "code",
      "source": [
        "!pip install -U TINTOlib mpi4py tifffile tqdm seaborn bitstring opencv-python pydot"
      ],
      "metadata": {
        "colab": {
          "base_uri": "https://localhost:8080/"
        },
        "id": "ZCXhYYqL9WYz",
        "outputId": "9fec3675-462f-480d-e063-c12c3ef61caa"
      },
      "execution_count": null,
      "outputs": [
        {
          "output_type": "stream",
          "name": "stdout",
          "text": [
            "Collecting TINTOlib\n",
            "  Downloading tintolib-0.0.26-py3-none-any.whl.metadata (22 kB)\n",
            "Collecting mpi4py\n",
            "  Downloading mpi4py-4.0.1.tar.gz (466 kB)\n",
            "\u001b[2K     \u001b[90m━━━━━━━━━━━━━━━━━━━━━━━━━━━━━━━━━━━━━━━━\u001b[0m \u001b[32m466.2/466.2 kB\u001b[0m \u001b[31m8.9 MB/s\u001b[0m eta \u001b[36m0:00:00\u001b[0m\n",
            "\u001b[?25h  Installing build dependencies ... \u001b[?25l\u001b[?25hdone\n",
            "  Getting requirements to build wheel ... \u001b[?25l\u001b[?25hdone\n",
            "  Installing backend dependencies ... \u001b[?25l\u001b[?25hdone\n",
            "  Preparing metadata (pyproject.toml) ... \u001b[?25l\u001b[?25hdone\n",
            "Requirement already satisfied: tifffile in /usr/local/lib/python3.10/dist-packages (2024.12.12)\n",
            "Requirement already satisfied: tqdm in /usr/local/lib/python3.10/dist-packages (4.67.1)\n",
            "Requirement already satisfied: seaborn in /usr/local/lib/python3.10/dist-packages (0.13.2)\n",
            "Collecting bitstring\n",
            "  Downloading bitstring-4.2.3-py3-none-any.whl.metadata (5.0 kB)\n",
            "Requirement already satisfied: opencv-python in /usr/local/lib/python3.10/dist-packages (4.10.0.84)\n",
            "Requirement already satisfied: pydot in /usr/local/lib/python3.10/dist-packages (3.0.3)\n",
            "Requirement already satisfied: numpy in /usr/local/lib/python3.10/dist-packages (from tifffile) (1.26.4)\n",
            "Requirement already satisfied: pandas>=1.2 in /usr/local/lib/python3.10/dist-packages (from seaborn) (2.2.2)\n",
            "Requirement already satisfied: matplotlib!=3.6.1,>=3.4 in /usr/local/lib/python3.10/dist-packages (from seaborn) (3.8.0)\n",
            "Collecting bitarray<3.0.0,>=2.9.0 (from bitstring)\n",
            "  Downloading bitarray-2.9.3-cp310-cp310-manylinux_2_17_x86_64.manylinux2014_x86_64.whl.metadata (34 kB)\n",
            "Requirement already satisfied: pyparsing>=3.0.9 in /usr/local/lib/python3.10/dist-packages (from pydot) (3.2.0)\n",
            "Requirement already satisfied: contourpy>=1.0.1 in /usr/local/lib/python3.10/dist-packages (from matplotlib!=3.6.1,>=3.4->seaborn) (1.3.1)\n",
            "Requirement already satisfied: cycler>=0.10 in /usr/local/lib/python3.10/dist-packages (from matplotlib!=3.6.1,>=3.4->seaborn) (0.12.1)\n",
            "Requirement already satisfied: fonttools>=4.22.0 in /usr/local/lib/python3.10/dist-packages (from matplotlib!=3.6.1,>=3.4->seaborn) (4.55.3)\n",
            "Requirement already satisfied: kiwisolver>=1.0.1 in /usr/local/lib/python3.10/dist-packages (from matplotlib!=3.6.1,>=3.4->seaborn) (1.4.7)\n",
            "Requirement already satisfied: packaging>=20.0 in /usr/local/lib/python3.10/dist-packages (from matplotlib!=3.6.1,>=3.4->seaborn) (24.2)\n",
            "Requirement already satisfied: pillow>=6.2.0 in /usr/local/lib/python3.10/dist-packages (from matplotlib!=3.6.1,>=3.4->seaborn) (11.0.0)\n",
            "Requirement already satisfied: python-dateutil>=2.7 in /usr/local/lib/python3.10/dist-packages (from matplotlib!=3.6.1,>=3.4->seaborn) (2.8.2)\n",
            "Requirement already satisfied: pytz>=2020.1 in /usr/local/lib/python3.10/dist-packages (from pandas>=1.2->seaborn) (2024.2)\n",
            "Requirement already satisfied: tzdata>=2022.7 in /usr/local/lib/python3.10/dist-packages (from pandas>=1.2->seaborn) (2024.2)\n",
            "Requirement already satisfied: six>=1.5 in /usr/local/lib/python3.10/dist-packages (from python-dateutil>=2.7->matplotlib!=3.6.1,>=3.4->seaborn) (1.17.0)\n",
            "Downloading tintolib-0.0.26-py3-none-any.whl (53 kB)\n",
            "\u001b[2K   \u001b[90m━━━━━━━━━━━━━━━━━━━━━━━━━━━━━━━━━━━━━━━━\u001b[0m \u001b[32m53.3/53.3 kB\u001b[0m \u001b[31m3.8 MB/s\u001b[0m eta \u001b[36m0:00:00\u001b[0m\n",
            "\u001b[?25hDownloading bitstring-4.2.3-py3-none-any.whl (71 kB)\n",
            "\u001b[2K   \u001b[90m━━━━━━━━━━━━━━━━━━━━━━━━━━━━━━━━━━━━━━━━\u001b[0m \u001b[32m71.7/71.7 kB\u001b[0m \u001b[31m5.5 MB/s\u001b[0m eta \u001b[36m0:00:00\u001b[0m\n",
            "\u001b[?25hDownloading bitarray-2.9.3-cp310-cp310-manylinux_2_17_x86_64.manylinux2014_x86_64.whl (288 kB)\n",
            "\u001b[2K   \u001b[90m━━━━━━━━━━━━━━━━━━━━━━━━━━━━━━━━━━━━━━━━\u001b[0m \u001b[32m288.4/288.4 kB\u001b[0m \u001b[31m21.2 MB/s\u001b[0m eta \u001b[36m0:00:00\u001b[0m\n",
            "\u001b[?25hBuilding wheels for collected packages: mpi4py\n",
            "  Building wheel for mpi4py (pyproject.toml) ... \u001b[?25l\u001b[?25hdone\n",
            "  Created wheel for mpi4py: filename=mpi4py-4.0.1-cp310-cp310-linux_x86_64.whl size=4266341 sha256=7d4474d00cb27e2c2a0c715c5277c4ebf4b62e6e3bf5f75ac39c55c6a03650e2\n",
            "  Stored in directory: /root/.cache/pip/wheels/3c/ca/13/13218a83854023ccec184e3af482f0f038b434aa32c19afee8\n",
            "Successfully built mpi4py\n",
            "Installing collected packages: bitarray, TINTOlib, mpi4py, bitstring\n",
            "Successfully installed TINTOlib-0.0.26 bitarray-2.9.3 bitstring-4.2.3 mpi4py-4.0.1\n"
          ]
        }
      ]
    },
    {
      "cell_type": "code",
      "source": [
        "!pip install keras_preprocessing --quiet"
      ],
      "metadata": {
        "colab": {
          "base_uri": "https://localhost:8080/"
        },
        "id": "y8zStDrU9XTz",
        "outputId": "464e51e0-3579-4fd0-b638-67b366bef081"
      },
      "execution_count": null,
      "outputs": [
        {
          "output_type": "stream",
          "name": "stdout",
          "text": [
            "\u001b[?25l   \u001b[90m━━━━━━━━━━━━━━━━━━━━━━━━━━━━━━━━━━━━━━━━\u001b[0m \u001b[32m0.0/42.6 kB\u001b[0m \u001b[31m?\u001b[0m eta \u001b[36m-:--:--\u001b[0m\r\u001b[2K   \u001b[90m━━━━━━━━━━━━━━━━━━━━━━━━━━━━━━━━━━━━━━━━\u001b[0m \u001b[32m42.6/42.6 kB\u001b[0m \u001b[31m1.9 MB/s\u001b[0m eta \u001b[36m0:00:00\u001b[0m\n",
            "\u001b[?25h"
          ]
        }
      ]
    },
    {
      "cell_type": "markdown",
      "metadata": {
        "id": "qwYF5A2njpC8"
      },
      "source": [
        "<a id=\"section2\"></a>\n",
        "# <font color=\"#004D7F\" size=6> 2. Libraries</font>"
      ]
    },
    {
      "cell_type": "markdown",
      "metadata": {
        "id": "4wL04VbD88m3"
      },
      "source": [
        "---\n",
        "<a id=\"section22\"></a>\n",
        "# <font color=\"#004D7F\" size=5> 2.2. Invoke the libraries</font>"
      ]
    },
    {
      "cell_type": "code",
      "execution_count": 7,
      "metadata": {
        "id": "PeeBbGxlpjFp",
        "tags": []
      },
      "outputs": [],
      "source": [
        "import os\n",
        "import random\n",
        "import pandas as pd\n",
        "import numpy as np\n",
        "from tqdm import tqdm\n",
        "#import cv2\n",
        "import gc\n",
        "import matplotlib.pyplot as plt\n",
        "#import openslide\n",
        "#from openslide.deepzoom import DeepZoomGenerator\n",
        "import tifffile as tifi\n",
        "import sklearn\n",
        "import tensorflow as tf\n",
        "import seaborn as sns\n",
        "from PIL import Image\n",
        "\n",
        "\n",
        "from sklearn.metrics import mean_absolute_error, mean_squared_error, r2_score,mean_absolute_percentage_error\n",
        "\n",
        "from keras_preprocessing.image import ImageDataGenerator\n",
        "from tensorflow.keras.models import load_model\n",
        "\n",
        "from sklearn.model_selection import train_test_split\n",
        "from tensorflow.keras.applications import vgg16, vgg19, resnet50, mobilenet, inception_resnet_v2, densenet, inception_v3, xception, nasnet, ResNet152V2\n",
        "from tensorflow.keras.models import Sequential, Model, load_model\n",
        "from tensorflow.keras.layers import Dense, Conv2D, MaxPool2D, Flatten, Dropout, BatchNormalization, InputLayer, LayerNormalization\n",
        "from tensorflow.keras.callbacks import ModelCheckpoint, ReduceLROnPlateau, EarlyStopping\n",
        "from tensorflow.keras.optimizers import SGD, Adam, Adadelta, Adamax, AdamW\n",
        "from tensorflow.keras import layers, models, Model\n",
        "from tensorflow.keras.losses import MeanAbsoluteError, MeanAbsolutePercentageError\n",
        "from tensorflow.keras.layers import Input, Activation, MaxPooling2D, concatenate, Concatenate, AveragePooling2D\n",
        "from tensorflow.keras.utils import to_categorical\n",
        "from keras.utils import plot_model\n",
        "\n",
        "from imblearn.under_sampling import RandomUnderSampler\n",
        "\n",
        "#Models of TINTOlib\n",
        "from TINTOlib.tinto import TINTO\n",
        "from TINTOlib.supertml import SuperTML\n",
        "from TINTOlib.igtd import IGTD\n",
        "from TINTOlib.refined import REFINED\n",
        "from TINTOlib.barGraph import BarGraph\n",
        "from TINTOlib.distanceMatrix import DistanceMatrix\n",
        "from TINTOlib.combination import Combination\n",
        "\n",
        "\n",
        "SEED = 64\n",
        "# SET RANDOM SEED FOR REPRODUCIBILITY\n",
        "#torch.manual_seed(SEED)\n",
        "#torch.cuda.manual_seed(SEED)\n",
        "#torch.cuda.manual_seed_all(SEED)\n",
        "#torch.backends.cudnn.deterministic = True\n",
        "#torch.backends.cudnn.benchmark = False\n",
        "os.environ['PYTHONHASHSEED']=str(SEED)\n",
        "random.seed(SEED)\n",
        "np.random.seed(SEED)\n",
        "tf.random.set_seed(SEED)"
      ]
    },
    {
      "cell_type": "markdown",
      "metadata": {
        "id": "NwS-cKUxjpDQ"
      },
      "source": [
        "---\n",
        "<div style=\"text-align: right\"> <font size=5> <a href=\"#indice\"><i class=\"fa fa-arrow-circle-up\" aria-hidden=\"true\" style=\"color:#004D7F\"></i></a></font></div>\n",
        "\n",
        "---"
      ]
    },
    {
      "cell_type": "markdown",
      "metadata": {
        "id": "aDL4LARWjpDT"
      },
      "source": [
        "<a id=\"section3\"></a>\n",
        "# <font color=\"#004D7F\" size=6> 3. Data processing</font>"
      ]
    },
    {
      "cell_type": "markdown",
      "metadata": {
        "id": "jXcRw78ljpDU"
      },
      "source": [
        "The first thing to do is to read all the images created by TINTO. TINTO creates a folder which contains subfolders corresponding to each target that has the problem. Each image corresponds to a sample of the original dataset."
      ]
    },
    {
      "cell_type": "markdown",
      "metadata": {
        "id": "43o0EwfP88m4"
      },
      "source": [
        "---\n",
        "<a id=\"section31\"></a>\n",
        "# <font color=\"#004D7F\" size=5> 3.1. TINTOlib methods</font>"
      ]
    },
    {
      "cell_type": "markdown",
      "metadata": {
        "id": "YEUNSq_S88m5"
      },
      "source": [
        "We prepare the declaration of the classes with the TINTOlib method we want to transform. Note that TINTOlib has several methods and we will have to choose one of them since each method generates different images.\n",
        "\n",
        "In addition, we establish the paths where the dataset is located and also the folder where the images will be created."
      ]
    },
    {
      "cell_type": "code",
      "execution_count": 8,
      "metadata": {
        "id": "_bbyVP8U88m5"
      },
      "outputs": [],
      "source": [
        "#Select the model and the parameters\n",
        "problem_type = \"supervised\"\n",
        "#problem_type = \"regression\"\n",
        "pixel = 45\n",
        "## zoom para ampliar la imagen\n",
        "#image_model = REFINED(problem=problem_type, random_seed=SEED, zoom=5, n_processors=8)\n",
        "#image_model = TINTO(problem= problem_type, blur=True, option='maximum', pixels=pixel, random_seed=SEED)\n",
        "# scale sería [7,4] porque hay 26 variables (para 24 pixeles);\n",
        "#image_model = IGTD(problem= problem_type, random_seed=SEED, scale=[3,3], zoom=5)\n",
        "image_model = BarGraph(problem= problem_type, pixel_width=2, gap=1, zoom=1)\n",
        "#image_model = DistanceMatrix(problem= problem_type, zoom=4)\n",
        "#image_model = Combination(problem= problem_type, zoom=3)\n",
        "#image_model = SuperTML(problem= problem_type, pixels=pixel, font_size=5, feature_importance=True, random_seed=SEED)\n",
        "#image_model = SuperTML(problem= problem_type, pixels=pixel, font_size=4, random_seed=SEED)\n",
        "\n",
        "#Define the dataset path and the folder where the images will be saved\n",
        "results_folder = \"bargraph\"\n",
        "dataset_path = \"../dataset_train.csv\"\n",
        "images_folder = \"bargraph\"\n",
        "\n"
      ]
    },
    {
      "cell_type": "markdown",
      "metadata": {
        "id": "14ssfDBk88m5"
      },
      "source": [
        "<div class=\"alert alert-block alert-info\">\n",
        "\n",
        "<i class=\"fa fa-info-circle\" aria-hidden=\"true\"></i>\n",
        "You can see all TINTOlib method in the [PyPI documentation](https://tintolib.readthedocs.io/en/latest/installation.html)"
      ]
    },
    {
      "cell_type": "markdown",
      "metadata": {
        "id": "CTfnAe5_88m5"
      },
      "source": [
        "---\n",
        "<a id=\"section32\"></a>\n",
        "# <font color=\"#004D7F\" size=5> 3.2. Read the dataset</font>"
      ]
    },
    {
      "cell_type": "markdown",
      "metadata": {
        "id": "X2Yp7oGR88m5"
      },
      "source": [
        "In this part, we proceed to read the dataset according to the path specified above and also standardize the name that the target will have, in this case, it will be called `class`."
      ]
    },
    {
      "cell_type": "code",
      "execution_count": 9,
      "metadata": {
        "scrolled": true,
        "colab": {
          "base_uri": "https://localhost:8080/",
          "height": 112
        },
        "id": "wrOppwtL88m5",
        "outputId": "c37cac70-a6be-48a6-a72e-b2ebc60c7ad9"
      },
      "outputs": [
        {
          "output_type": "execute_result",
          "data": {
            "text/plain": [
              "      O3   TMP    RH      1/RH  WSP    WDR  class\n",
              "0  163.0  28.2  17.0  0.058824  3.2  346.0      1\n",
              "1  170.0  28.9  23.0  0.043478  3.4  355.0      1"
            ],
            "text/html": [
              "\n",
              "  <div id=\"df-cc1d9866-6a64-4851-8220-5244c2b88ebe\" class=\"colab-df-container\">\n",
              "    <div>\n",
              "<style scoped>\n",
              "    .dataframe tbody tr th:only-of-type {\n",
              "        vertical-align: middle;\n",
              "    }\n",
              "\n",
              "    .dataframe tbody tr th {\n",
              "        vertical-align: top;\n",
              "    }\n",
              "\n",
              "    .dataframe thead th {\n",
              "        text-align: right;\n",
              "    }\n",
              "</style>\n",
              "<table border=\"1\" class=\"dataframe\">\n",
              "  <thead>\n",
              "    <tr style=\"text-align: right;\">\n",
              "      <th></th>\n",
              "      <th>O3</th>\n",
              "      <th>TMP</th>\n",
              "      <th>RH</th>\n",
              "      <th>1/RH</th>\n",
              "      <th>WSP</th>\n",
              "      <th>WDR</th>\n",
              "      <th>class</th>\n",
              "    </tr>\n",
              "  </thead>\n",
              "  <tbody>\n",
              "    <tr>\n",
              "      <th>0</th>\n",
              "      <td>163.0</td>\n",
              "      <td>28.2</td>\n",
              "      <td>17.0</td>\n",
              "      <td>0.058824</td>\n",
              "      <td>3.2</td>\n",
              "      <td>346.0</td>\n",
              "      <td>1</td>\n",
              "    </tr>\n",
              "    <tr>\n",
              "      <th>1</th>\n",
              "      <td>170.0</td>\n",
              "      <td>28.9</td>\n",
              "      <td>23.0</td>\n",
              "      <td>0.043478</td>\n",
              "      <td>3.4</td>\n",
              "      <td>355.0</td>\n",
              "      <td>1</td>\n",
              "    </tr>\n",
              "  </tbody>\n",
              "</table>\n",
              "</div>\n",
              "    <div class=\"colab-df-buttons\">\n",
              "\n",
              "  <div class=\"colab-df-container\">\n",
              "    <button class=\"colab-df-convert\" onclick=\"convertToInteractive('df-cc1d9866-6a64-4851-8220-5244c2b88ebe')\"\n",
              "            title=\"Convert this dataframe to an interactive table.\"\n",
              "            style=\"display:none;\">\n",
              "\n",
              "  <svg xmlns=\"http://www.w3.org/2000/svg\" height=\"24px\" viewBox=\"0 -960 960 960\">\n",
              "    <path d=\"M120-120v-720h720v720H120Zm60-500h600v-160H180v160Zm220 220h160v-160H400v160Zm0 220h160v-160H400v160ZM180-400h160v-160H180v160Zm440 0h160v-160H620v160ZM180-180h160v-160H180v160Zm440 0h160v-160H620v160Z\"/>\n",
              "  </svg>\n",
              "    </button>\n",
              "\n",
              "  <style>\n",
              "    .colab-df-container {\n",
              "      display:flex;\n",
              "      gap: 12px;\n",
              "    }\n",
              "\n",
              "    .colab-df-convert {\n",
              "      background-color: #E8F0FE;\n",
              "      border: none;\n",
              "      border-radius: 50%;\n",
              "      cursor: pointer;\n",
              "      display: none;\n",
              "      fill: #1967D2;\n",
              "      height: 32px;\n",
              "      padding: 0 0 0 0;\n",
              "      width: 32px;\n",
              "    }\n",
              "\n",
              "    .colab-df-convert:hover {\n",
              "      background-color: #E2EBFA;\n",
              "      box-shadow: 0px 1px 2px rgba(60, 64, 67, 0.3), 0px 1px 3px 1px rgba(60, 64, 67, 0.15);\n",
              "      fill: #174EA6;\n",
              "    }\n",
              "\n",
              "    .colab-df-buttons div {\n",
              "      margin-bottom: 4px;\n",
              "    }\n",
              "\n",
              "    [theme=dark] .colab-df-convert {\n",
              "      background-color: #3B4455;\n",
              "      fill: #D2E3FC;\n",
              "    }\n",
              "\n",
              "    [theme=dark] .colab-df-convert:hover {\n",
              "      background-color: #434B5C;\n",
              "      box-shadow: 0px 1px 3px 1px rgba(0, 0, 0, 0.15);\n",
              "      filter: drop-shadow(0px 1px 2px rgba(0, 0, 0, 0.3));\n",
              "      fill: #FFFFFF;\n",
              "    }\n",
              "  </style>\n",
              "\n",
              "    <script>\n",
              "      const buttonEl =\n",
              "        document.querySelector('#df-cc1d9866-6a64-4851-8220-5244c2b88ebe button.colab-df-convert');\n",
              "      buttonEl.style.display =\n",
              "        google.colab.kernel.accessAllowed ? 'block' : 'none';\n",
              "\n",
              "      async function convertToInteractive(key) {\n",
              "        const element = document.querySelector('#df-cc1d9866-6a64-4851-8220-5244c2b88ebe');\n",
              "        const dataTable =\n",
              "          await google.colab.kernel.invokeFunction('convertToInteractive',\n",
              "                                                    [key], {});\n",
              "        if (!dataTable) return;\n",
              "\n",
              "        const docLinkHtml = 'Like what you see? Visit the ' +\n",
              "          '<a target=\"_blank\" href=https://colab.research.google.com/notebooks/data_table.ipynb>data table notebook</a>'\n",
              "          + ' to learn more about interactive tables.';\n",
              "        element.innerHTML = '';\n",
              "        dataTable['output_type'] = 'display_data';\n",
              "        await google.colab.output.renderOutput(dataTable, element);\n",
              "        const docLink = document.createElement('div');\n",
              "        docLink.innerHTML = docLinkHtml;\n",
              "        element.appendChild(docLink);\n",
              "      }\n",
              "    </script>\n",
              "  </div>\n",
              "\n",
              "\n",
              "<div id=\"df-e5a41021-5988-422b-b47b-587a967c1b1c\">\n",
              "  <button class=\"colab-df-quickchart\" onclick=\"quickchart('df-e5a41021-5988-422b-b47b-587a967c1b1c')\"\n",
              "            title=\"Suggest charts\"\n",
              "            style=\"display:none;\">\n",
              "\n",
              "<svg xmlns=\"http://www.w3.org/2000/svg\" height=\"24px\"viewBox=\"0 0 24 24\"\n",
              "     width=\"24px\">\n",
              "    <g>\n",
              "        <path d=\"M19 3H5c-1.1 0-2 .9-2 2v14c0 1.1.9 2 2 2h14c1.1 0 2-.9 2-2V5c0-1.1-.9-2-2-2zM9 17H7v-7h2v7zm4 0h-2V7h2v10zm4 0h-2v-4h2v4z\"/>\n",
              "    </g>\n",
              "</svg>\n",
              "  </button>\n",
              "\n",
              "<style>\n",
              "  .colab-df-quickchart {\n",
              "      --bg-color: #E8F0FE;\n",
              "      --fill-color: #1967D2;\n",
              "      --hover-bg-color: #E2EBFA;\n",
              "      --hover-fill-color: #174EA6;\n",
              "      --disabled-fill-color: #AAA;\n",
              "      --disabled-bg-color: #DDD;\n",
              "  }\n",
              "\n",
              "  [theme=dark] .colab-df-quickchart {\n",
              "      --bg-color: #3B4455;\n",
              "      --fill-color: #D2E3FC;\n",
              "      --hover-bg-color: #434B5C;\n",
              "      --hover-fill-color: #FFFFFF;\n",
              "      --disabled-bg-color: #3B4455;\n",
              "      --disabled-fill-color: #666;\n",
              "  }\n",
              "\n",
              "  .colab-df-quickchart {\n",
              "    background-color: var(--bg-color);\n",
              "    border: none;\n",
              "    border-radius: 50%;\n",
              "    cursor: pointer;\n",
              "    display: none;\n",
              "    fill: var(--fill-color);\n",
              "    height: 32px;\n",
              "    padding: 0;\n",
              "    width: 32px;\n",
              "  }\n",
              "\n",
              "  .colab-df-quickchart:hover {\n",
              "    background-color: var(--hover-bg-color);\n",
              "    box-shadow: 0 1px 2px rgba(60, 64, 67, 0.3), 0 1px 3px 1px rgba(60, 64, 67, 0.15);\n",
              "    fill: var(--button-hover-fill-color);\n",
              "  }\n",
              "\n",
              "  .colab-df-quickchart-complete:disabled,\n",
              "  .colab-df-quickchart-complete:disabled:hover {\n",
              "    background-color: var(--disabled-bg-color);\n",
              "    fill: var(--disabled-fill-color);\n",
              "    box-shadow: none;\n",
              "  }\n",
              "\n",
              "  .colab-df-spinner {\n",
              "    border: 2px solid var(--fill-color);\n",
              "    border-color: transparent;\n",
              "    border-bottom-color: var(--fill-color);\n",
              "    animation:\n",
              "      spin 1s steps(1) infinite;\n",
              "  }\n",
              "\n",
              "  @keyframes spin {\n",
              "    0% {\n",
              "      border-color: transparent;\n",
              "      border-bottom-color: var(--fill-color);\n",
              "      border-left-color: var(--fill-color);\n",
              "    }\n",
              "    20% {\n",
              "      border-color: transparent;\n",
              "      border-left-color: var(--fill-color);\n",
              "      border-top-color: var(--fill-color);\n",
              "    }\n",
              "    30% {\n",
              "      border-color: transparent;\n",
              "      border-left-color: var(--fill-color);\n",
              "      border-top-color: var(--fill-color);\n",
              "      border-right-color: var(--fill-color);\n",
              "    }\n",
              "    40% {\n",
              "      border-color: transparent;\n",
              "      border-right-color: var(--fill-color);\n",
              "      border-top-color: var(--fill-color);\n",
              "    }\n",
              "    60% {\n",
              "      border-color: transparent;\n",
              "      border-right-color: var(--fill-color);\n",
              "    }\n",
              "    80% {\n",
              "      border-color: transparent;\n",
              "      border-right-color: var(--fill-color);\n",
              "      border-bottom-color: var(--fill-color);\n",
              "    }\n",
              "    90% {\n",
              "      border-color: transparent;\n",
              "      border-bottom-color: var(--fill-color);\n",
              "    }\n",
              "  }\n",
              "</style>\n",
              "\n",
              "  <script>\n",
              "    async function quickchart(key) {\n",
              "      const quickchartButtonEl =\n",
              "        document.querySelector('#' + key + ' button');\n",
              "      quickchartButtonEl.disabled = true;  // To prevent multiple clicks.\n",
              "      quickchartButtonEl.classList.add('colab-df-spinner');\n",
              "      try {\n",
              "        const charts = await google.colab.kernel.invokeFunction(\n",
              "            'suggestCharts', [key], {});\n",
              "      } catch (error) {\n",
              "        console.error('Error during call to suggestCharts:', error);\n",
              "      }\n",
              "      quickchartButtonEl.classList.remove('colab-df-spinner');\n",
              "      quickchartButtonEl.classList.add('colab-df-quickchart-complete');\n",
              "    }\n",
              "    (() => {\n",
              "      let quickchartButtonEl =\n",
              "        document.querySelector('#df-e5a41021-5988-422b-b47b-587a967c1b1c button');\n",
              "      quickchartButtonEl.style.display =\n",
              "        google.colab.kernel.accessAllowed ? 'block' : 'none';\n",
              "    })();\n",
              "  </script>\n",
              "</div>\n",
              "\n",
              "    </div>\n",
              "  </div>\n"
            ],
            "application/vnd.google.colaboratory.intrinsic+json": {
              "type": "dataframe",
              "variable_name": "df",
              "summary": "{\n  \"name\": \"df\",\n  \"rows\": 23809,\n  \"fields\": [\n    {\n      \"column\": \"O3\",\n      \"properties\": {\n        \"dtype\": \"number\",\n        \"std\": 29.55113576096343,\n        \"min\": 3.0,\n        \"max\": 210.0,\n        \"num_unique_values\": 478,\n        \"samples\": [\n          70.28571429,\n          79.0,\n          77.0\n        ],\n        \"semantic_type\": \"\",\n        \"description\": \"\"\n      }\n    },\n    {\n      \"column\": \"TMP\",\n      \"properties\": {\n        \"dtype\": \"number\",\n        \"std\": 4.968508496049189,\n        \"min\": 6.6,\n        \"max\": 35.3,\n        \"num_unique_values\": 1153,\n        \"samples\": [\n          22.01428571,\n          11.02857143,\n          25.81428571\n        ],\n        \"semantic_type\": \"\",\n        \"description\": \"\"\n      }\n    },\n    {\n      \"column\": \"RH\",\n      \"properties\": {\n        \"dtype\": \"number\",\n        \"std\": 21.65810181455652,\n        \"min\": 5.0,\n        \"max\": 100.0,\n        \"num_unique_values\": 433,\n        \"samples\": [\n          86.85714286,\n          75.0,\n          80.85714286\n        ],\n        \"semantic_type\": \"\",\n        \"description\": \"\"\n      }\n    },\n    {\n      \"column\": \"1/RH\",\n      \"properties\": {\n        \"dtype\": \"number\",\n        \"std\": 0.010002725743243186,\n        \"min\": 0.01,\n        \"max\": 0.2,\n        \"num_unique_values\": 433,\n        \"samples\": [\n          0.011513158,\n          0.013333333,\n          0.012367491\n        ],\n        \"semantic_type\": \"\",\n        \"description\": \"\"\n      }\n    },\n    {\n      \"column\": \"WSP\",\n      \"properties\": {\n        \"dtype\": \"number\",\n        \"std\": 1.430145682233255,\n        \"min\": 0.928571429,\n        \"max\": 10.1,\n        \"num_unique_values\": 365,\n        \"samples\": [\n          5.314285714,\n          1.5,\n          4.2\n        ],\n        \"semantic_type\": \"\",\n        \"description\": \"\"\n      }\n    },\n    {\n      \"column\": \"WDR\",\n      \"properties\": {\n        \"dtype\": \"number\",\n        \"std\": 34.641026552118696,\n        \"min\": 65.0,\n        \"max\": 360.0,\n        \"num_unique_values\": 378,\n        \"samples\": [\n          334.8571429,\n          200.1428571,\n          295.7142857\n        ],\n        \"semantic_type\": \"\",\n        \"description\": \"\"\n      }\n    },\n    {\n      \"column\": \"class\",\n      \"properties\": {\n        \"dtype\": \"number\",\n        \"std\": 0,\n        \"min\": 0,\n        \"max\": 1,\n        \"num_unique_values\": 2,\n        \"samples\": [\n          0,\n          1\n        ],\n        \"semantic_type\": \"\",\n        \"description\": \"\"\n      }\n    }\n  ]\n}"
            }
          },
          "metadata": {},
          "execution_count": 9
        }
      ],
      "source": [
        "#Read CSV\n",
        "df = pd.read_csv(\"sample_data/dataset_train.csv\")\n",
        "df.head(2)"
      ]
    },
    {
      "cell_type": "markdown",
      "metadata": {
        "id": "VfIwpgqe88m5"
      },
      "source": [
        "---\n",
        "<a id=\"section33\"></a>\n",
        "# <font color=\"#004D7F\" size=5> 3.3. Generate images</font>"
      ]
    },
    {
      "cell_type": "markdown",
      "metadata": {
        "id": "67kq1pWt88m5"
      },
      "source": [
        "Now we can generate the images with the `generateImages()` generic function. Likewise, we create a dataset that will have the path of each of the samples with the corresponding image created for it.\n",
        "\n",
        "Note that each image is created based on a row, therefore, each numerical sample of the dataset will correspond to a particular image. In other words, we will have the same number of images as samples/rows."
      ]
    },
    {
      "cell_type": "code",
      "execution_count": 10,
      "metadata": {
        "colab": {
          "base_uri": "https://localhost:8080/"
        },
        "id": "rZGfz7zY88m6",
        "outputId": "88cef488-5fb8-4152-bf0c-1fd3d2dee497"
      },
      "outputs": [
        {
          "output_type": "stream",
          "name": "stdout",
          "text": [
            "The images are already generated\n",
            "bargraph/supervised.csv\n"
          ]
        }
      ],
      "source": [
        "import os\n",
        "\n",
        "# Generate the images if the folder does not exist\n",
        "if not os.path.exists(images_folder):\n",
        "    #Generate thet images\n",
        "    image_model.generateImages(df, images_folder)\n",
        "else:\n",
        "    print(\"The images are already generated\")\n",
        "\n",
        "img_paths = os.path.join(images_folder,problem_type+\".csv\")\n",
        "\n",
        "print(img_paths)"
      ]
    },
    {
      "cell_type": "markdown",
      "metadata": {
        "id": "GeAB0Yyk88m6"
      },
      "source": [
        "---\n",
        "<a id=\"section34\"></a>\n",
        "# <font color=\"#004D7F\" size=5> 3.4. Read Images</font>"
      ]
    },
    {
      "cell_type": "markdown",
      "metadata": {
        "id": "38QMtjD388m6"
      },
      "source": [
        "Now, we read the created images"
      ]
    },
    {
      "cell_type": "code",
      "execution_count": 11,
      "metadata": {
        "id": "VGShRjwe88m6"
      },
      "outputs": [],
      "source": [
        "imgs = pd.read_csv(img_paths)\n",
        "\n",
        "#imgs[\"images\"]= images_folder + \"\\\\\" + imgs[\"images\"]\n",
        "imgs[\"images\"]= images_folder + \"/\" + imgs[\"images\"]"
      ]
    },
    {
      "cell_type": "markdown",
      "metadata": {
        "id": "pndrAERP88m6"
      },
      "source": [
        "---\n",
        "<a id=\"section35\"></a>\n",
        "# <font color=\"#004D7F\" size=5> 3.5. Mix images and tidy data</font>"
      ]
    },
    {
      "cell_type": "markdown",
      "metadata": {
        "id": "VvHqXNok88m6"
      },
      "source": [
        "Since we are going to use hybrid networks, i.e. create a model in which we join a CNN for the images and a MLP for the tabular data, we are going to join it in order to integrate all the data in our hybrid model.\n"
      ]
    },
    {
      "cell_type": "code",
      "execution_count": 12,
      "metadata": {
        "colab": {
          "base_uri": "https://localhost:8080/",
          "height": 112
        },
        "id": "hUupfMT088m6",
        "outputId": "9182820a-ca08-4452-99ea-e85a06223323"
      },
      "outputs": [
        {
          "output_type": "execute_result",
          "data": {
            "text/plain": [
              "         O3       TMP        RH      1/RH       WSP       WDR  class\n",
              "0  0.772947  0.752613  0.126316  0.256966  0.247664  0.952542      1\n",
              "1  0.806763  0.777003  0.189474  0.176201  0.269470  0.983051      1"
            ],
            "text/html": [
              "\n",
              "  <div id=\"df-9912385c-d192-4ad3-8325-a5af1146ad78\" class=\"colab-df-container\">\n",
              "    <div>\n",
              "<style scoped>\n",
              "    .dataframe tbody tr th:only-of-type {\n",
              "        vertical-align: middle;\n",
              "    }\n",
              "\n",
              "    .dataframe tbody tr th {\n",
              "        vertical-align: top;\n",
              "    }\n",
              "\n",
              "    .dataframe thead th {\n",
              "        text-align: right;\n",
              "    }\n",
              "</style>\n",
              "<table border=\"1\" class=\"dataframe\">\n",
              "  <thead>\n",
              "    <tr style=\"text-align: right;\">\n",
              "      <th></th>\n",
              "      <th>O3</th>\n",
              "      <th>TMP</th>\n",
              "      <th>RH</th>\n",
              "      <th>1/RH</th>\n",
              "      <th>WSP</th>\n",
              "      <th>WDR</th>\n",
              "      <th>class</th>\n",
              "    </tr>\n",
              "  </thead>\n",
              "  <tbody>\n",
              "    <tr>\n",
              "      <th>0</th>\n",
              "      <td>0.772947</td>\n",
              "      <td>0.752613</td>\n",
              "      <td>0.126316</td>\n",
              "      <td>0.256966</td>\n",
              "      <td>0.247664</td>\n",
              "      <td>0.952542</td>\n",
              "      <td>1</td>\n",
              "    </tr>\n",
              "    <tr>\n",
              "      <th>1</th>\n",
              "      <td>0.806763</td>\n",
              "      <td>0.777003</td>\n",
              "      <td>0.189474</td>\n",
              "      <td>0.176201</td>\n",
              "      <td>0.269470</td>\n",
              "      <td>0.983051</td>\n",
              "      <td>1</td>\n",
              "    </tr>\n",
              "  </tbody>\n",
              "</table>\n",
              "</div>\n",
              "    <div class=\"colab-df-buttons\">\n",
              "\n",
              "  <div class=\"colab-df-container\">\n",
              "    <button class=\"colab-df-convert\" onclick=\"convertToInteractive('df-9912385c-d192-4ad3-8325-a5af1146ad78')\"\n",
              "            title=\"Convert this dataframe to an interactive table.\"\n",
              "            style=\"display:none;\">\n",
              "\n",
              "  <svg xmlns=\"http://www.w3.org/2000/svg\" height=\"24px\" viewBox=\"0 -960 960 960\">\n",
              "    <path d=\"M120-120v-720h720v720H120Zm60-500h600v-160H180v160Zm220 220h160v-160H400v160Zm0 220h160v-160H400v160ZM180-400h160v-160H180v160Zm440 0h160v-160H620v160ZM180-180h160v-160H180v160Zm440 0h160v-160H620v160Z\"/>\n",
              "  </svg>\n",
              "    </button>\n",
              "\n",
              "  <style>\n",
              "    .colab-df-container {\n",
              "      display:flex;\n",
              "      gap: 12px;\n",
              "    }\n",
              "\n",
              "    .colab-df-convert {\n",
              "      background-color: #E8F0FE;\n",
              "      border: none;\n",
              "      border-radius: 50%;\n",
              "      cursor: pointer;\n",
              "      display: none;\n",
              "      fill: #1967D2;\n",
              "      height: 32px;\n",
              "      padding: 0 0 0 0;\n",
              "      width: 32px;\n",
              "    }\n",
              "\n",
              "    .colab-df-convert:hover {\n",
              "      background-color: #E2EBFA;\n",
              "      box-shadow: 0px 1px 2px rgba(60, 64, 67, 0.3), 0px 1px 3px 1px rgba(60, 64, 67, 0.15);\n",
              "      fill: #174EA6;\n",
              "    }\n",
              "\n",
              "    .colab-df-buttons div {\n",
              "      margin-bottom: 4px;\n",
              "    }\n",
              "\n",
              "    [theme=dark] .colab-df-convert {\n",
              "      background-color: #3B4455;\n",
              "      fill: #D2E3FC;\n",
              "    }\n",
              "\n",
              "    [theme=dark] .colab-df-convert:hover {\n",
              "      background-color: #434B5C;\n",
              "      box-shadow: 0px 1px 3px 1px rgba(0, 0, 0, 0.15);\n",
              "      filter: drop-shadow(0px 1px 2px rgba(0, 0, 0, 0.3));\n",
              "      fill: #FFFFFF;\n",
              "    }\n",
              "  </style>\n",
              "\n",
              "    <script>\n",
              "      const buttonEl =\n",
              "        document.querySelector('#df-9912385c-d192-4ad3-8325-a5af1146ad78 button.colab-df-convert');\n",
              "      buttonEl.style.display =\n",
              "        google.colab.kernel.accessAllowed ? 'block' : 'none';\n",
              "\n",
              "      async function convertToInteractive(key) {\n",
              "        const element = document.querySelector('#df-9912385c-d192-4ad3-8325-a5af1146ad78');\n",
              "        const dataTable =\n",
              "          await google.colab.kernel.invokeFunction('convertToInteractive',\n",
              "                                                    [key], {});\n",
              "        if (!dataTable) return;\n",
              "\n",
              "        const docLinkHtml = 'Like what you see? Visit the ' +\n",
              "          '<a target=\"_blank\" href=https://colab.research.google.com/notebooks/data_table.ipynb>data table notebook</a>'\n",
              "          + ' to learn more about interactive tables.';\n",
              "        element.innerHTML = '';\n",
              "        dataTable['output_type'] = 'display_data';\n",
              "        await google.colab.output.renderOutput(dataTable, element);\n",
              "        const docLink = document.createElement('div');\n",
              "        docLink.innerHTML = docLinkHtml;\n",
              "        element.appendChild(docLink);\n",
              "      }\n",
              "    </script>\n",
              "  </div>\n",
              "\n",
              "\n",
              "<div id=\"df-604d4bd6-3ee7-4d36-b499-316192b9223c\">\n",
              "  <button class=\"colab-df-quickchart\" onclick=\"quickchart('df-604d4bd6-3ee7-4d36-b499-316192b9223c')\"\n",
              "            title=\"Suggest charts\"\n",
              "            style=\"display:none;\">\n",
              "\n",
              "<svg xmlns=\"http://www.w3.org/2000/svg\" height=\"24px\"viewBox=\"0 0 24 24\"\n",
              "     width=\"24px\">\n",
              "    <g>\n",
              "        <path d=\"M19 3H5c-1.1 0-2 .9-2 2v14c0 1.1.9 2 2 2h14c1.1 0 2-.9 2-2V5c0-1.1-.9-2-2-2zM9 17H7v-7h2v7zm4 0h-2V7h2v10zm4 0h-2v-4h2v4z\"/>\n",
              "    </g>\n",
              "</svg>\n",
              "  </button>\n",
              "\n",
              "<style>\n",
              "  .colab-df-quickchart {\n",
              "      --bg-color: #E8F0FE;\n",
              "      --fill-color: #1967D2;\n",
              "      --hover-bg-color: #E2EBFA;\n",
              "      --hover-fill-color: #174EA6;\n",
              "      --disabled-fill-color: #AAA;\n",
              "      --disabled-bg-color: #DDD;\n",
              "  }\n",
              "\n",
              "  [theme=dark] .colab-df-quickchart {\n",
              "      --bg-color: #3B4455;\n",
              "      --fill-color: #D2E3FC;\n",
              "      --hover-bg-color: #434B5C;\n",
              "      --hover-fill-color: #FFFFFF;\n",
              "      --disabled-bg-color: #3B4455;\n",
              "      --disabled-fill-color: #666;\n",
              "  }\n",
              "\n",
              "  .colab-df-quickchart {\n",
              "    background-color: var(--bg-color);\n",
              "    border: none;\n",
              "    border-radius: 50%;\n",
              "    cursor: pointer;\n",
              "    display: none;\n",
              "    fill: var(--fill-color);\n",
              "    height: 32px;\n",
              "    padding: 0;\n",
              "    width: 32px;\n",
              "  }\n",
              "\n",
              "  .colab-df-quickchart:hover {\n",
              "    background-color: var(--hover-bg-color);\n",
              "    box-shadow: 0 1px 2px rgba(60, 64, 67, 0.3), 0 1px 3px 1px rgba(60, 64, 67, 0.15);\n",
              "    fill: var(--button-hover-fill-color);\n",
              "  }\n",
              "\n",
              "  .colab-df-quickchart-complete:disabled,\n",
              "  .colab-df-quickchart-complete:disabled:hover {\n",
              "    background-color: var(--disabled-bg-color);\n",
              "    fill: var(--disabled-fill-color);\n",
              "    box-shadow: none;\n",
              "  }\n",
              "\n",
              "  .colab-df-spinner {\n",
              "    border: 2px solid var(--fill-color);\n",
              "    border-color: transparent;\n",
              "    border-bottom-color: var(--fill-color);\n",
              "    animation:\n",
              "      spin 1s steps(1) infinite;\n",
              "  }\n",
              "\n",
              "  @keyframes spin {\n",
              "    0% {\n",
              "      border-color: transparent;\n",
              "      border-bottom-color: var(--fill-color);\n",
              "      border-left-color: var(--fill-color);\n",
              "    }\n",
              "    20% {\n",
              "      border-color: transparent;\n",
              "      border-left-color: var(--fill-color);\n",
              "      border-top-color: var(--fill-color);\n",
              "    }\n",
              "    30% {\n",
              "      border-color: transparent;\n",
              "      border-left-color: var(--fill-color);\n",
              "      border-top-color: var(--fill-color);\n",
              "      border-right-color: var(--fill-color);\n",
              "    }\n",
              "    40% {\n",
              "      border-color: transparent;\n",
              "      border-right-color: var(--fill-color);\n",
              "      border-top-color: var(--fill-color);\n",
              "    }\n",
              "    60% {\n",
              "      border-color: transparent;\n",
              "      border-right-color: var(--fill-color);\n",
              "    }\n",
              "    80% {\n",
              "      border-color: transparent;\n",
              "      border-right-color: var(--fill-color);\n",
              "      border-bottom-color: var(--fill-color);\n",
              "    }\n",
              "    90% {\n",
              "      border-color: transparent;\n",
              "      border-bottom-color: var(--fill-color);\n",
              "    }\n",
              "  }\n",
              "</style>\n",
              "\n",
              "  <script>\n",
              "    async function quickchart(key) {\n",
              "      const quickchartButtonEl =\n",
              "        document.querySelector('#' + key + ' button');\n",
              "      quickchartButtonEl.disabled = true;  // To prevent multiple clicks.\n",
              "      quickchartButtonEl.classList.add('colab-df-spinner');\n",
              "      try {\n",
              "        const charts = await google.colab.kernel.invokeFunction(\n",
              "            'suggestCharts', [key], {});\n",
              "      } catch (error) {\n",
              "        console.error('Error during call to suggestCharts:', error);\n",
              "      }\n",
              "      quickchartButtonEl.classList.remove('colab-df-spinner');\n",
              "      quickchartButtonEl.classList.add('colab-df-quickchart-complete');\n",
              "    }\n",
              "    (() => {\n",
              "      let quickchartButtonEl =\n",
              "        document.querySelector('#df-604d4bd6-3ee7-4d36-b499-316192b9223c button');\n",
              "      quickchartButtonEl.style.display =\n",
              "        google.colab.kernel.accessAllowed ? 'block' : 'none';\n",
              "    })();\n",
              "  </script>\n",
              "</div>\n",
              "\n",
              "    </div>\n",
              "  </div>\n"
            ],
            "application/vnd.google.colaboratory.intrinsic+json": {
              "type": "dataframe",
              "variable_name": "df_normalized",
              "summary": "{\n  \"name\": \"df_normalized\",\n  \"rows\": 23809,\n  \"fields\": [\n    {\n      \"column\": \"O3\",\n      \"properties\": {\n        \"dtype\": \"number\",\n        \"std\": 0.1427591099563472,\n        \"min\": 0.0,\n        \"max\": 1.0,\n        \"num_unique_values\": 478,\n        \"samples\": [\n          0.32505175985507245,\n          0.3671497584541063,\n          0.357487922705314\n        ],\n        \"semantic_type\": \"\",\n        \"description\": \"\"\n      }\n    },\n    {\n      \"column\": \"TMP\",\n      \"properties\": {\n        \"dtype\": \"number\",\n        \"std\": 0.17311876292854386,\n        \"min\": 0.0,\n        \"max\": 1.0,\n        \"num_unique_values\": 1153,\n        \"samples\": [\n          0.5370831257839722,\n          0.15430562473867598,\n          0.6694873069686411\n        ],\n        \"semantic_type\": \"\",\n        \"description\": \"\"\n      }\n    },\n    {\n      \"column\": \"RH\",\n      \"properties\": {\n        \"dtype\": \"number\",\n        \"std\": 0.22798001910059115,\n        \"min\": 0.0,\n        \"max\": 1.0,\n        \"num_unique_values\": 433,\n        \"samples\": [\n          0.8616541353684211,\n          0.7368421052631579,\n          0.7984962406315789\n        ],\n        \"semantic_type\": \"\",\n        \"description\": \"\"\n      }\n    },\n    {\n      \"column\": \"1/RH\",\n      \"properties\": {\n        \"dtype\": \"number\",\n        \"std\": 0.05264592496443704,\n        \"min\": 0.0,\n        \"max\": 1.0,\n        \"num_unique_values\": 433,\n        \"samples\": [\n          0.007963989473684213,\n          0.017543857894736836,\n          0.012460478947368417\n        ],\n        \"semantic_type\": \"\",\n        \"description\": \"\"\n      }\n    },\n    {\n      \"column\": \"WSP\",\n      \"properties\": {\n        \"dtype\": \"number\",\n        \"std\": 0.1559348874782059,\n        \"min\": 0.0,\n        \"max\": 1.0,\n        \"num_unique_values\": 365,\n        \"samples\": [\n          0.4781931463619094,\n          0.06230529590633825,\n          0.35669781928458094\n        ],\n        \"semantic_type\": \"\",\n        \"description\": \"\"\n      }\n    },\n    {\n      \"column\": \"WDR\",\n      \"properties\": {\n        \"dtype\": \"number\",\n        \"std\": 0.11742720865124916,\n        \"min\": 0.0,\n        \"max\": 1.0,\n        \"num_unique_values\": 378,\n        \"samples\": [\n          0.9147699759322033,\n          0.45811137999999996,\n          0.7820823244067797\n        ],\n        \"semantic_type\": \"\",\n        \"description\": \"\"\n      }\n    },\n    {\n      \"column\": \"class\",\n      \"properties\": {\n        \"dtype\": \"number\",\n        \"std\": 0,\n        \"min\": 0,\n        \"max\": 1,\n        \"num_unique_values\": 2,\n        \"samples\": [\n          0,\n          1\n        ],\n        \"semantic_type\": \"\",\n        \"description\": \"\"\n      }\n    }\n  ]\n}"
            }
          },
          "metadata": {},
          "execution_count": 12
        }
      ],
      "source": [
        "# Select all the attributes to normalize\n",
        "columns_to_normalize = df.columns[:-1]\n",
        "\n",
        "# Normalize between 0 and 1\n",
        "df_normalized = (df[columns_to_normalize] - df[columns_to_normalize].min()) / (df[columns_to_normalize].max() - df[columns_to_normalize].min())\n",
        "\n",
        "# Combine the attributes and the label\n",
        "df_normalized = pd.concat([df_normalized, df[df.columns[-1]]], axis=1)\n",
        "\n",
        "df_normalized.head(2)"
      ]
    },
    {
      "cell_type": "markdown",
      "metadata": {
        "id": "xDpQitpT88m6"
      },
      "source": [
        "Combine the images and tidy data in the same dataframe, split attributes and objective value"
      ]
    },
    {
      "cell_type": "code",
      "execution_count": 13,
      "metadata": {
        "colab": {
          "base_uri": "https://localhost:8080/"
        },
        "id": "Or9lJnf988m6",
        "outputId": "c830a82e-9aa4-4abc-cf45-43937cd1cbec"
      },
      "outputs": [
        {
          "output_type": "stream",
          "name": "stdout",
          "text": [
            "0        1\n",
            "1        1\n",
            "2        1\n",
            "3        1\n",
            "4        1\n",
            "        ..\n",
            "23804    0\n",
            "23805    0\n",
            "23806    0\n",
            "23807    0\n",
            "23808    0\n",
            "Name: class, Length: 23809, dtype: int64\n"
          ]
        }
      ],
      "source": [
        "combined_dataset = pd.concat([imgs,df_normalized[columns_to_normalize]],axis=1)\n",
        "\n",
        "df_x = combined_dataset.drop(\"class\",axis=1)\n",
        "df_y = combined_dataset[\"class\"]\n",
        "\n",
        "print(df_y)"
      ]
    },
    {
      "cell_type": "markdown",
      "metadata": {
        "id": "XU3Gjaqb88m7"
      },
      "source": [
        "---\n",
        "<a id=\"section36\"></a>\n",
        "# <font color=\"#004D7F\" size=5> 3.6. Label encoding</font>"
      ]
    },
    {
      "cell_type": "markdown",
      "metadata": {
        "id": "tDMtBcLt88m7"
      },
      "source": [
        "\n",
        "In this section, we delve into label encoding, a crucial preprocessing step for preparing categorical labels for use in machine learning models. Specifically for binary classification tasks, label encoding involves transforming categorical labels into a binary format, represented by the integers 0 and 1."
      ]
    },
    {
      "cell_type": "code",
      "execution_count": null,
      "metadata": {
        "id": "rlHUpmvg88m7"
      },
      "outputs": [],
      "source": [
        "#from sklearn.preprocessing import LabelEncoder\n",
        "#encoder = LabelEncoder()\n",
        "#df_y = encoder.fit_transform(df_y)"
      ]
    },
    {
      "cell_type": "markdown",
      "metadata": {
        "id": "_haEKIo7jpD1"
      },
      "source": [
        "---\n",
        "<div style=\"text-align: right\"> <font size=5> <a href=\"#indice\"><i class=\"fa fa-arrow-circle-up\" aria-hidden=\"true\" style=\"color:#004D7F\"></i></a></font></div>\n",
        "\n",
        "---"
      ]
    },
    {
      "cell_type": "markdown",
      "metadata": {
        "id": "uF1lJWbojpD3"
      },
      "source": [
        "<a id=\"section4\"></a>\n",
        "# <font color=\"#004D7F\" size=6> 4. Pre-modelling phase</font>"
      ]
    },
    {
      "cell_type": "code",
      "execution_count": 14,
      "metadata": {
        "id": "BcWuP86k88m7"
      },
      "outputs": [],
      "source": [
        "# Depends on the method yo may have to change the value of pixel variable\n",
        "pixel=19"
      ]
    },
    {
      "cell_type": "code",
      "execution_count": 15,
      "metadata": {
        "colab": {
          "base_uri": "https://localhost:8080/"
        },
        "id": "WCizRszW88m7",
        "outputId": "371655b6-e7f4-4dbc-f6de-099fa5021e76"
      },
      "outputs": [
        {
          "output_type": "stream",
          "name": "stdout",
          "text": [
            "Images shape:  (19, 19)\n",
            "Attributres:  6\n",
            "Image size (pixels): 19\n"
          ]
        }
      ],
      "source": [
        "import cv2\n",
        "X_train, X_val, y_train, y_val = train_test_split(df_x, df_y, test_size = 0.40, random_state = SEED,stratify=df_y)\n",
        "X_val, X_test, y_val, y_test = train_test_split(X_val, y_val, test_size = 0.50, random_state = SEED,stratify=y_val)\n",
        "\n",
        "#TIDY DATA SPLITTED\n",
        "X_train_num = X_train.drop(\"images\",axis=1)\n",
        "X_val_num = X_val.drop(\"images\",axis=1)\n",
        "X_test_num = X_test.drop(\"images\",axis=1)\n",
        "\n",
        "#IMAGES\n",
        "# For 3 canal (RGB)\n",
        "\"\"\"X_train_img = np.array([cv2.resize(cv2.imread(img),(pixel,pixel)) for img in X_train[\"images\"]])\n",
        "X_val_img = np.array([cv2.resize(cv2.imread(img),(pixel,pixel)) for img in X_val[\"images\"]])\n",
        "X_test_img = np.array([cv2.resize(cv2.imread(img),(pixel,pixel)) for img in X_test[\"images\"]])\"\"\"\n",
        "\n",
        "# For 1 canal (GRAY SCALE)\n",
        "X_train_img = np.array([cv2.imread(img,cv2.IMREAD_GRAYSCALE) for img in X_train[\"images\"]])\n",
        "X_val_img = np.array([cv2.imread(img,cv2.IMREAD_GRAYSCALE) for img in X_val[\"images\"]])\n",
        "X_test_img = np.array([cv2.imread(img,cv2.IMREAD_GRAYSCALE) for img in X_test[\"images\"]])\n",
        "\n",
        "attributes = len(X_train_num.columns)\n",
        "imgs_shape = X_train_img[0].shape\n",
        "\n",
        "print(\"Images shape: \",imgs_shape)\n",
        "print(\"Attributres: \",attributes)\n",
        "pixel=X_train_img[0].shape[0]\n",
        "print(\"Image size (pixels):\", pixel)"
      ]
    },
    {
      "cell_type": "code",
      "execution_count": 16,
      "metadata": {
        "id": "YIjfeiz188m8"
      },
      "outputs": [],
      "source": [
        "X_train_img = X_train_img/255\n",
        "X_val_img = X_val_img/255\n",
        "X_test_img = X_test_img/255"
      ]
    },
    {
      "cell_type": "markdown",
      "metadata": {
        "id": "XnfI0KTT88m8"
      },
      "source": [
        "<a id=\"section5\"></a>\n",
        "# <font color=\"#004D7F\" size=6> 5. Modeling hybrid network</font>"
      ]
    },
    {
      "cell_type": "markdown",
      "metadata": {
        "id": "z89LhmzI88nA"
      },
      "source": [
        "Now we can start the CNN+MLP training. Before that we prepare the algorithm for reading data.\n",
        "\n",
        "In this example, 2 branch networks is created\n",
        "- 1º branch: FFNN for tabular data\n",
        "- 2º branch: CNN for TINTOlib images"
      ]
    },
    {
      "cell_type": "markdown",
      "metadata": {
        "id": "947QyE3-88nA"
      },
      "source": [
        "---\n",
        "<a id=\"section51\"></a>\n",
        "# <font color=\"#004D7F\" size=5> 5.1. FFNN for tabular data</font>\n",
        "\n",
        "This is an example of a simple FFNN for tabular data. Note that we are not looking for the optimization of the CNN but to show an example of TINTOlib execution."
      ]
    },
    {
      "cell_type": "code",
      "execution_count": 17,
      "metadata": {
        "id": "AXT0WTc088nA"
      },
      "outputs": [],
      "source": [
        "dropout = 0.1"
      ]
    },
    {
      "cell_type": "code",
      "execution_count": 18,
      "metadata": {
        "id": "C7ljnfun88nA"
      },
      "outputs": [],
      "source": [
        "filters_ffnn = [1024,512,256,128,64,32,16]\n",
        "\n",
        "ff_inputs = Input(shape = (attributes,))\n",
        "\n",
        "# * START BRANCH 1\n",
        "#mlp_1 = Dense(1024, activation='relu')(ff_inputs)\n",
        "#mlp_1 = BatchNormalization()(mlp_1)\n",
        "#mlp_1 = Dropout(dropout)(mlp_1)\n",
        "\n",
        "#mlp_1 = Dense(512, activation='relu')(ff_inputs)\n",
        "#mlp_1 = BatchNormalization()(mlp_1)\n",
        "#mlp_1 = Dropout(dropout)(mlp_1)\n",
        "\n",
        "#mlp_1 = Dense(256, activation='relu')(ff_inputs)\n",
        "#mlp_1 = BatchNormalization()(mlp_1)\n",
        "#mlp_1 = Dropout(dropout)(mlp_1)\n",
        "\n",
        "#mlp_1 = Dense(128, activation='relu')(ff_inputs)\n",
        "#mlp_1 = BatchNormalization()(mlp_1)\n",
        "#mlp_1 = Dropout(dropout)(mlp_1)\n",
        "\n",
        "mlp_1 = Dense(64, activation='relu')(ff_inputs)\n",
        "mlp_1 = BatchNormalization()(mlp_1)\n",
        "mlp_1 = Dropout(dropout)(mlp_1)\n",
        "\n",
        "mlp_1 = Dense(32, activation='relu')(mlp_1)\n",
        "mlp_1 = BatchNormalization()(mlp_1)\n",
        "mlp_1 = Dropout(dropout)(mlp_1)\n",
        "\n",
        "mlp_1 = Dense(16, activation='relu')(mlp_1)\n",
        "mlp_1 = BatchNormalization()(mlp_1)\n",
        "mlp_1 = Dropout(dropout)(mlp_1)\n",
        "\n",
        "# * START BRANCH\n",
        "#mlp_2 = Dense(1024, activation='relu')(ff_inputs)\n",
        "#mlp_2 = BatchNormalization()(mlp_2)\n",
        "#mlp_2 = Dropout(dropout)(mlp_2)\n",
        "\n",
        "#mlp_2 = Dense(512, activation='relu')(ff_inputs)\n",
        "#mlp_2 = BatchNormalization()(mlp_2)\n",
        "#mlp_2 = Dropout(dropout)(mlp_2)\n",
        "\n",
        "#mlp_2 = Dense(256, activation='relu')(ff_inputs)\n",
        "#mlp_2 = BatchNormalization()(mlp_2)\n",
        "#mlp_2 = Dropout(dropout)(mlp_2)\n",
        "\n",
        "#mlp_2 = Dense(128, activation='relu')(ff_inputs)\n",
        "#mlp_2 = BatchNormalization()(mlp_2)\n",
        "#mlp_2 = Dropout(dropout)(mlp_2)\n",
        "\n",
        "#mlp_2 = Dense(64, activation='relu')(ff_inputs)\n",
        "#mlp_2 = BatchNormalization()(mlp_2)\n",
        "#mlp_2 = Dropout(dropout)(mlp_2)\n",
        "\n",
        "#mlp_2 = Dense(32, activation='relu')(mlp_2)\n",
        "#mlp_2 = BatchNormalization()(mlp_2)\n",
        "#mlp_2 = Dropout(dropout)(mlp_2)\n",
        "\n",
        "#mlp_2 = Dense(16, activation='relu')(mlp_2)\n",
        "#mlp_2 = BatchNormalization()(mlp_2)\n",
        "#mlp_2 = Dropout(dropout)(mlp_2)\n",
        "\n",
        "\n",
        "#merged_tabular = Concatenate(axis=1)([mlp_1, mlp_2])\n",
        "\n",
        "\n",
        "ff_model = Model(inputs = ff_inputs, outputs = mlp_1)"
      ]
    },
    {
      "cell_type": "markdown",
      "metadata": {
        "id": "_Mh94k-588nA"
      },
      "source": [
        "---\n",
        "<a id=\"section52\"></a>\n",
        "# <font color=\"#004D7F\" size=5> 5.2. CNN for TINTOlib images</font>\n",
        "\n",
        "This is an example of a simple CNN for TINTOlib images. Note that we are not looking for the optimization of the CNN but to show an example of TINTOlib execution."
      ]
    },
    {
      "cell_type": "code",
      "execution_count": 19,
      "metadata": {
        "id": "o4BHooGw88nA"
      },
      "outputs": [],
      "source": [
        "#Input\n",
        "#input_shape = Input(shape=imgs_shape)\n",
        "input_shape = Input(shape=(pixel, pixel, 1))\n",
        "\n",
        "# CNN branch 1\n",
        "tower_1 = Conv2D(16, (3,3), padding=\"same\")(input_shape)\n",
        "tower_1 = BatchNormalization()(tower_1)\n",
        "tower_1 = Activation('relu')(tower_1)\n",
        "tower_1 = MaxPooling2D(2,2)(tower_1)\n",
        "tower_1 = Dropout(dropout)(tower_1)\n",
        "\n",
        "tower_1 = Conv2D(32, (3,3), padding=\"same\")(tower_1)\n",
        "tower_1 = BatchNormalization()(tower_1)\n",
        "tower_1 = Activation('relu')(tower_1)\n",
        "tower_1 = MaxPooling2D(2,2)(tower_1)\n",
        "tower_1 = Dropout(dropout)(tower_1)\n",
        "\n",
        "tower_1 = Conv2D(64, (3,3), padding=\"same\")(tower_1)\n",
        "tower_1 = BatchNormalization()(tower_1)\n",
        "tower_1 = Activation('relu')(tower_1)\n",
        "tower_1 = MaxPooling2D(2,2)(tower_1)\n",
        "tower_1 = Dropout(dropout)(tower_1)\n",
        "\n",
        "#tower_1 = Conv2D(64, (3,3), padding=\"same\")(tower_1)\n",
        "#tower_1 = BatchNormalization()(tower_1)\n",
        "#tower_1 = Activation('relu')(tower_1)\n",
        "#tower_1 = MaxPooling2D(2,2)(tower_1)\n",
        "#tower_1 = Dropout(dropout)(tower_1)\n",
        "\n",
        "#CNN branch 2\n",
        "tower_2 = Conv2D(16, (5,5), padding=\"same\")(input_shape)\n",
        "tower_2 = BatchNormalization()(tower_2)\n",
        "tower_2 = Activation('relu')(tower_2)\n",
        "tower_2 = AveragePooling2D(2,2)(tower_2)\n",
        "tower_2 = Dropout(dropout)(tower_2)\n",
        "\n",
        "tower_2 = Conv2D(32, (5,5), padding=\"same\")(tower_2)\n",
        "tower_2 = BatchNormalization()(tower_2)\n",
        "tower_2 = Activation('relu')(tower_2)\n",
        "tower_2 = AveragePooling2D(2,2)(tower_2)\n",
        "tower_2 = Dropout(dropout)(tower_2)\n",
        "\n",
        "tower_2 = Conv2D(64, (5,5), padding=\"same\")(tower_2)\n",
        "tower_2 = BatchNormalization()(tower_2)\n",
        "tower_2 = Activation('relu')(tower_2)\n",
        "tower_2 = AveragePooling2D(2,2)(tower_2)\n",
        "tower_2 = Dropout(dropout)(tower_2)\n",
        "\n",
        "#tower_2 = Conv2D(64, (5,5), padding=\"same\")(tower_2)\n",
        "#tower_2 = BatchNormalization()(tower_2)\n",
        "#tower_2 = Activation('relu')(tower_2)\n",
        "#tower_2 = AveragePooling2D(2,2)(tower_2)\n",
        "#tower_2 = Dropout(dropout)(tower_2)\n",
        "\n",
        "#Concatenate CNN branches\n",
        "merged = Concatenate(axis=1)([tower_1, tower_2])\n",
        "\n",
        "#Flatten\n",
        "merged = Flatten()(merged)\n",
        "\n",
        "#Dense layers\n",
        "out = Dense(256, activation='relu')(merged)\n",
        "out = Dropout(dropout)(merged)\n",
        "out = Dense(128, activation='sigmoid')(out)\n",
        "out = Dropout(dropout)(out)\n",
        "out = Dense(64, activation='sigmoid')(out)\n",
        "out = Dropout(dropout)(out)\n",
        "out = Dense(32, activation='sigmoid')(out)\n",
        "out = Dropout(dropout)(out)\n",
        "\n",
        "cnn_model = Model(input_shape, out)"
      ]
    },
    {
      "cell_type": "markdown",
      "metadata": {
        "id": "9i7TPNiz88nB"
      },
      "source": [
        "---\n",
        "<a id=\"section53\"></a>\n",
        "# <font color=\"#004D7F\" size=5> 5.3. Concatenate branches</font>\n",
        "\n",
        "Finally, we must concatenate the output of the CNN branch with the output of the FFNN branch in a final FFNN that will give the predictions."
      ]
    },
    {
      "cell_type": "code",
      "execution_count": 20,
      "metadata": {
        "id": "1xruf7XA88nB"
      },
      "outputs": [],
      "source": [
        "combinedInput = concatenate([ff_model.output, cnn_model.output])\n",
        "x = Dense(128, activation=\"relu\")(combinedInput)\n",
        "x = BatchNormalization()(x)\n",
        "x = Dropout(dropout)(x)\n",
        "x = Dense(64, activation=\"relu\")(x)\n",
        "x = BatchNormalization()(x)\n",
        "x = Dropout(dropout)(x)\n",
        "x = Dense(32, activation=\"relu\")(x)\n",
        "x = BatchNormalization()(x)\n",
        "x = Dropout(dropout)(x)\n",
        "x = Dense(1, activation=\"sigmoid\")(x)\n",
        "\n",
        "model = Model(inputs=[ff_model.input, cnn_model.input], outputs=x)"
      ]
    },
    {
      "cell_type": "markdown",
      "metadata": {
        "id": "euz0kTlT88nB"
      },
      "source": [
        "---\n",
        "<a id=\"section54\"></a>\n",
        "# <font color=\"#004D7F\" size=5> 5.4. Metrics</font>\n",
        "\n",
        "Define metrics and some hyperparameters"
      ]
    },
    {
      "cell_type": "code",
      "execution_count": 21,
      "metadata": {
        "id": "qty4l0ZF88nB"
      },
      "outputs": [],
      "source": [
        "METRICS = [\n",
        "    tf.keras.metrics.TruePositives(name = 'tp'),\n",
        "    tf.keras.metrics.FalsePositives(name = 'fp'),\n",
        "    tf.keras.metrics.TrueNegatives(name = 'tn'),\n",
        "    tf.keras.metrics.FalseNegatives(name = 'fn'),\n",
        "    tf.keras.metrics.BinaryAccuracy(name ='accuracy'),\n",
        "    tf.keras.metrics.Precision(name = 'precision'),\n",
        "    tf.keras.metrics.Recall(name = 'recall'),\n",
        "    tf.keras.metrics.AUC(name = 'auc'),\n",
        "]"
      ]
    },
    {
      "cell_type": "markdown",
      "metadata": {
        "id": "rfB8RUm988nB"
      },
      "source": [
        "---\n",
        "<a id=\"section55\"></a>\n",
        "# <font color=\"#004D7F\" size=5> 5.5. Compile and fit</font>\n",
        "\n",
        "Note to specify the **loss depending** on whether you have a binary or multiclass classification problem."
      ]
    },
    {
      "cell_type": "code",
      "execution_count": 22,
      "metadata": {
        "id": "RqMrh0w788nB"
      },
      "outputs": [],
      "source": [
        "#HYPERPARAMETERS\n",
        "opt = AdamW(learning_rate=1e-3)"
      ]
    },
    {
      "cell_type": "code",
      "execution_count": 23,
      "metadata": {
        "id": "i-P_zuFs88nB"
      },
      "outputs": [],
      "source": [
        "model.compile(\n",
        "    loss=\"binary_crossentropy\",\n",
        "    optimizer='adam',\n",
        "    metrics = METRICS\n",
        ")\n",
        "epochs = 100"
      ]
    },
    {
      "cell_type": "code",
      "execution_count": 24,
      "metadata": {
        "id": "6p9Vbv8L88nC"
      },
      "outputs": [],
      "source": [
        "# Configure EarlyStopping for binary classification\n",
        "early_stopper = tf.keras.callbacks.EarlyStopping(\n",
        "    monitor='val_loss',  # Monitor the validation accuracy\n",
        "    min_delta=0.001,         # Minimum change in the monitored quantity to qualify as an improvement\n",
        "    patience=10,             # Number of epochs with no improvement after which training will be stopped\n",
        "    verbose=1,               # Log when training stops\n",
        "    mode='min',              # Maximize the accuracy; min the loss\n",
        "    restore_best_weights=True  # Restore model weights from the epoch with the best value of the monitored quantity\n",
        ")"
      ]
    },
    {
      "cell_type": "code",
      "execution_count": 25,
      "metadata": {
        "scrolled": true,
        "colab": {
          "base_uri": "https://localhost:8080/"
        },
        "id": "lz-cLlX788nC",
        "outputId": "a457d8a0-81ed-49bc-a096-c8b6b1799c9b"
      },
      "outputs": [
        {
          "output_type": "stream",
          "name": "stdout",
          "text": [
            "Epoch 1/100\n",
            "\u001b[1m447/447\u001b[0m \u001b[32m━━━━━━━━━━━━━━━━━━━━\u001b[0m\u001b[37m\u001b[0m \u001b[1m93s\u001b[0m 130ms/step - accuracy: 0.7390 - auc: 0.5606 - fn: 423.1585 - fp: 1083.9264 - loss: 0.5561 - precision: 0.1097 - recall: 0.3068 - tn: 5538.2319 - tp: 138.5268 - val_accuracy: 0.9236 - val_auc: 0.5994 - val_fn: 364.0000 - val_fp: 0.0000e+00 - val_loss: 0.2704 - val_precision: 0.0000e+00 - val_recall: 0.0000e+00 - val_tn: 4398.0000 - val_tp: 0.0000e+00\n",
            "Epoch 2/100\n",
            "\u001b[1m447/447\u001b[0m \u001b[32m━━━━━━━━━━━━━━━━━━━━\u001b[0m\u001b[37m\u001b[0m \u001b[1m52s\u001b[0m 64ms/step - accuracy: 0.9191 - auc: 0.7113 - fn: 515.2188 - fp: 59.3013 - loss: 0.2560 - precision: 0.4172 - recall: 0.0826 - tn: 6562.8569 - tp: 46.4665 - val_accuracy: 0.9250 - val_auc: 0.8216 - val_fn: 355.0000 - val_fp: 2.0000 - val_loss: 0.2161 - val_precision: 0.8182 - val_recall: 0.0247 - val_tn: 4396.0000 - val_tp: 9.0000\n",
            "Epoch 3/100\n",
            "\u001b[1m447/447\u001b[0m \u001b[32m━━━━━━━━━━━━━━━━━━━━\u001b[0m\u001b[37m\u001b[0m \u001b[1m42s\u001b[0m 66ms/step - accuracy: 0.9220 - auc: 0.7620 - fn: 509.4576 - fp: 52.4129 - loss: 0.2388 - precision: 0.5114 - recall: 0.0939 - tn: 6569.7456 - tp: 52.2277 - val_accuracy: 0.9339 - val_auc: 0.8285 - val_fn: 304.0000 - val_fp: 11.0000 - val_loss: 0.2064 - val_precision: 0.8451 - val_recall: 0.1648 - val_tn: 4387.0000 - val_tp: 60.0000\n",
            "Epoch 4/100\n",
            "\u001b[1m447/447\u001b[0m \u001b[32m━━━━━━━━━━━━━━━━━━━━\u001b[0m\u001b[37m\u001b[0m \u001b[1m36s\u001b[0m 55ms/step - accuracy: 0.9242 - auc: 0.7712 - fn: 503.3348 - fp: 43.1094 - loss: 0.2347 - precision: 0.5803 - recall: 0.1067 - tn: 6579.0493 - tp: 58.3504 - val_accuracy: 0.9313 - val_auc: 0.8151 - val_fn: 317.0000 - val_fp: 10.0000 - val_loss: 0.2137 - val_precision: 0.8246 - val_recall: 0.1291 - val_tn: 4388.0000 - val_tp: 47.0000\n",
            "Epoch 5/100\n",
            "\u001b[1m447/447\u001b[0m \u001b[32m━━━━━━━━━━━━━━━━━━━━\u001b[0m\u001b[37m\u001b[0m \u001b[1m41s\u001b[0m 55ms/step - accuracy: 0.9223 - auc: 0.7937 - fn: 507.4710 - fp: 49.1384 - loss: 0.2290 - precision: 0.5196 - recall: 0.1004 - tn: 6573.0200 - tp: 54.2143 - val_accuracy: 0.9347 - val_auc: 0.8052 - val_fn: 270.0000 - val_fp: 41.0000 - val_loss: 0.2194 - val_precision: 0.6963 - val_recall: 0.2582 - val_tn: 4357.0000 - val_tp: 94.0000\n",
            "Epoch 6/100\n",
            "\u001b[1m447/447\u001b[0m \u001b[32m━━━━━━━━━━━━━━━━━━━━\u001b[0m\u001b[37m\u001b[0m \u001b[1m29s\u001b[0m 64ms/step - accuracy: 0.9247 - auc: 0.7997 - fn: 489.9754 - fp: 46.5246 - loss: 0.2253 - precision: 0.5845 - recall: 0.1235 - tn: 6575.6338 - tp: 71.7098 - val_accuracy: 0.9332 - val_auc: 0.8221 - val_fn: 292.0000 - val_fp: 26.0000 - val_loss: 0.2096 - val_precision: 0.7347 - val_recall: 0.1978 - val_tn: 4372.0000 - val_tp: 72.0000\n",
            "Epoch 7/100\n",
            "\u001b[1m447/447\u001b[0m \u001b[32m━━━━━━━━━━━━━━━━━━━━\u001b[0m\u001b[37m\u001b[0m \u001b[1m27s\u001b[0m 61ms/step - accuracy: 0.9259 - auc: 0.8048 - fn: 492.4397 - fp: 43.8683 - loss: 0.2235 - precision: 0.6421 - recall: 0.1254 - tn: 6578.2900 - tp: 69.2455 - val_accuracy: 0.9334 - val_auc: 0.8323 - val_fn: 309.0000 - val_fp: 8.0000 - val_loss: 0.2060 - val_precision: 0.8730 - val_recall: 0.1511 - val_tn: 4390.0000 - val_tp: 55.0000\n",
            "Epoch 8/100\n",
            "\u001b[1m447/447\u001b[0m \u001b[32m━━━━━━━━━━━━━━━━━━━━\u001b[0m\u001b[37m\u001b[0m \u001b[1m27s\u001b[0m 61ms/step - accuracy: 0.9253 - auc: 0.8076 - fn: 489.4174 - fp: 52.2991 - loss: 0.2224 - precision: 0.6016 - recall: 0.1316 - tn: 6569.8594 - tp: 72.2679 - val_accuracy: 0.9353 - val_auc: 0.8309 - val_fn: 297.0000 - val_fp: 11.0000 - val_loss: 0.2055 - val_precision: 0.8590 - val_recall: 0.1841 - val_tn: 4387.0000 - val_tp: 67.0000\n",
            "Epoch 9/100\n",
            "\u001b[1m447/447\u001b[0m \u001b[32m━━━━━━━━━━━━━━━━━━━━\u001b[0m\u001b[37m\u001b[0m \u001b[1m41s\u001b[0m 61ms/step - accuracy: 0.9255 - auc: 0.8093 - fn: 487.6138 - fp: 47.7009 - loss: 0.2209 - precision: 0.6087 - recall: 0.1323 - tn: 6574.4575 - tp: 74.0714 - val_accuracy: 0.9355 - val_auc: 0.8325 - val_fn: 294.0000 - val_fp: 13.0000 - val_loss: 0.2030 - val_precision: 0.8434 - val_recall: 0.1923 - val_tn: 4385.0000 - val_tp: 70.0000\n",
            "Epoch 10/100\n",
            "\u001b[1m447/447\u001b[0m \u001b[32m━━━━━━━━━━━━━━━━━━━━\u001b[0m\u001b[37m\u001b[0m \u001b[1m39s\u001b[0m 56ms/step - accuracy: 0.9270 - auc: 0.8067 - fn: 479.5424 - fp: 46.1920 - loss: 0.2221 - precision: 0.6389 - recall: 0.1502 - tn: 6575.9663 - tp: 82.1429 - val_accuracy: 0.9349 - val_auc: 0.8272 - val_fn: 292.0000 - val_fp: 18.0000 - val_loss: 0.2038 - val_precision: 0.8000 - val_recall: 0.1978 - val_tn: 4380.0000 - val_tp: 72.0000\n",
            "Epoch 11/100\n",
            "\u001b[1m447/447\u001b[0m \u001b[32m━━━━━━━━━━━━━━━━━━━━\u001b[0m\u001b[37m\u001b[0m \u001b[1m41s\u001b[0m 55ms/step - accuracy: 0.9271 - auc: 0.8109 - fn: 484.2121 - fp: 41.4353 - loss: 0.2207 - precision: 0.6842 - recall: 0.1331 - tn: 6580.7231 - tp: 77.4732 - val_accuracy: 0.9351 - val_auc: 0.8311 - val_fn: 280.0000 - val_fp: 29.0000 - val_loss: 0.2052 - val_precision: 0.7434 - val_recall: 0.2308 - val_tn: 4369.0000 - val_tp: 84.0000\n",
            "Epoch 12/100\n",
            "\u001b[1m447/447\u001b[0m \u001b[32m━━━━━━━━━━━━━━━━━━━━\u001b[0m\u001b[37m\u001b[0m \u001b[1m41s\u001b[0m 55ms/step - accuracy: 0.9287 - auc: 0.8175 - fn: 473.3304 - fp: 43.6071 - loss: 0.2171 - precision: 0.6827 - recall: 0.1666 - tn: 6578.5513 - tp: 88.3549 - val_accuracy: 0.9318 - val_auc: 0.8395 - val_fn: 316.0000 - val_fp: 9.0000 - val_loss: 0.2032 - val_precision: 0.8421 - val_recall: 0.1319 - val_tn: 4389.0000 - val_tp: 48.0000\n",
            "Epoch 13/100\n",
            "\u001b[1m447/447\u001b[0m \u001b[32m━━━━━━━━━━━━━━━━━━━━\u001b[0m\u001b[37m\u001b[0m \u001b[1m44s\u001b[0m 61ms/step - accuracy: 0.9274 - auc: 0.8151 - fn: 480.6451 - fp: 42.8683 - loss: 0.2183 - precision: 0.6586 - recall: 0.1498 - tn: 6579.2900 - tp: 81.0402 - val_accuracy: 0.9294 - val_auc: 0.8074 - val_fn: 297.0000 - val_fp: 39.0000 - val_loss: 0.2197 - val_precision: 0.6321 - val_recall: 0.1841 - val_tn: 4359.0000 - val_tp: 67.0000\n",
            "Epoch 14/100\n",
            "\u001b[1m447/447\u001b[0m \u001b[32m━━━━━━━━━━━━━━━━━━━━\u001b[0m\u001b[37m\u001b[0m \u001b[1m38s\u001b[0m 56ms/step - accuracy: 0.9263 - auc: 0.8162 - fn: 482.5960 - fp: 47.3504 - loss: 0.2177 - precision: 0.6245 - recall: 0.1463 - tn: 6574.8081 - tp: 79.0893 - val_accuracy: 0.9341 - val_auc: 0.8282 - val_fn: 307.0000 - val_fp: 7.0000 - val_loss: 0.2074 - val_precision: 0.8906 - val_recall: 0.1566 - val_tn: 4391.0000 - val_tp: 57.0000\n",
            "Epoch 15/100\n",
            "\u001b[1m447/447\u001b[0m \u001b[32m━━━━━━━━━━━━━━━━━━━━\u001b[0m\u001b[37m\u001b[0m \u001b[1m27s\u001b[0m 59ms/step - accuracy: 0.9283 - auc: 0.8162 - fn: 468.8504 - fp: 47.0692 - loss: 0.2155 - precision: 0.6683 - recall: 0.1632 - tn: 6575.0894 - tp: 92.8348 - val_accuracy: 0.9374 - val_auc: 0.8409 - val_fn: 280.0000 - val_fp: 18.0000 - val_loss: 0.1975 - val_precision: 0.8235 - val_recall: 0.2308 - val_tn: 4380.0000 - val_tp: 84.0000\n",
            "Epoch 16/100\n",
            "\u001b[1m447/447\u001b[0m \u001b[32m━━━━━━━━━━━━━━━━━━━━\u001b[0m\u001b[37m\u001b[0m \u001b[1m42s\u001b[0m 61ms/step - accuracy: 0.9277 - auc: 0.8195 - fn: 474.7076 - fp: 43.4353 - loss: 0.2161 - precision: 0.6571 - recall: 0.1603 - tn: 6578.7231 - tp: 86.9777 - val_accuracy: 0.9332 - val_auc: 0.8367 - val_fn: 294.0000 - val_fp: 24.0000 - val_loss: 0.2033 - val_precision: 0.7447 - val_recall: 0.1923 - val_tn: 4374.0000 - val_tp: 70.0000\n",
            "Epoch 17/100\n",
            "\u001b[1m447/447\u001b[0m \u001b[32m━━━━━━━━━━━━━━━━━━━━\u001b[0m\u001b[37m\u001b[0m \u001b[1m27s\u001b[0m 60ms/step - accuracy: 0.9265 - auc: 0.8290 - fn: 473.1741 - fp: 54.4777 - loss: 0.2125 - precision: 0.6094 - recall: 0.1627 - tn: 6567.6807 - tp: 88.5112 - val_accuracy: 0.9343 - val_auc: 0.8311 - val_fn: 276.0000 - val_fp: 37.0000 - val_loss: 0.2039 - val_precision: 0.7040 - val_recall: 0.2418 - val_tn: 4361.0000 - val_tp: 88.0000\n",
            "Epoch 18/100\n",
            "\u001b[1m447/447\u001b[0m \u001b[32m━━━━━━━━━━━━━━━━━━━━\u001b[0m\u001b[37m\u001b[0m \u001b[1m39s\u001b[0m 56ms/step - accuracy: 0.9280 - auc: 0.8304 - fn: 463.2277 - fp: 52.1853 - loss: 0.2117 - precision: 0.6466 - recall: 0.1733 - tn: 6569.9731 - tp: 98.4576 - val_accuracy: 0.9336 - val_auc: 0.8278 - val_fn: 269.0000 - val_fp: 47.0000 - val_loss: 0.2057 - val_precision: 0.6690 - val_recall: 0.2610 - val_tn: 4351.0000 - val_tp: 95.0000\n",
            "Epoch 19/100\n",
            "\u001b[1m447/447\u001b[0m \u001b[32m━━━━━━━━━━━━━━━━━━━━\u001b[0m\u001b[37m\u001b[0m \u001b[1m41s\u001b[0m 57ms/step - accuracy: 0.9291 - auc: 0.8266 - fn: 478.0580 - fp: 36.2589 - loss: 0.2135 - precision: 0.7185 - recall: 0.1543 - tn: 6585.8994 - tp: 83.6272 - val_accuracy: 0.9341 - val_auc: 0.8214 - val_fn: 263.0000 - val_fp: 51.0000 - val_loss: 0.2110 - val_precision: 0.6645 - val_recall: 0.2775 - val_tn: 4347.0000 - val_tp: 101.0000\n",
            "Epoch 20/100\n",
            "\u001b[1m447/447\u001b[0m \u001b[32m━━━━━━━━━━━━━━━━━━━━\u001b[0m\u001b[37m\u001b[0m \u001b[1m31s\u001b[0m 69ms/step - accuracy: 0.9291 - auc: 0.8337 - fn: 458.6250 - fp: 51.6362 - loss: 0.2089 - precision: 0.6658 - recall: 0.1894 - tn: 6570.5225 - tp: 103.0603 - val_accuracy: 0.9345 - val_auc: 0.8454 - val_fn: 293.0000 - val_fp: 19.0000 - val_loss: 0.1982 - val_precision: 0.7889 - val_recall: 0.1951 - val_tn: 4379.0000 - val_tp: 71.0000\n",
            "Epoch 21/100\n",
            "\u001b[1m447/447\u001b[0m \u001b[32m━━━━━━━━━━━━━━━━━━━━\u001b[0m\u001b[37m\u001b[0m \u001b[1m39s\u001b[0m 65ms/step - accuracy: 0.9297 - auc: 0.8255 - fn: 462.1116 - fp: 45.5938 - loss: 0.2132 - precision: 0.6887 - recall: 0.1862 - tn: 6576.5649 - tp: 99.5737 - val_accuracy: 0.9334 - val_auc: 0.8315 - val_fn: 256.0000 - val_fp: 61.0000 - val_loss: 0.2055 - val_precision: 0.6391 - val_recall: 0.2967 - val_tn: 4337.0000 - val_tp: 108.0000\n",
            "Epoch 22/100\n",
            "\u001b[1m447/447\u001b[0m \u001b[32m━━━━━━━━━━━━━━━━━━━━\u001b[0m\u001b[37m\u001b[0m \u001b[1m39s\u001b[0m 61ms/step - accuracy: 0.9288 - auc: 0.8314 - fn: 459.2411 - fp: 50.9286 - loss: 0.2120 - precision: 0.6605 - recall: 0.1862 - tn: 6571.2300 - tp: 102.4442 - val_accuracy: 0.9315 - val_auc: 0.8294 - val_fn: 277.0000 - val_fp: 49.0000 - val_loss: 0.2071 - val_precision: 0.6397 - val_recall: 0.2390 - val_tn: 4349.0000 - val_tp: 87.0000\n",
            "Epoch 23/100\n",
            "\u001b[1m447/447\u001b[0m \u001b[32m━━━━━━━━━━━━━━━━━━━━\u001b[0m\u001b[37m\u001b[0m \u001b[1m26s\u001b[0m 57ms/step - accuracy: 0.9296 - auc: 0.8321 - fn: 458.4129 - fp: 48.1629 - loss: 0.2093 - precision: 0.6902 - recall: 0.1808 - tn: 6573.9956 - tp: 103.2723 - val_accuracy: 0.9194 - val_auc: 0.8226 - val_fn: 237.0000 - val_fp: 147.0000 - val_loss: 0.2362 - val_precision: 0.4635 - val_recall: 0.3489 - val_tn: 4251.0000 - val_tp: 127.0000\n",
            "Epoch 24/100\n",
            "\u001b[1m447/447\u001b[0m \u001b[32m━━━━━━━━━━━━━━━━━━━━\u001b[0m\u001b[37m\u001b[0m \u001b[1m40s\u001b[0m 56ms/step - accuracy: 0.9285 - auc: 0.8366 - fn: 454.5089 - fp: 55.4933 - loss: 0.2093 - precision: 0.6452 - recall: 0.1919 - tn: 6566.6650 - tp: 107.1763 - val_accuracy: 0.9353 - val_auc: 0.8374 - val_fn: 292.0000 - val_fp: 16.0000 - val_loss: 0.2009 - val_precision: 0.8182 - val_recall: 0.1978 - val_tn: 4382.0000 - val_tp: 72.0000\n",
            "Epoch 25/100\n",
            "\u001b[1m447/447\u001b[0m \u001b[32m━━━━━━━━━━━━━━━━━━━━\u001b[0m\u001b[37m\u001b[0m \u001b[1m41s\u001b[0m 56ms/step - accuracy: 0.9309 - auc: 0.8336 - fn: 453.0804 - fp: 44.8371 - loss: 0.2078 - precision: 0.7087 - recall: 0.1981 - tn: 6577.3213 - tp: 108.6049 - val_accuracy: 0.9324 - val_auc: 0.8221 - val_fn: 263.0000 - val_fp: 59.0000 - val_loss: 0.2071 - val_precision: 0.6313 - val_recall: 0.2775 - val_tn: 4339.0000 - val_tp: 101.0000\n",
            "Epoch 25: early stopping\n",
            "Restoring model weights from the end of the best epoch: 15.\n"
          ]
        }
      ],
      "source": [
        "model_history=model.fit(\n",
        "    x=[X_train_num, X_train_img], y=y_train,\n",
        "    validation_data=([X_val_num, X_val_img], y_val),\n",
        "    epochs=epochs,\n",
        "    batch_size=32,\n",
        "    callbacks = [early_stopper]\n",
        ")"
      ]
    },
    {
      "cell_type": "markdown",
      "metadata": {
        "id": "uOMkZNjr88nC"
      },
      "source": [
        "#### quitando activation = \"relu\" y dropout 0.1\n",
        "\n",
        "Sin la última capa convolucional y quitando las 4 primeras capas MLP\n",
        "\n",
        "Probar con más dropout\n",
        "\n",
        "val_accuracy: 0.8369 - val_auc: 0.8475 - val_fn: 202.0000 - val_fp: 55.0000 - val_loss: **0.3800** - val_precision: 0.7465 - val_recall: 0.4451 - val_tn: 1157.0000 - val_tp: 162.0000\n",
        "\n"
      ]
    },
    {
      "cell_type": "code",
      "execution_count": 26,
      "metadata": {
        "id": "LusyNgSq88nC",
        "outputId": "c5f576cc-03fb-42f9-d20a-c523ffbafd3e",
        "colab": {
          "base_uri": "https://localhost:8080/"
        }
      },
      "outputs": [
        {
          "output_type": "stream",
          "name": "stdout",
          "text": [
            "dict_keys(['accuracy', 'auc', 'fn', 'fp', 'loss', 'precision', 'recall', 'tn', 'tp', 'val_accuracy', 'val_auc', 'val_fn', 'val_fp', 'val_loss', 'val_precision', 'val_recall', 'val_tn', 'val_tp'])\n"
          ]
        }
      ],
      "source": [
        "print(model_history.history.keys())"
      ]
    },
    {
      "cell_type": "markdown",
      "metadata": {
        "id": "B9obeew388nC"
      },
      "source": [
        "<a id=\"section6\"></a>\n",
        "# <font color=\"#004D7F\" size=6> 6. Results</font>\n",
        "\n",
        "Finally, we can evaluate our hybrid model with the images created by TINTOlib in any of the ways represented below."
      ]
    },
    {
      "cell_type": "markdown",
      "metadata": {
        "id": "F9aXILOL88nC"
      },
      "source": [
        "---\n",
        "<a id=\"section61\"></a>\n",
        "# <font color=\"#004D7F\" size=5> 6.1. Train/Validation representation</font>"
      ]
    },
    {
      "cell_type": "code",
      "execution_count": 27,
      "metadata": {
        "id": "ewJJvm_r88nD",
        "outputId": "309db453-ddd2-4d58-9d3a-33cd7709caff",
        "colab": {
          "base_uri": "https://localhost:8080/",
          "height": 430
        }
      },
      "outputs": [
        {
          "output_type": "display_data",
          "data": {
            "text/plain": [
              "<Figure size 640x480 with 1 Axes>"
            ],
            "image/png": "[encoded data removed]"
          },
          "metadata": {}
        }
      ],
      "source": [
        "#print(model_history.history['loss'])\n",
        "plt.plot(model_history.history['loss'], color = 'red', label = 'loss')\n",
        "plt.plot(model_history.history['val_loss'], color = 'green', label = 'val loss')\n",
        "plt.legend(loc = 'upper right')\n",
        "\n",
        "plt.show()"
      ]
    },
    {
      "cell_type": "code",
      "execution_count": 28,
      "metadata": {
        "id": "rJ0u5YXT88nD",
        "outputId": "9e1ee157-5f8f-4ec1-e1ad-953e9a543ba8",
        "colab": {
          "base_uri": "https://localhost:8080/",
          "height": 430
        }
      },
      "outputs": [
        {
          "output_type": "display_data",
          "data": {
            "text/plain": [
              "<Figure size 640x480 with 1 Axes>"
            ],
            "image/png": "[encoded data removed]"
          },
          "metadata": {}
        }
      ],
      "source": [
        "plt.plot(model_history.history['accuracy'], color = 'red', label = 'accuracy')\n",
        "plt.plot(model_history.history['val_accuracy'], color = 'green', label = 'val accuracy')\n",
        "plt.legend(loc = 'upper right')\n",
        "plt.show()"
      ]
    },
    {
      "cell_type": "code",
      "execution_count": 29,
      "metadata": {
        "id": "d04pr2gj88nD",
        "outputId": "fb67a287-e7a7-439a-d4c6-18b2daefaa68",
        "colab": {
          "base_uri": "https://localhost:8080/"
        }
      },
      "outputs": [
        {
          "output_type": "stream",
          "name": "stdout",
          "text": [
            "Train accuracy: 0.931886613368988\n",
            "Train AUC: 0.8328491449356079\n",
            "Train precision: 0.7107142806053162\n",
            "Train recall: 0.18240146338939667\n",
            "Train loss: 0.20595307648181915\n"
          ]
        }
      ],
      "source": [
        "train_accuracy = model_history.history[\"accuracy\"][-1]\n",
        "train_auc = model_history.history[\"auc\"][-1]\n",
        "train_precision = model_history.history[\"precision\"][-1]\n",
        "train_recall = model_history.history[\"recall\"][-1]\n",
        "train_loss = model_history.history[\"loss\"][-1]\n",
        "\n",
        "print(\"Train accuracy:\",train_accuracy)\n",
        "print(\"Train AUC:\",train_auc)\n",
        "print(\"Train precision:\",train_precision)\n",
        "print(\"Train recall:\",train_recall)\n",
        "print(\"Train loss:\",train_loss)"
      ]
    },
    {
      "cell_type": "code",
      "execution_count": 30,
      "metadata": {
        "id": "sht4hbhB88nD",
        "outputId": "f8c1cbe0-fc6d-42ed-eb5b-89d566c214eb",
        "colab": {
          "base_uri": "https://localhost:8080/"
        }
      },
      "outputs": [
        {
          "output_type": "stream",
          "name": "stdout",
          "text": [
            "Validation accuracy: 0.9323813319206238\n",
            "Validation AUC: 0.822062611579895\n",
            "Validation precision: 0.6312500238418579\n",
            "Validation recall: 0.27747252583503723\n",
            "Validation loss: 0.20706871151924133\n"
          ]
        }
      ],
      "source": [
        "validation_accuracy = model_history.history[\"val_accuracy\"][-1]\n",
        "validation_auc = model_history.history[\"val_auc\"][-1]\n",
        "validation_precision = model_history.history[\"val_precision\"][-1]\n",
        "validation_recall = model_history.history[\"val_recall\"][-1]\n",
        "validation_loss = model_history.history[\"val_loss\"][-1]\n",
        "\n",
        "print(\"Validation accuracy:\",validation_accuracy)\n",
        "print(\"Validation AUC:\",validation_auc)\n",
        "print(\"Validation precision:\",validation_precision)\n",
        "print(\"Validation recall:\",validation_recall)\n",
        "print(\"Validation loss:\",validation_loss)"
      ]
    },
    {
      "cell_type": "markdown",
      "metadata": {
        "id": "e587H4yT88nD"
      },
      "source": [
        "---\n",
        "<a id=\"section62\"></a>\n",
        "# <font color=\"#004D7F\" size=5> 6.2. Validation evaluation</font>"
      ]
    },
    {
      "cell_type": "code",
      "execution_count": 31,
      "metadata": {
        "id": "J4ytkB3i88nD",
        "outputId": "063c7ec3-9b32-486d-f454-0f878b4ddeee",
        "colab": {
          "base_uri": "https://localhost:8080/"
        }
      },
      "outputs": [
        {
          "output_type": "stream",
          "name": "stdout",
          "text": [
            "\u001b[1m447/447\u001b[0m \u001b[32m━━━━━━━━━━━━━━━━━━━━\u001b[0m\u001b[37m\u001b[0m \u001b[1m6s\u001b[0m 13ms/step\n"
          ]
        },
        {
          "output_type": "execute_result",
          "data": {
            "text/plain": [
              "(0.06, 0.75022570879439)"
            ]
          },
          "metadata": {},
          "execution_count": 31
        }
      ],
      "source": [
        "from sklearn.metrics import roc_auc_score\n",
        "x_train_1 = [X_train_num, X_train_img]\n",
        "\n",
        "def find_best_threshold(y_true, y_probs):\n",
        "    thresholds = np.arange(0.0, 1.0, 0.01)\n",
        "    best_auc = 0\n",
        "    best_thresh = 0\n",
        "    for thresh in thresholds:\n",
        "        preds = (y_probs >= thresh).astype(int)\n",
        "        auc = roc_auc_score(y_true, preds)\n",
        "        if auc > best_auc:\n",
        "            best_auc = auc\n",
        "            best_thresh = thresh\n",
        "    return best_thresh, best_auc\n",
        "prediction = model.predict(x_train_1,)\n",
        "best_threshold = find_best_threshold(y_train, prediction)\n",
        "best_threshold ### !!!!!! IMPORTANTE PARA DEFINIR EL MEJOR CORTE PARA LAS PROBABILIDADES"
      ]
    },
    {
      "cell_type": "code",
      "execution_count": 32,
      "metadata": {
        "id": "Gt8cKjTi88nE",
        "outputId": "314513c7-1ae3-46be-8b58-bdddfb177985",
        "colab": {
          "base_uri": "https://localhost:8080/"
        }
      },
      "outputs": [
        {
          "output_type": "stream",
          "name": "stdout",
          "text": [
            "\u001b[1m149/149\u001b[0m \u001b[32m━━━━━━━━━━━━━━━━━━━━\u001b[0m\u001b[37m\u001b[0m \u001b[1m4s\u001b[0m 25ms/step - accuracy: 0.9406 - auc: 0.8484 - fn: 136.3800 - fp: 8.1467 - loss: 0.1871 - precision: 0.8244 - recall: 0.2221 - tn: 2231.7000 - tp: 39.4800\n"
          ]
        }
      ],
      "source": [
        "#x_validacion = [X_test_num, X_test_img]\n",
        "#y_validacion = y_test\n",
        "x_validacion = [X_val_num, X_val_img]\n",
        "y_validacion = y_val\n",
        "score_test= model.evaluate(x_validacion, y_validacion)"
      ]
    },
    {
      "cell_type": "code",
      "execution_count": 33,
      "metadata": {
        "id": "3gvo5-Md88nE",
        "outputId": "14e262f2-4eb7-451b-f0b4-70d3b8f8e402",
        "colab": {
          "base_uri": "https://localhost:8080/"
        }
      },
      "outputs": [
        {
          "output_type": "stream",
          "name": "stdout",
          "text": [
            "\u001b[1m149/149\u001b[0m \u001b[32m━━━━━━━━━━━━━━━━━━━━\u001b[0m\u001b[37m\u001b[0m \u001b[1m2s\u001b[0m 13ms/step\n"
          ]
        }
      ],
      "source": [
        "#test_images = next(test_iter)[0]\n",
        "prediction = model.predict(x_validacion,)\n",
        "#prediction = model.predict(test_images)\n",
        "prediction_labels = (prediction > best_threshold[0]).astype(int)\n",
        "#print(prediction_labels)"
      ]
    },
    {
      "cell_type": "code",
      "execution_count": 34,
      "metadata": {
        "id": "XQ_6UlFU88nE",
        "outputId": "99afe337-9842-48c6-de02-83ee8f1f3217",
        "colab": {
          "base_uri": "https://localhost:8080/"
        }
      },
      "outputs": [
        {
          "output_type": "stream",
          "name": "stdout",
          "text": [
            "Validation accuracy: 0.9374212622642517\n",
            "Validation AUC: 0.8409450054168701\n",
            "Validation precision: 0.8235294222831726\n",
            "Validation recall: 0.23076923191547394\n"
          ]
        }
      ],
      "source": [
        "from sklearn.metrics import roc_auc_score,accuracy_score,precision_score, recall_score\n",
        "\n",
        "test_accuracy = score_test[5]\n",
        "test_auc = score_test[8]\n",
        "test_precision = score_test[6]\n",
        "test_recall = score_test[7]\n",
        "\n",
        "print(\"Validation accuracy:\",test_accuracy)\n",
        "print(\"Validation AUC:\",test_auc)\n",
        "print(\"Validation precision:\",test_precision)\n",
        "print(\"Validation recall:\",test_recall)"
      ]
    },
    {
      "cell_type": "code",
      "execution_count": 35,
      "metadata": {
        "id": "d_BbM9VV88nE",
        "outputId": "c441690b-cd47-4dc7-9f2a-db12c40036b5",
        "colab": {
          "base_uri": "https://localhost:8080/",
          "height": 458
        }
      },
      "outputs": [
        {
          "output_type": "execute_result",
          "data": {
            "text/plain": [
              "20134    0\n",
              "5477     0\n",
              "11396    0\n",
              "128      1\n",
              "4649     0\n",
              "        ..\n",
              "15036    0\n",
              "11887    0\n",
              "1596     0\n",
              "8594     0\n",
              "6684     0\n",
              "Name: class, Length: 4762, dtype: int64"
            ],
            "text/html": [
              "<div>\n",
              "<style scoped>\n",
              "    .dataframe tbody tr th:only-of-type {\n",
              "        vertical-align: middle;\n",
              "    }\n",
              "\n",
              "    .dataframe tbody tr th {\n",
              "        vertical-align: top;\n",
              "    }\n",
              "\n",
              "    .dataframe thead th {\n",
              "        text-align: right;\n",
              "    }\n",
              "</style>\n",
              "<table border=\"1\" class=\"dataframe\">\n",
              "  <thead>\n",
              "    <tr style=\"text-align: right;\">\n",
              "      <th></th>\n",
              "      <th>class</th>\n",
              "    </tr>\n",
              "  </thead>\n",
              "  <tbody>\n",
              "    <tr>\n",
              "      <th>20134</th>\n",
              "      <td>0</td>\n",
              "    </tr>\n",
              "    <tr>\n",
              "      <th>5477</th>\n",
              "      <td>0</td>\n",
              "    </tr>\n",
              "    <tr>\n",
              "      <th>11396</th>\n",
              "      <td>0</td>\n",
              "    </tr>\n",
              "    <tr>\n",
              "      <th>128</th>\n",
              "      <td>1</td>\n",
              "    </tr>\n",
              "    <tr>\n",
              "      <th>4649</th>\n",
              "      <td>0</td>\n",
              "    </tr>\n",
              "    <tr>\n",
              "      <th>...</th>\n",
              "      <td>...</td>\n",
              "    </tr>\n",
              "    <tr>\n",
              "      <th>15036</th>\n",
              "      <td>0</td>\n",
              "    </tr>\n",
              "    <tr>\n",
              "      <th>11887</th>\n",
              "      <td>0</td>\n",
              "    </tr>\n",
              "    <tr>\n",
              "      <th>1596</th>\n",
              "      <td>0</td>\n",
              "    </tr>\n",
              "    <tr>\n",
              "      <th>8594</th>\n",
              "      <td>0</td>\n",
              "    </tr>\n",
              "    <tr>\n",
              "      <th>6684</th>\n",
              "      <td>0</td>\n",
              "    </tr>\n",
              "  </tbody>\n",
              "</table>\n",
              "<p>4762 rows × 1 columns</p>\n",
              "</div><br><label><b>dtype:</b> int64</label>"
            ]
          },
          "metadata": {},
          "execution_count": 35
        }
      ],
      "source": [
        "y_test1 = y_validacion.astype(float).astype(int)\n",
        "y_test1"
      ]
    },
    {
      "cell_type": "code",
      "source": [
        "from sklearn.metrics import ConfusionMatrixDisplay, confusion_matrix, roc_curve, roc_auc_score, recall_score\n",
        "\n",
        "# Suponiendo que cnn_model sea tu modelo entrenado y X_test tu conjunto de prueba\n",
        "print(\"\\033[1mTest Dataset.\\033[0m \\n\\n\")\n",
        "\n",
        "# Confusion Matrix\n",
        "print(\"\\033[1mConfusion matrix:\\033[0m\")\n",
        "cm = confusion_matrix(y_test1, prediction_labels)\n",
        "disp = ConfusionMatrixDisplay(confusion_matrix=cm)\n",
        "disp.plot()\n",
        "plt.show()\n",
        "print(f\"Verdaderos Negativos (VN): {cm[0, 0]}\")\n",
        "print(f\"Falsos Positivos (FP): {cm[0, 1]}\")\n",
        "print(f\"Falsos Negativos (FN): {cm[1, 0]}\")\n",
        "print(f\"Verdaderos Positivos (VP): {cm[1, 1]} \\n\\n\")\n",
        "\n",
        "# Calcular las métricas usando probabilidades en lugar de etiquetas\n",
        "#prediction_probs = model.predict([X_val_img])\n",
        "\n",
        "print(\"\\033[1mAUC SCORE:\\033[0m\")\n",
        "print(roc_auc_score(y_test1, prediction ))\n",
        "\n",
        "print(\"\\033[1mRecall SCORE:\\033[0m\")\n",
        "print(recall_score(y_test1, prediction_labels))\n",
        "\n",
        "# Curva ROC\n",
        "fpr, tpr, thresholds = roc_curve(y_test1, prediction)\n",
        "plt.plot([0, 1], [0, 1], 'k--')\n",
        "plt.plot(fpr, tpr)\n",
        "plt.xlabel('False Positive Rate')\n",
        "plt.ylabel('True Positive Rate')\n",
        "plt.title('ROC Curve and AUC')\n",
        "plt.fill_between(fpr, tpr, alpha=0.3)\n",
        "plt.tight_layout()\n",
        "plt.show()"
      ],
      "metadata": {
        "id": "vrM1jzO19ouj",
        "colab": {
          "base_uri": "https://localhost:8080/",
          "height": 1000
        },
        "outputId": "cf44688d-2c79-424c-92bf-520b9324e168"
      },
      "execution_count": 36,
      "outputs": [
        {
          "output_type": "stream",
          "name": "stdout",
          "text": [
            "\u001b[1mTest Dataset.\u001b[0m \n",
            "\n",
            "\n",
            "\u001b[1mConfusion matrix:\u001b[0m\n"
          ]
        },
        {
          "output_type": "display_data",
          "data": {
            "text/plain": [
              "<Figure size 640x480 with 2 Axes>"
            ],
            "image/png": "[encoded data removed]"
          },
          "metadata": {}
        },
        {
          "output_type": "stream",
          "name": "stdout",
          "text": [
            "Verdaderos Negativos (VN): 2955\n",
            "Falsos Positivos (FP): 1443\n",
            "Falsos Negativos (FN): 75\n",
            "Verdaderos Positivos (VP): 289 \n",
            "\n",
            "\n",
            "\u001b[1mAUC SCORE:\u001b[0m\n",
            "0.840919199036525\n",
            "\u001b[1mRecall SCORE:\u001b[0m\n",
            "0.7939560439560439\n"
          ]
        },
        {
          "output_type": "display_data",
          "data": {
            "text/plain": [
              "<Figure size 640x480 with 1 Axes>"
            ],
            "image/png": "[encoded data removed]"
          },
          "metadata": {}
        }
      ]
    },
    {
      "cell_type": "markdown",
      "metadata": {
        "id": "-T5hKQki88nE"
      },
      "source": [
        "---\n",
        "<a id=\"section63\"></a>\n",
        "# <font color=\"#004D7F\" size=5> 6.3. Test evaluation</font>"
      ]
    },
    {
      "cell_type": "code",
      "execution_count": 37,
      "metadata": {
        "id": "ABHja7am88nF",
        "outputId": "8eaf2cb4-4a92-41eb-eb66-0be0ceb892e7",
        "colab": {
          "base_uri": "https://localhost:8080/"
        }
      },
      "outputs": [
        {
          "output_type": "stream",
          "name": "stdout",
          "text": [
            "\u001b[1m149/149\u001b[0m \u001b[32m━━━━━━━━━━━━━━━━━━━━\u001b[0m\u001b[37m\u001b[0m \u001b[1m2s\u001b[0m 14ms/step - accuracy: 0.9305 - auc: 0.8233 - fn: 143.2200 - fp: 15.6400 - loss: 0.2123 - precision: 0.7013 - recall: 0.2159 - tn: 2214.7734 - tp: 42.0733\n"
          ]
        }
      ],
      "source": [
        "x_validacion = [X_test_num, X_test_img]\n",
        "y_validacion = y_test\n",
        "#x_validacion = [X_val_num, X_val_img]\n",
        "#y_validacion = y_val\n",
        "score_test= model.evaluate(x_validacion, y_validacion)"
      ]
    },
    {
      "cell_type": "code",
      "execution_count": 38,
      "metadata": {
        "id": "gtQ-qOTG88nF",
        "outputId": "6e1c02e4-0e58-4d50-c2c8-7ea8099c3801",
        "colab": {
          "base_uri": "https://localhost:8080/"
        }
      },
      "outputs": [
        {
          "output_type": "stream",
          "name": "stdout",
          "text": [
            "\u001b[1m149/149\u001b[0m \u001b[32m━━━━━━━━━━━━━━━━━━━━\u001b[0m\u001b[37m\u001b[0m \u001b[1m2s\u001b[0m 13ms/step\n"
          ]
        }
      ],
      "source": [
        "#test_images = next(test_iter)[0]\n",
        "prediction = model.predict(x_validacion,)\n",
        "#prediction = model.predict(test_images)\n",
        "prediction_labels = (prediction > best_threshold[0]).astype(int)\n",
        "#print(prediction_labels)"
      ]
    },
    {
      "cell_type": "code",
      "execution_count": 39,
      "metadata": {
        "id": "asJwIiIn88nF",
        "outputId": "7c12f3ba-11bb-4de9-e84c-c6060edf35a6",
        "colab": {
          "base_uri": "https://localhost:8080/"
        }
      },
      "outputs": [
        {
          "output_type": "stream",
          "name": "stdout",
          "text": [
            "Test accuracy: 0.9361612796783447\n",
            "Test AUC: 0.8327791690826416\n",
            "Test precision: 0.7657657861709595\n",
            "Test recall: 0.23415978252887726\n"
          ]
        }
      ],
      "source": [
        "from sklearn.metrics import roc_auc_score,accuracy_score,precision_score, recall_score\n",
        "\n",
        "test_accuracy = score_test[5]\n",
        "test_auc = score_test[8]\n",
        "test_precision = score_test[6]\n",
        "test_recall = score_test[7]\n",
        "\n",
        "print(\"Test accuracy:\",test_accuracy)\n",
        "print(\"Test AUC:\",test_auc)\n",
        "print(\"Test precision:\",test_precision)\n",
        "print(\"Test recall:\",test_recall)"
      ]
    },
    {
      "cell_type": "code",
      "execution_count": 40,
      "metadata": {
        "id": "hiu5A9_788nF",
        "outputId": "7cca37d5-7bb8-4813-e8da-11309eb6405b",
        "colab": {
          "base_uri": "https://localhost:8080/",
          "height": 458
        }
      },
      "outputs": [
        {
          "output_type": "execute_result",
          "data": {
            "text/plain": [
              "17734    0\n",
              "19878    0\n",
              "19543    0\n",
              "4964     0\n",
              "3278     0\n",
              "        ..\n",
              "14449    0\n",
              "5716     0\n",
              "1307     0\n",
              "9        1\n",
              "19709    0\n",
              "Name: class, Length: 4762, dtype: int64"
            ],
            "text/html": [
              "<div>\n",
              "<style scoped>\n",
              "    .dataframe tbody tr th:only-of-type {\n",
              "        vertical-align: middle;\n",
              "    }\n",
              "\n",
              "    .dataframe tbody tr th {\n",
              "        vertical-align: top;\n",
              "    }\n",
              "\n",
              "    .dataframe thead th {\n",
              "        text-align: right;\n",
              "    }\n",
              "</style>\n",
              "<table border=\"1\" class=\"dataframe\">\n",
              "  <thead>\n",
              "    <tr style=\"text-align: right;\">\n",
              "      <th></th>\n",
              "      <th>class</th>\n",
              "    </tr>\n",
              "  </thead>\n",
              "  <tbody>\n",
              "    <tr>\n",
              "      <th>17734</th>\n",
              "      <td>0</td>\n",
              "    </tr>\n",
              "    <tr>\n",
              "      <th>19878</th>\n",
              "      <td>0</td>\n",
              "    </tr>\n",
              "    <tr>\n",
              "      <th>19543</th>\n",
              "      <td>0</td>\n",
              "    </tr>\n",
              "    <tr>\n",
              "      <th>4964</th>\n",
              "      <td>0</td>\n",
              "    </tr>\n",
              "    <tr>\n",
              "      <th>3278</th>\n",
              "      <td>0</td>\n",
              "    </tr>\n",
              "    <tr>\n",
              "      <th>...</th>\n",
              "      <td>...</td>\n",
              "    </tr>\n",
              "    <tr>\n",
              "      <th>14449</th>\n",
              "      <td>0</td>\n",
              "    </tr>\n",
              "    <tr>\n",
              "      <th>5716</th>\n",
              "      <td>0</td>\n",
              "    </tr>\n",
              "    <tr>\n",
              "      <th>1307</th>\n",
              "      <td>0</td>\n",
              "    </tr>\n",
              "    <tr>\n",
              "      <th>9</th>\n",
              "      <td>1</td>\n",
              "    </tr>\n",
              "    <tr>\n",
              "      <th>19709</th>\n",
              "      <td>0</td>\n",
              "    </tr>\n",
              "  </tbody>\n",
              "</table>\n",
              "<p>4762 rows × 1 columns</p>\n",
              "</div><br><label><b>dtype:</b> int64</label>"
            ]
          },
          "metadata": {},
          "execution_count": 40
        }
      ],
      "source": [
        "y_test1 = y_validacion.astype(float).astype(int)\n",
        "y_test1"
      ]
    },
    {
      "cell_type": "code",
      "source": [
        "from sklearn.metrics import ConfusionMatrixDisplay, confusion_matrix, roc_curve, roc_auc_score, recall_score\n",
        "\n",
        "# Suponiendo que cnn_model sea tu modelo entrenado y X_test tu conjunto de prueba\n",
        "print(\"\\033[1mTest Dataset.\\033[0m \\n\\n\")\n",
        "\n",
        "# Confusion Matrix\n",
        "print(\"\\033[1mConfusion matrix:\\033[0m\")\n",
        "cm = confusion_matrix(y_test1, prediction_labels)\n",
        "disp = ConfusionMatrixDisplay(confusion_matrix=cm)\n",
        "disp.plot()\n",
        "plt.show()\n",
        "print(f\"Verdaderos Negativos (VN): {cm[0, 0]}\")\n",
        "print(f\"Falsos Positivos (FP): {cm[0, 1]}\")\n",
        "print(f\"Falsos Negativos (FN): {cm[1, 0]}\")\n",
        "print(f\"Verdaderos Positivos (VP): {cm[1, 1]} \\n\\n\")\n",
        "\n",
        "# Calcular las métricas usando probabilidades en lugar de etiquetas\n",
        "#prediction_probs = model.predict([X_val_img])\n",
        "\n",
        "print(\"\\033[1mAUC SCORE:\\033[0m\")\n",
        "print(roc_auc_score(y_test1, prediction ))\n",
        "\n",
        "print(\"\\033[1mRecall SCORE:\\033[0m\")\n",
        "print(recall_score(y_test1, prediction_labels))\n",
        "\n",
        "# Curva ROC\n",
        "fpr, tpr, thresholds = roc_curve(y_test1, prediction)\n",
        "plt.plot([0, 1], [0, 1], 'k--')\n",
        "plt.plot(fpr, tpr)\n",
        "plt.xlabel('False Positive Rate')\n",
        "plt.ylabel('True Positive Rate')\n",
        "plt.title('ROC Curve and AUC')\n",
        "plt.fill_between(fpr, tpr, alpha=0.3)\n",
        "plt.tight_layout()\n",
        "plt.show()"
      ],
      "metadata": {
        "id": "iBeprlW_9rTS",
        "colab": {
          "base_uri": "https://localhost:8080/",
          "height": 1000
        },
        "outputId": "ca25a943-14c1-4ab5-825a-b94b43789bba"
      },
      "execution_count": 41,
      "outputs": [
        {
          "output_type": "stream",
          "name": "stdout",
          "text": [
            "\u001b[1mTest Dataset.\u001b[0m \n",
            "\n",
            "\n",
            "\u001b[1mConfusion matrix:\u001b[0m\n"
          ]
        },
        {
          "output_type": "display_data",
          "data": {
            "text/plain": [
              "<Figure size 640x480 with 2 Axes>"
            ],
            "image/png": "[encoded data removed]"
          },
          "metadata": {}
        },
        {
          "output_type": "stream",
          "name": "stdout",
          "text": [
            "Verdaderos Negativos (VN): 2974\n",
            "Falsos Positivos (FP): 1425\n",
            "Falsos Negativos (FN): 76\n",
            "Verdaderos Positivos (VP): 287 \n",
            "\n",
            "\n",
            "\u001b[1mAUC SCORE:\u001b[0m\n",
            "0.8332253072793278\n",
            "\u001b[1mRecall SCORE:\u001b[0m\n",
            "0.790633608815427\n"
          ]
        },
        {
          "output_type": "display_data",
          "data": {
            "text/plain": [
              "<Figure size 640x480 with 1 Axes>"
            ],
            "image/png": "[encoded data removed]"
          },
          "metadata": {}
        }
      ]
    }
  ],
  "metadata": {
    "colab": {
      "provenance": []
    },
    "kernelspec": {
      "display_name": "Python 3",
      "language": "python",
      "name": "python3"
    },
    "language_info": {
      "codemirror_mode": {
        "name": "ipython",
        "version": 3
      },
      "file_extension": ".py",
      "mimetype": "text/x-python",
      "name": "python",
      "nbconvert_exporter": "python",
      "pygments_lexer": "ipython3",
      "version": "3.9.6"
    }
  },
  "nbformat": 4,
  "nbformat_minor": 0
}