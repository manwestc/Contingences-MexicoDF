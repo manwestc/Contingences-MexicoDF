{
  "cells": [
    {
      "cell_type": "markdown",
      "metadata": {
        "id": "EybOZ6hSjpCF"
      },
      "source": [
        "<h1><font color=\"#113D68\" size=5>TINTOlib: Converting Tidy Data into Synthetic Images</font></h1>>\n",
        "\n",
        "<h1><font color=\"#113D68\" size=5>Template Binary Classification problem with a Hibryd Networks (CNN+MLP)</font></h1>\n",
        "\n",
        "<br><br>\n",
        "<div style=\"text-align: right\">\n",
        "<font color=\"#113D68\" size=3>Manuel Castillo-Cara</font><br>\n",
        "<font color=\"#113D68\" size=3>Raúl García-Castro</font><br>\n",
        "<font color=\"#113D68\" size=3>Jiayun Liu</font><br>\n",
        "\n",
        "</div>\n",
        "\n",
        "---"
      ]
    },
    {
      "cell_type": "markdown",
      "metadata": {
        "id": "jIMNxoyk_FxB"
      },
      "source": [
        "<div class=\"alert alert-block alert-info\">\n",
        "    \n",
        "<i class=\"fa fa-info-circle\" aria-hidden=\"true\"></i>\n",
        "More information about [Manuel Castillo-Cara](https://www.manuelcastillo.eu/)"
      ]
    },
    {
      "cell_type": "markdown",
      "metadata": {
        "id": "je6XCrR4_FxB"
      },
      "source": [
        "<div class=\"alert alert-block alert-info\">\n",
        "    \n",
        "<i class=\"fa fa-info-circle\" aria-hidden=\"true\"></i>\n",
        "More information about [Raúl García-Castro](http://www.garcia-castro.com/)"
      ]
    },
    {
      "cell_type": "markdown",
      "metadata": {
        "id": "WVmWInpL_FxB"
      },
      "source": [
        "---\n",
        "\n",
        "<a id=\"indice\"></a>\n",
        "<h2><font color=\"#004D7F\" size=5>Licencia</font></h2>\n",
        "\n",
        "<p><small><small>Improving Deep Learning by Exploiting Synthetic Images Copyright 2024 Manuel Castillo Cara.</p>\n",
        "<p><small><small> Licensed under the Apache License, Version 2.0 (the \"License\"); you may not use this file except in compliance with the License. You may obtain a copy of the License at </p>\n",
        "<p><small><small> <a href=\"https://www.apache.org/licenses/LICENSE-2.0\">https://www.apache.org/licenses/LICENSE-2.0</a> </p>\n",
        "<p><small><small> Unless required by applicable law or agreed to in writing, software distributed under the License is distributed on an \"AS IS\" BASIS, WITHOUT WARRANTIES OR CONDITIONS OF ANY KIND, either express or implied. See the License for the specific language governing permissions and limitations under the License. </p>"
      ]
    },
    {
      "cell_type": "markdown",
      "metadata": {
        "id": "2l5nFzsdjpCW"
      },
      "source": [
        "---\n",
        "\n",
        "<a id=\"indice\"></a>\n",
        "<h2><font color=\"#004D7F\" size=5>Index</font></h2>\n",
        "\n",
        "* [0. Context](#section0)\n",
        "* [1. Description](#section1)\n",
        "    * [1.1. Main Features](#section11)\n",
        "    * [1.2. Citation](#section12)\n",
        "    * [1.3. Documentation and License](#section13)\n",
        "* [2. Libraries](#section2)\n",
        "    * [2.1. System setup](#section21)\n",
        "    * [2.2. Invoke the libraries](#section22)\n",
        "* [3. Data processing](#section3)\n",
        "    * [3.1. TINTOlib methods](#section31)\n",
        "    * [3.2. Read the dataset](#section32)\n",
        "    * [3.3. Generate images](#section33)\n",
        "    * [3.4. Read images](#section34)\n",
        "    * [3.5. Mix images and tidy data](#section35)\n",
        "* [4. Pre-modelling phase](#section4)\n",
        "    * [4.1. Data curation](#section41)\n",
        "    * [4.2. One-hot encoding](#section42)\n",
        "* [5. Modelling hybrid network](#section5)\n",
        "    * [5.1. FFNN for tabular data](#section51)\n",
        "    * [5.2. CNN for TINTOlib images](#section52)\n",
        "    * [5.3. Concatenate branches](#section53)\n",
        "    * [5.4. Metrics](#section54)\n",
        "    * [5.5. Compile and fit](#section55)\n",
        "* [6. Results](#section6)\n",
        "    * [6.1. Train/Validation representation](#section61)\n",
        "    * [6.2. Validation/Test evaluation](#section62)"
      ]
    },
    {
      "cell_type": "markdown",
      "metadata": {
        "id": "4RKBgDwzjpCl"
      },
      "source": [
        "---\n",
        "<div style=\"text-align: right\"> <font size=5> <a href=\"#indice\"><i class=\"fa fa-arrow-circle-up\" aria-hidden=\"true\" style=\"color:#004D7F\"></i></a></font></div>\n",
        "\n",
        "---"
      ]
    },
    {
      "cell_type": "code",
      "source": [
        "!pip install -U TINTOlib mpi4py tifffile tqdm seaborn bitstring opencv-python pydot"
      ],
      "metadata": {
        "colab": {
          "base_uri": "https://localhost:8080/"
        },
        "id": "TQReDd0J_Iqc",
        "outputId": "6b45ee52-eb87-4007-8c3b-8dcbc766e769"
      },
      "execution_count": 1,
      "outputs": [
        {
          "output_type": "stream",
          "name": "stdout",
          "text": [
            "Collecting TINTOlib\n",
            "  Downloading tintolib-0.0.26-py3-none-any.whl.metadata (22 kB)\n",
            "Collecting mpi4py\n",
            "  Downloading mpi4py-4.0.1.tar.gz (466 kB)\n",
            "\u001b[2K     \u001b[90m━━━━━━━━━━━━━━━━━━━━━━━━━━━━━━━━━━━━━━━━\u001b[0m \u001b[32m466.2/466.2 kB\u001b[0m \u001b[31m9.8 MB/s\u001b[0m eta \u001b[36m0:00:00\u001b[0m\n",
            "\u001b[?25h  Installing build dependencies ... \u001b[?25l\u001b[?25hdone\n",
            "  Getting requirements to build wheel ... \u001b[?25l\u001b[?25hdone\n",
            "  Installing backend dependencies ... \u001b[?25l\u001b[?25hdone\n",
            "  Preparing metadata (pyproject.toml) ... \u001b[?25l\u001b[?25hdone\n",
            "Requirement already satisfied: tifffile in /usr/local/lib/python3.10/dist-packages (2024.12.12)\n",
            "Requirement already satisfied: tqdm in /usr/local/lib/python3.10/dist-packages (4.67.1)\n",
            "Requirement already satisfied: seaborn in /usr/local/lib/python3.10/dist-packages (0.13.2)\n",
            "Collecting bitstring\n",
            "  Downloading bitstring-4.2.3-py3-none-any.whl.metadata (5.0 kB)\n",
            "Requirement already satisfied: opencv-python in /usr/local/lib/python3.10/dist-packages (4.10.0.84)\n",
            "Requirement already satisfied: pydot in /usr/local/lib/python3.10/dist-packages (3.0.3)\n",
            "Requirement already satisfied: numpy in /usr/local/lib/python3.10/dist-packages (from tifffile) (1.26.4)\n",
            "Requirement already satisfied: pandas>=1.2 in /usr/local/lib/python3.10/dist-packages (from seaborn) (2.2.2)\n",
            "Requirement already satisfied: matplotlib!=3.6.1,>=3.4 in /usr/local/lib/python3.10/dist-packages (from seaborn) (3.8.0)\n",
            "Collecting bitarray<3.0.0,>=2.9.0 (from bitstring)\n",
            "  Downloading bitarray-2.9.3-cp310-cp310-manylinux_2_17_x86_64.manylinux2014_x86_64.whl.metadata (34 kB)\n",
            "Requirement already satisfied: pyparsing>=3.0.9 in /usr/local/lib/python3.10/dist-packages (from pydot) (3.2.0)\n",
            "Requirement already satisfied: contourpy>=1.0.1 in /usr/local/lib/python3.10/dist-packages (from matplotlib!=3.6.1,>=3.4->seaborn) (1.3.1)\n",
            "Requirement already satisfied: cycler>=0.10 in /usr/local/lib/python3.10/dist-packages (from matplotlib!=3.6.1,>=3.4->seaborn) (0.12.1)\n",
            "Requirement already satisfied: fonttools>=4.22.0 in /usr/local/lib/python3.10/dist-packages (from matplotlib!=3.6.1,>=3.4->seaborn) (4.55.3)\n",
            "Requirement already satisfied: kiwisolver>=1.0.1 in /usr/local/lib/python3.10/dist-packages (from matplotlib!=3.6.1,>=3.4->seaborn) (1.4.7)\n",
            "Requirement already satisfied: packaging>=20.0 in /usr/local/lib/python3.10/dist-packages (from matplotlib!=3.6.1,>=3.4->seaborn) (24.2)\n",
            "Requirement already satisfied: pillow>=6.2.0 in /usr/local/lib/python3.10/dist-packages (from matplotlib!=3.6.1,>=3.4->seaborn) (11.0.0)\n",
            "Requirement already satisfied: python-dateutil>=2.7 in /usr/local/lib/python3.10/dist-packages (from matplotlib!=3.6.1,>=3.4->seaborn) (2.8.2)\n",
            "Requirement already satisfied: pytz>=2020.1 in /usr/local/lib/python3.10/dist-packages (from pandas>=1.2->seaborn) (2024.2)\n",
            "Requirement already satisfied: tzdata>=2022.7 in /usr/local/lib/python3.10/dist-packages (from pandas>=1.2->seaborn) (2024.2)\n",
            "Requirement already satisfied: six>=1.5 in /usr/local/lib/python3.10/dist-packages (from python-dateutil>=2.7->matplotlib!=3.6.1,>=3.4->seaborn) (1.17.0)\n",
            "Downloading tintolib-0.0.26-py3-none-any.whl (53 kB)\n",
            "\u001b[2K   \u001b[90m━━━━━━━━━━━━━━━━━━━━━━━━━━━━━━━━━━━━━━━━\u001b[0m \u001b[32m53.3/53.3 kB\u001b[0m \u001b[31m3.4 MB/s\u001b[0m eta \u001b[36m0:00:00\u001b[0m\n",
            "\u001b[?25hDownloading bitstring-4.2.3-py3-none-any.whl (71 kB)\n",
            "\u001b[2K   \u001b[90m━━━━━━━━━━━━━━━━━━━━━━━━━━━━━━━━━━━━━━━━\u001b[0m \u001b[32m71.7/71.7 kB\u001b[0m \u001b[31m4.9 MB/s\u001b[0m eta \u001b[36m0:00:00\u001b[0m\n",
            "\u001b[?25hDownloading bitarray-2.9.3-cp310-cp310-manylinux_2_17_x86_64.manylinux2014_x86_64.whl (288 kB)\n",
            "\u001b[2K   \u001b[90m━━━━━━━━━━━━━━━━━━━━━━━━━━━━━━━━━━━━━━━━\u001b[0m \u001b[32m288.4/288.4 kB\u001b[0m \u001b[31m18.8 MB/s\u001b[0m eta \u001b[36m0:00:00\u001b[0m\n",
            "\u001b[?25hBuilding wheels for collected packages: mpi4py\n",
            "Installing collected packages: bitarray, TINTOlib, mpi4py, bitstring\n",
            "Successfully installed TINTOlib-0.0.26 bitarray-2.9.3 bitstring-4.2.3 mpi4py-4.0.1\n"
          ]
        }
      ]
    },
    {
      "cell_type": "code",
      "source": [
        "!pip install keras_preprocessing --quiet"
      ],
      "metadata": {
        "colab": {
          "base_uri": "https://localhost:8080/"
        },
        "id": "Hy_AOtIS_JPD",
        "outputId": "6363fd24-a2f8-40c8-807f-a89c4af8dd04"
      },
      "execution_count": 2,
      "outputs": [
        {
          "output_type": "stream",
          "name": "stdout",
          "text": [
            "\u001b[?25l   \u001b[90m━━━━━━━━━━━━━━━━━━━━━━━━━━━━━━━━━━━━━━━━\u001b[0m \u001b[32m0.0/42.6 kB\u001b[0m \u001b[31m?\u001b[0m eta \u001b[36m-:--:--\u001b[0m\r\u001b[2K   \u001b[90m━━━━━━━━━━━━━━━━━━━━━━━━━━━━━━━━━━━━━━━━\u001b[0m \u001b[32m42.6/42.6 kB\u001b[0m \u001b[31m2.0 MB/s\u001b[0m eta \u001b[36m0:00:00\u001b[0m\n",
            "\u001b[?25h"
          ]
        }
      ]
    },
    {
      "cell_type": "code",
      "source": [
        "!pip install visualkeras"
      ],
      "metadata": {
        "id": "ceA37MG2Cq7C",
        "outputId": "4987dd01-4460-4690-d749-22f3cf1eca8f",
        "colab": {
          "base_uri": "https://localhost:8080/"
        }
      },
      "execution_count": 4,
      "outputs": [
        {
          "output_type": "stream",
          "name": "stdout",
          "text": [
            "Collecting visualkeras\n",
            "  Downloading visualkeras-0.1.4-py3-none-any.whl.metadata (11 kB)\n",
            "Requirement already satisfied: pillow>=6.2.0 in /usr/local/lib/python3.10/dist-packages (from visualkeras) (11.0.0)\n",
            "Requirement already satisfied: numpy>=1.18.1 in /usr/local/lib/python3.10/dist-packages (from visualkeras) (1.26.4)\n",
            "Collecting aggdraw>=1.3.11 (from visualkeras)\n",
            "  Downloading aggdraw-1.3.19-cp310-cp310-manylinux_2_17_x86_64.manylinux2014_x86_64.whl.metadata (655 bytes)\n",
            "Downloading visualkeras-0.1.4-py3-none-any.whl (17 kB)\n",
            "Downloading aggdraw-1.3.19-cp310-cp310-manylinux_2_17_x86_64.manylinux2014_x86_64.whl (993 kB)\n",
            "\u001b[2K   \u001b[90m━━━━━━━━━━━━━━━━━━━━━━━━━━━━━━━━━━━━━━━━\u001b[0m \u001b[32m993.7/993.7 kB\u001b[0m \u001b[31m16.1 MB/s\u001b[0m eta \u001b[36m0:00:00\u001b[0m\n",
            "\u001b[?25hInstalling collected packages: aggdraw, visualkeras\n",
            "Successfully installed aggdraw-1.3.19 visualkeras-0.1.4\n"
          ]
        }
      ]
    },
    {
      "cell_type": "markdown",
      "metadata": {
        "id": "qwYF5A2njpC8"
      },
      "source": [
        "<a id=\"section2\"></a>\n",
        "# <font color=\"#004D7F\" size=6> 2. Libraries</font>"
      ]
    },
    {
      "cell_type": "markdown",
      "metadata": {
        "id": "H9pYR4Hc_FxC"
      },
      "source": [
        "---\n",
        "<a id=\"section22\"></a>\n",
        "# <font color=\"#004D7F\" size=5> 2.2. Invoke the libraries</font>"
      ]
    },
    {
      "cell_type": "code",
      "execution_count": 5,
      "metadata": {
        "id": "PeeBbGxlpjFp",
        "tags": []
      },
      "outputs": [],
      "source": [
        "import os\n",
        "import random\n",
        "import pandas as pd\n",
        "import numpy as np\n",
        "from tqdm import tqdm\n",
        "#import cv2\n",
        "import gc\n",
        "import matplotlib.pyplot as plt\n",
        "#import openslide\n",
        "#from openslide.deepzoom import DeepZoomGenerator\n",
        "import tifffile as tifi\n",
        "import sklearn\n",
        "import tensorflow as tf\n",
        "import seaborn as sns\n",
        "from PIL import Image\n",
        "import visualkeras as vk\n",
        "\n",
        "\n",
        "from sklearn.metrics import mean_absolute_error, mean_squared_error, r2_score,mean_absolute_percentage_error\n",
        "\n",
        "from keras_preprocessing.image import ImageDataGenerator\n",
        "from tensorflow.keras.models import load_model\n",
        "\n",
        "from sklearn.model_selection import train_test_split\n",
        "from tensorflow.keras.applications import vgg16, vgg19, resnet50, mobilenet, inception_resnet_v2, densenet, inception_v3, xception, nasnet, ResNet152V2\n",
        "from tensorflow.keras.models import Sequential, Model, load_model\n",
        "from tensorflow.keras.layers import Dense, Conv2D, MaxPool2D, Flatten, Dropout, BatchNormalization, InputLayer, LayerNormalization\n",
        "from tensorflow.keras.callbacks import ModelCheckpoint, ReduceLROnPlateau, EarlyStopping\n",
        "from tensorflow.keras.optimizers import SGD, Adam, Adadelta, Adamax, AdamW\n",
        "from tensorflow.keras import layers, models, Model\n",
        "from tensorflow.keras.losses import MeanAbsoluteError, MeanAbsolutePercentageError\n",
        "from tensorflow.keras.layers import Input, Activation, MaxPooling2D, concatenate, Concatenate, AveragePooling2D\n",
        "from tensorflow.keras.utils import to_categorical\n",
        "from keras.utils import plot_model\n",
        "\n",
        "\n",
        "from imblearn.under_sampling import RandomUnderSampler\n",
        "\n",
        "#Models of TINTOlib\n",
        "from TINTOlib.tinto import TINTO\n",
        "from TINTOlib.supertml import SuperTML\n",
        "from TINTOlib.igtd import IGTD\n",
        "from TINTOlib.refined import REFINED\n",
        "from TINTOlib.barGraph import BarGraph\n",
        "from TINTOlib.distanceMatrix import DistanceMatrix\n",
        "from TINTOlib.combination import Combination\n",
        "from TINTOlib.featureWrap import FeatureWrap\n",
        "\n",
        "\n",
        "\n",
        "SEED = 64\n",
        "# SET RANDOM SEED FOR REPRODUCIBILITY\n",
        "#torch.manual_seed(SEED)\n",
        "#torch.cuda.manual_seed(SEED)\n",
        "#torch.cuda.manual_seed_all(SEED)\n",
        "#torch.backends.cudnn.deterministic = True\n",
        "#torch.backends.cudnn.benchmark = False\n",
        "os.environ['PYTHONHASHSEED']=str(SEED)\n",
        "random.seed(SEED)\n",
        "np.random.seed(SEED)\n",
        "tf.random.set_seed(SEED)"
      ]
    },
    {
      "cell_type": "markdown",
      "metadata": {
        "id": "NwS-cKUxjpDQ"
      },
      "source": [
        "---\n",
        "<div style=\"text-align: right\"> <font size=5> <a href=\"#indice\"><i class=\"fa fa-arrow-circle-up\" aria-hidden=\"true\" style=\"color:#004D7F\"></i></a></font></div>\n",
        "\n",
        "---"
      ]
    },
    {
      "cell_type": "markdown",
      "metadata": {
        "id": "aDL4LARWjpDT"
      },
      "source": [
        "<a id=\"section3\"></a>\n",
        "# <font color=\"#004D7F\" size=6> 3. Data processing</font>"
      ]
    },
    {
      "cell_type": "markdown",
      "metadata": {
        "id": "u2ZWHa3X_FxD"
      },
      "source": [
        "---\n",
        "<a id=\"section31\"></a>\n",
        "# <font color=\"#004D7F\" size=5> 3.1. TINTOlib methods</font>"
      ]
    },
    {
      "cell_type": "code",
      "execution_count": 6,
      "metadata": {
        "id": "wzJ_3YD1_FxD"
      },
      "outputs": [],
      "source": [
        "#Select the model and the parameters\n",
        "problem_type = \"supervised\"\n",
        "#problem_type = \"regression\"\n",
        "\n",
        "pixel = 20\n",
        "## zoom para ampliar la imagen\n",
        "#image_model = REFINED(problem=problem_type, random_seed=SEED, zoom=4, n_processors=8)\n",
        "image_model = TINTO(problem= problem_type, blur=True, option='maximun', pixels=pixel, random_seed=SEED)\n",
        "# scale sería [7,4] porque hay 26 variables (para 24 pixeles);\n",
        "#image_model = IGTD(problem= problem_type, random_seed=SEED, scale=[3,3], zoom=4)\n",
        "#image_model = BarGraph(problem= problem_type, pixel_width=2, gap=1, zoom=1)\n",
        "#image_model = DistanceMatrix(problem= problem_type, zoom=4)\n",
        "#image_model = Combination(problem= problem_type, zoom=3)\n",
        "#image_model = SuperTML(problem= problem_type, pixels = pixelTML, font_size=4, feature_importance=True, random_seed=SEED)\n",
        "#image_model = SuperTML(problem= problem_type, pixels=pixel, font_size=3, random_seed=SEED)\n",
        "\n",
        "#Define the dataset path and the folder where the images will be saved\n",
        "results_folder = \"TINTO\"\n",
        "dataset_path = \"../dataset_train.csv\"\n",
        "images_folder = \"TINTO\""
      ]
    },
    {
      "cell_type": "markdown",
      "metadata": {
        "id": "QepR-aLu_FxE"
      },
      "source": [
        "<div class=\"alert alert-block alert-info\">\n",
        "\n",
        "<i class=\"fa fa-info-circle\" aria-hidden=\"true\"></i>\n",
        "You can see all TINTOlib method in the [PyPI documentation](https://tintolib.readthedocs.io/en/latest/installation.html)"
      ]
    },
    {
      "cell_type": "markdown",
      "metadata": {
        "id": "uhS3g4z5_FxE"
      },
      "source": [
        "---\n",
        "<a id=\"section32\"></a>\n",
        "# <font color=\"#004D7F\" size=5> 3.2. Read the dataset</font>"
      ]
    },
    {
      "cell_type": "markdown",
      "metadata": {
        "id": "zE-d5UaV_FxE"
      },
      "source": [
        "In this part, we proceed to read the dataset according to the path specified above and also standardize the name that the target will have, in this case, it will be called `class`."
      ]
    },
    {
      "cell_type": "code",
      "execution_count": 7,
      "metadata": {
        "scrolled": true,
        "colab": {
          "base_uri": "https://localhost:8080/",
          "height": 112
        },
        "id": "mVGq8MHd_FxE",
        "outputId": "c83f3fb0-14b0-49cf-fe32-a3ef6e8c7306"
      },
      "outputs": [
        {
          "output_type": "execute_result",
          "data": {
            "text/plain": [
              "      O3   TMP    RH      1/RH  WSP    WDR  class\n",
              "0  163.0  28.2  17.0  0.058824  3.2  346.0      1\n",
              "1  170.0  28.9  23.0  0.043478  3.4  355.0      1"
            ],
            "text/html": [
              "\n",
              "  <div id=\"df-937b1f70-e947-4d65-a743-c93b9b23c3d6\" class=\"colab-df-container\">\n",
              "    <div>\n",
              "<style scoped>\n",
              "    .dataframe tbody tr th:only-of-type {\n",
              "        vertical-align: middle;\n",
              "    }\n",
              "\n",
              "    .dataframe tbody tr th {\n",
              "        vertical-align: top;\n",
              "    }\n",
              "\n",
              "    .dataframe thead th {\n",
              "        text-align: right;\n",
              "    }\n",
              "</style>\n",
              "<table border=\"1\" class=\"dataframe\">\n",
              "  <thead>\n",
              "    <tr style=\"text-align: right;\">\n",
              "      <th></th>\n",
              "      <th>O3</th>\n",
              "      <th>TMP</th>\n",
              "      <th>RH</th>\n",
              "      <th>1/RH</th>\n",
              "      <th>WSP</th>\n",
              "      <th>WDR</th>\n",
              "      <th>class</th>\n",
              "    </tr>\n",
              "  </thead>\n",
              "  <tbody>\n",
              "    <tr>\n",
              "      <th>0</th>\n",
              "      <td>163.0</td>\n",
              "      <td>28.2</td>\n",
              "      <td>17.0</td>\n",
              "      <td>0.058824</td>\n",
              "      <td>3.2</td>\n",
              "      <td>346.0</td>\n",
              "      <td>1</td>\n",
              "    </tr>\n",
              "    <tr>\n",
              "      <th>1</th>\n",
              "      <td>170.0</td>\n",
              "      <td>28.9</td>\n",
              "      <td>23.0</td>\n",
              "      <td>0.043478</td>\n",
              "      <td>3.4</td>\n",
              "      <td>355.0</td>\n",
              "      <td>1</td>\n",
              "    </tr>\n",
              "  </tbody>\n",
              "</table>\n",
              "</div>\n",
              "    <div class=\"colab-df-buttons\">\n",
              "\n",
              "  <div class=\"colab-df-container\">\n",
              "    <button class=\"colab-df-convert\" onclick=\"convertToInteractive('df-937b1f70-e947-4d65-a743-c93b9b23c3d6')\"\n",
              "            title=\"Convert this dataframe to an interactive table.\"\n",
              "            style=\"display:none;\">\n",
              "\n",
              "  <svg xmlns=\"http://www.w3.org/2000/svg\" height=\"24px\" viewBox=\"0 -960 960 960\">\n",
              "    <path d=\"M120-120v-720h720v720H120Zm60-500h600v-160H180v160Zm220 220h160v-160H400v160Zm0 220h160v-160H400v160ZM180-400h160v-160H180v160Zm440 0h160v-160H620v160ZM180-180h160v-160H180v160Zm440 0h160v-160H620v160Z\"/>\n",
              "  </svg>\n",
              "    </button>\n",
              "\n",
              "  <style>\n",
              "    .colab-df-container {\n",
              "      display:flex;\n",
              "      gap: 12px;\n",
              "    }\n",
              "\n",
              "    .colab-df-convert {\n",
              "      background-color: #E8F0FE;\n",
              "      border: none;\n",
              "      border-radius: 50%;\n",
              "      cursor: pointer;\n",
              "      display: none;\n",
              "      fill: #1967D2;\n",
              "      height: 32px;\n",
              "      padding: 0 0 0 0;\n",
              "      width: 32px;\n",
              "    }\n",
              "\n",
              "    .colab-df-convert:hover {\n",
              "      background-color: #E2EBFA;\n",
              "      box-shadow: 0px 1px 2px rgba(60, 64, 67, 0.3), 0px 1px 3px 1px rgba(60, 64, 67, 0.15);\n",
              "      fill: #174EA6;\n",
              "    }\n",
              "\n",
              "    .colab-df-buttons div {\n",
              "      margin-bottom: 4px;\n",
              "    }\n",
              "\n",
              "    [theme=dark] .colab-df-convert {\n",
              "      background-color: #3B4455;\n",
              "      fill: #D2E3FC;\n",
              "    }\n",
              "\n",
              "    [theme=dark] .colab-df-convert:hover {\n",
              "      background-color: #434B5C;\n",
              "      box-shadow: 0px 1px 3px 1px rgba(0, 0, 0, 0.15);\n",
              "      filter: drop-shadow(0px 1px 2px rgba(0, 0, 0, 0.3));\n",
              "      fill: #FFFFFF;\n",
              "    }\n",
              "  </style>\n",
              "\n",
              "    <script>\n",
              "      const buttonEl =\n",
              "        document.querySelector('#df-937b1f70-e947-4d65-a743-c93b9b23c3d6 button.colab-df-convert');\n",
              "      buttonEl.style.display =\n",
              "        google.colab.kernel.accessAllowed ? 'block' : 'none';\n",
              "\n",
              "      async function convertToInteractive(key) {\n",
              "        const element = document.querySelector('#df-937b1f70-e947-4d65-a743-c93b9b23c3d6');\n",
              "        const dataTable =\n",
              "          await google.colab.kernel.invokeFunction('convertToInteractive',\n",
              "                                                    [key], {});\n",
              "        if (!dataTable) return;\n",
              "\n",
              "        const docLinkHtml = 'Like what you see? Visit the ' +\n",
              "          '<a target=\"_blank\" href=https://colab.research.google.com/notebooks/data_table.ipynb>data table notebook</a>'\n",
              "          + ' to learn more about interactive tables.';\n",
              "        element.innerHTML = '';\n",
              "        dataTable['output_type'] = 'display_data';\n",
              "        await google.colab.output.renderOutput(dataTable, element);\n",
              "        const docLink = document.createElement('div');\n",
              "        docLink.innerHTML = docLinkHtml;\n",
              "        element.appendChild(docLink);\n",
              "      }\n",
              "    </script>\n",
              "  </div>\n",
              "\n",
              "\n",
              "<div id=\"df-cc866886-a124-4eb7-84f6-f7e6796d0327\">\n",
              "  <button class=\"colab-df-quickchart\" onclick=\"quickchart('df-cc866886-a124-4eb7-84f6-f7e6796d0327')\"\n",
              "            title=\"Suggest charts\"\n",
              "            style=\"display:none;\">\n",
              "\n",
              "<svg xmlns=\"http://www.w3.org/2000/svg\" height=\"24px\"viewBox=\"0 0 24 24\"\n",
              "     width=\"24px\">\n",
              "    <g>\n",
              "        <path d=\"M19 3H5c-1.1 0-2 .9-2 2v14c0 1.1.9 2 2 2h14c1.1 0 2-.9 2-2V5c0-1.1-.9-2-2-2zM9 17H7v-7h2v7zm4 0h-2V7h2v10zm4 0h-2v-4h2v4z\"/>\n",
              "    </g>\n",
              "</svg>\n",
              "  </button>\n",
              "\n",
              "<style>\n",
              "  .colab-df-quickchart {\n",
              "      --bg-color: #E8F0FE;\n",
              "      --fill-color: #1967D2;\n",
              "      --hover-bg-color: #E2EBFA;\n",
              "      --hover-fill-color: #174EA6;\n",
              "      --disabled-fill-color: #AAA;\n",
              "      --disabled-bg-color: #DDD;\n",
              "  }\n",
              "\n",
              "  [theme=dark] .colab-df-quickchart {\n",
              "      --bg-color: #3B4455;\n",
              "      --fill-color: #D2E3FC;\n",
              "      --hover-bg-color: #434B5C;\n",
              "      --hover-fill-color: #FFFFFF;\n",
              "      --disabled-bg-color: #3B4455;\n",
              "      --disabled-fill-color: #666;\n",
              "  }\n",
              "\n",
              "  .colab-df-quickchart {\n",
              "    background-color: var(--bg-color);\n",
              "    border: none;\n",
              "    border-radius: 50%;\n",
              "    cursor: pointer;\n",
              "    display: none;\n",
              "    fill: var(--fill-color);\n",
              "    height: 32px;\n",
              "    padding: 0;\n",
              "    width: 32px;\n",
              "  }\n",
              "\n",
              "  .colab-df-quickchart:hover {\n",
              "    background-color: var(--hover-bg-color);\n",
              "    box-shadow: 0 1px 2px rgba(60, 64, 67, 0.3), 0 1px 3px 1px rgba(60, 64, 67, 0.15);\n",
              "    fill: var(--button-hover-fill-color);\n",
              "  }\n",
              "\n",
              "  .colab-df-quickchart-complete:disabled,\n",
              "  .colab-df-quickchart-complete:disabled:hover {\n",
              "    background-color: var(--disabled-bg-color);\n",
              "    fill: var(--disabled-fill-color);\n",
              "    box-shadow: none;\n",
              "  }\n",
              "\n",
              "  .colab-df-spinner {\n",
              "    border: 2px solid var(--fill-color);\n",
              "    border-color: transparent;\n",
              "    border-bottom-color: var(--fill-color);\n",
              "    animation:\n",
              "      spin 1s steps(1) infinite;\n",
              "  }\n",
              "\n",
              "  @keyframes spin {\n",
              "    0% {\n",
              "      border-color: transparent;\n",
              "      border-bottom-color: var(--fill-color);\n",
              "      border-left-color: var(--fill-color);\n",
              "    }\n",
              "    20% {\n",
              "      border-color: transparent;\n",
              "      border-left-color: var(--fill-color);\n",
              "      border-top-color: var(--fill-color);\n",
              "    }\n",
              "    30% {\n",
              "      border-color: transparent;\n",
              "      border-left-color: var(--fill-color);\n",
              "      border-top-color: var(--fill-color);\n",
              "      border-right-color: var(--fill-color);\n",
              "    }\n",
              "    40% {\n",
              "      border-color: transparent;\n",
              "      border-right-color: var(--fill-color);\n",
              "      border-top-color: var(--fill-color);\n",
              "    }\n",
              "    60% {\n",
              "      border-color: transparent;\n",
              "      border-right-color: var(--fill-color);\n",
              "    }\n",
              "    80% {\n",
              "      border-color: transparent;\n",
              "      border-right-color: var(--fill-color);\n",
              "      border-bottom-color: var(--fill-color);\n",
              "    }\n",
              "    90% {\n",
              "      border-color: transparent;\n",
              "      border-bottom-color: var(--fill-color);\n",
              "    }\n",
              "  }\n",
              "</style>\n",
              "\n",
              "  <script>\n",
              "    async function quickchart(key) {\n",
              "      const quickchartButtonEl =\n",
              "        document.querySelector('#' + key + ' button');\n",
              "      quickchartButtonEl.disabled = true;  // To prevent multiple clicks.\n",
              "      quickchartButtonEl.classList.add('colab-df-spinner');\n",
              "      try {\n",
              "        const charts = await google.colab.kernel.invokeFunction(\n",
              "            'suggestCharts', [key], {});\n",
              "      } catch (error) {\n",
              "        console.error('Error during call to suggestCharts:', error);\n",
              "      }\n",
              "      quickchartButtonEl.classList.remove('colab-df-spinner');\n",
              "      quickchartButtonEl.classList.add('colab-df-quickchart-complete');\n",
              "    }\n",
              "    (() => {\n",
              "      let quickchartButtonEl =\n",
              "        document.querySelector('#df-cc866886-a124-4eb7-84f6-f7e6796d0327 button');\n",
              "      quickchartButtonEl.style.display =\n",
              "        google.colab.kernel.accessAllowed ? 'block' : 'none';\n",
              "    })();\n",
              "  </script>\n",
              "</div>\n",
              "\n",
              "    </div>\n",
              "  </div>\n"
            ],
            "application/vnd.google.colaboratory.intrinsic+json": {
              "type": "dataframe",
              "variable_name": "df",
              "summary": "{\n  \"name\": \"df\",\n  \"rows\": 23809,\n  \"fields\": [\n    {\n      \"column\": \"O3\",\n      \"properties\": {\n        \"dtype\": \"number\",\n        \"std\": 29.55113576096343,\n        \"min\": 3.0,\n        \"max\": 210.0,\n        \"num_unique_values\": 478,\n        \"samples\": [\n          70.28571429,\n          79.0,\n          77.0\n        ],\n        \"semantic_type\": \"\",\n        \"description\": \"\"\n      }\n    },\n    {\n      \"column\": \"TMP\",\n      \"properties\": {\n        \"dtype\": \"number\",\n        \"std\": 4.968508496049189,\n        \"min\": 6.6,\n        \"max\": 35.3,\n        \"num_unique_values\": 1153,\n        \"samples\": [\n          22.01428571,\n          11.02857143,\n          25.81428571\n        ],\n        \"semantic_type\": \"\",\n        \"description\": \"\"\n      }\n    },\n    {\n      \"column\": \"RH\",\n      \"properties\": {\n        \"dtype\": \"number\",\n        \"std\": 21.65810181455652,\n        \"min\": 5.0,\n        \"max\": 100.0,\n        \"num_unique_values\": 433,\n        \"samples\": [\n          86.85714286,\n          75.0,\n          80.85714286\n        ],\n        \"semantic_type\": \"\",\n        \"description\": \"\"\n      }\n    },\n    {\n      \"column\": \"1/RH\",\n      \"properties\": {\n        \"dtype\": \"number\",\n        \"std\": 0.010002725743243186,\n        \"min\": 0.01,\n        \"max\": 0.2,\n        \"num_unique_values\": 433,\n        \"samples\": [\n          0.011513158,\n          0.013333333,\n          0.012367491\n        ],\n        \"semantic_type\": \"\",\n        \"description\": \"\"\n      }\n    },\n    {\n      \"column\": \"WSP\",\n      \"properties\": {\n        \"dtype\": \"number\",\n        \"std\": 1.430145682233255,\n        \"min\": 0.928571429,\n        \"max\": 10.1,\n        \"num_unique_values\": 365,\n        \"samples\": [\n          5.314285714,\n          1.5,\n          4.2\n        ],\n        \"semantic_type\": \"\",\n        \"description\": \"\"\n      }\n    },\n    {\n      \"column\": \"WDR\",\n      \"properties\": {\n        \"dtype\": \"number\",\n        \"std\": 34.641026552118696,\n        \"min\": 65.0,\n        \"max\": 360.0,\n        \"num_unique_values\": 378,\n        \"samples\": [\n          334.8571429,\n          200.1428571,\n          295.7142857\n        ],\n        \"semantic_type\": \"\",\n        \"description\": \"\"\n      }\n    },\n    {\n      \"column\": \"class\",\n      \"properties\": {\n        \"dtype\": \"number\",\n        \"std\": 0,\n        \"min\": 0,\n        \"max\": 1,\n        \"num_unique_values\": 2,\n        \"samples\": [\n          0,\n          1\n        ],\n        \"semantic_type\": \"\",\n        \"description\": \"\"\n      }\n    }\n  ]\n}"
            }
          },
          "metadata": {},
          "execution_count": 7
        }
      ],
      "source": [
        "#Read CSV\n",
        "df = pd.read_csv(\"sample_data/dataset_train.csv\")\n",
        "df.head(2)"
      ]
    },
    {
      "cell_type": "markdown",
      "metadata": {
        "id": "WxB1hK3-_FxE"
      },
      "source": [
        "---\n",
        "<a id=\"section33\"></a>\n",
        "# <font color=\"#004D7F\" size=5> 3.3. Generate images</font>"
      ]
    },
    {
      "cell_type": "markdown",
      "metadata": {
        "id": "BKeO2aeA_FxE"
      },
      "source": [
        "Now we can generate the images with the `generateImages()` generic function. Likewise, we create a dataset that will have the path of each of the samples with the corresponding image created for it.\n",
        "\n",
        "Note that each image is created based on a row, therefore, each numerical sample of the dataset will correspond to a particular image. In other words, we will have the same number of images as samples/rows."
      ]
    },
    {
      "cell_type": "code",
      "execution_count": 8,
      "metadata": {
        "colab": {
          "base_uri": "https://localhost:8080/"
        },
        "id": "xKWFxZ2k_FxE",
        "outputId": "79f7c36c-106d-4507-c607-d1d6660d0143"
      },
      "outputs": [
        {
          "output_type": "stream",
          "name": "stdout",
          "text": [
            "TINTO/supervised.csv\n"
          ]
        }
      ],
      "source": [
        "import os\n",
        "\n",
        "# Generate the images if the folder does not exist\n",
        "if not os.path.exists(images_folder):\n",
        "    #Generate thet images\n",
        "    image_model.generateImages(df, images_folder)\n",
        "else:\n",
        "    print(\"The images are already generated\")\n",
        "\n",
        "img_paths = os.path.join(images_folder,problem_type+\".csv\")\n",
        "\n",
        "print(img_paths)"
      ]
    },
    {
      "cell_type": "markdown",
      "metadata": {
        "id": "9J625VkZ_FxE"
      },
      "source": [
        "---\n",
        "<a id=\"section34\"></a>\n",
        "# <font color=\"#004D7F\" size=5> 3.4. Read Images</font>"
      ]
    },
    {
      "cell_type": "markdown",
      "metadata": {
        "id": "vl-ERrz8_FxF"
      },
      "source": [
        "Now, we read the created images"
      ]
    },
    {
      "cell_type": "code",
      "execution_count": 9,
      "metadata": {
        "id": "gFzcz6It_FxF"
      },
      "outputs": [],
      "source": [
        "imgs = pd.read_csv(img_paths)\n",
        "\n",
        "#imgs[\"images\"]= images_folder + \"\\\\\" + imgs[\"images\"]\n",
        "imgs[\"images\"]= images_folder + \"/\" + imgs[\"images\"]"
      ]
    },
    {
      "cell_type": "markdown",
      "metadata": {
        "id": "XLlmdI3M_FxF"
      },
      "source": [
        "---\n",
        "<a id=\"section35\"></a>\n",
        "# <font color=\"#004D7F\" size=5> 3.5. Mix images and tidy data</font>"
      ]
    },
    {
      "cell_type": "markdown",
      "metadata": {
        "id": "dNfTnZ3p_FxF"
      },
      "source": [
        "Since we are going to use hybrid networks, i.e. create a model in which we join a CNN for the images and a MLP for the tabular data, we are going to join it in order to integrate all the data in our hybrid model.\n"
      ]
    },
    {
      "cell_type": "code",
      "execution_count": 10,
      "metadata": {
        "colab": {
          "base_uri": "https://localhost:8080/",
          "height": 112
        },
        "id": "-utZIzsM_FxF",
        "outputId": "76c072fb-8e0f-4f9c-e1b4-c6cb1a9a0131"
      },
      "outputs": [
        {
          "output_type": "execute_result",
          "data": {
            "text/plain": [
              "         O3       TMP        RH      1/RH       WSP       WDR  class\n",
              "0  0.772947  0.752613  0.126316  0.256966  0.247664  0.952542      1\n",
              "1  0.806763  0.777003  0.189474  0.176201  0.269470  0.983051      1"
            ],
            "text/html": [
              "\n",
              "  <div id=\"df-999cc860-9f81-4479-99ca-4d66a37626dc\" class=\"colab-df-container\">\n",
              "    <div>\n",
              "<style scoped>\n",
              "    .dataframe tbody tr th:only-of-type {\n",
              "        vertical-align: middle;\n",
              "    }\n",
              "\n",
              "    .dataframe tbody tr th {\n",
              "        vertical-align: top;\n",
              "    }\n",
              "\n",
              "    .dataframe thead th {\n",
              "        text-align: right;\n",
              "    }\n",
              "</style>\n",
              "<table border=\"1\" class=\"dataframe\">\n",
              "  <thead>\n",
              "    <tr style=\"text-align: right;\">\n",
              "      <th></th>\n",
              "      <th>O3</th>\n",
              "      <th>TMP</th>\n",
              "      <th>RH</th>\n",
              "      <th>1/RH</th>\n",
              "      <th>WSP</th>\n",
              "      <th>WDR</th>\n",
              "      <th>class</th>\n",
              "    </tr>\n",
              "  </thead>\n",
              "  <tbody>\n",
              "    <tr>\n",
              "      <th>0</th>\n",
              "      <td>0.772947</td>\n",
              "      <td>0.752613</td>\n",
              "      <td>0.126316</td>\n",
              "      <td>0.256966</td>\n",
              "      <td>0.247664</td>\n",
              "      <td>0.952542</td>\n",
              "      <td>1</td>\n",
              "    </tr>\n",
              "    <tr>\n",
              "      <th>1</th>\n",
              "      <td>0.806763</td>\n",
              "      <td>0.777003</td>\n",
              "      <td>0.189474</td>\n",
              "      <td>0.176201</td>\n",
              "      <td>0.269470</td>\n",
              "      <td>0.983051</td>\n",
              "      <td>1</td>\n",
              "    </tr>\n",
              "  </tbody>\n",
              "</table>\n",
              "</div>\n",
              "    <div class=\"colab-df-buttons\">\n",
              "\n",
              "  <div class=\"colab-df-container\">\n",
              "    <button class=\"colab-df-convert\" onclick=\"convertToInteractive('df-999cc860-9f81-4479-99ca-4d66a37626dc')\"\n",
              "            title=\"Convert this dataframe to an interactive table.\"\n",
              "            style=\"display:none;\">\n",
              "\n",
              "  <svg xmlns=\"http://www.w3.org/2000/svg\" height=\"24px\" viewBox=\"0 -960 960 960\">\n",
              "    <path d=\"M120-120v-720h720v720H120Zm60-500h600v-160H180v160Zm220 220h160v-160H400v160Zm0 220h160v-160H400v160ZM180-400h160v-160H180v160Zm440 0h160v-160H620v160ZM180-180h160v-160H180v160Zm440 0h160v-160H620v160Z\"/>\n",
              "  </svg>\n",
              "    </button>\n",
              "\n",
              "  <style>\n",
              "    .colab-df-container {\n",
              "      display:flex;\n",
              "      gap: 12px;\n",
              "    }\n",
              "\n",
              "    .colab-df-convert {\n",
              "      background-color: #E8F0FE;\n",
              "      border: none;\n",
              "      border-radius: 50%;\n",
              "      cursor: pointer;\n",
              "      display: none;\n",
              "      fill: #1967D2;\n",
              "      height: 32px;\n",
              "      padding: 0 0 0 0;\n",
              "      width: 32px;\n",
              "    }\n",
              "\n",
              "    .colab-df-convert:hover {\n",
              "      background-color: #E2EBFA;\n",
              "      box-shadow: 0px 1px 2px rgba(60, 64, 67, 0.3), 0px 1px 3px 1px rgba(60, 64, 67, 0.15);\n",
              "      fill: #174EA6;\n",
              "    }\n",
              "\n",
              "    .colab-df-buttons div {\n",
              "      margin-bottom: 4px;\n",
              "    }\n",
              "\n",
              "    [theme=dark] .colab-df-convert {\n",
              "      background-color: #3B4455;\n",
              "      fill: #D2E3FC;\n",
              "    }\n",
              "\n",
              "    [theme=dark] .colab-df-convert:hover {\n",
              "      background-color: #434B5C;\n",
              "      box-shadow: 0px 1px 3px 1px rgba(0, 0, 0, 0.15);\n",
              "      filter: drop-shadow(0px 1px 2px rgba(0, 0, 0, 0.3));\n",
              "      fill: #FFFFFF;\n",
              "    }\n",
              "  </style>\n",
              "\n",
              "    <script>\n",
              "      const buttonEl =\n",
              "        document.querySelector('#df-999cc860-9f81-4479-99ca-4d66a37626dc button.colab-df-convert');\n",
              "      buttonEl.style.display =\n",
              "        google.colab.kernel.accessAllowed ? 'block' : 'none';\n",
              "\n",
              "      async function convertToInteractive(key) {\n",
              "        const element = document.querySelector('#df-999cc860-9f81-4479-99ca-4d66a37626dc');\n",
              "        const dataTable =\n",
              "          await google.colab.kernel.invokeFunction('convertToInteractive',\n",
              "                                                    [key], {});\n",
              "        if (!dataTable) return;\n",
              "\n",
              "        const docLinkHtml = 'Like what you see? Visit the ' +\n",
              "          '<a target=\"_blank\" href=https://colab.research.google.com/notebooks/data_table.ipynb>data table notebook</a>'\n",
              "          + ' to learn more about interactive tables.';\n",
              "        element.innerHTML = '';\n",
              "        dataTable['output_type'] = 'display_data';\n",
              "        await google.colab.output.renderOutput(dataTable, element);\n",
              "        const docLink = document.createElement('div');\n",
              "        docLink.innerHTML = docLinkHtml;\n",
              "        element.appendChild(docLink);\n",
              "      }\n",
              "    </script>\n",
              "  </div>\n",
              "\n",
              "\n",
              "<div id=\"df-c9d5661a-f131-403a-90d5-31b31bc9f2d8\">\n",
              "  <button class=\"colab-df-quickchart\" onclick=\"quickchart('df-c9d5661a-f131-403a-90d5-31b31bc9f2d8')\"\n",
              "            title=\"Suggest charts\"\n",
              "            style=\"display:none;\">\n",
              "\n",
              "<svg xmlns=\"http://www.w3.org/2000/svg\" height=\"24px\"viewBox=\"0 0 24 24\"\n",
              "     width=\"24px\">\n",
              "    <g>\n",
              "        <path d=\"M19 3H5c-1.1 0-2 .9-2 2v14c0 1.1.9 2 2 2h14c1.1 0 2-.9 2-2V5c0-1.1-.9-2-2-2zM9 17H7v-7h2v7zm4 0h-2V7h2v10zm4 0h-2v-4h2v4z\"/>\n",
              "    </g>\n",
              "</svg>\n",
              "  </button>\n",
              "\n",
              "<style>\n",
              "  .colab-df-quickchart {\n",
              "      --bg-color: #E8F0FE;\n",
              "      --fill-color: #1967D2;\n",
              "      --hover-bg-color: #E2EBFA;\n",
              "      --hover-fill-color: #174EA6;\n",
              "      --disabled-fill-color: #AAA;\n",
              "      --disabled-bg-color: #DDD;\n",
              "  }\n",
              "\n",
              "  [theme=dark] .colab-df-quickchart {\n",
              "      --bg-color: #3B4455;\n",
              "      --fill-color: #D2E3FC;\n",
              "      --hover-bg-color: #434B5C;\n",
              "      --hover-fill-color: #FFFFFF;\n",
              "      --disabled-bg-color: #3B4455;\n",
              "      --disabled-fill-color: #666;\n",
              "  }\n",
              "\n",
              "  .colab-df-quickchart {\n",
              "    background-color: var(--bg-color);\n",
              "    border: none;\n",
              "    border-radius: 50%;\n",
              "    cursor: pointer;\n",
              "    display: none;\n",
              "    fill: var(--fill-color);\n",
              "    height: 32px;\n",
              "    padding: 0;\n",
              "    width: 32px;\n",
              "  }\n",
              "\n",
              "  .colab-df-quickchart:hover {\n",
              "    background-color: var(--hover-bg-color);\n",
              "    box-shadow: 0 1px 2px rgba(60, 64, 67, 0.3), 0 1px 3px 1px rgba(60, 64, 67, 0.15);\n",
              "    fill: var(--button-hover-fill-color);\n",
              "  }\n",
              "\n",
              "  .colab-df-quickchart-complete:disabled,\n",
              "  .colab-df-quickchart-complete:disabled:hover {\n",
              "    background-color: var(--disabled-bg-color);\n",
              "    fill: var(--disabled-fill-color);\n",
              "    box-shadow: none;\n",
              "  }\n",
              "\n",
              "  .colab-df-spinner {\n",
              "    border: 2px solid var(--fill-color);\n",
              "    border-color: transparent;\n",
              "    border-bottom-color: var(--fill-color);\n",
              "    animation:\n",
              "      spin 1s steps(1) infinite;\n",
              "  }\n",
              "\n",
              "  @keyframes spin {\n",
              "    0% {\n",
              "      border-color: transparent;\n",
              "      border-bottom-color: var(--fill-color);\n",
              "      border-left-color: var(--fill-color);\n",
              "    }\n",
              "    20% {\n",
              "      border-color: transparent;\n",
              "      border-left-color: var(--fill-color);\n",
              "      border-top-color: var(--fill-color);\n",
              "    }\n",
              "    30% {\n",
              "      border-color: transparent;\n",
              "      border-left-color: var(--fill-color);\n",
              "      border-top-color: var(--fill-color);\n",
              "      border-right-color: var(--fill-color);\n",
              "    }\n",
              "    40% {\n",
              "      border-color: transparent;\n",
              "      border-right-color: var(--fill-color);\n",
              "      border-top-color: var(--fill-color);\n",
              "    }\n",
              "    60% {\n",
              "      border-color: transparent;\n",
              "      border-right-color: var(--fill-color);\n",
              "    }\n",
              "    80% {\n",
              "      border-color: transparent;\n",
              "      border-right-color: var(--fill-color);\n",
              "      border-bottom-color: var(--fill-color);\n",
              "    }\n",
              "    90% {\n",
              "      border-color: transparent;\n",
              "      border-bottom-color: var(--fill-color);\n",
              "    }\n",
              "  }\n",
              "</style>\n",
              "\n",
              "  <script>\n",
              "    async function quickchart(key) {\n",
              "      const quickchartButtonEl =\n",
              "        document.querySelector('#' + key + ' button');\n",
              "      quickchartButtonEl.disabled = true;  // To prevent multiple clicks.\n",
              "      quickchartButtonEl.classList.add('colab-df-spinner');\n",
              "      try {\n",
              "        const charts = await google.colab.kernel.invokeFunction(\n",
              "            'suggestCharts', [key], {});\n",
              "      } catch (error) {\n",
              "        console.error('Error during call to suggestCharts:', error);\n",
              "      }\n",
              "      quickchartButtonEl.classList.remove('colab-df-spinner');\n",
              "      quickchartButtonEl.classList.add('colab-df-quickchart-complete');\n",
              "    }\n",
              "    (() => {\n",
              "      let quickchartButtonEl =\n",
              "        document.querySelector('#df-c9d5661a-f131-403a-90d5-31b31bc9f2d8 button');\n",
              "      quickchartButtonEl.style.display =\n",
              "        google.colab.kernel.accessAllowed ? 'block' : 'none';\n",
              "    })();\n",
              "  </script>\n",
              "</div>\n",
              "\n",
              "    </div>\n",
              "  </div>\n"
            ],
            "application/vnd.google.colaboratory.intrinsic+json": {
              "type": "dataframe",
              "variable_name": "df_normalized",
              "summary": "{\n  \"name\": \"df_normalized\",\n  \"rows\": 23809,\n  \"fields\": [\n    {\n      \"column\": \"O3\",\n      \"properties\": {\n        \"dtype\": \"number\",\n        \"std\": 0.1427591099563472,\n        \"min\": 0.0,\n        \"max\": 1.0,\n        \"num_unique_values\": 478,\n        \"samples\": [\n          0.32505175985507245,\n          0.3671497584541063,\n          0.357487922705314\n        ],\n        \"semantic_type\": \"\",\n        \"description\": \"\"\n      }\n    },\n    {\n      \"column\": \"TMP\",\n      \"properties\": {\n        \"dtype\": \"number\",\n        \"std\": 0.17311876292854386,\n        \"min\": 0.0,\n        \"max\": 1.0,\n        \"num_unique_values\": 1153,\n        \"samples\": [\n          0.5370831257839722,\n          0.15430562473867598,\n          0.6694873069686411\n        ],\n        \"semantic_type\": \"\",\n        \"description\": \"\"\n      }\n    },\n    {\n      \"column\": \"RH\",\n      \"properties\": {\n        \"dtype\": \"number\",\n        \"std\": 0.22798001910059115,\n        \"min\": 0.0,\n        \"max\": 1.0,\n        \"num_unique_values\": 433,\n        \"samples\": [\n          0.8616541353684211,\n          0.7368421052631579,\n          0.7984962406315789\n        ],\n        \"semantic_type\": \"\",\n        \"description\": \"\"\n      }\n    },\n    {\n      \"column\": \"1/RH\",\n      \"properties\": {\n        \"dtype\": \"number\",\n        \"std\": 0.05264592496443704,\n        \"min\": 0.0,\n        \"max\": 1.0,\n        \"num_unique_values\": 433,\n        \"samples\": [\n          0.007963989473684213,\n          0.017543857894736836,\n          0.012460478947368417\n        ],\n        \"semantic_type\": \"\",\n        \"description\": \"\"\n      }\n    },\n    {\n      \"column\": \"WSP\",\n      \"properties\": {\n        \"dtype\": \"number\",\n        \"std\": 0.1559348874782059,\n        \"min\": 0.0,\n        \"max\": 1.0,\n        \"num_unique_values\": 365,\n        \"samples\": [\n          0.4781931463619094,\n          0.06230529590633825,\n          0.35669781928458094\n        ],\n        \"semantic_type\": \"\",\n        \"description\": \"\"\n      }\n    },\n    {\n      \"column\": \"WDR\",\n      \"properties\": {\n        \"dtype\": \"number\",\n        \"std\": 0.11742720865124916,\n        \"min\": 0.0,\n        \"max\": 1.0,\n        \"num_unique_values\": 378,\n        \"samples\": [\n          0.9147699759322033,\n          0.45811137999999996,\n          0.7820823244067797\n        ],\n        \"semantic_type\": \"\",\n        \"description\": \"\"\n      }\n    },\n    {\n      \"column\": \"class\",\n      \"properties\": {\n        \"dtype\": \"number\",\n        \"std\": 0,\n        \"min\": 0,\n        \"max\": 1,\n        \"num_unique_values\": 2,\n        \"samples\": [\n          0,\n          1\n        ],\n        \"semantic_type\": \"\",\n        \"description\": \"\"\n      }\n    }\n  ]\n}"
            }
          },
          "metadata": {},
          "execution_count": 10
        }
      ],
      "source": [
        "# Select all the attributes to normalize\n",
        "columns_to_normalize = df.columns[:-1]\n",
        "\n",
        "# Normalize between 0 and 1\n",
        "df_normalized = (df[columns_to_normalize] - df[columns_to_normalize].min()) / (df[columns_to_normalize].max() - df[columns_to_normalize].min())\n",
        "\n",
        "# Combine the attributes and the label\n",
        "df_normalized = pd.concat([df_normalized, df[df.columns[-1]]], axis=1)\n",
        "\n",
        "df_normalized.head(2)"
      ]
    },
    {
      "cell_type": "markdown",
      "metadata": {
        "id": "ViNTcQ7S_FxF"
      },
      "source": [
        "Combine the images and tidy data in the same dataframe, split attributes and objective value"
      ]
    },
    {
      "cell_type": "code",
      "execution_count": 11,
      "metadata": {
        "colab": {
          "base_uri": "https://localhost:8080/"
        },
        "id": "7u4cRfaj_FxF",
        "outputId": "c2e1778b-c199-4e79-eca8-08c121fbabba"
      },
      "outputs": [
        {
          "output_type": "stream",
          "name": "stdout",
          "text": [
            "0        1\n",
            "1        1\n",
            "2        1\n",
            "3        1\n",
            "4        1\n",
            "        ..\n",
            "23804    0\n",
            "23805    0\n",
            "23806    0\n",
            "23807    0\n",
            "23808    0\n",
            "Name: class, Length: 23809, dtype: int64\n"
          ]
        }
      ],
      "source": [
        "combined_dataset = pd.concat([imgs,df_normalized[columns_to_normalize]],axis=1)\n",
        "\n",
        "df_x = combined_dataset.drop(\"class\",axis=1)\n",
        "df_y = combined_dataset[\"class\"]\n",
        "\n",
        "print(df_y)"
      ]
    },
    {
      "cell_type": "markdown",
      "metadata": {
        "id": "AswKEJYp_FxF"
      },
      "source": [
        "---\n",
        "<a id=\"section36\"></a>\n",
        "# <font color=\"#004D7F\" size=5> 3.6. Label encoding</font>"
      ]
    },
    {
      "cell_type": "markdown",
      "metadata": {
        "id": "QdUz5WRk_FxF"
      },
      "source": [
        "\n",
        "In this section, we delve into label encoding, a crucial preprocessing step for preparing categorical labels for use in machine learning models. Specifically for binary classification tasks, label encoding involves transforming categorical labels into a binary format, represented by the integers 0 and 1."
      ]
    },
    {
      "cell_type": "code",
      "execution_count": null,
      "metadata": {
        "id": "SrVvEnYF_FxG"
      },
      "outputs": [],
      "source": [
        "#from sklearn.preprocessing import LabelEncoder\n",
        "#encoder = LabelEncoder()\n",
        "#df_y = encoder.fit_transform(df_y)"
      ]
    },
    {
      "cell_type": "markdown",
      "metadata": {
        "id": "_haEKIo7jpD1"
      },
      "source": [
        "---\n",
        "<div style=\"text-align: right\"> <font size=5> <a href=\"#indice\"><i class=\"fa fa-arrow-circle-up\" aria-hidden=\"true\" style=\"color:#004D7F\"></i></a></font></div>\n",
        "\n",
        "---"
      ]
    },
    {
      "cell_type": "markdown",
      "metadata": {
        "id": "uF1lJWbojpD3"
      },
      "source": [
        "<a id=\"section4\"></a>\n",
        "# <font color=\"#004D7F\" size=6> 4. Pre-modelling phase</font>"
      ]
    },
    {
      "cell_type": "code",
      "execution_count": 12,
      "metadata": {
        "colab": {
          "base_uri": "https://localhost:8080/"
        },
        "id": "IUbc72dh_FxG",
        "outputId": "3e7b8062-7af8-4b12-e629-5a97611af143"
      },
      "outputs": [
        {
          "output_type": "stream",
          "name": "stdout",
          "text": [
            "Images shape:  (20, 20, 3)\n",
            "Attributres:  6\n",
            "Image size (pixels): 20\n"
          ]
        }
      ],
      "source": [
        "import cv2\n",
        "X_train, X_val, y_train, y_val = train_test_split(df_x, df_y, test_size = 0.40, random_state = SEED,stratify=df_y)\n",
        "X_val, X_test, y_val, y_test = train_test_split(X_val, y_val, test_size = 0.50, random_state = SEED,stratify=y_val)\n",
        "\n",
        "#TIDY DATA SPLITTED\n",
        "X_train_num = X_train.drop(\"images\",axis=1)\n",
        "X_val_num = X_val.drop(\"images\",axis=1)\n",
        "X_test_num = X_test.drop(\"images\",axis=1)\n",
        "\n",
        "#IMAGES\n",
        "# For 3 canal (RGB)\n",
        "X_train_img = np.array([cv2.resize(cv2.imread(img),(pixel,pixel)) for img in X_train[\"images\"]])\n",
        "X_val_img = np.array([cv2.resize(cv2.imread(img),(pixel,pixel)) for img in X_val[\"images\"]])\n",
        "X_test_img = np.array([cv2.resize(cv2.imread(img),(pixel,pixel)) for img in X_test[\"images\"]])\n",
        "\n",
        "# For 1 canal (GRAY SCALE)\n",
        "\"\"\"X_train_img = np.array([cv2.imread(img,cv2.IMREAD_GRAYSCALE) for img in X_train[\"images\"]])\n",
        "X_val_img = np.array([cv2.imread(img,cv2.IMREAD_GRAYSCALE) for img in X_val[\"images\"]])\n",
        "X_test_img = np.array([cv2.imread(img,cv2.IMREAD_GRAYSCALE) for img in X_test[\"images\"]])\"\"\"\n",
        "\n",
        "attributes = len(X_train_num.columns)\n",
        "imgs_shape = X_train_img[0].shape\n",
        "\n",
        "print(\"Images shape: \",imgs_shape)\n",
        "print(\"Attributres: \",attributes)\n",
        "pixel=X_train_img[0].shape[0]\n",
        "print(\"Image size (pixels):\", pixel)"
      ]
    },
    {
      "cell_type": "code",
      "execution_count": 13,
      "metadata": {
        "id": "o9klr5My_FxG"
      },
      "outputs": [],
      "source": [
        "X_train_img = X_train_img/255\n",
        "X_val_img = X_val_img/255\n",
        "X_test_img = X_test_img/255"
      ]
    },
    {
      "cell_type": "markdown",
      "metadata": {
        "id": "HUl4I3MG_FxG"
      },
      "source": [
        "<a id=\"section5\"></a>\n",
        "# <font color=\"#004D7F\" size=6> 5. Modeling hybrid network</font>"
      ]
    },
    {
      "cell_type": "markdown",
      "metadata": {
        "id": "Re3Ggn9C_FxG"
      },
      "source": [
        "Now we can start the CNN+MLP training. Before that we prepare the algorithm for reading data.\n",
        "\n",
        "In this example, 2 branch networks is created\n",
        "- 1º branch: FFNN for tabular data\n",
        "- 2º branch: CNN for TINTOlib images"
      ]
    },
    {
      "cell_type": "markdown",
      "metadata": {
        "id": "cZGFCpQu_FxG"
      },
      "source": [
        "---\n",
        "<a id=\"section51\"></a>\n",
        "# <font color=\"#004D7F\" size=5> 5.1. FFNN for tabular data</font>\n",
        "\n",
        "This is an example of a simple FFNN for tabular data. Note that we are not looking for the optimization of the CNN but to show an example of TINTOlib execution."
      ]
    },
    {
      "cell_type": "code",
      "execution_count": 14,
      "metadata": {
        "id": "RcYOF2-8_FxG"
      },
      "outputs": [],
      "source": [
        "dropout = 0.2"
      ]
    },
    {
      "cell_type": "code",
      "execution_count": 15,
      "metadata": {
        "id": "xxFGpx3k_FxH"
      },
      "outputs": [],
      "source": [
        "filters_ffnn = [1024,512,256,128,64,32,16]\n",
        "\n",
        "ff_inputs = Input(shape = (attributes,))\n",
        "\n",
        "# * START BRANCH 1\n",
        "#mlp_1 = Dense(1024, activation='relu')(ff_inputs)\n",
        "#mlp_1 = BatchNormalization()(mlp_1)\n",
        "#mlp_1 = Dropout(dropout)(mlp_1)\n",
        "\n",
        "#mlp_1 = Dense(512, activation='relu')(ff_inputs)\n",
        "#mlp_1 = BatchNormalization()(mlp_1)\n",
        "#mlp_1 = Dropout(dropout)(mlp_1)\n",
        "\n",
        "#mlp_1 = Dense(256, activation='relu')(ff_inputs)\n",
        "#mlp_1 = BatchNormalization()(mlp_1)\n",
        "#mlp_1 = Dropout(dropout)(mlp_1)\n",
        "\n",
        "#mlp_1 = Dense(128, activation='relu')(ff_inputs)\n",
        "#mlp_1 = BatchNormalization()(mlp_1)\n",
        "#mlp_1 = Dropout(dropout)(mlp_1)\n",
        "\n",
        "mlp_1 = Dense(64, activation='relu')(ff_inputs)\n",
        "mlp_1 = BatchNormalization()(mlp_1)\n",
        "mlp_1 = Dropout(dropout)(mlp_1)\n",
        "\n",
        "mlp_1 = Dense(32, activation='relu')(mlp_1)\n",
        "mlp_1 = BatchNormalization()(mlp_1)\n",
        "mlp_1 = Dropout(dropout)(mlp_1)\n",
        "\n",
        "mlp_1 = Dense(16, activation='relu')(mlp_1)\n",
        "mlp_1 = BatchNormalization()(mlp_1)\n",
        "mlp_1 = Dropout(dropout)(mlp_1)\n",
        "\n",
        "# * START BRANCH\n",
        "#mlp_2 = Dense(1024, activation='relu')(ff_inputs)\n",
        "#mlp_2 = BatchNormalization()(mlp_2)\n",
        "#mlp_2 = Dropout(dropout)(mlp_2)\n",
        "\n",
        "#mlp_2 = Dense(512, activation='relu')(ff_inputs)\n",
        "#mlp_2 = BatchNormalization()(mlp_2)\n",
        "#mlp_2 = Dropout(dropout)(mlp_2)\n",
        "\n",
        "#mlp_2 = Dense(256, activation='relu')(ff_inputs)\n",
        "#mlp_2 = BatchNormalization()(mlp_2)\n",
        "#mlp_2 = Dropout(dropout)(mlp_2)\n",
        "\n",
        "#mlp_2 = Dense(128, activation='relu')(ff_inputs)\n",
        "#mlp_2 = BatchNormalization()(mlp_2)\n",
        "#mlp_2 = Dropout(dropout)(mlp_2)\n",
        "\n",
        "mlp_2 = Dense(64, activation='relu')(ff_inputs)\n",
        "mlp_2 = BatchNormalization()(mlp_2)\n",
        "mlp_2 = Dropout(dropout)(mlp_2)\n",
        "\n",
        "mlp_2 = Dense(32, activation='relu')(mlp_2)\n",
        "mlp_2 = BatchNormalization()(mlp_2)\n",
        "mlp_2 = Dropout(dropout)(mlp_2)\n",
        "\n",
        "mlp_2 = Dense(16, activation='relu')(mlp_2)\n",
        "mlp_2 = BatchNormalization()(mlp_2)\n",
        "mlp_2 = Dropout(dropout)(mlp_2)\n",
        "\n",
        "\n",
        "merged_tabular = Concatenate(axis=1)([mlp_1, mlp_2])\n",
        "\n",
        "\n",
        "ff_model = Model(inputs = ff_inputs, outputs = merged_tabular)"
      ]
    },
    {
      "cell_type": "markdown",
      "metadata": {
        "id": "NXHVAlD2_FxH"
      },
      "source": [
        "---\n",
        "<a id=\"section52\"></a>\n",
        "# <font color=\"#004D7F\" size=5> 5.2. CNN for TINTOlib images</font>\n",
        "\n",
        "This is an example of a simple CNN for TINTOlib images. Note that we are not looking for the optimization of the CNN but to show an example of TINTOlib execution."
      ]
    },
    {
      "cell_type": "code",
      "execution_count": 16,
      "metadata": {
        "id": "3FaO3m7d_FxI"
      },
      "outputs": [],
      "source": [
        "#Input\n",
        "#input_shape = Input(shape=imgs_shape)\n",
        "input_shape = Input(shape=(pixel, pixel, 3))\n",
        "\n",
        "#Inicio de rama 1\n",
        "tower_1 = Conv2D(16, (3,3), activation='relu',padding=\"same\")(input_shape)\n",
        "tower_1 = BatchNormalization()(tower_1)\n",
        "#tower_1 = Activation('relu')(tower_1)\n",
        "tower_1 = MaxPooling2D(2,2)(tower_1)\n",
        "tower_1 = Dropout(dropout)(tower_1)\n",
        "\n",
        "tower_1 = Conv2D(32, (3,3), activation='relu',padding=\"same\")(tower_1)\n",
        "tower_1 = BatchNormalization()(tower_1)\n",
        "#tower_1 = Activation('relu')(tower_1)\n",
        "tower_1 = MaxPooling2D(2,2)(tower_1)\n",
        "tower_1 = Dropout(dropout)(tower_1)\n",
        "\n",
        "#tower_1 = Conv2D(64, (3,3), activation='relu',padding=\"same\")(tower_1)\n",
        "#tower_1 = BatchNormalization()(tower_1)\n",
        "#tower_1 = Activation('relu')(tower_1)\n",
        "#tower_1 = MaxPooling2D(2,2)(tower_1)\n",
        "#tower_1 = Dropout(dropout)(tower_1)\n",
        "\n",
        "#tower_1 = Conv2D(64, (3,3), activation='relu',padding=\"same\")(tower_1)\n",
        "#tower_1 = BatchNormalization()(tower_1)\n",
        "#tower_1 = Activation('relu')(tower_1)\n",
        "#tower_1 = MaxPooling2D(2,2)(tower_1)\n",
        "#tower_1 = Dropout(dropout)(tower_1)\n",
        "#Fin de rama 1\n",
        "\n",
        "#Inicio de rama 2\n",
        "tower_2 = Conv2D(16, (5,5), activation='relu',padding=\"same\")(input_shape)\n",
        "tower_2 = BatchNormalization()(tower_2)\n",
        "#tower_2 = Activation('relu')(tower_2)\n",
        "tower_2 = AveragePooling2D(2,2)(tower_2)\n",
        "tower_2 = Dropout(dropout)(tower_2)\n",
        "\n",
        "tower_2 = Conv2D(32, (5,5), activation='relu',padding=\"same\")(tower_2)\n",
        "tower_2 = BatchNormalization()(tower_2)\n",
        "#tower_2 = Activation('relu')(tower_2)\n",
        "tower_2 = AveragePooling2D(2,2)(tower_2)\n",
        "tower_2 = Dropout(dropout)(tower_2)\n",
        "\n",
        "#tower_2 = Conv2D(64, (5,5), padding=\"same\")(tower_2)\n",
        "#tower_2 = BatchNormalization()(tower_2)\n",
        "#tower_2 = Activation('relu')(tower_2)\n",
        "#tower_2 = AveragePooling2D(2,2)(tower_2)\n",
        "#tower_2 = Dropout(dropout)(tower_2)\n",
        "\n",
        "#Concatenate CNN branches\n",
        "merged = Concatenate(axis=1)([tower_1, tower_2])\n",
        "\n",
        "#Flatten\n",
        "merged = Flatten()(merged)\n",
        "\n",
        "#Dense layers\n",
        "#out = Dense(256, activation='relu')(merged)\n",
        "#out = Dropout(dropout)(merged)\n",
        "out = Dense(128, activation='sigmoid')(merged)\n",
        "out = Dropout(dropout)(out)\n",
        "out = Dense(64, activation='sigmoid')(out)\n",
        "out = Dropout(dropout)(out)\n",
        "out = Dense(32, activation='sigmoid')(out)\n",
        "out = Dropout(dropout)(out)\n",
        "\n",
        "cnn_model = Model(input_shape, out)"
      ]
    },
    {
      "cell_type": "markdown",
      "metadata": {
        "id": "P9Kebu67_FxI"
      },
      "source": [
        "---\n",
        "<a id=\"section53\"></a>\n",
        "# <font color=\"#004D7F\" size=5> 5.3. Concatenate branches</font>\n",
        "\n",
        "Finally, we must concatenate the output of the CNN branch with the output of the FFNN branch in a final FFNN that will give the predictions."
      ]
    },
    {
      "cell_type": "code",
      "execution_count": 17,
      "metadata": {
        "id": "lMfrZS-a_FxI"
      },
      "outputs": [],
      "source": [
        "combinedInput = concatenate([ff_model.output, cnn_model.output])\n",
        "x = Dense(128, activation=\"relu\")(combinedInput)\n",
        "x = BatchNormalization()(x)\n",
        "x = Dropout(dropout)(x)\n",
        "x = Dense(64, activation=\"relu\")(x)\n",
        "x = BatchNormalization()(x)\n",
        "x = Dropout(dropout)(x)\n",
        "x = Dense(32, activation=\"sigmoid\")(x)\n",
        "x = BatchNormalization()(x)\n",
        "x = Dropout(dropout)(x)\n",
        "x = Dense(1, activation=\"sigmoid\")(x)\n",
        "\n",
        "model = Model(inputs=[ff_model.input, cnn_model.input], outputs=x)"
      ]
    },
    {
      "cell_type": "markdown",
      "metadata": {
        "id": "jaJ-DPLs_FxI"
      },
      "source": [
        "---\n",
        "<a id=\"section54\"></a>\n",
        "# <font color=\"#004D7F\" size=5> 5.4. Metrics</font>\n",
        "\n",
        "Define metrics and some hyperparameters"
      ]
    },
    {
      "cell_type": "code",
      "execution_count": 18,
      "metadata": {
        "id": "oF31u8B4_FxI"
      },
      "outputs": [],
      "source": [
        "METRICS = [\n",
        "    tf.keras.metrics.TruePositives(name = 'tp'),\n",
        "    tf.keras.metrics.FalsePositives(name = 'fp'),\n",
        "    tf.keras.metrics.TrueNegatives(name = 'tn'),\n",
        "    tf.keras.metrics.FalseNegatives(name = 'fn'),\n",
        "    tf.keras.metrics.BinaryAccuracy(name ='accuracy'),\n",
        "    tf.keras.metrics.Precision(name = 'precision'),\n",
        "    tf.keras.metrics.Recall(name = 'recall'),\n",
        "    tf.keras.metrics.AUC(name = 'auc'),\n",
        "]"
      ]
    },
    {
      "cell_type": "markdown",
      "metadata": {
        "id": "4VmSR8U0_FxI"
      },
      "source": [
        "---\n",
        "<a id=\"section55\"></a>\n",
        "# <font color=\"#004D7F\" size=5> 5.5. Compile and fit</font>\n",
        "\n",
        "Note to specify the **loss depending** on whether you have a binary or multiclass classification problem."
      ]
    },
    {
      "cell_type": "code",
      "execution_count": 19,
      "metadata": {
        "id": "rMQrfRrq_FxI"
      },
      "outputs": [],
      "source": [
        "#HYPERPARAMETERS\n",
        "opt = SGD(learning_rate=1e-3)"
      ]
    },
    {
      "cell_type": "code",
      "execution_count": 20,
      "metadata": {
        "id": "fFdnvHtZ_FxJ"
      },
      "outputs": [],
      "source": [
        "model.compile(\n",
        "    loss=\"binary_crossentropy\",\n",
        "    optimizer='adam',\n",
        "    metrics = METRICS\n",
        ")\n",
        "epochs = 100"
      ]
    },
    {
      "cell_type": "code",
      "execution_count": 21,
      "metadata": {
        "id": "UhXrSNWn_FxJ"
      },
      "outputs": [],
      "source": [
        "# Configure EarlyStopping for binary classification\n",
        "early_stopper = tf.keras.callbacks.EarlyStopping(\n",
        "    monitor='val_loss',  # Monitor the validation accuracy\n",
        "    min_delta=0.001,         # Minimum change in the monitored quantity to qualify as an improvement\n",
        "    patience=10,             # Number of epochs with no improvement after which training will be stopped\n",
        "    verbose=1,               # Log when training stops\n",
        "    mode='min',              # Maximize the accuracy; min the loss\n",
        "    restore_best_weights=True  # Restore model weights from the epoch with the best value of the monitored quantity\n",
        ")"
      ]
    },
    {
      "cell_type": "code",
      "execution_count": 22,
      "metadata": {
        "scrolled": true,
        "colab": {
          "base_uri": "https://localhost:8080/"
        },
        "id": "onfzJi_t_FxJ",
        "outputId": "c44eca7a-6daf-4666-fd25-bf3af5de6fbc"
      },
      "outputs": [
        {
          "output_type": "stream",
          "name": "stdout",
          "text": [
            "Epoch 1/100\n",
            "\u001b[1m447/447\u001b[0m \u001b[32m━━━━━━━━━━━━━━━━━━━━\u001b[0m\u001b[37m\u001b[0m \u001b[1m56s\u001b[0m 80ms/step - accuracy: 0.7296 - auc: 0.5568 - fn: 406.8996 - fp: 1144.5916 - loss: 0.5625 - precision: 0.1128 - recall: 0.3214 - tn: 5477.5669 - tp: 154.7857 - val_accuracy: 0.9236 - val_auc: 0.6336 - val_fn: 364.0000 - val_fp: 0.0000e+00 - val_loss: 0.2647 - val_precision: 0.0000e+00 - val_recall: 0.0000e+00 - val_tn: 4398.0000 - val_tp: 0.0000e+00\n",
            "Epoch 2/100\n",
            "\u001b[1m447/447\u001b[0m \u001b[32m━━━━━━━━━━━━━━━━━━━━\u001b[0m\u001b[37m\u001b[0m \u001b[1m35s\u001b[0m 66ms/step - accuracy: 0.9143 - auc: 0.6697 - fn: 532.8862 - fp: 80.2299 - loss: 0.2712 - precision: 0.2659 - recall: 0.0533 - tn: 6541.9287 - tp: 28.7991 - val_accuracy: 0.9263 - val_auc: 0.8160 - val_fn: 348.0000 - val_fp: 3.0000 - val_loss: 0.2139 - val_precision: 0.8421 - val_recall: 0.0440 - val_tn: 4395.0000 - val_tp: 16.0000\n",
            "Epoch 3/100\n",
            "\u001b[1m447/447\u001b[0m \u001b[32m━━━━━━━━━━━━━━━━━━━━\u001b[0m\u001b[37m\u001b[0m \u001b[1m41s\u001b[0m 66ms/step - accuracy: 0.9186 - auc: 0.7215 - fn: 521.4911 - fp: 62.3817 - loss: 0.2536 - precision: 0.3894 - recall: 0.0696 - tn: 6559.7769 - tp: 40.1942 - val_accuracy: 0.9297 - val_auc: 0.8260 - val_fn: 317.0000 - val_fp: 18.0000 - val_loss: 0.2098 - val_precision: 0.7231 - val_recall: 0.1291 - val_tn: 4380.0000 - val_tp: 47.0000\n",
            "Epoch 4/100\n",
            "\u001b[1m447/447\u001b[0m \u001b[32m━━━━━━━━━━━━━━━━━━━━\u001b[0m\u001b[37m\u001b[0m \u001b[1m42s\u001b[0m 69ms/step - accuracy: 0.9192 - auc: 0.7582 - fn: 513.8102 - fp: 67.2723 - loss: 0.2425 - precision: 0.4165 - recall: 0.0861 - tn: 6554.8862 - tp: 47.8750 - val_accuracy: 0.9311 - val_auc: 0.8355 - val_fn: 318.0000 - val_fp: 10.0000 - val_loss: 0.2058 - val_precision: 0.8214 - val_recall: 0.1264 - val_tn: 4388.0000 - val_tp: 46.0000\n",
            "Epoch 5/100\n",
            "\u001b[1m447/447\u001b[0m \u001b[32m━━━━━━━━━━━━━━━━━━━━\u001b[0m\u001b[37m\u001b[0m \u001b[1m43s\u001b[0m 73ms/step - accuracy: 0.9181 - auc: 0.7768 - fn: 518.3080 - fp: 63.4955 - loss: 0.2366 - precision: 0.3805 - recall: 0.0763 - tn: 6558.6631 - tp: 43.3772 - val_accuracy: 0.9309 - val_auc: 0.8208 - val_fn: 321.0000 - val_fp: 8.0000 - val_loss: 0.2112 - val_precision: 0.8431 - val_recall: 0.1181 - val_tn: 4390.0000 - val_tp: 43.0000\n",
            "Epoch 6/100\n",
            "\u001b[1m447/447\u001b[0m \u001b[32m━━━━━━━━━━━━━━━━━━━━\u001b[0m\u001b[37m\u001b[0m \u001b[1m35s\u001b[0m 60ms/step - accuracy: 0.9204 - auc: 0.7762 - fn: 516.4352 - fp: 53.2098 - loss: 0.2358 - precision: 0.4412 - recall: 0.0794 - tn: 6568.9487 - tp: 45.2500 - val_accuracy: 0.9324 - val_auc: 0.8224 - val_fn: 309.0000 - val_fp: 13.0000 - val_loss: 0.2078 - val_precision: 0.8088 - val_recall: 0.1511 - val_tn: 4385.0000 - val_tp: 55.0000\n",
            "Epoch 7/100\n",
            "\u001b[1m447/447\u001b[0m \u001b[32m━━━━━━━━━━━━━━━━━━━━\u001b[0m\u001b[37m\u001b[0m \u001b[1m46s\u001b[0m 71ms/step - accuracy: 0.9224 - auc: 0.7819 - fn: 513.4710 - fp: 46.2991 - loss: 0.2336 - precision: 0.5105 - recall: 0.0915 - tn: 6575.8594 - tp: 48.2143 - val_accuracy: 0.9351 - val_auc: 0.8289 - val_fn: 293.0000 - val_fp: 16.0000 - val_loss: 0.2091 - val_precision: 0.8161 - val_recall: 0.1951 - val_tn: 4382.0000 - val_tp: 71.0000\n",
            "Epoch 8/100\n",
            "\u001b[1m447/447\u001b[0m \u001b[32m━━━━━━━━━━━━━━━━━━━━\u001b[0m\u001b[37m\u001b[0m \u001b[1m29s\u001b[0m 65ms/step - accuracy: 0.9211 - auc: 0.7961 - fn: 523.5335 - fp: 40.4933 - loss: 0.2296 - precision: 0.4710 - recall: 0.0730 - tn: 6581.6650 - tp: 38.1518 - val_accuracy: 0.9280 - val_auc: 0.8101 - val_fn: 343.0000 - val_fp: 0.0000e+00 - val_loss: 0.2199 - val_precision: 1.0000 - val_recall: 0.0577 - val_tn: 4398.0000 - val_tp: 21.0000\n",
            "Epoch 9/100\n",
            "\u001b[1m447/447\u001b[0m \u001b[32m━━━━━━━━━━━━━━━━━━━━\u001b[0m\u001b[37m\u001b[0m \u001b[1m43s\u001b[0m 71ms/step - accuracy: 0.9231 - auc: 0.7961 - fn: 514.5335 - fp: 37.1317 - loss: 0.2280 - precision: 0.5472 - recall: 0.0812 - tn: 6585.0269 - tp: 47.1518 - val_accuracy: 0.9290 - val_auc: 0.8343 - val_fn: 334.0000 - val_fp: 4.0000 - val_loss: 0.2071 - val_precision: 0.8824 - val_recall: 0.0824 - val_tn: 4394.0000 - val_tp: 30.0000\n",
            "Epoch 10/100\n",
            "\u001b[1m447/447\u001b[0m \u001b[32m━━━━━━━━━━━━━━━━━━━━\u001b[0m\u001b[37m\u001b[0m \u001b[1m27s\u001b[0m 60ms/step - accuracy: 0.9215 - auc: 0.7982 - fn: 523.3616 - fp: 38.8304 - loss: 0.2283 - precision: 0.4743 - recall: 0.0672 - tn: 6583.3281 - tp: 38.3237 - val_accuracy: 0.9336 - val_auc: 0.8379 - val_fn: 303.0000 - val_fp: 13.0000 - val_loss: 0.2050 - val_precision: 0.8243 - val_recall: 0.1676 - val_tn: 4385.0000 - val_tp: 61.0000\n",
            "Epoch 11/100\n",
            "\u001b[1m447/447\u001b[0m \u001b[32m━━━━━━━━━━━━━━━━━━━━\u001b[0m\u001b[37m\u001b[0m \u001b[1m47s\u001b[0m 73ms/step - accuracy: 0.9227 - auc: 0.8060 - fn: 521.1138 - fp: 32.6406 - loss: 0.2253 - precision: 0.5338 - recall: 0.0735 - tn: 6589.5181 - tp: 40.5714 - val_accuracy: 0.9357 - val_auc: 0.8386 - val_fn: 288.0000 - val_fp: 18.0000 - val_loss: 0.2026 - val_precision: 0.8085 - val_recall: 0.2088 - val_tn: 4380.0000 - val_tp: 76.0000\n",
            "Epoch 12/100\n",
            "\u001b[1m447/447\u001b[0m \u001b[32m━━━━━━━━━━━━━━━━━━━━\u001b[0m\u001b[37m\u001b[0m \u001b[1m39s\u001b[0m 69ms/step - accuracy: 0.9246 - auc: 0.8148 - fn: 497.6808 - fp: 43.7768 - loss: 0.2215 - precision: 0.5911 - recall: 0.1122 - tn: 6578.3818 - tp: 64.0045 - val_accuracy: 0.9332 - val_auc: 0.8385 - val_fn: 311.0000 - val_fp: 7.0000 - val_loss: 0.2040 - val_precision: 0.8833 - val_recall: 0.1456 - val_tn: 4391.0000 - val_tp: 53.0000\n",
            "Epoch 13/100\n",
            "\u001b[1m447/447\u001b[0m \u001b[32m━━━━━━━━━━━━━━━━━━━━\u001b[0m\u001b[37m\u001b[0m \u001b[1m41s\u001b[0m 69ms/step - accuracy: 0.9241 - auc: 0.8242 - fn: 502.3884 - fp: 42.7411 - loss: 0.2182 - precision: 0.5762 - recall: 0.1104 - tn: 6579.4175 - tp: 59.2969 - val_accuracy: 0.9324 - val_auc: 0.8320 - val_fn: 316.0000 - val_fp: 6.0000 - val_loss: 0.2050 - val_precision: 0.8889 - val_recall: 0.1319 - val_tn: 4392.0000 - val_tp: 48.0000\n",
            "Epoch 14/100\n",
            "\u001b[1m447/447\u001b[0m \u001b[32m━━━━━━━━━━━━━━━━━━━━\u001b[0m\u001b[37m\u001b[0m \u001b[1m38s\u001b[0m 63ms/step - accuracy: 0.9231 - auc: 0.8129 - fn: 513.0290 - fp: 42.5000 - loss: 0.2218 - precision: 0.5514 - recall: 0.0903 - tn: 6579.6587 - tp: 48.6562 - val_accuracy: 0.9303 - val_auc: 0.8410 - val_fn: 329.0000 - val_fp: 3.0000 - val_loss: 0.2041 - val_precision: 0.9211 - val_recall: 0.0962 - val_tn: 4395.0000 - val_tp: 35.0000\n",
            "Epoch 15/100\n",
            "\u001b[1m447/447\u001b[0m \u001b[32m━━━━━━━━━━━━━━━━━━━━\u001b[0m\u001b[37m\u001b[0m \u001b[1m42s\u001b[0m 66ms/step - accuracy: 0.9241 - auc: 0.8135 - fn: 506.8973 - fp: 36.1071 - loss: 0.2204 - precision: 0.5768 - recall: 0.0931 - tn: 6586.0513 - tp: 54.7879 - val_accuracy: 0.9368 - val_auc: 0.8424 - val_fn: 285.0000 - val_fp: 16.0000 - val_loss: 0.2023 - val_precision: 0.8316 - val_recall: 0.2170 - val_tn: 4382.0000 - val_tp: 79.0000\n",
            "Epoch 16/100\n",
            "\u001b[1m447/447\u001b[0m \u001b[32m━━━━━━━━━━━━━━━━━━━━\u001b[0m\u001b[37m\u001b[0m \u001b[1m43s\u001b[0m 69ms/step - accuracy: 0.9259 - auc: 0.8127 - fn: 504.4464 - fp: 31.5915 - loss: 0.2193 - precision: 0.6772 - recall: 0.1035 - tn: 6590.5669 - tp: 57.2388 - val_accuracy: 0.9326 - val_auc: 0.8286 - val_fn: 277.0000 - val_fp: 44.0000 - val_loss: 0.2094 - val_precision: 0.6641 - val_recall: 0.2390 - val_tn: 4354.0000 - val_tp: 87.0000\n",
            "Epoch 17/100\n",
            "\u001b[1m447/447\u001b[0m \u001b[32m━━━━━━━━━━━━━━━━━━━━\u001b[0m\u001b[37m\u001b[0m \u001b[1m38s\u001b[0m 63ms/step - accuracy: 0.9245 - auc: 0.8104 - fn: 507.8929 - fp: 34.2612 - loss: 0.2231 - precision: 0.6141 - recall: 0.0939 - tn: 6587.8975 - tp: 53.7924 - val_accuracy: 0.9366 - val_auc: 0.8399 - val_fn: 287.0000 - val_fp: 15.0000 - val_loss: 0.2025 - val_precision: 0.8370 - val_recall: 0.2115 - val_tn: 4383.0000 - val_tp: 77.0000\n",
            "Epoch 18/100\n",
            "\u001b[1m447/447\u001b[0m \u001b[32m━━━━━━━━━━━━━━━━━━━━\u001b[0m\u001b[37m\u001b[0m \u001b[1m44s\u001b[0m 70ms/step - accuracy: 0.9253 - auc: 0.8112 - fn: 496.8326 - fp: 37.0379 - loss: 0.2220 - precision: 0.6189 - recall: 0.1120 - tn: 6585.1206 - tp: 64.8527 - val_accuracy: 0.9366 - val_auc: 0.8451 - val_fn: 278.0000 - val_fp: 24.0000 - val_loss: 0.2021 - val_precision: 0.7818 - val_recall: 0.2363 - val_tn: 4374.0000 - val_tp: 86.0000\n",
            "Epoch 19/100\n",
            "\u001b[1m447/447\u001b[0m \u001b[32m━━━━━━━━━━━━━━━━━━━━\u001b[0m\u001b[37m\u001b[0m \u001b[1m38s\u001b[0m 63ms/step - accuracy: 0.9245 - auc: 0.8131 - fn: 516.7500 - fp: 27.6451 - loss: 0.2220 - precision: 0.6302 - recall: 0.0821 - tn: 6594.5132 - tp: 44.9353 - val_accuracy: 0.9341 - val_auc: 0.8390 - val_fn: 304.0000 - val_fp: 10.0000 - val_loss: 0.2035 - val_precision: 0.8571 - val_recall: 0.1648 - val_tn: 4388.0000 - val_tp: 60.0000\n",
            "Epoch 20/100\n",
            "\u001b[1m447/447\u001b[0m \u001b[32m━━━━━━━━━━━━━━━━━━━━\u001b[0m\u001b[37m\u001b[0m \u001b[1m42s\u001b[0m 64ms/step - accuracy: 0.9258 - auc: 0.8235 - fn: 494.3125 - fp: 37.3460 - loss: 0.2164 - precision: 0.6373 - recall: 0.1134 - tn: 6584.8125 - tp: 67.3728 - val_accuracy: 0.9357 - val_auc: 0.8414 - val_fn: 288.0000 - val_fp: 18.0000 - val_loss: 0.2016 - val_precision: 0.8085 - val_recall: 0.2088 - val_tn: 4380.0000 - val_tp: 76.0000\n",
            "Epoch 21/100\n",
            "\u001b[1m447/447\u001b[0m \u001b[32m━━━━━━━━━━━━━━━━━━━━\u001b[0m\u001b[37m\u001b[0m \u001b[1m43s\u001b[0m 70ms/step - accuracy: 0.9253 - auc: 0.8182 - fn: 487.9330 - fp: 46.3214 - loss: 0.2189 - precision: 0.6023 - recall: 0.1362 - tn: 6575.8369 - tp: 73.7522 - val_accuracy: 0.9339 - val_auc: 0.8420 - val_fn: 301.0000 - val_fp: 14.0000 - val_loss: 0.2016 - val_precision: 0.8182 - val_recall: 0.1731 - val_tn: 4384.0000 - val_tp: 63.0000\n",
            "Epoch 22/100\n",
            "\u001b[1m447/447\u001b[0m \u001b[32m━━━━━━━━━━━━━━━━━━━━\u001b[0m\u001b[37m\u001b[0m \u001b[1m42s\u001b[0m 73ms/step - accuracy: 0.9250 - auc: 0.8209 - fn: 484.2522 - fp: 50.7277 - loss: 0.2174 - precision: 0.5872 - recall: 0.1405 - tn: 6571.4307 - tp: 77.4330 - val_accuracy: 0.9349 - val_auc: 0.8409 - val_fn: 280.0000 - val_fp: 30.0000 - val_loss: 0.2038 - val_precision: 0.7368 - val_recall: 0.2308 - val_tn: 4368.0000 - val_tp: 84.0000\n",
            "Epoch 23/100\n",
            "\u001b[1m447/447\u001b[0m \u001b[32m━━━━━━━━━━━━━━━━━━━━\u001b[0m\u001b[37m\u001b[0m \u001b[1m33s\u001b[0m 73ms/step - accuracy: 0.9259 - auc: 0.8194 - fn: 479.1161 - fp: 53.6049 - loss: 0.2169 - precision: 0.5971 - recall: 0.1505 - tn: 6568.5537 - tp: 82.5692 - val_accuracy: 0.9341 - val_auc: 0.8400 - val_fn: 271.0000 - val_fp: 43.0000 - val_loss: 0.2029 - val_precision: 0.6838 - val_recall: 0.2555 - val_tn: 4355.0000 - val_tp: 93.0000\n",
            "Epoch 24/100\n",
            "\u001b[1m447/447\u001b[0m \u001b[32m━━━━━━━━━━━━━━━━━━━━\u001b[0m\u001b[37m\u001b[0m \u001b[1m31s\u001b[0m 70ms/step - accuracy: 0.9246 - auc: 0.8235 - fn: 493.2277 - fp: 46.6719 - loss: 0.2183 - precision: 0.5826 - recall: 0.1269 - tn: 6575.4868 - tp: 68.4576 - val_accuracy: 0.9313 - val_auc: 0.8372 - val_fn: 294.0000 - val_fp: 33.0000 - val_loss: 0.2054 - val_precision: 0.6796 - val_recall: 0.1923 - val_tn: 4365.0000 - val_tp: 70.0000\n",
            "Epoch 25/100\n",
            "\u001b[1m447/447\u001b[0m \u001b[32m━━━━━━━━━━━━━━━━━━━━\u001b[0m\u001b[37m\u001b[0m \u001b[1m33s\u001b[0m 74ms/step - accuracy: 0.9272 - auc: 0.8170 - fn: 483.3036 - fp: 42.9263 - loss: 0.2176 - precision: 0.6646 - recall: 0.1404 - tn: 6579.2319 - tp: 78.3817 - val_accuracy: 0.9330 - val_auc: 0.8462 - val_fn: 308.0000 - val_fp: 11.0000 - val_loss: 0.2011 - val_precision: 0.8358 - val_recall: 0.1538 - val_tn: 4387.0000 - val_tp: 56.0000\n",
            "Epoch 26/100\n",
            "\u001b[1m447/447\u001b[0m \u001b[32m━━━━━━━━━━━━━━━━━━━━\u001b[0m\u001b[37m\u001b[0m \u001b[1m31s\u001b[0m 70ms/step - accuracy: 0.9272 - auc: 0.8170 - fn: 482.6161 - fp: 43.6629 - loss: 0.2175 - precision: 0.6613 - recall: 0.1427 - tn: 6578.4956 - tp: 79.0692 - val_accuracy: 0.9326 - val_auc: 0.8339 - val_fn: 293.0000 - val_fp: 28.0000 - val_loss: 0.2076 - val_precision: 0.7172 - val_recall: 0.1951 - val_tn: 4370.0000 - val_tp: 71.0000\n",
            "Epoch 27/100\n",
            "\u001b[1m447/447\u001b[0m \u001b[32m━━━━━━━━━━━━━━━━━━━━\u001b[0m\u001b[37m\u001b[0m \u001b[1m40s\u001b[0m 68ms/step - accuracy: 0.9257 - auc: 0.8199 - fn: 480.8996 - fp: 55.8638 - loss: 0.2176 - precision: 0.6088 - recall: 0.1459 - tn: 6566.2944 - tp: 80.7857 - val_accuracy: 0.9334 - val_auc: 0.8396 - val_fn: 309.0000 - val_fp: 8.0000 - val_loss: 0.2027 - val_precision: 0.8730 - val_recall: 0.1511 - val_tn: 4390.0000 - val_tp: 55.0000\n",
            "Epoch 28/100\n",
            "\u001b[1m447/447\u001b[0m \u001b[32m━━━━━━━━━━━━━━━━━━━━\u001b[0m\u001b[37m\u001b[0m \u001b[1m40s\u001b[0m 67ms/step - accuracy: 0.9254 - auc: 0.8188 - fn: 478.4754 - fp: 55.9866 - loss: 0.2190 - precision: 0.5877 - recall: 0.1559 - tn: 6566.1719 - tp: 83.2098 - val_accuracy: 0.9322 - val_auc: 0.8439 - val_fn: 289.0000 - val_fp: 34.0000 - val_loss: 0.2020 - val_precision: 0.6881 - val_recall: 0.2060 - val_tn: 4364.0000 - val_tp: 75.0000\n",
            "Epoch 29/100\n",
            "\u001b[1m447/447\u001b[0m \u001b[32m━━━━━━━━━━━━━━━━━━━━\u001b[0m\u001b[37m\u001b[0m \u001b[1m43s\u001b[0m 71ms/step - accuracy: 0.9269 - auc: 0.8269 - fn: 478.9107 - fp: 48.1362 - loss: 0.2152 - precision: 0.6349 - recall: 0.1521 - tn: 6574.0225 - tp: 82.7746 - val_accuracy: 0.9341 - val_auc: 0.8441 - val_fn: 295.0000 - val_fp: 19.0000 - val_loss: 0.2018 - val_precision: 0.7841 - val_recall: 0.1896 - val_tn: 4379.0000 - val_tp: 69.0000\n",
            "Epoch 30/100\n",
            "\u001b[1m447/447\u001b[0m \u001b[32m━━━━━━━━━━━━━━━━━━━━\u001b[0m\u001b[37m\u001b[0m \u001b[1m33s\u001b[0m 74ms/step - accuracy: 0.9270 - auc: 0.8208 - fn: 474.5179 - fp: 50.5201 - loss: 0.2161 - precision: 0.6301 - recall: 0.1579 - tn: 6571.6382 - tp: 87.1674 - val_accuracy: 0.9357 - val_auc: 0.8470 - val_fn: 277.0000 - val_fp: 29.0000 - val_loss: 0.1990 - val_precision: 0.7500 - val_recall: 0.2390 - val_tn: 4369.0000 - val_tp: 87.0000\n",
            "Epoch 31/100\n",
            "\u001b[1m447/447\u001b[0m \u001b[32m━━━━━━━━━━━━━━━━━━━━\u001b[0m\u001b[37m\u001b[0m \u001b[1m33s\u001b[0m 73ms/step - accuracy: 0.9290 - auc: 0.8287 - fn: 468.9330 - fp: 43.3750 - loss: 0.2141 - precision: 0.6926 - recall: 0.1656 - tn: 6578.7837 - tp: 92.7522 - val_accuracy: 0.9376 - val_auc: 0.8469 - val_fn: 278.0000 - val_fp: 19.0000 - val_loss: 0.1978 - val_precision: 0.8190 - val_recall: 0.2363 - val_tn: 4379.0000 - val_tp: 86.0000\n",
            "Epoch 32/100\n",
            "\u001b[1m447/447\u001b[0m \u001b[32m━━━━━━━━━━━━━━━━━━━━\u001b[0m\u001b[37m\u001b[0m \u001b[1m39s\u001b[0m 68ms/step - accuracy: 0.9279 - auc: 0.8240 - fn: 478.3906 - fp: 44.8929 - loss: 0.2158 - precision: 0.6695 - recall: 0.1548 - tn: 6577.2656 - tp: 83.2946 - val_accuracy: 0.9360 - val_auc: 0.8441 - val_fn: 286.0000 - val_fp: 19.0000 - val_loss: 0.1986 - val_precision: 0.8041 - val_recall: 0.2143 - val_tn: 4379.0000 - val_tp: 78.0000\n",
            "Epoch 33/100\n",
            "\u001b[1m447/447\u001b[0m \u001b[32m━━━━━━━━━━━━━━━━━━━━\u001b[0m\u001b[37m\u001b[0m \u001b[1m41s\u001b[0m 68ms/step - accuracy: 0.9273 - auc: 0.8184 - fn: 478.7924 - fp: 48.9442 - loss: 0.2168 - precision: 0.6524 - recall: 0.1513 - tn: 6573.2144 - tp: 82.8929 - val_accuracy: 0.9372 - val_auc: 0.8444 - val_fn: 274.0000 - val_fp: 25.0000 - val_loss: 0.2007 - val_precision: 0.7826 - val_recall: 0.2473 - val_tn: 4373.0000 - val_tp: 90.0000\n",
            "Epoch 34/100\n",
            "\u001b[1m447/447\u001b[0m \u001b[32m━━━━━━━━━━━━━━━━━━━━\u001b[0m\u001b[37m\u001b[0m \u001b[1m31s\u001b[0m 69ms/step - accuracy: 0.9291 - auc: 0.8293 - fn: 461.5558 - fp: 48.7768 - loss: 0.2126 - precision: 0.6732 - recall: 0.1787 - tn: 6573.3818 - tp: 100.1295 - val_accuracy: 0.9334 - val_auc: 0.8435 - val_fn: 256.0000 - val_fp: 61.0000 - val_loss: 0.2033 - val_precision: 0.6391 - val_recall: 0.2967 - val_tn: 4337.0000 - val_tp: 108.0000\n",
            "Epoch 35/100\n",
            "\u001b[1m447/447\u001b[0m \u001b[32m━━━━━━━━━━━━━━━━━━━━\u001b[0m\u001b[37m\u001b[0m \u001b[1m40s\u001b[0m 66ms/step - accuracy: 0.9275 - auc: 0.8215 - fn: 476.4219 - fp: 45.8326 - loss: 0.2168 - precision: 0.6529 - recall: 0.1553 - tn: 6576.3257 - tp: 85.2634 - val_accuracy: 0.9366 - val_auc: 0.8495 - val_fn: 288.0000 - val_fp: 14.0000 - val_loss: 0.1982 - val_precision: 0.8444 - val_recall: 0.2088 - val_tn: 4384.0000 - val_tp: 76.0000\n",
            "Epoch 36/100\n",
            "\u001b[1m447/447\u001b[0m \u001b[32m━━━━━━━━━━━━━━━━━━━━\u001b[0m\u001b[37m\u001b[0m \u001b[1m28s\u001b[0m 62ms/step - accuracy: 0.9286 - auc: 0.8300 - fn: 472.9397 - fp: 44.0357 - loss: 0.2127 - precision: 0.6790 - recall: 0.1644 - tn: 6578.1226 - tp: 88.7455 - val_accuracy: 0.9366 - val_auc: 0.8491 - val_fn: 291.0000 - val_fp: 11.0000 - val_loss: 0.1973 - val_precision: 0.8690 - val_recall: 0.2005 - val_tn: 4387.0000 - val_tp: 73.0000\n",
            "Epoch 37/100\n",
            "\u001b[1m447/447\u001b[0m \u001b[32m━━━━━━━━━━━━━━━━━━━━\u001b[0m\u001b[37m\u001b[0m \u001b[1m44s\u001b[0m 68ms/step - accuracy: 0.9276 - auc: 0.8223 - fn: 481.2500 - fp: 43.5134 - loss: 0.2159 - precision: 0.6621 - recall: 0.1476 - tn: 6578.6450 - tp: 80.4353 - val_accuracy: 0.9341 - val_auc: 0.8428 - val_fn: 281.0000 - val_fp: 33.0000 - val_loss: 0.2009 - val_precision: 0.7155 - val_recall: 0.2280 - val_tn: 4365.0000 - val_tp: 83.0000\n",
            "Epoch 38/100\n",
            "\u001b[1m447/447\u001b[0m \u001b[32m━━━━━━━━━━━━━━━━━━━━\u001b[0m\u001b[37m\u001b[0m \u001b[1m41s\u001b[0m 69ms/step - accuracy: 0.9294 - auc: 0.8235 - fn: 459.7277 - fp: 48.2098 - loss: 0.2140 - precision: 0.6889 - recall: 0.1783 - tn: 6573.9487 - tp: 101.9576 - val_accuracy: 0.9345 - val_auc: 0.8416 - val_fn: 269.0000 - val_fp: 43.0000 - val_loss: 0.2022 - val_precision: 0.6884 - val_recall: 0.2610 - val_tn: 4355.0000 - val_tp: 95.0000\n",
            "Epoch 39/100\n",
            "\u001b[1m447/447\u001b[0m \u001b[32m━━━━━━━━━━━━━━━━━━━━\u001b[0m\u001b[37m\u001b[0m \u001b[1m43s\u001b[0m 73ms/step - accuracy: 0.9296 - auc: 0.8265 - fn: 455.4196 - fp: 53.2879 - loss: 0.2123 - precision: 0.6640 - recall: 0.2018 - tn: 6568.8706 - tp: 106.2656 - val_accuracy: 0.9355 - val_auc: 0.8463 - val_fn: 294.0000 - val_fp: 13.0000 - val_loss: 0.1991 - val_precision: 0.8434 - val_recall: 0.1923 - val_tn: 4385.0000 - val_tp: 70.0000\n",
            "Epoch 40/100\n",
            "\u001b[1m447/447\u001b[0m \u001b[32m━━━━━━━━━━━━━━━━━━━━\u001b[0m\u001b[37m\u001b[0m \u001b[1m39s\u001b[0m 70ms/step - accuracy: 0.9281 - auc: 0.8304 - fn: 463.0446 - fp: 55.3371 - loss: 0.2121 - precision: 0.6500 - recall: 0.1775 - tn: 6566.8213 - tp: 98.6406 - val_accuracy: 0.9345 - val_auc: 0.8487 - val_fn: 298.0000 - val_fp: 14.0000 - val_loss: 0.1986 - val_precision: 0.8250 - val_recall: 0.1813 - val_tn: 4384.0000 - val_tp: 66.0000\n",
            "Epoch 41/100\n",
            "\u001b[1m447/447\u001b[0m \u001b[32m━━━━━━━━━━━━━━━━━━━━\u001b[0m\u001b[37m\u001b[0m \u001b[1m31s\u001b[0m 70ms/step - accuracy: 0.9266 - auc: 0.8222 - fn: 475.8839 - fp: 52.0357 - loss: 0.2159 - precision: 0.6169 - recall: 0.1637 - tn: 6570.1226 - tp: 85.8013 - val_accuracy: 0.9347 - val_auc: 0.8439 - val_fn: 296.0000 - val_fp: 15.0000 - val_loss: 0.1999 - val_precision: 0.8193 - val_recall: 0.1868 - val_tn: 4383.0000 - val_tp: 68.0000\n",
            "Epoch 41: early stopping\n",
            "Restoring model weights from the end of the best epoch: 31.\n"
          ]
        }
      ],
      "source": [
        "model_history=model.fit(\n",
        "    x=[X_train_num, X_train_img], y=y_train,\n",
        "    validation_data=([X_val_num, X_val_img], y_val),\n",
        "    epochs=epochs,\n",
        "    batch_size=32,\n",
        "    callbacks = [early_stopper]\n",
        ")"
      ]
    },
    {
      "cell_type": "markdown",
      "metadata": {
        "id": "49b7tTfC_FxJ"
      },
      "source": [
        "val_accuracy: 0.8319 - val_auc: 0.8494 - val_fn: 222.0000 - val_fp: 43.0000 - val_loss: 0.3805 - val_precision: 0.7676 - val_recall: 0.3901 - val_tn: 1169.0000 - val_tp: 142.0000"
      ]
    },
    {
      "cell_type": "code",
      "execution_count": 23,
      "metadata": {
        "colab": {
          "base_uri": "https://localhost:8080/"
        },
        "id": "5QAqwGrn_FxJ",
        "outputId": "b38c666d-d3ea-4934-849d-22d4e65a25a4"
      },
      "outputs": [
        {
          "output_type": "stream",
          "name": "stdout",
          "text": [
            "dict_keys(['accuracy', 'auc', 'fn', 'fp', 'loss', 'precision', 'recall', 'tn', 'tp', 'val_accuracy', 'val_auc', 'val_fn', 'val_fp', 'val_loss', 'val_precision', 'val_recall', 'val_tn', 'val_tp'])\n"
          ]
        }
      ],
      "source": [
        "print(model_history.history.keys())"
      ]
    },
    {
      "cell_type": "markdown",
      "metadata": {
        "id": "4XKxtLGJ_FxJ"
      },
      "source": [
        "<a id=\"section6\"></a>\n",
        "# <font color=\"#004D7F\" size=6> 6. Results</font>\n",
        "\n",
        "Finally, we can evaluate our hybrid model with the images created by TINTOlib in any of the ways represented below."
      ]
    },
    {
      "cell_type": "markdown",
      "metadata": {
        "id": "xkpoYuMR_FxK"
      },
      "source": [
        "---\n",
        "<a id=\"section61\"></a>\n",
        "# <font color=\"#004D7F\" size=5> 6.1. Train/Validation representation</font>"
      ]
    },
    {
      "cell_type": "code",
      "execution_count": 24,
      "metadata": {
        "colab": {
          "base_uri": "https://localhost:8080/",
          "height": 430
        },
        "id": "Kb-IrsY7_FxK",
        "outputId": "7fe4c485-537c-4045-b6cf-ddba857c3958"
      },
      "outputs": [
        {
          "output_type": "display_data",
          "data": {
            "text/plain": [
              "<Figure size 640x480 with 1 Axes>"
            ],
            "image/png": "[encoded data removed]"
          },
          "metadata": {}
        }
      ],
      "source": [
        "#print(model_history.history['loss'])\n",
        "plt.plot(model_history.history['loss'], color = 'red', label = 'loss')\n",
        "plt.plot(model_history.history['val_loss'], color = 'green', label = 'val loss')\n",
        "plt.legend(loc = 'upper right')\n",
        "\n",
        "plt.show()"
      ]
    },
    {
      "cell_type": "code",
      "execution_count": 25,
      "metadata": {
        "colab": {
          "base_uri": "https://localhost:8080/",
          "height": 430
        },
        "id": "Is3mTPwS_FxK",
        "outputId": "22ea9f20-c9c7-412f-9af2-ddbdb78258b8"
      },
      "outputs": [
        {
          "output_type": "display_data",
          "data": {
            "text/plain": [
              "<Figure size 640x480 with 1 Axes>"
            ],
            "image/png": "[encoded data removed]"
          },
          "metadata": {}
        }
      ],
      "source": [
        "plt.plot(model_history.history['accuracy'], color = 'red', label = 'accuracy')\n",
        "plt.plot(model_history.history['val_accuracy'], color = 'green', label = 'val accuracy')\n",
        "plt.legend(loc = 'upper right')\n",
        "plt.show()"
      ]
    },
    {
      "cell_type": "code",
      "execution_count": 26,
      "metadata": {
        "colab": {
          "base_uri": "https://localhost:8080/"
        },
        "id": "gDRDuRIF_FxK",
        "outputId": "653fbbfc-7435-473b-9e99-74eb9afa91de"
      },
      "outputs": [
        {
          "output_type": "stream",
          "name": "stdout",
          "text": [
            "Train accuracy: 0.9276863932609558\n",
            "Train AUC: 0.8197475075721741\n",
            "Train precision: 0.6218487620353699\n",
            "Train recall: 0.13565535843372345\n",
            "Train loss: 0.214201420545578\n"
          ]
        }
      ],
      "source": [
        "train_accuracy = model_history.history[\"accuracy\"][-1]\n",
        "train_auc = model_history.history[\"auc\"][-1]\n",
        "train_precision = model_history.history[\"precision\"][-1]\n",
        "train_recall = model_history.history[\"recall\"][-1]\n",
        "train_loss = model_history.history[\"loss\"][-1]\n",
        "\n",
        "print(\"Train accuracy:\",train_accuracy)\n",
        "print(\"Train AUC:\",train_auc)\n",
        "print(\"Train precision:\",train_precision)\n",
        "print(\"Train recall:\",train_recall)\n",
        "print(\"Train loss:\",train_loss)"
      ]
    },
    {
      "cell_type": "code",
      "execution_count": 27,
      "metadata": {
        "colab": {
          "base_uri": "https://localhost:8080/"
        },
        "id": "IKbt7Uun_FxK",
        "outputId": "05275f06-51d2-450e-b3c0-614d0ae60955"
      },
      "outputs": [
        {
          "output_type": "stream",
          "name": "stdout",
          "text": [
            "Validation accuracy: 0.934691309928894\n",
            "Validation AUC: 0.8439041376113892\n",
            "Validation precision: 0.8192771077156067\n",
            "Validation recall: 0.18681319057941437\n",
            "Validation loss: 0.19994798302650452\n"
          ]
        }
      ],
      "source": [
        "validation_accuracy = model_history.history[\"val_accuracy\"][-1]\n",
        "validation_auc = model_history.history[\"val_auc\"][-1]\n",
        "validation_precision = model_history.history[\"val_precision\"][-1]\n",
        "validation_recall = model_history.history[\"val_recall\"][-1]\n",
        "validation_loss = model_history.history[\"val_loss\"][-1]\n",
        "\n",
        "print(\"Validation accuracy:\",validation_accuracy)\n",
        "print(\"Validation AUC:\",validation_auc)\n",
        "print(\"Validation precision:\",validation_precision)\n",
        "print(\"Validation recall:\",validation_recall)\n",
        "print(\"Validation loss:\",validation_loss)"
      ]
    },
    {
      "cell_type": "markdown",
      "metadata": {
        "id": "rpiRQFj__FxL"
      },
      "source": [
        "---\n",
        "<a id=\"section62\"></a>\n",
        "# <font color=\"#004D7F\" size=5> 6.2. Validation evaluation</font>"
      ]
    },
    {
      "cell_type": "code",
      "execution_count": 28,
      "metadata": {
        "colab": {
          "base_uri": "https://localhost:8080/"
        },
        "id": "M9nWHa39_FxL",
        "outputId": "ec16d226-ecce-440c-dad7-27aad52c0ade"
      },
      "outputs": [
        {
          "output_type": "stream",
          "name": "stdout",
          "text": [
            "\u001b[1m447/447\u001b[0m \u001b[32m━━━━━━━━━━━━━━━━━━━━\u001b[0m\u001b[37m\u001b[0m \u001b[1m18s\u001b[0m 38ms/step\n"
          ]
        },
        {
          "output_type": "execute_result",
          "data": {
            "text/plain": [
              "(0.08, 0.7566324623016295)"
            ]
          },
          "metadata": {},
          "execution_count": 28
        }
      ],
      "source": [
        "from sklearn.metrics import roc_auc_score\n",
        "x_train_1 = [X_train_num, X_train_img]\n",
        "\n",
        "def find_best_threshold(y_true, y_probs):\n",
        "    thresholds = np.arange(0.0, 1.0, 0.01)\n",
        "    best_auc = 0\n",
        "    best_thresh = 0\n",
        "    for thresh in thresholds:\n",
        "        preds = (y_probs >= thresh).astype(int)\n",
        "        auc = roc_auc_score(y_true, preds)\n",
        "        if auc > best_auc:\n",
        "            best_auc = auc\n",
        "            best_thresh = thresh\n",
        "    return best_thresh, best_auc\n",
        "prediction = model.predict(x_train_1,)\n",
        "best_threshold = find_best_threshold(y_train, prediction)\n",
        "best_threshold ### !!!!!! IMPORTANTE PARA DEFINIR EL MEJOR CORTE PARA LAS PROBABILIDADES"
      ]
    },
    {
      "cell_type": "code",
      "execution_count": 29,
      "metadata": {
        "colab": {
          "base_uri": "https://localhost:8080/"
        },
        "id": "M6Nn4CUw_FxL",
        "outputId": "d70f9acd-5840-43c0-b3eb-ff719bac29ea"
      },
      "outputs": [
        {
          "output_type": "stream",
          "name": "stdout",
          "text": [
            "\u001b[1m149/149\u001b[0m \u001b[32m━━━━━━━━━━━━━━━━━━━━\u001b[0m\u001b[37m\u001b[0m \u001b[1m2s\u001b[0m 15ms/step - accuracy: 0.9430 - auc: 0.8583 - fn: 133.4267 - fp: 7.7800 - loss: 0.1877 - precision: 0.8760 - recall: 0.2415 - tn: 2232.0667 - tp: 42.4333\n"
          ]
        }
      ],
      "source": [
        "#x_validacion = [X_test_num, X_test_img]\n",
        "#y_validacion = y_test\n",
        "x_validacion = [X_val_num, X_val_img]\n",
        "y_validacion = y_val\n",
        "score_test= model.evaluate(x_validacion, y_validacion)"
      ]
    },
    {
      "cell_type": "code",
      "execution_count": null,
      "metadata": {
        "colab": {
          "base_uri": "https://localhost:8080/"
        },
        "id": "Y2rLHKmB_FxL",
        "outputId": "049c9490-0ae8-44dc-c12f-08df48a6c44c"
      },
      "outputs": [
        {
          "output_type": "stream",
          "name": "stdout",
          "text": [
            "\u001b[1m 92/149\u001b[0m \u001b[32m━━━━━━━━━━━━\u001b[0m\u001b[37m━━━━━━━━\u001b[0m \u001b[1m0s\u001b[0m 14ms/step"
          ]
        }
      ],
      "source": [
        "#test_images = next(test_iter)[0]\n",
        "prediction = model.predict(x_validacion,)\n",
        "#prediction = model.predict(test_images)\n",
        "prediction_labels = (prediction > best_threshold[0]).astype(int)\n",
        "#print(prediction_labels)"
      ]
    },
    {
      "cell_type": "code",
      "execution_count": 33,
      "metadata": {
        "colab": {
          "base_uri": "https://localhost:8080/"
        },
        "id": "6EjRAwn6_FxL",
        "outputId": "3bb298d2-ca03-4ebd-e823-e7e4efbb1348"
      },
      "outputs": [
        {
          "output_type": "stream",
          "name": "stdout",
          "text": [
            "Validation accuracy: 0.9376312494277954\n",
            "Validation AUC: 0.8468744158744812\n",
            "Validation precision: 0.8190476298332214\n",
            "Validation recall: 0.23626373708248138\n"
          ]
        }
      ],
      "source": [
        "from sklearn.metrics import roc_auc_score,accuracy_score,precision_score, recall_score\n",
        "\n",
        "test_accuracy = score_test[5]\n",
        "test_auc = score_test[8]\n",
        "test_precision = score_test[6]\n",
        "test_recall = score_test[7]\n",
        "\n",
        "print(\"Validation accuracy:\",test_accuracy)\n",
        "print(\"Validation AUC:\",test_auc)\n",
        "print(\"Validation precision:\",test_precision)\n",
        "print(\"Validation recall:\",test_recall)"
      ]
    },
    {
      "cell_type": "code",
      "execution_count": 34,
      "metadata": {
        "colab": {
          "base_uri": "https://localhost:8080/",
          "height": 458
        },
        "id": "35xZBtz6_FxL",
        "outputId": "ff047ffd-dbae-404d-f587-012dfd7feb59"
      },
      "outputs": [
        {
          "output_type": "execute_result",
          "data": {
            "text/plain": [
              "20134    0\n",
              "5477     0\n",
              "11396    0\n",
              "128      1\n",
              "4649     0\n",
              "        ..\n",
              "15036    0\n",
              "11887    0\n",
              "1596     0\n",
              "8594     0\n",
              "6684     0\n",
              "Name: class, Length: 4762, dtype: int64"
            ],
            "text/html": [
              "<div>\n",
              "<style scoped>\n",
              "    .dataframe tbody tr th:only-of-type {\n",
              "        vertical-align: middle;\n",
              "    }\n",
              "\n",
              "    .dataframe tbody tr th {\n",
              "        vertical-align: top;\n",
              "    }\n",
              "\n",
              "    .dataframe thead th {\n",
              "        text-align: right;\n",
              "    }\n",
              "</style>\n",
              "<table border=\"1\" class=\"dataframe\">\n",
              "  <thead>\n",
              "    <tr style=\"text-align: right;\">\n",
              "      <th></th>\n",
              "      <th>class</th>\n",
              "    </tr>\n",
              "  </thead>\n",
              "  <tbody>\n",
              "    <tr>\n",
              "      <th>20134</th>\n",
              "      <td>0</td>\n",
              "    </tr>\n",
              "    <tr>\n",
              "      <th>5477</th>\n",
              "      <td>0</td>\n",
              "    </tr>\n",
              "    <tr>\n",
              "      <th>11396</th>\n",
              "      <td>0</td>\n",
              "    </tr>\n",
              "    <tr>\n",
              "      <th>128</th>\n",
              "      <td>1</td>\n",
              "    </tr>\n",
              "    <tr>\n",
              "      <th>4649</th>\n",
              "      <td>0</td>\n",
              "    </tr>\n",
              "    <tr>\n",
              "      <th>...</th>\n",
              "      <td>...</td>\n",
              "    </tr>\n",
              "    <tr>\n",
              "      <th>15036</th>\n",
              "      <td>0</td>\n",
              "    </tr>\n",
              "    <tr>\n",
              "      <th>11887</th>\n",
              "      <td>0</td>\n",
              "    </tr>\n",
              "    <tr>\n",
              "      <th>1596</th>\n",
              "      <td>0</td>\n",
              "    </tr>\n",
              "    <tr>\n",
              "      <th>8594</th>\n",
              "      <td>0</td>\n",
              "    </tr>\n",
              "    <tr>\n",
              "      <th>6684</th>\n",
              "      <td>0</td>\n",
              "    </tr>\n",
              "  </tbody>\n",
              "</table>\n",
              "<p>4762 rows × 1 columns</p>\n",
              "</div><br><label><b>dtype:</b> int64</label>"
            ]
          },
          "metadata": {},
          "execution_count": 34
        }
      ],
      "source": [
        "y_test1 = y_validacion.astype(float).astype(int)\n",
        "y_test1"
      ]
    },
    {
      "cell_type": "code",
      "source": [
        "from sklearn.metrics import ConfusionMatrixDisplay, confusion_matrix, roc_curve, roc_auc_score, recall_score\n",
        "\n",
        "# Suponiendo que cnn_model sea tu modelo entrenado y X_test tu conjunto de prueba\n",
        "print(\"\\033[1mTest Dataset.\\033[0m \\n\\n\")\n",
        "\n",
        "# Confusion Matrix\n",
        "print(\"\\033[1mConfusion matrix:\\033[0m\")\n",
        "cm = confusion_matrix(y_test1, prediction_labels)\n",
        "disp = ConfusionMatrixDisplay(confusion_matrix=cm)\n",
        "disp.plot()\n",
        "plt.show()\n",
        "print(f\"Verdaderos Negativos (VN): {cm[0, 0]}\")\n",
        "print(f\"Falsos Positivos (FP): {cm[0, 1]}\")\n",
        "print(f\"Falsos Negativos (FN): {cm[1, 0]}\")\n",
        "print(f\"Verdaderos Positivos (VP): {cm[1, 1]} \\n\\n\")\n",
        "\n",
        "# Calcular las métricas usando probabilidades en lugar de etiquetas\n",
        "#prediction_probs = model.predict([X_val_img])\n",
        "\n",
        "print(\"\\033[1mAUC SCORE:\\033[0m\")\n",
        "print(roc_auc_score(y_test1, prediction ))\n",
        "\n",
        "print(\"\\033[1mRecall SCORE:\\033[0m\")\n",
        "print(recall_score(y_test1, prediction_labels))\n",
        "\n",
        "# Curva ROC\n",
        "fpr, tpr, thresholds = roc_curve(y_test1, prediction)\n",
        "plt.plot([0, 1], [0, 1], 'k--')\n",
        "plt.plot(fpr, tpr)\n",
        "plt.xlabel('False Positive Rate')\n",
        "plt.ylabel('True Positive Rate')\n",
        "plt.title('ROC Curve and AUC')\n",
        "plt.fill_between(fpr, tpr, alpha=0.3)\n",
        "plt.tight_layout()\n",
        "plt.show()"
      ],
      "metadata": {
        "colab": {
          "base_uri": "https://localhost:8080/",
          "height": 1000
        },
        "id": "qxFW5VCA_ZIb",
        "outputId": "dd2a86ec-a8c0-4f83-97e5-2c65a54637b1"
      },
      "execution_count": 35,
      "outputs": [
        {
          "output_type": "stream",
          "name": "stdout",
          "text": [
            "\u001b[1mTest Dataset.\u001b[0m \n",
            "\n",
            "\n",
            "\u001b[1mConfusion matrix:\u001b[0m\n"
          ]
        },
        {
          "output_type": "display_data",
          "data": {
            "text/plain": [
              "<Figure size 640x480 with 2 Axes>"
            ],
            "image/png": "[encoded data removed]"
          },
          "metadata": {}
        },
        {
          "output_type": "stream",
          "name": "stdout",
          "text": [
            "Verdaderos Negativos (VN): 3495\n",
            "Falsos Positivos (FP): 903\n",
            "Falsos Negativos (FN): 96\n",
            "Verdaderos Positivos (VP): 268 \n",
            "\n",
            "\n",
            "\u001b[1mAUC SCORE:\u001b[0m\n",
            "0.8474818723795532\n",
            "\u001b[1mRecall SCORE:\u001b[0m\n",
            "0.7362637362637363\n"
          ]
        },
        {
          "output_type": "display_data",
          "data": {
            "text/plain": [
              "<Figure size 640x480 with 1 Axes>"
            ],
            "image/png": "[encoded data removed]"
          },
          "metadata": {}
        }
      ]
    },
    {
      "cell_type": "markdown",
      "metadata": {
        "id": "oUHbsTJi_FxM"
      },
      "source": [
        "---\n",
        "<a id=\"section63\"></a>\n",
        "# <font color=\"#004D7F\" size=5> 6.3. Test evaluation</font>"
      ]
    },
    {
      "cell_type": "code",
      "execution_count": 36,
      "metadata": {
        "colab": {
          "base_uri": "https://localhost:8080/"
        },
        "id": "jkdjEPaR_FxM",
        "outputId": "5a33c58c-4130-4bd9-f504-4cf69a9a0c57"
      },
      "outputs": [
        {
          "output_type": "stream",
          "name": "stdout",
          "text": [
            "\u001b[1m149/149\u001b[0m \u001b[32m━━━━━━━━━━━━━━━━━━━━\u001b[0m\u001b[37m\u001b[0m \u001b[1m2s\u001b[0m 16ms/step - accuracy: 0.9321 - auc: 0.8222 - fn: 141.0333 - fp: 15.2067 - loss: 0.2123 - precision: 0.7262 - recall: 0.2300 - tn: 2215.2068 - tp: 44.2600\n"
          ]
        }
      ],
      "source": [
        "x_validacion = [X_test_num, X_test_img]\n",
        "y_validacion = y_test\n",
        "#x_validacion = [X_val_num, X_val_img]\n",
        "#y_validacion = y_val\n",
        "score_test= model.evaluate(x_validacion, y_validacion)"
      ]
    },
    {
      "cell_type": "code",
      "execution_count": 37,
      "metadata": {
        "colab": {
          "base_uri": "https://localhost:8080/"
        },
        "id": "sIf1pdND_FxM",
        "outputId": "e6a6bfbf-4259-45d5-88d1-b14317d22633"
      },
      "outputs": [
        {
          "output_type": "stream",
          "name": "stdout",
          "text": [
            "\u001b[1m149/149\u001b[0m \u001b[32m━━━━━━━━━━━━━━━━━━━━\u001b[0m\u001b[37m\u001b[0m \u001b[1m2s\u001b[0m 14ms/step\n"
          ]
        }
      ],
      "source": [
        "#test_images = next(test_iter)[0]\n",
        "prediction = model.predict(x_validacion,)\n",
        "#prediction = model.predict(test_images)\n",
        "prediction_labels = (prediction > best_threshold[0]).astype(int)\n",
        "#print(prediction_labels)"
      ]
    },
    {
      "cell_type": "code",
      "execution_count": 38,
      "metadata": {
        "colab": {
          "base_uri": "https://localhost:8080/"
        },
        "id": "57WdRo9t_FxM",
        "outputId": "55bbbb94-0675-4781-9afa-49d6a033cb8a"
      },
      "outputs": [
        {
          "output_type": "stream",
          "name": "stdout",
          "text": [
            "Test accuracy: 0.935951292514801\n",
            "Test AUC: 0.8367103338241577\n",
            "Test precision: 0.7589285969734192\n",
            "Test recall: 0.23415978252887726\n"
          ]
        }
      ],
      "source": [
        "from sklearn.metrics import roc_auc_score,accuracy_score,precision_score, recall_score\n",
        "\n",
        "test_accuracy = score_test[5]\n",
        "test_auc = score_test[8]\n",
        "test_precision = score_test[6]\n",
        "test_recall = score_test[7]\n",
        "\n",
        "print(\"Test accuracy:\",test_accuracy)\n",
        "print(\"Test AUC:\",test_auc)\n",
        "print(\"Test precision:\",test_precision)\n",
        "print(\"Test recall:\",test_recall)"
      ]
    },
    {
      "cell_type": "code",
      "execution_count": 39,
      "metadata": {
        "colab": {
          "base_uri": "https://localhost:8080/",
          "height": 458
        },
        "id": "mJx6QJiH_FxM",
        "outputId": "6e09373c-0236-4083-e0fd-64f3928ad9c3"
      },
      "outputs": [
        {
          "output_type": "execute_result",
          "data": {
            "text/plain": [
              "17734    0\n",
              "19878    0\n",
              "19543    0\n",
              "4964     0\n",
              "3278     0\n",
              "        ..\n",
              "14449    0\n",
              "5716     0\n",
              "1307     0\n",
              "9        1\n",
              "19709    0\n",
              "Name: class, Length: 4762, dtype: int64"
            ],
            "text/html": [
              "<div>\n",
              "<style scoped>\n",
              "    .dataframe tbody tr th:only-of-type {\n",
              "        vertical-align: middle;\n",
              "    }\n",
              "\n",
              "    .dataframe tbody tr th {\n",
              "        vertical-align: top;\n",
              "    }\n",
              "\n",
              "    .dataframe thead th {\n",
              "        text-align: right;\n",
              "    }\n",
              "</style>\n",
              "<table border=\"1\" class=\"dataframe\">\n",
              "  <thead>\n",
              "    <tr style=\"text-align: right;\">\n",
              "      <th></th>\n",
              "      <th>class</th>\n",
              "    </tr>\n",
              "  </thead>\n",
              "  <tbody>\n",
              "    <tr>\n",
              "      <th>17734</th>\n",
              "      <td>0</td>\n",
              "    </tr>\n",
              "    <tr>\n",
              "      <th>19878</th>\n",
              "      <td>0</td>\n",
              "    </tr>\n",
              "    <tr>\n",
              "      <th>19543</th>\n",
              "      <td>0</td>\n",
              "    </tr>\n",
              "    <tr>\n",
              "      <th>4964</th>\n",
              "      <td>0</td>\n",
              "    </tr>\n",
              "    <tr>\n",
              "      <th>3278</th>\n",
              "      <td>0</td>\n",
              "    </tr>\n",
              "    <tr>\n",
              "      <th>...</th>\n",
              "      <td>...</td>\n",
              "    </tr>\n",
              "    <tr>\n",
              "      <th>14449</th>\n",
              "      <td>0</td>\n",
              "    </tr>\n",
              "    <tr>\n",
              "      <th>5716</th>\n",
              "      <td>0</td>\n",
              "    </tr>\n",
              "    <tr>\n",
              "      <th>1307</th>\n",
              "      <td>0</td>\n",
              "    </tr>\n",
              "    <tr>\n",
              "      <th>9</th>\n",
              "      <td>1</td>\n",
              "    </tr>\n",
              "    <tr>\n",
              "      <th>19709</th>\n",
              "      <td>0</td>\n",
              "    </tr>\n",
              "  </tbody>\n",
              "</table>\n",
              "<p>4762 rows × 1 columns</p>\n",
              "</div><br><label><b>dtype:</b> int64</label>"
            ]
          },
          "metadata": {},
          "execution_count": 39
        }
      ],
      "source": [
        "y_test1 = y_validacion.astype(float).astype(int)\n",
        "y_test1"
      ]
    },
    {
      "cell_type": "code",
      "source": [
        "from sklearn.metrics import ConfusionMatrixDisplay, confusion_matrix, roc_curve, roc_auc_score, recall_score\n",
        "\n",
        "# Suponiendo que cnn_model sea tu modelo entrenado y X_test tu conjunto de prueba\n",
        "print(\"\\033[1mTest Dataset.\\033[0m \\n\\n\")\n",
        "\n",
        "# Confusion Matrix\n",
        "print(\"\\033[1mConfusion matrix:\\033[0m\")\n",
        "cm = confusion_matrix(y_test1, prediction_labels)\n",
        "disp = ConfusionMatrixDisplay(confusion_matrix=cm)\n",
        "disp.plot()\n",
        "plt.show()\n",
        "print(f\"Verdaderos Negativos (VN): {cm[0, 0]}\")\n",
        "print(f\"Falsos Positivos (FP): {cm[0, 1]}\")\n",
        "print(f\"Falsos Negativos (FN): {cm[1, 0]}\")\n",
        "print(f\"Verdaderos Positivos (VP): {cm[1, 1]} \\n\\n\")\n",
        "\n",
        "# Calcular las métricas usando probabilidades en lugar de etiquetas\n",
        "#prediction_probs = model.predict([X_val_img])\n",
        "\n",
        "print(\"\\033[1mAUC SCORE:\\033[0m\")\n",
        "print(roc_auc_score(y_test1, prediction ))\n",
        "\n",
        "print(\"\\033[1mRecall SCORE:\\033[0m\")\n",
        "print(recall_score(y_test1, prediction_labels))\n",
        "\n",
        "# Curva ROC\n",
        "fpr, tpr, thresholds = roc_curve(y_test1, prediction)\n",
        "plt.plot([0, 1], [0, 1], 'k--')\n",
        "plt.plot(fpr, tpr)\n",
        "plt.xlabel('False Positive Rate')\n",
        "plt.ylabel('True Positive Rate')\n",
        "plt.title('ROC Curve and AUC')\n",
        "plt.fill_between(fpr, tpr, alpha=0.3)\n",
        "plt.tight_layout()\n",
        "plt.show()"
      ],
      "metadata": {
        "colab": {
          "base_uri": "https://localhost:8080/",
          "height": 1000
        },
        "id": "AkUSOb7z_bYr",
        "outputId": "ff14bb78-050e-4b67-cc8e-61953114c8da"
      },
      "execution_count": 40,
      "outputs": [
        {
          "output_type": "stream",
          "name": "stdout",
          "text": [
            "\u001b[1mTest Dataset.\u001b[0m \n",
            "\n",
            "\n",
            "\u001b[1mConfusion matrix:\u001b[0m\n"
          ]
        },
        {
          "output_type": "display_data",
          "data": {
            "text/plain": [
              "<Figure size 640x480 with 2 Axes>"
            ],
            "image/png": "[encoded data removed]"
          },
          "metadata": {}
        },
        {
          "output_type": "stream",
          "name": "stdout",
          "text": [
            "Verdaderos Negativos (VN): 3446\n",
            "Falsos Positivos (FP): 953\n",
            "Falsos Negativos (FN): 110\n",
            "Verdaderos Positivos (VP): 253 \n",
            "\n",
            "\n",
            "\u001b[1mAUC SCORE:\u001b[0m\n",
            "0.8370434803301777\n",
            "\u001b[1mRecall SCORE:\u001b[0m\n",
            "0.696969696969697\n"
          ]
        },
        {
          "output_type": "display_data",
          "data": {
            "text/plain": [
              "<Figure size 640x480 with 1 Axes>"
            ],
            "image/png": "[encoded data removed]"
          },
          "metadata": {}
        }
      ]
    }
  ],
  "metadata": {
    "colab": {
      "provenance": []
    },
    "kernelspec": {
      "display_name": "Python 3",
      "language": "python",
      "name": "python3"
    },
    "language_info": {
      "codemirror_mode": {
        "name": "ipython",
        "version": 3
      },
      "file_extension": ".py",
      "mimetype": "text/x-python",
      "name": "python",
      "nbconvert_exporter": "python",
      "pygments_lexer": "ipython3",
      "version": "3.9.6"
    }
  },
  "nbformat": 4,
  "nbformat_minor": 0
}