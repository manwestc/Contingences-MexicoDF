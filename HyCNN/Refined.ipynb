{
 "cells": [
  {
   "cell_type": "markdown",
   "metadata": {
    "id": "EybOZ6hSjpCF"
   },
   "source": [
    "<h1><font color=\"#113D68\" size=5>TINTOlib: Converting Tidy Data into Synthetic Images</font></h1>>\n",
    "\n",
    "<h1><font color=\"#113D68\" size=5>Template Binary Classification problem with a Hibryd Networks (CNN+MLP)</font></h1>\n",
    "\n",
    "<br><br>\n",
    "<div style=\"text-align: right\">\n",
    "<font color=\"#113D68\" size=3>Manuel Castillo-Cara</font><br>\n",
    "<font color=\"#113D68\" size=3>Raúl García-Castro</font><br>\n",
    "<font color=\"#113D68\" size=3>Jiayun Liu</font><br>\n",
    "\n",
    "</div>\n",
    "\n",
    "---"
   ]
  },
  {
   "cell_type": "markdown",
   "metadata": {},
   "source": [
    "<div class=\"alert alert-block alert-info\">\n",
    "    \n",
    "<i class=\"fa fa-info-circle\" aria-hidden=\"true\"></i>\n",
    "More information about [Manuel Castillo-Cara](https://www.manuelcastillo.eu/)"
   ]
  },
  {
   "cell_type": "markdown",
   "metadata": {},
   "source": [
    "<div class=\"alert alert-block alert-info\">\n",
    "    \n",
    "<i class=\"fa fa-info-circle\" aria-hidden=\"true\"></i>\n",
    "More information about [Raúl García-Castro](http://www.garcia-castro.com/)"
   ]
  },
  {
   "cell_type": "markdown",
   "metadata": {},
   "source": [
    "---\n",
    "\n",
    "<a id=\"indice\"></a>\n",
    "<h2><font color=\"#004D7F\" size=5>Licencia</font></h2>\n",
    "\n",
    "<p><small><small>Improving Deep Learning by Exploiting Synthetic Images Copyright 2024 Manuel Castillo Cara.</p>\n",
    "<p><small><small> Licensed under the Apache License, Version 2.0 (the \"License\"); you may not use this file except in compliance with the License. You may obtain a copy of the License at </p>\n",
    "<p><small><small> <a href=\"https://www.apache.org/licenses/LICENSE-2.0\">https://www.apache.org/licenses/LICENSE-2.0</a> </p>\n",
    "<p><small><small> Unless required by applicable law or agreed to in writing, software distributed under the License is distributed on an \"AS IS\" BASIS, WITHOUT WARRANTIES OR CONDITIONS OF ANY KIND, either express or implied. See the License for the specific language governing permissions and limitations under the License. </p>"
   ]
  },
  {
   "cell_type": "markdown",
   "metadata": {
    "id": "2l5nFzsdjpCW"
   },
   "source": [
    "---\n",
    "\n",
    "<a id=\"indice\"></a>\n",
    "<h2><font color=\"#004D7F\" size=5>Index</font></h2>\n",
    "\n",
    "* [0. Context](#section0)\n",
    "* [1. Description](#section1)\n",
    "    * [1.1. Main Features](#section11)\n",
    "    * [1.2. Citation](#section12)\n",
    "    * [1.3. Documentation and License](#section13)\n",
    "* [2. Libraries](#section2)\n",
    "    * [2.1. System setup](#section21)\n",
    "    * [2.2. Invoke the libraries](#section22)\n",
    "* [3. Data processing](#section3)\n",
    "    * [3.1. TINTOlib methods](#section31)\n",
    "    * [3.2. Read the dataset](#section32)\n",
    "    * [3.3. Generate images](#section33)\n",
    "    * [3.4. Read images](#section34)\n",
    "    * [3.5. Mix images and tidy data](#section35)\n",
    "* [4. Pre-modelling phase](#section4)\n",
    "    * [4.1. Data curation](#section41)\n",
    "    * [4.2. One-hot encoding](#section42)\n",
    "* [5. Modelling hybrid network](#section5)\n",
    "    * [5.1. FFNN for tabular data](#section51)\n",
    "    * [5.2. CNN for TINTOlib images](#section52)\n",
    "    * [5.3. Concatenate branches](#section53)\n",
    "    * [5.4. Metrics](#section54)\n",
    "    * [5.5. Compile and fit](#section55)\n",
    "* [6. Results](#section6)\n",
    "    * [6.1. Train/Validation representation](#section61)\n",
    "    * [6.2. Validation/Test evaluation](#section62)"
   ]
  },
  {
   "cell_type": "markdown",
   "metadata": {
    "id": "4RKBgDwzjpCl"
   },
   "source": [
    "---\n",
    "<div style=\"text-align: right\"> <font size=5> <a href=\"#indice\"><i class=\"fa fa-arrow-circle-up\" aria-hidden=\"true\" style=\"color:#004D7F\"></i></a></font></div>\n",
    "\n",
    "---"
   ]
  },
  {
   "cell_type": "markdown",
   "metadata": {
    "id": "qwYF5A2njpC8"
   },
   "source": [
    "<a id=\"section2\"></a>\n",
    "# <font color=\"#004D7F\" size=6> 2. Libraries</font>"
   ]
  },
  {
   "cell_type": "markdown",
   "metadata": {},
   "source": [
    "---\n",
    "<a id=\"section22\"></a>\n",
    "# <font color=\"#004D7F\" size=5> 2.2. Invoke the libraries</font>"
   ]
  },
  {
   "cell_type": "code",
   "execution_count": 1,
   "metadata": {
    "id": "PeeBbGxlpjFp",
    "tags": []
   },
   "outputs": [
    {
     "name": "stderr",
     "output_type": "stream",
     "text": [
      "/Users/manwest/Library/Python/3.9/lib/python/site-packages/urllib3/__init__.py:35: NotOpenSSLWarning: urllib3 v2 only supports OpenSSL 1.1.1+, currently the 'ssl' module is compiled with 'LibreSSL 2.8.3'. See: https://github.com/urllib3/urllib3/issues/3020\n",
      "  warnings.warn(\n"
     ]
    }
   ],
   "source": [
    "import os\n",
    "import random\n",
    "import pandas as pd\n",
    "import numpy as np\n",
    "from tqdm import tqdm\n",
    "#import cv2\n",
    "import gc\n",
    "import matplotlib.pyplot as plt\n",
    "#import openslide\n",
    "#from openslide.deepzoom import DeepZoomGenerator\n",
    "import tifffile as tifi\n",
    "import sklearn\n",
    "import tensorflow as tf\n",
    "import seaborn as sns\n",
    "from PIL import Image\n",
    "import visualkeras as vk\n",
    "\n",
    "\n",
    "from sklearn.metrics import mean_absolute_error, mean_squared_error, r2_score,mean_absolute_percentage_error\n",
    "\n",
    "from keras_preprocessing.image import ImageDataGenerator\n",
    "from tensorflow.keras.models import load_model\n",
    "\n",
    "from sklearn.model_selection import train_test_split\n",
    "from tensorflow.keras.applications import vgg16, vgg19, resnet50, mobilenet, inception_resnet_v2, densenet, inception_v3, xception, nasnet, ResNet152V2\n",
    "from tensorflow.keras.models import Sequential, Model, load_model\n",
    "from tensorflow.keras.layers import Dense, Conv2D, MaxPool2D, Flatten, Dropout, BatchNormalization, InputLayer, LayerNormalization\n",
    "from tensorflow.keras.callbacks import ModelCheckpoint, ReduceLROnPlateau, EarlyStopping\n",
    "from tensorflow.keras.optimizers import SGD, Adam, Adadelta, Adamax, AdamW\n",
    "from tensorflow.keras import layers, models, Model\n",
    "from tensorflow.keras.losses import MeanAbsoluteError, MeanAbsolutePercentageError\n",
    "from tensorflow.keras.layers import Input, Activation, MaxPooling2D, concatenate, Concatenate, AveragePooling2D\n",
    "from tensorflow.keras.utils import to_categorical\n",
    "from keras.utils import plot_model\n",
    "\n",
    "\n",
    "from imblearn.under_sampling import RandomUnderSampler\n",
    "\n",
    "#Models of TINTOlib\n",
    "from TINTOlib.tinto import TINTO\n",
    "from TINTOlib.supertml import SuperTML\n",
    "from TINTOlib.igtd import IGTD\n",
    "from TINTOlib.refined import REFINED\n",
    "from TINTOlib.barGraph import BarGraph\n",
    "from TINTOlib.distanceMatrix import DistanceMatrix\n",
    "from TINTOlib.combination import Combination\n",
    "from TINTOlib.featureWrap import FeatureWrap\n",
    "\n",
    "\n",
    "\n",
    "SEED = 64\n",
    "# SET RANDOM SEED FOR REPRODUCIBILITY\n",
    "#torch.manual_seed(SEED)\n",
    "#torch.cuda.manual_seed(SEED)\n",
    "#torch.cuda.manual_seed_all(SEED)\n",
    "#torch.backends.cudnn.deterministic = True\n",
    "#torch.backends.cudnn.benchmark = False\n",
    "os.environ['PYTHONHASHSEED']=str(SEED)\n",
    "random.seed(SEED)\n",
    "np.random.seed(SEED)\n",
    "tf.random.set_seed(SEED)"
   ]
  },
  {
   "cell_type": "markdown",
   "metadata": {
    "id": "NwS-cKUxjpDQ"
   },
   "source": [
    "---\n",
    "<div style=\"text-align: right\"> <font size=5> <a href=\"#indice\"><i class=\"fa fa-arrow-circle-up\" aria-hidden=\"true\" style=\"color:#004D7F\"></i></a></font></div>\n",
    "\n",
    "---"
   ]
  },
  {
   "cell_type": "markdown",
   "metadata": {
    "id": "aDL4LARWjpDT"
   },
   "source": [
    "<a id=\"section3\"></a>\n",
    "# <font color=\"#004D7F\" size=6> 3. Data processing</font>"
   ]
  },
  {
   "cell_type": "markdown",
   "metadata": {},
   "source": [
    "---\n",
    "<a id=\"section31\"></a>\n",
    "# <font color=\"#004D7F\" size=5> 3.1. TINTOlib methods</font>"
   ]
  },
  {
   "cell_type": "code",
   "execution_count": 2,
   "metadata": {},
   "outputs": [],
   "source": [
    "#Select the model and the parameters\n",
    "problem_type = \"supervised\"\n",
    "#problem_type = \"regression\"\n",
    "pixelTML = 30\n",
    "pixel = 20\n",
    "## zoom para ampliar la imagen\n",
    "image_model = REFINED(problem=problem_type, random_seed=SEED, zoom=4, n_processors=8)\n",
    "#image_model = TINTO(problem= problem_type, blur=True, option='mean', pixels=pixel, random_seed=SEED)\n",
    "# scale sería [7,4] porque hay 26 variables (para 24 pixeles); \n",
    "#image_model = IGTD(problem= problem_type, random_seed=SEED, scale=[3,3], zoom=4)\n",
    "#image_model = BarGraph(problem= problem_type, pixel_width=2, gap=1, zoom=1)\n",
    "#image_model = DistanceMatrix(problem= problem_type, zoom=4)\n",
    "#image_model = Combination(problem= problem_type, zoom=3)\n",
    "#image_model = SuperTML(problem= problem_type, pixels = pixelTML, font_size=4, feature_importance=True, random_seed=SEED)\n",
    "#image_model = SuperTML(problem= problem_type, pixels=pixel, font_size=3, random_seed=SEED)\n",
    "\n",
    "#Define the dataset path and the folder where the images will be saved\n",
    "results_folder = \"Refined\"\n",
    "dataset_path = \"../dataset_train.csv\"\n",
    "images_folder = \"Refined\""
   ]
  },
  {
   "cell_type": "markdown",
   "metadata": {},
   "source": [
    "<div class=\"alert alert-block alert-info\">\n",
    "\n",
    "<i class=\"fa fa-info-circle\" aria-hidden=\"true\"></i>\n",
    "You can see all TINTOlib method in the [PyPI documentation](https://tintolib.readthedocs.io/en/latest/installation.html)"
   ]
  },
  {
   "cell_type": "markdown",
   "metadata": {},
   "source": [
    "---\n",
    "<a id=\"section32\"></a>\n",
    "# <font color=\"#004D7F\" size=5> 3.2. Read the dataset</font>"
   ]
  },
  {
   "cell_type": "markdown",
   "metadata": {},
   "source": [
    "In this part, we proceed to read the dataset according to the path specified above and also standardize the name that the target will have, in this case, it will be called `class`."
   ]
  },
  {
   "cell_type": "code",
   "execution_count": 3,
   "metadata": {
    "scrolled": true
   },
   "outputs": [
    {
     "data": {
      "text/html": [
       "<div>\n",
       "<style scoped>\n",
       "    .dataframe tbody tr th:only-of-type {\n",
       "        vertical-align: middle;\n",
       "    }\n",
       "\n",
       "    .dataframe tbody tr th {\n",
       "        vertical-align: top;\n",
       "    }\n",
       "\n",
       "    .dataframe thead th {\n",
       "        text-align: right;\n",
       "    }\n",
       "</style>\n",
       "<table border=\"1\" class=\"dataframe\">\n",
       "  <thead>\n",
       "    <tr style=\"text-align: right;\">\n",
       "      <th></th>\n",
       "      <th>O3</th>\n",
       "      <th>TMP</th>\n",
       "      <th>RH</th>\n",
       "      <th>1/RH</th>\n",
       "      <th>WSP</th>\n",
       "      <th>WDR</th>\n",
       "      <th>class</th>\n",
       "    </tr>\n",
       "  </thead>\n",
       "  <tbody>\n",
       "    <tr>\n",
       "      <th>0</th>\n",
       "      <td>163.0</td>\n",
       "      <td>28.2</td>\n",
       "      <td>17.0</td>\n",
       "      <td>0.058824</td>\n",
       "      <td>3.2</td>\n",
       "      <td>346.0</td>\n",
       "      <td>1</td>\n",
       "    </tr>\n",
       "    <tr>\n",
       "      <th>1</th>\n",
       "      <td>170.0</td>\n",
       "      <td>28.9</td>\n",
       "      <td>23.0</td>\n",
       "      <td>0.043478</td>\n",
       "      <td>3.4</td>\n",
       "      <td>355.0</td>\n",
       "      <td>1</td>\n",
       "    </tr>\n",
       "  </tbody>\n",
       "</table>\n",
       "</div>"
      ],
      "text/plain": [
       "      O3   TMP    RH      1/RH  WSP    WDR  class\n",
       "0  163.0  28.2  17.0  0.058824  3.2  346.0      1\n",
       "1  170.0  28.9  23.0  0.043478  3.4  355.0      1"
      ]
     },
     "execution_count": 3,
     "metadata": {},
     "output_type": "execute_result"
    }
   ],
   "source": [
    "#Read CSV\n",
    "df = pd.read_csv(dataset_path)\n",
    "df.head(2)"
   ]
  },
  {
   "cell_type": "markdown",
   "metadata": {},
   "source": [
    "---\n",
    "<a id=\"section33\"></a>\n",
    "# <font color=\"#004D7F\" size=5> 3.3. Generate images</font>"
   ]
  },
  {
   "cell_type": "markdown",
   "metadata": {},
   "source": [
    "Now we can generate the images with the `generateImages()` generic function. Likewise, we create a dataset that will have the path of each of the samples with the corresponding image created for it. \n",
    "\n",
    "Note that each image is created based on a row, therefore, each numerical sample of the dataset will correspond to a particular image. In other words, we will have the same number of images as samples/rows."
   ]
  },
  {
   "cell_type": "code",
   "execution_count": 4,
   "metadata": {},
   "outputs": [
    {
     "data": {
      "text/html": [
       "<div>\n",
       "<style scoped>\n",
       "    .dataframe tbody tr th:only-of-type {\n",
       "        vertical-align: middle;\n",
       "    }\n",
       "\n",
       "    .dataframe tbody tr th {\n",
       "        vertical-align: top;\n",
       "    }\n",
       "\n",
       "    .dataframe thead th {\n",
       "        text-align: right;\n",
       "    }\n",
       "</style>\n",
       "<table border=\"1\" class=\"dataframe\">\n",
       "  <thead>\n",
       "    <tr style=\"text-align: right;\">\n",
       "      <th></th>\n",
       "      <th>O3</th>\n",
       "      <th>TMP</th>\n",
       "      <th>RH</th>\n",
       "      <th>1/RH</th>\n",
       "      <th>WSP</th>\n",
       "      <th>WDR</th>\n",
       "      <th>class</th>\n",
       "    </tr>\n",
       "  </thead>\n",
       "  <tbody>\n",
       "    <tr>\n",
       "      <th>0</th>\n",
       "      <td>0.772947</td>\n",
       "      <td>0.752613</td>\n",
       "      <td>0.126316</td>\n",
       "      <td>0.256966</td>\n",
       "      <td>0.247664</td>\n",
       "      <td>0.952542</td>\n",
       "      <td>1</td>\n",
       "    </tr>\n",
       "    <tr>\n",
       "      <th>1</th>\n",
       "      <td>0.806763</td>\n",
       "      <td>0.777003</td>\n",
       "      <td>0.189474</td>\n",
       "      <td>0.176201</td>\n",
       "      <td>0.269470</td>\n",
       "      <td>0.983051</td>\n",
       "      <td>1</td>\n",
       "    </tr>\n",
       "  </tbody>\n",
       "</table>\n",
       "</div>"
      ],
      "text/plain": [
       "         O3       TMP        RH      1/RH       WSP       WDR  class\n",
       "0  0.772947  0.752613  0.126316  0.256966  0.247664  0.952542      1\n",
       "1  0.806763  0.777003  0.189474  0.176201  0.269470  0.983051      1"
      ]
     },
     "execution_count": 4,
     "metadata": {},
     "output_type": "execute_result"
    }
   ],
   "source": [
    "# Select all the attributes to normalize\n",
    "columns_to_normalize = df.columns[:-1]\n",
    "\n",
    "# Normalize between 0 and 1\n",
    "df_normalized = (df[columns_to_normalize] - df[columns_to_normalize].min()) / (df[columns_to_normalize].max() - df[columns_to_normalize].min())\n",
    "\n",
    "# Combine the attributes and the label\n",
    "df_normalized = pd.concat([df_normalized, df[df.columns[-1]]], axis=1)\n",
    "\n",
    "df_normalized.head(2)"
   ]
  },
  {
   "cell_type": "code",
   "execution_count": 5,
   "metadata": {},
   "outputs": [
    {
     "name": "stdout",
     "output_type": "stream",
     "text": [
      "Refined/supervised.csv\n"
     ]
    },
    {
     "data": {
      "image/png": "[encoded data removed]",
      "text/plain": [
       "<Figure size 12x12 with 1 Axes>"
      ]
     },
     "metadata": {},
     "output_type": "display_data"
    }
   ],
   "source": [
    "import os\n",
    "\n",
    "# Generate the images if the folder does not exist\n",
    "if not os.path.exists(images_folder):\n",
    "    #Generate thet images\n",
    "    image_model.generateImages(df_normalized, images_folder)\n",
    "else:\n",
    "    print(\"The images are already generated\")\n",
    "\n",
    "img_paths = os.path.join(images_folder,problem_type+\".csv\")\n",
    "\n",
    "print(img_paths)"
   ]
  },
  {
   "cell_type": "markdown",
   "metadata": {},
   "source": [
    "---\n",
    "<a id=\"section34\"></a>\n",
    "# <font color=\"#004D7F\" size=5> 3.4. Read Images</font>"
   ]
  },
  {
   "cell_type": "markdown",
   "metadata": {},
   "source": [
    "Now, we read the created images "
   ]
  },
  {
   "cell_type": "code",
   "execution_count": 6,
   "metadata": {},
   "outputs": [],
   "source": [
    "imgs = pd.read_csv(img_paths)\n",
    "\n",
    "#imgs[\"images\"]= images_folder + \"\\\\\" + imgs[\"images\"]\n",
    "imgs[\"images\"]= images_folder + \"/\" + imgs[\"images\"]"
   ]
  },
  {
   "cell_type": "markdown",
   "metadata": {},
   "source": [
    "Combine the images and tidy data in the same dataframe, split attributes and objective value"
   ]
  },
  {
   "cell_type": "code",
   "execution_count": 7,
   "metadata": {},
   "outputs": [
    {
     "name": "stdout",
     "output_type": "stream",
     "text": [
      "0        1\n",
      "1        1\n",
      "2        1\n",
      "3        1\n",
      "4        1\n",
      "        ..\n",
      "23804    0\n",
      "23805    0\n",
      "23806    0\n",
      "23807    0\n",
      "23808    0\n",
      "Name: class, Length: 23809, dtype: int64\n"
     ]
    }
   ],
   "source": [
    "combined_dataset = pd.concat([imgs,df_normalized[columns_to_normalize]],axis=1)\n",
    "\n",
    "df_x = combined_dataset.drop(\"class\",axis=1)\n",
    "df_y = combined_dataset[\"class\"]\n",
    "\n",
    "print(df_y)"
   ]
  },
  {
   "cell_type": "markdown",
   "metadata": {
    "id": "_haEKIo7jpD1"
   },
   "source": [
    "---\n",
    "<div style=\"text-align: right\"> <font size=5> <a href=\"#indice\"><i class=\"fa fa-arrow-circle-up\" aria-hidden=\"true\" style=\"color:#004D7F\"></i></a></font></div>\n",
    "\n",
    "---"
   ]
  },
  {
   "cell_type": "markdown",
   "metadata": {
    "id": "uF1lJWbojpD3"
   },
   "source": [
    "<a id=\"section4\"></a>\n",
    "# <font color=\"#004D7F\" size=6> 4. Pre-modelling phase</font>"
   ]
  },
  {
   "cell_type": "code",
   "execution_count": 8,
   "metadata": {},
   "outputs": [],
   "source": [
    "# Depends on the method yo may have to change the value of pixel variable\n",
    "pixel=12"
   ]
  },
  {
   "cell_type": "code",
   "execution_count": 9,
   "metadata": {},
   "outputs": [
    {
     "name": "stdout",
     "output_type": "stream",
     "text": [
      "Images shape:  (12, 12, 3)\n",
      "Attributres:  6\n",
      "Image size (pixels): 12\n"
     ]
    }
   ],
   "source": [
    "import cv2\n",
    "X_train, X_val, y_train, y_val = train_test_split(df_x, df_y, test_size = 0.40, random_state = SEED,stratify=df_y)\n",
    "X_val, X_test, y_val, y_test = train_test_split(X_val, y_val, test_size = 0.50, random_state = SEED,stratify=y_val)\n",
    "\n",
    "#TIDY DATA SPLITTED\n",
    "X_train_num = X_train.drop(\"images\",axis=1)\n",
    "X_val_num = X_val.drop(\"images\",axis=1)\n",
    "X_test_num = X_test.drop(\"images\",axis=1)\n",
    "\n",
    "#IMAGES\n",
    "# For 3 canal (RGB)\n",
    "X_train_img = np.array([cv2.resize(cv2.imread(img),(pixel,pixel)) for img in X_train[\"images\"]])\n",
    "X_val_img = np.array([cv2.resize(cv2.imread(img),(pixel,pixel)) for img in X_val[\"images\"]])\n",
    "X_test_img = np.array([cv2.resize(cv2.imread(img),(pixel,pixel)) for img in X_test[\"images\"]])\n",
    "\n",
    "# For 1 canal (GRAY SCALE)\n",
    "\"\"\"X_train_img = np.array([cv2.imread(img,cv2.IMREAD_GRAYSCALE) for img in X_train[\"images\"]])\n",
    "X_val_img = np.array([cv2.imread(img,cv2.IMREAD_GRAYSCALE) for img in X_val[\"images\"]])\n",
    "X_test_img = np.array([cv2.imread(img,cv2.IMREAD_GRAYSCALE) for img in X_test[\"images\"]])\"\"\"\n",
    "\n",
    "attributes = len(X_train_num.columns)\n",
    "imgs_shape = X_train_img[0].shape\n",
    "\n",
    "print(\"Images shape: \",imgs_shape)\n",
    "print(\"Attributres: \",attributes)\n",
    "pixel=X_train_img[0].shape[0]\n",
    "print(\"Image size (pixels):\", pixel)"
   ]
  },
  {
   "cell_type": "code",
   "execution_count": 10,
   "metadata": {},
   "outputs": [],
   "source": [
    "X_train_img = X_train_img/255\n",
    "X_val_img = X_val_img/255\n",
    "X_test_img = X_test_img/255"
   ]
  },
  {
   "cell_type": "markdown",
   "metadata": {},
   "source": [
    "<a id=\"section5\"></a>\n",
    "# <font color=\"#004D7F\" size=6> 5. Modeling hybrid network</font>"
   ]
  },
  {
   "cell_type": "markdown",
   "metadata": {},
   "source": [
    "---\n",
    "<a id=\"section51\"></a>\n",
    "# <font color=\"#004D7F\" size=5> 5.1. FFNN for tabular data</font>\n",
    "\n",
    "This is an example of a simple FFNN for tabular data. Note that we are not looking for the optimization of the CNN but to show an example of TINTOlib execution."
   ]
  },
  {
   "cell_type": "code",
   "execution_count": 11,
   "metadata": {},
   "outputs": [],
   "source": [
    "dropout = 0.2"
   ]
  },
  {
   "cell_type": "code",
   "execution_count": 12,
   "metadata": {},
   "outputs": [
    {
     "name": "stderr",
     "output_type": "stream",
     "text": [
      "2024-12-13 10:03:10.187621: I metal_plugin/src/device/metal_device.cc:1154] Metal device set to: Apple M3 Pro\n",
      "2024-12-13 10:03:10.187646: I metal_plugin/src/device/metal_device.cc:296] systemMemory: 36.00 GB\n",
      "2024-12-13 10:03:10.187649: I metal_plugin/src/device/metal_device.cc:313] maxCacheSize: 13.50 GB\n",
      "2024-12-13 10:03:10.187662: I tensorflow/core/common_runtime/pluggable_device/pluggable_device_factory.cc:305] Could not identify NUMA node of platform GPU ID 0, defaulting to 0. Your kernel may not have been built with NUMA support.\n",
      "2024-12-13 10:03:10.187673: I tensorflow/core/common_runtime/pluggable_device/pluggable_device_factory.cc:271] Created TensorFlow device (/job:localhost/replica:0/task:0/device:GPU:0 with 0 MB memory) -> physical PluggableDevice (device: 0, name: METAL, pci bus id: <undefined>)\n"
     ]
    }
   ],
   "source": [
    "filters_ffnn = [1024,512,256,128,64,32,16]\n",
    "\n",
    "ff_inputs = Input(shape = (attributes,))\n",
    "\n",
    "# * START BRANCH 1\n",
    "#mlp_1 = Dense(1024, activation='relu')(ff_inputs)\n",
    "#mlp_1 = BatchNormalization()(mlp_1)\n",
    "#mlp_1 = Dropout(dropout)(mlp_1)\n",
    "\n",
    "#mlp_1 = Dense(512, activation='relu')(ff_inputs)\n",
    "#mlp_1 = BatchNormalization()(mlp_1)\n",
    "#mlp_1 = Dropout(dropout)(mlp_1)\n",
    "\n",
    "#mlp_1 = Dense(256, activation='relu')(ff_inputs)\n",
    "#mlp_1 = BatchNormalization()(mlp_1)\n",
    "#mlp_1 = Dropout(dropout)(mlp_1)\n",
    "\n",
    "#mlp_1 = Dense(128, activation='relu')(ff_inputs)\n",
    "#mlp_1 = BatchNormalization()(mlp_1)\n",
    "#mlp_1 = Dropout(dropout)(mlp_1)\n",
    "\n",
    "mlp_1 = Dense(64, activation='relu')(ff_inputs)\n",
    "mlp_1 = BatchNormalization()(mlp_1)\n",
    "mlp_1 = Dropout(dropout)(mlp_1)\n",
    "\n",
    "mlp_1 = Dense(32, activation='relu')(mlp_1)\n",
    "mlp_1 = BatchNormalization()(mlp_1)\n",
    "mlp_1 = Dropout(dropout)(mlp_1)\n",
    "\n",
    "mlp_1 = Dense(16, activation='relu')(mlp_1)\n",
    "mlp_1 = BatchNormalization()(mlp_1)\n",
    "mlp_1 = Dropout(dropout)(mlp_1)\n",
    "\n",
    "# * START BRANCH \n",
    "#mlp_2 = Dense(1024, activation='relu')(ff_inputs)\n",
    "#mlp_2 = BatchNormalization()(mlp_2)\n",
    "#mlp_2 = Dropout(dropout)(mlp_2)\n",
    "\n",
    "#mlp_2 = Dense(512, activation='relu')(ff_inputs)\n",
    "#mlp_2 = BatchNormalization()(mlp_2)\n",
    "#mlp_2 = Dropout(dropout)(mlp_2)\n",
    "\n",
    "#mlp_2 = Dense(256, activation='relu')(ff_inputs)\n",
    "#mlp_2 = BatchNormalization()(mlp_2)\n",
    "#mlp_2 = Dropout(dropout)(mlp_2)\n",
    "\n",
    "#mlp_2 = Dense(128, activation='relu')(ff_inputs)\n",
    "#mlp_2 = BatchNormalization()(mlp_2)\n",
    "#mlp_2 = Dropout(dropout)(mlp_2)\n",
    "\n",
    "mlp_2 = Dense(64, activation='relu')(ff_inputs)\n",
    "mlp_2 = BatchNormalization()(mlp_2)\n",
    "mlp_2 = Dropout(dropout)(mlp_2)\n",
    "\n",
    "mlp_2 = Dense(32, activation='relu')(mlp_2)\n",
    "mlp_2 = BatchNormalization()(mlp_2)\n",
    "mlp_2 = Dropout(dropout)(mlp_2)\n",
    "\n",
    "mlp_2 = Dense(16, activation='relu')(mlp_2)\n",
    "mlp_2 = BatchNormalization()(mlp_2)\n",
    "mlp_2 = Dropout(dropout)(mlp_2)\n",
    "\n",
    "\n",
    "merged_tabular = Concatenate(axis=1)([mlp_1, mlp_2])\n",
    "\n",
    "\n",
    "ff_model = Model(inputs = ff_inputs, outputs = merged_tabular)"
   ]
  },
  {
   "cell_type": "markdown",
   "metadata": {},
   "source": [
    "---\n",
    "<a id=\"section52\"></a>\n",
    "# <font color=\"#004D7F\" size=5> 5.2. CNN for TINTOlib images</font>\n",
    "\n",
    "This is an example of a simple CNN for TINTOlib images. Note that we are not looking for the optimization of the CNN but to show an example of TINTOlib execution."
   ]
  },
  {
   "cell_type": "code",
   "execution_count": 36,
   "metadata": {},
   "outputs": [],
   "source": [
    "#Input\n",
    "#input_shape = Input(shape=imgs_shape)\n",
    "input_shape = Input(shape=(pixel, pixel, 3))\n",
    "\n",
    "#Inicio de rama 1\n",
    "tower_1 = Conv2D(16, (3,3), activation='relu',padding=\"same\")(input_shape)\n",
    "tower_1 = BatchNormalization()(tower_1)\n",
    "#tower_1 = Activation('relu')(tower_1)\n",
    "tower_1 = MaxPooling2D(2,2)(tower_1)\n",
    "tower_1 = Dropout(dropout)(tower_1)\n",
    "        \n",
    "tower_1 = Conv2D(32, (3,3), activation='relu',padding=\"same\")(tower_1)\n",
    "tower_1 = BatchNormalization()(tower_1)\n",
    "#tower_1 = Activation('relu')(tower_1)\n",
    "tower_1 = MaxPooling2D(2,2)(tower_1)\n",
    "tower_1 = Dropout(dropout)(tower_1)\n",
    "        \n",
    "#tower_1 = Conv2D(64, (3,3), activation='relu',padding=\"same\")(tower_1)\n",
    "#tower_1 = BatchNormalization()(tower_1)\n",
    "#tower_1 = Activation('relu')(tower_1)\n",
    "#tower_1 = MaxPooling2D(2,2)(tower_1)\n",
    "#tower_1 = Dropout(dropout)(tower_1)\n",
    "        \n",
    "#tower_1 = Conv2D(64, (3,3), activation='relu',padding=\"same\")(tower_1)\n",
    "#tower_1 = BatchNormalization()(tower_1)\n",
    "#tower_1 = Activation('relu')(tower_1)\n",
    "#tower_1 = MaxPooling2D(2,2)(tower_1)\n",
    "#tower_1 = Dropout(dropout)(tower_1)\n",
    "#Fin de rama 1\n",
    "        \n",
    "#Inicio de rama 2\n",
    "tower_2 = Conv2D(16, (5,5), activation='relu',padding=\"same\")(input_shape)\n",
    "tower_2 = BatchNormalization()(tower_2)\n",
    "#tower_2 = Activation('relu')(tower_2)\n",
    "tower_2 = AveragePooling2D(2,2)(tower_2)\n",
    "tower_2 = Dropout(dropout)(tower_2)\n",
    "        \n",
    "tower_2 = Conv2D(32, (5,5), activation='relu',padding=\"same\")(tower_2)\n",
    "tower_2 = BatchNormalization()(tower_2)\n",
    "#tower_2 = Activation('relu')(tower_2)\n",
    "tower_2 = AveragePooling2D(2,2)(tower_2)\n",
    "tower_2 = Dropout(dropout)(tower_2)\n",
    "\n",
    "#tower_2 = Conv2D(64, (5,5), padding=\"same\")(tower_2)\n",
    "#tower_2 = BatchNormalization()(tower_2)\n",
    "#tower_2 = Activation('relu')(tower_2)\n",
    "#tower_2 = AveragePooling2D(2,2)(tower_2)\n",
    "#tower_2 = Dropout(dropout)(tower_2)\n",
    "\n",
    "#Concatenate CNN branches\n",
    "merged = Concatenate(axis=1)([tower_1, tower_2])\n",
    "\n",
    "#Flatten\n",
    "merged = Flatten()(merged)\n",
    "\n",
    "#Dense layers\n",
    "#out = Dense(256, activation='relu')(merged)\n",
    "#out = Dropout(dropout)(merged)\n",
    "out = Dense(128, activation='sigmoid')(merged)\n",
    "out = Dropout(dropout)(out)\n",
    "out = Dense(64, activation='sigmoid')(out)\n",
    "out = Dropout(dropout)(out)\n",
    "out = Dense(32, activation='sigmoid')(out)\n",
    "out = Dropout(dropout)(out)\n",
    "\n",
    "cnn_model = Model(input_shape, out)"
   ]
  },
  {
   "cell_type": "markdown",
   "metadata": {},
   "source": [
    "---\n",
    "<a id=\"section53\"></a>\n",
    "# <font color=\"#004D7F\" size=5> 5.3. Concatenate branches</font>\n",
    "\n",
    "Finally, we must concatenate the output of the CNN branch with the output of the FFNN branch in a final FFNN that will give the predictions."
   ]
  },
  {
   "cell_type": "code",
   "execution_count": 37,
   "metadata": {},
   "outputs": [],
   "source": [
    "combinedInput = concatenate([ff_model.output, cnn_model.output])\n",
    "x = Dense(128, activation=\"relu\")(combinedInput)\n",
    "x = BatchNormalization()(x)\n",
    "x = Dropout(dropout)(x)\n",
    "x = Dense(64, activation=\"relu\")(x)\n",
    "x = BatchNormalization()(x)\n",
    "x = Dropout(dropout)(x)\n",
    "x = Dense(32, activation=\"sigmoid\")(x)\n",
    "x = BatchNormalization()(x)\n",
    "x = Dropout(dropout)(x)\n",
    "x = Dense(1, activation=\"sigmoid\")(x)\n",
    "\n",
    "model = Model(inputs=[ff_model.input, cnn_model.input], outputs=x)"
   ]
  },
  {
   "cell_type": "markdown",
   "metadata": {},
   "source": [
    "---\n",
    "<a id=\"section54\"></a>\n",
    "# <font color=\"#004D7F\" size=5> 5.4. Metrics</font>\n",
    "\n",
    "Define metrics and some hyperparameters"
   ]
  },
  {
   "cell_type": "code",
   "execution_count": 38,
   "metadata": {},
   "outputs": [],
   "source": [
    "METRICS = [\n",
    "    tf.keras.metrics.TruePositives(name = 'tp'),\n",
    "    tf.keras.metrics.FalsePositives(name = 'fp'),\n",
    "    tf.keras.metrics.TrueNegatives(name = 'tn'),\n",
    "    tf.keras.metrics.FalseNegatives(name = 'fn'), \n",
    "    tf.keras.metrics.BinaryAccuracy(name ='accuracy'),\n",
    "    tf.keras.metrics.Precision(name = 'precision'),\n",
    "    tf.keras.metrics.Recall(name = 'recall'),\n",
    "    tf.keras.metrics.AUC(name = 'auc'),\n",
    "]"
   ]
  },
  {
   "cell_type": "markdown",
   "metadata": {},
   "source": [
    "---\n",
    "<a id=\"section55\"></a>\n",
    "# <font color=\"#004D7F\" size=5> 5.5. Compile and fit</font>\n",
    "\n",
    "Note to specify the **loss depending** on whether you have a binary or multiclass classification problem."
   ]
  },
  {
   "cell_type": "code",
   "execution_count": 39,
   "metadata": {},
   "outputs": [],
   "source": [
    "#HYPERPARAMETERS\n",
    "opt = Adamax()\n",
    "#Adam(learning_rate=1e-3)"
   ]
  },
  {
   "cell_type": "code",
   "execution_count": 40,
   "metadata": {},
   "outputs": [],
   "source": [
    "model.compile(\n",
    "    loss=\"binary_crossentropy\", \n",
    "    optimizer=opt,\n",
    "    metrics = METRICS\n",
    ")\n",
    "epochs = 100"
   ]
  },
  {
   "cell_type": "code",
   "execution_count": 41,
   "metadata": {},
   "outputs": [],
   "source": [
    "# Configure EarlyStopping for binary classification\n",
    "early_stopper = tf.keras.callbacks.EarlyStopping(\n",
    "    monitor='val_loss',  # Monitor the validation accuracy\n",
    "    min_delta=0.001,         # Minimum change in the monitored quantity to qualify as an improvement\n",
    "    patience=20,             # Number of epochs with no improvement after which training will be stopped\n",
    "    verbose=1,               # Log when training stops\n",
    "    mode='min',              # Maximize the accuracy; min the loss\n",
    "    restore_best_weights=True  # Restore model weights from the epoch with the best value of the monitored quantity\n",
    ")"
   ]
  },
  {
   "cell_type": "code",
   "execution_count": 42,
   "metadata": {
    "scrolled": true
   },
   "outputs": [
    {
     "name": "stdout",
     "output_type": "stream",
     "text": [
      "Epoch 1/100\n"
     ]
    },
    {
     "name": "stderr",
     "output_type": "stream",
     "text": [
      "/Users/manwest/Library/Python/3.9/lib/python/site-packages/keras/src/models/functional.py:225: UserWarning: The structure of `inputs` doesn't match the expected structure: ['keras_tensor', 'keras_tensor_56']. Received: the structure of inputs=('*', '*')\n",
      "  warnings.warn(\n"
     ]
    },
    {
     "name": "stdout",
     "output_type": "stream",
     "text": [
      "\u001b[1m447/447\u001b[0m \u001b[32m━━━━━━━━━━━━━━━━━━━━\u001b[0m\u001b[37m\u001b[0m \u001b[1m0s\u001b[0m 68ms/step - accuracy: 0.8358 - auc: 0.6492 - fn: 465.7204 - fp: 444.4743 - loss: 0.4001 - precision: 0.1691 - recall: 0.2265 - tn: 6162.9819 - tp: 94.7808"
     ]
    },
    {
     "name": "stderr",
     "output_type": "stream",
     "text": [
      "/Users/manwest/Library/Python/3.9/lib/python/site-packages/keras/src/models/functional.py:225: UserWarning: The structure of `inputs` doesn't match the expected structure: ['keras_tensor', 'keras_tensor_56']. Received: the structure of inputs=('*', '*')\n",
      "  warnings.warn(\n"
     ]
    },
    {
     "name": "stdout",
     "output_type": "stream",
     "text": [
      "\u001b[1m447/447\u001b[0m \u001b[32m━━━━━━━━━━━━━━━━━━━━\u001b[0m\u001b[37m\u001b[0m \u001b[1m39s\u001b[0m 73ms/step - accuracy: 0.8359 - auc: 0.6493 - fn: 466.8192 - fp: 444.6875 - loss: 0.3999 - precision: 0.1692 - recall: 0.2263 - tn: 6177.4712 - tp: 94.8661 - val_accuracy: 0.9315 - val_auc: 0.8279 - val_fn: 323.0000 - val_fp: 3.0000 - val_loss: 0.2067 - val_precision: 0.9318 - val_recall: 0.1126 - val_tn: 4395.0000 - val_tp: 41.0000\n",
      "Epoch 2/100\n",
      "\u001b[1m447/447\u001b[0m \u001b[32m━━━━━━━━━━━━━━━━━━━━\u001b[0m\u001b[37m\u001b[0m \u001b[1m31s\u001b[0m 69ms/step - accuracy: 0.9198 - auc: 0.7678 - fn: 500.1540 - fp: 74.8147 - loss: 0.2409 - precision: 0.4503 - recall: 0.1168 - tn: 6547.3438 - tp: 61.5312 - val_accuracy: 0.9318 - val_auc: 0.8291 - val_fn: 320.0000 - val_fp: 5.0000 - val_loss: 0.2082 - val_precision: 0.8980 - val_recall: 0.1209 - val_tn: 4393.0000 - val_tp: 44.0000\n",
      "Epoch 3/100\n",
      "\u001b[1m447/447\u001b[0m \u001b[32m━━━━━━━━━━━━━━━━━━━━\u001b[0m\u001b[37m\u001b[0m \u001b[1m31s\u001b[0m 69ms/step - accuracy: 0.9212 - auc: 0.7719 - fn: 505.9866 - fp: 55.6004 - loss: 0.2381 - precision: 0.4817 - recall: 0.0984 - tn: 6566.5581 - tp: 55.6987 - val_accuracy: 0.9301 - val_auc: 0.8285 - val_fn: 331.0000 - val_fp: 2.0000 - val_loss: 0.2084 - val_precision: 0.9429 - val_recall: 0.0907 - val_tn: 4396.0000 - val_tp: 33.0000\n",
      "Epoch 4/100\n",
      "\u001b[1m447/447\u001b[0m \u001b[32m━━━━━━━━━━━━━━━━━━━━\u001b[0m\u001b[37m\u001b[0m \u001b[1m31s\u001b[0m 69ms/step - accuracy: 0.9238 - auc: 0.7788 - fn: 501.5402 - fp: 50.1696 - loss: 0.2338 - precision: 0.5767 - recall: 0.1060 - tn: 6571.9888 - tp: 60.1451 - val_accuracy: 0.9355 - val_auc: 0.8371 - val_fn: 295.0000 - val_fp: 12.0000 - val_loss: 0.2039 - val_precision: 0.8519 - val_recall: 0.1896 - val_tn: 4386.0000 - val_tp: 69.0000\n",
      "Epoch 5/100\n",
      "\u001b[1m447/447\u001b[0m \u001b[32m━━━━━━━━━━━━━━━━━━━━\u001b[0m\u001b[37m\u001b[0m \u001b[1m31s\u001b[0m 70ms/step - accuracy: 0.9252 - auc: 0.7982 - fn: 509.0938 - fp: 35.0647 - loss: 0.2273 - precision: 0.6468 - recall: 0.0996 - tn: 6587.0938 - tp: 52.5915 - val_accuracy: 0.9309 - val_auc: 0.8331 - val_fn: 325.0000 - val_fp: 4.0000 - val_loss: 0.2065 - val_precision: 0.9070 - val_recall: 0.1071 - val_tn: 4394.0000 - val_tp: 39.0000\n",
      "Epoch 6/100\n",
      "\u001b[1m447/447\u001b[0m \u001b[32m━━━━━━━━━━━━━━━━━━━━\u001b[0m\u001b[37m\u001b[0m \u001b[1m31s\u001b[0m 68ms/step - accuracy: 0.9227 - auc: 0.8052 - fn: 508.4777 - fp: 41.3973 - loss: 0.2248 - precision: 0.5364 - recall: 0.0930 - tn: 6580.7612 - tp: 53.2076 - val_accuracy: 0.9322 - val_auc: 0.8071 - val_fn: 255.0000 - val_fp: 68.0000 - val_loss: 0.2211 - val_precision: 0.6158 - val_recall: 0.2995 - val_tn: 4330.0000 - val_tp: 109.0000\n",
      "Epoch 7/100\n",
      "\u001b[1m447/447\u001b[0m \u001b[32m━━━━━━━━━━━━━━━━━━━━\u001b[0m\u001b[37m\u001b[0m \u001b[1m31s\u001b[0m 69ms/step - accuracy: 0.9211 - auc: 0.8079 - fn: 511.8281 - fp: 49.5625 - loss: 0.2247 - precision: 0.4801 - recall: 0.0916 - tn: 6572.5962 - tp: 49.8571 - val_accuracy: 0.9282 - val_auc: 0.8382 - val_fn: 342.0000 - val_fp: 0.0000e+00 - val_loss: 0.2088 - val_precision: 1.0000 - val_recall: 0.0604 - val_tn: 4398.0000 - val_tp: 22.0000\n",
      "Epoch 8/100\n",
      "\u001b[1m447/447\u001b[0m \u001b[32m━━━━━━━━━━━━━━━━━━━━\u001b[0m\u001b[37m\u001b[0m \u001b[1m32s\u001b[0m 71ms/step - accuracy: 0.9251 - auc: 0.8086 - fn: 506.1049 - fp: 31.9263 - loss: 0.2228 - precision: 0.6249 - recall: 0.1008 - tn: 6590.2319 - tp: 55.5804 - val_accuracy: 0.9311 - val_auc: 0.8381 - val_fn: 320.0000 - val_fp: 8.0000 - val_loss: 0.2062 - val_precision: 0.8462 - val_recall: 0.1209 - val_tn: 4390.0000 - val_tp: 44.0000\n",
      "Epoch 9/100\n",
      "\u001b[1m447/447\u001b[0m \u001b[32m━━━━━━━━━━━━━━━━━━━━\u001b[0m\u001b[37m\u001b[0m \u001b[1m35s\u001b[0m 79ms/step - accuracy: 0.9241 - auc: 0.8049 - fn: 501.4196 - fp: 42.7991 - loss: 0.2229 - precision: 0.5831 - recall: 0.1063 - tn: 6579.3594 - tp: 60.2656 - val_accuracy: 0.9370 - val_auc: 0.8374 - val_fn: 281.0000 - val_fp: 19.0000 - val_loss: 0.2016 - val_precision: 0.8137 - val_recall: 0.2280 - val_tn: 4379.0000 - val_tp: 83.0000\n",
      "Epoch 10/100\n",
      "\u001b[1m447/447\u001b[0m \u001b[32m━━━━━━━━━━━━━━━━━━━━\u001b[0m\u001b[37m\u001b[0m \u001b[1m34s\u001b[0m 77ms/step - accuracy: 0.9252 - auc: 0.8135 - fn: 490.2522 - fp: 47.6272 - loss: 0.2200 - precision: 0.5987 - recall: 0.1314 - tn: 6574.5312 - tp: 71.4330 - val_accuracy: 0.9328 - val_auc: 0.8358 - val_fn: 301.0000 - val_fp: 19.0000 - val_loss: 0.2050 - val_precision: 0.7683 - val_recall: 0.1731 - val_tn: 4379.0000 - val_tp: 63.0000\n",
      "Epoch 11/100\n",
      "\u001b[1m447/447\u001b[0m \u001b[32m━━━━━━━━━━━━━━━━━━━━\u001b[0m\u001b[37m\u001b[0m \u001b[1m35s\u001b[0m 78ms/step - accuracy: 0.9225 - auc: 0.8073 - fn: 508.5089 - fp: 42.1384 - loss: 0.2233 - precision: 0.5266 - recall: 0.0918 - tn: 6580.0200 - tp: 53.1763 - val_accuracy: 0.9345 - val_auc: 0.8423 - val_fn: 298.0000 - val_fp: 14.0000 - val_loss: 0.2023 - val_precision: 0.8250 - val_recall: 0.1813 - val_tn: 4384.0000 - val_tp: 66.0000\n",
      "Epoch 12/100\n",
      "\u001b[1m447/447\u001b[0m \u001b[32m━━━━━━━━━━━━━━━━━━━━\u001b[0m\u001b[37m\u001b[0m \u001b[1m35s\u001b[0m 79ms/step - accuracy: 0.9259 - auc: 0.8174 - fn: 486.1205 - fp: 48.2054 - loss: 0.2200 - precision: 0.6218 - recall: 0.1313 - tn: 6573.9531 - tp: 75.5647 - val_accuracy: 0.9351 - val_auc: 0.8315 - val_fn: 292.0000 - val_fp: 17.0000 - val_loss: 0.2058 - val_precision: 0.8090 - val_recall: 0.1978 - val_tn: 4381.0000 - val_tp: 72.0000\n",
      "Epoch 13/100\n",
      "\u001b[1m447/447\u001b[0m \u001b[32m━━━━━━━━━━━━━━━━━━━━\u001b[0m\u001b[37m\u001b[0m \u001b[1m35s\u001b[0m 78ms/step - accuracy: 0.9250 - auc: 0.8031 - fn: 485.1317 - fp: 46.0848 - loss: 0.2236 - precision: 0.5927 - recall: 0.1355 - tn: 6576.0737 - tp: 76.5536 - val_accuracy: 0.9318 - val_auc: 0.8312 - val_fn: 309.0000 - val_fp: 16.0000 - val_loss: 0.2090 - val_precision: 0.7746 - val_recall: 0.1511 - val_tn: 4382.0000 - val_tp: 55.0000\n",
      "Epoch 14/100\n",
      "\u001b[1m447/447\u001b[0m \u001b[32m━━━━━━━━━━━━━━━━━━━━\u001b[0m\u001b[37m\u001b[0m \u001b[1m34s\u001b[0m 77ms/step - accuracy: 0.9277 - auc: 0.8155 - fn: 475.5536 - fp: 49.0647 - loss: 0.2184 - precision: 0.6619 - recall: 0.1577 - tn: 6573.0938 - tp: 86.1317 - val_accuracy: 0.9353 - val_auc: 0.8425 - val_fn: 286.0000 - val_fp: 22.0000 - val_loss: 0.2012 - val_precision: 0.7800 - val_recall: 0.2143 - val_tn: 4376.0000 - val_tp: 78.0000\n",
      "Epoch 15/100\n",
      "\u001b[1m447/447\u001b[0m \u001b[32m━━━━━━━━━━━━━━━━━━━━\u001b[0m\u001b[37m\u001b[0m \u001b[1m41s\u001b[0m 92ms/step - accuracy: 0.9237 - auc: 0.8121 - fn: 490.3393 - fp: 59.5112 - loss: 0.2209 - precision: 0.5536 - recall: 0.1307 - tn: 6562.6475 - tp: 71.3460 - val_accuracy: 0.9343 - val_auc: 0.8377 - val_fn: 302.0000 - val_fp: 11.0000 - val_loss: 0.2039 - val_precision: 0.8493 - val_recall: 0.1703 - val_tn: 4387.0000 - val_tp: 62.0000\n",
      "Epoch 16/100\n",
      "\u001b[1m447/447\u001b[0m \u001b[32m━━━━━━━━━━━━━━━━━━━━\u001b[0m\u001b[37m\u001b[0m \u001b[1m41s\u001b[0m 92ms/step - accuracy: 0.9245 - auc: 0.8145 - fn: 478.8170 - fp: 62.2768 - loss: 0.2197 - precision: 0.5594 - recall: 0.1519 - tn: 6559.8818 - tp: 82.8683 - val_accuracy: 0.9360 - val_auc: 0.8254 - val_fn: 277.0000 - val_fp: 28.0000 - val_loss: 0.2086 - val_precision: 0.7565 - val_recall: 0.2390 - val_tn: 4370.0000 - val_tp: 87.0000\n",
      "Epoch 17/100\n",
      "\u001b[1m447/447\u001b[0m \u001b[32m━━━━━━━━━━━━━━━━━━━━\u001b[0m\u001b[37m\u001b[0m \u001b[1m43s\u001b[0m 96ms/step - accuracy: 0.9261 - auc: 0.8105 - fn: 491.2991 - fp: 38.6317 - loss: 0.2206 - precision: 0.6334 - recall: 0.1342 - tn: 6583.5269 - tp: 70.3862 - val_accuracy: 0.9351 - val_auc: 0.8387 - val_fn: 296.0000 - val_fp: 13.0000 - val_loss: 0.2037 - val_precision: 0.8395 - val_recall: 0.1868 - val_tn: 4385.0000 - val_tp: 68.0000\n",
      "Epoch 18/100\n",
      "\u001b[1m447/447\u001b[0m \u001b[32m━━━━━━━━━━━━━━━━━━━━\u001b[0m\u001b[37m\u001b[0m \u001b[1m44s\u001b[0m 98ms/step - accuracy: 0.9251 - auc: 0.8143 - fn: 489.6094 - fp: 44.5312 - loss: 0.2197 - precision: 0.6004 - recall: 0.1267 - tn: 6577.6274 - tp: 72.0759 - val_accuracy: 0.9326 - val_auc: 0.8412 - val_fn: 305.0000 - val_fp: 16.0000 - val_loss: 0.2046 - val_precision: 0.7867 - val_recall: 0.1621 - val_tn: 4382.0000 - val_tp: 59.0000\n",
      "Epoch 19/100\n",
      "\u001b[1m447/447\u001b[0m \u001b[32m━━━━━━━━━━━━━━━━━━━━\u001b[0m\u001b[37m\u001b[0m \u001b[1m43s\u001b[0m 97ms/step - accuracy: 0.9269 - auc: 0.8207 - fn: 478.5804 - fp: 53.2366 - loss: 0.2162 - precision: 0.6418 - recall: 0.1513 - tn: 6568.9219 - tp: 83.1049 - val_accuracy: 0.9343 - val_auc: 0.8411 - val_fn: 303.0000 - val_fp: 10.0000 - val_loss: 0.2039 - val_precision: 0.8592 - val_recall: 0.1676 - val_tn: 4388.0000 - val_tp: 61.0000\n",
      "Epoch 20/100\n",
      "\u001b[1m447/447\u001b[0m \u001b[32m━━━━━━━━━━━━━━━━━━━━\u001b[0m\u001b[37m\u001b[0m \u001b[1m44s\u001b[0m 97ms/step - accuracy: 0.9268 - auc: 0.8309 - fn: 483.2723 - fp: 46.8750 - loss: 0.2145 - precision: 0.6396 - recall: 0.1463 - tn: 6575.2837 - tp: 78.4129 - val_accuracy: 0.9345 - val_auc: 0.8408 - val_fn: 279.0000 - val_fp: 33.0000 - val_loss: 0.2031 - val_precision: 0.7203 - val_recall: 0.2335 - val_tn: 4365.0000 - val_tp: 85.0000\n",
      "Epoch 21/100\n",
      "\u001b[1m447/447\u001b[0m \u001b[32m━━━━━━━━━━━━━━━━━━━━\u001b[0m\u001b[37m\u001b[0m \u001b[1m44s\u001b[0m 98ms/step - accuracy: 0.9281 - auc: 0.8159 - fn: 481.6964 - fp: 37.5647 - loss: 0.2187 - precision: 0.7005 - recall: 0.1428 - tn: 6584.5938 - tp: 79.9888 - val_accuracy: 0.9355 - val_auc: 0.8421 - val_fn: 283.0000 - val_fp: 24.0000 - val_loss: 0.2004 - val_precision: 0.7714 - val_recall: 0.2225 - val_tn: 4374.0000 - val_tp: 81.0000\n",
      "Epoch 22/100\n",
      "\u001b[1m447/447\u001b[0m \u001b[32m━━━━━━━━━━━━━━━━━━━━\u001b[0m\u001b[37m\u001b[0m \u001b[1m41s\u001b[0m 93ms/step - accuracy: 0.9285 - auc: 0.8216 - fn: 465.7143 - fp: 47.8080 - loss: 0.2142 - precision: 0.6632 - recall: 0.1683 - tn: 6574.3506 - tp: 95.9710 - val_accuracy: 0.9307 - val_auc: 0.8295 - val_fn: 291.0000 - val_fp: 39.0000 - val_loss: 0.2085 - val_precision: 0.6518 - val_recall: 0.2005 - val_tn: 4359.0000 - val_tp: 73.0000\n",
      "Epoch 23/100\n",
      "\u001b[1m447/447\u001b[0m \u001b[32m━━━━━━━━━━━━━━━━━━━━\u001b[0m\u001b[37m\u001b[0m \u001b[1m41s\u001b[0m 91ms/step - accuracy: 0.9271 - auc: 0.8202 - fn: 473.5179 - fp: 52.9978 - loss: 0.2171 - precision: 0.6366 - recall: 0.1563 - tn: 6569.1606 - tp: 88.1674 - val_accuracy: 0.9357 - val_auc: 0.8432 - val_fn: 287.0000 - val_fp: 19.0000 - val_loss: 0.2012 - val_precision: 0.8021 - val_recall: 0.2115 - val_tn: 4379.0000 - val_tp: 77.0000\n",
      "Epoch 24/100\n",
      "\u001b[1m447/447\u001b[0m \u001b[32m━━━━━━━━━━━━━━━━━━━━\u001b[0m\u001b[37m\u001b[0m \u001b[1m40s\u001b[0m 90ms/step - accuracy: 0.9276 - auc: 0.8269 - fn: 464.6384 - fp: 56.4085 - loss: 0.2136 - precision: 0.6289 - recall: 0.1818 - tn: 6565.7500 - tp: 97.0469 - val_accuracy: 0.9355 - val_auc: 0.8424 - val_fn: 279.0000 - val_fp: 28.0000 - val_loss: 0.2019 - val_precision: 0.7522 - val_recall: 0.2335 - val_tn: 4370.0000 - val_tp: 85.0000\n",
      "Epoch 25/100\n",
      "\u001b[1m447/447\u001b[0m \u001b[32m━━━━━━━━━━━━━━━━━━━━\u001b[0m\u001b[37m\u001b[0m \u001b[1m41s\u001b[0m 92ms/step - accuracy: 0.9281 - auc: 0.8185 - fn: 471.3192 - fp: 44.8281 - loss: 0.2166 - precision: 0.6637 - recall: 0.1591 - tn: 6577.3306 - tp: 90.3661 - val_accuracy: 0.9351 - val_auc: 0.8415 - val_fn: 298.0000 - val_fp: 11.0000 - val_loss: 0.2018 - val_precision: 0.8571 - val_recall: 0.1813 - val_tn: 4387.0000 - val_tp: 66.0000\n",
      "Epoch 26/100\n",
      "\u001b[1m447/447\u001b[0m \u001b[32m━━━━━━━━━━━━━━━━━━━━\u001b[0m\u001b[37m\u001b[0m \u001b[1m41s\u001b[0m 91ms/step - accuracy: 0.9270 - auc: 0.8266 - fn: 465.5536 - fp: 61.1384 - loss: 0.2133 - precision: 0.6177 - recall: 0.1701 - tn: 6561.0200 - tp: 96.1317 - val_accuracy: 0.9381 - val_auc: 0.8407 - val_fn: 275.0000 - val_fp: 20.0000 - val_loss: 0.1990 - val_precision: 0.8165 - val_recall: 0.2445 - val_tn: 4378.0000 - val_tp: 89.0000\n",
      "Epoch 27/100\n",
      "\u001b[1m447/447\u001b[0m \u001b[32m━━━━━━━━━━━━━━━━━━━━\u001b[0m\u001b[37m\u001b[0m \u001b[1m44s\u001b[0m 97ms/step - accuracy: 0.9279 - auc: 0.8229 - fn: 469.6004 - fp: 50.4955 - loss: 0.2158 - precision: 0.6485 - recall: 0.1712 - tn: 6571.6631 - tp: 92.0848 - val_accuracy: 0.9341 - val_auc: 0.8406 - val_fn: 280.0000 - val_fp: 34.0000 - val_loss: 0.2006 - val_precision: 0.7119 - val_recall: 0.2308 - val_tn: 4364.0000 - val_tp: 84.0000\n",
      "Epoch 28/100\n",
      "\u001b[1m447/447\u001b[0m \u001b[32m━━━━━━━━━━━━━━━━━━━━\u001b[0m\u001b[37m\u001b[0m \u001b[1m42s\u001b[0m 95ms/step - accuracy: 0.9283 - auc: 0.8239 - fn: 461.3661 - fp: 48.5781 - loss: 0.2137 - precision: 0.6520 - recall: 0.1820 - tn: 6573.5806 - tp: 100.3192 - val_accuracy: 0.9351 - val_auc: 0.8382 - val_fn: 288.0000 - val_fp: 21.0000 - val_loss: 0.2009 - val_precision: 0.7835 - val_recall: 0.2088 - val_tn: 4377.0000 - val_tp: 76.0000\n",
      "Epoch 29/100\n",
      "\u001b[1m447/447\u001b[0m \u001b[32m━━━━━━━━━━━━━━━━━━━━\u001b[0m\u001b[37m\u001b[0m \u001b[1m43s\u001b[0m 95ms/step - accuracy: 0.9282 - auc: 0.8253 - fn: 469.8371 - fp: 48.0112 - loss: 0.2147 - precision: 0.6592 - recall: 0.1701 - tn: 6574.1475 - tp: 91.8482 - val_accuracy: 0.9318 - val_auc: 0.8341 - val_fn: 293.0000 - val_fp: 32.0000 - val_loss: 0.2054 - val_precision: 0.6893 - val_recall: 0.1951 - val_tn: 4366.0000 - val_tp: 71.0000\n",
      "Epoch 30/100\n",
      "\u001b[1m447/447\u001b[0m \u001b[32m━━━━━━━━━━━━━━━━━━━━\u001b[0m\u001b[37m\u001b[0m \u001b[1m43s\u001b[0m 97ms/step - accuracy: 0.9262 - auc: 0.8219 - fn: 478.1250 - fp: 49.3058 - loss: 0.2159 - precision: 0.6151 - recall: 0.1477 - tn: 6572.8525 - tp: 83.5603 - val_accuracy: 0.9353 - val_auc: 0.8381 - val_fn: 282.0000 - val_fp: 26.0000 - val_loss: 0.2004 - val_precision: 0.7593 - val_recall: 0.2253 - val_tn: 4372.0000 - val_tp: 82.0000\n",
      "Epoch 31/100\n",
      "\u001b[1m447/447\u001b[0m \u001b[32m━━━━━━━━━━━━━━━━━━━━\u001b[0m\u001b[37m\u001b[0m \u001b[1m43s\u001b[0m 97ms/step - accuracy: 0.9286 - auc: 0.8269 - fn: 465.5112 - fp: 46.5290 - loss: 0.2149 - precision: 0.6652 - recall: 0.1700 - tn: 6575.6294 - tp: 96.1741 - val_accuracy: 0.9355 - val_auc: 0.8408 - val_fn: 292.0000 - val_fp: 15.0000 - val_loss: 0.1998 - val_precision: 0.8276 - val_recall: 0.1978 - val_tn: 4383.0000 - val_tp: 72.0000\n",
      "Epoch 32/100\n",
      "\u001b[1m447/447\u001b[0m \u001b[32m━━━━━━━━━━━━━━━━━━━━\u001b[0m\u001b[37m\u001b[0m \u001b[1m43s\u001b[0m 97ms/step - accuracy: 0.9283 - auc: 0.8277 - fn: 470.3571 - fp: 47.3996 - loss: 0.2136 - precision: 0.6645 - recall: 0.1696 - tn: 6574.7588 - tp: 91.3281 - val_accuracy: 0.9360 - val_auc: 0.8410 - val_fn: 291.0000 - val_fp: 14.0000 - val_loss: 0.2008 - val_precision: 0.8391 - val_recall: 0.2005 - val_tn: 4384.0000 - val_tp: 73.0000\n",
      "Epoch 33/100\n",
      "\u001b[1m447/447\u001b[0m \u001b[32m━━━━━━━━━━━━━━━━━━━━\u001b[0m\u001b[37m\u001b[0m \u001b[1m53s\u001b[0m 119ms/step - accuracy: 0.9297 - auc: 0.8344 - fn: 460.8683 - fp: 48.2009 - loss: 0.2119 - precision: 0.6897 - recall: 0.1842 - tn: 6573.9575 - tp: 100.8170 - val_accuracy: 0.9313 - val_auc: 0.8362 - val_fn: 271.0000 - val_fp: 56.0000 - val_loss: 0.2032 - val_precision: 0.6242 - val_recall: 0.2555 - val_tn: 4342.0000 - val_tp: 93.0000\n",
      "Epoch 34/100\n",
      "\u001b[1m447/447\u001b[0m \u001b[32m━━━━━━━━━━━━━━━━━━━━\u001b[0m\u001b[37m\u001b[0m \u001b[1m54s\u001b[0m 120ms/step - accuracy: 0.9263 - auc: 0.8236 - fn: 464.1786 - fp: 65.1562 - loss: 0.2152 - precision: 0.5968 - recall: 0.1778 - tn: 6557.0024 - tp: 97.5067 - val_accuracy: 0.9360 - val_auc: 0.8393 - val_fn: 285.0000 - val_fp: 20.0000 - val_loss: 0.2018 - val_precision: 0.7980 - val_recall: 0.2170 - val_tn: 4378.0000 - val_tp: 79.0000\n",
      "Epoch 35/100\n",
      "\u001b[1m447/447\u001b[0m \u001b[32m━━━━━━━━━━━━━━━━━━━━\u001b[0m\u001b[37m\u001b[0m \u001b[1m47s\u001b[0m 106ms/step - accuracy: 0.9291 - auc: 0.8301 - fn: 459.9799 - fp: 48.5737 - loss: 0.2131 - precision: 0.6716 - recall: 0.1847 - tn: 6573.5850 - tp: 101.7054 - val_accuracy: 0.9364 - val_auc: 0.8441 - val_fn: 278.0000 - val_fp: 25.0000 - val_loss: 0.1979 - val_precision: 0.7748 - val_recall: 0.2363 - val_tn: 4373.0000 - val_tp: 86.0000\n",
      "Epoch 36/100\n",
      "\u001b[1m447/447\u001b[0m \u001b[32m━━━━━━━━━━━━━━━━━━━━\u001b[0m\u001b[37m\u001b[0m \u001b[1m47s\u001b[0m 105ms/step - accuracy: 0.9290 - auc: 0.8297 - fn: 454.3817 - fp: 56.7500 - loss: 0.2105 - precision: 0.6608 - recall: 0.1913 - tn: 6565.4087 - tp: 107.3036 - val_accuracy: 0.9322 - val_auc: 0.8423 - val_fn: 273.0000 - val_fp: 50.0000 - val_loss: 0.2017 - val_precision: 0.6454 - val_recall: 0.2500 - val_tn: 4348.0000 - val_tp: 91.0000\n",
      "Epoch 37/100\n",
      "\u001b[1m447/447\u001b[0m \u001b[32m━━━━━━━━━━━━━━━━━━━━\u001b[0m\u001b[37m\u001b[0m \u001b[1m48s\u001b[0m 108ms/step - accuracy: 0.9262 - auc: 0.8202 - fn: 466.8281 - fp: 58.2879 - loss: 0.2161 - precision: 0.5996 - recall: 0.1659 - tn: 6563.8706 - tp: 94.8571 - val_accuracy: 0.9326 - val_auc: 0.8313 - val_fn: 278.0000 - val_fp: 43.0000 - val_loss: 0.2081 - val_precision: 0.6667 - val_recall: 0.2363 - val_tn: 4355.0000 - val_tp: 86.0000\n",
      "Epoch 38/100\n",
      "\u001b[1m447/447\u001b[0m \u001b[32m━━━━━━━━━━━━━━━━━━━━\u001b[0m\u001b[37m\u001b[0m \u001b[1m45s\u001b[0m 101ms/step - accuracy: 0.9311 - auc: 0.8255 - fn: 449.9442 - fp: 54.3348 - loss: 0.2125 - precision: 0.7042 - recall: 0.2071 - tn: 6567.8237 - tp: 111.7411 - val_accuracy: 0.9343 - val_auc: 0.8444 - val_fn: 287.0000 - val_fp: 26.0000 - val_loss: 0.1996 - val_precision: 0.7476 - val_recall: 0.2115 - val_tn: 4372.0000 - val_tp: 77.0000\n",
      "Epoch 39/100\n",
      "\u001b[1m447/447\u001b[0m \u001b[32m━━━━━━━━━━━━━━━━━━━━\u001b[0m\u001b[37m\u001b[0m \u001b[1m42s\u001b[0m 93ms/step - accuracy: 0.9260 - auc: 0.8291 - fn: 477.0000 - fp: 50.1183 - loss: 0.2137 - precision: 0.6100 - recall: 0.1563 - tn: 6572.0400 - tp: 84.6853 - val_accuracy: 0.9322 - val_auc: 0.8423 - val_fn: 280.0000 - val_fp: 43.0000 - val_loss: 0.2006 - val_precision: 0.6614 - val_recall: 0.2308 - val_tn: 4355.0000 - val_tp: 84.0000\n",
      "Epoch 40/100\n",
      "\u001b[1m447/447\u001b[0m \u001b[32m━━━━━━━━━━━━━━━━━━━━\u001b[0m\u001b[37m\u001b[0m \u001b[1m41s\u001b[0m 92ms/step - accuracy: 0.9277 - auc: 0.8306 - fn: 452.3080 - fp: 60.6719 - loss: 0.2105 - precision: 0.6258 - recall: 0.1951 - tn: 6561.4868 - tp: 109.3772 - val_accuracy: 0.9330 - val_auc: 0.8426 - val_fn: 289.0000 - val_fp: 30.0000 - val_loss: 0.2018 - val_precision: 0.7143 - val_recall: 0.2060 - val_tn: 4368.0000 - val_tp: 75.0000\n",
      "Epoch 41/100\n",
      "\u001b[1m447/447\u001b[0m \u001b[32m━━━━━━━━━━━━━━━━━━━━\u001b[0m\u001b[37m\u001b[0m \u001b[1m40s\u001b[0m 89ms/step - accuracy: 0.9288 - auc: 0.8307 - fn: 462.6719 - fp: 47.1406 - loss: 0.2122 - precision: 0.6682 - recall: 0.1801 - tn: 6575.0181 - tp: 99.0134 - val_accuracy: 0.9339 - val_auc: 0.8415 - val_fn: 294.0000 - val_fp: 21.0000 - val_loss: 0.2000 - val_precision: 0.7692 - val_recall: 0.1923 - val_tn: 4377.0000 - val_tp: 70.0000\n",
      "Epoch 42/100\n",
      "\u001b[1m447/447\u001b[0m \u001b[32m━━━━━━━━━━━━━━━━━━━━\u001b[0m\u001b[37m\u001b[0m \u001b[1m38s\u001b[0m 86ms/step - accuracy: 0.9292 - auc: 0.8263 - fn: 455.2188 - fp: 56.7567 - loss: 0.2127 - precision: 0.6584 - recall: 0.1935 - tn: 6565.4019 - tp: 106.4665 - val_accuracy: 0.9339 - val_auc: 0.8405 - val_fn: 287.0000 - val_fp: 28.0000 - val_loss: 0.2018 - val_precision: 0.7333 - val_recall: 0.2115 - val_tn: 4370.0000 - val_tp: 77.0000\n",
      "Epoch 43/100\n",
      "\u001b[1m447/447\u001b[0m \u001b[32m━━━━━━━━━━━━━━━━━━━━\u001b[0m\u001b[37m\u001b[0m \u001b[1m38s\u001b[0m 85ms/step - accuracy: 0.9263 - auc: 0.8270 - fn: 465.3884 - fp: 56.2545 - loss: 0.2134 - precision: 0.6059 - recall: 0.1681 - tn: 6565.9038 - tp: 96.2969 - val_accuracy: 0.9349 - val_auc: 0.8452 - val_fn: 286.0000 - val_fp: 24.0000 - val_loss: 0.1996 - val_precision: 0.7647 - val_recall: 0.2143 - val_tn: 4374.0000 - val_tp: 78.0000\n",
      "Epoch 44/100\n",
      "\u001b[1m447/447\u001b[0m \u001b[32m━━━━━━━━━━━━━━━━━━━━\u001b[0m\u001b[37m\u001b[0m \u001b[1m38s\u001b[0m 84ms/step - accuracy: 0.9294 - auc: 0.8272 - fn: 459.5402 - fp: 46.6540 - loss: 0.2105 - precision: 0.6744 - recall: 0.1846 - tn: 6575.5044 - tp: 102.1451 - val_accuracy: 0.9345 - val_auc: 0.8436 - val_fn: 306.0000 - val_fp: 6.0000 - val_loss: 0.1993 - val_precision: 0.9062 - val_recall: 0.1593 - val_tn: 4392.0000 - val_tp: 58.0000\n",
      "Epoch 45/100\n",
      "\u001b[1m447/447\u001b[0m \u001b[32m━━━━━━━━━━━━━━━━━━━━\u001b[0m\u001b[37m\u001b[0m \u001b[1m37s\u001b[0m 84ms/step - accuracy: 0.9275 - auc: 0.8329 - fn: 463.5201 - fp: 55.6897 - loss: 0.2107 - precision: 0.6333 - recall: 0.1740 - tn: 6566.4688 - tp: 98.1652 - val_accuracy: 0.9343 - val_auc: 0.8428 - val_fn: 286.0000 - val_fp: 27.0000 - val_loss: 0.2018 - val_precision: 0.7429 - val_recall: 0.2143 - val_tn: 4371.0000 - val_tp: 78.0000\n",
      "Epoch 46/100\n",
      "\u001b[1m447/447\u001b[0m \u001b[32m━━━━━━━━━━━━━━━━━━━━\u001b[0m\u001b[37m\u001b[0m \u001b[1m38s\u001b[0m 85ms/step - accuracy: 0.9294 - auc: 0.8231 - fn: 463.5714 - fp: 43.7143 - loss: 0.2142 - precision: 0.6878 - recall: 0.1747 - tn: 6578.4443 - tp: 98.1138 - val_accuracy: 0.9349 - val_auc: 0.8430 - val_fn: 292.0000 - val_fp: 18.0000 - val_loss: 0.1993 - val_precision: 0.8000 - val_recall: 0.1978 - val_tn: 4380.0000 - val_tp: 72.0000\n",
      "Epoch 47/100\n",
      "\u001b[1m447/447\u001b[0m \u001b[32m━━━━━━━━━━━━━━━━━━━━\u001b[0m\u001b[37m\u001b[0m \u001b[1m38s\u001b[0m 86ms/step - accuracy: 0.9305 - auc: 0.8326 - fn: 455.2210 - fp: 42.0402 - loss: 0.2088 - precision: 0.7022 - recall: 0.1881 - tn: 6580.1182 - tp: 106.4643 - val_accuracy: 0.9349 - val_auc: 0.8375 - val_fn: 292.0000 - val_fp: 18.0000 - val_loss: 0.2010 - val_precision: 0.8000 - val_recall: 0.1978 - val_tn: 4380.0000 - val_tp: 72.0000\n",
      "Epoch 48/100\n",
      "\u001b[1m447/447\u001b[0m \u001b[32m━━━━━━━━━━━━━━━━━━━━\u001b[0m\u001b[37m\u001b[0m \u001b[1m38s\u001b[0m 85ms/step - accuracy: 0.9270 - auc: 0.8342 - fn: 465.2277 - fp: 51.6964 - loss: 0.2104 - precision: 0.6235 - recall: 0.1677 - tn: 6570.4619 - tp: 96.4576 - val_accuracy: 0.9322 - val_auc: 0.8379 - val_fn: 282.0000 - val_fp: 41.0000 - val_loss: 0.2040 - val_precision: 0.6667 - val_recall: 0.2253 - val_tn: 4357.0000 - val_tp: 82.0000\n",
      "Epoch 49/100\n",
      "\u001b[1m447/447\u001b[0m \u001b[32m━━━━━━━━━━━━━━━━━━━━\u001b[0m\u001b[37m\u001b[0m \u001b[1m38s\u001b[0m 84ms/step - accuracy: 0.9305 - auc: 0.8372 - fn: 453.5156 - fp: 47.6161 - loss: 0.2069 - precision: 0.6976 - recall: 0.1974 - tn: 6574.5425 - tp: 108.1696 - val_accuracy: 0.9368 - val_auc: 0.8441 - val_fn: 282.0000 - val_fp: 19.0000 - val_loss: 0.1981 - val_precision: 0.8119 - val_recall: 0.2253 - val_tn: 4379.0000 - val_tp: 82.0000\n",
      "Epoch 50/100\n",
      "\u001b[1m447/447\u001b[0m \u001b[32m━━━━━━━━━━━━━━━━━━━━\u001b[0m\u001b[37m\u001b[0m \u001b[1m38s\u001b[0m 84ms/step - accuracy: 0.9311 - auc: 0.8373 - fn: 456.4196 - fp: 41.5134 - loss: 0.2072 - precision: 0.7140 - recall: 0.1995 - tn: 6580.6450 - tp: 105.2656 - val_accuracy: 0.9339 - val_auc: 0.8389 - val_fn: 297.0000 - val_fp: 18.0000 - val_loss: 0.2021 - val_precision: 0.7882 - val_recall: 0.1841 - val_tn: 4380.0000 - val_tp: 67.0000\n",
      "Epoch 51/100\n",
      "\u001b[1m447/447\u001b[0m \u001b[32m━━━━━━━━━━━━━━━━━━━━\u001b[0m\u001b[37m\u001b[0m \u001b[1m39s\u001b[0m 86ms/step - accuracy: 0.9314 - auc: 0.8371 - fn: 447.4754 - fp: 49.5246 - loss: 0.2073 - precision: 0.7057 - recall: 0.2103 - tn: 6572.6338 - tp: 114.2098 - val_accuracy: 0.9362 - val_auc: 0.8401 - val_fn: 286.0000 - val_fp: 18.0000 - val_loss: 0.2006 - val_precision: 0.8125 - val_recall: 0.2143 - val_tn: 4380.0000 - val_tp: 78.0000\n",
      "Epoch 52/100\n",
      "\u001b[1m447/447\u001b[0m \u001b[32m━━━━━━━━━━━━━━━━━━━━\u001b[0m\u001b[37m\u001b[0m \u001b[1m38s\u001b[0m 85ms/step - accuracy: 0.9302 - auc: 0.8346 - fn: 449.9040 - fp: 51.3058 - loss: 0.2095 - precision: 0.6838 - recall: 0.1955 - tn: 6570.8525 - tp: 111.7812 - val_accuracy: 0.9343 - val_auc: 0.8402 - val_fn: 268.0000 - val_fp: 45.0000 - val_loss: 0.2010 - val_precision: 0.6809 - val_recall: 0.2637 - val_tn: 4353.0000 - val_tp: 96.0000\n",
      "Epoch 53/100\n",
      "\u001b[1m447/447\u001b[0m \u001b[32m━━━━━━━━━━━━━━━━━━━━\u001b[0m\u001b[37m\u001b[0m \u001b[1m38s\u001b[0m 86ms/step - accuracy: 0.9281 - auc: 0.8325 - fn: 452.5312 - fp: 55.4241 - loss: 0.2101 - precision: 0.6344 - recall: 0.1946 - tn: 6566.7344 - tp: 109.1540 - val_accuracy: 0.9347 - val_auc: 0.8445 - val_fn: 287.0000 - val_fp: 24.0000 - val_loss: 0.1997 - val_precision: 0.7624 - val_recall: 0.2115 - val_tn: 4374.0000 - val_tp: 77.0000\n",
      "Epoch 54/100\n",
      "\u001b[1m447/447\u001b[0m \u001b[32m━━━━━━━━━━━━━━━━━━━━\u001b[0m\u001b[37m\u001b[0m \u001b[1m34s\u001b[0m 76ms/step - accuracy: 0.9291 - auc: 0.8298 - fn: 462.1339 - fp: 44.5826 - loss: 0.2110 - precision: 0.6783 - recall: 0.1764 - tn: 6577.5757 - tp: 99.5513 - val_accuracy: 0.9366 - val_auc: 0.8433 - val_fn: 283.0000 - val_fp: 19.0000 - val_loss: 0.1995 - val_precision: 0.8100 - val_recall: 0.2225 - val_tn: 4379.0000 - val_tp: 81.0000\n",
      "Epoch 55/100\n",
      "\u001b[1m447/447\u001b[0m \u001b[32m━━━━━━━━━━━━━━━━━━━━\u001b[0m\u001b[37m\u001b[0m \u001b[1m34s\u001b[0m 75ms/step - accuracy: 0.9293 - auc: 0.8319 - fn: 453.5335 - fp: 54.4286 - loss: 0.2106 - precision: 0.6703 - recall: 0.1924 - tn: 6567.7300 - tp: 108.1518 - val_accuracy: 0.9324 - val_auc: 0.8354 - val_fn: 285.0000 - val_fp: 37.0000 - val_loss: 0.2039 - val_precision: 0.6810 - val_recall: 0.2170 - val_tn: 4361.0000 - val_tp: 79.0000\n",
      "Epoch 55: early stopping\n",
      "Restoring model weights from the end of the best epoch: 35.\n"
     ]
    }
   ],
   "source": [
    "model_history=model.fit(\n",
    "    x=[X_train_num, X_train_img], y=y_train,\n",
    "    validation_data=([X_val_num, X_val_img], y_val),\n",
    "    epochs=epochs, \n",
    "    batch_size=32,\n",
    "    callbacks = [early_stopper]\n",
    ")"
   ]
  },
  {
   "cell_type": "markdown",
   "metadata": {},
   "source": [
    "val_accuracy: 0.8319 - val_auc: 0.8494 - val_fn: 222.0000 - val_fp: 43.0000 - val_loss: 0.3805 - val_precision: 0.7676 - val_recall: 0.3901 - val_tn: 1169.0000 - val_tp: 142.0000"
   ]
  },
  {
   "cell_type": "code",
   "execution_count": 43,
   "metadata": {},
   "outputs": [
    {
     "name": "stdout",
     "output_type": "stream",
     "text": [
      "dict_keys(['accuracy', 'auc', 'fn', 'fp', 'loss', 'precision', 'recall', 'tn', 'tp', 'val_accuracy', 'val_auc', 'val_fn', 'val_fp', 'val_loss', 'val_precision', 'val_recall', 'val_tn', 'val_tp'])\n"
     ]
    }
   ],
   "source": [
    "print(model_history.history.keys())"
   ]
  },
  {
   "cell_type": "markdown",
   "metadata": {},
   "source": [
    "<a id=\"section6\"></a>\n",
    "# <font color=\"#004D7F\" size=6> 6. Results</font>\n",
    "\n",
    "Finally, we can evaluate our hybrid model with the images created by TINTOlib in any of the ways represented below."
   ]
  },
  {
   "cell_type": "markdown",
   "metadata": {},
   "source": [
    "---\n",
    "<a id=\"section61\"></a>\n",
    "# <font color=\"#004D7F\" size=5> 6.1. Train/Validation representation</font>"
   ]
  },
  {
   "cell_type": "code",
   "execution_count": 44,
   "metadata": {},
   "outputs": [
    {
     "data": {
      "image/png": "[encoded data removed]",
      "text/plain": [
       "<Figure size 640x480 with 1 Axes>"
      ]
     },
     "metadata": {},
     "output_type": "display_data"
    }
   ],
   "source": [
    "#print(model_history.history['loss'])\n",
    "plt.plot(model_history.history['loss'], color = 'red', label = 'loss')\n",
    "plt.plot(model_history.history['val_loss'], color = 'green', label = 'val loss')\n",
    "plt.legend(loc = 'upper right')\n",
    "\n",
    "plt.show()"
   ]
  },
  {
   "cell_type": "code",
   "execution_count": 45,
   "metadata": {},
   "outputs": [
    {
     "data": {
      "image/png": "[encoded data removed]",
      "text/plain": [
       "<Figure size 640x480 with 1 Axes>"
      ]
     },
     "metadata": {},
     "output_type": "display_data"
    }
   ],
   "source": [
    "plt.plot(model_history.history['accuracy'], color = 'red', label = 'accuracy')\n",
    "plt.plot(model_history.history['val_accuracy'], color = 'green', label = 'val accuracy')\n",
    "plt.legend(loc = 'upper right')\n",
    "plt.show()"
   ]
  },
  {
   "cell_type": "code",
   "execution_count": 46,
   "metadata": {},
   "outputs": [
    {
     "name": "stdout",
     "output_type": "stream",
     "text": [
      "Train accuracy: 0.93083655834198\n",
      "Train AUC: 0.8345184922218323\n",
      "Train precision: 0.6722407937049866\n",
      "Train recall: 0.1842346489429474\n",
      "Train loss: 0.20624783635139465\n"
     ]
    }
   ],
   "source": [
    "train_accuracy = model_history.history[\"accuracy\"][-1]\n",
    "train_auc = model_history.history[\"auc\"][-1]\n",
    "train_precision = model_history.history[\"precision\"][-1]\n",
    "train_recall = model_history.history[\"recall\"][-1]\n",
    "train_loss = model_history.history[\"loss\"][-1]\n",
    "\n",
    "print(\"Train accuracy:\",train_accuracy)\n",
    "print(\"Train AUC:\",train_auc)\n",
    "print(\"Train precision:\",train_precision)\n",
    "print(\"Train recall:\",train_recall)\n",
    "print(\"Train loss:\",train_loss)"
   ]
  },
  {
   "cell_type": "code",
   "execution_count": 47,
   "metadata": {},
   "outputs": [
    {
     "name": "stdout",
     "output_type": "stream",
     "text": [
      "Validation accuracy: 0.9323813319206238\n",
      "Validation AUC: 0.8353615999221802\n",
      "Validation precision: 0.681034505367279\n",
      "Validation recall: 0.21703296899795532\n",
      "Validation loss: 0.20394344627857208\n"
     ]
    }
   ],
   "source": [
    "validation_accuracy = model_history.history[\"val_accuracy\"][-1]\n",
    "validation_auc = model_history.history[\"val_auc\"][-1]\n",
    "validation_precision = model_history.history[\"val_precision\"][-1]\n",
    "validation_recall = model_history.history[\"val_recall\"][-1]\n",
    "validation_loss = model_history.history[\"val_loss\"][-1]\n",
    "\n",
    "print(\"Validation accuracy:\",validation_accuracy)\n",
    "print(\"Validation AUC:\",validation_auc)\n",
    "print(\"Validation precision:\",validation_precision)\n",
    "print(\"Validation recall:\",validation_recall)\n",
    "print(\"Validation loss:\",validation_loss)"
   ]
  },
  {
   "cell_type": "markdown",
   "metadata": {},
   "source": [
    "---\n",
    "<a id=\"section62\"></a>\n",
    "# <font color=\"#004D7F\" size=5> 6.2. Validation evaluation</font>"
   ]
  },
  {
   "cell_type": "code",
   "execution_count": 48,
   "metadata": {},
   "outputs": [
    {
     "name": "stderr",
     "output_type": "stream",
     "text": [
      "/Users/manwest/Library/Python/3.9/lib/python/site-packages/keras/src/models/functional.py:225: UserWarning: The structure of `inputs` doesn't match the expected structure: ['keras_tensor', 'keras_tensor_56']. Received: the structure of inputs=('*', '*')\n",
      "  warnings.warn(\n"
     ]
    },
    {
     "name": "stdout",
     "output_type": "stream",
     "text": [
      "\u001b[1m447/447\u001b[0m \u001b[32m━━━━━━━━━━━━━━━━━━━━\u001b[0m\u001b[37m\u001b[0m \u001b[1m3s\u001b[0m 5ms/step\n"
     ]
    },
    {
     "data": {
      "text/plain": [
       "(0.06, 0.7513841597026228)"
      ]
     },
     "execution_count": 48,
     "metadata": {},
     "output_type": "execute_result"
    }
   ],
   "source": [
    "from sklearn.metrics import roc_auc_score\n",
    "x_train_1 = [X_train_num, X_train_img]\n",
    "\n",
    "def find_best_threshold(y_true, y_probs):\n",
    "    thresholds = np.arange(0.0, 1.0, 0.01)\n",
    "    best_auc = 0\n",
    "    best_thresh = 0\n",
    "    for thresh in thresholds:\n",
    "        preds = (y_probs >= thresh).astype(int)\n",
    "        auc = roc_auc_score(y_true, preds)\n",
    "        if auc > best_auc:\n",
    "            best_auc = auc\n",
    "            best_thresh = thresh\n",
    "    return best_thresh, best_auc\n",
    "prediction = model.predict(x_train_1,)\n",
    "best_threshold = find_best_threshold(y_train, prediction)\n",
    "best_threshold ### !!!!!! IMPORTANTE PARA DEFINIR EL MEJOR CORTE PARA LAS PROBABILIDADES"
   ]
  },
  {
   "cell_type": "code",
   "execution_count": 49,
   "metadata": {},
   "outputs": [
    {
     "name": "stdout",
     "output_type": "stream",
     "text": [
      "\u001b[1m149/149\u001b[0m \u001b[32m━━━━━━━━━━━━━━━━━━━━\u001b[0m\u001b[37m\u001b[0m \u001b[1m2s\u001b[0m 11ms/step - accuracy: 0.9399 - auc: 0.8527 - fn: 135.3400 - fp: 11.8533 - loss: 0.1880 - precision: 0.7769 - recall: 0.2281 - tn: 2227.9934 - tp: 40.5200\n"
     ]
    }
   ],
   "source": [
    "#x_validacion = [X_test_num, X_test_img]\n",
    "#y_validacion = y_test\n",
    "x_validacion = [X_val_num, X_val_img]\n",
    "y_validacion = y_val\n",
    "score_test= model.evaluate(x_validacion, y_validacion)"
   ]
  },
  {
   "cell_type": "code",
   "execution_count": 50,
   "metadata": {},
   "outputs": [
    {
     "name": "stdout",
     "output_type": "stream",
     "text": [
      "\u001b[1m149/149\u001b[0m \u001b[32m━━━━━━━━━━━━━━━━━━━━\u001b[0m\u001b[37m\u001b[0m \u001b[1m1s\u001b[0m 5ms/step\n"
     ]
    }
   ],
   "source": [
    "#test_images = next(test_iter)[0]\n",
    "prediction = model.predict(x_validacion,)\n",
    "#prediction = model.predict(test_images)\n",
    "prediction_labels = (prediction > best_threshold[0]).astype(int)\n",
    "#print(prediction_labels)"
   ]
  },
  {
   "cell_type": "code",
   "execution_count": 51,
   "metadata": {},
   "outputs": [
    {
     "name": "stdout",
     "output_type": "stream",
     "text": [
      "Validation accuracy: 0.9363712668418884\n",
      "Validation AUC: 0.8441214561462402\n",
      "Validation precision: 0.7747747898101807\n",
      "Validation recall: 0.23626373708248138\n"
     ]
    }
   ],
   "source": [
    "from sklearn.metrics import roc_auc_score,accuracy_score,precision_score, recall_score\n",
    "\n",
    "test_accuracy = score_test[5]\n",
    "test_auc = score_test[8]\n",
    "test_precision = score_test[6]\n",
    "test_recall = score_test[7]\n",
    "\n",
    "print(\"Validation accuracy:\",test_accuracy)\n",
    "print(\"Validation AUC:\",test_auc)\n",
    "print(\"Validation precision:\",test_precision)\n",
    "print(\"Validation recall:\",test_recall)"
   ]
  },
  {
   "cell_type": "code",
   "execution_count": 52,
   "metadata": {},
   "outputs": [
    {
     "data": {
      "text/plain": [
       "20134    0\n",
       "5477     0\n",
       "11396    0\n",
       "128      1\n",
       "4649     0\n",
       "        ..\n",
       "15036    0\n",
       "11887    0\n",
       "1596     0\n",
       "8594     0\n",
       "6684     0\n",
       "Name: class, Length: 4762, dtype: int64"
      ]
     },
     "execution_count": 52,
     "metadata": {},
     "output_type": "execute_result"
    }
   ],
   "source": [
    "y_test1 = y_validacion.astype(float).astype(int)\n",
    "y_test1"
   ]
  },
  {
   "cell_type": "code",
   "execution_count": 53,
   "metadata": {},
   "outputs": [
    {
     "name": "stdout",
     "output_type": "stream",
     "text": [
      "\u001b[1mTest Dataset.\u001b[0m \n",
      "\n",
      "\n",
      "\u001b[1mConfusion matrix:\u001b[0m\n"
     ]
    },
    {
     "data": {
      "image/png": "[encoded data removed]",
      "text/plain": [
       "<Figure size 640x480 with 2 Axes>"
      ]
     },
     "metadata": {},
     "output_type": "display_data"
    },
    {
     "name": "stdout",
     "output_type": "stream",
     "text": [
      "Verdaderos Negativos (VN): 3088\n",
      "Falsos Positivos (FP): 1310\n",
      "Falsos Negativos (FN): 76\n",
      "Verdaderos Positivos (VP): 288 \n",
      "\n",
      "\n",
      "\u001b[1mAUC SCORE:\u001b[0m\n",
      "0.8445309806155644\n",
      "\u001b[1mRecall SCORE:\u001b[0m\n",
      "0.7912087912087912\n"
     ]
    },
    {
     "data": {
      "image/png": "[encoded data removed]",
      "text/plain": [
       "<Figure size 640x480 with 1 Axes>"
      ]
     },
     "metadata": {},
     "output_type": "display_data"
    }
   ],
   "source": [
    "from sklearn.metrics import ConfusionMatrixDisplay, confusion_matrix, roc_curve, roc_auc_score, recall_score\n",
    "\n",
    "# Suponiendo que ⁠ cnn_model ⁠ sea tu modelo entrenado y ⁠ X_test ⁠ tu conjunto de prueba\n",
    "print(\"\\033[1mTest Dataset.\\033[0m \\n\\n\")\n",
    "\n",
    "# Confusion Matrix\n",
    "print(\"\\033[1mConfusion matrix:\\033[0m\")\n",
    "cm = confusion_matrix(y_test1, prediction_labels)\n",
    "disp = ConfusionMatrixDisplay(confusion_matrix=cm)\n",
    "disp.plot()\n",
    "plt.show()\n",
    "print(f\"Verdaderos Negativos (VN): {cm[0, 0]}\")\n",
    "print(f\"Falsos Positivos (FP): {cm[0, 1]}\")\n",
    "print(f\"Falsos Negativos (FN): {cm[1, 0]}\")\n",
    "print(f\"Verdaderos Positivos (VP): {cm[1, 1]} \\n\\n\")\n",
    "\n",
    "# Calcular las métricas usando probabilidades en lugar de etiquetas\n",
    "#prediction_probs = model.predict([X_val_img])\n",
    "\n",
    "print(\"\\033[1mAUC SCORE:\\033[0m\")\n",
    "print(roc_auc_score(y_test1, prediction ))\n",
    "\n",
    "print(\"\\033[1mRecall SCORE:\\033[0m\")\n",
    "print(recall_score(y_test1, prediction_labels))\n",
    "\n",
    "# Curva ROC\n",
    "fpr, tpr, thresholds = roc_curve(y_test1, prediction)\n",
    "plt.plot([0, 1], [0, 1], 'k--')\n",
    "plt.plot(fpr, tpr)\n",
    "plt.xlabel('False Positive Rate')\n",
    "plt.ylabel('True Positive Rate')\n",
    "plt.title('ROC Curve and AUC')\n",
    "plt.fill_between(fpr, tpr, alpha=0.3)\n",
    "plt.tight_layout()\n",
    "plt.show()"
   ]
  },
  {
   "cell_type": "markdown",
   "metadata": {},
   "source": [
    "---\n",
    "<a id=\"section63\"></a>\n",
    "# <font color=\"#004D7F\" size=5> 6.3. Test evaluation</font>"
   ]
  },
  {
   "cell_type": "code",
   "execution_count": 54,
   "metadata": {},
   "outputs": [
    {
     "name": "stdout",
     "output_type": "stream",
     "text": [
      "\u001b[1m149/149\u001b[0m \u001b[32m━━━━━━━━━━━━━━━━━━━━\u001b[0m\u001b[37m\u001b[0m \u001b[1m2s\u001b[0m 10ms/step - accuracy: 0.9299 - auc: 0.8221 - fn: 141.6800 - fp: 19.0467 - loss: 0.2148 - precision: 0.6723 - recall: 0.2268 - tn: 2211.3667 - tp: 43.6133\n"
     ]
    }
   ],
   "source": [
    "x_validacion = [X_test_num, X_test_img]\n",
    "y_validacion = y_test\n",
    "#x_validacion = [X_val_num, X_val_img]\n",
    "#y_validacion = y_val\n",
    "score_test= model.evaluate(x_validacion, y_validacion)"
   ]
  },
  {
   "cell_type": "code",
   "execution_count": 55,
   "metadata": {},
   "outputs": [
    {
     "name": "stdout",
     "output_type": "stream",
     "text": [
      "\u001b[1m149/149\u001b[0m \u001b[32m━━━━━━━━━━━━━━━━━━━━\u001b[0m\u001b[37m\u001b[0m \u001b[1m1s\u001b[0m 4ms/step\n"
     ]
    }
   ],
   "source": [
    "#test_images = next(test_iter)[0]\n",
    "prediction = model.predict(x_validacion,)\n",
    "#prediction = model.predict(test_images)\n",
    "prediction_labels = (prediction > best_threshold[0]).astype(int)\n",
    "#print(prediction_labels)"
   ]
  },
  {
   "cell_type": "code",
   "execution_count": 56,
   "metadata": {},
   "outputs": [
    {
     "name": "stdout",
     "output_type": "stream",
     "text": [
      "Test accuracy: 0.9349012970924377\n",
      "Test AUC: 0.8364554643630981\n",
      "Test precision: 0.7190082669258118\n",
      "Test recall: 0.23966942727565765\n"
     ]
    }
   ],
   "source": [
    "from sklearn.metrics import roc_auc_score,accuracy_score,precision_score, recall_score\n",
    "\n",
    "test_accuracy = score_test[5]\n",
    "test_auc = score_test[8]\n",
    "test_precision = score_test[6]\n",
    "test_recall = score_test[7]\n",
    "\n",
    "print(\"Test accuracy:\",test_accuracy)\n",
    "print(\"Test AUC:\",test_auc)\n",
    "print(\"Test precision:\",test_precision)\n",
    "print(\"Test recall:\",test_recall)"
   ]
  },
  {
   "cell_type": "code",
   "execution_count": 57,
   "metadata": {},
   "outputs": [
    {
     "data": {
      "text/plain": [
       "17734    0\n",
       "19878    0\n",
       "19543    0\n",
       "4964     0\n",
       "3278     0\n",
       "        ..\n",
       "14449    0\n",
       "5716     0\n",
       "1307     0\n",
       "9        1\n",
       "19709    0\n",
       "Name: class, Length: 4762, dtype: int64"
      ]
     },
     "execution_count": 57,
     "metadata": {},
     "output_type": "execute_result"
    }
   ],
   "source": [
    "y_test1 = y_validacion.astype(float).astype(int)\n",
    "y_test1"
   ]
  },
  {
   "cell_type": "code",
   "execution_count": 58,
   "metadata": {},
   "outputs": [
    {
     "name": "stdout",
     "output_type": "stream",
     "text": [
      "\u001b[1mTest Dataset.\u001b[0m \n",
      "\n",
      "\n",
      "\u001b[1mConfusion matrix:\u001b[0m\n"
     ]
    },
    {
     "data": {
      "image/png": "[encoded data removed]",
      "text/plain": [
       "<Figure size 640x480 with 2 Axes>"
      ]
     },
     "metadata": {},
     "output_type": "display_data"
    },
    {
     "name": "stdout",
     "output_type": "stream",
     "text": [
      "Verdaderos Negativos (VN): 3065\n",
      "Falsos Positivos (FP): 1334\n",
      "Falsos Negativos (FN): 79\n",
      "Verdaderos Positivos (VP): 284 \n",
      "\n",
      "\n",
      "\u001b[1mAUC SCORE:\u001b[0m\n",
      "0.8362988833550324\n",
      "\u001b[1mRecall SCORE:\u001b[0m\n",
      "0.7823691460055097\n"
     ]
    },
    {
     "data": {
      "image/png": "[encoded data removed]",
      "text/plain": [
       "<Figure size 640x480 with 1 Axes>"
      ]
     },
     "metadata": {},
     "output_type": "display_data"
    }
   ],
   "source": [
    "from sklearn.metrics import ConfusionMatrixDisplay, confusion_matrix, roc_curve, roc_auc_score, recall_score\n",
    "\n",
    "# Suponiendo que ⁠ cnn_model ⁠ sea tu modelo entrenado y ⁠ X_test ⁠ tu conjunto de prueba\n",
    "print(\"\\033[1mTest Dataset.\\033[0m \\n\\n\")\n",
    "\n",
    "# Confusion Matrix\n",
    "print(\"\\033[1mConfusion matrix:\\033[0m\")\n",
    "cm = confusion_matrix(y_test1, prediction_labels)\n",
    "disp = ConfusionMatrixDisplay(confusion_matrix=cm)\n",
    "disp.plot()\n",
    "plt.show()\n",
    "print(f\"Verdaderos Negativos (VN): {cm[0, 0]}\")\n",
    "print(f\"Falsos Positivos (FP): {cm[0, 1]}\")\n",
    "print(f\"Falsos Negativos (FN): {cm[1, 0]}\")\n",
    "print(f\"Verdaderos Positivos (VP): {cm[1, 1]} \\n\\n\")\n",
    "\n",
    "# Calcular las métricas usando probabilidades en lugar de etiquetas\n",
    "#prediction_probs = model.predict([X_val_img])\n",
    "\n",
    "print(\"\\033[1mAUC SCORE:\\033[0m\")\n",
    "print(roc_auc_score(y_test1, prediction ))\n",
    "\n",
    "print(\"\\033[1mRecall SCORE:\\033[0m\")\n",
    "print(recall_score(y_test1, prediction_labels))\n",
    "\n",
    "# Curva ROC\n",
    "fpr, tpr, thresholds = roc_curve(y_test1, prediction)\n",
    "plt.plot([0, 1], [0, 1], 'k--')\n",
    "plt.plot(fpr, tpr)\n",
    "plt.xlabel('False Positive Rate')\n",
    "plt.ylabel('True Positive Rate')\n",
    "plt.title('ROC Curve and AUC')\n",
    "plt.fill_between(fpr, tpr, alpha=0.3)\n",
    "plt.tight_layout()\n",
    "plt.show()"
   ]
  },
  {
   "cell_type": "code",
   "execution_count": null,
   "metadata": {},
   "outputs": [],
   "source": []
  }
 ],
 "metadata": {
  "colab": {
   "provenance": [
    {
     "file_id": "1plFq1CpEXIdc9LankaLPiOObRg0_y5l2",
     "timestamp": 1684250343977
    }
   ]
  },
  "kernelspec": {
   "display_name": "Python 3",
   "language": "python",
   "name": "python3"
  },
  "language_info": {
   "codemirror_mode": {
    "name": "ipython",
    "version": 3
   },
   "file_extension": ".py",
   "mimetype": "text/x-python",
   "name": "python",
   "nbconvert_exporter": "python",
   "pygments_lexer": "ipython3",
   "version": "3.9.6"
  }
 },
 "nbformat": 4,
 "nbformat_minor": 1
}
