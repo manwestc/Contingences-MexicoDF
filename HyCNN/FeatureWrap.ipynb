{
  "cells": [
    {
      "cell_type": "markdown",
      "metadata": {
        "id": "EybOZ6hSjpCF"
      },
      "source": [
        "<h1><font color=\"#113D68\" size=5>TINTOlib: Converting Tidy Data into Synthetic Images</font></h1>>\n",
        "\n",
        "<h1><font color=\"#113D68\" size=5>Template Binary Classification problem with a Hibryd Networks (CNN+MLP)</font></h1>\n",
        "\n",
        "<br><br>\n",
        "<div style=\"text-align: right\">\n",
        "<font color=\"#113D68\" size=3>Manuel Castillo-Cara</font><br>\n",
        "<font color=\"#113D68\" size=3>Raúl García-Castro</font><br>\n",
        "<font color=\"#113D68\" size=3>Jiayun Liu</font><br>\n",
        "\n",
        "</div>\n",
        "\n",
        "---"
      ]
    },
    {
      "cell_type": "markdown",
      "metadata": {
        "id": "-_GNVJk3OXSf"
      },
      "source": [
        "<div class=\"alert alert-block alert-info\">\n",
        "    \n",
        "<i class=\"fa fa-info-circle\" aria-hidden=\"true\"></i>\n",
        "More information about [Manuel Castillo-Cara](https://www.manuelcastillo.eu/)"
      ]
    },
    {
      "cell_type": "markdown",
      "metadata": {
        "id": "EOpv0yu1OXSg"
      },
      "source": [
        "<div class=\"alert alert-block alert-info\">\n",
        "    \n",
        "<i class=\"fa fa-info-circle\" aria-hidden=\"true\"></i>\n",
        "More information about [Raúl García-Castro](http://www.garcia-castro.com/)"
      ]
    },
    {
      "cell_type": "markdown",
      "metadata": {
        "id": "WKlJf4tjOXSg"
      },
      "source": [
        "---\n",
        "\n",
        "<a id=\"indice\"></a>\n",
        "<h2><font color=\"#004D7F\" size=5>Licencia</font></h2>\n",
        "\n",
        "<p><small><small>Improving Deep Learning by Exploiting Synthetic Images Copyright 2024 Manuel Castillo Cara.</p>\n",
        "<p><small><small> Licensed under the Apache License, Version 2.0 (the \"License\"); you may not use this file except in compliance with the License. You may obtain a copy of the License at </p>\n",
        "<p><small><small> <a href=\"https://www.apache.org/licenses/LICENSE-2.0\">https://www.apache.org/licenses/LICENSE-2.0</a> </p>\n",
        "<p><small><small> Unless required by applicable law or agreed to in writing, software distributed under the License is distributed on an \"AS IS\" BASIS, WITHOUT WARRANTIES OR CONDITIONS OF ANY KIND, either express or implied. See the License for the specific language governing permissions and limitations under the License. </p>"
      ]
    },
    {
      "cell_type": "markdown",
      "metadata": {
        "id": "2l5nFzsdjpCW"
      },
      "source": [
        "---\n",
        "\n",
        "<a id=\"indice\"></a>\n",
        "<h2><font color=\"#004D7F\" size=5>Index</font></h2>\n",
        "\n",
        "* [0. Context](#section0)\n",
        "* [1. Description](#section1)\n",
        "    * [1.1. Main Features](#section11)\n",
        "    * [1.2. Citation](#section12)\n",
        "    * [1.3. Documentation and License](#section13)\n",
        "* [2. Libraries](#section2)\n",
        "    * [2.1. System setup](#section21)\n",
        "    * [2.2. Invoke the libraries](#section22)\n",
        "* [3. Data processing](#section3)\n",
        "    * [3.1. TINTOlib methods](#section31)\n",
        "    * [3.2. Read the dataset](#section32)\n",
        "    * [3.3. Generate images](#section33)\n",
        "    * [3.4. Read images](#section34)\n",
        "    * [3.5. Mix images and tidy data](#section35)\n",
        "* [4. Pre-modelling phase](#section4)\n",
        "    * [4.1. Data curation](#section41)\n",
        "    * [4.2. One-hot encoding](#section42)\n",
        "* [5. Modelling hybrid network](#section5)\n",
        "    * [5.1. FFNN for tabular data](#section51)\n",
        "    * [5.2. CNN for TINTOlib images](#section52)\n",
        "    * [5.3. Concatenate branches](#section53)\n",
        "    * [5.4. Metrics](#section54)\n",
        "    * [5.5. Compile and fit](#section55)\n",
        "* [6. Results](#section6)\n",
        "    * [6.1. Train/Validation representation](#section61)\n",
        "    * [6.2. Validation/Test evaluation](#section62)"
      ]
    },
    {
      "cell_type": "markdown",
      "metadata": {
        "id": "4RKBgDwzjpCl"
      },
      "source": [
        "---\n",
        "<div style=\"text-align: right\"> <font size=5> <a href=\"#indice\"><i class=\"fa fa-arrow-circle-up\" aria-hidden=\"true\" style=\"color:#004D7F\"></i></a></font></div>\n",
        "\n",
        "---"
      ]
    },
    {
      "cell_type": "code",
      "source": [
        "!pip install -U TINTOlib mpi4py tifffile tqdm seaborn bitstring opencv-python pydot"
      ],
      "metadata": {
        "colab": {
          "base_uri": "https://localhost:8080/"
        },
        "id": "iflM3erLOZ8B",
        "outputId": "6b5ca1d1-d72d-4061-a1e0-9a9d7bbf8de7"
      },
      "execution_count": 1,
      "outputs": [
        {
          "output_type": "stream",
          "name": "stdout",
          "text": [
            "Collecting TINTOlib\n",
            "  Downloading tintolib-0.0.26-py3-none-any.whl.metadata (22 kB)\n",
            "Collecting mpi4py\n",
            "  Downloading mpi4py-4.0.1.tar.gz (466 kB)\n",
            "\u001b[2K     \u001b[90m━━━━━━━━━━━━━━━━━━━━━━━━━━━━━━━━━━━━━━━━\u001b[0m \u001b[32m466.2/466.2 kB\u001b[0m \u001b[31m6.8 MB/s\u001b[0m eta \u001b[36m0:00:00\u001b[0m\n",
            "\u001b[?25h  Installing build dependencies ... \u001b[?25l\u001b[?25hdone\n",
            "  Getting requirements to build wheel ... \u001b[?25l\u001b[?25hdone\n",
            "  Installing backend dependencies ... \u001b[?25l\u001b[?25hdone\n",
            "  Preparing metadata (pyproject.toml) ... \u001b[?25l\u001b[?25hdone\n",
            "Requirement already satisfied: tifffile in /usr/local/lib/python3.10/dist-packages (2024.12.12)\n",
            "Requirement already satisfied: tqdm in /usr/local/lib/python3.10/dist-packages (4.67.1)\n",
            "Requirement already satisfied: seaborn in /usr/local/lib/python3.10/dist-packages (0.13.2)\n",
            "Collecting bitstring\n",
            "  Downloading bitstring-4.2.3-py3-none-any.whl.metadata (5.0 kB)\n",
            "Requirement already satisfied: opencv-python in /usr/local/lib/python3.10/dist-packages (4.10.0.84)\n",
            "Requirement already satisfied: pydot in /usr/local/lib/python3.10/dist-packages (3.0.3)\n",
            "Requirement already satisfied: numpy in /usr/local/lib/python3.10/dist-packages (from tifffile) (1.26.4)\n",
            "Requirement already satisfied: pandas>=1.2 in /usr/local/lib/python3.10/dist-packages (from seaborn) (2.2.2)\n",
            "Requirement already satisfied: matplotlib!=3.6.1,>=3.4 in /usr/local/lib/python3.10/dist-packages (from seaborn) (3.8.0)\n",
            "Collecting bitarray<3.0.0,>=2.9.0 (from bitstring)\n",
            "  Downloading bitarray-2.9.3-cp310-cp310-manylinux_2_17_x86_64.manylinux2014_x86_64.whl.metadata (34 kB)\n",
            "Requirement already satisfied: pyparsing>=3.0.9 in /usr/local/lib/python3.10/dist-packages (from pydot) (3.2.0)\n",
            "Requirement already satisfied: contourpy>=1.0.1 in /usr/local/lib/python3.10/dist-packages (from matplotlib!=3.6.1,>=3.4->seaborn) (1.3.1)\n",
            "Requirement already satisfied: cycler>=0.10 in /usr/local/lib/python3.10/dist-packages (from matplotlib!=3.6.1,>=3.4->seaborn) (0.12.1)\n",
            "Requirement already satisfied: fonttools>=4.22.0 in /usr/local/lib/python3.10/dist-packages (from matplotlib!=3.6.1,>=3.4->seaborn) (4.55.3)\n",
            "Requirement already satisfied: kiwisolver>=1.0.1 in /usr/local/lib/python3.10/dist-packages (from matplotlib!=3.6.1,>=3.4->seaborn) (1.4.7)\n",
            "Requirement already satisfied: packaging>=20.0 in /usr/local/lib/python3.10/dist-packages (from matplotlib!=3.6.1,>=3.4->seaborn) (24.2)\n",
            "Requirement already satisfied: pillow>=6.2.0 in /usr/local/lib/python3.10/dist-packages (from matplotlib!=3.6.1,>=3.4->seaborn) (11.0.0)\n",
            "Requirement already satisfied: python-dateutil>=2.7 in /usr/local/lib/python3.10/dist-packages (from matplotlib!=3.6.1,>=3.4->seaborn) (2.8.2)\n",
            "Requirement already satisfied: pytz>=2020.1 in /usr/local/lib/python3.10/dist-packages (from pandas>=1.2->seaborn) (2024.2)\n",
            "Requirement already satisfied: tzdata>=2022.7 in /usr/local/lib/python3.10/dist-packages (from pandas>=1.2->seaborn) (2024.2)\n",
            "Requirement already satisfied: six>=1.5 in /usr/local/lib/python3.10/dist-packages (from python-dateutil>=2.7->matplotlib!=3.6.1,>=3.4->seaborn) (1.17.0)\n",
            "Downloading tintolib-0.0.26-py3-none-any.whl (53 kB)\n",
            "\u001b[2K   \u001b[90m━━━━━━━━━━━━━━━━━━━━━━━━━━━━━━━━━━━━━━━━\u001b[0m \u001b[32m53.3/53.3 kB\u001b[0m \u001b[31m2.1 MB/s\u001b[0m eta \u001b[36m0:00:00\u001b[0m\n",
            "\u001b[?25hDownloading bitstring-4.2.3-py3-none-any.whl (71 kB)\n",
            "\u001b[2K   \u001b[90m━━━━━━━━━━━━━━━━━━━━━━━━━━━━━━━━━━━━━━━━\u001b[0m \u001b[32m71.7/71.7 kB\u001b[0m \u001b[31m2.8 MB/s\u001b[0m eta \u001b[36m0:00:00\u001b[0m\n",
            "\u001b[?25hDownloading bitarray-2.9.3-cp310-cp310-manylinux_2_17_x86_64.manylinux2014_x86_64.whl (288 kB)\n",
            "\u001b[2K   \u001b[90m━━━━━━━━━━━━━━━━━━━━━━━━━━━━━━━━━━━━━━━━\u001b[0m \u001b[32m288.4/288.4 kB\u001b[0m \u001b[31m11.3 MB/s\u001b[0m eta \u001b[36m0:00:00\u001b[0m\n",
            "\u001b[?25hBuilding wheels for collected packages: mpi4py\n",
            "  Building wheel for mpi4py (pyproject.toml) ... \u001b[?25l\u001b[?25hdone\n",
            "  Created wheel for mpi4py: filename=mpi4py-4.0.1-cp310-cp310-linux_x86_64.whl size=4266351 sha256=d55852abc1c22b1a3e744b5e93872687fb6f3ffbb3ed57da9c345c545832317a\n",
            "  Stored in directory: /root/.cache/pip/wheels/3c/ca/13/13218a83854023ccec184e3af482f0f038b434aa32c19afee8\n",
            "Successfully built mpi4py\n",
            "Installing collected packages: bitarray, TINTOlib, mpi4py, bitstring\n",
            "Successfully installed TINTOlib-0.0.26 bitarray-2.9.3 bitstring-4.2.3 mpi4py-4.0.1\n"
          ]
        }
      ]
    },
    {
      "cell_type": "code",
      "source": [
        "!pip install keras_preprocessing --quiet"
      ],
      "metadata": {
        "colab": {
          "base_uri": "https://localhost:8080/"
        },
        "id": "Did7LaJUOano",
        "outputId": "ee06347e-884c-4329-e163-93ccb9f23678"
      },
      "execution_count": 2,
      "outputs": [
        {
          "output_type": "stream",
          "name": "stdout",
          "text": [
            "\u001b[?25l   \u001b[90m━━━━━━━━━━━━━━━━━━━━━━━━━━━━━━━━━━━━━━━━\u001b[0m \u001b[32m0.0/42.6 kB\u001b[0m \u001b[31m?\u001b[0m eta \u001b[36m-:--:--\u001b[0m\r\u001b[2K   \u001b[90m━━━━━━━━━━━━━━━━━━━━━━━━━━━━━━━━━━━━━━━━\u001b[0m \u001b[32m42.6/42.6 kB\u001b[0m \u001b[31m1.3 MB/s\u001b[0m eta \u001b[36m0:00:00\u001b[0m\n",
            "\u001b[?25h"
          ]
        }
      ]
    },
    {
      "cell_type": "markdown",
      "metadata": {
        "id": "qwYF5A2njpC8"
      },
      "source": [
        "<a id=\"section2\"></a>\n",
        "# <font color=\"#004D7F\" size=6> 2. Libraries</font>"
      ]
    },
    {
      "cell_type": "markdown",
      "metadata": {
        "id": "5Q0ZQktiOXSh"
      },
      "source": [
        "---\n",
        "<a id=\"section22\"></a>\n",
        "# <font color=\"#004D7F\" size=5> 2.2. Invoke the libraries</font>"
      ]
    },
    {
      "cell_type": "code",
      "execution_count": 3,
      "metadata": {
        "id": "PeeBbGxlpjFp",
        "tags": []
      },
      "outputs": [],
      "source": [
        "import os\n",
        "import random\n",
        "import pandas as pd\n",
        "import numpy as np\n",
        "from tqdm import tqdm\n",
        "#import cv2\n",
        "import gc\n",
        "import matplotlib.pyplot as plt\n",
        "#import openslide\n",
        "#from openslide.deepzoom import DeepZoomGenerator\n",
        "import tifffile as tifi\n",
        "import sklearn\n",
        "import tensorflow as tf\n",
        "import seaborn as sns\n",
        "from PIL import Image\n",
        "\n",
        "\n",
        "from sklearn.metrics import mean_absolute_error, mean_squared_error, r2_score,mean_absolute_percentage_error\n",
        "\n",
        "from keras_preprocessing.image import ImageDataGenerator\n",
        "from tensorflow.keras.models import load_model\n",
        "\n",
        "from sklearn.model_selection import train_test_split\n",
        "from tensorflow.keras.applications import vgg16, vgg19, resnet50, mobilenet, inception_resnet_v2, densenet, inception_v3, xception, nasnet, ResNet152V2\n",
        "from tensorflow.keras.models import Sequential, Model, load_model\n",
        "from tensorflow.keras.layers import Dense, Conv2D, MaxPool2D, Flatten, Dropout, BatchNormalization, InputLayer, LayerNormalization\n",
        "from tensorflow.keras.callbacks import ModelCheckpoint, ReduceLROnPlateau, EarlyStopping\n",
        "from tensorflow.keras.optimizers import SGD, Adam, Adadelta, Adamax, AdamW\n",
        "from tensorflow.keras import layers, models, Model\n",
        "from tensorflow.keras.losses import MeanAbsoluteError, MeanAbsolutePercentageError\n",
        "from tensorflow.keras.layers import Input, Activation, MaxPooling2D, concatenate, Concatenate, AveragePooling2D\n",
        "from tensorflow.keras.utils import to_categorical\n",
        "from keras.utils import plot_model\n",
        "\n",
        "\n",
        "from imblearn.under_sampling import RandomUnderSampler\n",
        "\n",
        "#Models of TINTOlib\n",
        "from TINTOlib.tinto import TINTO\n",
        "from TINTOlib.supertml import SuperTML\n",
        "from TINTOlib.igtd import IGTD\n",
        "from TINTOlib.refined import REFINED\n",
        "from TINTOlib.barGraph import BarGraph\n",
        "from TINTOlib.distanceMatrix import DistanceMatrix\n",
        "from TINTOlib.combination import Combination\n",
        "from TINTOlib.featureWrap import FeatureWrap\n",
        "\n",
        "\n",
        "SEED = 64\n",
        "# SET RANDOM SEED FOR REPRODUCIBILITY\n",
        "#torch.manual_seed(SEED)\n",
        "#torch.cuda.manual_seed(SEED)\n",
        "#torch.cuda.manual_seed_all(SEED)\n",
        "#torch.backends.cudnn.deterministic = True\n",
        "#torch.backends.cudnn.benchmark = False\n",
        "os.environ['PYTHONHASHSEED']=str(SEED)\n",
        "random.seed(SEED)\n",
        "np.random.seed(SEED)\n",
        "tf.random.set_seed(SEED)"
      ]
    },
    {
      "cell_type": "markdown",
      "metadata": {
        "id": "NwS-cKUxjpDQ"
      },
      "source": [
        "---\n",
        "<div style=\"text-align: right\"> <font size=5> <a href=\"#indice\"><i class=\"fa fa-arrow-circle-up\" aria-hidden=\"true\" style=\"color:#004D7F\"></i></a></font></div>\n",
        "\n",
        "---"
      ]
    },
    {
      "cell_type": "markdown",
      "metadata": {
        "id": "aDL4LARWjpDT"
      },
      "source": [
        "<a id=\"section3\"></a>\n",
        "# <font color=\"#004D7F\" size=6> 3. Data processing</font>"
      ]
    },
    {
      "cell_type": "markdown",
      "metadata": {
        "id": "jXcRw78ljpDU"
      },
      "source": [
        "The first thing to do is to read all the images created by TINTO. TINTO creates a folder which contains subfolders corresponding to each target that has the problem. Each image corresponds to a sample of the original dataset."
      ]
    },
    {
      "cell_type": "markdown",
      "metadata": {
        "id": "arNKJqb6OXSj"
      },
      "source": [
        "---\n",
        "<a id=\"section31\"></a>\n",
        "# <font color=\"#004D7F\" size=5> 3.1. TINTOlib methods</font>"
      ]
    },
    {
      "cell_type": "markdown",
      "metadata": {
        "id": "x6F1bMBbOXSj"
      },
      "source": [
        "We prepare the declaration of the classes with the TINTOlib method we want to transform. Note that TINTOlib has several methods and we will have to choose one of them since each method generates different images.\n",
        "\n",
        "In addition, we establish the paths where the dataset is located and also the folder where the images will be created."
      ]
    },
    {
      "cell_type": "code",
      "execution_count": 4,
      "metadata": {
        "id": "o3ZQIzrwOXSj"
      },
      "outputs": [],
      "source": [
        "#Select the model and the parameters\n",
        "problem_type = \"supervised\"\n",
        "#problem_type = \"regression\"\n",
        "pixelTML = 30\n",
        "pixel = 3\n",
        "## zoom para ampliar la imagen\n",
        "#image_model = REFINED(problem=problem_type, random_seed=SEED, zoom=5, n_processors=8)\n",
        "#image_model = TINTO(problem= problem_type, blur=True, option='maximum', pixels=pixel, random_seed=SEED)\n",
        "# scale sería [7,4] porque hay 26 variables (para 24 pixeles);\n",
        "#image_model = IGTD(problem= problem_type, random_seed=SEED, scale=[3,3], zoom=5)\n",
        "#image_model = BarGraph(problem= problem_type, pixel_width=2, gap=1, zoom=1)\n",
        "#image_model = DistanceMatrix(problem= problem_type, zoom=4)\n",
        "#image_model = Combination(problem= problem_type, zoom=3)\n",
        "#image_model = SuperTML(problem= problem_type, pixels = pixelTML, font_size=4, feature_importance=True, random_seed=SEED)\n",
        "#image_model = SuperTML(problem= problem_type, pixels=pixel, font_size=3, random_seed=SEED)\n",
        "image_model = FeatureWrap(problem= problem_type, bins=6, size=(pixel,pixel), zoom=5)\n",
        "\n",
        "#Define the dataset path and the folder where the images will be saved\n",
        "results_folder = \"FW\"\n",
        "dataset_path = \"../dataset_train.csv\"\n",
        "images_folder = \"FW\""
      ]
    },
    {
      "cell_type": "markdown",
      "metadata": {
        "id": "3zXAfZmKOXSk"
      },
      "source": [
        "<div class=\"alert alert-block alert-info\">\n",
        "\n",
        "<i class=\"fa fa-info-circle\" aria-hidden=\"true\"></i>\n",
        "You can see all TINTOlib method in the [PyPI documentation](https://tintolib.readthedocs.io/en/latest/installation.html)"
      ]
    },
    {
      "cell_type": "markdown",
      "metadata": {
        "id": "z79l7ZpsOXSk"
      },
      "source": [
        "---\n",
        "<a id=\"section32\"></a>\n",
        "# <font color=\"#004D7F\" size=5> 3.2. Read the dataset</font>"
      ]
    },
    {
      "cell_type": "markdown",
      "metadata": {
        "id": "ZGeNzkgVOXSk"
      },
      "source": [
        "In this part, we proceed to read the dataset according to the path specified above and also standardize the name that the target will have, in this case, it will be called `class`."
      ]
    },
    {
      "cell_type": "code",
      "execution_count": 5,
      "metadata": {
        "scrolled": true,
        "colab": {
          "base_uri": "https://localhost:8080/",
          "height": 112
        },
        "id": "jnx9p2OIOXSk",
        "outputId": "642801c7-bf8d-4876-d51c-4a5721a12824"
      },
      "outputs": [
        {
          "output_type": "execute_result",
          "data": {
            "text/plain": [
              "      O3   TMP    RH      1/RH  WSP    WDR  class\n",
              "0  163.0  28.2  17.0  0.058824  3.2  346.0      1\n",
              "1  170.0  28.9  23.0  0.043478  3.4  355.0      1"
            ],
            "text/html": [
              "\n",
              "  <div id=\"df-01694fef-221d-4e3c-9aac-818429eb3f47\" class=\"colab-df-container\">\n",
              "    <div>\n",
              "<style scoped>\n",
              "    .dataframe tbody tr th:only-of-type {\n",
              "        vertical-align: middle;\n",
              "    }\n",
              "\n",
              "    .dataframe tbody tr th {\n",
              "        vertical-align: top;\n",
              "    }\n",
              "\n",
              "    .dataframe thead th {\n",
              "        text-align: right;\n",
              "    }\n",
              "</style>\n",
              "<table border=\"1\" class=\"dataframe\">\n",
              "  <thead>\n",
              "    <tr style=\"text-align: right;\">\n",
              "      <th></th>\n",
              "      <th>O3</th>\n",
              "      <th>TMP</th>\n",
              "      <th>RH</th>\n",
              "      <th>1/RH</th>\n",
              "      <th>WSP</th>\n",
              "      <th>WDR</th>\n",
              "      <th>class</th>\n",
              "    </tr>\n",
              "  </thead>\n",
              "  <tbody>\n",
              "    <tr>\n",
              "      <th>0</th>\n",
              "      <td>163.0</td>\n",
              "      <td>28.2</td>\n",
              "      <td>17.0</td>\n",
              "      <td>0.058824</td>\n",
              "      <td>3.2</td>\n",
              "      <td>346.0</td>\n",
              "      <td>1</td>\n",
              "    </tr>\n",
              "    <tr>\n",
              "      <th>1</th>\n",
              "      <td>170.0</td>\n",
              "      <td>28.9</td>\n",
              "      <td>23.0</td>\n",
              "      <td>0.043478</td>\n",
              "      <td>3.4</td>\n",
              "      <td>355.0</td>\n",
              "      <td>1</td>\n",
              "    </tr>\n",
              "  </tbody>\n",
              "</table>\n",
              "</div>\n",
              "    <div class=\"colab-df-buttons\">\n",
              "\n",
              "  <div class=\"colab-df-container\">\n",
              "    <button class=\"colab-df-convert\" onclick=\"convertToInteractive('df-01694fef-221d-4e3c-9aac-818429eb3f47')\"\n",
              "            title=\"Convert this dataframe to an interactive table.\"\n",
              "            style=\"display:none;\">\n",
              "\n",
              "  <svg xmlns=\"http://www.w3.org/2000/svg\" height=\"24px\" viewBox=\"0 -960 960 960\">\n",
              "    <path d=\"M120-120v-720h720v720H120Zm60-500h600v-160H180v160Zm220 220h160v-160H400v160Zm0 220h160v-160H400v160ZM180-400h160v-160H180v160Zm440 0h160v-160H620v160ZM180-180h160v-160H180v160Zm440 0h160v-160H620v160Z\"/>\n",
              "  </svg>\n",
              "    </button>\n",
              "\n",
              "  <style>\n",
              "    .colab-df-container {\n",
              "      display:flex;\n",
              "      gap: 12px;\n",
              "    }\n",
              "\n",
              "    .colab-df-convert {\n",
              "      background-color: #E8F0FE;\n",
              "      border: none;\n",
              "      border-radius: 50%;\n",
              "      cursor: pointer;\n",
              "      display: none;\n",
              "      fill: #1967D2;\n",
              "      height: 32px;\n",
              "      padding: 0 0 0 0;\n",
              "      width: 32px;\n",
              "    }\n",
              "\n",
              "    .colab-df-convert:hover {\n",
              "      background-color: #E2EBFA;\n",
              "      box-shadow: 0px 1px 2px rgba(60, 64, 67, 0.3), 0px 1px 3px 1px rgba(60, 64, 67, 0.15);\n",
              "      fill: #174EA6;\n",
              "    }\n",
              "\n",
              "    .colab-df-buttons div {\n",
              "      margin-bottom: 4px;\n",
              "    }\n",
              "\n",
              "    [theme=dark] .colab-df-convert {\n",
              "      background-color: #3B4455;\n",
              "      fill: #D2E3FC;\n",
              "    }\n",
              "\n",
              "    [theme=dark] .colab-df-convert:hover {\n",
              "      background-color: #434B5C;\n",
              "      box-shadow: 0px 1px 3px 1px rgba(0, 0, 0, 0.15);\n",
              "      filter: drop-shadow(0px 1px 2px rgba(0, 0, 0, 0.3));\n",
              "      fill: #FFFFFF;\n",
              "    }\n",
              "  </style>\n",
              "\n",
              "    <script>\n",
              "      const buttonEl =\n",
              "        document.querySelector('#df-01694fef-221d-4e3c-9aac-818429eb3f47 button.colab-df-convert');\n",
              "      buttonEl.style.display =\n",
              "        google.colab.kernel.accessAllowed ? 'block' : 'none';\n",
              "\n",
              "      async function convertToInteractive(key) {\n",
              "        const element = document.querySelector('#df-01694fef-221d-4e3c-9aac-818429eb3f47');\n",
              "        const dataTable =\n",
              "          await google.colab.kernel.invokeFunction('convertToInteractive',\n",
              "                                                    [key], {});\n",
              "        if (!dataTable) return;\n",
              "\n",
              "        const docLinkHtml = 'Like what you see? Visit the ' +\n",
              "          '<a target=\"_blank\" href=https://colab.research.google.com/notebooks/data_table.ipynb>data table notebook</a>'\n",
              "          + ' to learn more about interactive tables.';\n",
              "        element.innerHTML = '';\n",
              "        dataTable['output_type'] = 'display_data';\n",
              "        await google.colab.output.renderOutput(dataTable, element);\n",
              "        const docLink = document.createElement('div');\n",
              "        docLink.innerHTML = docLinkHtml;\n",
              "        element.appendChild(docLink);\n",
              "      }\n",
              "    </script>\n",
              "  </div>\n",
              "\n",
              "\n",
              "<div id=\"df-c85f085f-413c-4f37-bcb7-30983f266241\">\n",
              "  <button class=\"colab-df-quickchart\" onclick=\"quickchart('df-c85f085f-413c-4f37-bcb7-30983f266241')\"\n",
              "            title=\"Suggest charts\"\n",
              "            style=\"display:none;\">\n",
              "\n",
              "<svg xmlns=\"http://www.w3.org/2000/svg\" height=\"24px\"viewBox=\"0 0 24 24\"\n",
              "     width=\"24px\">\n",
              "    <g>\n",
              "        <path d=\"M19 3H5c-1.1 0-2 .9-2 2v14c0 1.1.9 2 2 2h14c1.1 0 2-.9 2-2V5c0-1.1-.9-2-2-2zM9 17H7v-7h2v7zm4 0h-2V7h2v10zm4 0h-2v-4h2v4z\"/>\n",
              "    </g>\n",
              "</svg>\n",
              "  </button>\n",
              "\n",
              "<style>\n",
              "  .colab-df-quickchart {\n",
              "      --bg-color: #E8F0FE;\n",
              "      --fill-color: #1967D2;\n",
              "      --hover-bg-color: #E2EBFA;\n",
              "      --hover-fill-color: #174EA6;\n",
              "      --disabled-fill-color: #AAA;\n",
              "      --disabled-bg-color: #DDD;\n",
              "  }\n",
              "\n",
              "  [theme=dark] .colab-df-quickchart {\n",
              "      --bg-color: #3B4455;\n",
              "      --fill-color: #D2E3FC;\n",
              "      --hover-bg-color: #434B5C;\n",
              "      --hover-fill-color: #FFFFFF;\n",
              "      --disabled-bg-color: #3B4455;\n",
              "      --disabled-fill-color: #666;\n",
              "  }\n",
              "\n",
              "  .colab-df-quickchart {\n",
              "    background-color: var(--bg-color);\n",
              "    border: none;\n",
              "    border-radius: 50%;\n",
              "    cursor: pointer;\n",
              "    display: none;\n",
              "    fill: var(--fill-color);\n",
              "    height: 32px;\n",
              "    padding: 0;\n",
              "    width: 32px;\n",
              "  }\n",
              "\n",
              "  .colab-df-quickchart:hover {\n",
              "    background-color: var(--hover-bg-color);\n",
              "    box-shadow: 0 1px 2px rgba(60, 64, 67, 0.3), 0 1px 3px 1px rgba(60, 64, 67, 0.15);\n",
              "    fill: var(--button-hover-fill-color);\n",
              "  }\n",
              "\n",
              "  .colab-df-quickchart-complete:disabled,\n",
              "  .colab-df-quickchart-complete:disabled:hover {\n",
              "    background-color: var(--disabled-bg-color);\n",
              "    fill: var(--disabled-fill-color);\n",
              "    box-shadow: none;\n",
              "  }\n",
              "\n",
              "  .colab-df-spinner {\n",
              "    border: 2px solid var(--fill-color);\n",
              "    border-color: transparent;\n",
              "    border-bottom-color: var(--fill-color);\n",
              "    animation:\n",
              "      spin 1s steps(1) infinite;\n",
              "  }\n",
              "\n",
              "  @keyframes spin {\n",
              "    0% {\n",
              "      border-color: transparent;\n",
              "      border-bottom-color: var(--fill-color);\n",
              "      border-left-color: var(--fill-color);\n",
              "    }\n",
              "    20% {\n",
              "      border-color: transparent;\n",
              "      border-left-color: var(--fill-color);\n",
              "      border-top-color: var(--fill-color);\n",
              "    }\n",
              "    30% {\n",
              "      border-color: transparent;\n",
              "      border-left-color: var(--fill-color);\n",
              "      border-top-color: var(--fill-color);\n",
              "      border-right-color: var(--fill-color);\n",
              "    }\n",
              "    40% {\n",
              "      border-color: transparent;\n",
              "      border-right-color: var(--fill-color);\n",
              "      border-top-color: var(--fill-color);\n",
              "    }\n",
              "    60% {\n",
              "      border-color: transparent;\n",
              "      border-right-color: var(--fill-color);\n",
              "    }\n",
              "    80% {\n",
              "      border-color: transparent;\n",
              "      border-right-color: var(--fill-color);\n",
              "      border-bottom-color: var(--fill-color);\n",
              "    }\n",
              "    90% {\n",
              "      border-color: transparent;\n",
              "      border-bottom-color: var(--fill-color);\n",
              "    }\n",
              "  }\n",
              "</style>\n",
              "\n",
              "  <script>\n",
              "    async function quickchart(key) {\n",
              "      const quickchartButtonEl =\n",
              "        document.querySelector('#' + key + ' button');\n",
              "      quickchartButtonEl.disabled = true;  // To prevent multiple clicks.\n",
              "      quickchartButtonEl.classList.add('colab-df-spinner');\n",
              "      try {\n",
              "        const charts = await google.colab.kernel.invokeFunction(\n",
              "            'suggestCharts', [key], {});\n",
              "      } catch (error) {\n",
              "        console.error('Error during call to suggestCharts:', error);\n",
              "      }\n",
              "      quickchartButtonEl.classList.remove('colab-df-spinner');\n",
              "      quickchartButtonEl.classList.add('colab-df-quickchart-complete');\n",
              "    }\n",
              "    (() => {\n",
              "      let quickchartButtonEl =\n",
              "        document.querySelector('#df-c85f085f-413c-4f37-bcb7-30983f266241 button');\n",
              "      quickchartButtonEl.style.display =\n",
              "        google.colab.kernel.accessAllowed ? 'block' : 'none';\n",
              "    })();\n",
              "  </script>\n",
              "</div>\n",
              "\n",
              "    </div>\n",
              "  </div>\n"
            ],
            "application/vnd.google.colaboratory.intrinsic+json": {
              "type": "dataframe",
              "variable_name": "df",
              "summary": "{\n  \"name\": \"df\",\n  \"rows\": 23809,\n  \"fields\": [\n    {\n      \"column\": \"O3\",\n      \"properties\": {\n        \"dtype\": \"number\",\n        \"std\": 29.55113576096343,\n        \"min\": 3.0,\n        \"max\": 210.0,\n        \"num_unique_values\": 478,\n        \"samples\": [\n          70.28571429,\n          79.0,\n          77.0\n        ],\n        \"semantic_type\": \"\",\n        \"description\": \"\"\n      }\n    },\n    {\n      \"column\": \"TMP\",\n      \"properties\": {\n        \"dtype\": \"number\",\n        \"std\": 4.968508496049189,\n        \"min\": 6.6,\n        \"max\": 35.3,\n        \"num_unique_values\": 1153,\n        \"samples\": [\n          22.01428571,\n          11.02857143,\n          25.81428571\n        ],\n        \"semantic_type\": \"\",\n        \"description\": \"\"\n      }\n    },\n    {\n      \"column\": \"RH\",\n      \"properties\": {\n        \"dtype\": \"number\",\n        \"std\": 21.65810181455652,\n        \"min\": 5.0,\n        \"max\": 100.0,\n        \"num_unique_values\": 433,\n        \"samples\": [\n          86.85714286,\n          75.0,\n          80.85714286\n        ],\n        \"semantic_type\": \"\",\n        \"description\": \"\"\n      }\n    },\n    {\n      \"column\": \"1/RH\",\n      \"properties\": {\n        \"dtype\": \"number\",\n        \"std\": 0.010002725743243186,\n        \"min\": 0.01,\n        \"max\": 0.2,\n        \"num_unique_values\": 433,\n        \"samples\": [\n          0.011513158,\n          0.013333333,\n          0.012367491\n        ],\n        \"semantic_type\": \"\",\n        \"description\": \"\"\n      }\n    },\n    {\n      \"column\": \"WSP\",\n      \"properties\": {\n        \"dtype\": \"number\",\n        \"std\": 1.430145682233255,\n        \"min\": 0.928571429,\n        \"max\": 10.1,\n        \"num_unique_values\": 365,\n        \"samples\": [\n          5.314285714,\n          1.5,\n          4.2\n        ],\n        \"semantic_type\": \"\",\n        \"description\": \"\"\n      }\n    },\n    {\n      \"column\": \"WDR\",\n      \"properties\": {\n        \"dtype\": \"number\",\n        \"std\": 34.641026552118696,\n        \"min\": 65.0,\n        \"max\": 360.0,\n        \"num_unique_values\": 378,\n        \"samples\": [\n          334.8571429,\n          200.1428571,\n          295.7142857\n        ],\n        \"semantic_type\": \"\",\n        \"description\": \"\"\n      }\n    },\n    {\n      \"column\": \"class\",\n      \"properties\": {\n        \"dtype\": \"number\",\n        \"std\": 0,\n        \"min\": 0,\n        \"max\": 1,\n        \"num_unique_values\": 2,\n        \"samples\": [\n          0,\n          1\n        ],\n        \"semantic_type\": \"\",\n        \"description\": \"\"\n      }\n    }\n  ]\n}"
            }
          },
          "metadata": {},
          "execution_count": 5
        }
      ],
      "source": [
        "#Read CSV\n",
        "df = pd.read_csv(\"sample_data/dataset_train.csv\")\n",
        "df.head(2)"
      ]
    },
    {
      "cell_type": "markdown",
      "metadata": {
        "id": "1wzVHbbuOXSk"
      },
      "source": [
        "---\n",
        "<a id=\"section33\"></a>\n",
        "# <font color=\"#004D7F\" size=5> 3.3. Generate images</font>"
      ]
    },
    {
      "cell_type": "markdown",
      "metadata": {
        "id": "2dvuFqFoOXSk"
      },
      "source": [
        "Now we can generate the images with the `generateImages()` generic function. Likewise, we create a dataset that will have the path of each of the samples with the corresponding image created for it.\n",
        "\n",
        "Note that each image is created based on a row, therefore, each numerical sample of the dataset will correspond to a particular image. In other words, we will have the same number of images as samples/rows."
      ]
    },
    {
      "cell_type": "code",
      "execution_count": 6,
      "metadata": {
        "colab": {
          "base_uri": "https://localhost:8080/"
        },
        "id": "KWJqz57aOXSk",
        "outputId": "e39c089d-723f-40cc-9458-11d3bc96a578"
      },
      "outputs": [
        {
          "output_type": "stream",
          "name": "stdout",
          "text": [
            "FW/supervised.csv\n"
          ]
        }
      ],
      "source": [
        "import os\n",
        "\n",
        "# Generate the images if the folder does not exist\n",
        "if not os.path.exists(images_folder):\n",
        "    #Generate thet images\n",
        "    image_model.generateImages(df, images_folder)\n",
        "else:\n",
        "    print(\"The images are already generated\")\n",
        "\n",
        "img_paths = os.path.join(images_folder,problem_type+\".csv\")\n",
        "\n",
        "print(img_paths)"
      ]
    },
    {
      "cell_type": "markdown",
      "metadata": {
        "id": "3Tv0OrBdOXSl"
      },
      "source": [
        "---\n",
        "<a id=\"section34\"></a>\n",
        "# <font color=\"#004D7F\" size=5> 3.4. Read Images</font>"
      ]
    },
    {
      "cell_type": "markdown",
      "metadata": {
        "id": "9iTe1gy-OXSl"
      },
      "source": [
        "Now, we read the created images"
      ]
    },
    {
      "cell_type": "code",
      "execution_count": 7,
      "metadata": {
        "id": "INQ3f4u7OXSl"
      },
      "outputs": [],
      "source": [
        "imgs = pd.read_csv(img_paths)\n",
        "\n",
        "#imgs[\"images\"]= images_folder + \"\\\\\" + imgs[\"images\"]\n",
        "imgs[\"images\"]= images_folder + \"/\" + imgs[\"images\"]"
      ]
    },
    {
      "cell_type": "markdown",
      "metadata": {
        "id": "lbps0OGfOXSl"
      },
      "source": [
        "---\n",
        "<a id=\"section35\"></a>\n",
        "# <font color=\"#004D7F\" size=5> 3.5. Mix images and tidy data</font>"
      ]
    },
    {
      "cell_type": "markdown",
      "metadata": {
        "id": "0OK0VuvvOXSl"
      },
      "source": [
        "Since we are going to use hybrid networks, i.e. create a model in which we join a CNN for the images and a MLP for the tabular data, we are going to join it in order to integrate all the data in our hybrid model.\n"
      ]
    },
    {
      "cell_type": "code",
      "execution_count": 8,
      "metadata": {
        "colab": {
          "base_uri": "https://localhost:8080/",
          "height": 112
        },
        "id": "z-4WTv2dOXSl",
        "outputId": "ac0fdad4-ecf4-4018-bbaa-1f043039ce7b"
      },
      "outputs": [
        {
          "output_type": "execute_result",
          "data": {
            "text/plain": [
              "         O3       TMP        RH      1/RH       WSP       WDR  class\n",
              "0  0.772947  0.752613  0.126316  0.256966  0.247664  0.952542      1\n",
              "1  0.806763  0.777003  0.189474  0.176201  0.269470  0.983051      1"
            ],
            "text/html": [
              "\n",
              "  <div id=\"df-e0153ed6-bd05-4206-b4ee-c1f28e65ae0e\" class=\"colab-df-container\">\n",
              "    <div>\n",
              "<style scoped>\n",
              "    .dataframe tbody tr th:only-of-type {\n",
              "        vertical-align: middle;\n",
              "    }\n",
              "\n",
              "    .dataframe tbody tr th {\n",
              "        vertical-align: top;\n",
              "    }\n",
              "\n",
              "    .dataframe thead th {\n",
              "        text-align: right;\n",
              "    }\n",
              "</style>\n",
              "<table border=\"1\" class=\"dataframe\">\n",
              "  <thead>\n",
              "    <tr style=\"text-align: right;\">\n",
              "      <th></th>\n",
              "      <th>O3</th>\n",
              "      <th>TMP</th>\n",
              "      <th>RH</th>\n",
              "      <th>1/RH</th>\n",
              "      <th>WSP</th>\n",
              "      <th>WDR</th>\n",
              "      <th>class</th>\n",
              "    </tr>\n",
              "  </thead>\n",
              "  <tbody>\n",
              "    <tr>\n",
              "      <th>0</th>\n",
              "      <td>0.772947</td>\n",
              "      <td>0.752613</td>\n",
              "      <td>0.126316</td>\n",
              "      <td>0.256966</td>\n",
              "      <td>0.247664</td>\n",
              "      <td>0.952542</td>\n",
              "      <td>1</td>\n",
              "    </tr>\n",
              "    <tr>\n",
              "      <th>1</th>\n",
              "      <td>0.806763</td>\n",
              "      <td>0.777003</td>\n",
              "      <td>0.189474</td>\n",
              "      <td>0.176201</td>\n",
              "      <td>0.269470</td>\n",
              "      <td>0.983051</td>\n",
              "      <td>1</td>\n",
              "    </tr>\n",
              "  </tbody>\n",
              "</table>\n",
              "</div>\n",
              "    <div class=\"colab-df-buttons\">\n",
              "\n",
              "  <div class=\"colab-df-container\">\n",
              "    <button class=\"colab-df-convert\" onclick=\"convertToInteractive('df-e0153ed6-bd05-4206-b4ee-c1f28e65ae0e')\"\n",
              "            title=\"Convert this dataframe to an interactive table.\"\n",
              "            style=\"display:none;\">\n",
              "\n",
              "  <svg xmlns=\"http://www.w3.org/2000/svg\" height=\"24px\" viewBox=\"0 -960 960 960\">\n",
              "    <path d=\"M120-120v-720h720v720H120Zm60-500h600v-160H180v160Zm220 220h160v-160H400v160Zm0 220h160v-160H400v160ZM180-400h160v-160H180v160Zm440 0h160v-160H620v160ZM180-180h160v-160H180v160Zm440 0h160v-160H620v160Z\"/>\n",
              "  </svg>\n",
              "    </button>\n",
              "\n",
              "  <style>\n",
              "    .colab-df-container {\n",
              "      display:flex;\n",
              "      gap: 12px;\n",
              "    }\n",
              "\n",
              "    .colab-df-convert {\n",
              "      background-color: #E8F0FE;\n",
              "      border: none;\n",
              "      border-radius: 50%;\n",
              "      cursor: pointer;\n",
              "      display: none;\n",
              "      fill: #1967D2;\n",
              "      height: 32px;\n",
              "      padding: 0 0 0 0;\n",
              "      width: 32px;\n",
              "    }\n",
              "\n",
              "    .colab-df-convert:hover {\n",
              "      background-color: #E2EBFA;\n",
              "      box-shadow: 0px 1px 2px rgba(60, 64, 67, 0.3), 0px 1px 3px 1px rgba(60, 64, 67, 0.15);\n",
              "      fill: #174EA6;\n",
              "    }\n",
              "\n",
              "    .colab-df-buttons div {\n",
              "      margin-bottom: 4px;\n",
              "    }\n",
              "\n",
              "    [theme=dark] .colab-df-convert {\n",
              "      background-color: #3B4455;\n",
              "      fill: #D2E3FC;\n",
              "    }\n",
              "\n",
              "    [theme=dark] .colab-df-convert:hover {\n",
              "      background-color: #434B5C;\n",
              "      box-shadow: 0px 1px 3px 1px rgba(0, 0, 0, 0.15);\n",
              "      filter: drop-shadow(0px 1px 2px rgba(0, 0, 0, 0.3));\n",
              "      fill: #FFFFFF;\n",
              "    }\n",
              "  </style>\n",
              "\n",
              "    <script>\n",
              "      const buttonEl =\n",
              "        document.querySelector('#df-e0153ed6-bd05-4206-b4ee-c1f28e65ae0e button.colab-df-convert');\n",
              "      buttonEl.style.display =\n",
              "        google.colab.kernel.accessAllowed ? 'block' : 'none';\n",
              "\n",
              "      async function convertToInteractive(key) {\n",
              "        const element = document.querySelector('#df-e0153ed6-bd05-4206-b4ee-c1f28e65ae0e');\n",
              "        const dataTable =\n",
              "          await google.colab.kernel.invokeFunction('convertToInteractive',\n",
              "                                                    [key], {});\n",
              "        if (!dataTable) return;\n",
              "\n",
              "        const docLinkHtml = 'Like what you see? Visit the ' +\n",
              "          '<a target=\"_blank\" href=https://colab.research.google.com/notebooks/data_table.ipynb>data table notebook</a>'\n",
              "          + ' to learn more about interactive tables.';\n",
              "        element.innerHTML = '';\n",
              "        dataTable['output_type'] = 'display_data';\n",
              "        await google.colab.output.renderOutput(dataTable, element);\n",
              "        const docLink = document.createElement('div');\n",
              "        docLink.innerHTML = docLinkHtml;\n",
              "        element.appendChild(docLink);\n",
              "      }\n",
              "    </script>\n",
              "  </div>\n",
              "\n",
              "\n",
              "<div id=\"df-cc4ce088-a0cf-4099-951f-73ef849b0fa5\">\n",
              "  <button class=\"colab-df-quickchart\" onclick=\"quickchart('df-cc4ce088-a0cf-4099-951f-73ef849b0fa5')\"\n",
              "            title=\"Suggest charts\"\n",
              "            style=\"display:none;\">\n",
              "\n",
              "<svg xmlns=\"http://www.w3.org/2000/svg\" height=\"24px\"viewBox=\"0 0 24 24\"\n",
              "     width=\"24px\">\n",
              "    <g>\n",
              "        <path d=\"M19 3H5c-1.1 0-2 .9-2 2v14c0 1.1.9 2 2 2h14c1.1 0 2-.9 2-2V5c0-1.1-.9-2-2-2zM9 17H7v-7h2v7zm4 0h-2V7h2v10zm4 0h-2v-4h2v4z\"/>\n",
              "    </g>\n",
              "</svg>\n",
              "  </button>\n",
              "\n",
              "<style>\n",
              "  .colab-df-quickchart {\n",
              "      --bg-color: #E8F0FE;\n",
              "      --fill-color: #1967D2;\n",
              "      --hover-bg-color: #E2EBFA;\n",
              "      --hover-fill-color: #174EA6;\n",
              "      --disabled-fill-color: #AAA;\n",
              "      --disabled-bg-color: #DDD;\n",
              "  }\n",
              "\n",
              "  [theme=dark] .colab-df-quickchart {\n",
              "      --bg-color: #3B4455;\n",
              "      --fill-color: #D2E3FC;\n",
              "      --hover-bg-color: #434B5C;\n",
              "      --hover-fill-color: #FFFFFF;\n",
              "      --disabled-bg-color: #3B4455;\n",
              "      --disabled-fill-color: #666;\n",
              "  }\n",
              "\n",
              "  .colab-df-quickchart {\n",
              "    background-color: var(--bg-color);\n",
              "    border: none;\n",
              "    border-radius: 50%;\n",
              "    cursor: pointer;\n",
              "    display: none;\n",
              "    fill: var(--fill-color);\n",
              "    height: 32px;\n",
              "    padding: 0;\n",
              "    width: 32px;\n",
              "  }\n",
              "\n",
              "  .colab-df-quickchart:hover {\n",
              "    background-color: var(--hover-bg-color);\n",
              "    box-shadow: 0 1px 2px rgba(60, 64, 67, 0.3), 0 1px 3px 1px rgba(60, 64, 67, 0.15);\n",
              "    fill: var(--button-hover-fill-color);\n",
              "  }\n",
              "\n",
              "  .colab-df-quickchart-complete:disabled,\n",
              "  .colab-df-quickchart-complete:disabled:hover {\n",
              "    background-color: var(--disabled-bg-color);\n",
              "    fill: var(--disabled-fill-color);\n",
              "    box-shadow: none;\n",
              "  }\n",
              "\n",
              "  .colab-df-spinner {\n",
              "    border: 2px solid var(--fill-color);\n",
              "    border-color: transparent;\n",
              "    border-bottom-color: var(--fill-color);\n",
              "    animation:\n",
              "      spin 1s steps(1) infinite;\n",
              "  }\n",
              "\n",
              "  @keyframes spin {\n",
              "    0% {\n",
              "      border-color: transparent;\n",
              "      border-bottom-color: var(--fill-color);\n",
              "      border-left-color: var(--fill-color);\n",
              "    }\n",
              "    20% {\n",
              "      border-color: transparent;\n",
              "      border-left-color: var(--fill-color);\n",
              "      border-top-color: var(--fill-color);\n",
              "    }\n",
              "    30% {\n",
              "      border-color: transparent;\n",
              "      border-left-color: var(--fill-color);\n",
              "      border-top-color: var(--fill-color);\n",
              "      border-right-color: var(--fill-color);\n",
              "    }\n",
              "    40% {\n",
              "      border-color: transparent;\n",
              "      border-right-color: var(--fill-color);\n",
              "      border-top-color: var(--fill-color);\n",
              "    }\n",
              "    60% {\n",
              "      border-color: transparent;\n",
              "      border-right-color: var(--fill-color);\n",
              "    }\n",
              "    80% {\n",
              "      border-color: transparent;\n",
              "      border-right-color: var(--fill-color);\n",
              "      border-bottom-color: var(--fill-color);\n",
              "    }\n",
              "    90% {\n",
              "      border-color: transparent;\n",
              "      border-bottom-color: var(--fill-color);\n",
              "    }\n",
              "  }\n",
              "</style>\n",
              "\n",
              "  <script>\n",
              "    async function quickchart(key) {\n",
              "      const quickchartButtonEl =\n",
              "        document.querySelector('#' + key + ' button');\n",
              "      quickchartButtonEl.disabled = true;  // To prevent multiple clicks.\n",
              "      quickchartButtonEl.classList.add('colab-df-spinner');\n",
              "      try {\n",
              "        const charts = await google.colab.kernel.invokeFunction(\n",
              "            'suggestCharts', [key], {});\n",
              "      } catch (error) {\n",
              "        console.error('Error during call to suggestCharts:', error);\n",
              "      }\n",
              "      quickchartButtonEl.classList.remove('colab-df-spinner');\n",
              "      quickchartButtonEl.classList.add('colab-df-quickchart-complete');\n",
              "    }\n",
              "    (() => {\n",
              "      let quickchartButtonEl =\n",
              "        document.querySelector('#df-cc4ce088-a0cf-4099-951f-73ef849b0fa5 button');\n",
              "      quickchartButtonEl.style.display =\n",
              "        google.colab.kernel.accessAllowed ? 'block' : 'none';\n",
              "    })();\n",
              "  </script>\n",
              "</div>\n",
              "\n",
              "    </div>\n",
              "  </div>\n"
            ],
            "application/vnd.google.colaboratory.intrinsic+json": {
              "type": "dataframe",
              "variable_name": "df_normalized",
              "summary": "{\n  \"name\": \"df_normalized\",\n  \"rows\": 23809,\n  \"fields\": [\n    {\n      \"column\": \"O3\",\n      \"properties\": {\n        \"dtype\": \"number\",\n        \"std\": 0.1427591099563472,\n        \"min\": 0.0,\n        \"max\": 1.0,\n        \"num_unique_values\": 478,\n        \"samples\": [\n          0.32505175985507245,\n          0.3671497584541063,\n          0.357487922705314\n        ],\n        \"semantic_type\": \"\",\n        \"description\": \"\"\n      }\n    },\n    {\n      \"column\": \"TMP\",\n      \"properties\": {\n        \"dtype\": \"number\",\n        \"std\": 0.17311876292854386,\n        \"min\": 0.0,\n        \"max\": 1.0,\n        \"num_unique_values\": 1153,\n        \"samples\": [\n          0.5370831257839722,\n          0.15430562473867598,\n          0.6694873069686411\n        ],\n        \"semantic_type\": \"\",\n        \"description\": \"\"\n      }\n    },\n    {\n      \"column\": \"RH\",\n      \"properties\": {\n        \"dtype\": \"number\",\n        \"std\": 0.22798001910059115,\n        \"min\": 0.0,\n        \"max\": 1.0,\n        \"num_unique_values\": 433,\n        \"samples\": [\n          0.8616541353684211,\n          0.7368421052631579,\n          0.7984962406315789\n        ],\n        \"semantic_type\": \"\",\n        \"description\": \"\"\n      }\n    },\n    {\n      \"column\": \"1/RH\",\n      \"properties\": {\n        \"dtype\": \"number\",\n        \"std\": 0.05264592496443704,\n        \"min\": 0.0,\n        \"max\": 1.0,\n        \"num_unique_values\": 433,\n        \"samples\": [\n          0.007963989473684213,\n          0.017543857894736836,\n          0.012460478947368417\n        ],\n        \"semantic_type\": \"\",\n        \"description\": \"\"\n      }\n    },\n    {\n      \"column\": \"WSP\",\n      \"properties\": {\n        \"dtype\": \"number\",\n        \"std\": 0.1559348874782059,\n        \"min\": 0.0,\n        \"max\": 1.0,\n        \"num_unique_values\": 365,\n        \"samples\": [\n          0.4781931463619094,\n          0.06230529590633825,\n          0.35669781928458094\n        ],\n        \"semantic_type\": \"\",\n        \"description\": \"\"\n      }\n    },\n    {\n      \"column\": \"WDR\",\n      \"properties\": {\n        \"dtype\": \"number\",\n        \"std\": 0.11742720865124916,\n        \"min\": 0.0,\n        \"max\": 1.0,\n        \"num_unique_values\": 378,\n        \"samples\": [\n          0.9147699759322033,\n          0.45811137999999996,\n          0.7820823244067797\n        ],\n        \"semantic_type\": \"\",\n        \"description\": \"\"\n      }\n    },\n    {\n      \"column\": \"class\",\n      \"properties\": {\n        \"dtype\": \"number\",\n        \"std\": 0,\n        \"min\": 0,\n        \"max\": 1,\n        \"num_unique_values\": 2,\n        \"samples\": [\n          0,\n          1\n        ],\n        \"semantic_type\": \"\",\n        \"description\": \"\"\n      }\n    }\n  ]\n}"
            }
          },
          "metadata": {},
          "execution_count": 8
        }
      ],
      "source": [
        "# Select all the attributes to normalize\n",
        "columns_to_normalize = df.columns[:-1]\n",
        "\n",
        "# Normalize between 0 and 1\n",
        "df_normalized = (df[columns_to_normalize] - df[columns_to_normalize].min()) / (df[columns_to_normalize].max() - df[columns_to_normalize].min())\n",
        "\n",
        "# Combine the attributes and the label\n",
        "df_normalized = pd.concat([df_normalized, df[df.columns[-1]]], axis=1)\n",
        "\n",
        "df_normalized.head(2)"
      ]
    },
    {
      "cell_type": "markdown",
      "metadata": {
        "id": "eowNBNdfOXSl"
      },
      "source": [
        "Combine the images and tidy data in the same dataframe, split attributes and objective value"
      ]
    },
    {
      "cell_type": "code",
      "execution_count": 9,
      "metadata": {
        "colab": {
          "base_uri": "https://localhost:8080/"
        },
        "id": "s2ZwQmJvOXSl",
        "outputId": "e31226d6-15c0-4c8f-af76-37bd6808917a"
      },
      "outputs": [
        {
          "output_type": "stream",
          "name": "stdout",
          "text": [
            "0        1\n",
            "1        1\n",
            "2        1\n",
            "3        1\n",
            "4        1\n",
            "        ..\n",
            "23804    0\n",
            "23805    0\n",
            "23806    0\n",
            "23807    0\n",
            "23808    0\n",
            "Name: class, Length: 23809, dtype: int64\n"
          ]
        }
      ],
      "source": [
        "combined_dataset = pd.concat([imgs,df_normalized[columns_to_normalize]],axis=1)\n",
        "\n",
        "df_x = combined_dataset.drop(\"class\",axis=1)\n",
        "df_y = combined_dataset[\"class\"]\n",
        "\n",
        "print(df_y)"
      ]
    },
    {
      "cell_type": "markdown",
      "metadata": {
        "id": "fLKGVF1AOXSm"
      },
      "source": [
        "---\n",
        "<a id=\"section36\"></a>\n",
        "# <font color=\"#004D7F\" size=5> 3.6. Label encoding</font>"
      ]
    },
    {
      "cell_type": "markdown",
      "metadata": {
        "id": "b1hm331BOXSm"
      },
      "source": [
        "\n",
        "In this section, we delve into label encoding, a crucial preprocessing step for preparing categorical labels for use in machine learning models. Specifically for binary classification tasks, label encoding involves transforming categorical labels into a binary format, represented by the integers 0 and 1."
      ]
    },
    {
      "cell_type": "code",
      "execution_count": null,
      "metadata": {
        "id": "_PaNjCN5OXSm"
      },
      "outputs": [],
      "source": [
        "#from sklearn.preprocessing import LabelEncoder\n",
        "#encoder = LabelEncoder()\n",
        "#df_y = encoder.fit_transform(df_y)"
      ]
    },
    {
      "cell_type": "markdown",
      "metadata": {
        "id": "_haEKIo7jpD1"
      },
      "source": [
        "---\n",
        "<div style=\"text-align: right\"> <font size=5> <a href=\"#indice\"><i class=\"fa fa-arrow-circle-up\" aria-hidden=\"true\" style=\"color:#004D7F\"></i></a></font></div>\n",
        "\n",
        "---"
      ]
    },
    {
      "cell_type": "markdown",
      "metadata": {
        "id": "uF1lJWbojpD3"
      },
      "source": [
        "<a id=\"section4\"></a>\n",
        "# <font color=\"#004D7F\" size=6> 4. Pre-modelling phase</font>"
      ]
    },
    {
      "cell_type": "code",
      "execution_count": 10,
      "metadata": {
        "id": "Xyq2YLGxOXSm"
      },
      "outputs": [],
      "source": [
        "# Depends on the method yo may have to change the value of pixel variable\n",
        "pixel=15"
      ]
    },
    {
      "cell_type": "code",
      "execution_count": 11,
      "metadata": {
        "colab": {
          "base_uri": "https://localhost:8080/"
        },
        "id": "560t7_LuOXSm",
        "outputId": "eb1a578b-bf7a-4125-8a0e-ad52ba3e4634"
      },
      "outputs": [
        {
          "output_type": "stream",
          "name": "stdout",
          "text": [
            "Images shape:  (15, 15)\n",
            "Attributres:  6\n",
            "Image size (pixels): 15\n"
          ]
        }
      ],
      "source": [
        "import cv2\n",
        "X_train, X_val, y_train, y_val = train_test_split(df_x, df_y, test_size = 0.40, random_state = SEED,stratify=df_y)\n",
        "X_val, X_test, y_val, y_test = train_test_split(X_val, y_val, test_size = 0.50, random_state = SEED,stratify=y_val)\n",
        "\n",
        "#TIDY DATA SPLITTED\n",
        "X_train_num = X_train.drop(\"images\",axis=1)\n",
        "X_val_num = X_val.drop(\"images\",axis=1)\n",
        "X_test_num = X_test.drop(\"images\",axis=1)\n",
        "\n",
        "#IMAGES\n",
        "# For 3 canal (RGB)\n",
        "\"\"\"X_train_img = np.array([cv2.resize(cv2.imread(img),(pixel,pixel)) for img in X_train[\"images\"]])\n",
        "X_val_img = np.array([cv2.resize(cv2.imread(img),(pixel,pixel)) for img in X_val[\"images\"]])\n",
        "X_test_img = np.array([cv2.resize(cv2.imread(img),(pixel,pixel)) for img in X_test[\"images\"]])\"\"\"\n",
        "\n",
        "# For 1 canal (GRAY SCALE)\n",
        "X_train_img = np.array([cv2.imread(img,cv2.IMREAD_GRAYSCALE) for img in X_train[\"images\"]])\n",
        "X_val_img = np.array([cv2.imread(img,cv2.IMREAD_GRAYSCALE) for img in X_val[\"images\"]])\n",
        "X_test_img = np.array([cv2.imread(img,cv2.IMREAD_GRAYSCALE) for img in X_test[\"images\"]])\n",
        "\n",
        "attributes = len(X_train_num.columns)\n",
        "imgs_shape = X_train_img[0].shape\n",
        "\n",
        "print(\"Images shape: \",imgs_shape)\n",
        "print(\"Attributres: \",attributes)\n",
        "pixel=X_train_img[0].shape[0]\n",
        "print(\"Image size (pixels):\", pixel)"
      ]
    },
    {
      "cell_type": "code",
      "execution_count": 12,
      "metadata": {
        "id": "YE0G9uGnOXSm"
      },
      "outputs": [],
      "source": [
        "X_train_img = X_train_img/255\n",
        "X_val_img = X_val_img/255\n",
        "X_test_img = X_test_img/255"
      ]
    },
    {
      "cell_type": "markdown",
      "metadata": {
        "id": "IuAq4GPtOXSn"
      },
      "source": [
        "<a id=\"section5\"></a>\n",
        "# <font color=\"#004D7F\" size=6> 5. Modeling hybrid network</font>"
      ]
    },
    {
      "cell_type": "markdown",
      "metadata": {
        "id": "jrgvlmJOOXSn"
      },
      "source": [
        "Now we can start the CNN+MLP training. Before that we prepare the algorithm for reading data.\n",
        "\n",
        "In this example, 2 branch networks is created\n",
        "- 1º branch: FFNN for tabular data\n",
        "- 2º branch: CNN for TINTOlib images"
      ]
    },
    {
      "cell_type": "markdown",
      "metadata": {
        "id": "cKfyrDavOXSn"
      },
      "source": [
        "---\n",
        "<a id=\"section51\"></a>\n",
        "# <font color=\"#004D7F\" size=5> 5.1. FFNN for tabular data</font>\n",
        "\n",
        "This is an example of a simple FFNN for tabular data. Note that we are not looking for the optimization of the CNN but to show an example of TINTOlib execution."
      ]
    },
    {
      "cell_type": "code",
      "execution_count": 13,
      "metadata": {
        "id": "zdXLMsPUOXSn"
      },
      "outputs": [],
      "source": [
        "dropout = 0.1"
      ]
    },
    {
      "cell_type": "code",
      "execution_count": 14,
      "metadata": {
        "id": "ljn6zIAiOXSo"
      },
      "outputs": [],
      "source": [
        "filters_ffnn = [1024,512,256,128,64,32,16]\n",
        "\n",
        "ff_inputs = Input(shape = (attributes,))\n",
        "\n",
        "# * START BRANCH 1\n",
        "#mlp_1 = Dense(1024, activation='relu')(ff_inputs)\n",
        "#mlp_1 = BatchNormalization()(mlp_1)\n",
        "#mlp_1 = Dropout(dropout)(mlp_1)\n",
        "\n",
        "#mlp_1 = Dense(512, activation='relu')(ff_inputs)\n",
        "#mlp_1 = BatchNormalization()(mlp_1)\n",
        "#mlp_1 = Dropout(dropout)(mlp_1)\n",
        "\n",
        "#mlp_1 = Dense(256, activation='relu')(ff_inputs)\n",
        "#mlp_1 = BatchNormalization()(mlp_1)\n",
        "#mlp_1 = Dropout(dropout)(mlp_1)\n",
        "\n",
        "mlp_1 = Dense(128, activation='relu')(ff_inputs)\n",
        "mlp_1 = BatchNormalization()(mlp_1)\n",
        "mlp_1 = Dropout(dropout)(mlp_1)\n",
        "\n",
        "mlp_1 = Dense(64, activation='relu')(mlp_1)\n",
        "mlp_1 = BatchNormalization()(mlp_1)\n",
        "mlp_1 = Dropout(dropout)(mlp_1)\n",
        "\n",
        "mlp_1 = Dense(32, activation='relu')(mlp_1)\n",
        "mlp_1 = BatchNormalization()(mlp_1)\n",
        "mlp_1 = Dropout(dropout)(mlp_1)\n",
        "\n",
        "mlp_1 = Dense(16, activation='relu')(mlp_1)\n",
        "mlp_1 = BatchNormalization()(mlp_1)\n",
        "mlp_1 = Dropout(dropout)(mlp_1)\n",
        "\n",
        "# * START BRANCH\n",
        "#mlp_2 = Dense(1024, activation='relu')(ff_inputs)\n",
        "#mlp_2 = BatchNormalization()(mlp_2)\n",
        "#mlp_2 = Dropout(dropout)(mlp_2)\n",
        "\n",
        "#mlp_2 = Dense(512, activation='relu')(ff_inputs)\n",
        "#mlp_2 = BatchNormalization()(mlp_2)\n",
        "#mlp_2 = Dropout(dropout)(mlp_2)\n",
        "\n",
        "#mlp_2 = Dense(256, activation='relu')(ff_inputs)\n",
        "#mlp_2 = BatchNormalization()(mlp_2)\n",
        "#mlp_2 = Dropout(dropout)(mlp_2)\n",
        "\n",
        "mlp_2 = Dense(128, activation='relu')(ff_inputs)\n",
        "mlp_2 = BatchNormalization()(mlp_2)\n",
        "mlp_2 = Dropout(dropout)(mlp_2)\n",
        "\n",
        "mlp_2 = Dense(64, activation='relu')(mlp_2)\n",
        "mlp_2 = BatchNormalization()(mlp_2)\n",
        "mlp_2 = Dropout(dropout)(mlp_2)\n",
        "\n",
        "mlp_2 = Dense(32, activation='relu')(mlp_2)\n",
        "mlp_2 = BatchNormalization()(mlp_2)\n",
        "mlp_2 = Dropout(dropout)(mlp_2)\n",
        "\n",
        "mlp_2 = Dense(16, activation='relu')(mlp_2)\n",
        "mlp_2 = BatchNormalization()(mlp_2)\n",
        "mlp_2 = Dropout(dropout)(mlp_2)\n",
        "\n",
        "\n",
        "merged_tabular = Concatenate(axis=1)([mlp_1, mlp_2])\n",
        "\n",
        "\n",
        "ff_model = Model(inputs = ff_inputs, outputs = merged_tabular)"
      ]
    },
    {
      "cell_type": "markdown",
      "metadata": {
        "id": "gpJ34ffkOXSo"
      },
      "source": [
        "---\n",
        "<a id=\"section52\"></a>\n",
        "# <font color=\"#004D7F\" size=5> 5.2. CNN for TINTOlib images</font>\n",
        "\n",
        "This is an example of a simple CNN for TINTOlib images. Note that we are not looking for the optimization of the CNN but to show an example of TINTOlib execution."
      ]
    },
    {
      "cell_type": "code",
      "execution_count": 15,
      "metadata": {
        "id": "srhRgcneOXSo"
      },
      "outputs": [],
      "source": [
        "#Input\n",
        "#input_shape = Input(shape=imgs_shape)\n",
        "input_shape = Input(shape=(pixel, pixel, 1))\n",
        "\n",
        "#Inicio de rama 1\n",
        "tower_1 = Conv2D(16, (3,3), activation='relu',padding=\"same\")(input_shape)\n",
        "#tower_1 = BatchNormalization()(tower_1)\n",
        "#tower_1 = Activation('relu')(tower_1)\n",
        "tower_1 = MaxPooling2D(2,2)(tower_1)\n",
        "#tower_1 = Dropout(dropout)(tower_1)\n",
        "\n",
        "tower_1 = Conv2D(32, (3,3), activation='relu',padding=\"same\")(tower_1)\n",
        "#tower_1 = BatchNormalization()(tower_1)\n",
        "#tower_1 = Activation('relu')(tower_1)\n",
        "tower_1 = MaxPooling2D(2,2)(tower_1)\n",
        "#tower_1 = Dropout(dropout)(tower_1)\n",
        "\n",
        "#tower_1 = Conv2D(64, (3,3), activation='relu',padding=\"same\")(tower_1)\n",
        "#tower_1 = BatchNormalization()(tower_1)\n",
        "#tower_1 = Activation('relu')(tower_1)\n",
        "#tower_1 = MaxPooling2D(2,2)(tower_1)\n",
        "#tower_1 = Dropout(dropout)(tower_1)\n",
        "\n",
        "#tower_1 = Conv2D(64, (3,3), activation='relu',padding=\"same\")(tower_1)\n",
        "#tower_1 = BatchNormalization()(tower_1)\n",
        "#tower_1 = Activation('relu')(tower_1)\n",
        "#tower_1 = MaxPooling2D(2,2)(tower_1)\n",
        "#tower_1 = Dropout(dropout)(tower_1)\n",
        "#Fin de rama 1\n",
        "\n",
        "#Inicio de rama 2\n",
        "tower_2 = Conv2D(16, (5,5), activation='relu',padding=\"same\")(input_shape)\n",
        "#tower_2 = BatchNormalization()(tower_2)\n",
        "#tower_2 = Activation('relu')(tower_2)\n",
        "tower_2 = AveragePooling2D(2,2)(tower_2)\n",
        "#tower_2 = Dropout(dropout)(tower_2)\n",
        "\n",
        "tower_2 = Conv2D(32, (5,5), activation='relu',padding=\"same\")(tower_2)\n",
        "#tower_2 = BatchNormalization()(tower_2)\n",
        "#tower_2 = Activation('relu')(tower_2)\n",
        "tower_2 = AveragePooling2D(2,2)(tower_2)\n",
        "#tower_2 = Dropout(dropout)(tower_2)\n",
        "\n",
        "#tower_2 = Conv2D(64, (5,5), padding=\"same\")(tower_2)\n",
        "#tower_2 = BatchNormalization()(tower_2)\n",
        "#tower_2 = Activation('relu')(tower_2)\n",
        "#tower_2 = AveragePooling2D(2,2)(tower_2)\n",
        "#tower_2 = Dropout(dropout)(tower_2)\n",
        "\n",
        "#Concatenate CNN branches\n",
        "merged = Concatenate(axis=1)([tower_1, tower_2])\n",
        "\n",
        "#Flatten\n",
        "merged = Flatten()(merged)\n",
        "\n",
        "#Dense layers\n",
        "#out = Dense(256, activation='relu')(merged)\n",
        "#out = Dropout(dropout)(merged)\n",
        "out = Dense(128, activation='sigmoid')(merged)\n",
        "out = Dropout(dropout)(out)\n",
        "out = Dense(64, activation='sigmoid')(out)\n",
        "out = Dropout(dropout)(out)\n",
        "out = Dense(32, activation='sigmoid')(out)\n",
        "out = Dropout(dropout)(out)\n",
        "\n",
        "cnn_model = Model(input_shape, out)"
      ]
    },
    {
      "cell_type": "markdown",
      "metadata": {
        "id": "K0smt8zYOXSo"
      },
      "source": [
        "---\n",
        "<a id=\"section53\"></a>\n",
        "# <font color=\"#004D7F\" size=5> 5.3. Concatenate branches</font>\n",
        "\n",
        "Finally, we must concatenate the output of the CNN branch with the output of the FFNN branch in a final FFNN that will give the predictions."
      ]
    },
    {
      "cell_type": "code",
      "execution_count": 16,
      "metadata": {
        "id": "ehmMcDpkOXSo"
      },
      "outputs": [],
      "source": [
        "combinedInput = concatenate([ff_model.output, cnn_model.output])\n",
        "x = Dense(128, activation=\"relu\")(combinedInput)\n",
        "x = BatchNormalization()(x)\n",
        "x = Dropout(dropout)(x)\n",
        "x = Dense(64, activation=\"relu\")(x)\n",
        "x = BatchNormalization()(x)\n",
        "x = Dropout(dropout)(x)\n",
        "x = Dense(32, activation=\"sigmoid\")(x)\n",
        "x = BatchNormalization()(x)\n",
        "x = Dropout(dropout)(x)\n",
        "x = Dense(1, activation=\"sigmoid\")(x)\n",
        "\n",
        "model = Model(inputs=[ff_model.input, cnn_model.input], outputs=x)"
      ]
    },
    {
      "cell_type": "markdown",
      "metadata": {
        "id": "_DC5uA29OXSo"
      },
      "source": [
        "---\n",
        "<a id=\"section54\"></a>\n",
        "# <font color=\"#004D7F\" size=5> 5.4. Metrics</font>\n",
        "\n",
        "Define metrics and some hyperparameters"
      ]
    },
    {
      "cell_type": "code",
      "execution_count": 17,
      "metadata": {
        "id": "zrYwuMrDOXSp"
      },
      "outputs": [],
      "source": [
        "METRICS = [\n",
        "    tf.keras.metrics.TruePositives(name = 'tp'),\n",
        "    tf.keras.metrics.FalsePositives(name = 'fp'),\n",
        "    tf.keras.metrics.TrueNegatives(name = 'tn'),\n",
        "    tf.keras.metrics.FalseNegatives(name = 'fn'),\n",
        "    tf.keras.metrics.BinaryAccuracy(name ='accuracy'),\n",
        "    tf.keras.metrics.Precision(name = 'precision'),\n",
        "    tf.keras.metrics.Recall(name = 'recall'),\n",
        "    tf.keras.metrics.AUC(name = 'auc'),\n",
        "]"
      ]
    },
    {
      "cell_type": "markdown",
      "metadata": {
        "id": "xd30kmA6OXSp"
      },
      "source": [
        "---\n",
        "<a id=\"section55\"></a>\n",
        "# <font color=\"#004D7F\" size=5> 5.5. Compile and fit</font>\n",
        "\n",
        "Note to specify the **loss depending** on whether you have a binary or multiclass classification problem."
      ]
    },
    {
      "cell_type": "code",
      "execution_count": 18,
      "metadata": {
        "id": "L98EcjGpOXSp"
      },
      "outputs": [],
      "source": [
        "#HYPERPARAMETERS\n",
        "opt = SGD(learning_rate=1e-3)"
      ]
    },
    {
      "cell_type": "code",
      "execution_count": 19,
      "metadata": {
        "id": "zaeaZysZOXSp"
      },
      "outputs": [],
      "source": [
        "model.compile(\n",
        "    loss=\"binary_crossentropy\",\n",
        "    optimizer='adam',\n",
        "    metrics = METRICS\n",
        ")\n",
        "epochs = 100"
      ]
    },
    {
      "cell_type": "code",
      "execution_count": 20,
      "metadata": {
        "id": "8_7kJ2EpOXSp"
      },
      "outputs": [],
      "source": [
        "# Configure EarlyStopping for binary classification\n",
        "early_stopper = tf.keras.callbacks.EarlyStopping(\n",
        "    monitor='val_loss',  # Monitor the validation accuracy\n",
        "    min_delta=0.001,         # Minimum change in the monitored quantity to qualify as an improvement\n",
        "    patience=10,             # Number of epochs with no improvement after which training will be stopped\n",
        "    verbose=1,               # Log when training stops\n",
        "    mode='min',              # Maximize the accuracy; min the loss\n",
        "    restore_best_weights=True  # Restore model weights from the epoch with the best value of the monitored quantity\n",
        ")"
      ]
    },
    {
      "cell_type": "code",
      "execution_count": 21,
      "metadata": {
        "scrolled": true,
        "colab": {
          "base_uri": "https://localhost:8080/"
        },
        "id": "sFP0l4oLOXSp",
        "outputId": "04d575dc-bb90-4d43-d34a-785f716f67fb"
      },
      "outputs": [
        {
          "output_type": "stream",
          "name": "stdout",
          "text": [
            "Epoch 1/100\n",
            "\u001b[1m447/447\u001b[0m \u001b[32m━━━━━━━━━━━━━━━━━━━━\u001b[0m\u001b[37m\u001b[0m \u001b[1m34s\u001b[0m 43ms/step - accuracy: 0.7554 - auc: 0.6035 - fn: 412.3996 - fp: 952.2723 - loss: 0.5265 - precision: 0.1292 - recall: 0.3243 - tn: 5669.8862 - tp: 149.2857 - val_accuracy: 0.9236 - val_auc: 0.6635 - val_fn: 364.0000 - val_fp: 0.0000e+00 - val_loss: 0.2569 - val_precision: 0.0000e+00 - val_recall: 0.0000e+00 - val_tn: 4398.0000 - val_tp: 0.0000e+00\n",
            "Epoch 2/100\n",
            "\u001b[1m447/447\u001b[0m \u001b[32m━━━━━━━━━━━━━━━━━━━━\u001b[0m\u001b[37m\u001b[0m \u001b[1m17s\u001b[0m 37ms/step - accuracy: 0.9180 - auc: 0.7537 - fn: 497.1228 - fp: 83.4062 - loss: 0.2446 - precision: 0.4218 - recall: 0.1221 - tn: 6538.7524 - tp: 64.5625 - val_accuracy: 0.9294 - val_auc: 0.8013 - val_fn: 261.0000 - val_fp: 75.0000 - val_loss: 0.2183 - val_precision: 0.5787 - val_recall: 0.2830 - val_tn: 4323.0000 - val_tp: 103.0000\n",
            "Epoch 3/100\n",
            "\u001b[1m447/447\u001b[0m \u001b[32m━━━━━━━━━━━━━━━━━━━━\u001b[0m\u001b[37m\u001b[0m \u001b[1m20s\u001b[0m 35ms/step - accuracy: 0.9216 - auc: 0.7674 - fn: 496.3683 - fp: 65.6406 - loss: 0.2385 - precision: 0.4972 - recall: 0.1261 - tn: 6556.5181 - tp: 65.3170 - val_accuracy: 0.9309 - val_auc: 0.8253 - val_fn: 246.0000 - val_fp: 83.0000 - val_loss: 0.2081 - val_precision: 0.5871 - val_recall: 0.3242 - val_tn: 4315.0000 - val_tp: 118.0000\n",
            "Epoch 4/100\n",
            "\u001b[1m447/447\u001b[0m \u001b[32m━━━━━━━━━━━━━━━━━━━━\u001b[0m\u001b[37m\u001b[0m \u001b[1m21s\u001b[0m 37ms/step - accuracy: 0.9218 - auc: 0.7928 - fn: 495.9576 - fp: 58.4621 - loss: 0.2313 - precision: 0.4988 - recall: 0.1143 - tn: 6563.6963 - tp: 65.7277 - val_accuracy: 0.9213 - val_auc: 0.8140 - val_fn: 290.0000 - val_fp: 85.0000 - val_loss: 0.2219 - val_precision: 0.4654 - val_recall: 0.2033 - val_tn: 4313.0000 - val_tp: 74.0000\n",
            "Epoch 5/100\n",
            "\u001b[1m447/447\u001b[0m \u001b[32m━━━━━━━━━━━━━━━━━━━━\u001b[0m\u001b[37m\u001b[0m \u001b[1m20s\u001b[0m 35ms/step - accuracy: 0.9233 - auc: 0.7925 - fn: 495.1518 - fp: 54.6518 - loss: 0.2295 - precision: 0.5362 - recall: 0.1204 - tn: 6567.5068 - tp: 66.5335 - val_accuracy: 0.9343 - val_auc: 0.8160 - val_fn: 301.0000 - val_fp: 12.0000 - val_loss: 0.2090 - val_precision: 0.8400 - val_recall: 0.1731 - val_tn: 4386.0000 - val_tp: 63.0000\n",
            "Epoch 6/100\n",
            "\u001b[1m447/447\u001b[0m \u001b[32m━━━━━━━━━━━━━━━━━━━━\u001b[0m\u001b[37m\u001b[0m \u001b[1m21s\u001b[0m 36ms/step - accuracy: 0.9250 - auc: 0.8075 - fn: 489.9286 - fp: 52.1652 - loss: 0.2226 - precision: 0.5862 - recall: 0.1337 - tn: 6569.9932 - tp: 71.7567 - val_accuracy: 0.9278 - val_auc: 0.8256 - val_fn: 293.0000 - val_fp: 51.0000 - val_loss: 0.2084 - val_precision: 0.5820 - val_recall: 0.1951 - val_tn: 4347.0000 - val_tp: 71.0000\n",
            "Epoch 7/100\n",
            "\u001b[1m447/447\u001b[0m \u001b[32m━━━━━━━━━━━━━━━━━━━━\u001b[0m\u001b[37m\u001b[0m \u001b[1m20s\u001b[0m 35ms/step - accuracy: 0.9221 - auc: 0.8010 - fn: 495.5625 - fp: 63.0469 - loss: 0.2255 - precision: 0.5068 - recall: 0.1197 - tn: 6559.1118 - tp: 66.1228 - val_accuracy: 0.9362 - val_auc: 0.8417 - val_fn: 274.0000 - val_fp: 30.0000 - val_loss: 0.1994 - val_precision: 0.7500 - val_recall: 0.2473 - val_tn: 4368.0000 - val_tp: 90.0000\n",
            "Epoch 8/100\n",
            "\u001b[1m447/447\u001b[0m \u001b[32m━━━━━━━━━━━━━━━━━━━━\u001b[0m\u001b[37m\u001b[0m \u001b[1m16s\u001b[0m 35ms/step - accuracy: 0.9236 - auc: 0.8050 - fn: 492.4018 - fp: 60.7612 - loss: 0.2236 - precision: 0.5556 - recall: 0.1315 - tn: 6561.3975 - tp: 69.2835 - val_accuracy: 0.9294 - val_auc: 0.8400 - val_fn: 254.0000 - val_fp: 82.0000 - val_loss: 0.2030 - val_precision: 0.5729 - val_recall: 0.3022 - val_tn: 4316.0000 - val_tp: 110.0000\n",
            "Epoch 9/100\n",
            "\u001b[1m447/447\u001b[0m \u001b[32m━━━━━━━━━━━━━━━━━━━━\u001b[0m\u001b[37m\u001b[0m \u001b[1m16s\u001b[0m 35ms/step - accuracy: 0.9232 - auc: 0.8096 - fn: 491.0670 - fp: 60.3705 - loss: 0.2223 - precision: 0.5378 - recall: 0.1300 - tn: 6561.7881 - tp: 70.6183 - val_accuracy: 0.9322 - val_auc: 0.8386 - val_fn: 275.0000 - val_fp: 48.0000 - val_loss: 0.2022 - val_precision: 0.6496 - val_recall: 0.2445 - val_tn: 4350.0000 - val_tp: 89.0000\n",
            "Epoch 10/100\n",
            "\u001b[1m447/447\u001b[0m \u001b[32m━━━━━━━━━━━━━━━━━━━━\u001b[0m\u001b[37m\u001b[0m \u001b[1m20s\u001b[0m 35ms/step - accuracy: 0.9241 - auc: 0.8200 - fn: 479.1607 - fp: 62.7455 - loss: 0.2179 - precision: 0.5538 - recall: 0.1561 - tn: 6559.4131 - tp: 82.5246 - val_accuracy: 0.9240 - val_auc: 0.8052 - val_fn: 250.0000 - val_fp: 112.0000 - val_loss: 0.2235 - val_precision: 0.5044 - val_recall: 0.3132 - val_tn: 4286.0000 - val_tp: 114.0000\n",
            "Epoch 11/100\n",
            "\u001b[1m447/447\u001b[0m \u001b[32m━━━━━━━━━━━━━━━━━━━━\u001b[0m\u001b[37m\u001b[0m \u001b[1m23s\u001b[0m 40ms/step - accuracy: 0.9245 - auc: 0.8235 - fn: 480.7121 - fp: 64.1920 - loss: 0.2171 - precision: 0.5595 - recall: 0.1589 - tn: 6557.9663 - tp: 80.9732 - val_accuracy: 0.9330 - val_auc: 0.8378 - val_fn: 307.0000 - val_fp: 12.0000 - val_loss: 0.2043 - val_precision: 0.8261 - val_recall: 0.1566 - val_tn: 4386.0000 - val_tp: 57.0000\n",
            "Epoch 12/100\n",
            "\u001b[1m447/447\u001b[0m \u001b[32m━━━━━━━━━━━━━━━━━━━━\u001b[0m\u001b[37m\u001b[0m \u001b[1m18s\u001b[0m 34ms/step - accuracy: 0.9258 - auc: 0.8274 - fn: 483.4598 - fp: 50.6652 - loss: 0.2156 - precision: 0.6066 - recall: 0.1424 - tn: 6571.4932 - tp: 78.2254 - val_accuracy: 0.9345 - val_auc: 0.8356 - val_fn: 284.0000 - val_fp: 28.0000 - val_loss: 0.2019 - val_precision: 0.7407 - val_recall: 0.2198 - val_tn: 4370.0000 - val_tp: 80.0000\n",
            "Epoch 13/100\n",
            "\u001b[1m447/447\u001b[0m \u001b[32m━━━━━━━━━━━━━━━━━━━━\u001b[0m\u001b[37m\u001b[0m \u001b[1m16s\u001b[0m 36ms/step - accuracy: 0.9272 - auc: 0.8246 - fn: 477.8616 - fp: 48.8817 - loss: 0.2151 - precision: 0.6349 - recall: 0.1566 - tn: 6573.2769 - tp: 83.8237 - val_accuracy: 0.9313 - val_auc: 0.8309 - val_fn: 279.0000 - val_fp: 48.0000 - val_loss: 0.2078 - val_precision: 0.6391 - val_recall: 0.2335 - val_tn: 4350.0000 - val_tp: 85.0000\n",
            "Epoch 14/100\n",
            "\u001b[1m447/447\u001b[0m \u001b[32m━━━━━━━━━━━━━━━━━━━━\u001b[0m\u001b[37m\u001b[0m \u001b[1m22s\u001b[0m 38ms/step - accuracy: 0.9267 - auc: 0.8320 - fn: 480.3571 - fp: 46.8571 - loss: 0.2129 - precision: 0.6245 - recall: 0.1454 - tn: 6575.3013 - tp: 81.3281 - val_accuracy: 0.9313 - val_auc: 0.8258 - val_fn: 305.0000 - val_fp: 22.0000 - val_loss: 0.2095 - val_precision: 0.7284 - val_recall: 0.1621 - val_tn: 4376.0000 - val_tp: 59.0000\n",
            "Epoch 15/100\n",
            "\u001b[1m447/447\u001b[0m \u001b[32m━━━━━━━━━━━━━━━━━━━━\u001b[0m\u001b[37m\u001b[0m \u001b[1m19s\u001b[0m 35ms/step - accuracy: 0.9281 - auc: 0.8275 - fn: 469.5536 - fp: 51.1830 - loss: 0.2126 - precision: 0.6503 - recall: 0.1719 - tn: 6570.9756 - tp: 92.1317 - val_accuracy: 0.9309 - val_auc: 0.8440 - val_fn: 304.0000 - val_fp: 25.0000 - val_loss: 0.2033 - val_precision: 0.7059 - val_recall: 0.1648 - val_tn: 4373.0000 - val_tp: 60.0000\n",
            "Epoch 16/100\n",
            "\u001b[1m447/447\u001b[0m \u001b[32m━━━━━━━━━━━━━━━━━━━━\u001b[0m\u001b[37m\u001b[0m \u001b[1m15s\u001b[0m 34ms/step - accuracy: 0.9280 - auc: 0.8300 - fn: 470.7366 - fp: 48.3237 - loss: 0.2128 - precision: 0.6525 - recall: 0.1690 - tn: 6573.8350 - tp: 90.9487 - val_accuracy: 0.9349 - val_auc: 0.8476 - val_fn: 295.0000 - val_fp: 15.0000 - val_loss: 0.1977 - val_precision: 0.8214 - val_recall: 0.1896 - val_tn: 4383.0000 - val_tp: 69.0000\n",
            "Epoch 17/100\n",
            "\u001b[1m447/447\u001b[0m \u001b[32m━━━━━━━━━━━━━━━━━━━━\u001b[0m\u001b[37m\u001b[0m \u001b[1m22s\u001b[0m 37ms/step - accuracy: 0.9261 - auc: 0.8375 - fn: 476.3661 - fp: 54.9353 - loss: 0.2110 - precision: 0.6070 - recall: 0.1515 - tn: 6567.2231 - tp: 85.3192 - val_accuracy: 0.9334 - val_auc: 0.8404 - val_fn: 307.0000 - val_fp: 10.0000 - val_loss: 0.2029 - val_precision: 0.8507 - val_recall: 0.1566 - val_tn: 4388.0000 - val_tp: 57.0000\n",
            "Epoch 18/100\n",
            "\u001b[1m447/447\u001b[0m \u001b[32m━━━━━━━━━━━━━━━━━━━━\u001b[0m\u001b[37m\u001b[0m \u001b[1m20s\u001b[0m 36ms/step - accuracy: 0.9281 - auc: 0.8234 - fn: 469.3772 - fp: 47.9888 - loss: 0.2149 - precision: 0.6546 - recall: 0.1672 - tn: 6574.1694 - tp: 92.3080 - val_accuracy: 0.9332 - val_auc: 0.8458 - val_fn: 299.0000 - val_fp: 19.0000 - val_loss: 0.2016 - val_precision: 0.7738 - val_recall: 0.1786 - val_tn: 4379.0000 - val_tp: 65.0000\n",
            "Epoch 19/100\n",
            "\u001b[1m447/447\u001b[0m \u001b[32m━━━━━━━━━━━━━━━━━━━━\u001b[0m\u001b[37m\u001b[0m \u001b[1m21s\u001b[0m 37ms/step - accuracy: 0.9279 - auc: 0.8355 - fn: 461.1875 - fp: 57.4152 - loss: 0.2102 - precision: 0.6314 - recall: 0.1898 - tn: 6564.7432 - tp: 100.4978 - val_accuracy: 0.9347 - val_auc: 0.8381 - val_fn: 303.0000 - val_fp: 8.0000 - val_loss: 0.2025 - val_precision: 0.8841 - val_recall: 0.1676 - val_tn: 4390.0000 - val_tp: 61.0000\n",
            "Epoch 20/100\n",
            "\u001b[1m447/447\u001b[0m \u001b[32m━━━━━━━━━━━━━━━━━━━━\u001b[0m\u001b[37m\u001b[0m \u001b[1m20s\u001b[0m 37ms/step - accuracy: 0.9299 - auc: 0.8380 - fn: 459.6362 - fp: 47.2612 - loss: 0.2075 - precision: 0.6856 - recall: 0.1899 - tn: 6574.8975 - tp: 102.0491 - val_accuracy: 0.9349 - val_auc: 0.8280 - val_fn: 278.0000 - val_fp: 32.0000 - val_loss: 0.2061 - val_precision: 0.7288 - val_recall: 0.2363 - val_tn: 4366.0000 - val_tp: 86.0000\n",
            "Epoch 21/100\n",
            "\u001b[1m447/447\u001b[0m \u001b[32m━━━━━━━━━━━━━━━━━━━━\u001b[0m\u001b[37m\u001b[0m \u001b[1m20s\u001b[0m 35ms/step - accuracy: 0.9283 - auc: 0.8331 - fn: 471.4375 - fp: 44.5714 - loss: 0.2117 - precision: 0.6663 - recall: 0.1644 - tn: 6577.5869 - tp: 90.2478 - val_accuracy: 0.9326 - val_auc: 0.8360 - val_fn: 296.0000 - val_fp: 25.0000 - val_loss: 0.2042 - val_precision: 0.7312 - val_recall: 0.1868 - val_tn: 4373.0000 - val_tp: 68.0000\n",
            "Epoch 22/100\n",
            "\u001b[1m447/447\u001b[0m \u001b[32m━━━━━━━━━━━━━━━━━━━━\u001b[0m\u001b[37m\u001b[0m \u001b[1m20s\u001b[0m 35ms/step - accuracy: 0.9300 - auc: 0.8372 - fn: 458.7835 - fp: 44.9598 - loss: 0.2088 - precision: 0.6938 - recall: 0.1828 - tn: 6577.1987 - tp: 102.9018 - val_accuracy: 0.9349 - val_auc: 0.8447 - val_fn: 290.0000 - val_fp: 20.0000 - val_loss: 0.2008 - val_precision: 0.7872 - val_recall: 0.2033 - val_tn: 4378.0000 - val_tp: 74.0000\n",
            "Epoch 23/100\n",
            "\u001b[1m447/447\u001b[0m \u001b[32m━━━━━━━━━━━━━━━━━━━━\u001b[0m\u001b[37m\u001b[0m \u001b[1m19s\u001b[0m 42ms/step - accuracy: 0.9292 - auc: 0.8371 - fn: 463.0134 - fp: 48.6429 - loss: 0.2084 - precision: 0.6778 - recall: 0.1817 - tn: 6573.5156 - tp: 98.6719 - val_accuracy: 0.9355 - val_auc: 0.8444 - val_fn: 279.0000 - val_fp: 28.0000 - val_loss: 0.1996 - val_precision: 0.7522 - val_recall: 0.2335 - val_tn: 4370.0000 - val_tp: 85.0000\n",
            "Epoch 24/100\n",
            "\u001b[1m447/447\u001b[0m \u001b[32m━━━━━━━━━━━━━━━━━━━━\u001b[0m\u001b[37m\u001b[0m \u001b[1m19s\u001b[0m 38ms/step - accuracy: 0.9278 - auc: 0.8380 - fn: 464.0022 - fp: 48.7009 - loss: 0.2093 - precision: 0.6436 - recall: 0.1783 - tn: 6573.4575 - tp: 97.6830 - val_accuracy: 0.9305 - val_auc: 0.8380 - val_fn: 304.0000 - val_fp: 27.0000 - val_loss: 0.2054 - val_precision: 0.6897 - val_recall: 0.1648 - val_tn: 4371.0000 - val_tp: 60.0000\n",
            "Epoch 25/100\n",
            "\u001b[1m447/447\u001b[0m \u001b[32m━━━━━━━━━━━━━━━━━━━━\u001b[0m\u001b[37m\u001b[0m \u001b[1m19s\u001b[0m 35ms/step - accuracy: 0.9271 - auc: 0.8431 - fn: 473.5134 - fp: 49.0848 - loss: 0.2075 - precision: 0.6353 - recall: 0.1566 - tn: 6573.0737 - tp: 88.1719 - val_accuracy: 0.9326 - val_auc: 0.8428 - val_fn: 303.0000 - val_fp: 18.0000 - val_loss: 0.2028 - val_precision: 0.7722 - val_recall: 0.1676 - val_tn: 4380.0000 - val_tp: 61.0000\n",
            "Epoch 26/100\n",
            "\u001b[1m447/447\u001b[0m \u001b[32m━━━━━━━━━━━━━━━━━━━━\u001b[0m\u001b[37m\u001b[0m \u001b[1m25s\u001b[0m 44ms/step - accuracy: 0.9303 - auc: 0.8418 - fn: 460.7098 - fp: 43.0223 - loss: 0.2054 - precision: 0.7037 - recall: 0.1876 - tn: 6579.1362 - tp: 100.9754 - val_accuracy: 0.9343 - val_auc: 0.8415 - val_fn: 275.0000 - val_fp: 38.0000 - val_loss: 0.2003 - val_precision: 0.7008 - val_recall: 0.2445 - val_tn: 4360.0000 - val_tp: 89.0000\n",
            "Epoch 26: early stopping\n",
            "Restoring model weights from the end of the best epoch: 16.\n"
          ]
        }
      ],
      "source": [
        "model_history=model.fit(\n",
        "    x=[X_train_num, X_train_img], y=y_train,\n",
        "    validation_data=([X_val_num, X_val_img], y_val),\n",
        "    epochs=epochs,\n",
        "    batch_size=32,\n",
        "    callbacks = [early_stopper]\n",
        ")"
      ]
    },
    {
      "cell_type": "markdown",
      "metadata": {
        "id": "iadfWMH2OXSp"
      },
      "source": [
        "val_accuracy: 0.8217 - val_auc: 0.8456 - val_fn: 207.0000 - val_fp: 74.0000 - **val_loss: 0.3833** - val_precision: 0.6797 - val_recall: 0.4313 - val_tn: 1138.0000 - val_tp: 157.0000\n"
      ]
    },
    {
      "cell_type": "code",
      "execution_count": 22,
      "metadata": {
        "colab": {
          "base_uri": "https://localhost:8080/"
        },
        "id": "W6RnouRqOXSq",
        "outputId": "4b4c5218-1737-4868-f7ef-c21ffd831938"
      },
      "outputs": [
        {
          "output_type": "stream",
          "name": "stdout",
          "text": [
            "dict_keys(['accuracy', 'auc', 'fn', 'fp', 'loss', 'precision', 'recall', 'tn', 'tp', 'val_accuracy', 'val_auc', 'val_fn', 'val_fp', 'val_loss', 'val_precision', 'val_recall', 'val_tn', 'val_tp'])\n"
          ]
        }
      ],
      "source": [
        "print(model_history.history.keys())"
      ]
    },
    {
      "cell_type": "markdown",
      "metadata": {
        "id": "pUckiA91OXSq"
      },
      "source": [
        "<a id=\"section6\"></a>\n",
        "# <font color=\"#004D7F\" size=6> 6. Results</font>\n",
        "\n",
        "Finally, we can evaluate our hybrid model with the images created by TINTOlib in any of the ways represented below."
      ]
    },
    {
      "cell_type": "markdown",
      "metadata": {
        "id": "kDquNXMEOXSq"
      },
      "source": [
        "---\n",
        "<a id=\"section61\"></a>\n",
        "# <font color=\"#004D7F\" size=5> 6.1. Train/Validation representation</font>"
      ]
    },
    {
      "cell_type": "code",
      "execution_count": 23,
      "metadata": {
        "colab": {
          "base_uri": "https://localhost:8080/",
          "height": 430
        },
        "id": "-58q52ttOXSq",
        "outputId": "919007e5-43ed-483c-b79c-1009cbd0ceb0"
      },
      "outputs": [
        {
          "output_type": "display_data",
          "data": {
            "text/plain": [
              "<Figure size 640x480 with 1 Axes>"
            ],
            "image/png": "[encoded data removed]"
          },
          "metadata": {}
        }
      ],
      "source": [
        "#print(model_history.history['loss'])\n",
        "plt.plot(model_history.history['loss'], color = 'red', label = 'loss')\n",
        "plt.plot(model_history.history['val_loss'], color = 'green', label = 'val loss')\n",
        "plt.legend(loc = 'upper right')\n",
        "\n",
        "plt.show()"
      ]
    },
    {
      "cell_type": "code",
      "execution_count": 24,
      "metadata": {
        "colab": {
          "base_uri": "https://localhost:8080/",
          "height": 435
        },
        "id": "PXXOTkV8OXSq",
        "outputId": "cd939ab4-3aaf-402d-8dfe-1a40460ae797"
      },
      "outputs": [
        {
          "output_type": "display_data",
          "data": {
            "text/plain": [
              "<Figure size 640x480 with 1 Axes>"
            ],
            "image/png": "[encoded data removed]"
          },
          "metadata": {}
        }
      ],
      "source": [
        "plt.plot(model_history.history['accuracy'], color = 'red', label = 'accuracy')\n",
        "plt.plot(model_history.history['val_accuracy'], color = 'green', label = 'val accuracy')\n",
        "plt.legend(loc = 'upper right')\n",
        "plt.show()"
      ]
    },
    {
      "cell_type": "markdown",
      "metadata": {
        "id": "L1EhcYqzOXSq"
      },
      "source": [
        "<div style=\"text-align: right\"> <font size=5> <a href=\"#indice\"><i class=\"fa fa-arrow-circle-up\" aria-hidden=\"true\" style=\"color:#004D7F\"></i></a></font></div>\n",
        "\n",
        "---\n",
        "\n",
        "<div style=\"text-align: right\"> <font size=6><i class=\"fa fa-coffee\" aria-hidden=\"true\" style=\"color:#004D7F\"></i> </font></div>"
      ]
    },
    {
      "cell_type": "code",
      "execution_count": 25,
      "metadata": {
        "colab": {
          "base_uri": "https://localhost:8080/"
        },
        "id": "P5s8OoDUOXSr",
        "outputId": "e3a6a751-2b88-41ce-d7dc-2daaaba1cca3"
      },
      "outputs": [
        {
          "output_type": "stream",
          "name": "stdout",
          "text": [
            "Train accuracy: 0.93083655834198\n",
            "Train AUC: 0.8350374698638916\n",
            "Train precision: 0.6973180174827576\n",
            "Train recall: 0.16681943833827972\n",
            "Train loss: 0.2057551145553589\n"
          ]
        }
      ],
      "source": [
        "train_accuracy = model_history.history[\"accuracy\"][-1]\n",
        "train_auc = model_history.history[\"auc\"][-1]\n",
        "train_precision = model_history.history[\"precision\"][-1]\n",
        "train_recall = model_history.history[\"recall\"][-1]\n",
        "train_loss = model_history.history[\"loss\"][-1]\n",
        "\n",
        "print(\"Train accuracy:\",train_accuracy)\n",
        "print(\"Train AUC:\",train_auc)\n",
        "print(\"Train precision:\",train_precision)\n",
        "print(\"Train recall:\",train_recall)\n",
        "print(\"Train loss:\",train_loss)"
      ]
    },
    {
      "cell_type": "code",
      "execution_count": 26,
      "metadata": {
        "colab": {
          "base_uri": "https://localhost:8080/"
        },
        "id": "rjuw9N9xOXSr",
        "outputId": "c43c172e-e1e1-46fc-9f59-edab082916fb"
      },
      "outputs": [
        {
          "output_type": "stream",
          "name": "stdout",
          "text": [
            "Validation accuracy: 0.9342713356018066\n",
            "Validation AUC: 0.8414623737335205\n",
            "Validation precision: 0.7007874250411987\n",
            "Validation recall: 0.24450549483299255\n",
            "Validation loss: 0.2003403902053833\n"
          ]
        }
      ],
      "source": [
        "validation_accuracy = model_history.history[\"val_accuracy\"][-1]\n",
        "validation_auc = model_history.history[\"val_auc\"][-1]\n",
        "validation_precision = model_history.history[\"val_precision\"][-1]\n",
        "validation_recall = model_history.history[\"val_recall\"][-1]\n",
        "validation_loss = model_history.history[\"val_loss\"][-1]\n",
        "\n",
        "print(\"Validation accuracy:\",validation_accuracy)\n",
        "print(\"Validation AUC:\",validation_auc)\n",
        "print(\"Validation precision:\",validation_precision)\n",
        "print(\"Validation recall:\",validation_recall)\n",
        "print(\"Validation loss:\",validation_loss)"
      ]
    },
    {
      "cell_type": "markdown",
      "metadata": {
        "id": "UqWsmq7nOXSr"
      },
      "source": [
        "---\n",
        "<a id=\"section62\"></a>\n",
        "# <font color=\"#004D7F\" size=5> 6.2. Validation evaluation</font>"
      ]
    },
    {
      "cell_type": "code",
      "execution_count": 27,
      "metadata": {
        "colab": {
          "base_uri": "https://localhost:8080/"
        },
        "id": "gLkOkUwGOXSr",
        "outputId": "cb31974e-c332-4ad2-a0cb-3b14f9aedbc4"
      },
      "outputs": [
        {
          "output_type": "stream",
          "name": "stdout",
          "text": [
            "\u001b[1m447/447\u001b[0m \u001b[32m━━━━━━━━━━━━━━━━━━━━\u001b[0m\u001b[37m\u001b[0m \u001b[1m6s\u001b[0m 11ms/step\n"
          ]
        },
        {
          "output_type": "execute_result",
          "data": {
            "text/plain": [
              "(0.08, 0.7578532974811344)"
            ]
          },
          "metadata": {},
          "execution_count": 27
        }
      ],
      "source": [
        "from sklearn.metrics import roc_auc_score\n",
        "x_train_1 = [X_train_num, X_train_img]\n",
        "\n",
        "def find_best_threshold(y_true, y_probs):\n",
        "    thresholds = np.arange(0.0, 1.0, 0.01)\n",
        "    best_auc = 0\n",
        "    best_thresh = 0\n",
        "    for thresh in thresholds:\n",
        "        preds = (y_probs >= thresh).astype(int)\n",
        "        auc = roc_auc_score(y_true, preds)\n",
        "        if auc > best_auc:\n",
        "            best_auc = auc\n",
        "            best_thresh = thresh\n",
        "    return best_thresh, best_auc\n",
        "prediction = model.predict(x_train_1,)\n",
        "best_threshold = find_best_threshold(y_train, prediction)\n",
        "best_threshold ### !!!!!! IMPORTANTE PARA DEFINIR EL MEJOR CORTE PARA LAS PROBABILIDADES"
      ]
    },
    {
      "cell_type": "code",
      "execution_count": 28,
      "metadata": {
        "colab": {
          "base_uri": "https://localhost:8080/"
        },
        "id": "O2lYgfeQOXSr",
        "outputId": "9b17949a-5a88-470c-fe9e-01a84f8e568c"
      },
      "outputs": [
        {
          "output_type": "stream",
          "name": "stdout",
          "text": [
            "\u001b[1m149/149\u001b[0m \u001b[32m━━━━━━━━━━━━━━━━━━━━\u001b[0m\u001b[37m\u001b[0m \u001b[1m3s\u001b[0m 18ms/step - accuracy: 0.9362 - auc: 0.8558 - fn: 142.7533 - fp: 8.8600 - loss: 0.1890 - precision: 0.7333 - recall: 0.1765 - tn: 2230.9866 - tp: 33.1067\n"
          ]
        }
      ],
      "source": [
        "#x_validacion = [X_test_num, X_test_img]\n",
        "#y_validacion = y_test\n",
        "x_validacion = [X_val_num, X_val_img]\n",
        "y_validacion = y_val\n",
        "score_test= model.evaluate(x_validacion, y_validacion)"
      ]
    },
    {
      "cell_type": "code",
      "execution_count": 29,
      "metadata": {
        "colab": {
          "base_uri": "https://localhost:8080/"
        },
        "id": "PEfwJyvhOXSr",
        "outputId": "e5028bfc-cf87-4d76-907f-ab93bfa45ab9"
      },
      "outputs": [
        {
          "output_type": "stream",
          "name": "stdout",
          "text": [
            "\u001b[1m149/149\u001b[0m \u001b[32m━━━━━━━━━━━━━━━━━━━━\u001b[0m\u001b[37m\u001b[0m \u001b[1m1s\u001b[0m 9ms/step\n"
          ]
        }
      ],
      "source": [
        "#test_images = next(test_iter)[0]\n",
        "prediction = model.predict(x_validacion,)\n",
        "#prediction = model.predict(test_images)\n",
        "prediction_labels = (prediction > best_threshold[0]).astype(int)\n",
        "#print(prediction_labels)"
      ]
    },
    {
      "cell_type": "code",
      "execution_count": 30,
      "metadata": {
        "colab": {
          "base_uri": "https://localhost:8080/"
        },
        "id": "xNw4NAwLOXSs",
        "outputId": "b6e8af64-45c3-4c52-b0c2-7b5a1581e89e"
      },
      "outputs": [
        {
          "output_type": "stream",
          "name": "stdout",
          "text": [
            "Validation accuracy: 0.9349012970924377\n",
            "Validation AUC: 0.8475872278213501\n",
            "Validation precision: 0.8214285969734192\n",
            "Validation recall: 0.1895604431629181\n"
          ]
        }
      ],
      "source": [
        "from sklearn.metrics import roc_auc_score,accuracy_score,precision_score, recall_score\n",
        "\n",
        "test_accuracy = score_test[5]\n",
        "test_auc = score_test[8]\n",
        "test_precision = score_test[6]\n",
        "test_recall = score_test[7]\n",
        "\n",
        "print(\"Validation accuracy:\",test_accuracy)\n",
        "print(\"Validation AUC:\",test_auc)\n",
        "print(\"Validation precision:\",test_precision)\n",
        "print(\"Validation recall:\",test_recall)"
      ]
    },
    {
      "cell_type": "code",
      "execution_count": 31,
      "metadata": {
        "colab": {
          "base_uri": "https://localhost:8080/",
          "height": 458
        },
        "id": "uCkep5NtOXSs",
        "outputId": "da992b1e-ed75-488d-e8d9-b76bfcf51ba9"
      },
      "outputs": [
        {
          "output_type": "execute_result",
          "data": {
            "text/plain": [
              "20134    0\n",
              "5477     0\n",
              "11396    0\n",
              "128      1\n",
              "4649     0\n",
              "        ..\n",
              "15036    0\n",
              "11887    0\n",
              "1596     0\n",
              "8594     0\n",
              "6684     0\n",
              "Name: class, Length: 4762, dtype: int64"
            ],
            "text/html": [
              "<div>\n",
              "<style scoped>\n",
              "    .dataframe tbody tr th:only-of-type {\n",
              "        vertical-align: middle;\n",
              "    }\n",
              "\n",
              "    .dataframe tbody tr th {\n",
              "        vertical-align: top;\n",
              "    }\n",
              "\n",
              "    .dataframe thead th {\n",
              "        text-align: right;\n",
              "    }\n",
              "</style>\n",
              "<table border=\"1\" class=\"dataframe\">\n",
              "  <thead>\n",
              "    <tr style=\"text-align: right;\">\n",
              "      <th></th>\n",
              "      <th>class</th>\n",
              "    </tr>\n",
              "  </thead>\n",
              "  <tbody>\n",
              "    <tr>\n",
              "      <th>20134</th>\n",
              "      <td>0</td>\n",
              "    </tr>\n",
              "    <tr>\n",
              "      <th>5477</th>\n",
              "      <td>0</td>\n",
              "    </tr>\n",
              "    <tr>\n",
              "      <th>11396</th>\n",
              "      <td>0</td>\n",
              "    </tr>\n",
              "    <tr>\n",
              "      <th>128</th>\n",
              "      <td>1</td>\n",
              "    </tr>\n",
              "    <tr>\n",
              "      <th>4649</th>\n",
              "      <td>0</td>\n",
              "    </tr>\n",
              "    <tr>\n",
              "      <th>...</th>\n",
              "      <td>...</td>\n",
              "    </tr>\n",
              "    <tr>\n",
              "      <th>15036</th>\n",
              "      <td>0</td>\n",
              "    </tr>\n",
              "    <tr>\n",
              "      <th>11887</th>\n",
              "      <td>0</td>\n",
              "    </tr>\n",
              "    <tr>\n",
              "      <th>1596</th>\n",
              "      <td>0</td>\n",
              "    </tr>\n",
              "    <tr>\n",
              "      <th>8594</th>\n",
              "      <td>0</td>\n",
              "    </tr>\n",
              "    <tr>\n",
              "      <th>6684</th>\n",
              "      <td>0</td>\n",
              "    </tr>\n",
              "  </tbody>\n",
              "</table>\n",
              "<p>4762 rows × 1 columns</p>\n",
              "</div><br><label><b>dtype:</b> int64</label>"
            ]
          },
          "metadata": {},
          "execution_count": 31
        }
      ],
      "source": [
        "y_test1 = y_validacion.astype(float).astype(int)\n",
        "y_test1"
      ]
    },
    {
      "cell_type": "code",
      "source": [
        "from sklearn.metrics import ConfusionMatrixDisplay, confusion_matrix, roc_curve, roc_auc_score, recall_score\n",
        "\n",
        "# Suponiendo que cnn_model sea tu modelo entrenado y X_test tu conjunto de prueba\n",
        "print(\"\\033[1mTest Dataset.\\033[0m \\n\\n\")\n",
        "\n",
        "# Confusion Matrix\n",
        "print(\"\\033[1mConfusion matrix:\\033[0m\")\n",
        "cm = confusion_matrix(y_test1, prediction_labels)\n",
        "disp = ConfusionMatrixDisplay(confusion_matrix=cm)\n",
        "disp.plot()\n",
        "plt.show()\n",
        "print(f\"Verdaderos Negativos (VN): {cm[0, 0]}\")\n",
        "print(f\"Falsos Positivos (FP): {cm[0, 1]}\")\n",
        "print(f\"Falsos Negativos (FN): {cm[1, 0]}\")\n",
        "print(f\"Verdaderos Positivos (VP): {cm[1, 1]} \\n\\n\")\n",
        "\n",
        "# Calcular las métricas usando probabilidades en lugar de etiquetas\n",
        "#prediction_probs = model.predict([X_val_img])\n",
        "\n",
        "print(\"\\033[1mAUC SCORE:\\033[0m\")\n",
        "print(roc_auc_score(y_test1, prediction ))\n",
        "\n",
        "print(\"\\033[1mRecall SCORE:\\033[0m\")\n",
        "print(recall_score(y_test1, prediction_labels))\n",
        "\n",
        "# Curva ROC\n",
        "fpr, tpr, thresholds = roc_curve(y_test1, prediction)\n",
        "plt.plot([0, 1], [0, 1], 'k--')\n",
        "plt.plot(fpr, tpr)\n",
        "plt.xlabel('False Positive Rate')\n",
        "plt.ylabel('True Positive Rate')\n",
        "plt.title('ROC Curve and AUC')\n",
        "plt.fill_between(fpr, tpr, alpha=0.3)\n",
        "plt.tight_layout()\n",
        "plt.show()"
      ],
      "metadata": {
        "colab": {
          "base_uri": "https://localhost:8080/",
          "height": 1000
        },
        "id": "zP16Iee5TBLN",
        "outputId": "7b355ef7-a203-474f-c073-498583e7659c"
      },
      "execution_count": 32,
      "outputs": [
        {
          "output_type": "stream",
          "name": "stdout",
          "text": [
            "\u001b[1mTest Dataset.\u001b[0m \n",
            "\n",
            "\n",
            "\u001b[1mConfusion matrix:\u001b[0m\n"
          ]
        },
        {
          "output_type": "display_data",
          "data": {
            "text/plain": [
              "<Figure size 640x480 with 2 Axes>"
            ],
            "image/png": "[encoded data removed]"
          },
          "metadata": {}
        },
        {
          "output_type": "stream",
          "name": "stdout",
          "text": [
            "Verdaderos Negativos (VN): 3452\n",
            "Falsos Positivos (FP): 946\n",
            "Falsos Negativos (FN): 102\n",
            "Verdaderos Positivos (VP): 262 \n",
            "\n",
            "\n",
            "\u001b[1mAUC SCORE:\u001b[0m\n",
            "0.8478504215202715\n",
            "\u001b[1mRecall SCORE:\u001b[0m\n",
            "0.7197802197802198\n"
          ]
        },
        {
          "output_type": "display_data",
          "data": {
            "text/plain": [
              "<Figure size 640x480 with 1 Axes>"
            ],
            "image/png": "[encoded data removed]"
          },
          "metadata": {}
        }
      ]
    },
    {
      "cell_type": "markdown",
      "metadata": {
        "id": "hMskJX_LOXSs"
      },
      "source": [
        "---\n",
        "<a id=\"section63\"></a>\n",
        "# <font color=\"#004D7F\" size=5> 6.3. Test evaluation</font>"
      ]
    },
    {
      "cell_type": "code",
      "execution_count": 33,
      "metadata": {
        "colab": {
          "base_uri": "https://localhost:8080/"
        },
        "id": "aGO0-IkdOXSs",
        "outputId": "b36d36a9-0fe4-406b-fbe4-65399ea5accc"
      },
      "outputs": [
        {
          "output_type": "stream",
          "name": "stdout",
          "text": [
            "\u001b[1m149/149\u001b[0m \u001b[32m━━━━━━━━━━━━━━━━━━━━\u001b[0m\u001b[37m\u001b[0m \u001b[1m1s\u001b[0m 9ms/step - accuracy: 0.9302 - auc: 0.8190 - fn: 147.5867 - fp: 12.2667 - loss: 0.2157 - precision: 0.7198 - recall: 0.1995 - tn: 2218.1467 - tp: 37.7067\n"
          ]
        }
      ],
      "source": [
        "x_validacion = [X_test_num, X_test_img]\n",
        "y_validacion = y_test\n",
        "#x_validacion = [X_val_num, X_val_img]\n",
        "#y_validacion = y_val\n",
        "score_test= model.evaluate(x_validacion, y_validacion)"
      ]
    },
    {
      "cell_type": "code",
      "execution_count": 34,
      "metadata": {
        "colab": {
          "base_uri": "https://localhost:8080/"
        },
        "id": "4KKymKxsOXSs",
        "outputId": "1ebfab0f-7c0f-4e67-a05f-699763b49397"
      },
      "outputs": [
        {
          "output_type": "stream",
          "name": "stdout",
          "text": [
            "\u001b[1m149/149\u001b[0m \u001b[32m━━━━━━━━━━━━━━━━━━━━\u001b[0m\u001b[37m\u001b[0m \u001b[1m3s\u001b[0m 21ms/step\n"
          ]
        }
      ],
      "source": [
        "#test_images = next(test_iter)[0]\n",
        "prediction = model.predict(x_validacion,)\n",
        "#prediction = model.predict(test_images)\n",
        "prediction_labels = (prediction > best_threshold[0]).astype(int)\n",
        "#print(prediction_labels)"
      ]
    },
    {
      "cell_type": "code",
      "execution_count": 35,
      "metadata": {
        "colab": {
          "base_uri": "https://localhost:8080/"
        },
        "id": "DzzQq3hWOXSt",
        "outputId": "4417b94d-8df1-433d-a387-9d385006c7c0"
      },
      "outputs": [
        {
          "output_type": "stream",
          "name": "stdout",
          "text": [
            "Test accuracy: 0.9353212714195251\n",
            "Test AUC: 0.8363392949104309\n",
            "Test precision: 0.8021978139877319\n",
            "Test recall: 0.20110192894935608\n"
          ]
        }
      ],
      "source": [
        "from sklearn.metrics import roc_auc_score,accuracy_score,precision_score, recall_score\n",
        "\n",
        "test_accuracy = score_test[5]\n",
        "test_auc = score_test[8]\n",
        "test_precision = score_test[6]\n",
        "test_recall = score_test[7]\n",
        "\n",
        "print(\"Test accuracy:\",test_accuracy)\n",
        "print(\"Test AUC:\",test_auc)\n",
        "print(\"Test precision:\",test_precision)\n",
        "print(\"Test recall:\",test_recall)"
      ]
    },
    {
      "cell_type": "markdown",
      "source": [],
      "metadata": {
        "id": "gGrVJ3G4TL8m"
      }
    },
    {
      "cell_type": "code",
      "execution_count": 36,
      "metadata": {
        "colab": {
          "base_uri": "https://localhost:8080/",
          "height": 458
        },
        "id": "uW_nm5sEOXSt",
        "outputId": "12614d25-3cba-4644-94c4-390e1de0041f"
      },
      "outputs": [
        {
          "output_type": "execute_result",
          "data": {
            "text/plain": [
              "17734    0\n",
              "19878    0\n",
              "19543    0\n",
              "4964     0\n",
              "3278     0\n",
              "        ..\n",
              "14449    0\n",
              "5716     0\n",
              "1307     0\n",
              "9        1\n",
              "19709    0\n",
              "Name: class, Length: 4762, dtype: int64"
            ],
            "text/html": [
              "<div>\n",
              "<style scoped>\n",
              "    .dataframe tbody tr th:only-of-type {\n",
              "        vertical-align: middle;\n",
              "    }\n",
              "\n",
              "    .dataframe tbody tr th {\n",
              "        vertical-align: top;\n",
              "    }\n",
              "\n",
              "    .dataframe thead th {\n",
              "        text-align: right;\n",
              "    }\n",
              "</style>\n",
              "<table border=\"1\" class=\"dataframe\">\n",
              "  <thead>\n",
              "    <tr style=\"text-align: right;\">\n",
              "      <th></th>\n",
              "      <th>class</th>\n",
              "    </tr>\n",
              "  </thead>\n",
              "  <tbody>\n",
              "    <tr>\n",
              "      <th>17734</th>\n",
              "      <td>0</td>\n",
              "    </tr>\n",
              "    <tr>\n",
              "      <th>19878</th>\n",
              "      <td>0</td>\n",
              "    </tr>\n",
              "    <tr>\n",
              "      <th>19543</th>\n",
              "      <td>0</td>\n",
              "    </tr>\n",
              "    <tr>\n",
              "      <th>4964</th>\n",
              "      <td>0</td>\n",
              "    </tr>\n",
              "    <tr>\n",
              "      <th>3278</th>\n",
              "      <td>0</td>\n",
              "    </tr>\n",
              "    <tr>\n",
              "      <th>...</th>\n",
              "      <td>...</td>\n",
              "    </tr>\n",
              "    <tr>\n",
              "      <th>14449</th>\n",
              "      <td>0</td>\n",
              "    </tr>\n",
              "    <tr>\n",
              "      <th>5716</th>\n",
              "      <td>0</td>\n",
              "    </tr>\n",
              "    <tr>\n",
              "      <th>1307</th>\n",
              "      <td>0</td>\n",
              "    </tr>\n",
              "    <tr>\n",
              "      <th>9</th>\n",
              "      <td>1</td>\n",
              "    </tr>\n",
              "    <tr>\n",
              "      <th>19709</th>\n",
              "      <td>0</td>\n",
              "    </tr>\n",
              "  </tbody>\n",
              "</table>\n",
              "<p>4762 rows × 1 columns</p>\n",
              "</div><br><label><b>dtype:</b> int64</label>"
            ]
          },
          "metadata": {},
          "execution_count": 36
        }
      ],
      "source": [
        "y_test1 = y_validacion.astype(float).astype(int)\n",
        "y_test1"
      ]
    },
    {
      "cell_type": "code",
      "source": [
        "from sklearn.metrics import ConfusionMatrixDisplay, confusion_matrix, roc_curve, roc_auc_score, recall_score\n",
        "\n",
        "# Suponiendo que cnn_model sea tu modelo entrenado y X_test tu conjunto de prueba\n",
        "print(\"\\033[1mTest Dataset.\\033[0m \\n\\n\")\n",
        "\n",
        "# Confusion Matrix\n",
        "print(\"\\033[1mConfusion matrix:\\033[0m\")\n",
        "cm = confusion_matrix(y_test1, prediction_labels)\n",
        "disp = ConfusionMatrixDisplay(confusion_matrix=cm)\n",
        "disp.plot()\n",
        "plt.show()\n",
        "print(f\"Verdaderos Negativos (VN): {cm[0, 0]}\")\n",
        "print(f\"Falsos Positivos (FP): {cm[0, 1]}\")\n",
        "print(f\"Falsos Negativos (FN): {cm[1, 0]}\")\n",
        "print(f\"Verdaderos Positivos (VP): {cm[1, 1]} \\n\\n\")\n",
        "\n",
        "# Calcular las métricas usando probabilidades en lugar de etiquetas\n",
        "#prediction_probs = model.predict([X_val_img])\n",
        "\n",
        "print(\"\\033[1mAUC SCORE:\\033[0m\")\n",
        "print(roc_auc_score(y_test1, prediction ))\n",
        "\n",
        "print(\"\\033[1mRecall SCORE:\\033[0m\")\n",
        "print(recall_score(y_test1, prediction_labels))\n",
        "\n",
        "# Curva ROC\n",
        "fpr, tpr, thresholds = roc_curve(y_test1, prediction)\n",
        "plt.plot([0, 1], [0, 1], 'k--')\n",
        "plt.plot(fpr, tpr)\n",
        "plt.xlabel('False Positive Rate')\n",
        "plt.ylabel('True Positive Rate')\n",
        "plt.title('ROC Curve and AUC')\n",
        "plt.fill_between(fpr, tpr, alpha=0.3)\n",
        "plt.tight_layout()\n",
        "plt.show()"
      ],
      "metadata": {
        "colab": {
          "base_uri": "https://localhost:8080/",
          "height": 1000
        },
        "id": "zykXkvQOTCvV",
        "outputId": "343d8efd-c1d2-420a-8b86-b673ecea1015"
      },
      "execution_count": 37,
      "outputs": [
        {
          "output_type": "stream",
          "name": "stdout",
          "text": [
            "\u001b[1mTest Dataset.\u001b[0m \n",
            "\n",
            "\n",
            "\u001b[1mConfusion matrix:\u001b[0m\n"
          ]
        },
        {
          "output_type": "display_data",
          "data": {
            "text/plain": [
              "<Figure size 640x480 with 2 Axes>"
            ],
            "image/png": "[encoded data removed]"
          },
          "metadata": {}
        },
        {
          "output_type": "stream",
          "name": "stdout",
          "text": [
            "Verdaderos Negativos (VN): 3396\n",
            "Falsos Positivos (FP): 1003\n",
            "Falsos Negativos (FN): 111\n",
            "Verdaderos Positivos (VP): 252 \n",
            "\n",
            "\n",
            "\u001b[1mAUC SCORE:\u001b[0m\n",
            "0.8366226483980519\n",
            "\u001b[1mRecall SCORE:\u001b[0m\n",
            "0.6942148760330579\n"
          ]
        },
        {
          "output_type": "display_data",
          "data": {
            "text/plain": [
              "<Figure size 640x480 with 1 Axes>"
            ],
            "image/png": "[encoded data removed]"
          },
          "metadata": {}
        }
      ]
    }
  ],
  "metadata": {
    "colab": {
      "provenance": []
    },
    "kernelspec": {
      "display_name": "Python 3",
      "language": "python",
      "name": "python3"
    },
    "language_info": {
      "codemirror_mode": {
        "name": "ipython",
        "version": 3
      },
      "file_extension": ".py",
      "mimetype": "text/x-python",
      "name": "python",
      "nbconvert_exporter": "python",
      "pygments_lexer": "ipython3",
      "version": "3.9.6"
    }
  },
  "nbformat": 4,
  "nbformat_minor": 0
}