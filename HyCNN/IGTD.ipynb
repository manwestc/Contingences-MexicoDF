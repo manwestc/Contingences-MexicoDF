{
  "cells": [
    {
      "cell_type": "markdown",
      "metadata": {
        "id": "EybOZ6hSjpCF"
      },
      "source": [
        "<h1><font color=\"#113D68\" size=5>TINTOlib: Converting Tidy Data into Synthetic Images</font></h1>>\n",
        "\n",
        "<h1><font color=\"#113D68\" size=5>Template Binary Classification problem with a Hibryd Networks (CNN+MLP)</font></h1>\n",
        "\n",
        "<br><br>\n",
        "<div style=\"text-align: right\">\n",
        "<font color=\"#113D68\" size=3>Manuel Castillo-Cara</font><br>\n",
        "<font color=\"#113D68\" size=3>Raúl García-Castro</font><br>\n",
        "<font color=\"#113D68\" size=3>Jiayun Liu</font><br>\n",
        "\n",
        "</div>\n",
        "\n",
        "---"
      ]
    },
    {
      "cell_type": "markdown",
      "metadata": {
        "id": "CizubEIM2ucs"
      },
      "source": [
        "<div class=\"alert alert-block alert-info\">\n",
        "    \n",
        "<i class=\"fa fa-info-circle\" aria-hidden=\"true\"></i>\n",
        "More information about [Manuel Castillo-Cara](https://www.manuelcastillo.eu/)"
      ]
    },
    {
      "cell_type": "markdown",
      "metadata": {
        "id": "sHxkX4ui2ucs"
      },
      "source": [
        "<div class=\"alert alert-block alert-info\">\n",
        "    \n",
        "<i class=\"fa fa-info-circle\" aria-hidden=\"true\"></i>\n",
        "More information about [Raúl García-Castro](http://www.garcia-castro.com/)"
      ]
    },
    {
      "cell_type": "markdown",
      "metadata": {
        "id": "1k6VSNwE2ucs"
      },
      "source": [
        "---\n",
        "\n",
        "<a id=\"indice\"></a>\n",
        "<h2><font color=\"#004D7F\" size=5>Licencia</font></h2>\n",
        "\n",
        "<p><small><small>Improving Deep Learning by Exploiting Synthetic Images Copyright 2024 Manuel Castillo Cara.</p>\n",
        "<p><small><small> Licensed under the Apache License, Version 2.0 (the \"License\"); you may not use this file except in compliance with the License. You may obtain a copy of the License at </p>\n",
        "<p><small><small> <a href=\"https://www.apache.org/licenses/LICENSE-2.0\">https://www.apache.org/licenses/LICENSE-2.0</a> </p>\n",
        "<p><small><small> Unless required by applicable law or agreed to in writing, software distributed under the License is distributed on an \"AS IS\" BASIS, WITHOUT WARRANTIES OR CONDITIONS OF ANY KIND, either express or implied. See the License for the specific language governing permissions and limitations under the License. </p>"
      ]
    },
    {
      "cell_type": "markdown",
      "metadata": {
        "id": "2l5nFzsdjpCW"
      },
      "source": [
        "---\n",
        "\n",
        "<a id=\"indice\"></a>\n",
        "<h2><font color=\"#004D7F\" size=5>Index</font></h2>\n",
        "\n",
        "* [0. Context](#section0)\n",
        "* [1. Description](#section1)\n",
        "    * [1.1. Main Features](#section11)\n",
        "    * [1.2. Citation](#section12)\n",
        "    * [1.3. Documentation and License](#section13)\n",
        "* [2. Libraries](#section2)\n",
        "    * [2.1. System setup](#section21)\n",
        "    * [2.2. Invoke the libraries](#section22)\n",
        "* [3. Data processing](#section3)\n",
        "    * [3.1. TINTOlib methods](#section31)\n",
        "    * [3.2. Read the dataset](#section32)\n",
        "    * [3.3. Generate images](#section33)\n",
        "    * [3.4. Read images](#section34)\n",
        "    * [3.5. Mix images and tidy data](#section35)\n",
        "* [4. Pre-modelling phase](#section4)\n",
        "    * [4.1. Data curation](#section41)\n",
        "    * [4.2. One-hot encoding](#section42)\n",
        "* [5. Modelling hybrid network](#section5)\n",
        "    * [5.1. FFNN for tabular data](#section51)\n",
        "    * [5.2. CNN for TINTOlib images](#section52)\n",
        "    * [5.3. Concatenate branches](#section53)\n",
        "    * [5.4. Metrics](#section54)\n",
        "    * [5.5. Compile and fit](#section55)\n",
        "* [6. Results](#section6)\n",
        "    * [6.1. Train/Validation representation](#section61)\n",
        "    * [6.2. Validation/Test evaluation](#section62)"
      ]
    },
    {
      "cell_type": "markdown",
      "metadata": {
        "id": "4RKBgDwzjpCl"
      },
      "source": [
        "---\n",
        "<div style=\"text-align: right\"> <font size=5> <a href=\"#indice\"><i class=\"fa fa-arrow-circle-up\" aria-hidden=\"true\" style=\"color:#004D7F\"></i></a></font></div>\n",
        "\n",
        "---"
      ]
    },
    {
      "cell_type": "code",
      "source": [
        "!pip install -U TINTOlib mpi4py tifffile tqdm seaborn bitstring opencv-python pydot"
      ],
      "metadata": {
        "colab": {
          "base_uri": "https://localhost:8080/"
        },
        "id": "TxJ-RrlF24IQ",
        "outputId": "a2b2771f-4f85-4478-f0ac-a3173f9b8b12"
      },
      "execution_count": 1,
      "outputs": [
        {
          "output_type": "stream",
          "name": "stdout",
          "text": [
            "Collecting TINTOlib\n",
            "  Downloading tintolib-0.0.26-py3-none-any.whl.metadata (22 kB)\n",
            "Collecting mpi4py\n",
            "  Downloading mpi4py-4.0.1.tar.gz (466 kB)\n",
            "\u001b[2K     \u001b[90m━━━━━━━━━━━━━━━━━━━━━━━━━━━━━━━━━━━━━━━━\u001b[0m \u001b[32m466.2/466.2 kB\u001b[0m \u001b[31m7.5 MB/s\u001b[0m eta \u001b[36m0:00:00\u001b[0m\n",
            "\u001b[?25h  Installing build dependencies ... \u001b[?25l\u001b[?25hdone\n",
            "  Getting requirements to build wheel ... \u001b[?25l\u001b[?25hdone\n",
            "  Installing backend dependencies ... \u001b[?25l\u001b[?25hdone\n",
            "  Preparing metadata (pyproject.toml) ... \u001b[?25l\u001b[?25hdone\n",
            "Requirement already satisfied: tifffile in /usr/local/lib/python3.10/dist-packages (2024.12.12)\n",
            "Requirement already satisfied: tqdm in /usr/local/lib/python3.10/dist-packages (4.67.1)\n",
            "Requirement already satisfied: seaborn in /usr/local/lib/python3.10/dist-packages (0.13.2)\n",
            "Collecting bitstring\n",
            "  Downloading bitstring-4.2.3-py3-none-any.whl.metadata (5.0 kB)\n",
            "Requirement already satisfied: opencv-python in /usr/local/lib/python3.10/dist-packages (4.10.0.84)\n",
            "Requirement already satisfied: pydot in /usr/local/lib/python3.10/dist-packages (3.0.3)\n",
            "Requirement already satisfied: numpy in /usr/local/lib/python3.10/dist-packages (from tifffile) (1.26.4)\n",
            "Requirement already satisfied: pandas>=1.2 in /usr/local/lib/python3.10/dist-packages (from seaborn) (2.2.2)\n",
            "Requirement already satisfied: matplotlib!=3.6.1,>=3.4 in /usr/local/lib/python3.10/dist-packages (from seaborn) (3.8.0)\n",
            "Collecting bitarray<3.0.0,>=2.9.0 (from bitstring)\n",
            "  Downloading bitarray-2.9.3-cp310-cp310-manylinux_2_17_x86_64.manylinux2014_x86_64.whl.metadata (34 kB)\n",
            "Requirement already satisfied: pyparsing>=3.0.9 in /usr/local/lib/python3.10/dist-packages (from pydot) (3.2.0)\n",
            "Requirement already satisfied: contourpy>=1.0.1 in /usr/local/lib/python3.10/dist-packages (from matplotlib!=3.6.1,>=3.4->seaborn) (1.3.1)\n",
            "Requirement already satisfied: cycler>=0.10 in /usr/local/lib/python3.10/dist-packages (from matplotlib!=3.6.1,>=3.4->seaborn) (0.12.1)\n",
            "Requirement already satisfied: fonttools>=4.22.0 in /usr/local/lib/python3.10/dist-packages (from matplotlib!=3.6.1,>=3.4->seaborn) (4.55.3)\n",
            "Requirement already satisfied: kiwisolver>=1.0.1 in /usr/local/lib/python3.10/dist-packages (from matplotlib!=3.6.1,>=3.4->seaborn) (1.4.7)\n",
            "Requirement already satisfied: packaging>=20.0 in /usr/local/lib/python3.10/dist-packages (from matplotlib!=3.6.1,>=3.4->seaborn) (24.2)\n",
            "Requirement already satisfied: pillow>=6.2.0 in /usr/local/lib/python3.10/dist-packages (from matplotlib!=3.6.1,>=3.4->seaborn) (11.0.0)\n",
            "Requirement already satisfied: python-dateutil>=2.7 in /usr/local/lib/python3.10/dist-packages (from matplotlib!=3.6.1,>=3.4->seaborn) (2.8.2)\n",
            "Requirement already satisfied: pytz>=2020.1 in /usr/local/lib/python3.10/dist-packages (from pandas>=1.2->seaborn) (2024.2)\n",
            "Requirement already satisfied: tzdata>=2022.7 in /usr/local/lib/python3.10/dist-packages (from pandas>=1.2->seaborn) (2024.2)\n",
            "Requirement already satisfied: six>=1.5 in /usr/local/lib/python3.10/dist-packages (from python-dateutil>=2.7->matplotlib!=3.6.1,>=3.4->seaborn) (1.17.0)\n",
            "Downloading tintolib-0.0.26-py3-none-any.whl (53 kB)\n",
            "\u001b[2K   \u001b[90m━━━━━━━━━━━━━━━━━━━━━━━━━━━━━━━━━━━━━━━━\u001b[0m \u001b[32m53.3/53.3 kB\u001b[0m \u001b[31m3.8 MB/s\u001b[0m eta \u001b[36m0:00:00\u001b[0m\n",
            "\u001b[?25hDownloading bitstring-4.2.3-py3-none-any.whl (71 kB)\n",
            "\u001b[2K   \u001b[90m━━━━━━━━━━━━━━━━━━━━━━━━━━━━━━━━━━━━━━━━\u001b[0m \u001b[32m71.7/71.7 kB\u001b[0m \u001b[31m6.0 MB/s\u001b[0m eta \u001b[36m0:00:00\u001b[0m\n",
            "\u001b[?25hDownloading bitarray-2.9.3-cp310-cp310-manylinux_2_17_x86_64.manylinux2014_x86_64.whl (288 kB)\n",
            "\u001b[2K   \u001b[90m━━━━━━━━━━━━━━━━━━━━━━━━━━━━━━━━━━━━━━━━\u001b[0m \u001b[32m288.4/288.4 kB\u001b[0m \u001b[31m21.3 MB/s\u001b[0m eta \u001b[36m0:00:00\u001b[0m\n",
            "\u001b[?25hBuilding wheels for collected packages: mpi4py\n",
            "  Building wheel for mpi4py (pyproject.toml) ... \u001b[?25l\u001b[?25hdone\n",
            "  Created wheel for mpi4py: filename=mpi4py-4.0.1-cp310-cp310-linux_x86_64.whl size=4266348 sha256=aaa7122c228fde5bc12bb476f91d09d5e546ac0f8d24201d595ac5d8a3143d44\n",
            "  Stored in directory: /root/.cache/pip/wheels/3c/ca/13/13218a83854023ccec184e3af482f0f038b434aa32c19afee8\n",
            "Successfully built mpi4py\n",
            "Installing collected packages: bitarray, TINTOlib, mpi4py, bitstring\n",
            "Successfully installed TINTOlib-0.0.26 bitarray-2.9.3 bitstring-4.2.3 mpi4py-4.0.1\n"
          ]
        }
      ]
    },
    {
      "cell_type": "code",
      "source": [
        "!pip install keras_preprocessing --quiet"
      ],
      "metadata": {
        "colab": {
          "base_uri": "https://localhost:8080/"
        },
        "id": "6vuBkmC527Sg",
        "outputId": "9f983cc2-ac44-4a98-82b5-30e9f437db2a"
      },
      "execution_count": 2,
      "outputs": [
        {
          "output_type": "stream",
          "name": "stdout",
          "text": [
            "\u001b[?25l   \u001b[90m━━━━━━━━━━━━━━━━━━━━━━━━━━━━━━━━━━━━━━━━\u001b[0m \u001b[32m0.0/42.6 kB\u001b[0m \u001b[31m?\u001b[0m eta \u001b[36m-:--:--\u001b[0m\r\u001b[2K   \u001b[90m━━━━━━━━━━━━━━━━━━━━━━━━━━━━━━━━━━━━━━━━\u001b[0m \u001b[32m42.6/42.6 kB\u001b[0m \u001b[31m1.6 MB/s\u001b[0m eta \u001b[36m0:00:00\u001b[0m\n",
            "\u001b[?25h"
          ]
        }
      ]
    },
    {
      "cell_type": "markdown",
      "metadata": {
        "id": "qwYF5A2njpC8"
      },
      "source": [
        "<a id=\"section2\"></a>\n",
        "# <font color=\"#004D7F\" size=6> 2. Libraries</font>"
      ]
    },
    {
      "cell_type": "markdown",
      "metadata": {
        "id": "k5A4NCqG2uct"
      },
      "source": [
        "---\n",
        "<a id=\"section22\"></a>\n",
        "# <font color=\"#004D7F\" size=5> 2.2. Invoke the libraries</font>"
      ]
    },
    {
      "cell_type": "code",
      "execution_count": 3,
      "metadata": {
        "id": "PeeBbGxlpjFp",
        "tags": []
      },
      "outputs": [],
      "source": [
        "import os\n",
        "import random\n",
        "import pandas as pd\n",
        "import numpy as np\n",
        "from tqdm import tqdm\n",
        "#import cv2\n",
        "import gc\n",
        "import matplotlib.pyplot as plt\n",
        "#import openslide\n",
        "#from openslide.deepzoom import DeepZoomGenerator\n",
        "import tifffile as tifi\n",
        "import sklearn\n",
        "import tensorflow as tf\n",
        "import seaborn as sns\n",
        "from PIL import Image\n",
        "\n",
        "\n",
        "from sklearn.metrics import mean_absolute_error, mean_squared_error, r2_score,mean_absolute_percentage_error\n",
        "\n",
        "from keras_preprocessing.image import ImageDataGenerator\n",
        "from tensorflow.keras.models import load_model\n",
        "\n",
        "from sklearn.model_selection import train_test_split\n",
        "from tensorflow.keras.applications import vgg16, vgg19, resnet50, mobilenet, inception_resnet_v2, densenet, inception_v3, xception, nasnet, ResNet152V2\n",
        "from tensorflow.keras.models import Sequential, Model, load_model\n",
        "from tensorflow.keras.layers import Dense, Conv2D, MaxPool2D, Flatten, Dropout, BatchNormalization, InputLayer, LayerNormalization\n",
        "from tensorflow.keras.callbacks import ModelCheckpoint, ReduceLROnPlateau, EarlyStopping\n",
        "from tensorflow.keras.optimizers import SGD, Adam, Adadelta, Adamax, AdamW\n",
        "from tensorflow.keras import layers, models, Model\n",
        "from tensorflow.keras.losses import MeanAbsoluteError, MeanAbsolutePercentageError\n",
        "from tensorflow.keras.layers import Softmax, Multiply, Add, Input, Activation, MaxPooling2D, concatenate, Concatenate, Multiply, AveragePooling2D\n",
        "from tensorflow.keras.utils import to_categorical\n",
        "from keras.utils import plot_model\n",
        "\n",
        "\n",
        "from imblearn.under_sampling import RandomUnderSampler\n",
        "\n",
        "#Models of TINTOlib\n",
        "from TINTOlib.tinto import TINTO\n",
        "from TINTOlib.supertml import SuperTML\n",
        "from TINTOlib.igtd import IGTD\n",
        "from TINTOlib.refined import REFINED\n",
        "from TINTOlib.barGraph import BarGraph\n",
        "from TINTOlib.distanceMatrix import DistanceMatrix\n",
        "from TINTOlib.combination import Combination\n",
        "from TINTOlib.featureWrap import FeatureWrap\n",
        "\n",
        "\n",
        "SEED = 64\n",
        "# SET RANDOM SEED FOR REPRODUCIBILITY\n",
        "#torch.manual_seed(SEED)\n",
        "#torch.cuda.manual_seed(SEED)\n",
        "#torch.cuda.manual_seed_all(SEED)\n",
        "#torch.backends.cudnn.deterministic = True\n",
        "#torch.backends.cudnn.benchmark = False\n",
        "os.environ['PYTHONHASHSEED']=str(SEED)\n",
        "random.seed(SEED)\n",
        "np.random.seed(SEED)\n",
        "tf.random.set_seed(SEED)"
      ]
    },
    {
      "cell_type": "markdown",
      "metadata": {
        "id": "NwS-cKUxjpDQ"
      },
      "source": [
        "---\n",
        "<div style=\"text-align: right\"> <font size=5> <a href=\"#indice\"><i class=\"fa fa-arrow-circle-up\" aria-hidden=\"true\" style=\"color:#004D7F\"></i></a></font></div>\n",
        "\n",
        "---"
      ]
    },
    {
      "cell_type": "markdown",
      "metadata": {
        "id": "aDL4LARWjpDT"
      },
      "source": [
        "<a id=\"section3\"></a>\n",
        "# <font color=\"#004D7F\" size=6> 3. Data processing</font>"
      ]
    },
    {
      "cell_type": "markdown",
      "metadata": {
        "id": "jXcRw78ljpDU"
      },
      "source": [
        "The first thing to do is to read all the images created by TINTO. TINTO creates a folder which contains subfolders corresponding to each target that has the problem. Each image corresponds to a sample of the original dataset."
      ]
    },
    {
      "cell_type": "markdown",
      "metadata": {
        "id": "yGCea5nm2ucv"
      },
      "source": [
        "---\n",
        "<a id=\"section31\"></a>\n",
        "# <font color=\"#004D7F\" size=5> 3.1. TINTOlib methods</font>"
      ]
    },
    {
      "cell_type": "markdown",
      "metadata": {
        "id": "3TzX8W3d2ucv"
      },
      "source": [
        "We prepare the declaration of the classes with the TINTOlib method we want to transform. Note that TINTOlib has several methods and we will have to choose one of them since each method generates different images.\n",
        "\n",
        "In addition, we establish the paths where the dataset is located and also the folder where the images will be created."
      ]
    },
    {
      "cell_type": "code",
      "execution_count": 4,
      "metadata": {
        "id": "Wq1bB0nS2ucv"
      },
      "outputs": [],
      "source": [
        "#Select the model and the parameters\n",
        "problem_type = \"supervised\"\n",
        "#problem_type = \"regression\"\n",
        "pixelTML = 30\n",
        "pixel = 40\n",
        "## zoom para ampliar la imagen\n",
        "#image_model = REFINED(problem=problem_type, random_seed=SEED, zoom=5, n_processors=8)\n",
        "#image_model = TINTO(problem= problem_type, blur=True, option='maximum', pixels=pixel, random_seed=SEED)\n",
        "# scale sería [7,4] porque hay 26 variables (para 24 pixeles);\n",
        "image_model = IGTD(problem= problem_type, random_seed=SEED, scale=[3,3], zoom=4)\n",
        "#image_model = BarGraph(problem= problem_type, pixel_width=2, gap=1, zoom=1)\n",
        "#image_model = DistanceMatrix(problem= problem_type, zoom=4)\n",
        "#image_model = Combination(problem= problem_type, zoom=3)\n",
        "#image_model = SuperTML(problem= problem_type, pixels = pixelTML, font_size=4, feature_importance=True, random_seed=SEED)\n",
        "#image_model = SuperTML(problem= problem_type, pixels=pixel, font_size=3, random_seed=SEED)\n",
        "\n",
        "#Define the dataset path and the folder where the images will be saved\n",
        "results_folder = \"IGTD\"\n",
        "dataset_path = \"../dataset_train.csv\"\n",
        "images_folder = \"IGTD\""
      ]
    },
    {
      "cell_type": "markdown",
      "metadata": {
        "id": "Hf_-E-YW2ucv"
      },
      "source": [
        "<div class=\"alert alert-block alert-info\">\n",
        "\n",
        "<i class=\"fa fa-info-circle\" aria-hidden=\"true\"></i>\n",
        "You can see all TINTOlib method in the [PyPI documentation](https://tintolib.readthedocs.io/en/latest/installation.html)"
      ]
    },
    {
      "cell_type": "markdown",
      "metadata": {
        "id": "Qki1xBHq2ucv"
      },
      "source": [
        "---\n",
        "<a id=\"section32\"></a>\n",
        "# <font color=\"#004D7F\" size=5> 3.2. Read the dataset</font>"
      ]
    },
    {
      "cell_type": "markdown",
      "metadata": {
        "id": "jk5fqdSt2ucv"
      },
      "source": [
        "In this part, we proceed to read the dataset according to the path specified above and also standardize the name that the target will have, in this case, it will be called `class`."
      ]
    },
    {
      "cell_type": "code",
      "execution_count": 6,
      "metadata": {
        "scrolled": true,
        "colab": {
          "base_uri": "https://localhost:8080/",
          "height": 112
        },
        "id": "CUOy-AxJ2ucv",
        "outputId": "bf09dc0a-f9e9-47f7-98e0-03bbf26db30d"
      },
      "outputs": [
        {
          "output_type": "execute_result",
          "data": {
            "text/plain": [
              "      O3   TMP    RH      1/RH  WSP    WDR  class\n",
              "0  163.0  28.2  17.0  0.058824  3.2  346.0      1\n",
              "1  170.0  28.9  23.0  0.043478  3.4  355.0      1"
            ],
            "text/html": [
              "\n",
              "  <div id=\"df-9ea2f440-4509-403e-8998-b15fccabca64\" class=\"colab-df-container\">\n",
              "    <div>\n",
              "<style scoped>\n",
              "    .dataframe tbody tr th:only-of-type {\n",
              "        vertical-align: middle;\n",
              "    }\n",
              "\n",
              "    .dataframe tbody tr th {\n",
              "        vertical-align: top;\n",
              "    }\n",
              "\n",
              "    .dataframe thead th {\n",
              "        text-align: right;\n",
              "    }\n",
              "</style>\n",
              "<table border=\"1\" class=\"dataframe\">\n",
              "  <thead>\n",
              "    <tr style=\"text-align: right;\">\n",
              "      <th></th>\n",
              "      <th>O3</th>\n",
              "      <th>TMP</th>\n",
              "      <th>RH</th>\n",
              "      <th>1/RH</th>\n",
              "      <th>WSP</th>\n",
              "      <th>WDR</th>\n",
              "      <th>class</th>\n",
              "    </tr>\n",
              "  </thead>\n",
              "  <tbody>\n",
              "    <tr>\n",
              "      <th>0</th>\n",
              "      <td>163.0</td>\n",
              "      <td>28.2</td>\n",
              "      <td>17.0</td>\n",
              "      <td>0.058824</td>\n",
              "      <td>3.2</td>\n",
              "      <td>346.0</td>\n",
              "      <td>1</td>\n",
              "    </tr>\n",
              "    <tr>\n",
              "      <th>1</th>\n",
              "      <td>170.0</td>\n",
              "      <td>28.9</td>\n",
              "      <td>23.0</td>\n",
              "      <td>0.043478</td>\n",
              "      <td>3.4</td>\n",
              "      <td>355.0</td>\n",
              "      <td>1</td>\n",
              "    </tr>\n",
              "  </tbody>\n",
              "</table>\n",
              "</div>\n",
              "    <div class=\"colab-df-buttons\">\n",
              "\n",
              "  <div class=\"colab-df-container\">\n",
              "    <button class=\"colab-df-convert\" onclick=\"convertToInteractive('df-9ea2f440-4509-403e-8998-b15fccabca64')\"\n",
              "            title=\"Convert this dataframe to an interactive table.\"\n",
              "            style=\"display:none;\">\n",
              "\n",
              "  <svg xmlns=\"http://www.w3.org/2000/svg\" height=\"24px\" viewBox=\"0 -960 960 960\">\n",
              "    <path d=\"M120-120v-720h720v720H120Zm60-500h600v-160H180v160Zm220 220h160v-160H400v160Zm0 220h160v-160H400v160ZM180-400h160v-160H180v160Zm440 0h160v-160H620v160ZM180-180h160v-160H180v160Zm440 0h160v-160H620v160Z\"/>\n",
              "  </svg>\n",
              "    </button>\n",
              "\n",
              "  <style>\n",
              "    .colab-df-container {\n",
              "      display:flex;\n",
              "      gap: 12px;\n",
              "    }\n",
              "\n",
              "    .colab-df-convert {\n",
              "      background-color: #E8F0FE;\n",
              "      border: none;\n",
              "      border-radius: 50%;\n",
              "      cursor: pointer;\n",
              "      display: none;\n",
              "      fill: #1967D2;\n",
              "      height: 32px;\n",
              "      padding: 0 0 0 0;\n",
              "      width: 32px;\n",
              "    }\n",
              "\n",
              "    .colab-df-convert:hover {\n",
              "      background-color: #E2EBFA;\n",
              "      box-shadow: 0px 1px 2px rgba(60, 64, 67, 0.3), 0px 1px 3px 1px rgba(60, 64, 67, 0.15);\n",
              "      fill: #174EA6;\n",
              "    }\n",
              "\n",
              "    .colab-df-buttons div {\n",
              "      margin-bottom: 4px;\n",
              "    }\n",
              "\n",
              "    [theme=dark] .colab-df-convert {\n",
              "      background-color: #3B4455;\n",
              "      fill: #D2E3FC;\n",
              "    }\n",
              "\n",
              "    [theme=dark] .colab-df-convert:hover {\n",
              "      background-color: #434B5C;\n",
              "      box-shadow: 0px 1px 3px 1px rgba(0, 0, 0, 0.15);\n",
              "      filter: drop-shadow(0px 1px 2px rgba(0, 0, 0, 0.3));\n",
              "      fill: #FFFFFF;\n",
              "    }\n",
              "  </style>\n",
              "\n",
              "    <script>\n",
              "      const buttonEl =\n",
              "        document.querySelector('#df-9ea2f440-4509-403e-8998-b15fccabca64 button.colab-df-convert');\n",
              "      buttonEl.style.display =\n",
              "        google.colab.kernel.accessAllowed ? 'block' : 'none';\n",
              "\n",
              "      async function convertToInteractive(key) {\n",
              "        const element = document.querySelector('#df-9ea2f440-4509-403e-8998-b15fccabca64');\n",
              "        const dataTable =\n",
              "          await google.colab.kernel.invokeFunction('convertToInteractive',\n",
              "                                                    [key], {});\n",
              "        if (!dataTable) return;\n",
              "\n",
              "        const docLinkHtml = 'Like what you see? Visit the ' +\n",
              "          '<a target=\"_blank\" href=https://colab.research.google.com/notebooks/data_table.ipynb>data table notebook</a>'\n",
              "          + ' to learn more about interactive tables.';\n",
              "        element.innerHTML = '';\n",
              "        dataTable['output_type'] = 'display_data';\n",
              "        await google.colab.output.renderOutput(dataTable, element);\n",
              "        const docLink = document.createElement('div');\n",
              "        docLink.innerHTML = docLinkHtml;\n",
              "        element.appendChild(docLink);\n",
              "      }\n",
              "    </script>\n",
              "  </div>\n",
              "\n",
              "\n",
              "<div id=\"df-e9edd733-e9e3-4e05-8af4-80849c23207c\">\n",
              "  <button class=\"colab-df-quickchart\" onclick=\"quickchart('df-e9edd733-e9e3-4e05-8af4-80849c23207c')\"\n",
              "            title=\"Suggest charts\"\n",
              "            style=\"display:none;\">\n",
              "\n",
              "<svg xmlns=\"http://www.w3.org/2000/svg\" height=\"24px\"viewBox=\"0 0 24 24\"\n",
              "     width=\"24px\">\n",
              "    <g>\n",
              "        <path d=\"M19 3H5c-1.1 0-2 .9-2 2v14c0 1.1.9 2 2 2h14c1.1 0 2-.9 2-2V5c0-1.1-.9-2-2-2zM9 17H7v-7h2v7zm4 0h-2V7h2v10zm4 0h-2v-4h2v4z\"/>\n",
              "    </g>\n",
              "</svg>\n",
              "  </button>\n",
              "\n",
              "<style>\n",
              "  .colab-df-quickchart {\n",
              "      --bg-color: #E8F0FE;\n",
              "      --fill-color: #1967D2;\n",
              "      --hover-bg-color: #E2EBFA;\n",
              "      --hover-fill-color: #174EA6;\n",
              "      --disabled-fill-color: #AAA;\n",
              "      --disabled-bg-color: #DDD;\n",
              "  }\n",
              "\n",
              "  [theme=dark] .colab-df-quickchart {\n",
              "      --bg-color: #3B4455;\n",
              "      --fill-color: #D2E3FC;\n",
              "      --hover-bg-color: #434B5C;\n",
              "      --hover-fill-color: #FFFFFF;\n",
              "      --disabled-bg-color: #3B4455;\n",
              "      --disabled-fill-color: #666;\n",
              "  }\n",
              "\n",
              "  .colab-df-quickchart {\n",
              "    background-color: var(--bg-color);\n",
              "    border: none;\n",
              "    border-radius: 50%;\n",
              "    cursor: pointer;\n",
              "    display: none;\n",
              "    fill: var(--fill-color);\n",
              "    height: 32px;\n",
              "    padding: 0;\n",
              "    width: 32px;\n",
              "  }\n",
              "\n",
              "  .colab-df-quickchart:hover {\n",
              "    background-color: var(--hover-bg-color);\n",
              "    box-shadow: 0 1px 2px rgba(60, 64, 67, 0.3), 0 1px 3px 1px rgba(60, 64, 67, 0.15);\n",
              "    fill: var(--button-hover-fill-color);\n",
              "  }\n",
              "\n",
              "  .colab-df-quickchart-complete:disabled,\n",
              "  .colab-df-quickchart-complete:disabled:hover {\n",
              "    background-color: var(--disabled-bg-color);\n",
              "    fill: var(--disabled-fill-color);\n",
              "    box-shadow: none;\n",
              "  }\n",
              "\n",
              "  .colab-df-spinner {\n",
              "    border: 2px solid var(--fill-color);\n",
              "    border-color: transparent;\n",
              "    border-bottom-color: var(--fill-color);\n",
              "    animation:\n",
              "      spin 1s steps(1) infinite;\n",
              "  }\n",
              "\n",
              "  @keyframes spin {\n",
              "    0% {\n",
              "      border-color: transparent;\n",
              "      border-bottom-color: var(--fill-color);\n",
              "      border-left-color: var(--fill-color);\n",
              "    }\n",
              "    20% {\n",
              "      border-color: transparent;\n",
              "      border-left-color: var(--fill-color);\n",
              "      border-top-color: var(--fill-color);\n",
              "    }\n",
              "    30% {\n",
              "      border-color: transparent;\n",
              "      border-left-color: var(--fill-color);\n",
              "      border-top-color: var(--fill-color);\n",
              "      border-right-color: var(--fill-color);\n",
              "    }\n",
              "    40% {\n",
              "      border-color: transparent;\n",
              "      border-right-color: var(--fill-color);\n",
              "      border-top-color: var(--fill-color);\n",
              "    }\n",
              "    60% {\n",
              "      border-color: transparent;\n",
              "      border-right-color: var(--fill-color);\n",
              "    }\n",
              "    80% {\n",
              "      border-color: transparent;\n",
              "      border-right-color: var(--fill-color);\n",
              "      border-bottom-color: var(--fill-color);\n",
              "    }\n",
              "    90% {\n",
              "      border-color: transparent;\n",
              "      border-bottom-color: var(--fill-color);\n",
              "    }\n",
              "  }\n",
              "</style>\n",
              "\n",
              "  <script>\n",
              "    async function quickchart(key) {\n",
              "      const quickchartButtonEl =\n",
              "        document.querySelector('#' + key + ' button');\n",
              "      quickchartButtonEl.disabled = true;  // To prevent multiple clicks.\n",
              "      quickchartButtonEl.classList.add('colab-df-spinner');\n",
              "      try {\n",
              "        const charts = await google.colab.kernel.invokeFunction(\n",
              "            'suggestCharts', [key], {});\n",
              "      } catch (error) {\n",
              "        console.error('Error during call to suggestCharts:', error);\n",
              "      }\n",
              "      quickchartButtonEl.classList.remove('colab-df-spinner');\n",
              "      quickchartButtonEl.classList.add('colab-df-quickchart-complete');\n",
              "    }\n",
              "    (() => {\n",
              "      let quickchartButtonEl =\n",
              "        document.querySelector('#df-e9edd733-e9e3-4e05-8af4-80849c23207c button');\n",
              "      quickchartButtonEl.style.display =\n",
              "        google.colab.kernel.accessAllowed ? 'block' : 'none';\n",
              "    })();\n",
              "  </script>\n",
              "</div>\n",
              "\n",
              "    </div>\n",
              "  </div>\n"
            ],
            "application/vnd.google.colaboratory.intrinsic+json": {
              "type": "dataframe",
              "variable_name": "df",
              "summary": "{\n  \"name\": \"df\",\n  \"rows\": 23809,\n  \"fields\": [\n    {\n      \"column\": \"O3\",\n      \"properties\": {\n        \"dtype\": \"number\",\n        \"std\": 29.55113576096343,\n        \"min\": 3.0,\n        \"max\": 210.0,\n        \"num_unique_values\": 478,\n        \"samples\": [\n          70.28571429,\n          79.0,\n          77.0\n        ],\n        \"semantic_type\": \"\",\n        \"description\": \"\"\n      }\n    },\n    {\n      \"column\": \"TMP\",\n      \"properties\": {\n        \"dtype\": \"number\",\n        \"std\": 4.968508496049189,\n        \"min\": 6.6,\n        \"max\": 35.3,\n        \"num_unique_values\": 1153,\n        \"samples\": [\n          22.01428571,\n          11.02857143,\n          25.81428571\n        ],\n        \"semantic_type\": \"\",\n        \"description\": \"\"\n      }\n    },\n    {\n      \"column\": \"RH\",\n      \"properties\": {\n        \"dtype\": \"number\",\n        \"std\": 21.65810181455652,\n        \"min\": 5.0,\n        \"max\": 100.0,\n        \"num_unique_values\": 433,\n        \"samples\": [\n          86.85714286,\n          75.0,\n          80.85714286\n        ],\n        \"semantic_type\": \"\",\n        \"description\": \"\"\n      }\n    },\n    {\n      \"column\": \"1/RH\",\n      \"properties\": {\n        \"dtype\": \"number\",\n        \"std\": 0.010002725743243186,\n        \"min\": 0.01,\n        \"max\": 0.2,\n        \"num_unique_values\": 433,\n        \"samples\": [\n          0.011513158,\n          0.013333333,\n          0.012367491\n        ],\n        \"semantic_type\": \"\",\n        \"description\": \"\"\n      }\n    },\n    {\n      \"column\": \"WSP\",\n      \"properties\": {\n        \"dtype\": \"number\",\n        \"std\": 1.430145682233255,\n        \"min\": 0.928571429,\n        \"max\": 10.1,\n        \"num_unique_values\": 365,\n        \"samples\": [\n          5.314285714,\n          1.5,\n          4.2\n        ],\n        \"semantic_type\": \"\",\n        \"description\": \"\"\n      }\n    },\n    {\n      \"column\": \"WDR\",\n      \"properties\": {\n        \"dtype\": \"number\",\n        \"std\": 34.641026552118696,\n        \"min\": 65.0,\n        \"max\": 360.0,\n        \"num_unique_values\": 378,\n        \"samples\": [\n          334.8571429,\n          200.1428571,\n          295.7142857\n        ],\n        \"semantic_type\": \"\",\n        \"description\": \"\"\n      }\n    },\n    {\n      \"column\": \"class\",\n      \"properties\": {\n        \"dtype\": \"number\",\n        \"std\": 0,\n        \"min\": 0,\n        \"max\": 1,\n        \"num_unique_values\": 2,\n        \"samples\": [\n          0,\n          1\n        ],\n        \"semantic_type\": \"\",\n        \"description\": \"\"\n      }\n    }\n  ]\n}"
            }
          },
          "metadata": {},
          "execution_count": 6
        }
      ],
      "source": [
        "#Read CSV\n",
        "df = pd.read_csv(\"sample_data/dataset_train.csv\")\n",
        "df.head(2)"
      ]
    },
    {
      "cell_type": "markdown",
      "metadata": {
        "id": "DhxozFTY2ucv"
      },
      "source": [
        "### Balanceo de la clase"
      ]
    },
    {
      "cell_type": "code",
      "execution_count": 7,
      "metadata": {
        "id": "koJSDuLS2ucv"
      },
      "outputs": [],
      "source": [
        "#X_train = df.iloc[: , :-1]\n",
        "#Y_train = df.iloc[:,-1]\n",
        "#under = RandomUnderSampler(sampling_strategy=0.3) # Quita muestras del mayoritario\n",
        "#over = SMOTE(sampling_strategy=0.15) # Genera muestras sinteticas del minoritario\n",
        "\n",
        "# Por si se cambia primero hacer el under y luego el over se cambian las lineas 6 y 7.\n",
        "#X30, Y30 = under.fit_resample(X_train, Y_train) # XGB_zT    X_train\n",
        "#X40, Y40 = under.fit_resample(X30, Y30)\n",
        "#df = pd.concat([X30, Y30], axis=1).reset_index(drop=True)\n",
        "#df.shape"
      ]
    },
    {
      "cell_type": "markdown",
      "metadata": {
        "id": "ryE7Pfmb2ucw"
      },
      "source": [
        "---\n",
        "<a id=\"section33\"></a>\n",
        "# <font color=\"#004D7F\" size=5> 3.3. Generate images</font>"
      ]
    },
    {
      "cell_type": "markdown",
      "metadata": {
        "id": "b9pMKM962ucw"
      },
      "source": [
        "Now we can generate the images with the `generateImages()` generic function. Likewise, we create a dataset that will have the path of each of the samples with the corresponding image created for it.\n",
        "\n",
        "Note that each image is created based on a row, therefore, each numerical sample of the dataset will correspond to a particular image. In other words, we will have the same number of images as samples/rows."
      ]
    },
    {
      "cell_type": "code",
      "execution_count": 8,
      "metadata": {
        "colab": {
          "base_uri": "https://localhost:8080/",
          "height": 52
        },
        "id": "CDFrAk032ucw",
        "outputId": "64b5967d-3bc3-4b09-872b-f0bf210da7b9"
      },
      "outputs": [
        {
          "output_type": "stream",
          "name": "stdout",
          "text": [
            "IGTD/supervised.csv\n"
          ]
        },
        {
          "output_type": "display_data",
          "data": {
            "text/plain": [
              "<Figure size 12x12 with 1 Axes>"
            ],
            "image/png": "[encoded data removed]"
          },
          "metadata": {}
        }
      ],
      "source": [
        "import os\n",
        "\n",
        "# Generate the images if the folder does not exist\n",
        "if not os.path.exists(images_folder):\n",
        "    #Generate thet images\n",
        "    image_model.generateImages(df, images_folder)\n",
        "else:\n",
        "    print(\"The images are already generated\")\n",
        "\n",
        "img_paths = os.path.join(images_folder,problem_type+\".csv\")\n",
        "\n",
        "print(img_paths)"
      ]
    },
    {
      "cell_type": "markdown",
      "metadata": {
        "id": "Nzhq8kKQ2ucw"
      },
      "source": [
        "---\n",
        "<a id=\"section34\"></a>\n",
        "# <font color=\"#004D7F\" size=5> 3.4. Read Images</font>"
      ]
    },
    {
      "cell_type": "markdown",
      "metadata": {
        "id": "zmYmVzzM2ucw"
      },
      "source": [
        "Now, we read the created images"
      ]
    },
    {
      "cell_type": "code",
      "execution_count": 9,
      "metadata": {
        "id": "UCYrvXeP2ucw"
      },
      "outputs": [],
      "source": [
        "imgs = pd.read_csv(img_paths)\n",
        "\n",
        "#imgs[\"images\"]= images_folder + \"\\\\\" + imgs[\"images\"]\n",
        "imgs[\"images\"]= images_folder + \"/\" + imgs[\"images\"]"
      ]
    },
    {
      "cell_type": "markdown",
      "metadata": {
        "id": "HOJFjMq82ucw"
      },
      "source": [
        "---\n",
        "<a id=\"section35\"></a>\n",
        "# <font color=\"#004D7F\" size=5> 3.5. Mix images and tidy data</font>"
      ]
    },
    {
      "cell_type": "markdown",
      "metadata": {
        "id": "XCOTHfoG2ucw"
      },
      "source": [
        "Since we are going to use hybrid networks, i.e. create a model in which we join a CNN for the images and a MLP for the tabular data, we are going to join it in order to integrate all the data in our hybrid model.\n"
      ]
    },
    {
      "cell_type": "code",
      "execution_count": 10,
      "metadata": {
        "colab": {
          "base_uri": "https://localhost:8080/",
          "height": 112
        },
        "id": "uS5y2aDe2ucw",
        "outputId": "f4e2f249-05c9-448b-f610-5e7e4e607858"
      },
      "outputs": [
        {
          "output_type": "execute_result",
          "data": {
            "text/plain": [
              "         O3       TMP        RH      1/RH       WSP       WDR  class\n",
              "0  0.772947  0.752613  0.126316  0.256966  0.247664  0.952542      1\n",
              "1  0.806763  0.777003  0.189474  0.176201  0.269470  0.983051      1"
            ],
            "text/html": [
              "\n",
              "  <div id=\"df-4f97e6b7-79d9-434f-adaa-3eb0c6ed615e\" class=\"colab-df-container\">\n",
              "    <div>\n",
              "<style scoped>\n",
              "    .dataframe tbody tr th:only-of-type {\n",
              "        vertical-align: middle;\n",
              "    }\n",
              "\n",
              "    .dataframe tbody tr th {\n",
              "        vertical-align: top;\n",
              "    }\n",
              "\n",
              "    .dataframe thead th {\n",
              "        text-align: right;\n",
              "    }\n",
              "</style>\n",
              "<table border=\"1\" class=\"dataframe\">\n",
              "  <thead>\n",
              "    <tr style=\"text-align: right;\">\n",
              "      <th></th>\n",
              "      <th>O3</th>\n",
              "      <th>TMP</th>\n",
              "      <th>RH</th>\n",
              "      <th>1/RH</th>\n",
              "      <th>WSP</th>\n",
              "      <th>WDR</th>\n",
              "      <th>class</th>\n",
              "    </tr>\n",
              "  </thead>\n",
              "  <tbody>\n",
              "    <tr>\n",
              "      <th>0</th>\n",
              "      <td>0.772947</td>\n",
              "      <td>0.752613</td>\n",
              "      <td>0.126316</td>\n",
              "      <td>0.256966</td>\n",
              "      <td>0.247664</td>\n",
              "      <td>0.952542</td>\n",
              "      <td>1</td>\n",
              "    </tr>\n",
              "    <tr>\n",
              "      <th>1</th>\n",
              "      <td>0.806763</td>\n",
              "      <td>0.777003</td>\n",
              "      <td>0.189474</td>\n",
              "      <td>0.176201</td>\n",
              "      <td>0.269470</td>\n",
              "      <td>0.983051</td>\n",
              "      <td>1</td>\n",
              "    </tr>\n",
              "  </tbody>\n",
              "</table>\n",
              "</div>\n",
              "    <div class=\"colab-df-buttons\">\n",
              "\n",
              "  <div class=\"colab-df-container\">\n",
              "    <button class=\"colab-df-convert\" onclick=\"convertToInteractive('df-4f97e6b7-79d9-434f-adaa-3eb0c6ed615e')\"\n",
              "            title=\"Convert this dataframe to an interactive table.\"\n",
              "            style=\"display:none;\">\n",
              "\n",
              "  <svg xmlns=\"http://www.w3.org/2000/svg\" height=\"24px\" viewBox=\"0 -960 960 960\">\n",
              "    <path d=\"M120-120v-720h720v720H120Zm60-500h600v-160H180v160Zm220 220h160v-160H400v160Zm0 220h160v-160H400v160ZM180-400h160v-160H180v160Zm440 0h160v-160H620v160ZM180-180h160v-160H180v160Zm440 0h160v-160H620v160Z\"/>\n",
              "  </svg>\n",
              "    </button>\n",
              "\n",
              "  <style>\n",
              "    .colab-df-container {\n",
              "      display:flex;\n",
              "      gap: 12px;\n",
              "    }\n",
              "\n",
              "    .colab-df-convert {\n",
              "      background-color: #E8F0FE;\n",
              "      border: none;\n",
              "      border-radius: 50%;\n",
              "      cursor: pointer;\n",
              "      display: none;\n",
              "      fill: #1967D2;\n",
              "      height: 32px;\n",
              "      padding: 0 0 0 0;\n",
              "      width: 32px;\n",
              "    }\n",
              "\n",
              "    .colab-df-convert:hover {\n",
              "      background-color: #E2EBFA;\n",
              "      box-shadow: 0px 1px 2px rgba(60, 64, 67, 0.3), 0px 1px 3px 1px rgba(60, 64, 67, 0.15);\n",
              "      fill: #174EA6;\n",
              "    }\n",
              "\n",
              "    .colab-df-buttons div {\n",
              "      margin-bottom: 4px;\n",
              "    }\n",
              "\n",
              "    [theme=dark] .colab-df-convert {\n",
              "      background-color: #3B4455;\n",
              "      fill: #D2E3FC;\n",
              "    }\n",
              "\n",
              "    [theme=dark] .colab-df-convert:hover {\n",
              "      background-color: #434B5C;\n",
              "      box-shadow: 0px 1px 3px 1px rgba(0, 0, 0, 0.15);\n",
              "      filter: drop-shadow(0px 1px 2px rgba(0, 0, 0, 0.3));\n",
              "      fill: #FFFFFF;\n",
              "    }\n",
              "  </style>\n",
              "\n",
              "    <script>\n",
              "      const buttonEl =\n",
              "        document.querySelector('#df-4f97e6b7-79d9-434f-adaa-3eb0c6ed615e button.colab-df-convert');\n",
              "      buttonEl.style.display =\n",
              "        google.colab.kernel.accessAllowed ? 'block' : 'none';\n",
              "\n",
              "      async function convertToInteractive(key) {\n",
              "        const element = document.querySelector('#df-4f97e6b7-79d9-434f-adaa-3eb0c6ed615e');\n",
              "        const dataTable =\n",
              "          await google.colab.kernel.invokeFunction('convertToInteractive',\n",
              "                                                    [key], {});\n",
              "        if (!dataTable) return;\n",
              "\n",
              "        const docLinkHtml = 'Like what you see? Visit the ' +\n",
              "          '<a target=\"_blank\" href=https://colab.research.google.com/notebooks/data_table.ipynb>data table notebook</a>'\n",
              "          + ' to learn more about interactive tables.';\n",
              "        element.innerHTML = '';\n",
              "        dataTable['output_type'] = 'display_data';\n",
              "        await google.colab.output.renderOutput(dataTable, element);\n",
              "        const docLink = document.createElement('div');\n",
              "        docLink.innerHTML = docLinkHtml;\n",
              "        element.appendChild(docLink);\n",
              "      }\n",
              "    </script>\n",
              "  </div>\n",
              "\n",
              "\n",
              "<div id=\"df-acc4d4e5-85b2-44a1-b9f4-f3ac53dcd4b8\">\n",
              "  <button class=\"colab-df-quickchart\" onclick=\"quickchart('df-acc4d4e5-85b2-44a1-b9f4-f3ac53dcd4b8')\"\n",
              "            title=\"Suggest charts\"\n",
              "            style=\"display:none;\">\n",
              "\n",
              "<svg xmlns=\"http://www.w3.org/2000/svg\" height=\"24px\"viewBox=\"0 0 24 24\"\n",
              "     width=\"24px\">\n",
              "    <g>\n",
              "        <path d=\"M19 3H5c-1.1 0-2 .9-2 2v14c0 1.1.9 2 2 2h14c1.1 0 2-.9 2-2V5c0-1.1-.9-2-2-2zM9 17H7v-7h2v7zm4 0h-2V7h2v10zm4 0h-2v-4h2v4z\"/>\n",
              "    </g>\n",
              "</svg>\n",
              "  </button>\n",
              "\n",
              "<style>\n",
              "  .colab-df-quickchart {\n",
              "      --bg-color: #E8F0FE;\n",
              "      --fill-color: #1967D2;\n",
              "      --hover-bg-color: #E2EBFA;\n",
              "      --hover-fill-color: #174EA6;\n",
              "      --disabled-fill-color: #AAA;\n",
              "      --disabled-bg-color: #DDD;\n",
              "  }\n",
              "\n",
              "  [theme=dark] .colab-df-quickchart {\n",
              "      --bg-color: #3B4455;\n",
              "      --fill-color: #D2E3FC;\n",
              "      --hover-bg-color: #434B5C;\n",
              "      --hover-fill-color: #FFFFFF;\n",
              "      --disabled-bg-color: #3B4455;\n",
              "      --disabled-fill-color: #666;\n",
              "  }\n",
              "\n",
              "  .colab-df-quickchart {\n",
              "    background-color: var(--bg-color);\n",
              "    border: none;\n",
              "    border-radius: 50%;\n",
              "    cursor: pointer;\n",
              "    display: none;\n",
              "    fill: var(--fill-color);\n",
              "    height: 32px;\n",
              "    padding: 0;\n",
              "    width: 32px;\n",
              "  }\n",
              "\n",
              "  .colab-df-quickchart:hover {\n",
              "    background-color: var(--hover-bg-color);\n",
              "    box-shadow: 0 1px 2px rgba(60, 64, 67, 0.3), 0 1px 3px 1px rgba(60, 64, 67, 0.15);\n",
              "    fill: var(--button-hover-fill-color);\n",
              "  }\n",
              "\n",
              "  .colab-df-quickchart-complete:disabled,\n",
              "  .colab-df-quickchart-complete:disabled:hover {\n",
              "    background-color: var(--disabled-bg-color);\n",
              "    fill: var(--disabled-fill-color);\n",
              "    box-shadow: none;\n",
              "  }\n",
              "\n",
              "  .colab-df-spinner {\n",
              "    border: 2px solid var(--fill-color);\n",
              "    border-color: transparent;\n",
              "    border-bottom-color: var(--fill-color);\n",
              "    animation:\n",
              "      spin 1s steps(1) infinite;\n",
              "  }\n",
              "\n",
              "  @keyframes spin {\n",
              "    0% {\n",
              "      border-color: transparent;\n",
              "      border-bottom-color: var(--fill-color);\n",
              "      border-left-color: var(--fill-color);\n",
              "    }\n",
              "    20% {\n",
              "      border-color: transparent;\n",
              "      border-left-color: var(--fill-color);\n",
              "      border-top-color: var(--fill-color);\n",
              "    }\n",
              "    30% {\n",
              "      border-color: transparent;\n",
              "      border-left-color: var(--fill-color);\n",
              "      border-top-color: var(--fill-color);\n",
              "      border-right-color: var(--fill-color);\n",
              "    }\n",
              "    40% {\n",
              "      border-color: transparent;\n",
              "      border-right-color: var(--fill-color);\n",
              "      border-top-color: var(--fill-color);\n",
              "    }\n",
              "    60% {\n",
              "      border-color: transparent;\n",
              "      border-right-color: var(--fill-color);\n",
              "    }\n",
              "    80% {\n",
              "      border-color: transparent;\n",
              "      border-right-color: var(--fill-color);\n",
              "      border-bottom-color: var(--fill-color);\n",
              "    }\n",
              "    90% {\n",
              "      border-color: transparent;\n",
              "      border-bottom-color: var(--fill-color);\n",
              "    }\n",
              "  }\n",
              "</style>\n",
              "\n",
              "  <script>\n",
              "    async function quickchart(key) {\n",
              "      const quickchartButtonEl =\n",
              "        document.querySelector('#' + key + ' button');\n",
              "      quickchartButtonEl.disabled = true;  // To prevent multiple clicks.\n",
              "      quickchartButtonEl.classList.add('colab-df-spinner');\n",
              "      try {\n",
              "        const charts = await google.colab.kernel.invokeFunction(\n",
              "            'suggestCharts', [key], {});\n",
              "      } catch (error) {\n",
              "        console.error('Error during call to suggestCharts:', error);\n",
              "      }\n",
              "      quickchartButtonEl.classList.remove('colab-df-spinner');\n",
              "      quickchartButtonEl.classList.add('colab-df-quickchart-complete');\n",
              "    }\n",
              "    (() => {\n",
              "      let quickchartButtonEl =\n",
              "        document.querySelector('#df-acc4d4e5-85b2-44a1-b9f4-f3ac53dcd4b8 button');\n",
              "      quickchartButtonEl.style.display =\n",
              "        google.colab.kernel.accessAllowed ? 'block' : 'none';\n",
              "    })();\n",
              "  </script>\n",
              "</div>\n",
              "\n",
              "    </div>\n",
              "  </div>\n"
            ],
            "application/vnd.google.colaboratory.intrinsic+json": {
              "type": "dataframe",
              "variable_name": "df_normalized",
              "summary": "{\n  \"name\": \"df_normalized\",\n  \"rows\": 23809,\n  \"fields\": [\n    {\n      \"column\": \"O3\",\n      \"properties\": {\n        \"dtype\": \"number\",\n        \"std\": 0.1427591099563472,\n        \"min\": 0.0,\n        \"max\": 1.0,\n        \"num_unique_values\": 478,\n        \"samples\": [\n          0.32505175985507245,\n          0.3671497584541063,\n          0.357487922705314\n        ],\n        \"semantic_type\": \"\",\n        \"description\": \"\"\n      }\n    },\n    {\n      \"column\": \"TMP\",\n      \"properties\": {\n        \"dtype\": \"number\",\n        \"std\": 0.17311876292854386,\n        \"min\": 0.0,\n        \"max\": 1.0,\n        \"num_unique_values\": 1153,\n        \"samples\": [\n          0.5370831257839722,\n          0.15430562473867598,\n          0.6694873069686411\n        ],\n        \"semantic_type\": \"\",\n        \"description\": \"\"\n      }\n    },\n    {\n      \"column\": \"RH\",\n      \"properties\": {\n        \"dtype\": \"number\",\n        \"std\": 0.22798001910059115,\n        \"min\": 0.0,\n        \"max\": 1.0,\n        \"num_unique_values\": 433,\n        \"samples\": [\n          0.8616541353684211,\n          0.7368421052631579,\n          0.7984962406315789\n        ],\n        \"semantic_type\": \"\",\n        \"description\": \"\"\n      }\n    },\n    {\n      \"column\": \"1/RH\",\n      \"properties\": {\n        \"dtype\": \"number\",\n        \"std\": 0.05264592496443704,\n        \"min\": 0.0,\n        \"max\": 1.0,\n        \"num_unique_values\": 433,\n        \"samples\": [\n          0.007963989473684213,\n          0.017543857894736836,\n          0.012460478947368417\n        ],\n        \"semantic_type\": \"\",\n        \"description\": \"\"\n      }\n    },\n    {\n      \"column\": \"WSP\",\n      \"properties\": {\n        \"dtype\": \"number\",\n        \"std\": 0.1559348874782059,\n        \"min\": 0.0,\n        \"max\": 1.0,\n        \"num_unique_values\": 365,\n        \"samples\": [\n          0.4781931463619094,\n          0.06230529590633825,\n          0.35669781928458094\n        ],\n        \"semantic_type\": \"\",\n        \"description\": \"\"\n      }\n    },\n    {\n      \"column\": \"WDR\",\n      \"properties\": {\n        \"dtype\": \"number\",\n        \"std\": 0.11742720865124916,\n        \"min\": 0.0,\n        \"max\": 1.0,\n        \"num_unique_values\": 378,\n        \"samples\": [\n          0.9147699759322033,\n          0.45811137999999996,\n          0.7820823244067797\n        ],\n        \"semantic_type\": \"\",\n        \"description\": \"\"\n      }\n    },\n    {\n      \"column\": \"class\",\n      \"properties\": {\n        \"dtype\": \"number\",\n        \"std\": 0,\n        \"min\": 0,\n        \"max\": 1,\n        \"num_unique_values\": 2,\n        \"samples\": [\n          0,\n          1\n        ],\n        \"semantic_type\": \"\",\n        \"description\": \"\"\n      }\n    }\n  ]\n}"
            }
          },
          "metadata": {},
          "execution_count": 10
        }
      ],
      "source": [
        "# Select all the attributes to normalize\n",
        "columns_to_normalize = df.columns[:-1]\n",
        "\n",
        "# Normalize between 0 and 1\n",
        "df_normalized = (df[columns_to_normalize] - df[columns_to_normalize].min()) / (df[columns_to_normalize].max() - df[columns_to_normalize].min())\n",
        "\n",
        "# Combine the attributes and the label\n",
        "df_normalized = pd.concat([df_normalized, df[df.columns[-1]]], axis=1)\n",
        "\n",
        "df_normalized.head(2)"
      ]
    },
    {
      "cell_type": "markdown",
      "metadata": {
        "id": "LQOPjhwg2ucx"
      },
      "source": [
        "Combine the images and tidy data in the same dataframe, split attributes and objective value"
      ]
    },
    {
      "cell_type": "code",
      "execution_count": 11,
      "metadata": {
        "colab": {
          "base_uri": "https://localhost:8080/"
        },
        "id": "2TckL1EH2ucx",
        "outputId": "90c85f1d-57d5-438c-9490-ab1dd19389af"
      },
      "outputs": [
        {
          "output_type": "stream",
          "name": "stdout",
          "text": [
            "0        1\n",
            "1        1\n",
            "2        1\n",
            "3        1\n",
            "4        1\n",
            "        ..\n",
            "23804    0\n",
            "23805    0\n",
            "23806    0\n",
            "23807    0\n",
            "23808    0\n",
            "Name: class, Length: 23809, dtype: int64\n"
          ]
        }
      ],
      "source": [
        "combined_dataset = pd.concat([imgs,df_normalized[columns_to_normalize]],axis=1)\n",
        "\n",
        "df_x = combined_dataset.drop(\"class\",axis=1)\n",
        "df_y = combined_dataset[\"class\"]\n",
        "\n",
        "print(df_y)"
      ]
    },
    {
      "cell_type": "markdown",
      "metadata": {
        "id": "kdHdoIWw2ucx"
      },
      "source": [
        "---\n",
        "<a id=\"section36\"></a>\n",
        "# <font color=\"#004D7F\" size=5> 3.6. Label encoding</font>"
      ]
    },
    {
      "cell_type": "markdown",
      "metadata": {
        "id": "pVYaT9S42ucx"
      },
      "source": [
        "\n",
        "In this section, we delve into label encoding, a crucial preprocessing step for preparing categorical labels for use in machine learning models. Specifically for binary classification tasks, label encoding involves transforming categorical labels into a binary format, represented by the integers 0 and 1."
      ]
    },
    {
      "cell_type": "code",
      "execution_count": null,
      "metadata": {
        "id": "fMBEwe1j2ucx"
      },
      "outputs": [],
      "source": [
        "#from sklearn.preprocessing import LabelEncoder\n",
        "#encoder = LabelEncoder()\n",
        "#df_y = encoder.fit_transform(df_y)"
      ]
    },
    {
      "cell_type": "markdown",
      "metadata": {
        "id": "_haEKIo7jpD1"
      },
      "source": [
        "---\n",
        "<div style=\"text-align: right\"> <font size=5> <a href=\"#indice\"><i class=\"fa fa-arrow-circle-up\" aria-hidden=\"true\" style=\"color:#004D7F\"></i></a></font></div>\n",
        "\n",
        "---"
      ]
    },
    {
      "cell_type": "markdown",
      "metadata": {
        "id": "uF1lJWbojpD3"
      },
      "source": [
        "<a id=\"section4\"></a>\n",
        "# <font color=\"#004D7F\" size=6> 4. Pre-modelling phase</font>"
      ]
    },
    {
      "cell_type": "code",
      "execution_count": 12,
      "metadata": {
        "id": "XGToIfEX2ucx"
      },
      "outputs": [],
      "source": [
        "# Depends on the method yo may have to change the value of pixel variable\n",
        "pixel=12"
      ]
    },
    {
      "cell_type": "code",
      "execution_count": 13,
      "metadata": {
        "colab": {
          "base_uri": "https://localhost:8080/"
        },
        "id": "YwAIDydz2ucx",
        "outputId": "ea0fb101-6c37-48df-8df1-71f82dced391"
      },
      "outputs": [
        {
          "output_type": "stream",
          "name": "stdout",
          "text": [
            "Images shape:  (12, 12)\n",
            "Attributres:  6\n",
            "Image size (pixels): 12\n"
          ]
        }
      ],
      "source": [
        "import cv2\n",
        "X_train, X_val, y_train, y_val = train_test_split(df_x, df_y, test_size = 0.30, random_state = SEED,stratify=df_y)\n",
        "X_val, X_test, y_val, y_test = train_test_split(X_val, y_val, test_size = 0.50, random_state = SEED,stratify=y_val)\n",
        "\n",
        "#TIDY DATA SPLITTED\n",
        "X_train_num = X_train.drop(\"images\",axis=1)\n",
        "X_val_num = X_val.drop(\"images\",axis=1)\n",
        "X_test_num = X_test.drop(\"images\",axis=1)\n",
        "\n",
        "#IMAGES\n",
        "# For 3 canal (RGB)\n",
        "\"\"\"X_train_img = np.array([cv2.resize(cv2.imread(img),(pixel,pixel)) for img in X_train[\"images\"]])\n",
        "X_val_img = np.array([cv2.resize(cv2.imread(img),(pixel,pixel)) for img in X_val[\"images\"]])\n",
        "X_test_img = np.array([cv2.resize(cv2.imread(img),(pixel,pixel)) for img in X_test[\"images\"]])\"\"\"\n",
        "\n",
        "# For 1 canal (GRAY SCALE)\n",
        "X_train_img = np.array([cv2.imread(img,cv2.IMREAD_GRAYSCALE) for img in X_train[\"images\"]])\n",
        "X_val_img = np.array([cv2.imread(img,cv2.IMREAD_GRAYSCALE) for img in X_val[\"images\"]])\n",
        "X_test_img = np.array([cv2.imread(img,cv2.IMREAD_GRAYSCALE) for img in X_test[\"images\"]])\n",
        "\n",
        "attributes = len(X_train_num.columns)\n",
        "imgs_shape = X_train_img[0].shape\n",
        "\n",
        "print(\"Images shape: \",imgs_shape)\n",
        "print(\"Attributres: \",attributes)\n",
        "pixel=X_train_img[0].shape[0]\n",
        "print(\"Image size (pixels):\", pixel)"
      ]
    },
    {
      "cell_type": "code",
      "execution_count": 14,
      "metadata": {
        "id": "APAwzZnq2ucy"
      },
      "outputs": [],
      "source": [
        "X_train_img = X_train_img/255\n",
        "X_val_img = X_val_img/255\n",
        "X_test_img = X_test_img/255"
      ]
    },
    {
      "cell_type": "markdown",
      "metadata": {
        "id": "QLpv-O5W2ucy"
      },
      "source": [
        "<a id=\"section5\"></a>\n",
        "# <font color=\"#004D7F\" size=6> 5. Modeling hybrid network</font>"
      ]
    },
    {
      "cell_type": "markdown",
      "metadata": {
        "id": "UkoIUgpl2ucz"
      },
      "source": [
        "Now we can start the CNN+MLP training. Before that we prepare the algorithm for reading data.\n",
        "\n",
        "In this example, 2 branch networks is created\n",
        "- 1º branch: FFNN for tabular data\n",
        "- 2º branch: CNN for TINTOlib images"
      ]
    },
    {
      "cell_type": "markdown",
      "metadata": {
        "id": "75LlFrZv2ucz"
      },
      "source": [
        "---\n",
        "<a id=\"section51\"></a>\n",
        "# <font color=\"#004D7F\" size=5> 5.1. FFNN for tabular data</font>\n",
        "\n",
        "This is an example of a simple FFNN for tabular data. Note that we are not looking for the optimization of the CNN but to show an example of TINTOlib execution."
      ]
    },
    {
      "cell_type": "code",
      "execution_count": 15,
      "metadata": {
        "id": "beprbMD52ucz"
      },
      "outputs": [],
      "source": [
        "dropout = 0.2"
      ]
    },
    {
      "cell_type": "code",
      "execution_count": 16,
      "metadata": {
        "colab": {
          "base_uri": "https://localhost:8080/",
          "height": 70
        },
        "id": "JersgXi52ucz",
        "outputId": "59d43a43-0d87-4954-b92a-e28ff1ce9b33"
      },
      "outputs": [
        {
          "output_type": "execute_result",
          "data": {
            "text/plain": [
              "\"### Fusion ponderada ajustable\\n# Inicializar pesos como capas entrenables\\nalpha = Dense(1, activation='sigmoid', use_bias=False)(tf.ones((1, 1)))\\nbeta = Dense(1, activation='sigmoid', use_bias=False)(tf.ones((1, 1)))\\nmerged_tabular = Add()([Multiply()([mlp_1, alpha]), Multiply()([mlp_2, beta])])\\nff_model = Model(ff_inputs, merged_tabular)\""
            ],
            "application/vnd.google.colaboratory.intrinsic+json": {
              "type": "string"
            }
          },
          "metadata": {},
          "execution_count": 16
        }
      ],
      "source": [
        "filters_ffnn = [1024,512,256,128,64,32,16]\n",
        "\n",
        "ff_inputs = Input(shape = (attributes,))\n",
        "\n",
        "# * START BRANCH 1\n",
        "#mlp_1 = Dense(1024, activation='relu')(ff_inputs)\n",
        "#mlp_1 = BatchNormalization()(mlp_1)\n",
        "#mlp_1 = Dropout(dropout)(mlp_1)\n",
        "\n",
        "#mlp_1 = Dense(512, activation='relu')(ff_inputs)\n",
        "#mlp_1 = BatchNormalization()(mlp_1)\n",
        "#mlp_1 = Dropout(dropout)(mlp_1)\n",
        "\n",
        "#mlp_1 = Dense(256, activation='relu')(ff_inputs)\n",
        "#mlp_1 = BatchNormalization()(mlp_1)\n",
        "#mlp_1 = Dropout(dropout)(mlp_1)\n",
        "\n",
        "mlp_1 = Dense(128, activation='relu')(ff_inputs)\n",
        "mlp_1 = BatchNormalization()(mlp_1)\n",
        "mlp_1 = Dropout(dropout)(mlp_1)\n",
        "\n",
        "mlp_1 = Dense(64, activation='relu')(mlp_1)\n",
        "mlp_1 = BatchNormalization()(mlp_1)\n",
        "mlp_1 = Dropout(dropout)(mlp_1)\n",
        "\n",
        "mlp_1 = Dense(32, activation='relu')(mlp_1)\n",
        "mlp_1 = BatchNormalization()(mlp_1)\n",
        "mlp_1 = Dropout(dropout)(mlp_1)\n",
        "\n",
        "mlp_1 = Dense(16, activation='relu')(mlp_1)\n",
        "mlp_1 = BatchNormalization()(mlp_1)\n",
        "mlp_1 = Dropout(dropout)(mlp_1)\n",
        "\n",
        "# * START BRANCH\n",
        "#mlp_2 = Dense(1024, activation='relu')(ff_inputs)\n",
        "#mlp_2 = BatchNormalization()(mlp_2)\n",
        "#mlp_2 = Dropout(dropout)(mlp_2)\n",
        "\n",
        "#mlp_2 = Dense(512, activation='relu')(ff_inputs)\n",
        "#mlp_2 = BatchNormalization()(mlp_2)\n",
        "#mlp_2 = Dropout(dropout)(mlp_2)\n",
        "\n",
        "#mlp_2 = Dense(256, activation='relu')(ff_inputs)\n",
        "#mlp_2 = BatchNormalization()(mlp_2)\n",
        "#mlp_2 = Dropout(dropout)(mlp_2)\n",
        "\n",
        "mlp_2 = Dense(128, activation='relu')(ff_inputs)\n",
        "mlp_2 = BatchNormalization()(mlp_2)\n",
        "mlp_2 = Dropout(dropout)(mlp_2)\n",
        "\n",
        "mlp_2 = Dense(64, activation='relu')(mlp_2)\n",
        "mlp_2 = BatchNormalization()(mlp_2)\n",
        "mlp_2 = Dropout(dropout)(mlp_2)\n",
        "\n",
        "mlp_2 = Dense(32, activation='relu')(mlp_2)\n",
        "mlp_2 = BatchNormalization()(mlp_2)\n",
        "mlp_2 = Dropout(dropout)(mlp_2)\n",
        "\n",
        "mlp_2 = Dense(16, activation='relu')(mlp_2)\n",
        "mlp_2 = BatchNormalization()(mlp_2)\n",
        "mlp_2 = Dropout(dropout)(mlp_2)\n",
        "\n",
        "### Fusión por concatenación directa###\n",
        "merged_tabular = Concatenate(axis=1)([mlp_1, mlp_2])\n",
        "ff_model = Model(inputs = ff_inputs, outputs = merged_tabular)\n",
        "\n",
        "\"\"\"### Fusion ponderada ajustable\n",
        "# Inicializar pesos como capas entrenables\n",
        "alpha = Dense(1, activation='sigmoid', use_bias=False)(tf.ones((1, 1)))\n",
        "beta = Dense(1, activation='sigmoid', use_bias=False)(tf.ones((1, 1)))\n",
        "merged_tabular = Add()([Multiply()([mlp_1, alpha]), Multiply()([mlp_2, beta])])\n",
        "ff_model = Model(ff_inputs, merged_tabular)\"\"\"\n"
      ]
    },
    {
      "cell_type": "markdown",
      "metadata": {
        "id": "n-DbW5pg2ucz"
      },
      "source": [
        "---\n",
        "<a id=\"section52\"></a>\n",
        "# <font color=\"#004D7F\" size=5> 5.2. CNN for TINTOlib images</font>\n",
        "\n",
        "This is an example of a simple CNN for TINTOlib images. Note that we are not looking for the optimization of the CNN but to show an example of TINTOlib execution."
      ]
    },
    {
      "cell_type": "code",
      "execution_count": 17,
      "metadata": {
        "id": "cOcuJeDz2ucz"
      },
      "outputs": [],
      "source": [
        "#Input\n",
        "#input_shape = Input(shape=imgs_shape)\n",
        "input_shape = Input(shape=(pixel, pixel, 1))\n",
        "\n",
        "#Inicio de rama 1\n",
        "tower_1 = Conv2D(16, (3,3), activation='relu',padding=\"same\")(input_shape)\n",
        "tower_1 = BatchNormalization()(tower_1)\n",
        "#tower_1 = Activation('relu')(tower_1)\n",
        "tower_1 = MaxPooling2D(2,2)(tower_1)\n",
        "tower_1 = Dropout(dropout)(tower_1)\n",
        "\n",
        "tower_1 = Conv2D(32, (3,3), activation='relu',padding=\"same\")(tower_1)\n",
        "tower_1 = BatchNormalization()(tower_1)\n",
        "#tower_1 = Activation('relu')(tower_1)\n",
        "tower_1 = MaxPooling2D(2,2)(tower_1)\n",
        "tower_1 = Dropout(dropout)(tower_1)\n",
        "\n",
        "#tower_1 = Conv2D(64, (3,3), activation='relu',padding=\"same\")(tower_1)\n",
        "#tower_1 = BatchNormalization()(tower_1)\n",
        "#tower_1 = Activation('relu')(tower_1)\n",
        "#tower_1 = MaxPooling2D(2,2)(tower_1)\n",
        "#tower_1 = Dropout(dropout)(tower_1)\n",
        "\n",
        "#tower_1 = Conv2D(64, (3,3), activation='relu',padding=\"same\")(tower_1)\n",
        "#tower_1 = BatchNormalization()(tower_1)\n",
        "#tower_1 = Activation('relu')(tower_1)\n",
        "#tower_1 = MaxPooling2D(2,2)(tower_1)\n",
        "#tower_1 = Dropout(dropout)(tower_1)\n",
        "#Fin de rama 1\n",
        "\n",
        "#Inicio de rama 2\n",
        "tower_2 = Conv2D(16, (5,5), activation='relu',padding=\"same\")(input_shape)\n",
        "tower_2 = BatchNormalization()(tower_2)\n",
        "#tower_2 = Activation('relu')(tower_2)\n",
        "tower_2 = AveragePooling2D(2,2)(tower_2)\n",
        "tower_2 = Dropout(dropout)(tower_2)\n",
        "\n",
        "tower_2 = Conv2D(32, (5,5), activation='relu',padding=\"same\")(tower_2)\n",
        "tower_2 = BatchNormalization()(tower_2)\n",
        "#tower_2 = Activation('relu')(tower_2)\n",
        "tower_2 = AveragePooling2D(2,2)(tower_2)\n",
        "tower_2 = Dropout(dropout)(tower_2)\n",
        "\n",
        "#tower_2 = Conv2D(64, (5,5), padding=\"same\")(tower_2)\n",
        "#tower_2 = BatchNormalization()(tower_2)\n",
        "#tower_2 = Activation('relu')(tower_2)\n",
        "#tower_2 = AveragePooling2D(2,2)(tower_2)\n",
        "#tower_2 = Dropout(dropout)(tower_2)\n",
        "\n",
        "\n",
        "#Concatenate CNN branches\n",
        "merged = Concatenate(axis=1)([tower_1, tower_2])\n",
        "merged = Flatten()(merged)\n",
        "\n",
        "\"\"\"### Fusion ponderada ajustable\n",
        "# Parametros de ponderacion iniciales (entrenables)\n",
        "alpha1 = Dense(1, activation='sigmoid', use_bias=False)(tf.ones((1, 1)))\n",
        "beta1 = Dense(1, activation='sigmoid', use_bias=False)(tf.ones((1, 1)))\n",
        "merged = Add()([Multiply()([tower_1, alpha]), Multiply()([tower_2, beta])])\n",
        "#Flatten\n",
        "merged = Flatten()(merged)\"\"\"\n",
        "\n",
        "#Dense layers\n",
        "#out = Dense(256, activation='relu')(merged)\n",
        "#out = Dropout(dropout)(merged)\n",
        "#out = Dense(128, activation='sigmoid')(merged)\n",
        "#out = Dropout(dropout)(out)\n",
        "out = Dense(64, activation='sigmoid')(merged)\n",
        "out = Dropout(dropout)(out)\n",
        "out = Dense(32, activation='sigmoid')(out)\n",
        "out = Dropout(dropout)(out)\n",
        "out = Dense(16, activation='sigmoid')(out)\n",
        "out = Dropout(dropout)(out)\n",
        "\n",
        "cnn_model = Model(input_shape, out)"
      ]
    },
    {
      "cell_type": "markdown",
      "metadata": {
        "id": "h3WGTXOB2ucz"
      },
      "source": [
        "---\n",
        "<a id=\"section53\"></a>\n",
        "# <font color=\"#004D7F\" size=5> 5.3. Concatenate branches</font>\n",
        "\n",
        "Finally, we must concatenate the output of the CNN branch with the output of the FFNN branch in a final FFNN that will give the predictions."
      ]
    },
    {
      "cell_type": "code",
      "execution_count": 18,
      "metadata": {
        "id": "gV3QlY3j2uc0"
      },
      "outputs": [],
      "source": [
        "combinedInput = concatenate([ff_model.output, cnn_model.output])\n",
        "\n",
        "# Concatenar salidas\n",
        "\"\"\"attention_layer = Dense(2) # 2 ramas, salida de 2 pesos\n",
        "Softmax_layer = Softmax(axis=1)   # Asegura que los pesos sumen 1\n",
        "attention_weights = Softmax_layer(attention_layer(tf.ones((ff_model.output.shape[0], 2))))  # tf.shape(ff_model_output)[0] da el batch size\n",
        "# Expandir dimensiones de los pesos para que coincidan con la salida\n",
        "attention_weights_expanded = tf.expand_dims(attention_weights, axis=-1)\n",
        "# Multiplicar los pesos de atención por las salidas de cada modelo\n",
        "weighted_mlp_output = Multiply()([ff_model.output, attention_weights_expanded[:, 0]])\n",
        "weighted_cnn_output = Multiply()([cnn_model.output, attention_weights_expanded[:, 1]])\n",
        "\n",
        "combinedInput = weighted_mlp_output + weighted_cnn_output\"\"\"\n",
        "\n",
        "\n",
        "x = Dense(128, activation=\"relu\")(combinedInput)\n",
        "x = BatchNormalization()(x)\n",
        "x = Dropout(dropout)(x)\n",
        "x = Dense(64, activation=\"relu\")(x)\n",
        "x = BatchNormalization()(x)\n",
        "x = Dropout(dropout)(x)\n",
        "x = Dense(32, activation=\"sigmoid\")(x)\n",
        "x = BatchNormalization()(x)\n",
        "x = Dropout(dropout)(x)\n",
        "x = Dense(1, activation=\"sigmoid\")(x)\n",
        "\n",
        "model = Model(inputs=[ff_model.input, cnn_model.input], outputs=x)"
      ]
    },
    {
      "cell_type": "markdown",
      "metadata": {
        "id": "x1hh3EJS2uc0"
      },
      "source": [
        "---\n",
        "<a id=\"section54\"></a>\n",
        "# <font color=\"#004D7F\" size=5> 5.4. Metrics</font>\n",
        "\n",
        "Define metrics and some hyperparameters"
      ]
    },
    {
      "cell_type": "code",
      "execution_count": 19,
      "metadata": {
        "id": "fZlPjDUD2uc0"
      },
      "outputs": [],
      "source": [
        "METRICS = [\n",
        "    tf.keras.metrics.TruePositives(name = 'tp'),\n",
        "    tf.keras.metrics.FalsePositives(name = 'fp'),\n",
        "    tf.keras.metrics.TrueNegatives(name = 'tn'),\n",
        "    tf.keras.metrics.FalseNegatives(name = 'fn'),\n",
        "    tf.keras.metrics.BinaryAccuracy(name ='accuracy'),\n",
        "    tf.keras.metrics.Precision(name = 'precision'),\n",
        "    tf.keras.metrics.Recall(name = 'recall'),\n",
        "    tf.keras.metrics.AUC(name = 'auc'),\n",
        "]"
      ]
    },
    {
      "cell_type": "markdown",
      "metadata": {
        "id": "MXLxMBwk2uc0"
      },
      "source": [
        "---\n",
        "<a id=\"section55\"></a>\n",
        "# <font color=\"#004D7F\" size=5> 5.5. Compile and fit</font>\n",
        "\n",
        "Note to specify the **loss depending** on whether you have a binary or multiclass classification problem."
      ]
    },
    {
      "cell_type": "code",
      "execution_count": 20,
      "metadata": {
        "id": "S9JynDhp2uc0"
      },
      "outputs": [],
      "source": [
        "#HYPERPARAMETERS\n",
        "opt = AdamW(learning_rate=1e-3)"
      ]
    },
    {
      "cell_type": "code",
      "execution_count": 21,
      "metadata": {
        "id": "e0N0jxh72uc0"
      },
      "outputs": [],
      "source": [
        "model.compile(\n",
        "    loss=\"binary_crossentropy\",\n",
        "    optimizer='adam',\n",
        "    metrics = METRICS\n",
        ")\n",
        "epochs = 100"
      ]
    },
    {
      "cell_type": "code",
      "execution_count": 22,
      "metadata": {
        "id": "-RsIYmVP2uc0"
      },
      "outputs": [],
      "source": [
        "# Configure EarlyStopping for binary classification\n",
        "early_stopper = tf.keras.callbacks.EarlyStopping(\n",
        "    monitor='val_loss',  # Monitor the validation accuracy\n",
        "    min_delta=0.001,         # Minimum change in the monitored quantity to qualify as an improvement\n",
        "    patience=10,             # Number of epochs with no improvement after which training will be stopped\n",
        "    verbose=1,               # Log when training stops\n",
        "    mode='min',              # Maximize the accuracy; min the loss\n",
        "    restore_best_weights=True  # Restore model weights from the epoch with the best value of the monitored quantity\n",
        ")"
      ]
    },
    {
      "cell_type": "code",
      "execution_count": 23,
      "metadata": {
        "scrolled": true,
        "colab": {
          "base_uri": "https://localhost:8080/"
        },
        "id": "T0Qwpx6m2uc1",
        "outputId": "4e512294-34ae-4298-82fa-dfc05321a2d6"
      },
      "outputs": [
        {
          "output_type": "stream",
          "name": "stdout",
          "text": [
            "Epoch 1/100\n",
            "\u001b[1m521/521\u001b[0m \u001b[32m━━━━━━━━━━━━━━━━━━━━\u001b[0m\u001b[37m\u001b[0m \u001b[1m30s\u001b[0m 32ms/step - accuracy: 0.7292 - auc: 0.5414 - fn: 517.0881 - fp: 1288.4980 - loss: 0.5586 - precision: 0.0895 - recall: 0.2638 - tn: 6431.6245 - tp: 130.7050 - val_accuracy: 0.9238 - val_auc: 0.8040 - val_fn: 272.0000 - val_fp: 0.0000e+00 - val_loss: 0.2393 - val_precision: 0.0000e+00 - val_recall: 0.0000e+00 - val_tn: 3299.0000 - val_tp: 0.0000e+00\n",
            "Epoch 2/100\n",
            "\u001b[1m521/521\u001b[0m \u001b[32m━━━━━━━━━━━━━━━━━━━━\u001b[0m\u001b[37m\u001b[0m \u001b[1m18s\u001b[0m 28ms/step - accuracy: 0.9180 - auc: 0.6760 - fn: 618.3984 - fp: 68.9195 - loss: 0.2660 - precision: 0.2616 - recall: 0.0399 - tn: 7651.2031 - tp: 29.3946 - val_accuracy: 0.9308 - val_auc: 0.8301 - val_fn: 239.0000 - val_fp: 8.0000 - val_loss: 0.2127 - val_precision: 0.8049 - val_recall: 0.1213 - val_tn: 3291.0000 - val_tp: 33.0000\n",
            "Epoch 3/100\n",
            "\u001b[1m521/521\u001b[0m \u001b[32m━━━━━━━━━━━━━━━━━━━━\u001b[0m\u001b[37m\u001b[0m \u001b[1m22s\u001b[0m 30ms/step - accuracy: 0.9206 - auc: 0.7373 - fn: 611.3659 - fp: 60.0019 - loss: 0.2476 - precision: 0.3676 - recall: 0.0538 - tn: 7660.1206 - tp: 36.4272 - val_accuracy: 0.9322 - val_auc: 0.8360 - val_fn: 235.0000 - val_fp: 7.0000 - val_loss: 0.2061 - val_precision: 0.8409 - val_recall: 0.1360 - val_tn: 3292.0000 - val_tp: 37.0000\n",
            "Epoch 4/100\n",
            "\u001b[1m521/521\u001b[0m \u001b[32m━━━━━━━━━━━━━━━━━━━━\u001b[0m\u001b[37m\u001b[0m \u001b[1m20s\u001b[0m 28ms/step - accuracy: 0.9213 - auc: 0.7612 - fn: 611.6571 - fp: 54.6724 - loss: 0.2383 - precision: 0.3928 - recall: 0.0543 - tn: 7665.4502 - tp: 36.1360 - val_accuracy: 0.9348 - val_auc: 0.8483 - val_fn: 221.0000 - val_fp: 12.0000 - val_loss: 0.1996 - val_precision: 0.8095 - val_recall: 0.1875 - val_tn: 3287.0000 - val_tp: 51.0000\n",
            "Epoch 5/100\n",
            "\u001b[1m521/521\u001b[0m \u001b[32m━━━━━━━━━━━━━━━━━━━━\u001b[0m\u001b[37m\u001b[0m \u001b[1m16s\u001b[0m 30ms/step - accuracy: 0.9239 - auc: 0.7792 - fn: 599.9943 - fp: 49.9598 - loss: 0.2323 - precision: 0.5125 - recall: 0.0822 - tn: 7670.1626 - tp: 47.7989 - val_accuracy: 0.9345 - val_auc: 0.8464 - val_fn: 227.0000 - val_fp: 7.0000 - val_loss: 0.2011 - val_precision: 0.8654 - val_recall: 0.1654 - val_tn: 3292.0000 - val_tp: 45.0000\n",
            "Epoch 6/100\n",
            "\u001b[1m521/521\u001b[0m \u001b[32m━━━━━━━━━━━━━━━━━━━━\u001b[0m\u001b[37m\u001b[0m \u001b[1m15s\u001b[0m 28ms/step - accuracy: 0.9230 - auc: 0.7757 - fn: 604.5996 - fp: 49.4234 - loss: 0.2327 - precision: 0.4733 - recall: 0.0708 - tn: 7670.6992 - tp: 43.1935 - val_accuracy: 0.9325 - val_auc: 0.8399 - val_fn: 238.0000 - val_fp: 3.0000 - val_loss: 0.2030 - val_precision: 0.9189 - val_recall: 0.1250 - val_tn: 3296.0000 - val_tp: 34.0000\n",
            "Epoch 7/100\n",
            "\u001b[1m521/521\u001b[0m \u001b[32m━━━━━━━━━━━━━━━━━━━━\u001b[0m\u001b[37m\u001b[0m \u001b[1m21s\u001b[0m 29ms/step - accuracy: 0.9245 - auc: 0.7938 - fn: 595.5843 - fp: 44.0690 - loss: 0.2263 - precision: 0.5389 - recall: 0.0800 - tn: 7676.0537 - tp: 52.2088 - val_accuracy: 0.9336 - val_auc: 0.8470 - val_fn: 232.0000 - val_fp: 5.0000 - val_loss: 0.1984 - val_precision: 0.8889 - val_recall: 0.1471 - val_tn: 3294.0000 - val_tp: 40.0000\n",
            "Epoch 8/100\n",
            "\u001b[1m521/521\u001b[0m \u001b[32m━━━━━━━━━━━━━━━━━━━━\u001b[0m\u001b[37m\u001b[0m \u001b[1m16s\u001b[0m 31ms/step - accuracy: 0.9237 - auc: 0.8062 - fn: 584.2778 - fp: 59.2261 - loss: 0.2226 - precision: 0.5038 - recall: 0.0948 - tn: 7660.8965 - tp: 63.5153 - val_accuracy: 0.9353 - val_auc: 0.8450 - val_fn: 199.0000 - val_fp: 32.0000 - val_loss: 0.2012 - val_precision: 0.6952 - val_recall: 0.2684 - val_tn: 3267.0000 - val_tp: 73.0000\n",
            "Epoch 9/100\n",
            "\u001b[1m521/521\u001b[0m \u001b[32m━━━━━━━━━━━━━━━━━━━━\u001b[0m\u001b[37m\u001b[0m \u001b[1m19s\u001b[0m 28ms/step - accuracy: 0.9257 - auc: 0.8069 - fn: 592.4789 - fp: 43.3487 - loss: 0.2214 - precision: 0.5979 - recall: 0.0901 - tn: 7676.7739 - tp: 55.3142 - val_accuracy: 0.9356 - val_auc: 0.8464 - val_fn: 207.0000 - val_fp: 23.0000 - val_loss: 0.2002 - val_precision: 0.7386 - val_recall: 0.2390 - val_tn: 3276.0000 - val_tp: 65.0000\n",
            "Epoch 10/100\n",
            "\u001b[1m521/521\u001b[0m \u001b[32m━━━━━━━━━━━━━━━━━━━━\u001b[0m\u001b[37m\u001b[0m \u001b[1m20s\u001b[0m 27ms/step - accuracy: 0.9271 - auc: 0.8037 - fn: 565.5900 - fp: 55.6628 - loss: 0.2189 - precision: 0.6029 - recall: 0.1337 - tn: 7664.4600 - tp: 82.2031 - val_accuracy: 0.9359 - val_auc: 0.8476 - val_fn: 214.0000 - val_fp: 15.0000 - val_loss: 0.2020 - val_precision: 0.7945 - val_recall: 0.2132 - val_tn: 3284.0000 - val_tp: 58.0000\n",
            "Epoch 11/100\n",
            "\u001b[1m521/521\u001b[0m \u001b[32m━━━━━━━━━━━━━━━━━━━━\u001b[0m\u001b[37m\u001b[0m \u001b[1m23s\u001b[0m 32ms/step - accuracy: 0.9257 - auc: 0.8083 - fn: 585.5019 - fp: 48.1571 - loss: 0.2199 - precision: 0.5762 - recall: 0.1018 - tn: 7671.9653 - tp: 62.2912 - val_accuracy: 0.9384 - val_auc: 0.8499 - val_fn: 206.0000 - val_fp: 14.0000 - val_loss: 0.1982 - val_precision: 0.8250 - val_recall: 0.2426 - val_tn: 3285.0000 - val_tp: 66.0000\n",
            "Epoch 12/100\n",
            "\u001b[1m521/521\u001b[0m \u001b[32m━━━━━━━━━━━━━━━━━━━━\u001b[0m\u001b[37m\u001b[0m \u001b[1m15s\u001b[0m 29ms/step - accuracy: 0.9253 - auc: 0.8022 - fn: 597.4808 - fp: 36.4425 - loss: 0.2221 - precision: 0.5869 - recall: 0.0780 - tn: 7683.6802 - tp: 50.3123 - val_accuracy: 0.9348 - val_auc: 0.8516 - val_fn: 221.0000 - val_fp: 12.0000 - val_loss: 0.1972 - val_precision: 0.8095 - val_recall: 0.1875 - val_tn: 3287.0000 - val_tp: 51.0000\n",
            "Epoch 13/100\n",
            "\u001b[1m521/521\u001b[0m \u001b[32m━━━━━━━━━━━━━━━━━━━━\u001b[0m\u001b[37m\u001b[0m \u001b[1m15s\u001b[0m 29ms/step - accuracy: 0.9278 - auc: 0.8044 - fn: 569.7261 - fp: 45.7241 - loss: 0.2202 - precision: 0.6418 - recall: 0.1239 - tn: 7674.3984 - tp: 78.0670 - val_accuracy: 0.9373 - val_auc: 0.8482 - val_fn: 203.0000 - val_fp: 21.0000 - val_loss: 0.1976 - val_precision: 0.7667 - val_recall: 0.2537 - val_tn: 3278.0000 - val_tp: 69.0000\n",
            "Epoch 14/100\n",
            "\u001b[1m521/521\u001b[0m \u001b[32m━━━━━━━━━━━━━━━━━━━━\u001b[0m\u001b[37m\u001b[0m \u001b[1m21s\u001b[0m 29ms/step - accuracy: 0.9248 - auc: 0.8115 - fn: 590.4789 - fp: 43.4080 - loss: 0.2192 - precision: 0.5507 - recall: 0.0868 - tn: 7676.7144 - tp: 57.3142 - val_accuracy: 0.9362 - val_auc: 0.8560 - val_fn: 197.0000 - val_fp: 31.0000 - val_loss: 0.1942 - val_precision: 0.7075 - val_recall: 0.2757 - val_tn: 3268.0000 - val_tp: 75.0000\n",
            "Epoch 15/100\n",
            "\u001b[1m521/521\u001b[0m \u001b[32m━━━━━━━━━━━━━━━━━━━━\u001b[0m\u001b[37m\u001b[0m \u001b[1m20s\u001b[0m 28ms/step - accuracy: 0.9264 - auc: 0.8141 - fn: 576.7778 - fp: 52.1015 - loss: 0.2167 - precision: 0.5917 - recall: 0.1174 - tn: 7668.0210 - tp: 71.0153 - val_accuracy: 0.9342 - val_auc: 0.8560 - val_fn: 231.0000 - val_fp: 4.0000 - val_loss: 0.1954 - val_precision: 0.9111 - val_recall: 0.1507 - val_tn: 3295.0000 - val_tp: 41.0000\n",
            "Epoch 16/100\n",
            "\u001b[1m521/521\u001b[0m \u001b[32m━━━━━━━━━━━━━━━━━━━━\u001b[0m\u001b[37m\u001b[0m \u001b[1m23s\u001b[0m 33ms/step - accuracy: 0.9287 - auc: 0.8145 - fn: 561.8372 - fp: 46.8353 - loss: 0.2154 - precision: 0.6722 - recall: 0.1331 - tn: 7673.2876 - tp: 85.9559 - val_accuracy: 0.9325 - val_auc: 0.8516 - val_fn: 232.0000 - val_fp: 9.0000 - val_loss: 0.1993 - val_precision: 0.8163 - val_recall: 0.1471 - val_tn: 3290.0000 - val_tp: 40.0000\n",
            "Epoch 17/100\n",
            "\u001b[1m521/521\u001b[0m \u001b[32m━━━━━━━━━━━━━━━━━━━━\u001b[0m\u001b[37m\u001b[0m \u001b[1m15s\u001b[0m 29ms/step - accuracy: 0.9280 - auc: 0.8140 - fn: 561.9694 - fp: 54.2280 - loss: 0.2162 - precision: 0.6467 - recall: 0.1329 - tn: 7665.8945 - tp: 85.8238 - val_accuracy: 0.9370 - val_auc: 0.8542 - val_fn: 214.0000 - val_fp: 11.0000 - val_loss: 0.1937 - val_precision: 0.8406 - val_recall: 0.2132 - val_tn: 3288.0000 - val_tp: 58.0000\n",
            "Epoch 18/100\n",
            "\u001b[1m521/521\u001b[0m \u001b[32m━━━━━━━━━━━━━━━━━━━━\u001b[0m\u001b[37m\u001b[0m \u001b[1m15s\u001b[0m 29ms/step - accuracy: 0.9262 - auc: 0.8169 - fn: 577.7222 - fp: 51.0536 - loss: 0.2172 - precision: 0.5838 - recall: 0.1190 - tn: 7669.0688 - tp: 70.0709 - val_accuracy: 0.9339 - val_auc: 0.8481 - val_fn: 196.0000 - val_fp: 40.0000 - val_loss: 0.2007 - val_precision: 0.6552 - val_recall: 0.2794 - val_tn: 3259.0000 - val_tp: 76.0000\n",
            "Epoch 19/100\n",
            "\u001b[1m521/521\u001b[0m \u001b[32m━━━━━━━━━━━━━━━━━━━━\u001b[0m\u001b[37m\u001b[0m \u001b[1m15s\u001b[0m 29ms/step - accuracy: 0.9254 - auc: 0.8102 - fn: 579.2950 - fp: 51.6935 - loss: 0.2189 - precision: 0.5650 - recall: 0.1003 - tn: 7668.4292 - tp: 68.4981 - val_accuracy: 0.9373 - val_auc: 0.8579 - val_fn: 212.0000 - val_fp: 12.0000 - val_loss: 0.1945 - val_precision: 0.8333 - val_recall: 0.2206 - val_tn: 3287.0000 - val_tp: 60.0000\n",
            "Epoch 20/100\n",
            "\u001b[1m521/521\u001b[0m \u001b[32m━━━━━━━━━━━━━━━━━━━━\u001b[0m\u001b[37m\u001b[0m \u001b[1m17s\u001b[0m 32ms/step - accuracy: 0.9263 - auc: 0.8098 - fn: 579.5747 - fp: 48.4042 - loss: 0.2183 - precision: 0.6031 - recall: 0.1058 - tn: 7671.7183 - tp: 68.2184 - val_accuracy: 0.9348 - val_auc: 0.8563 - val_fn: 206.0000 - val_fp: 27.0000 - val_loss: 0.1950 - val_precision: 0.7097 - val_recall: 0.2426 - val_tn: 3272.0000 - val_tp: 66.0000\n",
            "Epoch 21/100\n",
            "\u001b[1m521/521\u001b[0m \u001b[32m━━━━━━━━━━━━━━━━━━━━\u001b[0m\u001b[37m\u001b[0m \u001b[1m18s\u001b[0m 28ms/step - accuracy: 0.9272 - auc: 0.8173 - fn: 568.2797 - fp: 52.9579 - loss: 0.2153 - precision: 0.6210 - recall: 0.1243 - tn: 7667.1646 - tp: 79.5134 - val_accuracy: 0.9348 - val_auc: 0.8559 - val_fn: 221.0000 - val_fp: 12.0000 - val_loss: 0.1937 - val_precision: 0.8095 - val_recall: 0.1875 - val_tn: 3287.0000 - val_tp: 51.0000\n",
            "Epoch 22/100\n",
            "\u001b[1m521/521\u001b[0m \u001b[32m━━━━━━━━━━━━━━━━━━━━\u001b[0m\u001b[37m\u001b[0m \u001b[1m20s\u001b[0m 28ms/step - accuracy: 0.9280 - auc: 0.8163 - fn: 566.6782 - fp: 47.9329 - loss: 0.2149 - precision: 0.6455 - recall: 0.1305 - tn: 7672.1895 - tp: 81.1149 - val_accuracy: 0.9376 - val_auc: 0.8538 - val_fn: 213.0000 - val_fp: 10.0000 - val_loss: 0.1962 - val_precision: 0.8551 - val_recall: 0.2169 - val_tn: 3289.0000 - val_tp: 59.0000\n",
            "Epoch 23/100\n",
            "\u001b[1m521/521\u001b[0m \u001b[32m━━━━━━━━━━━━━━━━━━━━\u001b[0m\u001b[37m\u001b[0m \u001b[1m20s\u001b[0m 28ms/step - accuracy: 0.9298 - auc: 0.8190 - fn: 537.9694 - fp: 56.9808 - loss: 0.2130 - precision: 0.6591 - recall: 0.1692 - tn: 7663.1416 - tp: 109.8238 - val_accuracy: 0.9364 - val_auc: 0.8499 - val_fn: 203.0000 - val_fp: 24.0000 - val_loss: 0.1971 - val_precision: 0.7419 - val_recall: 0.2537 - val_tn: 3275.0000 - val_tp: 69.0000\n",
            "Epoch 24/100\n",
            "\u001b[1m521/521\u001b[0m \u001b[32m━━━━━━━━━━━━━━━━━━━━\u001b[0m\u001b[37m\u001b[0m \u001b[1m22s\u001b[0m 31ms/step - accuracy: 0.9257 - auc: 0.8117 - fn: 558.7241 - fp: 68.9904 - loss: 0.2164 - precision: 0.5545 - recall: 0.1402 - tn: 7651.1323 - tp: 89.0690 - val_accuracy: 0.9378 - val_auc: 0.8473 - val_fn: 213.0000 - val_fp: 9.0000 - val_loss: 0.1963 - val_precision: 0.8676 - val_recall: 0.2169 - val_tn: 3290.0000 - val_tp: 59.0000\n",
            "Epoch 24: early stopping\n",
            "Restoring model weights from the end of the best epoch: 14.\n"
          ]
        }
      ],
      "source": [
        "model_history=model.fit(\n",
        "    x=[X_train_num, X_train_img], y=y_train,\n",
        "    validation_data=([X_val_num, X_val_img], y_val),\n",
        "    epochs=epochs,\n",
        "    batch_size=32,\n",
        "    callbacks = [early_stopper]\n",
        ")"
      ]
    },
    {
      "cell_type": "code",
      "execution_count": 24,
      "metadata": {
        "colab": {
          "base_uri": "https://localhost:8080/"
        },
        "id": "AGscXEsX2uc1",
        "outputId": "8c02e41d-764c-4a61-f73f-1b497cfcab66"
      },
      "outputs": [
        {
          "output_type": "stream",
          "name": "stdout",
          "text": [
            "dict_keys(['accuracy', 'auc', 'fn', 'fp', 'loss', 'precision', 'recall', 'tn', 'tp', 'val_accuracy', 'val_auc', 'val_fn', 'val_fp', 'val_loss', 'val_precision', 'val_recall', 'val_tn', 'val_tp'])\n"
          ]
        }
      ],
      "source": [
        "print(model_history.history.keys())"
      ]
    },
    {
      "cell_type": "markdown",
      "metadata": {
        "id": "1NRIHNRd2uc1"
      },
      "source": [
        "<a id=\"section6\"></a>\n",
        "# <font color=\"#004D7F\" size=6> 6. Results</font>\n",
        "\n",
        "Finally, we can evaluate our hybrid model with the images created by TINTOlib in any of the ways represented below."
      ]
    },
    {
      "cell_type": "markdown",
      "metadata": {
        "id": "HAgEesfb2uc1"
      },
      "source": [
        "---\n",
        "<a id=\"section61\"></a>\n",
        "# <font color=\"#004D7F\" size=5> 6.1. Train/Validation representation</font>"
      ]
    },
    {
      "cell_type": "code",
      "execution_count": 25,
      "metadata": {
        "colab": {
          "base_uri": "https://localhost:8080/",
          "height": 430
        },
        "id": "Gzem_5gX2uc1",
        "outputId": "5ca4f1cc-1522-4495-f6c8-0c81b6ed51ee"
      },
      "outputs": [
        {
          "output_type": "display_data",
          "data": {
            "text/plain": [
              "<Figure size 640x480 with 1 Axes>"
            ],
            "image/png": "[encoded data removed]"
          },
          "metadata": {}
        }
      ],
      "source": [
        "#print(model_history.history['loss'])\n",
        "plt.plot(model_history.history['loss'], color = 'red', label = 'loss')\n",
        "plt.plot(model_history.history['val_loss'], color = 'green', label = 'val loss')\n",
        "plt.legend(loc = 'upper right')\n",
        "\n",
        "plt.show()"
      ]
    },
    {
      "cell_type": "code",
      "execution_count": 26,
      "metadata": {
        "colab": {
          "base_uri": "https://localhost:8080/",
          "height": 430
        },
        "id": "NLxNb_i82uc1",
        "outputId": "f3dce4d1-9f7f-4ef6-a8a7-48d0e533e7b2"
      },
      "outputs": [
        {
          "output_type": "display_data",
          "data": {
            "text/plain": [
              "<Figure size 640x480 with 1 Axes>"
            ],
            "image/png": "[encoded data removed]"
          },
          "metadata": {}
        }
      ],
      "source": [
        "plt.plot(model_history.history['accuracy'], color = 'red', label = 'accuracy')\n",
        "plt.plot(model_history.history['val_accuracy'], color = 'green', label = 'val accuracy')\n",
        "plt.legend(loc = 'upper right')\n",
        "plt.show()"
      ]
    },
    {
      "cell_type": "code",
      "execution_count": 27,
      "metadata": {
        "colab": {
          "base_uri": "https://localhost:8080/"
        },
        "id": "lHKbUtZy2uc2",
        "outputId": "f1712884-b235-4b52-e28a-0d998151f8fc"
      },
      "outputs": [
        {
          "output_type": "stream",
          "name": "stdout",
          "text": [
            "Train accuracy: 0.9254770278930664\n",
            "Train AUC: 0.8137552738189697\n",
            "Train precision: 0.554770290851593\n",
            "Train recall: 0.12333071231842041\n",
            "Train loss: 0.2160906046628952\n"
          ]
        }
      ],
      "source": [
        "train_accuracy = model_history.history[\"accuracy\"][-1]\n",
        "train_auc = model_history.history[\"auc\"][-1]\n",
        "train_precision = model_history.history[\"precision\"][-1]\n",
        "train_recall = model_history.history[\"recall\"][-1]\n",
        "train_loss = model_history.history[\"loss\"][-1]\n",
        "\n",
        "print(\"Train accuracy:\",train_accuracy)\n",
        "print(\"Train AUC:\",train_auc)\n",
        "print(\"Train precision:\",train_precision)\n",
        "print(\"Train recall:\",train_recall)\n",
        "print(\"Train loss:\",train_loss)"
      ]
    },
    {
      "cell_type": "code",
      "execution_count": 28,
      "metadata": {
        "colab": {
          "base_uri": "https://localhost:8080/"
        },
        "id": "CF-V0sZH2uc2",
        "outputId": "e2597b97-e0d8-4bdf-e195-75eff8235a65"
      },
      "outputs": [
        {
          "output_type": "stream",
          "name": "stdout",
          "text": [
            "Validation accuracy: 0.9378325343132019\n",
            "Validation AUC: 0.8472604751586914\n",
            "Validation precision: 0.8676470518112183\n",
            "Validation recall: 0.21691176295280457\n",
            "Validation loss: 0.19628489017486572\n"
          ]
        }
      ],
      "source": [
        "validation_accuracy = model_history.history[\"val_accuracy\"][-1]\n",
        "validation_auc = model_history.history[\"val_auc\"][-1]\n",
        "validation_precision = model_history.history[\"val_precision\"][-1]\n",
        "validation_recall = model_history.history[\"val_recall\"][-1]\n",
        "validation_loss = model_history.history[\"val_loss\"][-1]\n",
        "\n",
        "print(\"Validation accuracy:\",validation_accuracy)\n",
        "print(\"Validation AUC:\",validation_auc)\n",
        "print(\"Validation precision:\",validation_precision)\n",
        "print(\"Validation recall:\",validation_recall)\n",
        "print(\"Validation loss:\",validation_loss)"
      ]
    },
    {
      "cell_type": "markdown",
      "metadata": {
        "id": "MuTYC0m52uc2"
      },
      "source": [
        "---\n",
        "<a id=\"section62\"></a>\n",
        "# <font color=\"#004D7F\" size=5> 6.2. Validation evaluation</font>"
      ]
    },
    {
      "cell_type": "code",
      "execution_count": 29,
      "metadata": {
        "colab": {
          "base_uri": "https://localhost:8080/"
        },
        "id": "f4N9Yr_J2uc2",
        "outputId": "f4964835-03fb-45ad-afed-2022a295e903"
      },
      "outputs": [
        {
          "output_type": "stream",
          "name": "stdout",
          "text": [
            "\u001b[1m521/521\u001b[0m \u001b[32m━━━━━━━━━━━━━━━━━━━━\u001b[0m\u001b[37m\u001b[0m \u001b[1m4s\u001b[0m 7ms/step\n"
          ]
        },
        {
          "output_type": "execute_result",
          "data": {
            "text/plain": [
              "(0.09, 0.7473863998637632)"
            ]
          },
          "metadata": {},
          "execution_count": 29
        }
      ],
      "source": [
        "from sklearn.metrics import roc_auc_score\n",
        "\n",
        "x_train_1 = [X_train_num, X_train_img]\n",
        "\n",
        "def find_best_threshold(y_true, y_probs):\n",
        "    thresholds = np.arange(0.0, 1.0, 0.01)\n",
        "    best_auc = 0\n",
        "    best_thresh = 0\n",
        "    for thresh in thresholds:\n",
        "        preds = (y_probs >= thresh).astype(int)\n",
        "        auc = roc_auc_score(y_true, preds)\n",
        "        if auc > best_auc:\n",
        "            best_auc = auc\n",
        "            best_thresh = thresh\n",
        "    return best_thresh, best_auc\n",
        "prediction = model.predict(x_train_1,)\n",
        "best_threshold = find_best_threshold(y_train, prediction)\n",
        "best_threshold ### !!!!!! IMPORTANTE PARA DEFINIR EL MEJOR CORTE PARA LAS PROBABILIDADES"
      ]
    },
    {
      "cell_type": "code",
      "execution_count": 30,
      "metadata": {
        "colab": {
          "base_uri": "https://localhost:8080/"
        },
        "id": "R3fubBg62uc2",
        "outputId": "d1f0be4f-c017-45cd-85a0-8e7f07c88fb5"
      },
      "outputs": [
        {
          "output_type": "stream",
          "name": "stdout",
          "text": [
            "\u001b[1m112/112\u001b[0m \u001b[32m━━━━━━━━━━━━━━━━━━━━\u001b[0m\u001b[37m\u001b[0m \u001b[1m1s\u001b[0m 6ms/step - accuracy: 0.9332 - auc: 0.8603 - fn: 102.8496 - fp: 15.4956 - loss: 0.2000 - precision: 0.7509 - recall: 0.2678 - tn: 1665.4956 - tp: 39.6460\n"
          ]
        }
      ],
      "source": [
        "#x_validacion = [X_test_num, X_test_img]\n",
        "#y_validacion = y_test\n",
        "x_validacion = [X_val_num, X_val_img]\n",
        "y_validacion = y_val\n",
        "score_test= model.evaluate(x_validacion, y_validacion)"
      ]
    },
    {
      "cell_type": "code",
      "execution_count": 31,
      "metadata": {
        "colab": {
          "base_uri": "https://localhost:8080/"
        },
        "id": "cfHYYSDD2uc4",
        "outputId": "bcb3643e-5197-4f8a-cbb8-1e32ff964456"
      },
      "outputs": [
        {
          "output_type": "stream",
          "name": "stdout",
          "text": [
            "\u001b[1m112/112\u001b[0m \u001b[32m━━━━━━━━━━━━━━━━━━━━\u001b[0m\u001b[37m\u001b[0m \u001b[1m1s\u001b[0m 7ms/step\n"
          ]
        }
      ],
      "source": [
        "#test_images = next(test_iter)[0]\n",
        "prediction = model.predict(x_validacion,)\n",
        "#prediction = model.predict(test_images)\n",
        "prediction_labels = (prediction > best_threshold[0]).astype(int)\n",
        "#print(prediction_labels)"
      ]
    },
    {
      "cell_type": "code",
      "execution_count": 32,
      "metadata": {
        "colab": {
          "base_uri": "https://localhost:8080/"
        },
        "id": "VtfarDWn2uc5",
        "outputId": "5713135b-28ed-4573-c326-56f66f9d40c3"
      },
      "outputs": [
        {
          "output_type": "stream",
          "name": "stdout",
          "text": [
            "Validation accuracy: 0.9361523389816284\n",
            "Validation AUC: 0.8560097217559814\n",
            "Validation precision: 0.7075471878051758\n",
            "Validation recall: 0.2757352888584137\n"
          ]
        }
      ],
      "source": [
        "from sklearn.metrics import roc_auc_score,accuracy_score,precision_score, recall_score\n",
        "\n",
        "test_accuracy = score_test[5]\n",
        "test_auc = score_test[8]\n",
        "test_precision = score_test[6]\n",
        "test_recall = score_test[7]\n",
        "\n",
        "print(\"Validation accuracy:\",test_accuracy)\n",
        "print(\"Validation AUC:\",test_auc)\n",
        "print(\"Validation precision:\",test_precision)\n",
        "print(\"Validation recall:\",test_recall)"
      ]
    },
    {
      "cell_type": "code",
      "execution_count": 33,
      "metadata": {
        "colab": {
          "base_uri": "https://localhost:8080/",
          "height": 458
        },
        "id": "xdo2_Hbr2uc5",
        "outputId": "019ac8b4-378e-4d80-ba11-ef9829f547d0"
      },
      "outputs": [
        {
          "output_type": "execute_result",
          "data": {
            "text/plain": [
              "19630    0\n",
              "11186    0\n",
              "8758     0\n",
              "4616     0\n",
              "16735    0\n",
              "        ..\n",
              "2079     0\n",
              "17000    0\n",
              "10190    0\n",
              "7585     0\n",
              "7246     0\n",
              "Name: class, Length: 3571, dtype: int64"
            ],
            "text/html": [
              "<div>\n",
              "<style scoped>\n",
              "    .dataframe tbody tr th:only-of-type {\n",
              "        vertical-align: middle;\n",
              "    }\n",
              "\n",
              "    .dataframe tbody tr th {\n",
              "        vertical-align: top;\n",
              "    }\n",
              "\n",
              "    .dataframe thead th {\n",
              "        text-align: right;\n",
              "    }\n",
              "</style>\n",
              "<table border=\"1\" class=\"dataframe\">\n",
              "  <thead>\n",
              "    <tr style=\"text-align: right;\">\n",
              "      <th></th>\n",
              "      <th>class</th>\n",
              "    </tr>\n",
              "  </thead>\n",
              "  <tbody>\n",
              "    <tr>\n",
              "      <th>19630</th>\n",
              "      <td>0</td>\n",
              "    </tr>\n",
              "    <tr>\n",
              "      <th>11186</th>\n",
              "      <td>0</td>\n",
              "    </tr>\n",
              "    <tr>\n",
              "      <th>8758</th>\n",
              "      <td>0</td>\n",
              "    </tr>\n",
              "    <tr>\n",
              "      <th>4616</th>\n",
              "      <td>0</td>\n",
              "    </tr>\n",
              "    <tr>\n",
              "      <th>16735</th>\n",
              "      <td>0</td>\n",
              "    </tr>\n",
              "    <tr>\n",
              "      <th>...</th>\n",
              "      <td>...</td>\n",
              "    </tr>\n",
              "    <tr>\n",
              "      <th>2079</th>\n",
              "      <td>0</td>\n",
              "    </tr>\n",
              "    <tr>\n",
              "      <th>17000</th>\n",
              "      <td>0</td>\n",
              "    </tr>\n",
              "    <tr>\n",
              "      <th>10190</th>\n",
              "      <td>0</td>\n",
              "    </tr>\n",
              "    <tr>\n",
              "      <th>7585</th>\n",
              "      <td>0</td>\n",
              "    </tr>\n",
              "    <tr>\n",
              "      <th>7246</th>\n",
              "      <td>0</td>\n",
              "    </tr>\n",
              "  </tbody>\n",
              "</table>\n",
              "<p>3571 rows × 1 columns</p>\n",
              "</div><br><label><b>dtype:</b> int64</label>"
            ]
          },
          "metadata": {},
          "execution_count": 33
        }
      ],
      "source": [
        "y_test1 = y_validacion.astype(float).astype(int)\n",
        "y_test1"
      ]
    },
    {
      "cell_type": "code",
      "source": [
        "from sklearn.metrics import ConfusionMatrixDisplay, confusion_matrix, roc_curve, roc_auc_score, recall_score\n",
        "\n",
        "# Suponiendo que cnn_model sea tu modelo entrenado y X_test tu conjunto de prueba\n",
        "print(\"\\033[1mTest Dataset.\\033[0m \\n\\n\")\n",
        "\n",
        "# Confusion Matrix\n",
        "print(\"\\033[1mConfusion matrix:\\033[0m\")\n",
        "cm = confusion_matrix(y_test1, prediction_labels)\n",
        "disp = ConfusionMatrixDisplay(confusion_matrix=cm)\n",
        "disp.plot()\n",
        "plt.show()\n",
        "print(f\"Verdaderos Negativos (VN): {cm[0, 0]}\")\n",
        "print(f\"Falsos Positivos (FP): {cm[0, 1]}\")\n",
        "print(f\"Falsos Negativos (FN): {cm[1, 0]}\")\n",
        "print(f\"Verdaderos Positivos (VP): {cm[1, 1]} \\n\\n\")\n",
        "\n",
        "# Calcular las métricas usando probabilidades en lugar de etiquetas\n",
        "#prediction_probs = model.predict([X_val_img])\n",
        "\n",
        "print(\"\\033[1mAUC SCORE:\\033[0m\")\n",
        "print(roc_auc_score(y_test1, prediction ))\n",
        "\n",
        "print(\"\\033[1mRecall SCORE:\\033[0m\")\n",
        "print(recall_score(y_test1, prediction_labels))\n",
        "\n",
        "# Curva ROC\n",
        "fpr, tpr, thresholds = roc_curve(y_test1, prediction)\n",
        "plt.plot([0, 1], [0, 1], 'k--')\n",
        "plt.plot(fpr, tpr)\n",
        "plt.xlabel('False Positive Rate')\n",
        "plt.ylabel('True Positive Rate')\n",
        "plt.title('ROC Curve and AUC')\n",
        "plt.fill_between(fpr, tpr, alpha=0.3)\n",
        "plt.tight_layout()\n",
        "plt.show()"
      ],
      "metadata": {
        "id": "fEiZwP9E-I2j",
        "outputId": "c61d323c-5ae7-4cff-bdae-945a7f678fb2",
        "colab": {
          "base_uri": "https://localhost:8080/",
          "height": 1000
        }
      },
      "execution_count": 34,
      "outputs": [
        {
          "output_type": "stream",
          "name": "stdout",
          "text": [
            "\u001b[1mTest Dataset.\u001b[0m \n",
            "\n",
            "\n",
            "\u001b[1mConfusion matrix:\u001b[0m\n"
          ]
        },
        {
          "output_type": "display_data",
          "data": {
            "text/plain": [
              "<Figure size 640x480 with 2 Axes>"
            ],
            "image/png": "[encoded data removed]"
          },
          "metadata": {}
        },
        {
          "output_type": "stream",
          "name": "stdout",
          "text": [
            "Verdaderos Negativos (VN): 2499\n",
            "Falsos Positivos (FP): 800\n",
            "Falsos Negativos (FN): 68\n",
            "Verdaderos Positivos (VP): 204 \n",
            "\n",
            "\n",
            "\u001b[1mAUC SCORE:\u001b[0m\n",
            "0.8565106627676835\n",
            "\u001b[1mRecall SCORE:\u001b[0m\n",
            "0.75\n"
          ]
        },
        {
          "output_type": "display_data",
          "data": {
            "text/plain": [
              "<Figure size 640x480 with 1 Axes>"
            ],
            "image/png": "[encoded data removed]"
          },
          "metadata": {}
        }
      ]
    },
    {
      "cell_type": "markdown",
      "metadata": {
        "id": "FsZ6R6vd2uc5"
      },
      "source": [
        "---\n",
        "<a id=\"section63\"></a>\n",
        "# <font color=\"#004D7F\" size=5> 6.3. Test evaluation</font>"
      ]
    },
    {
      "cell_type": "code",
      "execution_count": 36,
      "metadata": {
        "colab": {
          "base_uri": "https://localhost:8080/"
        },
        "id": "jpw-vRwz2uc5",
        "outputId": "7b53a97e-3dbd-4d75-e4b7-64e577666d42"
      },
      "outputs": [
        {
          "output_type": "stream",
          "name": "stdout",
          "text": [
            "\u001b[1m112/112\u001b[0m \u001b[32m━━━━━━━━━━━━━━━━━━━━\u001b[0m\u001b[37m\u001b[0m \u001b[1m1s\u001b[0m 7ms/step - accuracy: 0.9287 - auc: 0.8362 - fn: 107.8584 - fp: 19.9823 - loss: 0.2089 - precision: 0.6072 - recall: 0.2381 - tn: 1661.5133 - tp: 34.1504\n"
          ]
        }
      ],
      "source": [
        "x_validacion = [X_test_num, X_test_img]\n",
        "y_validacion = y_test\n",
        "#x_validacion = [X_val_num, X_val_img]\n",
        "#y_validacion = y_val\n",
        "score_test= model.evaluate(x_validacion, y_validacion)"
      ]
    },
    {
      "cell_type": "code",
      "execution_count": 37,
      "metadata": {
        "colab": {
          "base_uri": "https://localhost:8080/"
        },
        "id": "mIp999kF2uc5",
        "outputId": "1e0ba9a2-6724-4f09-e927-2a096309975b"
      },
      "outputs": [
        {
          "output_type": "stream",
          "name": "stdout",
          "text": [
            "\u001b[1m112/112\u001b[0m \u001b[32m━━━━━━━━━━━━━━━━━━━━\u001b[0m\u001b[37m\u001b[0m \u001b[1m1s\u001b[0m 11ms/step\n"
          ]
        }
      ],
      "source": [
        "#test_images = next(test_iter)[0]\n",
        "prediction = model.predict(x_validacion,)\n",
        "#prediction = model.predict(test_images)\n",
        "prediction_labels = (prediction > best_threshold[0]).astype(int)\n",
        "#print(prediction_labels)"
      ]
    },
    {
      "cell_type": "code",
      "execution_count": 38,
      "metadata": {
        "colab": {
          "base_uri": "https://localhost:8080/"
        },
        "id": "pbsFfC2i2uc6",
        "outputId": "55837b2b-89ac-4e89-d0c3-6171ac0e4a38"
      },
      "outputs": [
        {
          "output_type": "stream",
          "name": "stdout",
          "text": [
            "Test accuracy: 0.9311310052871704\n",
            "Test AUC: 0.8247315883636475\n",
            "Test precision: 0.6238532066345215\n",
            "Test recall: 0.2490842491388321\n"
          ]
        }
      ],
      "source": [
        "from sklearn.metrics import roc_auc_score,accuracy_score,precision_score, recall_score\n",
        "\n",
        "test_accuracy = score_test[5]\n",
        "test_auc = score_test[8]\n",
        "test_precision = score_test[6]\n",
        "test_recall = score_test[7]\n",
        "\n",
        "print(\"Test accuracy:\",test_accuracy)\n",
        "print(\"Test AUC:\",test_auc)\n",
        "print(\"Test precision:\",test_precision)\n",
        "print(\"Test recall:\",test_recall)"
      ]
    },
    {
      "cell_type": "code",
      "execution_count": 39,
      "metadata": {
        "colab": {
          "base_uri": "https://localhost:8080/",
          "height": 458
        },
        "id": "l34Vmfg_2uc6",
        "outputId": "872b4818-3592-4fa5-f28a-48494f9f73c5"
      },
      "outputs": [
        {
          "output_type": "execute_result",
          "data": {
            "text/plain": [
              "650      1\n",
              "4910     0\n",
              "20672    0\n",
              "973      1\n",
              "12541    0\n",
              "        ..\n",
              "17306    0\n",
              "4503     0\n",
              "3256     0\n",
              "8932     0\n",
              "21240    0\n",
              "Name: class, Length: 3572, dtype: int64"
            ],
            "text/html": [
              "<div>\n",
              "<style scoped>\n",
              "    .dataframe tbody tr th:only-of-type {\n",
              "        vertical-align: middle;\n",
              "    }\n",
              "\n",
              "    .dataframe tbody tr th {\n",
              "        vertical-align: top;\n",
              "    }\n",
              "\n",
              "    .dataframe thead th {\n",
              "        text-align: right;\n",
              "    }\n",
              "</style>\n",
              "<table border=\"1\" class=\"dataframe\">\n",
              "  <thead>\n",
              "    <tr style=\"text-align: right;\">\n",
              "      <th></th>\n",
              "      <th>class</th>\n",
              "    </tr>\n",
              "  </thead>\n",
              "  <tbody>\n",
              "    <tr>\n",
              "      <th>650</th>\n",
              "      <td>1</td>\n",
              "    </tr>\n",
              "    <tr>\n",
              "      <th>4910</th>\n",
              "      <td>0</td>\n",
              "    </tr>\n",
              "    <tr>\n",
              "      <th>20672</th>\n",
              "      <td>0</td>\n",
              "    </tr>\n",
              "    <tr>\n",
              "      <th>973</th>\n",
              "      <td>1</td>\n",
              "    </tr>\n",
              "    <tr>\n",
              "      <th>12541</th>\n",
              "      <td>0</td>\n",
              "    </tr>\n",
              "    <tr>\n",
              "      <th>...</th>\n",
              "      <td>...</td>\n",
              "    </tr>\n",
              "    <tr>\n",
              "      <th>17306</th>\n",
              "      <td>0</td>\n",
              "    </tr>\n",
              "    <tr>\n",
              "      <th>4503</th>\n",
              "      <td>0</td>\n",
              "    </tr>\n",
              "    <tr>\n",
              "      <th>3256</th>\n",
              "      <td>0</td>\n",
              "    </tr>\n",
              "    <tr>\n",
              "      <th>8932</th>\n",
              "      <td>0</td>\n",
              "    </tr>\n",
              "    <tr>\n",
              "      <th>21240</th>\n",
              "      <td>0</td>\n",
              "    </tr>\n",
              "  </tbody>\n",
              "</table>\n",
              "<p>3572 rows × 1 columns</p>\n",
              "</div><br><label><b>dtype:</b> int64</label>"
            ]
          },
          "metadata": {},
          "execution_count": 39
        }
      ],
      "source": [
        "y_test1 = y_validacion.astype(float).astype(int)\n",
        "y_test1"
      ]
    },
    {
      "cell_type": "code",
      "source": [
        "  from sklearn.metrics import ConfusionMatrixDisplay, confusion_matrix, roc_curve, roc_auc_score, recall_score\n",
        "\n",
        "# Suponiendo que cnn_model sea tu modelo entrenado y X_test tu conjunto de prueba\n",
        "print(\"\\033[1mTest Dataset.\\033[0m \\n\\n\")\n",
        "\n",
        "# Confusion Matrix\n",
        "print(\"\\033[1mConfusion matrix:\\033[0m\")\n",
        "cm = confusion_matrix(y_test1, prediction_labels)\n",
        "disp = ConfusionMatrixDisplay(confusion_matrix=cm)\n",
        "disp.plot()\n",
        "plt.show()\n",
        "print(f\"Verdaderos Negativos (VN): {cm[0, 0]}\")\n",
        "print(f\"Falsos Positivos (FP): {cm[0, 1]}\")\n",
        "print(f\"Falsos Negativos (FN): {cm[1, 0]}\")\n",
        "print(f\"Verdaderos Positivos (VP): {cm[1, 1]} \\n\\n\")\n",
        "\n",
        "# Calcular las métricas usando probabilidades en lugar de etiquetas\n",
        "#prediction_probs = model.predict([X_val_img])\n",
        "\n",
        "print(\"\\033[1mAUC SCORE:\\033[0m\")\n",
        "print(roc_auc_score(y_test1, prediction ))\n",
        "\n",
        "print(\"\\033[1mRecall SCORE:\\033[0m\")\n",
        "print(recall_score(y_test1, prediction_labels))\n",
        "\n",
        "# Curva ROC\n",
        "fpr, tpr, thresholds = roc_curve(y_test1, prediction)\n",
        "plt.plot([0, 1], [0, 1], 'k--')\n",
        "plt.plot(fpr, tpr)\n",
        "plt.xlabel('False Positive Rate')\n",
        "plt.ylabel('True Positive Rate')\n",
        "plt.title('ROC Curve and AUC')\n",
        "plt.fill_between(fpr, tpr, alpha=0.3)\n",
        "plt.tight_layout()\n",
        "plt.show()"
      ],
      "metadata": {
        "id": "jps9-f7c-bIr",
        "outputId": "a168e44b-c117-4713-c6a7-6fcabd3cc8a1",
        "colab": {
          "base_uri": "https://localhost:8080/",
          "height": 1000
        }
      },
      "execution_count": 40,
      "outputs": [
        {
          "output_type": "stream",
          "name": "stdout",
          "text": [
            "\u001b[1mTest Dataset.\u001b[0m \n",
            "\n",
            "\n",
            "\u001b[1mConfusion matrix:\u001b[0m\n"
          ]
        },
        {
          "output_type": "display_data",
          "data": {
            "text/plain": [
              "<Figure size 640x480 with 2 Axes>"
            ],
            "image/png": "[encoded data removed]"
          },
          "metadata": {}
        },
        {
          "output_type": "stream",
          "name": "stdout",
          "text": [
            "Verdaderos Negativos (VN): 2430\n",
            "Falsos Positivos (FP): 869\n",
            "Falsos Negativos (FN): 75\n",
            "Verdaderos Positivos (VP): 198 \n",
            "\n",
            "\n",
            "\u001b[1mAUC SCORE:\u001b[0m\n",
            "0.8244683981270826\n",
            "\u001b[1mRecall SCORE:\u001b[0m\n",
            "0.7252747252747253\n"
          ]
        },
        {
          "output_type": "display_data",
          "data": {
            "text/plain": [
              "<Figure size 640x480 with 1 Axes>"
            ],
            "image/png": "[encoded data removed]"
          },
          "metadata": {}
        }
      ]
    }
  ],
  "metadata": {
    "colab": {
      "provenance": []
    },
    "kernelspec": {
      "display_name": "Python 3",
      "language": "python",
      "name": "python3"
    },
    "language_info": {
      "codemirror_mode": {
        "name": "ipython",
        "version": 3
      },
      "file_extension": ".py",
      "mimetype": "text/x-python",
      "name": "python",
      "nbconvert_exporter": "python",
      "pygments_lexer": "ipython3",
      "version": "3.9.6"
    }
  },
  "nbformat": 4,
  "nbformat_minor": 0
}