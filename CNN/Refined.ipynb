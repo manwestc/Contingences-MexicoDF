{
 "cells": [
  {
   "cell_type": "markdown",
   "metadata": {
    "id": "EybOZ6hSjpCF"
   },
   "source": [
    "<h1><font color=\"#113D68\" size=5>TINTOlib: Converting Tidy Data into Synthetic Images</font></h1>\n",
    "\n",
    "<h1><font color=\"#113D68\" size=5>Template Classification Machine Learning problem with a CNN</font></h1>\n",
    "\n",
    "<br><br>\n",
    "<div style=\"text-align: right\">\n",
    "<font color=\"#113D68\" size=3>Manuel Castillo-Cara</font><br>\n",
    "<font color=\"#113D68\" size=3>Raúl García-Castro</font><br>\n",
    "<font color=\"#113D68\" size=3>Jiayun Liu</font><br>\n",
    "\n",
    "</div>\n",
    "\n",
    "---"
   ]
  },
  {
   "cell_type": "markdown",
   "metadata": {
    "id": "i3tgsO0BjpCj"
   },
   "source": [
    "<div class=\"alert alert-block alert-info\">\n",
    "    \n",
    "<i class=\"fa fa-info-circle\" aria-hidden=\"true\"></i>\n",
    "More information about [Manuel Castillo-Cara](https://www.manuelcastillo.eu/)"
   ]
  },
  {
   "cell_type": "markdown",
   "metadata": {
    "id": "i3tgsO0BjpCj"
   },
   "source": [
    "<div class=\"alert alert-block alert-info\">\n",
    "    \n",
    "<i class=\"fa fa-info-circle\" aria-hidden=\"true\"></i>\n",
    "More information about [Raúl García-Castro](http://www.garcia-castro.com/)"
   ]
  },
  {
   "cell_type": "markdown",
   "metadata": {},
   "source": [
    "---\n",
    "\n",
    "<a id=\"indice\"></a>\n",
    "<h2><font color=\"#004D7F\" size=5>Licencia</font></h2>\n",
    "\n",
    "<p><small><small>Improving Deep Learning by Exploiting Synthetic Images Copyright 2024 Manuel Castillo Cara.</p>\n",
    "<p><small><small> Licensed under the Apache License, Version 2.0 (the \"License\"); you may not use this file except in compliance with the License. You may obtain a copy of the License at </p>\n",
    "<p><small><small> <a href=\"https://www.apache.org/licenses/LICENSE-2.0\">https://www.apache.org/licenses/LICENSE-2.0</a> </p>\n",
    "<p><small><small> Unless required by applicable law or agreed to in writing, software distributed under the License is distributed on an \"AS IS\" BASIS, WITHOUT WARRANTIES OR CONDITIONS OF ANY KIND, either express or implied. See the License for the specific language governing permissions and limitations under the License. </p>"
   ]
  },
  {
   "cell_type": "markdown",
   "metadata": {
    "id": "2l5nFzsdjpCW"
   },
   "source": [
    "---\n",
    "\n",
    "<a id=\"indice\"></a>\n",
    "<h2><font color=\"#004D7F\" size=5>Index</font></h2>\n",
    "\n",
    "* [0. Context](#section0)\n",
    "* [1. Description](#section1)\n",
    "    * [1.1. Main Features](#section11)\n",
    "    * [1.2. Citation](#section12)\n",
    "    * [1.3. Documentation and License](#section13)\n",
    "* [2. Libraries](#section2)\n",
    "    * [2.1. System setup](#section21)\n",
    "    * [2.2. Invoke the libraries](#section22)\n",
    "* [3. Data processing](#section3)\n",
    "    * [3.1. TINTOlib methods](#section31)\n",
    "    * [3.2. Read the dataset](#section32)\n",
    "    * [3.3. Generate images](#section33)\n",
    "    * [3.4. Read images](#section34)\n",
    "* [4. Pre-modelling phase](#section4)\n",
    "    * [4.1. Data curation](#section41)\n",
    "    * [4.2. Resize Images](#section42)\n",
    "    * [4.3. Iterators](#section43)\n",
    "* [5. Modelling with CNN](#section5)\n",
    "    * [5.1. CNN](#section51)\n",
    "    * [5.2. Compile and fit](#section52)\n",
    "* [6. Results](#section6)\n",
    "    * [6.1. Train/Validation representation](#section61)\n",
    "    * [6.2. Validation/Test evaluation](#section62)\n",
    "    * [6.3. Sklearn metrics evaluation](#section63)"
   ]
  },
  {
   "cell_type": "markdown",
   "metadata": {
    "id": "Z3EzYcjJjpC6"
   },
   "source": [
    "---\n",
    "<div style=\"text-align: right\"> <font size=5> <a href=\"#indice\"><i class=\"fa fa-arrow-circle-up\" aria-hidden=\"true\" style=\"color:#004D7F\"></i></a></font></div>"
   ]
  },
  {
   "cell_type": "markdown",
   "metadata": {
    "id": "qwYF5A2njpC8"
   },
   "source": [
    "<a id=\"section2\"></a>\n",
    "# <font color=\"#004D7F\" size=6> 2. Libraries</font>"
   ]
  },
  {
   "cell_type": "markdown",
   "metadata": {
    "id": "5AdHKnWYsEq_"
   },
   "source": [
    "The first thing we need to do is to declare the libraries"
   ]
  },
  {
   "cell_type": "code",
   "execution_count": 1,
   "metadata": {
    "id": "PeeBbGxlpjFp",
    "tags": []
   },
   "outputs": [
    {
     "name": "stderr",
     "output_type": "stream",
     "text": [
      "/Users/manwest/Library/Python/3.9/lib/python/site-packages/urllib3/__init__.py:35: NotOpenSSLWarning: urllib3 v2 only supports OpenSSL 1.1.1+, currently the 'ssl' module is compiled with 'LibreSSL 2.8.3'. See: https://github.com/urllib3/urllib3/issues/3020\n",
      "  warnings.warn(\n"
     ]
    }
   ],
   "source": [
    "import os\n",
    "import random\n",
    "import pandas as pd\n",
    "import numpy as np\n",
    "from tqdm import tqdm\n",
    "#import cv2\n",
    "import gc\n",
    "import matplotlib.pyplot as plt\n",
    "#import openslide\n",
    "#from openslide.deepzoom import DeepZoomGenerator\n",
    "import tifffile as tifi\n",
    "import sklearn\n",
    "import tensorflow as tf\n",
    "\n",
    "from keras_preprocessing.image import ImageDataGenerator\n",
    "from tensorflow.keras.models import load_model\n",
    "\n",
    "from sklearn.model_selection import train_test_split\n",
    "#from tensorflow.keras.applications import vgg16, vgg19, resnet50, mobilenet, inception_resnet_v2, densenet, inception_v3, xception, nasnet, ResNet152V2\n",
    "from tensorflow.keras.models import Sequential, Model, load_model\n",
    "from tensorflow.keras.layers import Dense, Conv2D, MaxPool2D, Flatten, Dropout, BatchNormalization, InputLayer, LayerNormalization\n",
    "from tensorflow.keras.callbacks import ModelCheckpoint, ReduceLROnPlateau, EarlyStopping\n",
    "from tensorflow.keras.optimizers import SGD, Adam, Adadelta, Adamax, AdamW\n",
    "from keras.layers import MaxPooling2D, AveragePooling2D, Activation, Input, Concatenate\n",
    "from keras.utils import plot_model\n",
    "\n",
    "from imblearn.over_sampling import SMOTE\n",
    "from imblearn.under_sampling import RandomUnderSampler\n",
    "\n",
    "#Models of TINTOlib\n",
    "from TINTOlib.tinto import TINTO\n",
    "from TINTOlib.supertml import SuperTML\n",
    "from TINTOlib.igtd import IGTD\n",
    "from TINTOlib.refined import REFINED\n",
    "from TINTOlib.barGraph import BarGraph\n",
    "from TINTOlib.distanceMatrix import DistanceMatrix\n",
    "from TINTOlib.combination import Combination\n",
    "\n",
    "SEED = 64\n",
    "# SET RANDOM SEED FOR REPRODUCIBILITY\n",
    "#torch.manual_seed(SEED)\n",
    "#torch.cuda.manual_seed(SEED)\n",
    "#torch.cuda.manual_seed_all(SEED)\n",
    "#torch.backends.cudnn.deterministic = True\n",
    "#torch.backends.cudnn.benchmark = False\n",
    "os.environ['PYTHONHASHSEED']=str(SEED)\n",
    "random.seed(SEED)\n",
    "np.random.seed(SEED)\n",
    "tf.random.set_seed(SEED)"
   ]
  },
  {
   "cell_type": "markdown",
   "metadata": {
    "id": "NwS-cKUxjpDQ"
   },
   "source": [
    "---\n",
    "<div style=\"text-align: right\"> <font size=5> <a href=\"#indice\"><i class=\"fa fa-arrow-circle-up\" aria-hidden=\"true\" style=\"color:#004D7F\"></i></a></font></div>\n",
    "\n",
    "---"
   ]
  },
  {
   "cell_type": "markdown",
   "metadata": {
    "id": "aDL4LARWjpDT"
   },
   "source": [
    "<a id=\"section3\"></a>\n",
    "# <font color=\"#004D7F\" size=6> 3. Data processing</font>"
   ]
  },
  {
   "cell_type": "markdown",
   "metadata": {
    "id": "pLzynCxOpHBX"
   },
   "source": [
    "---\n",
    "<a id=\"section31\"></a>\n",
    "# <font color=\"#004D7F\" size=5> 3.1. TINTOlib methods</font>"
   ]
  },
  {
   "cell_type": "code",
   "execution_count": 2,
   "metadata": {},
   "outputs": [],
   "source": [
    "#Select the model and the parameters\n",
    "problem_type = \"supervised\"\n",
    "#problem_type = \"regression\"\n",
    "pixelTML = 30\n",
    "pixel = 20\n",
    "## zoom para ampliar la imagen\n",
    "image_model = REFINED(problem=problem_type, random_seed=SEED, zoom=4, n_processors=8)\n",
    "#image_model = TINTO(problem= problem_type, blur=True, option='mean', pixels=pixel, random_seed=SEED)\n",
    "# scale sería [7,4] porque hay 26 variables (para 24 pixeles); \n",
    "#image_model = IGTD(problem= problem_type, random_seed=SEED, scale=[3,3], zoom=4)\n",
    "#image_model = BarGraph(problem= problem_type, pixel_width=2, gap=1, zoom=1)\n",
    "#image_model = DistanceMatrix(problem= problem_type, zoom=4)\n",
    "#image_model = Combination(problem= problem_type, zoom=3)\n",
    "#image_model = SuperTML(problem= problem_type, pixels = pixelTML, font_size=4, feature_importance=True, random_seed=SEED)\n",
    "#image_model = SuperTML(problem= problem_type, pixels=pixel, font_size=3, random_seed=SEED)\n",
    "\n",
    "#Define the dataset path and the folder where the images will be saved\n",
    "results_folder = \"Refined\"\n",
    "dataset_path = \"../dataset_train.csv\"\n",
    "images_folder = \"Refined\"\n",
    "\n"
   ]
  },
  {
   "cell_type": "markdown",
   "metadata": {},
   "source": [
    "<div class=\"alert alert-block alert-info\">\n",
    "\n",
    "<i class=\"fa fa-info-circle\" aria-hidden=\"true\"></i>\n",
    "You can see all information about TINTOlib documentation in [PyPI](https://pypi.org/project/TINTOlib/)"
   ]
  },
  {
   "cell_type": "markdown",
   "metadata": {
    "id": "pLzynCxOpHBX"
   },
   "source": [
    "---\n",
    "<a id=\"section32\"></a>\n",
    "# <font color=\"#004D7F\" size=5> 3.2. Read the dataset</font>"
   ]
  },
  {
   "cell_type": "code",
   "execution_count": 3,
   "metadata": {},
   "outputs": [
    {
     "data": {
      "text/html": [
       "<div>\n",
       "<style scoped>\n",
       "    .dataframe tbody tr th:only-of-type {\n",
       "        vertical-align: middle;\n",
       "    }\n",
       "\n",
       "    .dataframe tbody tr th {\n",
       "        vertical-align: top;\n",
       "    }\n",
       "\n",
       "    .dataframe thead th {\n",
       "        text-align: right;\n",
       "    }\n",
       "</style>\n",
       "<table border=\"1\" class=\"dataframe\">\n",
       "  <thead>\n",
       "    <tr style=\"text-align: right;\">\n",
       "      <th></th>\n",
       "      <th>O3</th>\n",
       "      <th>TMP</th>\n",
       "      <th>RH</th>\n",
       "      <th>1/RH</th>\n",
       "      <th>WSP</th>\n",
       "      <th>WDR</th>\n",
       "      <th>class</th>\n",
       "    </tr>\n",
       "  </thead>\n",
       "  <tbody>\n",
       "    <tr>\n",
       "      <th>0</th>\n",
       "      <td>163.000000</td>\n",
       "      <td>28.2</td>\n",
       "      <td>17.0</td>\n",
       "      <td>0.058824</td>\n",
       "      <td>3.2</td>\n",
       "      <td>346.0</td>\n",
       "      <td>1</td>\n",
       "    </tr>\n",
       "    <tr>\n",
       "      <th>1</th>\n",
       "      <td>170.000000</td>\n",
       "      <td>28.9</td>\n",
       "      <td>23.0</td>\n",
       "      <td>0.043478</td>\n",
       "      <td>3.4</td>\n",
       "      <td>355.0</td>\n",
       "      <td>1</td>\n",
       "    </tr>\n",
       "    <tr>\n",
       "      <th>2</th>\n",
       "      <td>181.000000</td>\n",
       "      <td>28.9</td>\n",
       "      <td>28.0</td>\n",
       "      <td>0.035714</td>\n",
       "      <td>4.4</td>\n",
       "      <td>345.0</td>\n",
       "      <td>1</td>\n",
       "    </tr>\n",
       "    <tr>\n",
       "      <th>3</th>\n",
       "      <td>171.000000</td>\n",
       "      <td>27.4</td>\n",
       "      <td>32.0</td>\n",
       "      <td>0.031250</td>\n",
       "      <td>4.7</td>\n",
       "      <td>357.0</td>\n",
       "      <td>1</td>\n",
       "    </tr>\n",
       "    <tr>\n",
       "      <th>4</th>\n",
       "      <td>124.000000</td>\n",
       "      <td>26.0</td>\n",
       "      <td>37.0</td>\n",
       "      <td>0.027027</td>\n",
       "      <td>5.2</td>\n",
       "      <td>355.0</td>\n",
       "      <td>1</td>\n",
       "    </tr>\n",
       "    <tr>\n",
       "      <th>...</th>\n",
       "      <td>...</td>\n",
       "      <td>...</td>\n",
       "      <td>...</td>\n",
       "      <td>...</td>\n",
       "      <td>...</td>\n",
       "      <td>...</td>\n",
       "      <td>...</td>\n",
       "    </tr>\n",
       "    <tr>\n",
       "      <th>23804</th>\n",
       "      <td>25.000000</td>\n",
       "      <td>21.3</td>\n",
       "      <td>90.0</td>\n",
       "      <td>0.011111</td>\n",
       "      <td>4.6</td>\n",
       "      <td>358.0</td>\n",
       "      <td>0</td>\n",
       "    </tr>\n",
       "    <tr>\n",
       "      <th>23805</th>\n",
       "      <td>23.000000</td>\n",
       "      <td>20.6</td>\n",
       "      <td>89.0</td>\n",
       "      <td>0.011236</td>\n",
       "      <td>4.5</td>\n",
       "      <td>343.0</td>\n",
       "      <td>0</td>\n",
       "    </tr>\n",
       "    <tr>\n",
       "      <th>23806</th>\n",
       "      <td>21.285714</td>\n",
       "      <td>19.1</td>\n",
       "      <td>91.0</td>\n",
       "      <td>0.010989</td>\n",
       "      <td>3.9</td>\n",
       "      <td>359.0</td>\n",
       "      <td>0</td>\n",
       "    </tr>\n",
       "    <tr>\n",
       "      <th>23807</th>\n",
       "      <td>16.000000</td>\n",
       "      <td>18.9</td>\n",
       "      <td>91.0</td>\n",
       "      <td>0.010989</td>\n",
       "      <td>3.6</td>\n",
       "      <td>356.0</td>\n",
       "      <td>0</td>\n",
       "    </tr>\n",
       "    <tr>\n",
       "      <th>23808</th>\n",
       "      <td>20.000000</td>\n",
       "      <td>18.5</td>\n",
       "      <td>91.0</td>\n",
       "      <td>0.010989</td>\n",
       "      <td>3.3</td>\n",
       "      <td>356.0</td>\n",
       "      <td>0</td>\n",
       "    </tr>\n",
       "  </tbody>\n",
       "</table>\n",
       "<p>23809 rows × 7 columns</p>\n",
       "</div>"
      ],
      "text/plain": [
       "               O3   TMP    RH      1/RH  WSP    WDR  class\n",
       "0      163.000000  28.2  17.0  0.058824  3.2  346.0      1\n",
       "1      170.000000  28.9  23.0  0.043478  3.4  355.0      1\n",
       "2      181.000000  28.9  28.0  0.035714  4.4  345.0      1\n",
       "3      171.000000  27.4  32.0  0.031250  4.7  357.0      1\n",
       "4      124.000000  26.0  37.0  0.027027  5.2  355.0      1\n",
       "...           ...   ...   ...       ...  ...    ...    ...\n",
       "23804   25.000000  21.3  90.0  0.011111  4.6  358.0      0\n",
       "23805   23.000000  20.6  89.0  0.011236  4.5  343.0      0\n",
       "23806   21.285714  19.1  91.0  0.010989  3.9  359.0      0\n",
       "23807   16.000000  18.9  91.0  0.010989  3.6  356.0      0\n",
       "23808   20.000000  18.5  91.0  0.010989  3.3  356.0      0\n",
       "\n",
       "[23809 rows x 7 columns]"
      ]
     },
     "execution_count": 3,
     "metadata": {},
     "output_type": "execute_result"
    }
   ],
   "source": [
    "df=pd.read_csv(dataset_path)\n",
    "df"
   ]
  },
  {
   "cell_type": "code",
   "execution_count": 4,
   "metadata": {},
   "outputs": [
    {
     "name": "stdout",
     "output_type": "stream",
     "text": [
      "3\n"
     ]
    }
   ],
   "source": [
    "# Get the shape of the dataframe\n",
    "num_columns = df.shape[1]\n",
    "\n",
    "# Calculate number of columns - 1\n",
    "columns_minus_one = num_columns - 1\n",
    "\n",
    "# Calculate the square root for image size\n",
    "import math\n",
    "image_size = math.ceil(math.sqrt(columns_minus_one))\n",
    "print(image_size)"
   ]
  },
  {
   "cell_type": "markdown",
   "metadata": {},
   "source": [
    "---\n",
    "<a id=\"section33\"></a>\n",
    "# <font color=\"#004D7F\" size=5> 3.3. Generate images</font>"
   ]
  },
  {
   "cell_type": "code",
   "execution_count": 5,
   "metadata": {},
   "outputs": [
    {
     "data": {
      "text/html": [
       "<div>\n",
       "<style scoped>\n",
       "    .dataframe tbody tr th:only-of-type {\n",
       "        vertical-align: middle;\n",
       "    }\n",
       "\n",
       "    .dataframe tbody tr th {\n",
       "        vertical-align: top;\n",
       "    }\n",
       "\n",
       "    .dataframe thead th {\n",
       "        text-align: right;\n",
       "    }\n",
       "</style>\n",
       "<table border=\"1\" class=\"dataframe\">\n",
       "  <thead>\n",
       "    <tr style=\"text-align: right;\">\n",
       "      <th></th>\n",
       "      <th>O3</th>\n",
       "      <th>TMP</th>\n",
       "      <th>RH</th>\n",
       "      <th>1/RH</th>\n",
       "      <th>WSP</th>\n",
       "      <th>WDR</th>\n",
       "      <th>class</th>\n",
       "    </tr>\n",
       "  </thead>\n",
       "  <tbody>\n",
       "    <tr>\n",
       "      <th>0</th>\n",
       "      <td>0.772947</td>\n",
       "      <td>0.752613</td>\n",
       "      <td>0.126316</td>\n",
       "      <td>0.256966</td>\n",
       "      <td>0.247664</td>\n",
       "      <td>0.952542</td>\n",
       "      <td>1</td>\n",
       "    </tr>\n",
       "    <tr>\n",
       "      <th>1</th>\n",
       "      <td>0.806763</td>\n",
       "      <td>0.777003</td>\n",
       "      <td>0.189474</td>\n",
       "      <td>0.176201</td>\n",
       "      <td>0.269470</td>\n",
       "      <td>0.983051</td>\n",
       "      <td>1</td>\n",
       "    </tr>\n",
       "  </tbody>\n",
       "</table>\n",
       "</div>"
      ],
      "text/plain": [
       "         O3       TMP        RH      1/RH       WSP       WDR  class\n",
       "0  0.772947  0.752613  0.126316  0.256966  0.247664  0.952542      1\n",
       "1  0.806763  0.777003  0.189474  0.176201  0.269470  0.983051      1"
      ]
     },
     "execution_count": 5,
     "metadata": {},
     "output_type": "execute_result"
    }
   ],
   "source": [
    "# Select all the attributes to normalize\n",
    "columns_to_normalize = df.columns[:-1]\n",
    "\n",
    "# Normalize between 0 and 1\n",
    "df_normalized = (df[columns_to_normalize] - df[columns_to_normalize].min()) / (df[columns_to_normalize].max() - df[columns_to_normalize].min())\n",
    "\n",
    "# Combine the attributes and the label\n",
    "df_normalized = pd.concat([df_normalized, df[df.columns[-1]]], axis=1)\n",
    "\n",
    "df_normalized.head(2)"
   ]
  },
  {
   "cell_type": "code",
   "execution_count": 6,
   "metadata": {},
   "outputs": [
    {
     "name": "stdout",
     "output_type": "stream",
     "text": [
      "The images are already generated\n",
      "Refined/supervised.csv\n"
     ]
    }
   ],
   "source": [
    "import os\n",
    "\n",
    "# Generate the images if the folder does not exist\n",
    "if not os.path.exists(images_folder):\n",
    "    #Generate thet images\n",
    "    image_model.generateImages(df_normalized, images_folder)\n",
    "else:\n",
    "    print(\"The images are already generated\")\n",
    "\n",
    "img_paths = os.path.join(images_folder,problem_type+\".csv\")\n",
    "\n",
    "print(img_paths)"
   ]
  },
  {
   "cell_type": "markdown",
   "metadata": {},
   "source": [
    "<a id=\"section34\"></a>\n",
    "# <font color=\"#004D7F\" size=5> 3.4. Read images</font>"
   ]
  },
  {
   "cell_type": "markdown",
   "metadata": {},
   "source": [
    "Once the images have been created we can read them. In this particular case, by using a pure CNN, we will use the images only to train our model."
   ]
  },
  {
   "cell_type": "code",
   "execution_count": 7,
   "metadata": {},
   "outputs": [
    {
     "data": {
      "text/html": [
       "<div>\n",
       "<style scoped>\n",
       "    .dataframe tbody tr th:only-of-type {\n",
       "        vertical-align: middle;\n",
       "    }\n",
       "\n",
       "    .dataframe tbody tr th {\n",
       "        vertical-align: top;\n",
       "    }\n",
       "\n",
       "    .dataframe thead th {\n",
       "        text-align: right;\n",
       "    }\n",
       "</style>\n",
       "<table border=\"1\" class=\"dataframe\">\n",
       "  <thead>\n",
       "    <tr style=\"text-align: right;\">\n",
       "      <th></th>\n",
       "      <th>images</th>\n",
       "      <th>values</th>\n",
       "    </tr>\n",
       "  </thead>\n",
       "  <tbody>\n",
       "    <tr>\n",
       "      <th>0</th>\n",
       "      <td>Refined/01/000000.png</td>\n",
       "      <td>1</td>\n",
       "    </tr>\n",
       "    <tr>\n",
       "      <th>1</th>\n",
       "      <td>Refined/01/000001.png</td>\n",
       "      <td>1</td>\n",
       "    </tr>\n",
       "    <tr>\n",
       "      <th>2</th>\n",
       "      <td>Refined/01/000002.png</td>\n",
       "      <td>1</td>\n",
       "    </tr>\n",
       "    <tr>\n",
       "      <th>3</th>\n",
       "      <td>Refined/01/000003.png</td>\n",
       "      <td>1</td>\n",
       "    </tr>\n",
       "    <tr>\n",
       "      <th>4</th>\n",
       "      <td>Refined/01/000004.png</td>\n",
       "      <td>1</td>\n",
       "    </tr>\n",
       "    <tr>\n",
       "      <th>...</th>\n",
       "      <td>...</td>\n",
       "      <td>...</td>\n",
       "    </tr>\n",
       "    <tr>\n",
       "      <th>23804</th>\n",
       "      <td>Refined/00/023804.png</td>\n",
       "      <td>0</td>\n",
       "    </tr>\n",
       "    <tr>\n",
       "      <th>23805</th>\n",
       "      <td>Refined/00/023805.png</td>\n",
       "      <td>0</td>\n",
       "    </tr>\n",
       "    <tr>\n",
       "      <th>23806</th>\n",
       "      <td>Refined/00/023806.png</td>\n",
       "      <td>0</td>\n",
       "    </tr>\n",
       "    <tr>\n",
       "      <th>23807</th>\n",
       "      <td>Refined/00/023807.png</td>\n",
       "      <td>0</td>\n",
       "    </tr>\n",
       "    <tr>\n",
       "      <th>23808</th>\n",
       "      <td>Refined/00/023808.png</td>\n",
       "      <td>0</td>\n",
       "    </tr>\n",
       "  </tbody>\n",
       "</table>\n",
       "<p>23809 rows × 2 columns</p>\n",
       "</div>"
      ],
      "text/plain": [
       "                      images  values\n",
       "0      Refined/01/000000.png       1\n",
       "1      Refined/01/000001.png       1\n",
       "2      Refined/01/000002.png       1\n",
       "3      Refined/01/000003.png       1\n",
       "4      Refined/01/000004.png       1\n",
       "...                      ...     ...\n",
       "23804  Refined/00/023804.png       0\n",
       "23805  Refined/00/023805.png       0\n",
       "23806  Refined/00/023806.png       0\n",
       "23807  Refined/00/023807.png       0\n",
       "23808  Refined/00/023808.png       0\n",
       "\n",
       "[23809 rows x 2 columns]"
      ]
     },
     "execution_count": 7,
     "metadata": {},
     "output_type": "execute_result"
    }
   ],
   "source": [
    "imgs = pd.read_csv(img_paths)\n",
    "\n",
    "#imgs[\"images\"]= images_folder + \"\\\\\" + imgs[\"images\"]\n",
    "imgs[\"images\"]= images_folder + \"/\" + imgs[\"images\"]\n",
    "imgs = imgs.rename(columns={\"class\":\"values\"})\n",
    "imgs"
   ]
  },
  {
   "cell_type": "markdown",
   "metadata": {},
   "source": [
    "---\n",
    "<a id=\"section35\"></a>\n",
    "# <font color=\"#004D7F\" size=5> 3.5. Mix images and tidy data</font>\n",
    "\n",
    "If we want to use hybrid networks, i.e. create a model in which we join a CNN for the images and a MLP for the tabular data, we need to join it in order to integrate all the data in our hybrid model.\n"
   ]
  },
  {
   "cell_type": "code",
   "execution_count": 8,
   "metadata": {},
   "outputs": [
    {
     "data": {
      "text/html": [
       "<div>\n",
       "<style scoped>\n",
       "    .dataframe tbody tr th:only-of-type {\n",
       "        vertical-align: middle;\n",
       "    }\n",
       "\n",
       "    .dataframe tbody tr th {\n",
       "        vertical-align: top;\n",
       "    }\n",
       "\n",
       "    .dataframe thead th {\n",
       "        text-align: right;\n",
       "    }\n",
       "</style>\n",
       "<table border=\"1\" class=\"dataframe\">\n",
       "  <thead>\n",
       "    <tr style=\"text-align: right;\">\n",
       "      <th></th>\n",
       "      <th>O3</th>\n",
       "      <th>TMP</th>\n",
       "      <th>RH</th>\n",
       "      <th>1/RH</th>\n",
       "      <th>WSP</th>\n",
       "      <th>WDR</th>\n",
       "      <th>class</th>\n",
       "    </tr>\n",
       "  </thead>\n",
       "  <tbody>\n",
       "    <tr>\n",
       "      <th>0</th>\n",
       "      <td>163.000000</td>\n",
       "      <td>28.2</td>\n",
       "      <td>17.0</td>\n",
       "      <td>0.058824</td>\n",
       "      <td>3.2</td>\n",
       "      <td>346.0</td>\n",
       "      <td>1</td>\n",
       "    </tr>\n",
       "    <tr>\n",
       "      <th>1</th>\n",
       "      <td>170.000000</td>\n",
       "      <td>28.9</td>\n",
       "      <td>23.0</td>\n",
       "      <td>0.043478</td>\n",
       "      <td>3.4</td>\n",
       "      <td>355.0</td>\n",
       "      <td>1</td>\n",
       "    </tr>\n",
       "    <tr>\n",
       "      <th>2</th>\n",
       "      <td>181.000000</td>\n",
       "      <td>28.9</td>\n",
       "      <td>28.0</td>\n",
       "      <td>0.035714</td>\n",
       "      <td>4.4</td>\n",
       "      <td>345.0</td>\n",
       "      <td>1</td>\n",
       "    </tr>\n",
       "    <tr>\n",
       "      <th>3</th>\n",
       "      <td>171.000000</td>\n",
       "      <td>27.4</td>\n",
       "      <td>32.0</td>\n",
       "      <td>0.031250</td>\n",
       "      <td>4.7</td>\n",
       "      <td>357.0</td>\n",
       "      <td>1</td>\n",
       "    </tr>\n",
       "    <tr>\n",
       "      <th>4</th>\n",
       "      <td>124.000000</td>\n",
       "      <td>26.0</td>\n",
       "      <td>37.0</td>\n",
       "      <td>0.027027</td>\n",
       "      <td>5.2</td>\n",
       "      <td>355.0</td>\n",
       "      <td>1</td>\n",
       "    </tr>\n",
       "    <tr>\n",
       "      <th>...</th>\n",
       "      <td>...</td>\n",
       "      <td>...</td>\n",
       "      <td>...</td>\n",
       "      <td>...</td>\n",
       "      <td>...</td>\n",
       "      <td>...</td>\n",
       "      <td>...</td>\n",
       "    </tr>\n",
       "    <tr>\n",
       "      <th>23804</th>\n",
       "      <td>25.000000</td>\n",
       "      <td>21.3</td>\n",
       "      <td>90.0</td>\n",
       "      <td>0.011111</td>\n",
       "      <td>4.6</td>\n",
       "      <td>358.0</td>\n",
       "      <td>0</td>\n",
       "    </tr>\n",
       "    <tr>\n",
       "      <th>23805</th>\n",
       "      <td>23.000000</td>\n",
       "      <td>20.6</td>\n",
       "      <td>89.0</td>\n",
       "      <td>0.011236</td>\n",
       "      <td>4.5</td>\n",
       "      <td>343.0</td>\n",
       "      <td>0</td>\n",
       "    </tr>\n",
       "    <tr>\n",
       "      <th>23806</th>\n",
       "      <td>21.285714</td>\n",
       "      <td>19.1</td>\n",
       "      <td>91.0</td>\n",
       "      <td>0.010989</td>\n",
       "      <td>3.9</td>\n",
       "      <td>359.0</td>\n",
       "      <td>0</td>\n",
       "    </tr>\n",
       "    <tr>\n",
       "      <th>23807</th>\n",
       "      <td>16.000000</td>\n",
       "      <td>18.9</td>\n",
       "      <td>91.0</td>\n",
       "      <td>0.010989</td>\n",
       "      <td>3.6</td>\n",
       "      <td>356.0</td>\n",
       "      <td>0</td>\n",
       "    </tr>\n",
       "    <tr>\n",
       "      <th>23808</th>\n",
       "      <td>20.000000</td>\n",
       "      <td>18.5</td>\n",
       "      <td>91.0</td>\n",
       "      <td>0.010989</td>\n",
       "      <td>3.3</td>\n",
       "      <td>356.0</td>\n",
       "      <td>0</td>\n",
       "    </tr>\n",
       "  </tbody>\n",
       "</table>\n",
       "<p>23809 rows × 7 columns</p>\n",
       "</div>"
      ],
      "text/plain": [
       "               O3   TMP    RH      1/RH  WSP    WDR  class\n",
       "0      163.000000  28.2  17.0  0.058824  3.2  346.0      1\n",
       "1      170.000000  28.9  23.0  0.043478  3.4  355.0      1\n",
       "2      181.000000  28.9  28.0  0.035714  4.4  345.0      1\n",
       "3      171.000000  27.4  32.0  0.031250  4.7  357.0      1\n",
       "4      124.000000  26.0  37.0  0.027027  5.2  355.0      1\n",
       "...           ...   ...   ...       ...  ...    ...    ...\n",
       "23804   25.000000  21.3  90.0  0.011111  4.6  358.0      0\n",
       "23805   23.000000  20.6  89.0  0.011236  4.5  343.0      0\n",
       "23806   21.285714  19.1  91.0  0.010989  3.9  359.0      0\n",
       "23807   16.000000  18.9  91.0  0.010989  3.6  356.0      0\n",
       "23808   20.000000  18.5  91.0  0.010989  3.3  356.0      0\n",
       "\n",
       "[23809 rows x 7 columns]"
      ]
     },
     "execution_count": 8,
     "metadata": {},
     "output_type": "execute_result"
    }
   ],
   "source": [
    "df"
   ]
  },
  {
   "cell_type": "code",
   "execution_count": 9,
   "metadata": {},
   "outputs": [
    {
     "data": {
      "text/html": [
       "<div>\n",
       "<style scoped>\n",
       "    .dataframe tbody tr th:only-of-type {\n",
       "        vertical-align: middle;\n",
       "    }\n",
       "\n",
       "    .dataframe tbody tr th {\n",
       "        vertical-align: top;\n",
       "    }\n",
       "\n",
       "    .dataframe thead th {\n",
       "        text-align: right;\n",
       "    }\n",
       "</style>\n",
       "<table border=\"1\" class=\"dataframe\">\n",
       "  <thead>\n",
       "    <tr style=\"text-align: right;\">\n",
       "      <th></th>\n",
       "      <th>images</th>\n",
       "      <th>O3</th>\n",
       "      <th>TMP</th>\n",
       "      <th>RH</th>\n",
       "      <th>1/RH</th>\n",
       "      <th>WSP</th>\n",
       "      <th>WDR</th>\n",
       "    </tr>\n",
       "  </thead>\n",
       "  <tbody>\n",
       "    <tr>\n",
       "      <th>0</th>\n",
       "      <td>Refined/01/000000.png</td>\n",
       "      <td>163.000000</td>\n",
       "      <td>28.2</td>\n",
       "      <td>17.0</td>\n",
       "      <td>0.058824</td>\n",
       "      <td>3.2</td>\n",
       "      <td>346.0</td>\n",
       "    </tr>\n",
       "    <tr>\n",
       "      <th>1</th>\n",
       "      <td>Refined/01/000001.png</td>\n",
       "      <td>170.000000</td>\n",
       "      <td>28.9</td>\n",
       "      <td>23.0</td>\n",
       "      <td>0.043478</td>\n",
       "      <td>3.4</td>\n",
       "      <td>355.0</td>\n",
       "    </tr>\n",
       "    <tr>\n",
       "      <th>2</th>\n",
       "      <td>Refined/01/000002.png</td>\n",
       "      <td>181.000000</td>\n",
       "      <td>28.9</td>\n",
       "      <td>28.0</td>\n",
       "      <td>0.035714</td>\n",
       "      <td>4.4</td>\n",
       "      <td>345.0</td>\n",
       "    </tr>\n",
       "    <tr>\n",
       "      <th>3</th>\n",
       "      <td>Refined/01/000003.png</td>\n",
       "      <td>171.000000</td>\n",
       "      <td>27.4</td>\n",
       "      <td>32.0</td>\n",
       "      <td>0.031250</td>\n",
       "      <td>4.7</td>\n",
       "      <td>357.0</td>\n",
       "    </tr>\n",
       "    <tr>\n",
       "      <th>4</th>\n",
       "      <td>Refined/01/000004.png</td>\n",
       "      <td>124.000000</td>\n",
       "      <td>26.0</td>\n",
       "      <td>37.0</td>\n",
       "      <td>0.027027</td>\n",
       "      <td>5.2</td>\n",
       "      <td>355.0</td>\n",
       "    </tr>\n",
       "    <tr>\n",
       "      <th>...</th>\n",
       "      <td>...</td>\n",
       "      <td>...</td>\n",
       "      <td>...</td>\n",
       "      <td>...</td>\n",
       "      <td>...</td>\n",
       "      <td>...</td>\n",
       "      <td>...</td>\n",
       "    </tr>\n",
       "    <tr>\n",
       "      <th>23804</th>\n",
       "      <td>Refined/00/023804.png</td>\n",
       "      <td>25.000000</td>\n",
       "      <td>21.3</td>\n",
       "      <td>90.0</td>\n",
       "      <td>0.011111</td>\n",
       "      <td>4.6</td>\n",
       "      <td>358.0</td>\n",
       "    </tr>\n",
       "    <tr>\n",
       "      <th>23805</th>\n",
       "      <td>Refined/00/023805.png</td>\n",
       "      <td>23.000000</td>\n",
       "      <td>20.6</td>\n",
       "      <td>89.0</td>\n",
       "      <td>0.011236</td>\n",
       "      <td>4.5</td>\n",
       "      <td>343.0</td>\n",
       "    </tr>\n",
       "    <tr>\n",
       "      <th>23806</th>\n",
       "      <td>Refined/00/023806.png</td>\n",
       "      <td>21.285714</td>\n",
       "      <td>19.1</td>\n",
       "      <td>91.0</td>\n",
       "      <td>0.010989</td>\n",
       "      <td>3.9</td>\n",
       "      <td>359.0</td>\n",
       "    </tr>\n",
       "    <tr>\n",
       "      <th>23807</th>\n",
       "      <td>Refined/00/023807.png</td>\n",
       "      <td>16.000000</td>\n",
       "      <td>18.9</td>\n",
       "      <td>91.0</td>\n",
       "      <td>0.010989</td>\n",
       "      <td>3.6</td>\n",
       "      <td>356.0</td>\n",
       "    </tr>\n",
       "    <tr>\n",
       "      <th>23808</th>\n",
       "      <td>Refined/00/023808.png</td>\n",
       "      <td>20.000000</td>\n",
       "      <td>18.5</td>\n",
       "      <td>91.0</td>\n",
       "      <td>0.010989</td>\n",
       "      <td>3.3</td>\n",
       "      <td>356.0</td>\n",
       "    </tr>\n",
       "  </tbody>\n",
       "</table>\n",
       "<p>23809 rows × 7 columns</p>\n",
       "</div>"
      ],
      "text/plain": [
       "                      images          O3   TMP    RH      1/RH  WSP    WDR\n",
       "0      Refined/01/000000.png  163.000000  28.2  17.0  0.058824  3.2  346.0\n",
       "1      Refined/01/000001.png  170.000000  28.9  23.0  0.043478  3.4  355.0\n",
       "2      Refined/01/000002.png  181.000000  28.9  28.0  0.035714  4.4  345.0\n",
       "3      Refined/01/000003.png  171.000000  27.4  32.0  0.031250  4.7  357.0\n",
       "4      Refined/01/000004.png  124.000000  26.0  37.0  0.027027  5.2  355.0\n",
       "...                      ...         ...   ...   ...       ...  ...    ...\n",
       "23804  Refined/00/023804.png   25.000000  21.3  90.0  0.011111  4.6  358.0\n",
       "23805  Refined/00/023805.png   23.000000  20.6  89.0  0.011236  4.5  343.0\n",
       "23806  Refined/00/023806.png   21.285714  19.1  91.0  0.010989  3.9  359.0\n",
       "23807  Refined/00/023807.png   16.000000  18.9  91.0  0.010989  3.6  356.0\n",
       "23808  Refined/00/023808.png   20.000000  18.5  91.0  0.010989  3.3  356.0\n",
       "\n",
       "[23809 rows x 7 columns]"
      ]
     },
     "execution_count": 9,
     "metadata": {},
     "output_type": "execute_result"
    }
   ],
   "source": [
    "combined_dataset = pd.concat([imgs,df],axis=1)\n",
    "# Drop target column and values which is a copy of target column\n",
    "df_x = combined_dataset.drop(df.columns[-1],axis=1).drop(\"values\",axis=1)\n",
    "df_y = combined_dataset[\"values\"]\n",
    "\n",
    "df_x"
   ]
  },
  {
   "cell_type": "code",
   "execution_count": 10,
   "metadata": {},
   "outputs": [
    {
     "data": {
      "text/html": [
       "<div>\n",
       "<style scoped>\n",
       "    .dataframe tbody tr th:only-of-type {\n",
       "        vertical-align: middle;\n",
       "    }\n",
       "\n",
       "    .dataframe tbody tr th {\n",
       "        vertical-align: top;\n",
       "    }\n",
       "\n",
       "    .dataframe thead th {\n",
       "        text-align: right;\n",
       "    }\n",
       "</style>\n",
       "<table border=\"1\" class=\"dataframe\">\n",
       "  <thead>\n",
       "    <tr style=\"text-align: right;\">\n",
       "      <th></th>\n",
       "      <th>images</th>\n",
       "      <th>values</th>\n",
       "      <th>O3</th>\n",
       "      <th>TMP</th>\n",
       "      <th>RH</th>\n",
       "      <th>1/RH</th>\n",
       "      <th>WSP</th>\n",
       "      <th>WDR</th>\n",
       "      <th>class</th>\n",
       "    </tr>\n",
       "  </thead>\n",
       "  <tbody>\n",
       "    <tr>\n",
       "      <th>0</th>\n",
       "      <td>Refined/01/000000.png</td>\n",
       "      <td>1</td>\n",
       "      <td>163.000000</td>\n",
       "      <td>28.2</td>\n",
       "      <td>17.0</td>\n",
       "      <td>0.058824</td>\n",
       "      <td>3.2</td>\n",
       "      <td>346.0</td>\n",
       "      <td>1</td>\n",
       "    </tr>\n",
       "    <tr>\n",
       "      <th>1</th>\n",
       "      <td>Refined/01/000001.png</td>\n",
       "      <td>1</td>\n",
       "      <td>170.000000</td>\n",
       "      <td>28.9</td>\n",
       "      <td>23.0</td>\n",
       "      <td>0.043478</td>\n",
       "      <td>3.4</td>\n",
       "      <td>355.0</td>\n",
       "      <td>1</td>\n",
       "    </tr>\n",
       "    <tr>\n",
       "      <th>2</th>\n",
       "      <td>Refined/01/000002.png</td>\n",
       "      <td>1</td>\n",
       "      <td>181.000000</td>\n",
       "      <td>28.9</td>\n",
       "      <td>28.0</td>\n",
       "      <td>0.035714</td>\n",
       "      <td>4.4</td>\n",
       "      <td>345.0</td>\n",
       "      <td>1</td>\n",
       "    </tr>\n",
       "    <tr>\n",
       "      <th>3</th>\n",
       "      <td>Refined/01/000003.png</td>\n",
       "      <td>1</td>\n",
       "      <td>171.000000</td>\n",
       "      <td>27.4</td>\n",
       "      <td>32.0</td>\n",
       "      <td>0.031250</td>\n",
       "      <td>4.7</td>\n",
       "      <td>357.0</td>\n",
       "      <td>1</td>\n",
       "    </tr>\n",
       "    <tr>\n",
       "      <th>4</th>\n",
       "      <td>Refined/01/000004.png</td>\n",
       "      <td>1</td>\n",
       "      <td>124.000000</td>\n",
       "      <td>26.0</td>\n",
       "      <td>37.0</td>\n",
       "      <td>0.027027</td>\n",
       "      <td>5.2</td>\n",
       "      <td>355.0</td>\n",
       "      <td>1</td>\n",
       "    </tr>\n",
       "    <tr>\n",
       "      <th>...</th>\n",
       "      <td>...</td>\n",
       "      <td>...</td>\n",
       "      <td>...</td>\n",
       "      <td>...</td>\n",
       "      <td>...</td>\n",
       "      <td>...</td>\n",
       "      <td>...</td>\n",
       "      <td>...</td>\n",
       "      <td>...</td>\n",
       "    </tr>\n",
       "    <tr>\n",
       "      <th>23804</th>\n",
       "      <td>Refined/00/023804.png</td>\n",
       "      <td>0</td>\n",
       "      <td>25.000000</td>\n",
       "      <td>21.3</td>\n",
       "      <td>90.0</td>\n",
       "      <td>0.011111</td>\n",
       "      <td>4.6</td>\n",
       "      <td>358.0</td>\n",
       "      <td>0</td>\n",
       "    </tr>\n",
       "    <tr>\n",
       "      <th>23805</th>\n",
       "      <td>Refined/00/023805.png</td>\n",
       "      <td>0</td>\n",
       "      <td>23.000000</td>\n",
       "      <td>20.6</td>\n",
       "      <td>89.0</td>\n",
       "      <td>0.011236</td>\n",
       "      <td>4.5</td>\n",
       "      <td>343.0</td>\n",
       "      <td>0</td>\n",
       "    </tr>\n",
       "    <tr>\n",
       "      <th>23806</th>\n",
       "      <td>Refined/00/023806.png</td>\n",
       "      <td>0</td>\n",
       "      <td>21.285714</td>\n",
       "      <td>19.1</td>\n",
       "      <td>91.0</td>\n",
       "      <td>0.010989</td>\n",
       "      <td>3.9</td>\n",
       "      <td>359.0</td>\n",
       "      <td>0</td>\n",
       "    </tr>\n",
       "    <tr>\n",
       "      <th>23807</th>\n",
       "      <td>Refined/00/023807.png</td>\n",
       "      <td>0</td>\n",
       "      <td>16.000000</td>\n",
       "      <td>18.9</td>\n",
       "      <td>91.0</td>\n",
       "      <td>0.010989</td>\n",
       "      <td>3.6</td>\n",
       "      <td>356.0</td>\n",
       "      <td>0</td>\n",
       "    </tr>\n",
       "    <tr>\n",
       "      <th>23808</th>\n",
       "      <td>Refined/00/023808.png</td>\n",
       "      <td>0</td>\n",
       "      <td>20.000000</td>\n",
       "      <td>18.5</td>\n",
       "      <td>91.0</td>\n",
       "      <td>0.010989</td>\n",
       "      <td>3.3</td>\n",
       "      <td>356.0</td>\n",
       "      <td>0</td>\n",
       "    </tr>\n",
       "  </tbody>\n",
       "</table>\n",
       "<p>23809 rows × 9 columns</p>\n",
       "</div>"
      ],
      "text/plain": [
       "                      images  values          O3   TMP    RH      1/RH  WSP  \\\n",
       "0      Refined/01/000000.png       1  163.000000  28.2  17.0  0.058824  3.2   \n",
       "1      Refined/01/000001.png       1  170.000000  28.9  23.0  0.043478  3.4   \n",
       "2      Refined/01/000002.png       1  181.000000  28.9  28.0  0.035714  4.4   \n",
       "3      Refined/01/000003.png       1  171.000000  27.4  32.0  0.031250  4.7   \n",
       "4      Refined/01/000004.png       1  124.000000  26.0  37.0  0.027027  5.2   \n",
       "...                      ...     ...         ...   ...   ...       ...  ...   \n",
       "23804  Refined/00/023804.png       0   25.000000  21.3  90.0  0.011111  4.6   \n",
       "23805  Refined/00/023805.png       0   23.000000  20.6  89.0  0.011236  4.5   \n",
       "23806  Refined/00/023806.png       0   21.285714  19.1  91.0  0.010989  3.9   \n",
       "23807  Refined/00/023807.png       0   16.000000  18.9  91.0  0.010989  3.6   \n",
       "23808  Refined/00/023808.png       0   20.000000  18.5  91.0  0.010989  3.3   \n",
       "\n",
       "         WDR  class  \n",
       "0      346.0      1  \n",
       "1      355.0      1  \n",
       "2      345.0      1  \n",
       "3      357.0      1  \n",
       "4      355.0      1  \n",
       "...      ...    ...  \n",
       "23804  358.0      0  \n",
       "23805  343.0      0  \n",
       "23806  359.0      0  \n",
       "23807  356.0      0  \n",
       "23808  356.0      0  \n",
       "\n",
       "[23809 rows x 9 columns]"
      ]
     },
     "execution_count": 10,
     "metadata": {},
     "output_type": "execute_result"
    }
   ],
   "source": [
    "combined_dataset"
   ]
  },
  {
   "cell_type": "markdown",
   "metadata": {},
   "source": [
    "---\n",
    "<div style=\"text-align: right\"> <font size=5> <a href=\"#indice\"><i class=\"fa fa-arrow-circle-up\" aria-hidden=\"true\" style=\"color:#004D7F\"></i></a></font></div>\n",
    "\n",
    "---"
   ]
  },
  {
   "cell_type": "markdown",
   "metadata": {},
   "source": [
    "<a id=\"section4\"></a>\n",
    "# <font color=\"#004D7F\" size=6> 4. Pre-modelling phase</font>"
   ]
  },
  {
   "cell_type": "markdown",
   "metadata": {},
   "source": [
    "Once the data is ready, we load it into memory with an iterator in order to pass it to the CNN."
   ]
  },
  {
   "cell_type": "markdown",
   "metadata": {},
   "source": [
    "---\n",
    "<a id=\"section41\"></a>\n",
    "# <font color=\"#004D7F\" size=5> 4.1. Data curation</font>"
   ]
  },
  {
   "cell_type": "markdown",
   "metadata": {},
   "source": [
    "Split in train/test/validation"
   ]
  },
  {
   "cell_type": "code",
   "execution_count": 11,
   "metadata": {},
   "outputs": [
    {
     "name": "stdout",
     "output_type": "stream",
     "text": [
      "Images shape:  (12, 12, 3)\n",
      "Attributres:  6\n",
      "Image size (pixels): 12\n"
     ]
    }
   ],
   "source": [
    "import cv2\n",
    "from sklearn.preprocessing import MinMaxScaler\n",
    "X_train, X_val, y_train, y_val = train_test_split(df_x, df_y, test_size = 0.30, random_state=SEED,stratify=df_y)\n",
    "X_val, X_test, y_val, y_test = train_test_split(X_val, y_val, test_size = 0.50, random_state=SEED,stratify=y_val)\n",
    "\n",
    "#TIDY DATA SPLITTED\n",
    "X_train_num = X_train.drop(\"images\",axis=1)\n",
    "X_val_num = X_val.drop(\"images\",axis=1)\n",
    "X_test_num = X_test.drop(\"images\",axis=1)\n",
    "\n",
    "#IMAGES\n",
    "# For 3 channels (RGB)\n",
    "X_train_img = np.array([cv2.imread(img) for img in X_train[\"images\"]])\n",
    "X_val_img = np.array([cv2.imread(img) for img in X_val[\"images\"]])\n",
    "X_test_img = np.array([cv2.imread(img) for img in X_test[\"images\"]])\n",
    "\n",
    "# For 1 channels (GRAY SCALE)\n",
    "\"\"\"X_train_img = np.array([cv2.imread(img,cv2.IMREAD_GRAYSCALE) for img in X_train[\"images\"]])\n",
    "X_val_img = np.array([cv2.imread(img,cv2.IMREAD_GRAYSCALE) for img in X_val[\"images\"]])\n",
    "X_test_img = np.array([cv2.imread(img,cv2.IMREAD_GRAYSCALE) for img in X_test[\"images\"]])\"\"\"\n",
    "\n",
    "# Create a MinMaxScaler object\n",
    "scaler = MinMaxScaler()\n",
    "\n",
    "# Scale numerical data\n",
    "X_train_num = scaler.fit_transform(X_train_num)\n",
    "X_val_num = scaler.transform(X_val_num)\n",
    "X_test_num = scaler.transform(X_test_num)\n",
    "\n",
    "attributes = X_train_num.shape[1]\n",
    "height, width, channels = X_train_img[0].shape\n",
    "#channels=3\n",
    "imgs_shape = (height, width, channels)\n",
    "\n",
    "print(\"Images shape: \",imgs_shape)\n",
    "print(\"Attributres: \",attributes)\n",
    "pixel=X_train_img[0].shape[0]\n",
    "print(\"Image size (pixels):\", pixel)"
   ]
  },
  {
   "cell_type": "code",
   "execution_count": 12,
   "metadata": {},
   "outputs": [
    {
     "data": {
      "image/png": "[encoded data removed]",
      "text/plain": [
       "<Figure size 640x480 with 1 Axes>"
      ]
     },
     "metadata": {},
     "output_type": "display_data"
    }
   ],
   "source": [
    "# Plot an example image (e.g., the first image in the array)\n",
    "example_image = X_train_img[0]\n",
    "\n",
    "# Convert the image from BGR (OpenCV default) to RGB for correct color display\n",
    "example_image_rgb = cv2.cvtColor(example_image, cv2.COLOR_BGR2RGB)\n",
    "\n",
    "# Display the image using matplotlib\n",
    "plt.imshow(example_image_rgb)\n",
    "plt.title(\"Example Image from X_train\")\n",
    "plt.axis('off')  # Hide the axis for a cleaner look\n",
    "plt.show()"
   ]
  },
  {
   "cell_type": "markdown",
   "metadata": {},
   "source": [
    "In our case, as we are going to train with a pre-trained network, we must resize it to the dimensions established by the network. Therefore, if you make a customised CNN, this cell is optional. "
   ]
  },
  {
   "cell_type": "code",
   "execution_count": 13,
   "metadata": {},
   "outputs": [],
   "source": [
    "X_train_img = X_train_img/255\n",
    "X_val_img = X_val_img/255\n",
    "X_test_img = X_test_img/255"
   ]
  },
  {
   "cell_type": "markdown",
   "metadata": {
    "id": "xagy7N7ijpEX"
   },
   "source": [
    "---\n",
    "<div style=\"text-align: right\"> <font size=5> <a href=\"#indice\"><i class=\"fa fa-arrow-circle-up\" aria-hidden=\"true\" style=\"color:#004D7F\"></i></a></font></div>\n",
    "\n",
    "---"
   ]
  },
  {
   "cell_type": "markdown",
   "metadata": {
    "id": "rE0VunQYjpEY"
   },
   "source": [
    "<a id=\"section5\"></a>\n",
    "# <font color=\"#004D7F\" size=6> 5. Modelling with CNN</font>"
   ]
  },
  {
   "cell_type": "markdown",
   "metadata": {
    "id": "Qn2U90FwjpEe"
   },
   "source": [
    "<a id=\"section51\"></a>\n",
    "# <font color=\"#004D7F\" size=5> 5.1. CNN</font>"
   ]
  },
  {
   "cell_type": "code",
   "execution_count": 14,
   "metadata": {
    "id": "tZl0AETUw1r8"
   },
   "outputs": [
    {
     "data": {
      "text/plain": [
       "2"
      ]
     },
     "execution_count": 14,
     "metadata": {},
     "output_type": "execute_result"
    }
   ],
   "source": [
    "dropout = 0.2\n",
    "epochs = 100\n",
    "n_class = df['class'].value_counts().count()\n",
    "n_class"
   ]
  },
  {
   "cell_type": "markdown",
   "metadata": {},
   "source": [
    "<div class=\"alert alert-block alert-info\">\n",
    "\n",
    "<i class=\"fa fa-info-circle\" aria-hidden=\"true\"></i>\n",
    "💡 **Important**: `padding=\"same\"` is very important to avoid losing the first/last row/column of pixels. Keep in mind that the images have a small size.\n"
   ]
  },
  {
   "cell_type": "code",
   "execution_count": 15,
   "metadata": {},
   "outputs": [
    {
     "name": "stderr",
     "output_type": "stream",
     "text": [
      "2024-12-13 09:43:49.575824: I metal_plugin/src/device/metal_device.cc:1154] Metal device set to: Apple M3 Pro\n",
      "2024-12-13 09:43:49.575843: I metal_plugin/src/device/metal_device.cc:296] systemMemory: 36.00 GB\n",
      "2024-12-13 09:43:49.575856: I metal_plugin/src/device/metal_device.cc:313] maxCacheSize: 13.50 GB\n",
      "2024-12-13 09:43:49.575875: I tensorflow/core/common_runtime/pluggable_device/pluggable_device_factory.cc:305] Could not identify NUMA node of platform GPU ID 0, defaulting to 0. Your kernel may not have been built with NUMA support.\n",
      "2024-12-13 09:43:49.575890: I tensorflow/core/common_runtime/pluggable_device/pluggable_device_factory.cc:271] Created TensorFlow device (/job:localhost/replica:0/task:0/device:GPU:0 with 0 MB memory) -> physical PluggableDevice (device: 0, name: METAL, pci bus id: <undefined>)\n"
     ]
    }
   ],
   "source": [
    "#Entrada\n",
    "input_shape = Input(shape=(pixel, pixel,3))\n",
    "        \n",
    "#Inicio de rama 1\n",
    "tower_1 = Conv2D(16, (3,3), activation='relu',padding=\"same\")(input_shape)\n",
    "tower_1 = BatchNormalization()(tower_1)\n",
    "tower_1 = Activation('relu')(tower_1)\n",
    "tower_1 = MaxPooling2D(2,2)(tower_1)\n",
    "#tower_1 = Dropout(dropout)(tower_1)\n",
    "        \n",
    "tower_1 = Conv2D(32, (3,3), activation='relu',padding=\"same\")(tower_1)\n",
    "tower_1 = BatchNormalization()(tower_1)\n",
    "tower_1 = Activation('relu')(tower_1)\n",
    "tower_1 = MaxPooling2D(2,2)(tower_1)\n",
    "#tower_1 = Dropout(dropout)(tower_1)\n",
    "        \n",
    "#tower_1 = Conv2D(64, (3,3), activation='relu',padding=\"same\")(tower_1)\n",
    "#tower_1 = BatchNormalization()(tower_1)\n",
    "#tower_1 = Activation('relu')(tower_1)\n",
    "#tower_1 = MaxPooling2D(2,2)(tower_1)\n",
    "#tower_1 = Dropout(dropout)(tower_1)\n",
    "        \n",
    "#tower_1 = Conv2D(64, (3,3), activation='relu',padding=\"same\")(tower_1)\n",
    "#tower_1 = BatchNormalization()(tower_1)\n",
    "#tower_1 = Activation('relu')(tower_1)\n",
    "#tower_1 = MaxPooling2D(2,2)(tower_1)\n",
    "#tower_1 = Dropout(dropout)(tower_1)\n",
    "#Fin de rama 1\n",
    "        \n",
    "#Inicio de rama 2\n",
    "tower_2 = Conv2D(16, (5,5), activation='relu',padding=\"same\")(input_shape)\n",
    "tower_2 = BatchNormalization()(tower_2)\n",
    "tower_2 = Activation('relu')(tower_2)\n",
    "tower_2 = AveragePooling2D(2,2)(tower_2)\n",
    "#tower_2 = Dropout(dropout)(tower_2)\n",
    "        \n",
    "tower_2 = Conv2D(32, (5,5), activation='relu',padding=\"same\")(tower_2)\n",
    "tower_2 = BatchNormalization()(tower_2)\n",
    "tower_2 = Activation('relu')(tower_2)\n",
    "tower_2 = AveragePooling2D(2,2)(tower_2)\n",
    "#tower_2 = Dropout(dropout)(tower_2)\n",
    "        \n",
    "#tower_2 = Conv2D(64, (5,5), activation='relu',padding=\"same\")(tower_2)\n",
    "#tower_2 = BatchNormalization()(tower_2)\n",
    "#tower_2 = Activation('relu')(tower_2)\n",
    "#tower_2 = AveragePooling2D(2,2)(tower_2)\n",
    "#tower_2 = Dropout(dropout)(tower_2)\n",
    "        \n",
    "#tower_2 = Conv2D(64, (5,5), activation='relu',padding=\"same\")(tower_2)\n",
    "#tower_2 = BatchNormalization()(tower_2)\n",
    "#tower_2 = Activation('relu')(tower_2)\n",
    "#tower_2 = AveragePooling2D(2,2)(tower_2)\n",
    "#tower_2 = Dropout(dropout)(tower_2)\n",
    "            \n",
    "#Concatenación de las 2 ramas\n",
    "merged = Concatenate(axis=1)([tower_1, tower_2])\n",
    "        \n",
    "#Aplanamiento\n",
    "merged = Flatten()(merged)\n",
    "        \n",
    "#Capas adicionales\n",
    "#out = Dense(512, activation='relu')(merged)\n",
    "#out = Dense(256, activation='sigmoid')(merged)\n",
    "out = Dense(128, activation='sigmoid')(merged)\n",
    "out = Dense(64, activation='sigmoid')(out)\n",
    "out = Dense(32, activation='sigmoid')(out)\n",
    "        \n",
    "#Capa final de clasificación\n",
    "#out = Dense(n_class, activation='softmax')(out)\n",
    "out = Dense(1, activation='sigmoid')(out)\n",
    "        \n",
    "model = Model(input_shape, out)"
   ]
  },
  {
   "cell_type": "code",
   "execution_count": 16,
   "metadata": {
    "id": "DC3Ft7sppjGI",
    "tags": []
   },
   "outputs": [],
   "source": [
    "METRICS = [\n",
    "      tf.keras.metrics.TruePositives(name = 'tp'),\n",
    "      tf.keras.metrics.FalsePositives(name = 'fp'),\n",
    "      tf.keras.metrics.TrueNegatives(name = 'tn'),\n",
    "      tf.keras.metrics.FalseNegatives(name = 'fn'), \n",
    "      tf.keras.metrics.BinaryAccuracy(name ='accuracy'),\n",
    "      tf.keras.metrics.Precision(name = 'precision'),\n",
    "      tf.keras.metrics.Recall(name = 'recall'),\n",
    "      tf.keras.metrics.AUC(name = 'auc'),\n",
    "]"
   ]
  },
  {
   "cell_type": "markdown",
   "metadata": {
    "id": "owmN8gR-jpEh"
   },
   "source": [
    "<a id=\"section52\"></a>\n",
    "# <font color=\"#004D7F\" size=5> 5.2. Compile and fit</font>"
   ]
  },
  {
   "cell_type": "markdown",
   "metadata": {},
   "source": [
    "Note to **specify the loss** depending on whether you have a binary or multiclass classification problem."
   ]
  },
  {
   "cell_type": "code",
   "execution_count": 17,
   "metadata": {
    "id": "RFxZU2q6pjGJ",
    "tags": []
   },
   "outputs": [],
   "source": [
    "opt = Adamax(learning_rate=0.005)\n",
    "#Adam(learning_rate=1e-6)\n",
    "model.compile(\n",
    "                #optimizer = sgd,\n",
    "                optimizer = opt,\n",
    "                #optimizer = 'Adadelta',\n",
    "                #optimizer = 'Adamax',\n",
    "                #optimizer = opt,\n",
    "                metrics = METRICS,\n",
    "                #metrics = ['accuracy'],\n",
    "                \n",
    "                loss = 'binary_crossentropy'\n",
    "                #loss = 'categorical_crossentropy'\n",
    "                )"
   ]
  },
  {
   "cell_type": "code",
   "execution_count": 18,
   "metadata": {},
   "outputs": [],
   "source": [
    "# Configure EarlyStopping for binary classification\n",
    "early_stopper = tf.keras.callbacks.EarlyStopping(\n",
    "    monitor='val_loss',  # Monitor the validation accuracy\n",
    "    min_delta=0.001,         # Minimum change in the monitored quantity to qualify as an improvement\n",
    "    patience=20,             # Number of epochs with no improvement after which training will be stopped\n",
    "    verbose=1,               # Log when training stops\n",
    "    mode='min',              # Maximize the accuracy; min the loss\n",
    "    restore_best_weights=True  # Restore model weights from the epoch with the best value of the monitored quantity\n",
    ")"
   ]
  },
  {
   "cell_type": "code",
   "execution_count": 19,
   "metadata": {
    "scrolled": true
   },
   "outputs": [
    {
     "name": "stdout",
     "output_type": "stream",
     "text": [
      "Epoch 1/100\n"
     ]
    },
    {
     "name": "stderr",
     "output_type": "stream",
     "text": [
      "/Users/manwest/Library/Python/3.9/lib/python/site-packages/keras/src/models/functional.py:225: UserWarning: The structure of `inputs` doesn't match the expected structure: keras_tensor. Received: the structure of inputs=('*',)\n",
      "  warnings.warn(\n",
      "2024-12-13 09:43:51.041490: I tensorflow/core/grappler/optimizers/custom_graph_optimizer_registry.cc:117] Plugin optimizer for device_type GPU is enabled.\n"
     ]
    },
    {
     "name": "stdout",
     "output_type": "stream",
     "text": [
      "\u001b[1m521/521\u001b[0m \u001b[32m━━━━━━━━━━━━━━━━━━━━\u001b[0m\u001b[37m\u001b[0m \u001b[1m26s\u001b[0m 40ms/step - accuracy: 0.9121 - auc: 0.5593 - fn: 645.7931 - fp: 30.0000 - loss: 0.2788 - precision: 0.0625 - recall: 0.0115 - tn: 7690.1226 - tp: 2.0000 - val_accuracy: 0.9238 - val_auc: 0.7726 - val_fn: 272.0000 - val_fp: 0.0000e+00 - val_loss: 0.2383 - val_precision: 0.0000e+00 - val_recall: 0.0000e+00 - val_tn: 3299.0000 - val_tp: 0.0000e+00\n",
      "Epoch 2/100\n",
      "\u001b[1m521/521\u001b[0m \u001b[32m━━━━━━━━━━━━━━━━━━━━\u001b[0m\u001b[37m\u001b[0m \u001b[1m18s\u001b[0m 34ms/step - accuracy: 0.9236 - auc: 0.7626 - fn: 647.7931 - fp: 0.0000e+00 - loss: 0.2378 - precision: 0.0000e+00 - recall: 0.0000e+00 - tn: 7720.1226 - tp: 0.0000e+00 - val_accuracy: 0.9238 - val_auc: 0.7918 - val_fn: 272.0000 - val_fp: 0.0000e+00 - val_loss: 0.2593 - val_precision: 0.0000e+00 - val_recall: 0.0000e+00 - val_tn: 3299.0000 - val_tp: 0.0000e+00\n",
      "Epoch 3/100\n",
      "\u001b[1m521/521\u001b[0m \u001b[32m━━━━━━━━━━━━━━━━━━━━\u001b[0m\u001b[37m\u001b[0m \u001b[1m19s\u001b[0m 36ms/step - accuracy: 0.9236 - auc: 0.7853 - fn: 647.7931 - fp: 0.0000e+00 - loss: 0.2305 - precision: 0.0000e+00 - recall: 0.0000e+00 - tn: 7720.1226 - tp: 0.0000e+00 - val_accuracy: 0.9238 - val_auc: 0.8099 - val_fn: 272.0000 - val_fp: 0.0000e+00 - val_loss: 0.2301 - val_precision: 0.0000e+00 - val_recall: 0.0000e+00 - val_tn: 3299.0000 - val_tp: 0.0000e+00\n",
      "Epoch 4/100\n",
      "\u001b[1m521/521\u001b[0m \u001b[32m━━━━━━━━━━━━━━━━━━━━\u001b[0m\u001b[37m\u001b[0m \u001b[1m18s\u001b[0m 34ms/step - accuracy: 0.9242 - auc: 0.7916 - fn: 635.1284 - fp: 5.2299 - loss: 0.2269 - precision: 0.5349 - recall: 0.0144 - tn: 7714.8926 - tp: 12.6648 - val_accuracy: 0.9244 - val_auc: 0.8140 - val_fn: 270.0000 - val_fp: 0.0000e+00 - val_loss: 0.2288 - val_precision: 1.0000 - val_recall: 0.0074 - val_tn: 3299.0000 - val_tp: 2.0000\n",
      "Epoch 5/100\n",
      "\u001b[1m521/521\u001b[0m \u001b[32m━━━━━━━━━━━━━━━━━━━━\u001b[0m\u001b[37m\u001b[0m \u001b[1m17s\u001b[0m 33ms/step - accuracy: 0.9265 - auc: 0.7954 - fn: 611.3774 - fp: 13.2126 - loss: 0.2244 - precision: 0.7924 - recall: 0.0545 - tn: 7706.9102 - tp: 36.4157 - val_accuracy: 0.9261 - val_auc: 0.8127 - val_fn: 244.0000 - val_fp: 20.0000 - val_loss: 0.2494 - val_precision: 0.5833 - val_recall: 0.1029 - val_tn: 3279.0000 - val_tp: 28.0000\n",
      "Epoch 6/100\n",
      "\u001b[1m521/521\u001b[0m \u001b[32m━━━━━━━━━━━━━━━━━━━━\u001b[0m\u001b[37m\u001b[0m \u001b[1m17s\u001b[0m 33ms/step - accuracy: 0.9273 - auc: 0.7994 - fn: 599.6379 - fp: 18.6762 - loss: 0.2222 - precision: 0.7521 - recall: 0.0736 - tn: 7701.4463 - tp: 48.1552 - val_accuracy: 0.9278 - val_auc: 0.8075 - val_fn: 232.0000 - val_fp: 26.0000 - val_loss: 0.2303 - val_precision: 0.6061 - val_recall: 0.1471 - val_tn: 3273.0000 - val_tp: 40.0000\n",
      "Epoch 7/100\n",
      "\u001b[1m521/521\u001b[0m \u001b[32m━━━━━━━━━━━━━━━━━━━━\u001b[0m\u001b[37m\u001b[0m \u001b[1m18s\u001b[0m 34ms/step - accuracy: 0.9267 - auc: 0.8018 - fn: 588.2510 - fp: 34.3372 - loss: 0.2208 - precision: 0.6381 - recall: 0.0940 - tn: 7685.7856 - tp: 59.5421 - val_accuracy: 0.9258 - val_auc: 0.8133 - val_fn: 200.0000 - val_fp: 65.0000 - val_loss: 0.2432 - val_precision: 0.5255 - val_recall: 0.2647 - val_tn: 3234.0000 - val_tp: 72.0000\n",
      "Epoch 8/100\n",
      "\u001b[1m521/521\u001b[0m \u001b[32m━━━━━━━━━━━━━━━━━━━━\u001b[0m\u001b[37m\u001b[0m \u001b[1m17s\u001b[0m 33ms/step - accuracy: 0.9273 - auc: 0.8051 - fn: 577.0728 - fp: 40.9866 - loss: 0.2198 - precision: 0.6434 - recall: 0.1106 - tn: 7679.1362 - tp: 70.7203 - val_accuracy: 0.9261 - val_auc: 0.8175 - val_fn: 202.0000 - val_fp: 62.0000 - val_loss: 0.2328 - val_precision: 0.5303 - val_recall: 0.2574 - val_tn: 3237.0000 - val_tp: 70.0000\n",
      "Epoch 9/100\n",
      "\u001b[1m521/521\u001b[0m \u001b[32m━━━━━━━━━━━━━━━━━━━━\u001b[0m\u001b[37m\u001b[0m \u001b[1m14s\u001b[0m 26ms/step - accuracy: 0.9277 - auc: 0.8057 - fn: 569.9981 - fp: 46.4329 - loss: 0.2191 - precision: 0.6342 - recall: 0.1278 - tn: 7673.6895 - tp: 77.7950 - val_accuracy: 0.9294 - val_auc: 0.8206 - val_fn: 213.0000 - val_fp: 39.0000 - val_loss: 0.2216 - val_precision: 0.6020 - val_recall: 0.2169 - val_tn: 3260.0000 - val_tp: 59.0000\n",
      "Epoch 10/100\n",
      "\u001b[1m521/521\u001b[0m \u001b[32m━━━━━━━━━━━━━━━━━━━━\u001b[0m\u001b[37m\u001b[0m \u001b[1m14s\u001b[0m 26ms/step - accuracy: 0.9280 - auc: 0.8063 - fn: 568.3486 - fp: 43.9751 - loss: 0.2188 - precision: 0.6454 - recall: 0.1296 - tn: 7676.1475 - tp: 79.4444 - val_accuracy: 0.9219 - val_auc: 0.8243 - val_fn: 194.0000 - val_fp: 85.0000 - val_loss: 0.2314 - val_precision: 0.4785 - val_recall: 0.2868 - val_tn: 3214.0000 - val_tp: 78.0000\n",
      "Epoch 11/100\n",
      "\u001b[1m521/521\u001b[0m \u001b[32m━━━━━━━━━━━━━━━━━━━━\u001b[0m\u001b[37m\u001b[0m \u001b[1m14s\u001b[0m 26ms/step - accuracy: 0.9279 - auc: 0.8096 - fn: 567.3486 - fp: 47.2395 - loss: 0.2176 - precision: 0.6375 - recall: 0.1309 - tn: 7672.8833 - tp: 80.4444 - val_accuracy: 0.9283 - val_auc: 0.8277 - val_fn: 211.0000 - val_fp: 45.0000 - val_loss: 0.2149 - val_precision: 0.5755 - val_recall: 0.2243 - val_tn: 3254.0000 - val_tp: 61.0000\n",
      "Epoch 12/100\n",
      "\u001b[1m521/521\u001b[0m \u001b[32m━━━━━━━━━━━━━━━━━━━━\u001b[0m\u001b[37m\u001b[0m \u001b[1m14s\u001b[0m 26ms/step - accuracy: 0.9278 - auc: 0.8118 - fn: 563.9272 - fp: 52.6686 - loss: 0.2168 - precision: 0.6251 - recall: 0.1381 - tn: 7667.4541 - tp: 83.8659 - val_accuracy: 0.9314 - val_auc: 0.8276 - val_fn: 214.0000 - val_fp: 31.0000 - val_loss: 0.2087 - val_precision: 0.6517 - val_recall: 0.2132 - val_tn: 3268.0000 - val_tp: 58.0000\n",
      "Epoch 13/100\n",
      "\u001b[1m521/521\u001b[0m \u001b[32m━━━━━━━━━━━━━━━━━━━━\u001b[0m\u001b[37m\u001b[0m \u001b[1m14s\u001b[0m 26ms/step - accuracy: 0.9290 - auc: 0.8122 - fn: 559.1398 - fp: 47.9828 - loss: 0.2166 - precision: 0.6607 - recall: 0.1462 - tn: 7672.1396 - tp: 88.6533 - val_accuracy: 0.9322 - val_auc: 0.8212 - val_fn: 227.0000 - val_fp: 15.0000 - val_loss: 0.2091 - val_precision: 0.7500 - val_recall: 0.1654 - val_tn: 3284.0000 - val_tp: 45.0000\n",
      "Epoch 14/100\n",
      "\u001b[1m521/521\u001b[0m \u001b[32m━━━━━━━━━━━━━━━━━━━━\u001b[0m\u001b[37m\u001b[0m \u001b[1m14s\u001b[0m 26ms/step - accuracy: 0.9285 - auc: 0.8146 - fn: 557.1859 - fp: 51.6858 - loss: 0.2157 - precision: 0.6396 - recall: 0.1486 - tn: 7668.4370 - tp: 90.6073 - val_accuracy: 0.9325 - val_auc: 0.8253 - val_fn: 228.0000 - val_fp: 13.0000 - val_loss: 0.2079 - val_precision: 0.7719 - val_recall: 0.1618 - val_tn: 3286.0000 - val_tp: 44.0000\n",
      "Epoch 15/100\n",
      "\u001b[1m521/521\u001b[0m \u001b[32m━━━━━━━━━━━━━━━━━━━━\u001b[0m\u001b[37m\u001b[0m \u001b[1m14s\u001b[0m 26ms/step - accuracy: 0.9281 - auc: 0.8167 - fn: 556.9578 - fp: 51.4636 - loss: 0.2146 - precision: 0.6309 - recall: 0.1450 - tn: 7668.6592 - tp: 90.8353 - val_accuracy: 0.9297 - val_auc: 0.8320 - val_fn: 210.0000 - val_fp: 41.0000 - val_loss: 0.2095 - val_precision: 0.6019 - val_recall: 0.2279 - val_tn: 3258.0000 - val_tp: 62.0000\n",
      "Epoch 16/100\n",
      "\u001b[1m521/521\u001b[0m \u001b[32m━━━━━━━━━━━━━━━━━━━━\u001b[0m\u001b[37m\u001b[0m \u001b[1m14s\u001b[0m 26ms/step - accuracy: 0.9275 - auc: 0.8176 - fn: 556.3199 - fp: 56.0536 - loss: 0.2143 - precision: 0.6105 - recall: 0.1460 - tn: 7664.0688 - tp: 91.4732 - val_accuracy: 0.9328 - val_auc: 0.8281 - val_fn: 226.0000 - val_fp: 14.0000 - val_loss: 0.2086 - val_precision: 0.7667 - val_recall: 0.1691 - val_tn: 3285.0000 - val_tp: 46.0000\n",
      "Epoch 17/100\n",
      "\u001b[1m521/521\u001b[0m \u001b[32m━━━━━━━━━━━━━━━━━━━━\u001b[0m\u001b[37m\u001b[0m \u001b[1m14s\u001b[0m 26ms/step - accuracy: 0.9292 - auc: 0.8187 - fn: 552.3295 - fp: 52.0977 - loss: 0.2138 - precision: 0.6563 - recall: 0.1553 - tn: 7668.0249 - tp: 95.4636 - val_accuracy: 0.9275 - val_auc: 0.8249 - val_fn: 202.0000 - val_fp: 57.0000 - val_loss: 0.2126 - val_precision: 0.5512 - val_recall: 0.2574 - val_tn: 3242.0000 - val_tp: 70.0000\n",
      "Epoch 18/100\n",
      "\u001b[1m521/521\u001b[0m \u001b[32m━━━━━━━━━━━━━━━━━━━━\u001b[0m\u001b[37m\u001b[0m \u001b[1m14s\u001b[0m 26ms/step - accuracy: 0.9291 - auc: 0.8197 - fn: 549.3621 - fp: 52.6916 - loss: 0.2130 - precision: 0.6505 - recall: 0.1572 - tn: 7667.4312 - tp: 98.4310 - val_accuracy: 0.9320 - val_auc: 0.8194 - val_fn: 225.0000 - val_fp: 18.0000 - val_loss: 0.2112 - val_precision: 0.7231 - val_recall: 0.1728 - val_tn: 3281.0000 - val_tp: 47.0000\n",
      "Epoch 19/100\n",
      "\u001b[1m521/521\u001b[0m \u001b[32m━━━━━━━━━━━━━━━━━━━━\u001b[0m\u001b[37m\u001b[0m \u001b[1m14s\u001b[0m 26ms/step - accuracy: 0.9295 - auc: 0.8208 - fn: 545.3104 - fp: 55.1341 - loss: 0.2120 - precision: 0.6547 - recall: 0.1656 - tn: 7664.9883 - tp: 102.4828 - val_accuracy: 0.9269 - val_auc: 0.8248 - val_fn: 205.0000 - val_fp: 56.0000 - val_loss: 0.2138 - val_precision: 0.5447 - val_recall: 0.2463 - val_tn: 3243.0000 - val_tp: 67.0000\n",
      "Epoch 20/100\n",
      "\u001b[1m521/521\u001b[0m \u001b[32m━━━━━━━━━━━━━━━━━━━━\u001b[0m\u001b[37m\u001b[0m \u001b[1m14s\u001b[0m 26ms/step - accuracy: 0.9296 - auc: 0.8236 - fn: 543.4329 - fp: 53.6284 - loss: 0.2112 - precision: 0.6568 - recall: 0.1680 - tn: 7666.4941 - tp: 104.3602 - val_accuracy: 0.9278 - val_auc: 0.8178 - val_fn: 206.0000 - val_fp: 52.0000 - val_loss: 0.2152 - val_precision: 0.5593 - val_recall: 0.2426 - val_tn: 3247.0000 - val_tp: 66.0000\n",
      "Epoch 21/100\n",
      "\u001b[1m521/521\u001b[0m \u001b[32m━━━━━━━━━━━━━━━━━━━━\u001b[0m\u001b[37m\u001b[0m \u001b[1m14s\u001b[0m 26ms/step - accuracy: 0.9297 - auc: 0.8243 - fn: 540.6322 - fp: 54.8467 - loss: 0.2108 - precision: 0.6587 - recall: 0.1690 - tn: 7665.2759 - tp: 107.1609 - val_accuracy: 0.9294 - val_auc: 0.8171 - val_fn: 200.0000 - val_fp: 52.0000 - val_loss: 0.2151 - val_precision: 0.5806 - val_recall: 0.2647 - val_tn: 3247.0000 - val_tp: 72.0000\n",
      "Epoch 22/100\n",
      "\u001b[1m521/521\u001b[0m \u001b[32m━━━━━━━━━━━━━━━━━━━━\u001b[0m\u001b[37m\u001b[0m \u001b[1m14s\u001b[0m 26ms/step - accuracy: 0.9291 - auc: 0.8250 - fn: 544.7261 - fp: 55.6762 - loss: 0.2107 - precision: 0.6441 - recall: 0.1641 - tn: 7664.4463 - tp: 103.0670 - val_accuracy: 0.9325 - val_auc: 0.8195 - val_fn: 212.0000 - val_fp: 29.0000 - val_loss: 0.2125 - val_precision: 0.6742 - val_recall: 0.2206 - val_tn: 3270.0000 - val_tp: 60.0000\n",
      "Epoch 23/100\n",
      "\u001b[1m521/521\u001b[0m \u001b[32m━━━━━━━━━━━━━━━━━━━━\u001b[0m\u001b[37m\u001b[0m \u001b[1m14s\u001b[0m 26ms/step - accuracy: 0.9305 - auc: 0.8280 - fn: 538.1743 - fp: 53.8008 - loss: 0.2094 - precision: 0.6744 - recall: 0.1753 - tn: 7666.3218 - tp: 109.6188 - val_accuracy: 0.9336 - val_auc: 0.8161 - val_fn: 220.0000 - val_fp: 17.0000 - val_loss: 0.2139 - val_precision: 0.7536 - val_recall: 0.1912 - val_tn: 3282.0000 - val_tp: 52.0000\n",
      "Epoch 24/100\n",
      "\u001b[1m521/521\u001b[0m \u001b[32m━━━━━━━━━━━━━━━━━━━━\u001b[0m\u001b[37m\u001b[0m \u001b[1m13s\u001b[0m 24ms/step - accuracy: 0.9311 - auc: 0.8286 - fn: 539.1763 - fp: 48.6494 - loss: 0.2091 - precision: 0.6973 - recall: 0.1747 - tn: 7671.4731 - tp: 108.6169 - val_accuracy: 0.9306 - val_auc: 0.7982 - val_fn: 231.0000 - val_fp: 17.0000 - val_loss: 0.2272 - val_precision: 0.7069 - val_recall: 0.1507 - val_tn: 3282.0000 - val_tp: 41.0000\n",
      "Epoch 25/100\n",
      "\u001b[1m521/521\u001b[0m \u001b[32m━━━━━━━━━━━━━━━━━━━━\u001b[0m\u001b[37m\u001b[0m \u001b[1m12s\u001b[0m 22ms/step - accuracy: 0.9310 - auc: 0.8301 - fn: 535.6111 - fp: 51.3793 - loss: 0.2083 - precision: 0.6864 - recall: 0.1793 - tn: 7668.7432 - tp: 112.1820 - val_accuracy: 0.9308 - val_auc: 0.7979 - val_fn: 238.0000 - val_fp: 9.0000 - val_loss: 0.2311 - val_precision: 0.7907 - val_recall: 0.1250 - val_tn: 3290.0000 - val_tp: 34.0000\n",
      "Epoch 26/100\n",
      "\u001b[1m521/521\u001b[0m \u001b[32m━━━━━━━━━━━━━━━━━━━━\u001b[0m\u001b[37m\u001b[0m \u001b[1m12s\u001b[0m 23ms/step - accuracy: 0.9306 - auc: 0.8315 - fn: 538.5996 - fp: 53.3276 - loss: 0.2076 - precision: 0.6787 - recall: 0.1752 - tn: 7666.7949 - tp: 109.1935 - val_accuracy: 0.9342 - val_auc: 0.8311 - val_fn: 213.0000 - val_fp: 22.0000 - val_loss: 0.2063 - val_precision: 0.7284 - val_recall: 0.2169 - val_tn: 3277.0000 - val_tp: 59.0000\n",
      "Epoch 27/100\n",
      "\u001b[1m521/521\u001b[0m \u001b[32m━━━━━━━━━━━━━━━━━━━━\u001b[0m\u001b[37m\u001b[0m \u001b[1m13s\u001b[0m 24ms/step - accuracy: 0.9307 - auc: 0.8313 - fn: 536.3123 - fp: 53.3774 - loss: 0.2074 - precision: 0.6781 - recall: 0.1781 - tn: 7666.7451 - tp: 111.4808 - val_accuracy: 0.9345 - val_auc: 0.8269 - val_fn: 215.0000 - val_fp: 19.0000 - val_loss: 0.2066 - val_precision: 0.7500 - val_recall: 0.2096 - val_tn: 3280.0000 - val_tp: 57.0000\n",
      "Epoch 28/100\n",
      "\u001b[1m521/521\u001b[0m \u001b[32m━━━━━━━━━━━━━━━━━━━━\u001b[0m\u001b[37m\u001b[0m \u001b[1m13s\u001b[0m 25ms/step - accuracy: 0.9310 - auc: 0.8327 - fn: 536.5441 - fp: 50.2261 - loss: 0.2071 - precision: 0.6920 - recall: 0.1764 - tn: 7669.8965 - tp: 111.2490 - val_accuracy: 0.9320 - val_auc: 0.8262 - val_fn: 213.0000 - val_fp: 30.0000 - val_loss: 0.2077 - val_precision: 0.6629 - val_recall: 0.2169 - val_tn: 3269.0000 - val_tp: 59.0000\n",
      "Epoch 29/100\n",
      "\u001b[1m521/521\u001b[0m \u001b[32m━━━━━━━━━━━━━━━━━━━━\u001b[0m\u001b[37m\u001b[0m \u001b[1m12s\u001b[0m 24ms/step - accuracy: 0.9309 - auc: 0.8349 - fn: 533.9272 - fp: 52.3966 - loss: 0.2061 - precision: 0.6834 - recall: 0.1799 - tn: 7667.7261 - tp: 113.8659 - val_accuracy: 0.9325 - val_auc: 0.8255 - val_fn: 221.0000 - val_fp: 20.0000 - val_loss: 0.2099 - val_precision: 0.7183 - val_recall: 0.1875 - val_tn: 3279.0000 - val_tp: 51.0000\n",
      "Epoch 30/100\n",
      "\u001b[1m521/521\u001b[0m \u001b[32m━━━━━━━━━━━━━━━━━━━━\u001b[0m\u001b[37m\u001b[0m \u001b[1m12s\u001b[0m 23ms/step - accuracy: 0.9308 - auc: 0.8364 - fn: 534.4445 - fp: 51.7759 - loss: 0.2055 - precision: 0.6835 - recall: 0.1766 - tn: 7668.3467 - tp: 113.3487 - val_accuracy: 0.9322 - val_auc: 0.8303 - val_fn: 212.0000 - val_fp: 30.0000 - val_loss: 0.2050 - val_precision: 0.6667 - val_recall: 0.2206 - val_tn: 3269.0000 - val_tp: 60.0000\n",
      "Epoch 31/100\n",
      "\u001b[1m521/521\u001b[0m \u001b[32m━━━━━━━━━━━━━━━━━━━━\u001b[0m\u001b[37m\u001b[0m \u001b[1m12s\u001b[0m 23ms/step - accuracy: 0.9308 - auc: 0.8365 - fn: 534.0192 - fp: 51.9387 - loss: 0.2053 - precision: 0.6827 - recall: 0.1790 - tn: 7668.1841 - tp: 113.7739 - val_accuracy: 0.9328 - val_auc: 0.8254 - val_fn: 217.0000 - val_fp: 23.0000 - val_loss: 0.2098 - val_precision: 0.7051 - val_recall: 0.2022 - val_tn: 3276.0000 - val_tp: 55.0000\n",
      "Epoch 32/100\n",
      "\u001b[1m521/521\u001b[0m \u001b[32m━━━━━━━━━━━━━━━━━━━━\u001b[0m\u001b[37m\u001b[0m \u001b[1m12s\u001b[0m 23ms/step - accuracy: 0.9310 - auc: 0.8379 - fn: 535.7855 - fp: 51.1724 - loss: 0.2051 - precision: 0.6888 - recall: 0.1789 - tn: 7668.9502 - tp: 112.0077 - val_accuracy: 0.9289 - val_auc: 0.8272 - val_fn: 214.0000 - val_fp: 40.0000 - val_loss: 0.2095 - val_precision: 0.5918 - val_recall: 0.2132 - val_tn: 3259.0000 - val_tp: 58.0000\n",
      "Epoch 33/100\n",
      "\u001b[1m521/521\u001b[0m \u001b[32m━━━━━━━━━━━━━━━━━━━━\u001b[0m\u001b[37m\u001b[0m \u001b[1m12s\u001b[0m 23ms/step - accuracy: 0.9306 - auc: 0.8386 - fn: 535.0843 - fp: 52.5000 - loss: 0.2045 - precision: 0.6775 - recall: 0.1765 - tn: 7667.6226 - tp: 112.7088 - val_accuracy: 0.9320 - val_auc: 0.8297 - val_fn: 219.0000 - val_fp: 24.0000 - val_loss: 0.2057 - val_precision: 0.6883 - val_recall: 0.1949 - val_tn: 3275.0000 - val_tp: 53.0000\n",
      "Epoch 34/100\n",
      "\u001b[1m521/521\u001b[0m \u001b[32m━━━━━━━━━━━━━━━━━━━━\u001b[0m\u001b[37m\u001b[0m \u001b[1m13s\u001b[0m 25ms/step - accuracy: 0.9302 - auc: 0.8415 - fn: 538.9196 - fp: 51.4866 - loss: 0.2038 - precision: 0.6726 - recall: 0.1706 - tn: 7668.6362 - tp: 108.8736 - val_accuracy: 0.9317 - val_auc: 0.8302 - val_fn: 216.0000 - val_fp: 28.0000 - val_loss: 0.2057 - val_precision: 0.6667 - val_recall: 0.2059 - val_tn: 3271.0000 - val_tp: 56.0000\n",
      "Epoch 35/100\n",
      "\u001b[1m521/521\u001b[0m \u001b[32m━━━━━━━━━━━━━━━━━━━━\u001b[0m\u001b[37m\u001b[0m \u001b[1m12s\u001b[0m 24ms/step - accuracy: 0.9296 - auc: 0.8416 - fn: 539.7720 - fp: 53.9349 - loss: 0.2036 - precision: 0.6555 - recall: 0.1683 - tn: 7666.1875 - tp: 108.0211 - val_accuracy: 0.9317 - val_auc: 0.8229 - val_fn: 219.0000 - val_fp: 25.0000 - val_loss: 0.2100 - val_precision: 0.6795 - val_recall: 0.1949 - val_tn: 3274.0000 - val_tp: 53.0000\n",
      "Epoch 36/100\n",
      "\u001b[1m521/521\u001b[0m \u001b[32m━━━━━━━━━━━━━━━━━━━━\u001b[0m\u001b[37m\u001b[0m \u001b[1m12s\u001b[0m 23ms/step - accuracy: 0.9298 - auc: 0.8439 - fn: 538.9368 - fp: 54.0977 - loss: 0.2026 - precision: 0.6598 - recall: 0.1699 - tn: 7666.0249 - tp: 108.8563 - val_accuracy: 0.9325 - val_auc: 0.8210 - val_fn: 221.0000 - val_fp: 20.0000 - val_loss: 0.2089 - val_precision: 0.7183 - val_recall: 0.1875 - val_tn: 3279.0000 - val_tp: 51.0000\n",
      "Epoch 37/100\n",
      "\u001b[1m521/521\u001b[0m \u001b[32m━━━━━━━━━━━━━━━━━━━━\u001b[0m\u001b[37m\u001b[0m \u001b[1m12s\u001b[0m 23ms/step - accuracy: 0.9292 - auc: 0.8454 - fn: 541.3046 - fp: 58.2146 - loss: 0.2021 - precision: 0.6437 - recall: 0.1681 - tn: 7661.9082 - tp: 106.4885 - val_accuracy: 0.9317 - val_auc: 0.8284 - val_fn: 220.0000 - val_fp: 24.0000 - val_loss: 0.2061 - val_precision: 0.6842 - val_recall: 0.1912 - val_tn: 3275.0000 - val_tp: 52.0000\n",
      "Epoch 38/100\n",
      "\u001b[1m521/521\u001b[0m \u001b[32m━━━━━━━━━━━━━━━━━━━━\u001b[0m\u001b[37m\u001b[0m \u001b[1m12s\u001b[0m 24ms/step - accuracy: 0.9308 - auc: 0.8473 - fn: 532.2701 - fp: 53.8142 - loss: 0.2010 - precision: 0.6800 - recall: 0.1804 - tn: 7666.3086 - tp: 115.5230 - val_accuracy: 0.9286 - val_auc: 0.8107 - val_fn: 200.0000 - val_fp: 55.0000 - val_loss: 0.2217 - val_precision: 0.5669 - val_recall: 0.2647 - val_tn: 3244.0000 - val_tp: 72.0000\n",
      "Epoch 39/100\n",
      "\u001b[1m521/521\u001b[0m \u001b[32m━━━━━━━━━━━━━━━━━━━━\u001b[0m\u001b[37m\u001b[0m \u001b[1m12s\u001b[0m 23ms/step - accuracy: 0.9312 - auc: 0.8489 - fn: 528.4885 - fp: 53.8142 - loss: 0.2001 - precision: 0.6842 - recall: 0.1880 - tn: 7666.3086 - tp: 119.3046 - val_accuracy: 0.9297 - val_auc: 0.8070 - val_fn: 201.0000 - val_fp: 50.0000 - val_loss: 0.2227 - val_precision: 0.5868 - val_recall: 0.2610 - val_tn: 3249.0000 - val_tp: 71.0000\n",
      "Epoch 40/100\n",
      "\u001b[1m521/521\u001b[0m \u001b[32m━━━━━━━━━━━━━━━━━━━━\u001b[0m\u001b[37m\u001b[0m \u001b[1m12s\u001b[0m 23ms/step - accuracy: 0.9312 - auc: 0.8500 - fn: 530.9789 - fp: 51.3889 - loss: 0.1995 - precision: 0.6918 - recall: 0.1828 - tn: 7668.7339 - tp: 116.8142 - val_accuracy: 0.9174 - val_auc: 0.7955 - val_fn: 199.0000 - val_fp: 96.0000 - val_loss: 0.2372 - val_precision: 0.4320 - val_recall: 0.2684 - val_tn: 3203.0000 - val_tp: 73.0000\n",
      "Epoch 41/100\n",
      "\u001b[1m521/521\u001b[0m \u001b[32m━━━━━━━━━━━━━━━━━━━━\u001b[0m\u001b[37m\u001b[0m \u001b[1m12s\u001b[0m 23ms/step - accuracy: 0.9314 - auc: 0.8522 - fn: 529.4483 - fp: 52.8161 - loss: 0.1988 - precision: 0.6920 - recall: 0.1853 - tn: 7667.3066 - tp: 118.3448 - val_accuracy: 0.9112 - val_auc: 0.7863 - val_fn: 193.0000 - val_fp: 124.0000 - val_loss: 0.2496 - val_precision: 0.3892 - val_recall: 0.2904 - val_tn: 3175.0000 - val_tp: 79.0000\n",
      "Epoch 42/100\n",
      "\u001b[1m521/521\u001b[0m \u001b[32m━━━━━━━━━━━━━━━━━━━━\u001b[0m\u001b[37m\u001b[0m \u001b[1m12s\u001b[0m 24ms/step - accuracy: 0.9316 - auc: 0.8489 - fn: 526.6801 - fp: 54.3448 - loss: 0.2000 - precision: 0.6897 - recall: 0.1945 - tn: 7665.7778 - tp: 121.1130 - val_accuracy: 0.9059 - val_auc: 0.7798 - val_fn: 196.0000 - val_fp: 140.0000 - val_loss: 0.2558 - val_precision: 0.3519 - val_recall: 0.2794 - val_tn: 3159.0000 - val_tp: 76.0000\n",
      "Epoch 43/100\n",
      "\u001b[1m521/521\u001b[0m \u001b[32m━━━━━━━━━━━━━━━━━━━━\u001b[0m\u001b[37m\u001b[0m \u001b[1m12s\u001b[0m 23ms/step - accuracy: 0.9319 - auc: 0.8542 - fn: 524.2643 - fp: 55.5651 - loss: 0.1975 - precision: 0.6939 - recall: 0.1981 - tn: 7664.5576 - tp: 123.5287 - val_accuracy: 0.9140 - val_auc: 0.7967 - val_fn: 195.0000 - val_fp: 112.0000 - val_loss: 0.2419 - val_precision: 0.4074 - val_recall: 0.2831 - val_tn: 3187.0000 - val_tp: 77.0000\n",
      "Epoch 44/100\n",
      "\u001b[1m521/521\u001b[0m \u001b[32m━━━━━━━━━━━━━━━━━━━━\u001b[0m\u001b[37m\u001b[0m \u001b[1m12s\u001b[0m 23ms/step - accuracy: 0.9329 - auc: 0.8537 - fn: 523.9521 - fp: 50.2318 - loss: 0.1969 - precision: 0.7229 - recall: 0.1996 - tn: 7669.8906 - tp: 123.8410 - val_accuracy: 0.9188 - val_auc: 0.8079 - val_fn: 193.0000 - val_fp: 97.0000 - val_loss: 0.2323 - val_precision: 0.4489 - val_recall: 0.2904 - val_tn: 3202.0000 - val_tp: 79.0000\n",
      "Epoch 45/100\n",
      "\u001b[1m521/521\u001b[0m \u001b[32m━━━━━━━━━━━━━━━━━━━━\u001b[0m\u001b[37m\u001b[0m \u001b[1m12s\u001b[0m 24ms/step - accuracy: 0.9329 - auc: 0.8555 - fn: 523.1896 - fp: 51.0077 - loss: 0.1969 - precision: 0.7259 - recall: 0.1992 - tn: 7669.1147 - tp: 124.6034 - val_accuracy: 0.9236 - val_auc: 0.8098 - val_fn: 199.0000 - val_fp: 74.0000 - val_loss: 0.2244 - val_precision: 0.4966 - val_recall: 0.2684 - val_tn: 3225.0000 - val_tp: 73.0000\n",
      "Epoch 46/100\n",
      "\u001b[1m521/521\u001b[0m \u001b[32m━━━━━━━━━━━━━━━━━━━━\u001b[0m\u001b[37m\u001b[0m \u001b[1m12s\u001b[0m 23ms/step - accuracy: 0.9336 - auc: 0.8578 - fn: 513.6763 - fp: 52.3372 - loss: 0.1951 - precision: 0.7223 - recall: 0.2146 - tn: 7667.7856 - tp: 134.1169 - val_accuracy: 0.9230 - val_auc: 0.8003 - val_fn: 206.0000 - val_fp: 69.0000 - val_loss: 0.2314 - val_precision: 0.4889 - val_recall: 0.2426 - val_tn: 3230.0000 - val_tp: 66.0000\n",
      "Epoch 47/100\n",
      "\u001b[1m521/521\u001b[0m \u001b[32m━━━━━━━━━━━━━━━━━━━━\u001b[0m\u001b[37m\u001b[0m \u001b[1m12s\u001b[0m 23ms/step - accuracy: 0.9327 - auc: 0.8587 - fn: 523.8870 - fp: 50.6226 - loss: 0.1954 - precision: 0.7157 - recall: 0.2010 - tn: 7669.5000 - tp: 123.9061 - val_accuracy: 0.9300 - val_auc: 0.8154 - val_fn: 218.0000 - val_fp: 32.0000 - val_loss: 0.2133 - val_precision: 0.6279 - val_recall: 0.1985 - val_tn: 3267.0000 - val_tp: 54.0000\n",
      "Epoch 48/100\n",
      "\u001b[1m521/521\u001b[0m \u001b[32m━━━━━━━━━━━━━━━━━━━━\u001b[0m\u001b[37m\u001b[0m \u001b[1m13s\u001b[0m 25ms/step - accuracy: 0.9324 - auc: 0.8588 - fn: 523.2069 - fp: 49.9483 - loss: 0.1955 - precision: 0.7096 - recall: 0.1974 - tn: 7670.1743 - tp: 124.5862 - val_accuracy: 0.9278 - val_auc: 0.8178 - val_fn: 213.0000 - val_fp: 45.0000 - val_loss: 0.2163 - val_precision: 0.5673 - val_recall: 0.2169 - val_tn: 3254.0000 - val_tp: 59.0000\n",
      "Epoch 49/100\n",
      "\u001b[1m521/521\u001b[0m \u001b[32m━━━━━━━━━━━━━━━━━━━━\u001b[0m\u001b[37m\u001b[0m \u001b[1m12s\u001b[0m 24ms/step - accuracy: 0.9334 - auc: 0.8588 - fn: 516.9923 - fp: 51.5230 - loss: 0.1949 - precision: 0.7225 - recall: 0.2129 - tn: 7668.5996 - tp: 130.8008 - val_accuracy: 0.9280 - val_auc: 0.8130 - val_fn: 226.0000 - val_fp: 31.0000 - val_loss: 0.2162 - val_precision: 0.5974 - val_recall: 0.1691 - val_tn: 3268.0000 - val_tp: 46.0000\n",
      "Epoch 50/100\n",
      "\u001b[1m521/521\u001b[0m \u001b[32m━━━━━━━━━━━━━━━━━━━━\u001b[0m\u001b[37m\u001b[0m \u001b[1m12s\u001b[0m 23ms/step - accuracy: 0.9317 - auc: 0.8583 - fn: 523.3755 - fp: 58.4444 - loss: 0.1951 - precision: 0.6849 - recall: 0.2009 - tn: 7661.6782 - tp: 124.4176 - val_accuracy: 0.9280 - val_auc: 0.8045 - val_fn: 227.0000 - val_fp: 30.0000 - val_loss: 0.2209 - val_precision: 0.6000 - val_recall: 0.1654 - val_tn: 3269.0000 - val_tp: 45.0000\n",
      "Epoch 50: early stopping\n",
      "Restoring model weights from the end of the best epoch: 30.\n"
     ]
    }
   ],
   "source": [
    "modelfitprogress = model.fit(\n",
    "                              x=[X_train_img], y=y_train,\n",
    "                              validation_data=([X_val_img], y_val),\n",
    "                              epochs = epochs,\n",
    "                              batch_size=32,\n",
    "                              callbacks = [early_stopper]\n",
    "                              #steps_per_epoch = df_train.shape[0]//train_iter.batch_size,\n",
    "                              #validation_steps = df_val.shape[0]//valid_iter.batch_size\n",
    "                              )"
   ]
  },
  {
   "cell_type": "markdown",
   "metadata": {
    "id": "9R2jytfijpEp"
   },
   "source": [
    "<a id=\"section6\"></a>\n",
    "# <font color=\"#004D7F\" size=6> 6. Results</font>"
   ]
  },
  {
   "cell_type": "markdown",
   "metadata": {
    "id": "9R2jytfijpEp"
   },
   "source": [
    "---\n",
    "<a id=\"section61\"></a>\n",
    "# <font color=\"#004D7F\" size=5> 6.1. Train/Validation representation</font>"
   ]
  },
  {
   "cell_type": "code",
   "execution_count": 20,
   "metadata": {},
   "outputs": [
    {
     "data": {
      "image/png": "[encoded data removed]",
      "text/plain": [
       "<Figure size 640x480 with 1 Axes>"
      ]
     },
     "metadata": {},
     "output_type": "display_data"
    }
   ],
   "source": [
    "plt.plot(modelfitprogress.history['loss'], color = 'red', label = 'loss')\n",
    "plt.plot(modelfitprogress.history['val_loss'], color = 'green', label = 'val loss')\n",
    "plt.legend(loc = 'upper right')\n",
    "#plt.ylim(0,1)\n",
    "plt.show()"
   ]
  },
  {
   "cell_type": "code",
   "execution_count": 21,
   "metadata": {},
   "outputs": [
    {
     "data": {
      "image/png": "[encoded data removed]",
      "text/plain": [
       "<Figure size 640x480 with 1 Axes>"
      ]
     },
     "metadata": {},
     "output_type": "display_data"
    }
   ],
   "source": [
    "plt.plot(modelfitprogress.history['accuracy'], color = 'red', label = 'accuracy')\n",
    "plt.plot(modelfitprogress.history['val_accuracy'], color = 'green', label = 'val accuracy')\n",
    "plt.legend(loc = 'upper right')\n",
    "\n",
    "plt.show()"
   ]
  },
  {
   "cell_type": "code",
   "execution_count": 22,
   "metadata": {},
   "outputs": [
    {
     "name": "stdout",
     "output_type": "stream",
     "text": [
      "Train accuracy: 0.9311772584915161\n",
      "Train AUC: 0.8598942160606384\n",
      "Train precision: 0.6740331649780273\n",
      "Train recall: 0.19167321920394897\n",
      "Train loss: 0.19465528428554535\n"
     ]
    }
   ],
   "source": [
    "train_accuracy = modelfitprogress.history[\"accuracy\"][-1]\n",
    "train_auc = modelfitprogress.history[\"auc\"][-1]\n",
    "train_precision = modelfitprogress.history[\"precision\"][-1]\n",
    "train_recall = modelfitprogress.history[\"recall\"][-1]\n",
    "train_loss = modelfitprogress.history[\"loss\"][-1]\n",
    "\n",
    "print(\"Train accuracy:\",train_accuracy)\n",
    "print(\"Train AUC:\",train_auc)\n",
    "print(\"Train precision:\",train_precision)\n",
    "print(\"Train recall:\",train_recall)\n",
    "print(\"Train loss:\",train_loss)"
   ]
  },
  {
   "cell_type": "code",
   "execution_count": 23,
   "metadata": {},
   "outputs": [
    {
     "name": "stdout",
     "output_type": "stream",
     "text": [
      "Validation accuracy: 0.9280313849449158\n",
      "Validation AUC: 0.8045040369033813\n",
      "Validation precision: 0.6000000238418579\n",
      "Validation recall: 0.16544117033481598\n",
      "Validation loss: 0.2209305316209793\n"
     ]
    }
   ],
   "source": [
    "validation_accuracy = modelfitprogress.history[\"val_accuracy\"][-1]\n",
    "validation_auc = modelfitprogress.history[\"val_auc\"][-1]\n",
    "validation_precision = modelfitprogress.history[\"val_precision\"][-1]\n",
    "validation_recall = modelfitprogress.history[\"val_recall\"][-1]\n",
    "validation_loss = modelfitprogress.history[\"val_loss\"][-1]\n",
    "\n",
    "print(\"Validation accuracy:\",validation_accuracy)\n",
    "print(\"Validation AUC:\",validation_auc)\n",
    "print(\"Validation precision:\",validation_precision)\n",
    "print(\"Validation recall:\",validation_recall)\n",
    "print(\"Validation loss:\",validation_loss)"
   ]
  },
  {
   "cell_type": "markdown",
   "metadata": {},
   "source": [
    "---\n",
    "<a id=\"section62\"></a>\n",
    "# <font color=\"#004D7F\" size=5> 6.2. Validation evaluation</font>"
   ]
  },
  {
   "cell_type": "markdown",
   "metadata": {},
   "source": [
    "Encontrar el mejor corte de probabilidades"
   ]
  },
  {
   "cell_type": "code",
   "execution_count": 24,
   "metadata": {},
   "outputs": [
    {
     "name": "stdout",
     "output_type": "stream",
     "text": [
      "\u001b[1m521/521\u001b[0m \u001b[32m━━━━━━━━━━━━━━━━━━━━\u001b[0m\u001b[37m\u001b[0m \u001b[1m1s\u001b[0m 2ms/step\n"
     ]
    },
    {
     "data": {
      "text/plain": [
       "(0.05, 0.7391028016989185)"
      ]
     },
     "execution_count": 24,
     "metadata": {},
     "output_type": "execute_result"
    }
   ],
   "source": [
    "from sklearn.metrics import roc_auc_score\n",
    "x_train_1 = [X_train_img]\n",
    "\n",
    "def find_best_threshold(y_true, y_probs):\n",
    "    thresholds = np.arange(0.0, 1.0, 0.01)\n",
    "    best_auc = 0\n",
    "    best_thresh = 0\n",
    "    for thresh in thresholds:\n",
    "        preds = (y_probs >= thresh).astype(int)\n",
    "        auc = roc_auc_score(y_true, preds)\n",
    "        if auc > best_auc:\n",
    "            best_auc = auc\n",
    "            best_thresh = thresh\n",
    "    return best_thresh, best_auc\n",
    "prediction = model.predict(x_train_1,)\n",
    "best_threshold = find_best_threshold(y_train, prediction)\n",
    "best_threshold ### !!!!!! IMPORTANTE PARA DEFINIR EL MEJOR CORTE PARA LAS PROBABILIDADES"
   ]
  },
  {
   "cell_type": "code",
   "execution_count": 25,
   "metadata": {},
   "outputs": [
    {
     "name": "stdout",
     "output_type": "stream",
     "text": [
      "\u001b[1m112/112\u001b[0m \u001b[32m━━━━━━━━━━━━━━━━━━━━\u001b[0m\u001b[37m\u001b[0m \u001b[1m1s\u001b[0m 7ms/step - accuracy: 0.9291 - auc: 0.8400 - fn: 108.4779 - fp: 16.3540 - loss: 0.2092 - precision: 0.6837 - recall: 0.2356 - tn: 1664.6372 - tp: 34.0177\n",
      "Loss in validation: 0.20500577986240387 \n",
      "Accuracy in validation: 0.9322318434715271\n"
     ]
    }
   ],
   "source": [
    "#x_validacion = [X_test_num, X_test_img]\n",
    "#y_validacion = y_test\n",
    "#x_validacion = valid_iter\n",
    "#y_validacion = y_val\n",
    "score_test= model.evaluate([X_val_img], y_val)\n",
    "print(\"Loss in validation: {} \\nAccuracy in validation: {}\".format(score_test[0], score_test[5]))"
   ]
  },
  {
   "cell_type": "code",
   "execution_count": 26,
   "metadata": {},
   "outputs": [
    {
     "name": "stdout",
     "output_type": "stream",
     "text": [
      "\u001b[1m112/112\u001b[0m \u001b[32m━━━━━━━━━━━━━━━━━━━━\u001b[0m\u001b[37m\u001b[0m \u001b[1m0s\u001b[0m 2ms/step\n"
     ]
    }
   ],
   "source": [
    "#test_images = next(test_iter)[0]\n",
    "prediction = model.predict([X_val_img])\n",
    "#prediction = model.predict(test_images)\n",
    "prediction_labels = (prediction > best_threshold[0]).astype(int)\n",
    "#print(prediction_labels)"
   ]
  },
  {
   "cell_type": "code",
   "execution_count": 27,
   "metadata": {},
   "outputs": [
    {
     "name": "stdout",
     "output_type": "stream",
     "text": [
      "Validation accuracy: 0.9322318434715271\n",
      "Validation AUC: 0.8302532434463501\n",
      "Validation precision: 0.6666666865348816\n",
      "Validation recall: 0.22058823704719543\n"
     ]
    }
   ],
   "source": [
    "from sklearn.metrics import roc_auc_score,accuracy_score,precision_score, recall_score\n",
    "\n",
    "test_accuracy = score_test[5]\n",
    "test_auc = score_test[8]\n",
    "test_precision = score_test[6]\n",
    "test_recall = score_test[7]\n",
    "\n",
    "print(\"Validation accuracy:\",test_accuracy)\n",
    "print(\"Validation AUC:\",test_auc)\n",
    "print(\"Validation precision:\",test_precision)\n",
    "print(\"Validation recall:\",test_recall)"
   ]
  },
  {
   "cell_type": "code",
   "execution_count": 28,
   "metadata": {},
   "outputs": [
    {
     "data": {
      "text/plain": [
       "19630    0\n",
       "11186    0\n",
       "8758     0\n",
       "4616     0\n",
       "16735    0\n",
       "        ..\n",
       "2079     0\n",
       "17000    0\n",
       "10190    0\n",
       "7585     0\n",
       "7246     0\n",
       "Name: values, Length: 3571, dtype: int64"
      ]
     },
     "execution_count": 28,
     "metadata": {},
     "output_type": "execute_result"
    }
   ],
   "source": [
    "y_test1 = y_val.astype(float).astype(int)\n",
    "y_test1"
   ]
  },
  {
   "cell_type": "code",
   "execution_count": 29,
   "metadata": {},
   "outputs": [
    {
     "name": "stdout",
     "output_type": "stream",
     "text": [
      "\u001b[1mTest Dataset.\u001b[0m \n",
      "\n",
      "\n",
      "\u001b[1mConfusion matrix:\u001b[0m\n"
     ]
    },
    {
     "data": {
      "image/png": "[encoded data removed]",
      "text/plain": [
       "<Figure size 640x480 with 2 Axes>"
      ]
     },
     "metadata": {},
     "output_type": "display_data"
    },
    {
     "name": "stdout",
     "output_type": "stream",
     "text": [
      "Verdaderos Negativos (VN): 2012\n",
      "Falsos Positivos (FP): 1287\n",
      "Falsos Negativos (FN): 40\n",
      "Verdaderos Positivos (VP): 232 \n",
      "\n",
      "\n",
      "\u001b[1mAUC SCORE:\u001b[0m\n",
      "0.8311275252750387\n",
      "\u001b[1mRecall SCORE:\u001b[0m\n",
      "0.8529411764705882\n"
     ]
    },
    {
     "data": {
      "image/png": "[encoded data removed]",
      "text/plain": [
       "<Figure size 640x480 with 1 Axes>"
      ]
     },
     "metadata": {},
     "output_type": "display_data"
    }
   ],
   "source": [
    "from sklearn.metrics import ConfusionMatrixDisplay, confusion_matrix, roc_curve, roc_auc_score, recall_score\n",
    "\n",
    "# Suponiendo que ⁠ cnn_model ⁠ sea tu modelo entrenado y ⁠ X_test ⁠ tu conjunto de prueba\n",
    "print(\"\\033[1mTest Dataset.\\033[0m \\n\\n\")\n",
    "\n",
    "# Confusion Matrix\n",
    "print(\"\\033[1mConfusion matrix:\\033[0m\")\n",
    "cm = confusion_matrix(y_test1, prediction_labels)\n",
    "disp = ConfusionMatrixDisplay(confusion_matrix=cm)\n",
    "disp.plot()\n",
    "plt.show()\n",
    "print(f\"Verdaderos Negativos (VN): {cm[0, 0]}\")\n",
    "print(f\"Falsos Positivos (FP): {cm[0, 1]}\")\n",
    "print(f\"Falsos Negativos (FN): {cm[1, 0]}\")\n",
    "print(f\"Verdaderos Positivos (VP): {cm[1, 1]} \\n\\n\")\n",
    "\n",
    "# Calcular las métricas usando probabilidades en lugar de etiquetas\n",
    "#prediction_probs = model.predict([X_val_img])\n",
    "\n",
    "print(\"\\033[1mAUC SCORE:\\033[0m\")\n",
    "print(roc_auc_score(y_test1, prediction ))\n",
    "\n",
    "print(\"\\033[1mRecall SCORE:\\033[0m\")\n",
    "print(recall_score(y_test1, prediction_labels))\n",
    "\n",
    "# Curva ROC\n",
    "fpr, tpr, thresholds = roc_curve(y_test1, prediction)\n",
    "plt.plot([0, 1], [0, 1], 'k--')\n",
    "plt.plot(fpr, tpr)\n",
    "plt.xlabel('False Positive Rate')\n",
    "plt.ylabel('True Positive Rate')\n",
    "plt.title('ROC Curve and AUC')\n",
    "plt.fill_between(fpr, tpr, alpha=0.3)\n",
    "plt.tight_layout()\n",
    "plt.show()"
   ]
  },
  {
   "cell_type": "markdown",
   "metadata": {},
   "source": [
    "---\n",
    "<a id=\"section62\"></a>\n",
    "# <font color=\"#004D7F\" size=5> 6.2. Test evaluation</font>"
   ]
  },
  {
   "cell_type": "code",
   "execution_count": 30,
   "metadata": {},
   "outputs": [
    {
     "name": "stdout",
     "output_type": "stream",
     "text": [
      "\u001b[1m112/112\u001b[0m \u001b[32m━━━━━━━━━━━━━━━━━━━━\u001b[0m\u001b[37m\u001b[0m \u001b[1m1s\u001b[0m 8ms/step - accuracy: 0.9248 - auc: 0.8275 - fn: 115.1504 - fp: 20.3540 - loss: 0.2176 - precision: 0.5458 - recall: 0.1929 - tn: 1661.1416 - tp: 26.8584\n",
      "Loss in Test: 0.2171146720647812 \n",
      "Accuracy in Test: 0.9286113977432251\n"
     ]
    }
   ],
   "source": [
    "#x_validacion = [X_test_num, X_test_img]\n",
    "#y_validacion = y_test\n",
    "#x_validacion = test_iter\n",
    "#y_validacion = y_test\n",
    "score_test= model.evaluate([X_test_img], y_test)\n",
    "print(\"Loss in Test: {} \\nAccuracy in Test: {}\".format(score_test[0], score_test[5]))"
   ]
  },
  {
   "cell_type": "code",
   "execution_count": 31,
   "metadata": {},
   "outputs": [
    {
     "name": "stdout",
     "output_type": "stream",
     "text": [
      "\u001b[1m112/112\u001b[0m \u001b[32m━━━━━━━━━━━━━━━━━━━━\u001b[0m\u001b[37m\u001b[0m \u001b[1m0s\u001b[0m 2ms/step\n"
     ]
    }
   ],
   "source": [
    "#test_images = next(test_iter)[0]\n",
    "prediction = model.predict([X_test_img])\n",
    "#prediction = model.predict(test_images)\n",
    "prediction_labels = (prediction > best_threshold[0]).astype(int)\n",
    "#print(prediction_labels)"
   ]
  },
  {
   "cell_type": "code",
   "execution_count": 32,
   "metadata": {},
   "outputs": [
    {
     "name": "stdout",
     "output_type": "stream",
     "text": [
      "Test accuracy: 0.9286113977432251\n",
      "Test AUC: 0.8132206797599792\n",
      "Test precision: 0.6000000238418579\n",
      "Test recall: 0.19780220091342926\n"
     ]
    }
   ],
   "source": [
    "from sklearn.metrics import roc_auc_score,accuracy_score,precision_score, recall_score\n",
    "\n",
    "test_accuracy = score_test[5]\n",
    "test_auc = score_test[8]\n",
    "test_precision = score_test[6]\n",
    "test_recall = score_test[7]\n",
    "\n",
    "print(\"Test accuracy:\",test_accuracy)\n",
    "print(\"Test AUC:\",test_auc)\n",
    "print(\"Test precision:\",test_precision)\n",
    "print(\"Test recall:\",test_recall)"
   ]
  },
  {
   "cell_type": "code",
   "execution_count": 33,
   "metadata": {},
   "outputs": [
    {
     "data": {
      "text/plain": [
       "650      1\n",
       "4910     0\n",
       "20672    0\n",
       "973      1\n",
       "12541    0\n",
       "        ..\n",
       "17306    0\n",
       "4503     0\n",
       "3256     0\n",
       "8932     0\n",
       "21240    0\n",
       "Name: values, Length: 3572, dtype: int64"
      ]
     },
     "execution_count": 33,
     "metadata": {},
     "output_type": "execute_result"
    }
   ],
   "source": [
    "y_test1 = y_test.astype(float).astype(int)\n",
    "y_test1"
   ]
  },
  {
   "cell_type": "code",
   "execution_count": 34,
   "metadata": {},
   "outputs": [
    {
     "name": "stdout",
     "output_type": "stream",
     "text": [
      "\u001b[1mTest Dataset.\u001b[0m \n",
      "\n",
      "\n",
      "\u001b[1mConfusion matrix:\u001b[0m\n"
     ]
    },
    {
     "data": {
      "image/png": "[encoded data removed]",
      "text/plain": [
       "<Figure size 640x480 with 2 Axes>"
      ]
     },
     "metadata": {},
     "output_type": "display_data"
    },
    {
     "name": "stdout",
     "output_type": "stream",
     "text": [
      "Verdaderos Negativos (VN): 1975\n",
      "Falsos Positivos (FP): 1324\n",
      "Falsos Negativos (FN): 39\n",
      "Verdaderos Positivos (VP): 234 \n",
      "\n",
      "\n",
      "\u001b[1mAUC SCORE:\u001b[0m\n",
      "0.8139346255442043\n",
      "\u001b[1mRecall SCORE:\u001b[0m\n",
      "0.8571428571428571\n"
     ]
    },
    {
     "data": {
      "image/png": "[encoded data removed]",
      "text/plain": [
       "<Figure size 640x480 with 1 Axes>"
      ]
     },
     "metadata": {},
     "output_type": "display_data"
    }
   ],
   "source": [
    "from sklearn.metrics import ConfusionMatrixDisplay, confusion_matrix, roc_curve, roc_auc_score, recall_score\n",
    "\n",
    "# Suponiendo que ⁠ cnn_model ⁠ sea tu modelo entrenado y ⁠ X_test ⁠ tu conjunto de prueba\n",
    "print(\"\\033[1mTest Dataset.\\033[0m \\n\\n\")\n",
    "\n",
    "# Confusion Matrix\n",
    "print(\"\\033[1mConfusion matrix:\\033[0m\")\n",
    "cm = confusion_matrix(y_test1, prediction_labels)\n",
    "disp = ConfusionMatrixDisplay(confusion_matrix=cm)\n",
    "disp.plot()\n",
    "plt.show()\n",
    "print(f\"Verdaderos Negativos (VN): {cm[0, 0]}\")\n",
    "print(f\"Falsos Positivos (FP): {cm[0, 1]}\")\n",
    "print(f\"Falsos Negativos (FN): {cm[1, 0]}\")\n",
    "print(f\"Verdaderos Positivos (VP): {cm[1, 1]} \\n\\n\")\n",
    "\n",
    "# Calcular las métricas usando probabilidades en lugar de etiquetas\n",
    "#prediction_probs = model.predict([X_val_img])\n",
    "\n",
    "print(\"\\033[1mAUC SCORE:\\033[0m\")\n",
    "print(roc_auc_score(y_test1, prediction ))\n",
    "\n",
    "print(\"\\033[1mRecall SCORE:\\033[0m\")\n",
    "print(recall_score(y_test1, prediction_labels))\n",
    "\n",
    "# Curva ROC\n",
    "fpr, tpr, thresholds = roc_curve(y_test1, prediction)\n",
    "plt.plot([0, 1], [0, 1], 'k--')\n",
    "plt.plot(fpr, tpr)\n",
    "plt.xlabel('False Positive Rate')\n",
    "plt.ylabel('True Positive Rate')\n",
    "plt.title('ROC Curve and AUC')\n",
    "plt.fill_between(fpr, tpr, alpha=0.3)\n",
    "plt.tight_layout()\n",
    "plt.show()"
   ]
  },
  {
   "cell_type": "code",
   "execution_count": null,
   "metadata": {},
   "outputs": [],
   "source": []
  },
  {
   "cell_type": "code",
   "execution_count": null,
   "metadata": {},
   "outputs": [],
   "source": []
  }
 ],
 "metadata": {
  "accelerator": "GPU",
  "colab": {
   "gpuType": "T4",
   "provenance": []
  },
  "kernelspec": {
   "display_name": "Python 3",
   "language": "python",
   "name": "python3"
  },
  "language_info": {
   "codemirror_mode": {
    "name": "ipython",
    "version": 3
   },
   "file_extension": ".py",
   "mimetype": "text/x-python",
   "name": "python",
   "nbconvert_exporter": "python",
   "pygments_lexer": "ipython3",
   "version": "3.9.6"
  }
 },
 "nbformat": 4,
 "nbformat_minor": 1
}
