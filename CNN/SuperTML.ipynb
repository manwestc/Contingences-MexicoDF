{
 "cells": [
  {
   "cell_type": "markdown",
   "metadata": {
    "id": "EybOZ6hSjpCF"
   },
   "source": [
    "<h1><font color=\"#113D68\" size=5>TINTOlib: Converting Tidy Data into Synthetic Images</font></h1>\n",
    "\n",
    "<h1><font color=\"#113D68\" size=5>Template Classification Machine Learning problem with a CNN</font></h1>\n",
    "\n",
    "<br><br>\n",
    "<div style=\"text-align: right\">\n",
    "<font color=\"#113D68\" size=3>Manuel Castillo-Cara</font><br>\n",
    "<font color=\"#113D68\" size=3>Raúl García-Castro</font><br>\n",
    "<font color=\"#113D68\" size=3>Jiayun Liu</font><br>\n",
    "\n",
    "</div>\n",
    "\n",
    "---"
   ]
  },
  {
   "cell_type": "markdown",
   "metadata": {
    "id": "i3tgsO0BjpCj"
   },
   "source": [
    "<div class=\"alert alert-block alert-info\">\n",
    "    \n",
    "<i class=\"fa fa-info-circle\" aria-hidden=\"true\"></i>\n",
    "More information about [Manuel Castillo-Cara](https://www.manuelcastillo.eu/)"
   ]
  },
  {
   "cell_type": "markdown",
   "metadata": {
    "id": "i3tgsO0BjpCj"
   },
   "source": [
    "<div class=\"alert alert-block alert-info\">\n",
    "    \n",
    "<i class=\"fa fa-info-circle\" aria-hidden=\"true\"></i>\n",
    "More information about [Raúl García-Castro](http://www.garcia-castro.com/)"
   ]
  },
  {
   "cell_type": "markdown",
   "metadata": {},
   "source": [
    "---\n",
    "\n",
    "<a id=\"indice\"></a>\n",
    "<h2><font color=\"#004D7F\" size=5>Licencia</font></h2>\n",
    "\n",
    "<p><small><small>Improving Deep Learning by Exploiting Synthetic Images Copyright 2024 Manuel Castillo Cara.</p>\n",
    "<p><small><small> Licensed under the Apache License, Version 2.0 (the \"License\"); you may not use this file except in compliance with the License. You may obtain a copy of the License at </p>\n",
    "<p><small><small> <a href=\"https://www.apache.org/licenses/LICENSE-2.0\">https://www.apache.org/licenses/LICENSE-2.0</a> </p>\n",
    "<p><small><small> Unless required by applicable law or agreed to in writing, software distributed under the License is distributed on an \"AS IS\" BASIS, WITHOUT WARRANTIES OR CONDITIONS OF ANY KIND, either express or implied. See the License for the specific language governing permissions and limitations under the License. </p>"
   ]
  },
  {
   "cell_type": "markdown",
   "metadata": {
    "id": "2l5nFzsdjpCW"
   },
   "source": [
    "---\n",
    "\n",
    "<a id=\"indice\"></a>\n",
    "<h2><font color=\"#004D7F\" size=5>Index</font></h2>\n",
    "\n",
    "* [0. Context](#section0)\n",
    "* [1. Description](#section1)\n",
    "    * [1.1. Main Features](#section11)\n",
    "    * [1.2. Citation](#section12)\n",
    "    * [1.3. Documentation and License](#section13)\n",
    "* [2. Libraries](#section2)\n",
    "    * [2.1. System setup](#section21)\n",
    "    * [2.2. Invoke the libraries](#section22)\n",
    "* [3. Data processing](#section3)\n",
    "    * [3.1. TINTOlib methods](#section31)\n",
    "    * [3.2. Read the dataset](#section32)\n",
    "    * [3.3. Generate images](#section33)\n",
    "    * [3.4. Read images](#section34)\n",
    "* [4. Pre-modelling phase](#section4)\n",
    "    * [4.1. Data curation](#section41)\n",
    "    * [4.2. Resize Images](#section42)\n",
    "    * [4.3. Iterators](#section43)\n",
    "* [5. Modelling with CNN](#section5)\n",
    "    * [5.1. CNN](#section51)\n",
    "    * [5.2. Compile and fit](#section52)\n",
    "* [6. Results](#section6)\n",
    "    * [6.1. Train/Validation representation](#section61)\n",
    "    * [6.2. Validation/Test evaluation](#section62)\n",
    "    * [6.3. Sklearn metrics evaluation](#section63)"
   ]
  },
  {
   "cell_type": "markdown",
   "metadata": {
    "id": "Z3EzYcjJjpC6"
   },
   "source": [
    "---\n",
    "<div style=\"text-align: right\"> <font size=5> <a href=\"#indice\"><i class=\"fa fa-arrow-circle-up\" aria-hidden=\"true\" style=\"color:#004D7F\"></i></a></font></div>"
   ]
  },
  {
   "cell_type": "markdown",
   "metadata": {
    "id": "qwYF5A2njpC8"
   },
   "source": [
    "<a id=\"section2\"></a>\n",
    "# <font color=\"#004D7F\" size=6> 2. Libraries</font>"
   ]
  },
  {
   "cell_type": "markdown",
   "metadata": {
    "id": "5AdHKnWYsEq_"
   },
   "source": [
    "The first thing we need to do is to declare the libraries"
   ]
  },
  {
   "cell_type": "code",
   "execution_count": 1,
   "metadata": {
    "id": "PeeBbGxlpjFp",
    "tags": []
   },
   "outputs": [
    {
     "name": "stderr",
     "output_type": "stream",
     "text": [
      "/Users/manwest/Library/Python/3.9/lib/python/site-packages/urllib3/__init__.py:35: NotOpenSSLWarning: urllib3 v2 only supports OpenSSL 1.1.1+, currently the 'ssl' module is compiled with 'LibreSSL 2.8.3'. See: https://github.com/urllib3/urllib3/issues/3020\n",
      "  warnings.warn(\n"
     ]
    }
   ],
   "source": [
    "import os\n",
    "import random\n",
    "import pandas as pd\n",
    "import numpy as np\n",
    "from tqdm import tqdm\n",
    "#import cv2\n",
    "import gc\n",
    "import matplotlib.pyplot as plt\n",
    "#import openslide\n",
    "#from openslide.deepzoom import DeepZoomGenerator\n",
    "import tifffile as tifi\n",
    "import sklearn\n",
    "import tensorflow as tf\n",
    "\n",
    "from keras_preprocessing.image import ImageDataGenerator\n",
    "from tensorflow.keras.models import load_model\n",
    "\n",
    "from sklearn.model_selection import train_test_split\n",
    "#from tensorflow.keras.applications import vgg16, vgg19, resnet50, mobilenet, inception_resnet_v2, densenet, inception_v3, xception, nasnet, ResNet152V2\n",
    "from tensorflow.keras.models import Sequential, Model, load_model\n",
    "from tensorflow.keras.layers import Dense, Conv2D, MaxPool2D, Flatten, Dropout, BatchNormalization, InputLayer, LayerNormalization\n",
    "from tensorflow.keras.callbacks import ModelCheckpoint, ReduceLROnPlateau, EarlyStopping\n",
    "from tensorflow.keras.optimizers import SGD, Adam, Adadelta, Adamax, AdamW\n",
    "from keras.layers import MaxPooling2D, AveragePooling2D, Activation, Input, Concatenate\n",
    "from keras.utils import plot_model\n",
    "\n",
    "from imblearn.over_sampling import SMOTE\n",
    "from imblearn.under_sampling import RandomUnderSampler\n",
    "\n",
    "#Models of TINTOlib\n",
    "from TINTOlib.tinto import TINTO\n",
    "from TINTOlib.supertml import SuperTML\n",
    "from TINTOlib.igtd import IGTD\n",
    "from TINTOlib.refined import REFINED\n",
    "from TINTOlib.barGraph import BarGraph\n",
    "from TINTOlib.distanceMatrix import DistanceMatrix\n",
    "from TINTOlib.combination import Combination\n",
    "\n",
    "SEED = 64\n",
    "# SET RANDOM SEED FOR REPRODUCIBILITY\n",
    "#torch.manual_seed(SEED)\n",
    "#torch.cuda.manual_seed(SEED)\n",
    "#torch.cuda.manual_seed_all(SEED)\n",
    "#torch.backends.cudnn.deterministic = True\n",
    "#torch.backends.cudnn.benchmark = False\n",
    "os.environ['PYTHONHASHSEED']=str(SEED)\n",
    "random.seed(SEED)\n",
    "np.random.seed(SEED)\n",
    "tf.random.set_seed(SEED)"
   ]
  },
  {
   "cell_type": "markdown",
   "metadata": {
    "id": "NwS-cKUxjpDQ"
   },
   "source": [
    "---\n",
    "<div style=\"text-align: right\"> <font size=5> <a href=\"#indice\"><i class=\"fa fa-arrow-circle-up\" aria-hidden=\"true\" style=\"color:#004D7F\"></i></a></font></div>\n",
    "\n",
    "---"
   ]
  },
  {
   "cell_type": "markdown",
   "metadata": {
    "id": "aDL4LARWjpDT"
   },
   "source": [
    "<a id=\"section3\"></a>\n",
    "# <font color=\"#004D7F\" size=6> 3. Data processing</font>"
   ]
  },
  {
   "cell_type": "markdown",
   "metadata": {
    "id": "pLzynCxOpHBX"
   },
   "source": [
    "---\n",
    "<a id=\"section31\"></a>\n",
    "# <font color=\"#004D7F\" size=5> 3.1. TINTOlib methods</font>"
   ]
  },
  {
   "cell_type": "code",
   "execution_count": 2,
   "metadata": {},
   "outputs": [],
   "source": [
    "#Select the model and the parameters\n",
    "problem_type = \"supervised\"\n",
    "#problem_type = \"regression\"\n",
    "pixelTML = 30\n",
    "pixel = 40\n",
    "## zoom para ampliar la imagen\n",
    "#image_model = REFINED(problem=problem_type, random_seed=SEED, zoom=5, n_processors=8)\n",
    "#image_model = TINTO(problem= problem_type, blur=True, option='maximum', pixels=pixel, random_seed=SEED)\n",
    "# scale sería [7,4] porque hay 26 variables (para 24 pixeles); \n",
    "#image_model = IGTD(problem= problem_type, random_seed=SEED, scale=[3,3], zoom=5)\n",
    "#image_model = BarGraph(problem= problem_type, pixel_width=2, gap=1, zoom=1)\n",
    "#image_model = DistanceMatrix(problem= problem_type, zoom=4)\n",
    "#image_model = Combination(problem= problem_type, zoom=3)\n",
    "#image_model = SuperTML(problem= problem_type, pixels = pixelTML, font_size=4, feature_importance=True, random_seed=SEED)\n",
    "image_model = SuperTML(problem= problem_type, pixels=pixel, font_size=3, random_seed=SEED)\n",
    "\n",
    "#Define the dataset path and the folder where the images will be saved\n",
    "results_folder = \"SuperTML\"\n",
    "dataset_path = \"../dataset_train.csv\"\n",
    "images_folder = \"SuperTML\""
   ]
  },
  {
   "cell_type": "markdown",
   "metadata": {},
   "source": [
    "<div class=\"alert alert-block alert-info\">\n",
    "\n",
    "<i class=\"fa fa-info-circle\" aria-hidden=\"true\"></i>\n",
    "You can see all information about TINTOlib documentation in [PyPI](https://pypi.org/project/TINTOlib/)"
   ]
  },
  {
   "cell_type": "markdown",
   "metadata": {
    "id": "pLzynCxOpHBX"
   },
   "source": [
    "---\n",
    "<a id=\"section32\"></a>\n",
    "# <font color=\"#004D7F\" size=5> 3.2. Read the dataset</font>"
   ]
  },
  {
   "cell_type": "code",
   "execution_count": 3,
   "metadata": {},
   "outputs": [
    {
     "data": {
      "text/html": [
       "<div>\n",
       "<style scoped>\n",
       "    .dataframe tbody tr th:only-of-type {\n",
       "        vertical-align: middle;\n",
       "    }\n",
       "\n",
       "    .dataframe tbody tr th {\n",
       "        vertical-align: top;\n",
       "    }\n",
       "\n",
       "    .dataframe thead th {\n",
       "        text-align: right;\n",
       "    }\n",
       "</style>\n",
       "<table border=\"1\" class=\"dataframe\">\n",
       "  <thead>\n",
       "    <tr style=\"text-align: right;\">\n",
       "      <th></th>\n",
       "      <th>O3</th>\n",
       "      <th>TMP</th>\n",
       "      <th>RH</th>\n",
       "      <th>1/RH</th>\n",
       "      <th>WSP</th>\n",
       "      <th>WDR</th>\n",
       "      <th>class</th>\n",
       "    </tr>\n",
       "  </thead>\n",
       "  <tbody>\n",
       "    <tr>\n",
       "      <th>0</th>\n",
       "      <td>163.000000</td>\n",
       "      <td>28.2</td>\n",
       "      <td>17.0</td>\n",
       "      <td>0.058824</td>\n",
       "      <td>3.2</td>\n",
       "      <td>346.0</td>\n",
       "      <td>1</td>\n",
       "    </tr>\n",
       "    <tr>\n",
       "      <th>1</th>\n",
       "      <td>170.000000</td>\n",
       "      <td>28.9</td>\n",
       "      <td>23.0</td>\n",
       "      <td>0.043478</td>\n",
       "      <td>3.4</td>\n",
       "      <td>355.0</td>\n",
       "      <td>1</td>\n",
       "    </tr>\n",
       "    <tr>\n",
       "      <th>2</th>\n",
       "      <td>181.000000</td>\n",
       "      <td>28.9</td>\n",
       "      <td>28.0</td>\n",
       "      <td>0.035714</td>\n",
       "      <td>4.4</td>\n",
       "      <td>345.0</td>\n",
       "      <td>1</td>\n",
       "    </tr>\n",
       "    <tr>\n",
       "      <th>3</th>\n",
       "      <td>171.000000</td>\n",
       "      <td>27.4</td>\n",
       "      <td>32.0</td>\n",
       "      <td>0.031250</td>\n",
       "      <td>4.7</td>\n",
       "      <td>357.0</td>\n",
       "      <td>1</td>\n",
       "    </tr>\n",
       "    <tr>\n",
       "      <th>4</th>\n",
       "      <td>124.000000</td>\n",
       "      <td>26.0</td>\n",
       "      <td>37.0</td>\n",
       "      <td>0.027027</td>\n",
       "      <td>5.2</td>\n",
       "      <td>355.0</td>\n",
       "      <td>1</td>\n",
       "    </tr>\n",
       "    <tr>\n",
       "      <th>...</th>\n",
       "      <td>...</td>\n",
       "      <td>...</td>\n",
       "      <td>...</td>\n",
       "      <td>...</td>\n",
       "      <td>...</td>\n",
       "      <td>...</td>\n",
       "      <td>...</td>\n",
       "    </tr>\n",
       "    <tr>\n",
       "      <th>23804</th>\n",
       "      <td>25.000000</td>\n",
       "      <td>21.3</td>\n",
       "      <td>90.0</td>\n",
       "      <td>0.011111</td>\n",
       "      <td>4.6</td>\n",
       "      <td>358.0</td>\n",
       "      <td>0</td>\n",
       "    </tr>\n",
       "    <tr>\n",
       "      <th>23805</th>\n",
       "      <td>23.000000</td>\n",
       "      <td>20.6</td>\n",
       "      <td>89.0</td>\n",
       "      <td>0.011236</td>\n",
       "      <td>4.5</td>\n",
       "      <td>343.0</td>\n",
       "      <td>0</td>\n",
       "    </tr>\n",
       "    <tr>\n",
       "      <th>23806</th>\n",
       "      <td>21.285714</td>\n",
       "      <td>19.1</td>\n",
       "      <td>91.0</td>\n",
       "      <td>0.010989</td>\n",
       "      <td>3.9</td>\n",
       "      <td>359.0</td>\n",
       "      <td>0</td>\n",
       "    </tr>\n",
       "    <tr>\n",
       "      <th>23807</th>\n",
       "      <td>16.000000</td>\n",
       "      <td>18.9</td>\n",
       "      <td>91.0</td>\n",
       "      <td>0.010989</td>\n",
       "      <td>3.6</td>\n",
       "      <td>356.0</td>\n",
       "      <td>0</td>\n",
       "    </tr>\n",
       "    <tr>\n",
       "      <th>23808</th>\n",
       "      <td>20.000000</td>\n",
       "      <td>18.5</td>\n",
       "      <td>91.0</td>\n",
       "      <td>0.010989</td>\n",
       "      <td>3.3</td>\n",
       "      <td>356.0</td>\n",
       "      <td>0</td>\n",
       "    </tr>\n",
       "  </tbody>\n",
       "</table>\n",
       "<p>23809 rows × 7 columns</p>\n",
       "</div>"
      ],
      "text/plain": [
       "               O3   TMP    RH      1/RH  WSP    WDR  class\n",
       "0      163.000000  28.2  17.0  0.058824  3.2  346.0      1\n",
       "1      170.000000  28.9  23.0  0.043478  3.4  355.0      1\n",
       "2      181.000000  28.9  28.0  0.035714  4.4  345.0      1\n",
       "3      171.000000  27.4  32.0  0.031250  4.7  357.0      1\n",
       "4      124.000000  26.0  37.0  0.027027  5.2  355.0      1\n",
       "...           ...   ...   ...       ...  ...    ...    ...\n",
       "23804   25.000000  21.3  90.0  0.011111  4.6  358.0      0\n",
       "23805   23.000000  20.6  89.0  0.011236  4.5  343.0      0\n",
       "23806   21.285714  19.1  91.0  0.010989  3.9  359.0      0\n",
       "23807   16.000000  18.9  91.0  0.010989  3.6  356.0      0\n",
       "23808   20.000000  18.5  91.0  0.010989  3.3  356.0      0\n",
       "\n",
       "[23809 rows x 7 columns]"
      ]
     },
     "execution_count": 3,
     "metadata": {},
     "output_type": "execute_result"
    }
   ],
   "source": [
    "df=pd.read_csv(dataset_path)\n",
    "df"
   ]
  },
  {
   "cell_type": "code",
   "execution_count": 4,
   "metadata": {},
   "outputs": [
    {
     "name": "stdout",
     "output_type": "stream",
     "text": [
      "3\n"
     ]
    }
   ],
   "source": [
    "# Get the shape of the dataframe\n",
    "num_columns = df.shape[1]\n",
    "\n",
    "# Calculate number of columns - 1\n",
    "columns_minus_one = num_columns - 1\n",
    "\n",
    "# Calculate the square root for image size\n",
    "import math\n",
    "image_size = math.ceil(math.sqrt(columns_minus_one))\n",
    "print(image_size)"
   ]
  },
  {
   "cell_type": "markdown",
   "metadata": {},
   "source": [
    "---\n",
    "<a id=\"section33\"></a>\n",
    "# <font color=\"#004D7F\" size=5> 3.3. Generate images</font>"
   ]
  },
  {
   "cell_type": "code",
   "execution_count": 5,
   "metadata": {},
   "outputs": [
    {
     "name": "stdout",
     "output_type": "stream",
     "text": [
      "SuperTML/supervised.csv\n"
     ]
    }
   ],
   "source": [
    "import os\n",
    "\n",
    "# Generate the images if the folder does not exist\n",
    "if not os.path.exists(images_folder):\n",
    "    #Generate thet images\n",
    "    image_model.generateImages(df, images_folder)\n",
    "else:\n",
    "    print(\"The images are already generated\")\n",
    "\n",
    "img_paths = os.path.join(images_folder,problem_type+\".csv\")\n",
    "\n",
    "print(img_paths)"
   ]
  },
  {
   "cell_type": "markdown",
   "metadata": {},
   "source": [
    "<a id=\"section34\"></a>\n",
    "# <font color=\"#004D7F\" size=5> 3.4. Read images</font>"
   ]
  },
  {
   "cell_type": "markdown",
   "metadata": {},
   "source": [
    "Once the images have been created we can read them. In this particular case, by using a pure CNN, we will use the images only to train our model."
   ]
  },
  {
   "cell_type": "code",
   "execution_count": 6,
   "metadata": {},
   "outputs": [
    {
     "data": {
      "text/html": [
       "<div>\n",
       "<style scoped>\n",
       "    .dataframe tbody tr th:only-of-type {\n",
       "        vertical-align: middle;\n",
       "    }\n",
       "\n",
       "    .dataframe tbody tr th {\n",
       "        vertical-align: top;\n",
       "    }\n",
       "\n",
       "    .dataframe thead th {\n",
       "        text-align: right;\n",
       "    }\n",
       "</style>\n",
       "<table border=\"1\" class=\"dataframe\">\n",
       "  <thead>\n",
       "    <tr style=\"text-align: right;\">\n",
       "      <th></th>\n",
       "      <th>images</th>\n",
       "      <th>values</th>\n",
       "    </tr>\n",
       "  </thead>\n",
       "  <tbody>\n",
       "    <tr>\n",
       "      <th>0</th>\n",
       "      <td>SuperTML/01/000000.png</td>\n",
       "      <td>1</td>\n",
       "    </tr>\n",
       "    <tr>\n",
       "      <th>1</th>\n",
       "      <td>SuperTML/01/000001.png</td>\n",
       "      <td>1</td>\n",
       "    </tr>\n",
       "    <tr>\n",
       "      <th>2</th>\n",
       "      <td>SuperTML/01/000002.png</td>\n",
       "      <td>1</td>\n",
       "    </tr>\n",
       "    <tr>\n",
       "      <th>3</th>\n",
       "      <td>SuperTML/01/000003.png</td>\n",
       "      <td>1</td>\n",
       "    </tr>\n",
       "    <tr>\n",
       "      <th>4</th>\n",
       "      <td>SuperTML/01/000004.png</td>\n",
       "      <td>1</td>\n",
       "    </tr>\n",
       "    <tr>\n",
       "      <th>...</th>\n",
       "      <td>...</td>\n",
       "      <td>...</td>\n",
       "    </tr>\n",
       "    <tr>\n",
       "      <th>23804</th>\n",
       "      <td>SuperTML/00/023804.png</td>\n",
       "      <td>0</td>\n",
       "    </tr>\n",
       "    <tr>\n",
       "      <th>23805</th>\n",
       "      <td>SuperTML/00/023805.png</td>\n",
       "      <td>0</td>\n",
       "    </tr>\n",
       "    <tr>\n",
       "      <th>23806</th>\n",
       "      <td>SuperTML/00/023806.png</td>\n",
       "      <td>0</td>\n",
       "    </tr>\n",
       "    <tr>\n",
       "      <th>23807</th>\n",
       "      <td>SuperTML/00/023807.png</td>\n",
       "      <td>0</td>\n",
       "    </tr>\n",
       "    <tr>\n",
       "      <th>23808</th>\n",
       "      <td>SuperTML/00/023808.png</td>\n",
       "      <td>0</td>\n",
       "    </tr>\n",
       "  </tbody>\n",
       "</table>\n",
       "<p>23809 rows × 2 columns</p>\n",
       "</div>"
      ],
      "text/plain": [
       "                       images  values\n",
       "0      SuperTML/01/000000.png       1\n",
       "1      SuperTML/01/000001.png       1\n",
       "2      SuperTML/01/000002.png       1\n",
       "3      SuperTML/01/000003.png       1\n",
       "4      SuperTML/01/000004.png       1\n",
       "...                       ...     ...\n",
       "23804  SuperTML/00/023804.png       0\n",
       "23805  SuperTML/00/023805.png       0\n",
       "23806  SuperTML/00/023806.png       0\n",
       "23807  SuperTML/00/023807.png       0\n",
       "23808  SuperTML/00/023808.png       0\n",
       "\n",
       "[23809 rows x 2 columns]"
      ]
     },
     "execution_count": 6,
     "metadata": {},
     "output_type": "execute_result"
    }
   ],
   "source": [
    "imgs = pd.read_csv(img_paths)\n",
    "\n",
    "#imgs[\"images\"]= images_folder + \"\\\\\" + imgs[\"images\"]\n",
    "imgs[\"images\"]= images_folder + \"/\" + imgs[\"images\"]\n",
    "imgs = imgs.rename(columns={\"class\":\"values\"})\n",
    "imgs"
   ]
  },
  {
   "cell_type": "markdown",
   "metadata": {},
   "source": [
    "---\n",
    "<a id=\"section35\"></a>\n",
    "# <font color=\"#004D7F\" size=5> 3.5. Mix images and tidy data</font>\n",
    "\n",
    "If we want to use hybrid networks, i.e. create a model in which we join a CNN for the images and a MLP for the tabular data, we need to join it in order to integrate all the data in our hybrid model.\n"
   ]
  },
  {
   "cell_type": "markdown",
   "metadata": {},
   "source": [
    "Combine the images and tidy data in the same dataframe, split attributes and objective value"
   ]
  },
  {
   "cell_type": "code",
   "execution_count": 7,
   "metadata": {},
   "outputs": [
    {
     "data": {
      "text/html": [
       "<div>\n",
       "<style scoped>\n",
       "    .dataframe tbody tr th:only-of-type {\n",
       "        vertical-align: middle;\n",
       "    }\n",
       "\n",
       "    .dataframe tbody tr th {\n",
       "        vertical-align: top;\n",
       "    }\n",
       "\n",
       "    .dataframe thead th {\n",
       "        text-align: right;\n",
       "    }\n",
       "</style>\n",
       "<table border=\"1\" class=\"dataframe\">\n",
       "  <thead>\n",
       "    <tr style=\"text-align: right;\">\n",
       "      <th></th>\n",
       "      <th>O3</th>\n",
       "      <th>TMP</th>\n",
       "      <th>RH</th>\n",
       "      <th>1/RH</th>\n",
       "      <th>WSP</th>\n",
       "      <th>WDR</th>\n",
       "      <th>class</th>\n",
       "    </tr>\n",
       "  </thead>\n",
       "  <tbody>\n",
       "    <tr>\n",
       "      <th>0</th>\n",
       "      <td>163.000000</td>\n",
       "      <td>28.2</td>\n",
       "      <td>17.0</td>\n",
       "      <td>0.058824</td>\n",
       "      <td>3.2</td>\n",
       "      <td>346.0</td>\n",
       "      <td>1</td>\n",
       "    </tr>\n",
       "    <tr>\n",
       "      <th>1</th>\n",
       "      <td>170.000000</td>\n",
       "      <td>28.9</td>\n",
       "      <td>23.0</td>\n",
       "      <td>0.043478</td>\n",
       "      <td>3.4</td>\n",
       "      <td>355.0</td>\n",
       "      <td>1</td>\n",
       "    </tr>\n",
       "    <tr>\n",
       "      <th>2</th>\n",
       "      <td>181.000000</td>\n",
       "      <td>28.9</td>\n",
       "      <td>28.0</td>\n",
       "      <td>0.035714</td>\n",
       "      <td>4.4</td>\n",
       "      <td>345.0</td>\n",
       "      <td>1</td>\n",
       "    </tr>\n",
       "    <tr>\n",
       "      <th>3</th>\n",
       "      <td>171.000000</td>\n",
       "      <td>27.4</td>\n",
       "      <td>32.0</td>\n",
       "      <td>0.031250</td>\n",
       "      <td>4.7</td>\n",
       "      <td>357.0</td>\n",
       "      <td>1</td>\n",
       "    </tr>\n",
       "    <tr>\n",
       "      <th>4</th>\n",
       "      <td>124.000000</td>\n",
       "      <td>26.0</td>\n",
       "      <td>37.0</td>\n",
       "      <td>0.027027</td>\n",
       "      <td>5.2</td>\n",
       "      <td>355.0</td>\n",
       "      <td>1</td>\n",
       "    </tr>\n",
       "    <tr>\n",
       "      <th>...</th>\n",
       "      <td>...</td>\n",
       "      <td>...</td>\n",
       "      <td>...</td>\n",
       "      <td>...</td>\n",
       "      <td>...</td>\n",
       "      <td>...</td>\n",
       "      <td>...</td>\n",
       "    </tr>\n",
       "    <tr>\n",
       "      <th>23804</th>\n",
       "      <td>25.000000</td>\n",
       "      <td>21.3</td>\n",
       "      <td>90.0</td>\n",
       "      <td>0.011111</td>\n",
       "      <td>4.6</td>\n",
       "      <td>358.0</td>\n",
       "      <td>0</td>\n",
       "    </tr>\n",
       "    <tr>\n",
       "      <th>23805</th>\n",
       "      <td>23.000000</td>\n",
       "      <td>20.6</td>\n",
       "      <td>89.0</td>\n",
       "      <td>0.011236</td>\n",
       "      <td>4.5</td>\n",
       "      <td>343.0</td>\n",
       "      <td>0</td>\n",
       "    </tr>\n",
       "    <tr>\n",
       "      <th>23806</th>\n",
       "      <td>21.285714</td>\n",
       "      <td>19.1</td>\n",
       "      <td>91.0</td>\n",
       "      <td>0.010989</td>\n",
       "      <td>3.9</td>\n",
       "      <td>359.0</td>\n",
       "      <td>0</td>\n",
       "    </tr>\n",
       "    <tr>\n",
       "      <th>23807</th>\n",
       "      <td>16.000000</td>\n",
       "      <td>18.9</td>\n",
       "      <td>91.0</td>\n",
       "      <td>0.010989</td>\n",
       "      <td>3.6</td>\n",
       "      <td>356.0</td>\n",
       "      <td>0</td>\n",
       "    </tr>\n",
       "    <tr>\n",
       "      <th>23808</th>\n",
       "      <td>20.000000</td>\n",
       "      <td>18.5</td>\n",
       "      <td>91.0</td>\n",
       "      <td>0.010989</td>\n",
       "      <td>3.3</td>\n",
       "      <td>356.0</td>\n",
       "      <td>0</td>\n",
       "    </tr>\n",
       "  </tbody>\n",
       "</table>\n",
       "<p>23809 rows × 7 columns</p>\n",
       "</div>"
      ],
      "text/plain": [
       "               O3   TMP    RH      1/RH  WSP    WDR  class\n",
       "0      163.000000  28.2  17.0  0.058824  3.2  346.0      1\n",
       "1      170.000000  28.9  23.0  0.043478  3.4  355.0      1\n",
       "2      181.000000  28.9  28.0  0.035714  4.4  345.0      1\n",
       "3      171.000000  27.4  32.0  0.031250  4.7  357.0      1\n",
       "4      124.000000  26.0  37.0  0.027027  5.2  355.0      1\n",
       "...           ...   ...   ...       ...  ...    ...    ...\n",
       "23804   25.000000  21.3  90.0  0.011111  4.6  358.0      0\n",
       "23805   23.000000  20.6  89.0  0.011236  4.5  343.0      0\n",
       "23806   21.285714  19.1  91.0  0.010989  3.9  359.0      0\n",
       "23807   16.000000  18.9  91.0  0.010989  3.6  356.0      0\n",
       "23808   20.000000  18.5  91.0  0.010989  3.3  356.0      0\n",
       "\n",
       "[23809 rows x 7 columns]"
      ]
     },
     "execution_count": 7,
     "metadata": {},
     "output_type": "execute_result"
    }
   ],
   "source": [
    "df"
   ]
  },
  {
   "cell_type": "code",
   "execution_count": 8,
   "metadata": {},
   "outputs": [
    {
     "data": {
      "text/html": [
       "<div>\n",
       "<style scoped>\n",
       "    .dataframe tbody tr th:only-of-type {\n",
       "        vertical-align: middle;\n",
       "    }\n",
       "\n",
       "    .dataframe tbody tr th {\n",
       "        vertical-align: top;\n",
       "    }\n",
       "\n",
       "    .dataframe thead th {\n",
       "        text-align: right;\n",
       "    }\n",
       "</style>\n",
       "<table border=\"1\" class=\"dataframe\">\n",
       "  <thead>\n",
       "    <tr style=\"text-align: right;\">\n",
       "      <th></th>\n",
       "      <th>images</th>\n",
       "      <th>O3</th>\n",
       "      <th>TMP</th>\n",
       "      <th>RH</th>\n",
       "      <th>1/RH</th>\n",
       "      <th>WSP</th>\n",
       "      <th>WDR</th>\n",
       "    </tr>\n",
       "  </thead>\n",
       "  <tbody>\n",
       "    <tr>\n",
       "      <th>0</th>\n",
       "      <td>SuperTML/01/000000.png</td>\n",
       "      <td>163.000000</td>\n",
       "      <td>28.2</td>\n",
       "      <td>17.0</td>\n",
       "      <td>0.058824</td>\n",
       "      <td>3.2</td>\n",
       "      <td>346.0</td>\n",
       "    </tr>\n",
       "    <tr>\n",
       "      <th>1</th>\n",
       "      <td>SuperTML/01/000001.png</td>\n",
       "      <td>170.000000</td>\n",
       "      <td>28.9</td>\n",
       "      <td>23.0</td>\n",
       "      <td>0.043478</td>\n",
       "      <td>3.4</td>\n",
       "      <td>355.0</td>\n",
       "    </tr>\n",
       "    <tr>\n",
       "      <th>2</th>\n",
       "      <td>SuperTML/01/000002.png</td>\n",
       "      <td>181.000000</td>\n",
       "      <td>28.9</td>\n",
       "      <td>28.0</td>\n",
       "      <td>0.035714</td>\n",
       "      <td>4.4</td>\n",
       "      <td>345.0</td>\n",
       "    </tr>\n",
       "    <tr>\n",
       "      <th>3</th>\n",
       "      <td>SuperTML/01/000003.png</td>\n",
       "      <td>171.000000</td>\n",
       "      <td>27.4</td>\n",
       "      <td>32.0</td>\n",
       "      <td>0.031250</td>\n",
       "      <td>4.7</td>\n",
       "      <td>357.0</td>\n",
       "    </tr>\n",
       "    <tr>\n",
       "      <th>4</th>\n",
       "      <td>SuperTML/01/000004.png</td>\n",
       "      <td>124.000000</td>\n",
       "      <td>26.0</td>\n",
       "      <td>37.0</td>\n",
       "      <td>0.027027</td>\n",
       "      <td>5.2</td>\n",
       "      <td>355.0</td>\n",
       "    </tr>\n",
       "    <tr>\n",
       "      <th>...</th>\n",
       "      <td>...</td>\n",
       "      <td>...</td>\n",
       "      <td>...</td>\n",
       "      <td>...</td>\n",
       "      <td>...</td>\n",
       "      <td>...</td>\n",
       "      <td>...</td>\n",
       "    </tr>\n",
       "    <tr>\n",
       "      <th>23804</th>\n",
       "      <td>SuperTML/00/023804.png</td>\n",
       "      <td>25.000000</td>\n",
       "      <td>21.3</td>\n",
       "      <td>90.0</td>\n",
       "      <td>0.011111</td>\n",
       "      <td>4.6</td>\n",
       "      <td>358.0</td>\n",
       "    </tr>\n",
       "    <tr>\n",
       "      <th>23805</th>\n",
       "      <td>SuperTML/00/023805.png</td>\n",
       "      <td>23.000000</td>\n",
       "      <td>20.6</td>\n",
       "      <td>89.0</td>\n",
       "      <td>0.011236</td>\n",
       "      <td>4.5</td>\n",
       "      <td>343.0</td>\n",
       "    </tr>\n",
       "    <tr>\n",
       "      <th>23806</th>\n",
       "      <td>SuperTML/00/023806.png</td>\n",
       "      <td>21.285714</td>\n",
       "      <td>19.1</td>\n",
       "      <td>91.0</td>\n",
       "      <td>0.010989</td>\n",
       "      <td>3.9</td>\n",
       "      <td>359.0</td>\n",
       "    </tr>\n",
       "    <tr>\n",
       "      <th>23807</th>\n",
       "      <td>SuperTML/00/023807.png</td>\n",
       "      <td>16.000000</td>\n",
       "      <td>18.9</td>\n",
       "      <td>91.0</td>\n",
       "      <td>0.010989</td>\n",
       "      <td>3.6</td>\n",
       "      <td>356.0</td>\n",
       "    </tr>\n",
       "    <tr>\n",
       "      <th>23808</th>\n",
       "      <td>SuperTML/00/023808.png</td>\n",
       "      <td>20.000000</td>\n",
       "      <td>18.5</td>\n",
       "      <td>91.0</td>\n",
       "      <td>0.010989</td>\n",
       "      <td>3.3</td>\n",
       "      <td>356.0</td>\n",
       "    </tr>\n",
       "  </tbody>\n",
       "</table>\n",
       "<p>23809 rows × 7 columns</p>\n",
       "</div>"
      ],
      "text/plain": [
       "                       images          O3   TMP    RH      1/RH  WSP    WDR\n",
       "0      SuperTML/01/000000.png  163.000000  28.2  17.0  0.058824  3.2  346.0\n",
       "1      SuperTML/01/000001.png  170.000000  28.9  23.0  0.043478  3.4  355.0\n",
       "2      SuperTML/01/000002.png  181.000000  28.9  28.0  0.035714  4.4  345.0\n",
       "3      SuperTML/01/000003.png  171.000000  27.4  32.0  0.031250  4.7  357.0\n",
       "4      SuperTML/01/000004.png  124.000000  26.0  37.0  0.027027  5.2  355.0\n",
       "...                       ...         ...   ...   ...       ...  ...    ...\n",
       "23804  SuperTML/00/023804.png   25.000000  21.3  90.0  0.011111  4.6  358.0\n",
       "23805  SuperTML/00/023805.png   23.000000  20.6  89.0  0.011236  4.5  343.0\n",
       "23806  SuperTML/00/023806.png   21.285714  19.1  91.0  0.010989  3.9  359.0\n",
       "23807  SuperTML/00/023807.png   16.000000  18.9  91.0  0.010989  3.6  356.0\n",
       "23808  SuperTML/00/023808.png   20.000000  18.5  91.0  0.010989  3.3  356.0\n",
       "\n",
       "[23809 rows x 7 columns]"
      ]
     },
     "execution_count": 8,
     "metadata": {},
     "output_type": "execute_result"
    }
   ],
   "source": [
    "combined_dataset = pd.concat([imgs,df],axis=1)\n",
    "# Drop target column and values which is a copy of target column\n",
    "df_x = combined_dataset.drop(df.columns[-1],axis=1).drop(\"values\",axis=1)\n",
    "df_y = combined_dataset[\"values\"]\n",
    "\n",
    "df_x"
   ]
  },
  {
   "cell_type": "code",
   "execution_count": 9,
   "metadata": {},
   "outputs": [
    {
     "data": {
      "text/html": [
       "<div>\n",
       "<style scoped>\n",
       "    .dataframe tbody tr th:only-of-type {\n",
       "        vertical-align: middle;\n",
       "    }\n",
       "\n",
       "    .dataframe tbody tr th {\n",
       "        vertical-align: top;\n",
       "    }\n",
       "\n",
       "    .dataframe thead th {\n",
       "        text-align: right;\n",
       "    }\n",
       "</style>\n",
       "<table border=\"1\" class=\"dataframe\">\n",
       "  <thead>\n",
       "    <tr style=\"text-align: right;\">\n",
       "      <th></th>\n",
       "      <th>images</th>\n",
       "      <th>values</th>\n",
       "      <th>O3</th>\n",
       "      <th>TMP</th>\n",
       "      <th>RH</th>\n",
       "      <th>1/RH</th>\n",
       "      <th>WSP</th>\n",
       "      <th>WDR</th>\n",
       "      <th>class</th>\n",
       "    </tr>\n",
       "  </thead>\n",
       "  <tbody>\n",
       "    <tr>\n",
       "      <th>0</th>\n",
       "      <td>SuperTML/01/000000.png</td>\n",
       "      <td>1</td>\n",
       "      <td>163.000000</td>\n",
       "      <td>28.2</td>\n",
       "      <td>17.0</td>\n",
       "      <td>0.058824</td>\n",
       "      <td>3.2</td>\n",
       "      <td>346.0</td>\n",
       "      <td>1</td>\n",
       "    </tr>\n",
       "    <tr>\n",
       "      <th>1</th>\n",
       "      <td>SuperTML/01/000001.png</td>\n",
       "      <td>1</td>\n",
       "      <td>170.000000</td>\n",
       "      <td>28.9</td>\n",
       "      <td>23.0</td>\n",
       "      <td>0.043478</td>\n",
       "      <td>3.4</td>\n",
       "      <td>355.0</td>\n",
       "      <td>1</td>\n",
       "    </tr>\n",
       "    <tr>\n",
       "      <th>2</th>\n",
       "      <td>SuperTML/01/000002.png</td>\n",
       "      <td>1</td>\n",
       "      <td>181.000000</td>\n",
       "      <td>28.9</td>\n",
       "      <td>28.0</td>\n",
       "      <td>0.035714</td>\n",
       "      <td>4.4</td>\n",
       "      <td>345.0</td>\n",
       "      <td>1</td>\n",
       "    </tr>\n",
       "    <tr>\n",
       "      <th>3</th>\n",
       "      <td>SuperTML/01/000003.png</td>\n",
       "      <td>1</td>\n",
       "      <td>171.000000</td>\n",
       "      <td>27.4</td>\n",
       "      <td>32.0</td>\n",
       "      <td>0.031250</td>\n",
       "      <td>4.7</td>\n",
       "      <td>357.0</td>\n",
       "      <td>1</td>\n",
       "    </tr>\n",
       "    <tr>\n",
       "      <th>4</th>\n",
       "      <td>SuperTML/01/000004.png</td>\n",
       "      <td>1</td>\n",
       "      <td>124.000000</td>\n",
       "      <td>26.0</td>\n",
       "      <td>37.0</td>\n",
       "      <td>0.027027</td>\n",
       "      <td>5.2</td>\n",
       "      <td>355.0</td>\n",
       "      <td>1</td>\n",
       "    </tr>\n",
       "    <tr>\n",
       "      <th>...</th>\n",
       "      <td>...</td>\n",
       "      <td>...</td>\n",
       "      <td>...</td>\n",
       "      <td>...</td>\n",
       "      <td>...</td>\n",
       "      <td>...</td>\n",
       "      <td>...</td>\n",
       "      <td>...</td>\n",
       "      <td>...</td>\n",
       "    </tr>\n",
       "    <tr>\n",
       "      <th>23804</th>\n",
       "      <td>SuperTML/00/023804.png</td>\n",
       "      <td>0</td>\n",
       "      <td>25.000000</td>\n",
       "      <td>21.3</td>\n",
       "      <td>90.0</td>\n",
       "      <td>0.011111</td>\n",
       "      <td>4.6</td>\n",
       "      <td>358.0</td>\n",
       "      <td>0</td>\n",
       "    </tr>\n",
       "    <tr>\n",
       "      <th>23805</th>\n",
       "      <td>SuperTML/00/023805.png</td>\n",
       "      <td>0</td>\n",
       "      <td>23.000000</td>\n",
       "      <td>20.6</td>\n",
       "      <td>89.0</td>\n",
       "      <td>0.011236</td>\n",
       "      <td>4.5</td>\n",
       "      <td>343.0</td>\n",
       "      <td>0</td>\n",
       "    </tr>\n",
       "    <tr>\n",
       "      <th>23806</th>\n",
       "      <td>SuperTML/00/023806.png</td>\n",
       "      <td>0</td>\n",
       "      <td>21.285714</td>\n",
       "      <td>19.1</td>\n",
       "      <td>91.0</td>\n",
       "      <td>0.010989</td>\n",
       "      <td>3.9</td>\n",
       "      <td>359.0</td>\n",
       "      <td>0</td>\n",
       "    </tr>\n",
       "    <tr>\n",
       "      <th>23807</th>\n",
       "      <td>SuperTML/00/023807.png</td>\n",
       "      <td>0</td>\n",
       "      <td>16.000000</td>\n",
       "      <td>18.9</td>\n",
       "      <td>91.0</td>\n",
       "      <td>0.010989</td>\n",
       "      <td>3.6</td>\n",
       "      <td>356.0</td>\n",
       "      <td>0</td>\n",
       "    </tr>\n",
       "    <tr>\n",
       "      <th>23808</th>\n",
       "      <td>SuperTML/00/023808.png</td>\n",
       "      <td>0</td>\n",
       "      <td>20.000000</td>\n",
       "      <td>18.5</td>\n",
       "      <td>91.0</td>\n",
       "      <td>0.010989</td>\n",
       "      <td>3.3</td>\n",
       "      <td>356.0</td>\n",
       "      <td>0</td>\n",
       "    </tr>\n",
       "  </tbody>\n",
       "</table>\n",
       "<p>23809 rows × 9 columns</p>\n",
       "</div>"
      ],
      "text/plain": [
       "                       images  values          O3   TMP    RH      1/RH  WSP  \\\n",
       "0      SuperTML/01/000000.png       1  163.000000  28.2  17.0  0.058824  3.2   \n",
       "1      SuperTML/01/000001.png       1  170.000000  28.9  23.0  0.043478  3.4   \n",
       "2      SuperTML/01/000002.png       1  181.000000  28.9  28.0  0.035714  4.4   \n",
       "3      SuperTML/01/000003.png       1  171.000000  27.4  32.0  0.031250  4.7   \n",
       "4      SuperTML/01/000004.png       1  124.000000  26.0  37.0  0.027027  5.2   \n",
       "...                       ...     ...         ...   ...   ...       ...  ...   \n",
       "23804  SuperTML/00/023804.png       0   25.000000  21.3  90.0  0.011111  4.6   \n",
       "23805  SuperTML/00/023805.png       0   23.000000  20.6  89.0  0.011236  4.5   \n",
       "23806  SuperTML/00/023806.png       0   21.285714  19.1  91.0  0.010989  3.9   \n",
       "23807  SuperTML/00/023807.png       0   16.000000  18.9  91.0  0.010989  3.6   \n",
       "23808  SuperTML/00/023808.png       0   20.000000  18.5  91.0  0.010989  3.3   \n",
       "\n",
       "         WDR  class  \n",
       "0      346.0      1  \n",
       "1      355.0      1  \n",
       "2      345.0      1  \n",
       "3      357.0      1  \n",
       "4      355.0      1  \n",
       "...      ...    ...  \n",
       "23804  358.0      0  \n",
       "23805  343.0      0  \n",
       "23806  359.0      0  \n",
       "23807  356.0      0  \n",
       "23808  356.0      0  \n",
       "\n",
       "[23809 rows x 9 columns]"
      ]
     },
     "execution_count": 9,
     "metadata": {},
     "output_type": "execute_result"
    }
   ],
   "source": [
    "combined_dataset"
   ]
  },
  {
   "cell_type": "markdown",
   "metadata": {},
   "source": [
    "---\n",
    "<div style=\"text-align: right\"> <font size=5> <a href=\"#indice\"><i class=\"fa fa-arrow-circle-up\" aria-hidden=\"true\" style=\"color:#004D7F\"></i></a></font></div>\n",
    "\n",
    "---"
   ]
  },
  {
   "cell_type": "markdown",
   "metadata": {},
   "source": [
    "<a id=\"section4\"></a>\n",
    "# <font color=\"#004D7F\" size=6> 4. Pre-modelling phase</font>"
   ]
  },
  {
   "cell_type": "markdown",
   "metadata": {},
   "source": [
    "Once the data is ready, we load it into memory with an iterator in order to pass it to the CNN."
   ]
  },
  {
   "cell_type": "markdown",
   "metadata": {},
   "source": [
    "---\n",
    "<a id=\"section41\"></a>\n",
    "# <font color=\"#004D7F\" size=5> 4.1. Data curation</font>"
   ]
  },
  {
   "cell_type": "markdown",
   "metadata": {},
   "source": [
    "Split in train/test/validation"
   ]
  },
  {
   "cell_type": "code",
   "execution_count": 10,
   "metadata": {},
   "outputs": [
    {
     "name": "stdout",
     "output_type": "stream",
     "text": [
      "Images shape:  (40, 40, 1)\n",
      "Attributres:  6\n",
      "Image size (pixels): 40\n"
     ]
    }
   ],
   "source": [
    "import cv2\n",
    "from sklearn.preprocessing import MinMaxScaler\n",
    "X_train, X_val, y_train, y_val = train_test_split(df_x, df_y, test_size = 0.30, random_state=SEED,stratify=df_y)\n",
    "X_val, X_test, y_val, y_test = train_test_split(X_val, y_val, test_size = 0.50, random_state=SEED,stratify=y_val)\n",
    "\n",
    "#TIDY DATA SPLITTED\n",
    "X_train_num = X_train.drop(\"images\",axis=1)\n",
    "X_val_num = X_val.drop(\"images\",axis=1)\n",
    "X_test_num = X_test.drop(\"images\",axis=1)\n",
    "\n",
    "#IMAGES\n",
    "# For 3 channels (RGB)\n",
    "\"\"\"X_train_img = np.array([cv2.imread(img) for img in X_train[\"images\"]])\n",
    "X_val_img = np.array([cv2.imread(img) for img in X_val[\"images\"]])\n",
    "X_test_img = np.array([cv2.imread(img) for img in X_test[\"images\"]])\"\"\"\n",
    "\n",
    "# For 1 channels (GRAY SCALE)\n",
    "X_train_img = np.array([cv2.imread(img,cv2.IMREAD_GRAYSCALE) for img in X_train[\"images\"]])\n",
    "X_val_img = np.array([cv2.imread(img,cv2.IMREAD_GRAYSCALE) for img in X_val[\"images\"]])\n",
    "X_test_img = np.array([cv2.imread(img,cv2.IMREAD_GRAYSCALE) for img in X_test[\"images\"]])\n",
    "\n",
    "# Create a MinMaxScaler object\n",
    "scaler = MinMaxScaler()\n",
    "\n",
    "# Scale numerical data\n",
    "X_train_num = scaler.fit_transform(X_train_num)\n",
    "X_val_num = scaler.transform(X_val_num)\n",
    "X_test_num = scaler.transform(X_test_num)\n",
    "\n",
    "attributes = X_train_num.shape[1]\n",
    "height, width = X_train_img[0].shape\n",
    "channels=1\n",
    "imgs_shape = (height, width, channels)\n",
    "\n",
    "print(\"Images shape: \",imgs_shape)\n",
    "print(\"Attributres: \",attributes)\n",
    "pixel=X_train_img[0].shape[0]\n",
    "print(\"Image size (pixels):\", pixel)"
   ]
  },
  {
   "cell_type": "code",
   "execution_count": 11,
   "metadata": {},
   "outputs": [
    {
     "data": {
      "image/png": "[encoded data removed]",
      "text/plain": [
       "<Figure size 640x480 with 1 Axes>"
      ]
     },
     "metadata": {},
     "output_type": "display_data"
    }
   ],
   "source": [
    "# Plot an example image (e.g., the first image in the array)\n",
    "example_image = X_train_img[0]\n",
    "\n",
    "# Convert the image from BGR (OpenCV default) to RGB for correct color display\n",
    "example_image_rgb = cv2.cvtColor(example_image, cv2.COLOR_BGR2RGB)\n",
    "\n",
    "# Display the image using matplotlib\n",
    "plt.imshow(example_image_rgb)\n",
    "plt.title(\"Example Image from X_train\")\n",
    "plt.axis('off')  # Hide the axis for a cleaner look\n",
    "plt.show()"
   ]
  },
  {
   "cell_type": "markdown",
   "metadata": {},
   "source": [
    "In our case, as we are going to train with a pre-trained network, we must resize it to the dimensions established by the network. Therefore, if you make a customised CNN, this cell is optional. "
   ]
  },
  {
   "cell_type": "code",
   "execution_count": 12,
   "metadata": {},
   "outputs": [],
   "source": [
    "X_train_img = X_train_img/255\n",
    "X_val_img = X_val_img/255\n",
    "X_test_img = X_test_img/255"
   ]
  },
  {
   "cell_type": "markdown",
   "metadata": {
    "id": "xagy7N7ijpEX"
   },
   "source": [
    "---\n",
    "<div style=\"text-align: right\"> <font size=5> <a href=\"#indice\"><i class=\"fa fa-arrow-circle-up\" aria-hidden=\"true\" style=\"color:#004D7F\"></i></a></font></div>\n",
    "\n",
    "---"
   ]
  },
  {
   "cell_type": "markdown",
   "metadata": {
    "id": "rE0VunQYjpEY"
   },
   "source": [
    "<a id=\"section5\"></a>\n",
    "# <font color=\"#004D7F\" size=6> 5. Modelling with CNN</font>"
   ]
  },
  {
   "cell_type": "markdown",
   "metadata": {
    "id": "Qn2U90FwjpEe"
   },
   "source": [
    "<a id=\"section51\"></a>\n",
    "# <font color=\"#004D7F\" size=5> 5.1. CNN</font>"
   ]
  },
  {
   "cell_type": "code",
   "execution_count": 13,
   "metadata": {
    "id": "tZl0AETUw1r8"
   },
   "outputs": [
    {
     "data": {
      "text/plain": [
       "2"
      ]
     },
     "execution_count": 13,
     "metadata": {},
     "output_type": "execute_result"
    }
   ],
   "source": [
    "dropout = 0.2\n",
    "epochs = 100\n",
    "n_class = df['class'].value_counts().count()\n",
    "n_class"
   ]
  },
  {
   "cell_type": "markdown",
   "metadata": {},
   "source": [
    "<div class=\"alert alert-block alert-info\">\n",
    "\n",
    "<i class=\"fa fa-info-circle\" aria-hidden=\"true\"></i>\n",
    "💡 **Important**: `padding=\"same\"` is very important to avoid losing the first/last row/column of pixels. Keep in mind that the images have a small size.\n"
   ]
  },
  {
   "cell_type": "code",
   "execution_count": 14,
   "metadata": {},
   "outputs": [
    {
     "name": "stderr",
     "output_type": "stream",
     "text": [
      "2024-12-13 09:32:31.098836: I metal_plugin/src/device/metal_device.cc:1154] Metal device set to: Apple M3 Pro\n",
      "2024-12-13 09:32:31.098861: I metal_plugin/src/device/metal_device.cc:296] systemMemory: 36.00 GB\n",
      "2024-12-13 09:32:31.098901: I metal_plugin/src/device/metal_device.cc:313] maxCacheSize: 13.50 GB\n",
      "2024-12-13 09:32:31.098938: I tensorflow/core/common_runtime/pluggable_device/pluggable_device_factory.cc:305] Could not identify NUMA node of platform GPU ID 0, defaulting to 0. Your kernel may not have been built with NUMA support.\n",
      "2024-12-13 09:32:31.098981: I tensorflow/core/common_runtime/pluggable_device/pluggable_device_factory.cc:271] Created TensorFlow device (/job:localhost/replica:0/task:0/device:GPU:0 with 0 MB memory) -> physical PluggableDevice (device: 0, name: METAL, pci bus id: <undefined>)\n"
     ]
    }
   ],
   "source": [
    "#Entrada\n",
    "input_shape = Input(shape=(pixel, pixel,1))\n",
    "        \n",
    "#Inicio de rama 1\n",
    "tower_1 = Conv2D(16, (3,3), activation='relu',padding=\"same\")(input_shape)\n",
    "#tower_1 = BatchNormalization()(tower_1)\n",
    "#tower_1 = Activation('relu')(tower_1)\n",
    "tower_1 = MaxPooling2D(2,2)(tower_1)\n",
    "#tower_1 = Dropout(dropout)(tower_1)\n",
    "        \n",
    "tower_1 = Conv2D(32, (3,3), activation='relu',padding=\"same\")(tower_1)\n",
    "#tower_1 = BatchNormalization()(tower_1)\n",
    "#tower_1 = Activation('relu')(tower_1)\n",
    "tower_1 = MaxPooling2D(2,2)(tower_1)\n",
    "#tower_1 = Dropout(dropout)(tower_1)\n",
    "        \n",
    "tower_1 = Conv2D(64, (3,3), activation='relu',padding=\"same\")(tower_1)\n",
    "#tower_1 = BatchNormalization()(tower_1)\n",
    "#tower_1 = Activation('relu')(tower_1)\n",
    "tower_1 = MaxPooling2D(2,2)(tower_1)\n",
    "#tower_1 = Dropout(dropout)(tower_1)\n",
    "        \n",
    "#tower_1 = Conv2D(64, (3,3), activation='relu',padding=\"same\")(tower_1)\n",
    "#tower_1 = BatchNormalization()(tower_1)\n",
    "#tower_1 = Activation('relu')(tower_1)\n",
    "#tower_1 = MaxPooling2D(2,2)(tower_1)\n",
    "#tower_1 = Dropout(dropout)(tower_1)\n",
    "#Fin de rama 1\n",
    "        \n",
    "#Inicio de rama 2\n",
    "tower_2 = Conv2D(16, (5,5), activation='relu',padding=\"same\")(input_shape)\n",
    "#tower_2 = BatchNormalization()(tower_2)\n",
    "#tower_2 = Activation('relu')(tower_2)\n",
    "tower_2 = AveragePooling2D(2,2)(tower_2)\n",
    "#tower_2 = Dropout(dropout)(tower_2)\n",
    "        \n",
    "tower_2 = Conv2D(32, (5,5), activation='relu',padding=\"same\")(tower_2)\n",
    "#tower_2 = BatchNormalization()(tower_2)\n",
    "#tower_2 = Activation('relu')(tower_2)\n",
    "tower_2 = AveragePooling2D(2,2)(tower_2)\n",
    "#tower_2 = Dropout(dropout)(tower_2)\n",
    "        \n",
    "tower_2 = Conv2D(64, (5,5), activation='relu',padding=\"same\")(tower_2)\n",
    "#tower_2 = BatchNormalization()(tower_2)\n",
    "#tower_2 = Activation('relu')(tower_2)\n",
    "tower_2 = AveragePooling2D(2,2)(tower_2)\n",
    "#tower_2 = Dropout(dropout)(tower_2)\n",
    "        \n",
    "#tower_2 = Conv2D(64, (5,5), activation='relu',padding=\"same\")(tower_2)\n",
    "#tower_2 = BatchNormalization()(tower_2)\n",
    "#tower_2 = Activation('relu')(tower_2)\n",
    "#tower_2 = AveragePooling2D(2,2)(tower_2)\n",
    "#tower_2 = Dropout(dropout)(tower_2)\n",
    "            \n",
    "#Concatenación de las 2 ramas\n",
    "merged = Concatenate(axis=1)([tower_1, tower_2])\n",
    "        \n",
    "#Aplanamiento\n",
    "merged = Flatten()(merged)\n",
    "        \n",
    "#Capas adicionales\n",
    "#out = Dense(512, activation='relu')(merged)\n",
    "#out = Dense(256, activation='relu')(merged)\n",
    "out = Dense(128, activation='relu')(merged)\n",
    "out = Dense(64, activation='relu')(out)\n",
    "out = Dense(32, activation='relu')(out)\n",
    "        \n",
    "#Capa final de clasificación\n",
    "#out = Dense(n_class, activation='softmax')(out)\n",
    "out = Dense(1, activation='sigmoid')(out)\n",
    "        \n",
    "model = Model(input_shape, out)"
   ]
  },
  {
   "cell_type": "code",
   "execution_count": 15,
   "metadata": {
    "id": "DC3Ft7sppjGI",
    "tags": []
   },
   "outputs": [],
   "source": [
    "METRICS = [\n",
    "      tf.keras.metrics.TruePositives(name = 'tp'),\n",
    "      tf.keras.metrics.FalsePositives(name = 'fp'),\n",
    "      tf.keras.metrics.TrueNegatives(name = 'tn'),\n",
    "      tf.keras.metrics.FalseNegatives(name = 'fn'), \n",
    "      tf.keras.metrics.BinaryAccuracy(name ='accuracy'),\n",
    "      tf.keras.metrics.Precision(name = 'precision'),\n",
    "      tf.keras.metrics.Recall(name = 'recall'),\n",
    "      tf.keras.metrics.AUC(name = 'auc'),\n",
    "]"
   ]
  },
  {
   "cell_type": "markdown",
   "metadata": {
    "id": "owmN8gR-jpEh"
   },
   "source": [
    "<a id=\"section52\"></a>\n",
    "# <font color=\"#004D7F\" size=5> 5.2. Compile and fit</font>"
   ]
  },
  {
   "cell_type": "markdown",
   "metadata": {},
   "source": [
    "Note to **specify the loss** depending on whether you have a binary or multiclass classification problem."
   ]
  },
  {
   "cell_type": "code",
   "execution_count": 16,
   "metadata": {
    "id": "RFxZU2q6pjGJ",
    "tags": []
   },
   "outputs": [],
   "source": [
    "opt = Adamax()\n",
    "model.compile(\n",
    "                #optimizer = sgd,\n",
    "                optimizer = opt,\n",
    "                #optimizer = 'Adadelta',\n",
    "                #optimizer = 'Adamax',\n",
    "                #optimizer = opt,\n",
    "                metrics = METRICS,\n",
    "                #metrics = ['accuracy'],\n",
    "                \n",
    "                loss = 'binary_crossentropy'\n",
    "                #loss = 'categorical_crossentropy'\n",
    "                )"
   ]
  },
  {
   "cell_type": "code",
   "execution_count": 17,
   "metadata": {},
   "outputs": [],
   "source": [
    "# Configure EarlyStopping for binary classification\n",
    "early_stopper = tf.keras.callbacks.EarlyStopping(\n",
    "    monitor='val_loss',  # Monitor the validation accuracy\n",
    "    min_delta=0.001,         # Minimum change in the monitored quantity to qualify as an improvement\n",
    "    patience=20,             # Number of epochs with no improvement after which training will be stopped\n",
    "    verbose=1,               # Log when training stops\n",
    "    mode='min',              # Maximize the accuracy; min the loss\n",
    "    restore_best_weights=True  # Restore model weights from the epoch with the best value of the monitored quantity\n",
    ")"
   ]
  },
  {
   "cell_type": "code",
   "execution_count": 18,
   "metadata": {
    "scrolled": true
   },
   "outputs": [
    {
     "name": "stdout",
     "output_type": "stream",
     "text": [
      "Epoch 1/100\n"
     ]
    },
    {
     "name": "stderr",
     "output_type": "stream",
     "text": [
      "/Users/manwest/Library/Python/3.9/lib/python/site-packages/keras/src/models/functional.py:225: UserWarning: The structure of `inputs` doesn't match the expected structure: keras_tensor. Received: the structure of inputs=('*',)\n",
      "  warnings.warn(\n",
      "2024-12-13 09:32:32.132796: I tensorflow/core/grappler/optimizers/custom_graph_optimizer_registry.cc:117] Plugin optimizer for device_type GPU is enabled.\n"
     ]
    },
    {
     "name": "stdout",
     "output_type": "stream",
     "text": [
      "\u001b[1m521/521\u001b[0m \u001b[32m━━━━━━━━━━━━━━━━━━━━\u001b[0m\u001b[37m\u001b[0m \u001b[1m14s\u001b[0m 22ms/step - accuracy: 0.9236 - auc: 0.4841 - fn: 647.7931 - fp: 0.0000e+00 - loss: 0.2962 - precision: 0.0000e+00 - recall: 0.0000e+00 - tn: 7720.1226 - tp: 0.0000e+00 - val_accuracy: 0.9238 - val_auc: 0.6046 - val_fn: 272.0000 - val_fp: 0.0000e+00 - val_loss: 0.2725 - val_precision: 0.0000e+00 - val_recall: 0.0000e+00 - val_tn: 3299.0000 - val_tp: 0.0000e+00\n",
      "Epoch 2/100\n",
      "\u001b[1m521/521\u001b[0m \u001b[32m━━━━━━━━━━━━━━━━━━━━\u001b[0m\u001b[37m\u001b[0m \u001b[1m11s\u001b[0m 20ms/step - accuracy: 0.9236 - auc: 0.5343 - fn: 647.7931 - fp: 0.0000e+00 - loss: 0.2700 - precision: 0.0000e+00 - recall: 0.0000e+00 - tn: 7720.1226 - tp: 0.0000e+00 - val_accuracy: 0.9238 - val_auc: 0.6826 - val_fn: 272.0000 - val_fp: 0.0000e+00 - val_loss: 0.2594 - val_precision: 0.0000e+00 - val_recall: 0.0000e+00 - val_tn: 3299.0000 - val_tp: 0.0000e+00\n",
      "Epoch 3/100\n",
      "\u001b[1m521/521\u001b[0m \u001b[32m━━━━━━━━━━━━━━━━━━━━\u001b[0m\u001b[37m\u001b[0m \u001b[1m11s\u001b[0m 21ms/step - accuracy: 0.9236 - auc: 0.6585 - fn: 647.7931 - fp: 0.0000e+00 - loss: 0.2566 - precision: 0.0000e+00 - recall: 0.0000e+00 - tn: 7720.1226 - tp: 0.0000e+00 - val_accuracy: 0.9238 - val_auc: 0.7139 - val_fn: 272.0000 - val_fp: 0.0000e+00 - val_loss: 0.2484 - val_precision: 0.0000e+00 - val_recall: 0.0000e+00 - val_tn: 3299.0000 - val_tp: 0.0000e+00\n",
      "Epoch 4/100\n",
      "\u001b[1m521/521\u001b[0m \u001b[32m━━━━━━━━━━━━━━━━━━━━\u001b[0m\u001b[37m\u001b[0m \u001b[1m12s\u001b[0m 23ms/step - accuracy: 0.9236 - auc: 0.6924 - fn: 647.7931 - fp: 0.0000e+00 - loss: 0.2509 - precision: 0.0000e+00 - recall: 0.0000e+00 - tn: 7720.1226 - tp: 0.0000e+00 - val_accuracy: 0.9238 - val_auc: 0.7333 - val_fn: 272.0000 - val_fp: 0.0000e+00 - val_loss: 0.2452 - val_precision: 0.0000e+00 - val_recall: 0.0000e+00 - val_tn: 3299.0000 - val_tp: 0.0000e+00\n",
      "Epoch 5/100\n",
      "\u001b[1m521/521\u001b[0m \u001b[32m━━━━━━━━━━━━━━━━━━━━\u001b[0m\u001b[37m\u001b[0m \u001b[1m12s\u001b[0m 23ms/step - accuracy: 0.9236 - auc: 0.7106 - fn: 647.7931 - fp: 0.0000e+00 - loss: 0.2478 - precision: 0.0000e+00 - recall: 0.0000e+00 - tn: 7720.1226 - tp: 0.0000e+00 - val_accuracy: 0.9238 - val_auc: 0.7504 - val_fn: 272.0000 - val_fp: 0.0000e+00 - val_loss: 0.2421 - val_precision: 0.0000e+00 - val_recall: 0.0000e+00 - val_tn: 3299.0000 - val_tp: 0.0000e+00\n",
      "Epoch 6/100\n",
      "\u001b[1m521/521\u001b[0m \u001b[32m━━━━━━━━━━━━━━━━━━━━\u001b[0m\u001b[37m\u001b[0m \u001b[1m11s\u001b[0m 21ms/step - accuracy: 0.9236 - auc: 0.7267 - fn: 647.7931 - fp: 0.0000e+00 - loss: 0.2445 - precision: 0.0000e+00 - recall: 0.0000e+00 - tn: 7720.1226 - tp: 0.0000e+00 - val_accuracy: 0.9238 - val_auc: 0.7703 - val_fn: 272.0000 - val_fp: 0.0000e+00 - val_loss: 0.2378 - val_precision: 0.0000e+00 - val_recall: 0.0000e+00 - val_tn: 3299.0000 - val_tp: 0.0000e+00\n",
      "Epoch 7/100\n",
      "\u001b[1m521/521\u001b[0m \u001b[32m━━━━━━━━━━━━━━━━━━━━\u001b[0m\u001b[37m\u001b[0m \u001b[1m11s\u001b[0m 21ms/step - accuracy: 0.9236 - auc: 0.7466 - fn: 647.7931 - fp: 0.0000e+00 - loss: 0.2399 - precision: 0.0000e+00 - recall: 0.0000e+00 - tn: 7720.1226 - tp: 0.0000e+00 - val_accuracy: 0.9238 - val_auc: 0.7918 - val_fn: 272.0000 - val_fp: 0.0000e+00 - val_loss: 0.2324 - val_precision: 0.0000e+00 - val_recall: 0.0000e+00 - val_tn: 3299.0000 - val_tp: 0.0000e+00\n",
      "Epoch 8/100\n",
      "\u001b[1m521/521\u001b[0m \u001b[32m━━━━━━━━━━━━━━━━━━━━\u001b[0m\u001b[37m\u001b[0m \u001b[1m11s\u001b[0m 22ms/step - accuracy: 0.9236 - auc: 0.7672 - fn: 647.7931 - fp: 0.0000e+00 - loss: 0.2342 - precision: 0.0000e+00 - recall: 0.0000e+00 - tn: 7720.1226 - tp: 0.0000e+00 - val_accuracy: 0.9238 - val_auc: 0.8057 - val_fn: 272.0000 - val_fp: 0.0000e+00 - val_loss: 0.2286 - val_precision: 0.0000e+00 - val_recall: 0.0000e+00 - val_tn: 3299.0000 - val_tp: 0.0000e+00\n",
      "Epoch 9/100\n",
      "\u001b[1m521/521\u001b[0m \u001b[32m━━━━━━━━━━━━━━━━━━━━\u001b[0m\u001b[37m\u001b[0m \u001b[1m12s\u001b[0m 23ms/step - accuracy: 0.9237 - auc: 0.7818 - fn: 640.0786 - fp: 5.7548 - loss: 0.2295 - precision: 0.4236 - recall: 0.0089 - tn: 7714.3677 - tp: 7.7146 - val_accuracy: 0.9250 - val_auc: 0.8091 - val_fn: 264.0000 - val_fp: 4.0000 - val_loss: 0.2270 - val_precision: 0.6667 - val_recall: 0.0294 - val_tn: 3295.0000 - val_tp: 8.0000\n",
      "Epoch 10/100\n",
      "\u001b[1m521/521\u001b[0m \u001b[32m━━━━━━━━━━━━━━━━━━━━\u001b[0m\u001b[37m\u001b[0m \u001b[1m13s\u001b[0m 24ms/step - accuracy: 0.9248 - auc: 0.7910 - fn: 621.9923 - fp: 13.9828 - loss: 0.2259 - precision: 0.6949 - recall: 0.0343 - tn: 7706.1396 - tp: 25.8008 - val_accuracy: 0.9280 - val_auc: 0.8103 - val_fn: 248.0000 - val_fp: 9.0000 - val_loss: 0.2257 - val_precision: 0.7273 - val_recall: 0.0882 - val_tn: 3290.0000 - val_tp: 24.0000\n",
      "Epoch 11/100\n",
      "\u001b[1m521/521\u001b[0m \u001b[32m━━━━━━━━━━━━━━━━━━━━\u001b[0m\u001b[37m\u001b[0m \u001b[1m12s\u001b[0m 23ms/step - accuracy: 0.9263 - auc: 0.7975 - fn: 603.3927 - fp: 20.5287 - loss: 0.2230 - precision: 0.6830 - recall: 0.0649 - tn: 7699.5938 - tp: 44.4004 - val_accuracy: 0.9314 - val_auc: 0.8098 - val_fn: 232.0000 - val_fp: 13.0000 - val_loss: 0.2252 - val_precision: 0.7547 - val_recall: 0.1471 - val_tn: 3286.0000 - val_tp: 40.0000\n",
      "Epoch 12/100\n",
      "\u001b[1m521/521\u001b[0m \u001b[32m━━━━━━━━━━━━━━━━━━━━\u001b[0m\u001b[37m\u001b[0m \u001b[1m12s\u001b[0m 23ms/step - accuracy: 0.9280 - auc: 0.8007 - fn: 586.5804 - fp: 27.8238 - loss: 0.2209 - precision: 0.7282 - recall: 0.0950 - tn: 7692.2988 - tp: 61.2126 - val_accuracy: 0.9325 - val_auc: 0.8107 - val_fn: 224.0000 - val_fp: 17.0000 - val_loss: 0.2234 - val_precision: 0.7385 - val_recall: 0.1765 - val_tn: 3282.0000 - val_tp: 48.0000\n",
      "Epoch 13/100\n",
      "\u001b[1m521/521\u001b[0m \u001b[32m━━━━━━━━━━━━━━━━━━━━\u001b[0m\u001b[37m\u001b[0m \u001b[1m12s\u001b[0m 23ms/step - accuracy: 0.9283 - auc: 0.8043 - fn: 580.5019 - fp: 30.7241 - loss: 0.2190 - precision: 0.7215 - recall: 0.1031 - tn: 7689.3984 - tp: 67.2912 - val_accuracy: 0.9314 - val_auc: 0.8108 - val_fn: 217.0000 - val_fp: 28.0000 - val_loss: 0.2230 - val_precision: 0.6627 - val_recall: 0.2022 - val_tn: 3271.0000 - val_tp: 55.0000\n",
      "Epoch 14/100\n",
      "\u001b[1m521/521\u001b[0m \u001b[32m━━━━━━━━━━━━━━━━━━━━\u001b[0m\u001b[37m\u001b[0m \u001b[1m12s\u001b[0m 23ms/step - accuracy: 0.9282 - auc: 0.8072 - fn: 572.4808 - fp: 36.6916 - loss: 0.2173 - precision: 0.6790 - recall: 0.1152 - tn: 7683.4312 - tp: 75.3123 - val_accuracy: 0.9314 - val_auc: 0.8101 - val_fn: 206.0000 - val_fp: 39.0000 - val_loss: 0.2236 - val_precision: 0.6286 - val_recall: 0.2426 - val_tn: 3260.0000 - val_tp: 66.0000\n",
      "Epoch 15/100\n",
      "\u001b[1m521/521\u001b[0m \u001b[32m━━━━━━━━━━━━━━━━━━━━\u001b[0m\u001b[37m\u001b[0m \u001b[1m12s\u001b[0m 23ms/step - accuracy: 0.9289 - auc: 0.8092 - fn: 562.4138 - fp: 39.0345 - loss: 0.2157 - precision: 0.6817 - recall: 0.1292 - tn: 7681.0879 - tp: 85.3793 - val_accuracy: 0.9294 - val_auc: 0.8123 - val_fn: 203.0000 - val_fp: 49.0000 - val_loss: 0.2226 - val_precision: 0.5847 - val_recall: 0.2537 - val_tn: 3250.0000 - val_tp: 69.0000\n",
      "Epoch 16/100\n",
      "\u001b[1m521/521\u001b[0m \u001b[32m━━━━━━━━━━━━━━━━━━━━\u001b[0m\u001b[37m\u001b[0m \u001b[1m12s\u001b[0m 23ms/step - accuracy: 0.9295 - auc: 0.8124 - fn: 554.9962 - fp: 43.3180 - loss: 0.2143 - precision: 0.6878 - recall: 0.1433 - tn: 7676.8047 - tp: 92.7969 - val_accuracy: 0.9297 - val_auc: 0.8138 - val_fn: 203.0000 - val_fp: 48.0000 - val_loss: 0.2191 - val_precision: 0.5897 - val_recall: 0.2537 - val_tn: 3251.0000 - val_tp: 69.0000\n",
      "Epoch 17/100\n",
      "\u001b[1m521/521\u001b[0m \u001b[32m━━━━━━━━━━━━━━━━━━━━\u001b[0m\u001b[37m\u001b[0m \u001b[1m12s\u001b[0m 22ms/step - accuracy: 0.9300 - auc: 0.8141 - fn: 549.2835 - fp: 43.7644 - loss: 0.2127 - precision: 0.6919 - recall: 0.1505 - tn: 7676.3584 - tp: 98.5096 - val_accuracy: 0.9250 - val_auc: 0.8135 - val_fn: 198.0000 - val_fp: 70.0000 - val_loss: 0.2223 - val_precision: 0.5139 - val_recall: 0.2721 - val_tn: 3229.0000 - val_tp: 74.0000\n",
      "Epoch 18/100\n",
      "\u001b[1m521/521\u001b[0m \u001b[32m━━━━━━━━━━━━━━━━━━━━\u001b[0m\u001b[37m\u001b[0m \u001b[1m12s\u001b[0m 23ms/step - accuracy: 0.9301 - auc: 0.8148 - fn: 543.1743 - fp: 47.8927 - loss: 0.2120 - precision: 0.6793 - recall: 0.1622 - tn: 7672.2300 - tp: 104.6188 - val_accuracy: 0.9269 - val_auc: 0.8159 - val_fn: 198.0000 - val_fp: 63.0000 - val_loss: 0.2192 - val_precision: 0.5401 - val_recall: 0.2721 - val_tn: 3236.0000 - val_tp: 74.0000\n",
      "Epoch 19/100\n",
      "\u001b[1m521/521\u001b[0m \u001b[32m━━━━━━━━━━━━━━━━━━━━\u001b[0m\u001b[37m\u001b[0m \u001b[1m12s\u001b[0m 23ms/step - accuracy: 0.9310 - auc: 0.8174 - fn: 531.4636 - fp: 49.7912 - loss: 0.2099 - precision: 0.6864 - recall: 0.1768 - tn: 7670.3315 - tp: 116.3295 - val_accuracy: 0.9255 - val_auc: 0.8157 - val_fn: 189.0000 - val_fp: 77.0000 - val_loss: 0.2224 - val_precision: 0.5188 - val_recall: 0.3051 - val_tn: 3222.0000 - val_tp: 83.0000\n",
      "Epoch 20/100\n",
      "\u001b[1m521/521\u001b[0m \u001b[32m━━━━━━━━━━━━━━━━━━━━\u001b[0m\u001b[37m\u001b[0m \u001b[1m12s\u001b[0m 23ms/step - accuracy: 0.9319 - auc: 0.8212 - fn: 524.3180 - fp: 51.7682 - loss: 0.2081 - precision: 0.6995 - recall: 0.1912 - tn: 7668.3545 - tp: 123.4751 - val_accuracy: 0.9236 - val_auc: 0.8157 - val_fn: 192.0000 - val_fp: 81.0000 - val_loss: 0.2230 - val_precision: 0.4969 - val_recall: 0.2941 - val_tn: 3218.0000 - val_tp: 80.0000\n",
      "Epoch 21/100\n",
      "\u001b[1m521/521\u001b[0m \u001b[32m━━━━━━━━━━━━━━━━━━━━\u001b[0m\u001b[37m\u001b[0m \u001b[1m12s\u001b[0m 23ms/step - accuracy: 0.9325 - auc: 0.8222 - fn: 519.5441 - fp: 54.3027 - loss: 0.2070 - precision: 0.7061 - recall: 0.2005 - tn: 7665.8198 - tp: 128.2490 - val_accuracy: 0.9252 - val_auc: 0.8168 - val_fn: 194.0000 - val_fp: 73.0000 - val_loss: 0.2197 - val_precision: 0.5166 - val_recall: 0.2868 - val_tn: 3226.0000 - val_tp: 78.0000\n",
      "Epoch 22/100\n",
      "\u001b[1m521/521\u001b[0m \u001b[32m━━━━━━━━━━━━━━━━━━━━\u001b[0m\u001b[37m\u001b[0m \u001b[1m11s\u001b[0m 21ms/step - accuracy: 0.9337 - auc: 0.8250 - fn: 515.2050 - fp: 47.3161 - loss: 0.2052 - precision: 0.7369 - recall: 0.2060 - tn: 7672.8066 - tp: 132.5881 - val_accuracy: 0.9233 - val_auc: 0.8169 - val_fn: 187.0000 - val_fp: 87.0000 - val_loss: 0.2226 - val_precision: 0.4942 - val_recall: 0.3125 - val_tn: 3212.0000 - val_tp: 85.0000\n",
      "Epoch 23/100\n",
      "\u001b[1m521/521\u001b[0m \u001b[32m━━━━━━━━━━━━━━━━━━━━\u001b[0m\u001b[37m\u001b[0m \u001b[1m11s\u001b[0m 22ms/step - accuracy: 0.9341 - auc: 0.8257 - fn: 512.3295 - fp: 46.9483 - loss: 0.2046 - precision: 0.7386 - recall: 0.2137 - tn: 7673.1743 - tp: 135.4636 - val_accuracy: 0.9275 - val_auc: 0.8184 - val_fn: 194.0000 - val_fp: 65.0000 - val_loss: 0.2150 - val_precision: 0.5455 - val_recall: 0.2868 - val_tn: 3234.0000 - val_tp: 78.0000\n",
      "Epoch 24/100\n",
      "\u001b[1m521/521\u001b[0m \u001b[32m━━━━━━━━━━━━━━━━━━━━\u001b[0m\u001b[37m\u001b[0m \u001b[1m11s\u001b[0m 22ms/step - accuracy: 0.9342 - auc: 0.8278 - fn: 510.1513 - fp: 49.0172 - loss: 0.2029 - precision: 0.7366 - recall: 0.2156 - tn: 7671.1055 - tp: 137.6418 - val_accuracy: 0.9292 - val_auc: 0.8209 - val_fn: 196.0000 - val_fp: 57.0000 - val_loss: 0.2133 - val_precision: 0.5714 - val_recall: 0.2794 - val_tn: 3242.0000 - val_tp: 76.0000\n",
      "Epoch 25/100\n",
      "\u001b[1m521/521\u001b[0m \u001b[32m━━━━━━━━━━━━━━━━━━━━\u001b[0m\u001b[37m\u001b[0m \u001b[1m13s\u001b[0m 24ms/step - accuracy: 0.9356 - auc: 0.8301 - fn: 499.7031 - fp: 47.8295 - loss: 0.2015 - precision: 0.7531 - recall: 0.2340 - tn: 7672.2930 - tp: 148.0900 - val_accuracy: 0.9275 - val_auc: 0.8177 - val_fn: 193.0000 - val_fp: 66.0000 - val_loss: 0.2155 - val_precision: 0.5448 - val_recall: 0.2904 - val_tn: 3233.0000 - val_tp: 79.0000\n",
      "Epoch 26/100\n",
      "\u001b[1m521/521\u001b[0m \u001b[32m━━━━━━━━━━━━━━━━━━━━\u001b[0m\u001b[37m\u001b[0m \u001b[1m12s\u001b[0m 22ms/step - accuracy: 0.9350 - auc: 0.8319 - fn: 501.8946 - fp: 52.1513 - loss: 0.2010 - precision: 0.7372 - recall: 0.2321 - tn: 7667.9712 - tp: 145.8985 - val_accuracy: 0.9275 - val_auc: 0.8184 - val_fn: 189.0000 - val_fp: 70.0000 - val_loss: 0.2173 - val_precision: 0.5425 - val_recall: 0.3051 - val_tn: 3229.0000 - val_tp: 83.0000\n",
      "Epoch 27/100\n",
      "\u001b[1m521/521\u001b[0m \u001b[32m━━━━━━━━━━━━━━━━━━━━\u001b[0m\u001b[37m\u001b[0m \u001b[1m12s\u001b[0m 23ms/step - accuracy: 0.9353 - auc: 0.8326 - fn: 498.3103 - fp: 51.7337 - loss: 0.2003 - precision: 0.7379 - recall: 0.2372 - tn: 7668.3887 - tp: 149.4828 - val_accuracy: 0.9294 - val_auc: 0.8161 - val_fn: 193.0000 - val_fp: 59.0000 - val_loss: 0.2159 - val_precision: 0.5725 - val_recall: 0.2904 - val_tn: 3240.0000 - val_tp: 79.0000\n",
      "Epoch 28/100\n",
      "\u001b[1m521/521\u001b[0m \u001b[32m━━━━━━━━━━━━━━━━━━━━\u001b[0m\u001b[37m\u001b[0m \u001b[1m12s\u001b[0m 23ms/step - accuracy: 0.9357 - auc: 0.8328 - fn: 497.5019 - fp: 47.0038 - loss: 0.2000 - precision: 0.7498 - recall: 0.2373 - tn: 7673.1187 - tp: 150.2912 - val_accuracy: 0.9294 - val_auc: 0.8176 - val_fn: 200.0000 - val_fp: 52.0000 - val_loss: 0.2143 - val_precision: 0.5806 - val_recall: 0.2647 - val_tn: 3247.0000 - val_tp: 72.0000\n",
      "Epoch 29/100\n",
      "\u001b[1m521/521\u001b[0m \u001b[32m━━━━━━━━━━━━━━━━━━━━\u001b[0m\u001b[37m\u001b[0m \u001b[1m12s\u001b[0m 23ms/step - accuracy: 0.9373 - auc: 0.8332 - fn: 491.6686 - fp: 42.6628 - loss: 0.1990 - precision: 0.7864 - recall: 0.2471 - tn: 7677.4600 - tp: 156.1245 - val_accuracy: 0.9292 - val_auc: 0.8190 - val_fn: 206.0000 - val_fp: 47.0000 - val_loss: 0.2119 - val_precision: 0.5841 - val_recall: 0.2426 - val_tn: 3252.0000 - val_tp: 66.0000\n",
      "Epoch 30/100\n",
      "\u001b[1m521/521\u001b[0m \u001b[32m━━━━━━━━━━━━━━━━━━━━\u001b[0m\u001b[37m\u001b[0m \u001b[1m12s\u001b[0m 22ms/step - accuracy: 0.9380 - auc: 0.8365 - fn: 487.9521 - fp: 40.1571 - loss: 0.1976 - precision: 0.7928 - recall: 0.2548 - tn: 7679.9653 - tp: 159.8410 - val_accuracy: 0.9266 - val_auc: 0.8202 - val_fn: 196.0000 - val_fp: 66.0000 - val_loss: 0.2155 - val_precision: 0.5352 - val_recall: 0.2794 - val_tn: 3233.0000 - val_tp: 76.0000\n",
      "Epoch 31/100\n",
      "\u001b[1m521/521\u001b[0m \u001b[32m━━━━━━━━━━━━━━━━━━━━\u001b[0m\u001b[37m\u001b[0m \u001b[1m12s\u001b[0m 23ms/step - accuracy: 0.9393 - auc: 0.8375 - fn: 480.8870 - fp: 37.7510 - loss: 0.1969 - precision: 0.8116 - recall: 0.2673 - tn: 7682.3716 - tp: 166.9061 - val_accuracy: 0.9269 - val_auc: 0.8203 - val_fn: 198.0000 - val_fp: 63.0000 - val_loss: 0.2144 - val_precision: 0.5401 - val_recall: 0.2721 - val_tn: 3236.0000 - val_tp: 74.0000\n",
      "Epoch 32/100\n",
      "\u001b[1m521/521\u001b[0m \u001b[32m━━━━━━━━━━━━━━━━━━━━\u001b[0m\u001b[37m\u001b[0m \u001b[1m12s\u001b[0m 23ms/step - accuracy: 0.9392 - auc: 0.8393 - fn: 480.1149 - fp: 39.9713 - loss: 0.1958 - precision: 0.8133 - recall: 0.2660 - tn: 7680.1514 - tp: 167.6782 - val_accuracy: 0.9280 - val_auc: 0.8196 - val_fn: 198.0000 - val_fp: 59.0000 - val_loss: 0.2150 - val_precision: 0.5564 - val_recall: 0.2721 - val_tn: 3240.0000 - val_tp: 74.0000\n",
      "Epoch 33/100\n",
      "\u001b[1m521/521\u001b[0m \u001b[32m━━━━━━━━━━━━━━━━━━━━\u001b[0m\u001b[37m\u001b[0m \u001b[1m11s\u001b[0m 22ms/step - accuracy: 0.9400 - auc: 0.8385 - fn: 479.7433 - fp: 37.1571 - loss: 0.1951 - precision: 0.8288 - recall: 0.2703 - tn: 7682.9653 - tp: 168.0498 - val_accuracy: 0.9266 - val_auc: 0.8210 - val_fn: 191.0000 - val_fp: 71.0000 - val_loss: 0.2190 - val_precision: 0.5329 - val_recall: 0.2978 - val_tn: 3228.0000 - val_tp: 81.0000\n",
      "Epoch 34/100\n",
      "\u001b[1m521/521\u001b[0m \u001b[32m━━━━━━━━━━━━━━━━━━━━\u001b[0m\u001b[37m\u001b[0m \u001b[1m11s\u001b[0m 22ms/step - accuracy: 0.9385 - auc: 0.8397 - fn: 483.4674 - fp: 44.3678 - loss: 0.1951 - precision: 0.7953 - recall: 0.2625 - tn: 7675.7549 - tp: 164.3257 - val_accuracy: 0.9261 - val_auc: 0.8218 - val_fn: 192.0000 - val_fp: 72.0000 - val_loss: 0.2180 - val_precision: 0.5263 - val_recall: 0.2941 - val_tn: 3227.0000 - val_tp: 80.0000\n",
      "Epoch 35/100\n",
      "\u001b[1m521/521\u001b[0m \u001b[32m━━━━━━━━━━━━━━━━━━━━\u001b[0m\u001b[37m\u001b[0m \u001b[1m12s\u001b[0m 23ms/step - accuracy: 0.9406 - auc: 0.8432 - fn: 476.0402 - fp: 35.3716 - loss: 0.1925 - precision: 0.8359 - recall: 0.2773 - tn: 7684.7510 - tp: 171.7529 - val_accuracy: 0.9269 - val_auc: 0.8205 - val_fn: 195.0000 - val_fp: 66.0000 - val_loss: 0.2170 - val_precision: 0.5385 - val_recall: 0.2831 - val_tn: 3233.0000 - val_tp: 77.0000\n",
      "Epoch 36/100\n",
      "\u001b[1m521/521\u001b[0m \u001b[32m━━━━━━━━━━━━━━━━━━━━\u001b[0m\u001b[37m\u001b[0m \u001b[1m12s\u001b[0m 22ms/step - accuracy: 0.9402 - auc: 0.8429 - fn: 478.2414 - fp: 38.9751 - loss: 0.1929 - precision: 0.8252 - recall: 0.2764 - tn: 7681.1475 - tp: 169.5517 - val_accuracy: 0.9261 - val_auc: 0.8202 - val_fn: 191.0000 - val_fp: 73.0000 - val_loss: 0.2221 - val_precision: 0.5260 - val_recall: 0.2978 - val_tn: 3226.0000 - val_tp: 81.0000\n",
      "Epoch 37/100\n",
      "\u001b[1m521/521\u001b[0m \u001b[32m━━━━━━━━━━━━━━━━━━━━\u001b[0m\u001b[37m\u001b[0m \u001b[1m11s\u001b[0m 22ms/step - accuracy: 0.9400 - auc: 0.8441 - fn: 478.3831 - fp: 37.6954 - loss: 0.1918 - precision: 0.8264 - recall: 0.2722 - tn: 7682.4272 - tp: 169.4100 - val_accuracy: 0.9227 - val_auc: 0.8177 - val_fn: 190.0000 - val_fp: 86.0000 - val_loss: 0.2295 - val_precision: 0.4881 - val_recall: 0.3015 - val_tn: 3213.0000 - val_tp: 82.0000\n",
      "Epoch 38/100\n",
      "\u001b[1m521/521\u001b[0m \u001b[32m━━━━━━━━━━━━━━━━━━━━\u001b[0m\u001b[37m\u001b[0m \u001b[1m12s\u001b[0m 23ms/step - accuracy: 0.9404 - auc: 0.8463 - fn: 472.3429 - fp: 41.9540 - loss: 0.1911 - precision: 0.8182 - recall: 0.2834 - tn: 7678.1685 - tp: 175.4502 - val_accuracy: 0.9236 - val_auc: 0.8150 - val_fn: 197.0000 - val_fp: 76.0000 - val_loss: 0.2268 - val_precision: 0.4967 - val_recall: 0.2757 - val_tn: 3223.0000 - val_tp: 75.0000\n",
      "Epoch 39/100\n",
      "\u001b[1m521/521\u001b[0m \u001b[32m━━━━━━━━━━━━━━━━━━━━\u001b[0m\u001b[37m\u001b[0m \u001b[1m11s\u001b[0m 22ms/step - accuracy: 0.9402 - auc: 0.8438 - fn: 475.0134 - fp: 38.9310 - loss: 0.1919 - precision: 0.8246 - recall: 0.2754 - tn: 7681.1914 - tp: 172.7797 - val_accuracy: 0.9261 - val_auc: 0.8198 - val_fn: 192.0000 - val_fp: 72.0000 - val_loss: 0.2230 - val_precision: 0.5263 - val_recall: 0.2941 - val_tn: 3227.0000 - val_tp: 80.0000\n",
      "Epoch 40/100\n",
      "\u001b[1m521/521\u001b[0m \u001b[32m━━━━━━━━━━━━━━━━━━━━\u001b[0m\u001b[37m\u001b[0m \u001b[1m11s\u001b[0m 22ms/step - accuracy: 0.9403 - auc: 0.8453 - fn: 472.0115 - fp: 39.4655 - loss: 0.1911 - precision: 0.8221 - recall: 0.2798 - tn: 7680.6572 - tp: 175.7816 - val_accuracy: 0.9266 - val_auc: 0.8219 - val_fn: 196.0000 - val_fp: 66.0000 - val_loss: 0.2205 - val_precision: 0.5352 - val_recall: 0.2794 - val_tn: 3233.0000 - val_tp: 76.0000\n",
      "Epoch 41/100\n",
      "\u001b[1m521/521\u001b[0m \u001b[32m━━━━━━━━━━━━━━━━━━━━\u001b[0m\u001b[37m\u001b[0m \u001b[1m11s\u001b[0m 22ms/step - accuracy: 0.9410 - auc: 0.8462 - fn: 470.2778 - fp: 37.9215 - loss: 0.1906 - precision: 0.8357 - recall: 0.2837 - tn: 7682.2012 - tp: 177.5153 - val_accuracy: 0.9258 - val_auc: 0.8214 - val_fn: 187.0000 - val_fp: 78.0000 - val_loss: 0.2265 - val_precision: 0.5215 - val_recall: 0.3125 - val_tn: 3221.0000 - val_tp: 85.0000\n",
      "Epoch 42/100\n",
      "\u001b[1m521/521\u001b[0m \u001b[32m━━━━━━━━━━━━━━━━━━━━\u001b[0m\u001b[37m\u001b[0m \u001b[1m11s\u001b[0m 20ms/step - accuracy: 0.9403 - auc: 0.8470 - fn: 474.0287 - fp: 36.7854 - loss: 0.1908 - precision: 0.8242 - recall: 0.2779 - tn: 7683.3374 - tp: 173.7644 - val_accuracy: 0.9210 - val_auc: 0.8215 - val_fn: 188.0000 - val_fp: 94.0000 - val_loss: 0.2308 - val_precision: 0.4719 - val_recall: 0.3088 - val_tn: 3205.0000 - val_tp: 84.0000\n",
      "Epoch 43/100\n",
      "\u001b[1m521/521\u001b[0m \u001b[32m━━━━━━━━━━━━━━━━━━━━\u001b[0m\u001b[37m\u001b[0m \u001b[1m11s\u001b[0m 20ms/step - accuracy: 0.9414 - auc: 0.8473 - fn: 469.8257 - fp: 31.4291 - loss: 0.1894 - precision: 0.8531 - recall: 0.2827 - tn: 7688.6934 - tp: 177.9674 - val_accuracy: 0.9219 - val_auc: 0.8219 - val_fn: 184.0000 - val_fp: 95.0000 - val_loss: 0.2355 - val_precision: 0.4809 - val_recall: 0.3235 - val_tn: 3204.0000 - val_tp: 88.0000\n",
      "Epoch 44/100\n",
      "\u001b[1m521/521\u001b[0m \u001b[32m━━━━━━━━━━━━━━━━━━━━\u001b[0m\u001b[37m\u001b[0m \u001b[1m11s\u001b[0m 21ms/step - accuracy: 0.9418 - auc: 0.8481 - fn: 467.4119 - fp: 32.6552 - loss: 0.1889 - precision: 0.8527 - recall: 0.2892 - tn: 7687.4673 - tp: 180.3812 - val_accuracy: 0.9219 - val_auc: 0.8205 - val_fn: 196.0000 - val_fp: 83.0000 - val_loss: 0.2284 - val_precision: 0.4780 - val_recall: 0.2794 - val_tn: 3216.0000 - val_tp: 76.0000\n",
      "Epoch 45/100\n",
      "\u001b[1m521/521\u001b[0m \u001b[32m━━━━━━━━━━━━━━━━━━━━\u001b[0m\u001b[37m\u001b[0m \u001b[1m12s\u001b[0m 22ms/step - accuracy: 0.9419 - auc: 0.8507 - fn: 469.0919 - fp: 29.5000 - loss: 0.1878 - precision: 0.8604 - recall: 0.2862 - tn: 7690.6226 - tp: 178.7012 - val_accuracy: 0.9264 - val_auc: 0.8195 - val_fn: 200.0000 - val_fp: 63.0000 - val_loss: 0.2209 - val_precision: 0.5333 - val_recall: 0.2647 - val_tn: 3236.0000 - val_tp: 72.0000\n",
      "Epoch 46/100\n",
      "\u001b[1m521/521\u001b[0m \u001b[32m━━━━━━━━━━━━━━━━━━━━\u001b[0m\u001b[37m\u001b[0m \u001b[1m12s\u001b[0m 22ms/step - accuracy: 0.9422 - auc: 0.8513 - fn: 463.6705 - fp: 32.5517 - loss: 0.1872 - precision: 0.8543 - recall: 0.2933 - tn: 7687.5708 - tp: 184.1226 - val_accuracy: 0.9317 - val_auc: 0.8229 - val_fn: 205.0000 - val_fp: 39.0000 - val_loss: 0.2114 - val_precision: 0.6321 - val_recall: 0.2463 - val_tn: 3260.0000 - val_tp: 67.0000\n",
      "Epoch 47/100\n",
      "\u001b[1m521/521\u001b[0m \u001b[32m━━━━━━━━━━━━━━━━━━━━\u001b[0m\u001b[37m\u001b[0m \u001b[1m12s\u001b[0m 24ms/step - accuracy: 0.9416 - auc: 0.8544 - fn: 462.2491 - fp: 36.2184 - loss: 0.1862 - precision: 0.8373 - recall: 0.2919 - tn: 7683.9043 - tp: 185.5441 - val_accuracy: 0.9320 - val_auc: 0.8207 - val_fn: 206.0000 - val_fp: 37.0000 - val_loss: 0.2132 - val_precision: 0.6408 - val_recall: 0.2426 - val_tn: 3262.0000 - val_tp: 66.0000\n",
      "Epoch 48/100\n",
      "\u001b[1m521/521\u001b[0m \u001b[32m━━━━━━━━━━━━━━━━━━━━\u001b[0m\u001b[37m\u001b[0m \u001b[1m11s\u001b[0m 22ms/step - accuracy: 0.9411 - auc: 0.8540 - fn: 463.2548 - fp: 39.2184 - loss: 0.1870 - precision: 0.8236 - recall: 0.2923 - tn: 7680.9043 - tp: 184.5383 - val_accuracy: 0.9342 - val_auc: 0.8174 - val_fn: 208.0000 - val_fp: 27.0000 - val_loss: 0.2103 - val_precision: 0.7033 - val_recall: 0.2353 - val_tn: 3272.0000 - val_tp: 64.0000\n",
      "Epoch 49/100\n",
      "\u001b[1m521/521\u001b[0m \u001b[32m━━━━━━━━━━━━━━━━━━━━\u001b[0m\u001b[37m\u001b[0m \u001b[1m11s\u001b[0m 22ms/step - accuracy: 0.9416 - auc: 0.8562 - fn: 464.4100 - fp: 35.1073 - loss: 0.1858 - precision: 0.8401 - recall: 0.2918 - tn: 7685.0151 - tp: 183.3831 - val_accuracy: 0.9314 - val_auc: 0.8207 - val_fn: 201.0000 - val_fp: 44.0000 - val_loss: 0.2130 - val_precision: 0.6174 - val_recall: 0.2610 - val_tn: 3255.0000 - val_tp: 71.0000\n",
      "Epoch 50/100\n",
      "\u001b[1m521/521\u001b[0m \u001b[32m━━━━━━━━━━━━━━━━━━━━\u001b[0m\u001b[37m\u001b[0m \u001b[1m11s\u001b[0m 22ms/step - accuracy: 0.9421 - auc: 0.8576 - fn: 460.6762 - fp: 33.0939 - loss: 0.1846 - precision: 0.8457 - recall: 0.2960 - tn: 7687.0288 - tp: 187.1169 - val_accuracy: 0.9292 - val_auc: 0.8169 - val_fn: 203.0000 - val_fp: 50.0000 - val_loss: 0.2176 - val_precision: 0.5798 - val_recall: 0.2537 - val_tn: 3249.0000 - val_tp: 69.0000\n",
      "Epoch 51/100\n",
      "\u001b[1m521/521\u001b[0m \u001b[32m━━━━━━━━━━━━━━━━━━━━\u001b[0m\u001b[37m\u001b[0m \u001b[1m11s\u001b[0m 22ms/step - accuracy: 0.9421 - auc: 0.8612 - fn: 458.1571 - fp: 36.6398 - loss: 0.1831 - precision: 0.8391 - recall: 0.2998 - tn: 7683.4829 - tp: 189.6360 - val_accuracy: 0.9258 - val_auc: 0.8204 - val_fn: 190.0000 - val_fp: 75.0000 - val_loss: 0.2254 - val_precision: 0.5223 - val_recall: 0.3015 - val_tn: 3224.0000 - val_tp: 82.0000\n",
      "Epoch 52/100\n",
      "\u001b[1m521/521\u001b[0m \u001b[32m━━━━━━━━━━━━━━━━━━━━\u001b[0m\u001b[37m\u001b[0m \u001b[1m11s\u001b[0m 22ms/step - accuracy: 0.9416 - auc: 0.8611 - fn: 460.9847 - fp: 36.6935 - loss: 0.1826 - precision: 0.8379 - recall: 0.2927 - tn: 7683.4292 - tp: 186.8084 - val_accuracy: 0.9252 - val_auc: 0.8202 - val_fn: 194.0000 - val_fp: 73.0000 - val_loss: 0.2251 - val_precision: 0.5166 - val_recall: 0.2868 - val_tn: 3226.0000 - val_tp: 78.0000\n",
      "Epoch 53/100\n",
      "\u001b[1m521/521\u001b[0m \u001b[32m━━━━━━━━━━━━━━━━━━━━\u001b[0m\u001b[37m\u001b[0m \u001b[1m12s\u001b[0m 23ms/step - accuracy: 0.9431 - auc: 0.8625 - fn: 456.5632 - fp: 31.2893 - loss: 0.1815 - precision: 0.8683 - recall: 0.3016 - tn: 7688.8335 - tp: 191.2299 - val_accuracy: 0.9303 - val_auc: 0.8206 - val_fn: 198.0000 - val_fp: 51.0000 - val_loss: 0.2165 - val_precision: 0.5920 - val_recall: 0.2721 - val_tn: 3248.0000 - val_tp: 74.0000\n",
      "Epoch 54/100\n",
      "\u001b[1m521/521\u001b[0m \u001b[32m━━━━━━━━━━━━━━━━━━━━\u001b[0m\u001b[37m\u001b[0m \u001b[1m12s\u001b[0m 22ms/step - accuracy: 0.9444 - auc: 0.8669 - fn: 447.4176 - fp: 28.2816 - loss: 0.1786 - precision: 0.8793 - recall: 0.3154 - tn: 7691.8408 - tp: 200.3755 - val_accuracy: 0.9348 - val_auc: 0.8167 - val_fn: 216.0000 - val_fp: 17.0000 - val_loss: 0.2095 - val_precision: 0.7671 - val_recall: 0.2059 - val_tn: 3282.0000 - val_tp: 56.0000\n",
      "Epoch 55/100\n",
      "\u001b[1m521/521\u001b[0m \u001b[32m━━━━━━━━━━━━━━━━━━━━\u001b[0m\u001b[37m\u001b[0m \u001b[1m11s\u001b[0m 22ms/step - accuracy: 0.9431 - auc: 0.8695 - fn: 450.4732 - fp: 30.3544 - loss: 0.1790 - precision: 0.8636 - recall: 0.3015 - tn: 7689.7681 - tp: 197.3199 - val_accuracy: 0.9292 - val_auc: 0.8161 - val_fn: 197.0000 - val_fp: 56.0000 - val_loss: 0.2208 - val_precision: 0.5725 - val_recall: 0.2757 - val_tn: 3243.0000 - val_tp: 75.0000\n",
      "Epoch 56/100\n",
      "\u001b[1m521/521\u001b[0m \u001b[32m━━━━━━━━━━━━━━━━━━━━\u001b[0m\u001b[37m\u001b[0m \u001b[1m11s\u001b[0m 22ms/step - accuracy: 0.9440 - auc: 0.8691 - fn: 447.1073 - fp: 29.7011 - loss: 0.1780 - precision: 0.8697 - recall: 0.3139 - tn: 7690.4214 - tp: 200.6858 - val_accuracy: 0.9286 - val_auc: 0.8176 - val_fn: 200.0000 - val_fp: 55.0000 - val_loss: 0.2202 - val_precision: 0.5669 - val_recall: 0.2647 - val_tn: 3244.0000 - val_tp: 72.0000\n",
      "Epoch 57/100\n",
      "\u001b[1m521/521\u001b[0m \u001b[32m━━━━━━━━━━━━━━━━━━━━\u001b[0m\u001b[37m\u001b[0m \u001b[1m11s\u001b[0m 22ms/step - accuracy: 0.9436 - auc: 0.8704 - fn: 444.4789 - fp: 32.9387 - loss: 0.1766 - precision: 0.8519 - recall: 0.3169 - tn: 7687.1841 - tp: 203.3142 - val_accuracy: 0.9292 - val_auc: 0.8219 - val_fn: 196.0000 - val_fp: 57.0000 - val_loss: 0.2186 - val_precision: 0.5714 - val_recall: 0.2794 - val_tn: 3242.0000 - val_tp: 76.0000\n",
      "Epoch 58/100\n",
      "\u001b[1m521/521\u001b[0m \u001b[32m━━━━━━━━━━━━━━━━━━━━\u001b[0m\u001b[37m\u001b[0m \u001b[1m13s\u001b[0m 25ms/step - accuracy: 0.9446 - auc: 0.8720 - fn: 443.2758 - fp: 32.0249 - loss: 0.1757 - precision: 0.8686 - recall: 0.3235 - tn: 7688.0977 - tp: 204.5172 - val_accuracy: 0.9283 - val_auc: 0.8189 - val_fn: 199.0000 - val_fp: 57.0000 - val_loss: 0.2189 - val_precision: 0.5615 - val_recall: 0.2684 - val_tn: 3242.0000 - val_tp: 73.0000\n",
      "Epoch 59/100\n",
      "\u001b[1m521/521\u001b[0m \u001b[32m━━━━━━━━━━━━━━━━━━━━\u001b[0m\u001b[37m\u001b[0m \u001b[1m16s\u001b[0m 31ms/step - accuracy: 0.9452 - auc: 0.8729 - fn: 436.1954 - fp: 32.8314 - loss: 0.1750 - precision: 0.8656 - recall: 0.3352 - tn: 7687.2910 - tp: 211.5977 - val_accuracy: 0.9308 - val_auc: 0.8222 - val_fn: 203.0000 - val_fp: 44.0000 - val_loss: 0.2174 - val_precision: 0.6106 - val_recall: 0.2537 - val_tn: 3255.0000 - val_tp: 69.0000\n",
      "Epoch 60/100\n",
      "\u001b[1m521/521\u001b[0m \u001b[32m━━━━━━━━━━━━━━━━━━━━\u001b[0m\u001b[37m\u001b[0m \u001b[1m15s\u001b[0m 28ms/step - accuracy: 0.9454 - auc: 0.8751 - fn: 435.0000 - fp: 30.4789 - loss: 0.1741 - precision: 0.8784 - recall: 0.3307 - tn: 7689.6436 - tp: 212.7931 - val_accuracy: 0.9233 - val_auc: 0.8137 - val_fn: 196.0000 - val_fp: 78.0000 - val_loss: 0.2327 - val_precision: 0.4935 - val_recall: 0.2794 - val_tn: 3221.0000 - val_tp: 76.0000\n",
      "Epoch 61/100\n",
      "\u001b[1m521/521\u001b[0m \u001b[32m━━━━━━━━━━━━━━━━━━━━\u001b[0m\u001b[37m\u001b[0m \u001b[1m14s\u001b[0m 27ms/step - accuracy: 0.9439 - auc: 0.8732 - fn: 432.9042 - fp: 39.0766 - loss: 0.1754 - precision: 0.8355 - recall: 0.3307 - tn: 7681.0459 - tp: 214.8889 - val_accuracy: 0.9255 - val_auc: 0.8166 - val_fn: 191.0000 - val_fp: 75.0000 - val_loss: 0.2303 - val_precision: 0.5192 - val_recall: 0.2978 - val_tn: 3224.0000 - val_tp: 81.0000\n",
      "Epoch 62/100\n",
      "\u001b[1m521/521\u001b[0m \u001b[32m━━━━━━━━━━━━━━━━━━━━\u001b[0m\u001b[37m\u001b[0m \u001b[1m15s\u001b[0m 28ms/step - accuracy: 0.9458 - auc: 0.8764 - fn: 424.9445 - fp: 35.3391 - loss: 0.1728 - precision: 0.8648 - recall: 0.3453 - tn: 7684.7837 - tp: 222.8487 - val_accuracy: 0.9264 - val_auc: 0.8195 - val_fn: 197.0000 - val_fp: 66.0000 - val_loss: 0.2247 - val_precision: 0.5319 - val_recall: 0.2757 - val_tn: 3233.0000 - val_tp: 75.0000\n",
      "Epoch 63/100\n",
      "\u001b[1m521/521\u001b[0m \u001b[32m━━━━━━━━━━━━━━━━━━━━\u001b[0m\u001b[37m\u001b[0m \u001b[1m15s\u001b[0m 28ms/step - accuracy: 0.9475 - auc: 0.8762 - fn: 418.0670 - fp: 28.5268 - loss: 0.1712 - precision: 0.8910 - recall: 0.3562 - tn: 7691.5957 - tp: 229.7261 - val_accuracy: 0.9250 - val_auc: 0.8141 - val_fn: 192.0000 - val_fp: 76.0000 - val_loss: 0.2349 - val_precision: 0.5128 - val_recall: 0.2941 - val_tn: 3223.0000 - val_tp: 80.0000\n",
      "Epoch 64/100\n",
      "\u001b[1m521/521\u001b[0m \u001b[32m━━━━━━━━━━━━━━━━━━━━\u001b[0m\u001b[37m\u001b[0m \u001b[1m13s\u001b[0m 25ms/step - accuracy: 0.9466 - auc: 0.8766 - fn: 421.4042 - fp: 32.8218 - loss: 0.1719 - precision: 0.8738 - recall: 0.3525 - tn: 7687.3008 - tp: 226.3889 - val_accuracy: 0.9252 - val_auc: 0.8150 - val_fn: 189.0000 - val_fp: 78.0000 - val_loss: 0.2345 - val_precision: 0.5155 - val_recall: 0.3051 - val_tn: 3221.0000 - val_tp: 83.0000\n",
      "Epoch 65/100\n",
      "\u001b[1m521/521\u001b[0m \u001b[32m━━━━━━━━━━━━━━━━━━━━\u001b[0m\u001b[37m\u001b[0m \u001b[1m13s\u001b[0m 26ms/step - accuracy: 0.9471 - auc: 0.8787 - fn: 415.6207 - fp: 32.9100 - loss: 0.1701 - precision: 0.8737 - recall: 0.3589 - tn: 7687.2124 - tp: 232.1724 - val_accuracy: 0.9250 - val_auc: 0.8139 - val_fn: 192.0000 - val_fp: 76.0000 - val_loss: 0.2314 - val_precision: 0.5128 - val_recall: 0.2941 - val_tn: 3223.0000 - val_tp: 80.0000\n",
      "Epoch 66/100\n",
      "\u001b[1m521/521\u001b[0m \u001b[32m━━━━━━━━━━━━━━━━━━━━\u001b[0m\u001b[37m\u001b[0m \u001b[1m14s\u001b[0m 26ms/step - accuracy: 0.9482 - auc: 0.8817 - fn: 410.3314 - fp: 31.3238 - loss: 0.1678 - precision: 0.8865 - recall: 0.3692 - tn: 7688.7988 - tp: 237.4617 - val_accuracy: 0.9261 - val_auc: 0.8145 - val_fn: 186.0000 - val_fp: 78.0000 - val_loss: 0.2376 - val_precision: 0.5244 - val_recall: 0.3162 - val_tn: 3221.0000 - val_tp: 86.0000\n",
      "Epoch 67/100\n",
      "\u001b[1m521/521\u001b[0m \u001b[32m━━━━━━━━━━━━━━━━━━━━\u001b[0m\u001b[37m\u001b[0m \u001b[1m14s\u001b[0m 27ms/step - accuracy: 0.9485 - auc: 0.8822 - fn: 411.8812 - fp: 27.8429 - loss: 0.1672 - precision: 0.9009 - recall: 0.3661 - tn: 7692.2798 - tp: 235.9119 - val_accuracy: 0.9241 - val_auc: 0.8135 - val_fn: 189.0000 - val_fp: 82.0000 - val_loss: 0.2336 - val_precision: 0.5030 - val_recall: 0.3051 - val_tn: 3217.0000 - val_tp: 83.0000\n",
      "Epoch 68/100\n",
      "\u001b[1m521/521\u001b[0m \u001b[32m━━━━━━━━━━━━━━━━━━━━\u001b[0m\u001b[37m\u001b[0m \u001b[1m13s\u001b[0m 26ms/step - accuracy: 0.9481 - auc: 0.8850 - fn: 404.8582 - fp: 34.3448 - loss: 0.1660 - precision: 0.8753 - recall: 0.3738 - tn: 7685.7778 - tp: 242.9349 - val_accuracy: 0.9272 - val_auc: 0.8124 - val_fn: 189.0000 - val_fp: 71.0000 - val_loss: 0.2308 - val_precision: 0.5390 - val_recall: 0.3051 - val_tn: 3228.0000 - val_tp: 83.0000\n",
      "Epoch 68: early stopping\n",
      "Restoring model weights from the end of the best epoch: 48.\n"
     ]
    }
   ],
   "source": [
    "modelfitprogress = model.fit(\n",
    "                              x=[X_train_img], y=y_train,\n",
    "                              validation_data=([X_val_img], y_val),\n",
    "                              epochs = epochs,\n",
    "                              callbacks = [early_stopper]\n",
    "                              #steps_per_epoch = df_train.shape[0]//train_iter.batch_size,\n",
    "                              #validation_steps = df_val.shape[0]//valid_iter.batch_size\n",
    "                              )"
   ]
  },
  {
   "cell_type": "markdown",
   "metadata": {
    "id": "9R2jytfijpEp"
   },
   "source": [
    "<a id=\"section6\"></a>\n",
    "# <font color=\"#004D7F\" size=6> 6. Results</font>"
   ]
  },
  {
   "cell_type": "markdown",
   "metadata": {
    "id": "9R2jytfijpEp"
   },
   "source": [
    "---\n",
    "<a id=\"section61\"></a>\n",
    "# <font color=\"#004D7F\" size=5> 6.1. Train/Validation representation</font>"
   ]
  },
  {
   "cell_type": "code",
   "execution_count": 19,
   "metadata": {},
   "outputs": [
    {
     "data": {
      "image/png": "[encoded data removed]",
      "text/plain": [
       "<Figure size 640x480 with 1 Axes>"
      ]
     },
     "metadata": {},
     "output_type": "display_data"
    }
   ],
   "source": [
    "plt.plot(modelfitprogress.history['loss'], color = 'red', label = 'loss')\n",
    "plt.plot(modelfitprogress.history['val_loss'], color = 'green', label = 'val loss')\n",
    "plt.legend(loc = 'upper right')\n",
    "#plt.ylim(0,1)\n",
    "plt.show()"
   ]
  },
  {
   "cell_type": "code",
   "execution_count": 20,
   "metadata": {},
   "outputs": [
    {
     "data": {
      "image/png": "[encoded data removed]",
      "text/plain": [
       "<Figure size 640x480 with 1 Axes>"
      ]
     },
     "metadata": {},
     "output_type": "display_data"
    }
   ],
   "source": [
    "plt.plot(modelfitprogress.history['accuracy'], color = 'red', label = 'accuracy')\n",
    "plt.plot(modelfitprogress.history['val_accuracy'], color = 'green', label = 'val accuracy')\n",
    "plt.legend(loc = 'upper right')\n",
    "\n",
    "plt.show()"
   ]
  },
  {
   "cell_type": "code",
   "execution_count": 21,
   "metadata": {},
   "outputs": [
    {
     "name": "stdout",
     "output_type": "stream",
     "text": [
      "Train accuracy: 0.9480379223823547\n",
      "Train AUC: 0.8884280323982239\n",
      "Train precision: 0.8803738355636597\n",
      "Train recall: 0.36999213695526123\n",
      "Train loss: 0.1647506058216095\n"
     ]
    }
   ],
   "source": [
    "train_accuracy = modelfitprogress.history[\"accuracy\"][-1]\n",
    "train_auc = modelfitprogress.history[\"auc\"][-1]\n",
    "train_precision = modelfitprogress.history[\"precision\"][-1]\n",
    "train_recall = modelfitprogress.history[\"recall\"][-1]\n",
    "train_loss = modelfitprogress.history[\"loss\"][-1]\n",
    "\n",
    "print(\"Train accuracy:\",train_accuracy)\n",
    "print(\"Train AUC:\",train_auc)\n",
    "print(\"Train precision:\",train_precision)\n",
    "print(\"Train recall:\",train_recall)\n",
    "print(\"Train loss:\",train_loss)"
   ]
  },
  {
   "cell_type": "code",
   "execution_count": 22,
   "metadata": {},
   "outputs": [
    {
     "name": "stdout",
     "output_type": "stream",
     "text": [
      "Validation accuracy: 0.9271912574768066\n",
      "Validation AUC: 0.8124186396598816\n",
      "Validation precision: 0.5389610528945923\n",
      "Validation recall: 0.30514705181121826\n",
      "Validation loss: 0.23080842196941376\n"
     ]
    }
   ],
   "source": [
    "validation_accuracy = modelfitprogress.history[\"val_accuracy\"][-1]\n",
    "validation_auc = modelfitprogress.history[\"val_auc\"][-1]\n",
    "validation_precision = modelfitprogress.history[\"val_precision\"][-1]\n",
    "validation_recall = modelfitprogress.history[\"val_recall\"][-1]\n",
    "validation_loss = modelfitprogress.history[\"val_loss\"][-1]\n",
    "\n",
    "print(\"Validation accuracy:\",validation_accuracy)\n",
    "print(\"Validation AUC:\",validation_auc)\n",
    "print(\"Validation precision:\",validation_precision)\n",
    "print(\"Validation recall:\",validation_recall)\n",
    "print(\"Validation loss:\",validation_loss)"
   ]
  },
  {
   "cell_type": "markdown",
   "metadata": {},
   "source": [
    "---\n",
    "<a id=\"section62\"></a>\n",
    "# <font color=\"#004D7F\" size=5> 6.2. Validation evaluation</font>"
   ]
  },
  {
   "cell_type": "markdown",
   "metadata": {},
   "source": [
    "Encontrar el mejor corte de probabilidades"
   ]
  },
  {
   "cell_type": "code",
   "execution_count": 23,
   "metadata": {},
   "outputs": [
    {
     "name": "stdout",
     "output_type": "stream",
     "text": [
      "\u001b[1m521/521\u001b[0m \u001b[32m━━━━━━━━━━━━━━━━━━━━\u001b[0m\u001b[37m\u001b[0m \u001b[1m1s\u001b[0m 3ms/step\n"
     ]
    },
    {
     "data": {
      "text/plain": [
       "(0.12, 0.7679622637869745)"
      ]
     },
     "execution_count": 23,
     "metadata": {},
     "output_type": "execute_result"
    }
   ],
   "source": [
    "from sklearn.metrics import roc_auc_score\n",
    "x_train_1 = [X_train_img]\n",
    "\n",
    "def find_best_threshold(y_true, y_probs):\n",
    "    thresholds = np.arange(0.0, 1.0, 0.01)\n",
    "    best_auc = 0\n",
    "    best_thresh = 0\n",
    "    for thresh in thresholds:\n",
    "        preds = (y_probs >= thresh).astype(int)\n",
    "        auc = roc_auc_score(y_true, preds)\n",
    "        if auc > best_auc:\n",
    "            best_auc = auc\n",
    "            best_thresh = thresh\n",
    "    return best_thresh, best_auc\n",
    "prediction = model.predict(x_train_1,)\n",
    "best_threshold = find_best_threshold(y_train, prediction)\n",
    "best_threshold ### !!!!!! IMPORTANTE PARA DEFINIR EL MEJOR CORTE PARA LAS PROBABILIDADES"
   ]
  },
  {
   "cell_type": "code",
   "execution_count": 24,
   "metadata": {},
   "outputs": [
    {
     "name": "stdout",
     "output_type": "stream",
     "text": [
      "\u001b[1m112/112\u001b[0m \u001b[32m━━━━━━━━━━━━━━━━━━━━\u001b[0m\u001b[37m\u001b[0m \u001b[1m1s\u001b[0m 10ms/step - accuracy: 0.9331 - auc: 0.8286 - fn: 107.1681 - fp: 11.5398 - loss: 0.2130 - precision: 0.7977 - recall: 0.2413 - tn: 1669.4513 - tp: 35.3274\n",
      "Loss in validation: 0.21028316020965576 \n",
      "Accuracy in validation: 0.9341921210289001\n"
     ]
    }
   ],
   "source": [
    "#x_validacion = [X_test_num, X_test_img]\n",
    "#y_validacion = y_test\n",
    "#x_validacion = valid_iter\n",
    "#y_validacion = y_val\n",
    "score_test= model.evaluate([X_val_img], y_val)\n",
    "print(\"Loss in validation: {} \\nAccuracy in validation: {}\".format(score_test[0], score_test[5]))"
   ]
  },
  {
   "cell_type": "code",
   "execution_count": 25,
   "metadata": {},
   "outputs": [
    {
     "name": "stdout",
     "output_type": "stream",
     "text": [
      "\u001b[1m112/112\u001b[0m \u001b[32m━━━━━━━━━━━━━━━━━━━━\u001b[0m\u001b[37m\u001b[0m \u001b[1m0s\u001b[0m 3ms/step\n"
     ]
    }
   ],
   "source": [
    "#test_images = next(test_iter)[0]\n",
    "prediction = model.predict([X_val_img])\n",
    "#prediction = model.predict(test_images)\n",
    "prediction_labels = (prediction > best_threshold[0]).astype(int)\n",
    "#print(prediction_labels)"
   ]
  },
  {
   "cell_type": "code",
   "execution_count": 26,
   "metadata": {},
   "outputs": [
    {
     "name": "stdout",
     "output_type": "stream",
     "text": [
      "Validation accuracy: 0.9341921210289001\n",
      "Validation AUC: 0.8174357414245605\n",
      "Validation precision: 0.7032967209815979\n",
      "Validation recall: 0.23529411852359772\n"
     ]
    }
   ],
   "source": [
    "from sklearn.metrics import roc_auc_score,accuracy_score,precision_score, recall_score\n",
    "\n",
    "test_accuracy = score_test[5]\n",
    "test_auc = score_test[8]\n",
    "test_precision = score_test[6]\n",
    "test_recall = score_test[7]\n",
    "\n",
    "print(\"Validation accuracy:\",test_accuracy)\n",
    "print(\"Validation AUC:\",test_auc)\n",
    "print(\"Validation precision:\",test_precision)\n",
    "print(\"Validation recall:\",test_recall)"
   ]
  },
  {
   "cell_type": "code",
   "execution_count": 27,
   "metadata": {},
   "outputs": [
    {
     "data": {
      "text/plain": [
       "19630    0\n",
       "11186    0\n",
       "8758     0\n",
       "4616     0\n",
       "16735    0\n",
       "        ..\n",
       "2079     0\n",
       "17000    0\n",
       "10190    0\n",
       "7585     0\n",
       "7246     0\n",
       "Name: values, Length: 3571, dtype: int64"
      ]
     },
     "execution_count": 27,
     "metadata": {},
     "output_type": "execute_result"
    }
   ],
   "source": [
    "y_test1 = y_val.astype(float).astype(int)\n",
    "y_test1"
   ]
  },
  {
   "cell_type": "code",
   "execution_count": 28,
   "metadata": {},
   "outputs": [
    {
     "name": "stdout",
     "output_type": "stream",
     "text": [
      "\u001b[1mTest Dataset.\u001b[0m \n",
      "\n",
      "\n",
      "\u001b[1mConfusion matrix:\u001b[0m\n"
     ]
    },
    {
     "data": {
      "image/png": "[encoded data removed]",
      "text/plain": [
       "<Figure size 640x480 with 2 Axes>"
      ]
     },
     "metadata": {},
     "output_type": "display_data"
    },
    {
     "name": "stdout",
     "output_type": "stream",
     "text": [
      "Verdaderos Negativos (VN): 2580\n",
      "Falsos Positivos (FP): 719\n",
      "Falsos Negativos (FN): 91\n",
      "Verdaderos Positivos (VP): 181 \n",
      "\n",
      "\n",
      "\u001b[1mAUC SCORE:\u001b[0m\n",
      "0.8183596187793093\n",
      "\u001b[1mRecall SCORE:\u001b[0m\n",
      "0.6654411764705882\n"
     ]
    },
    {
     "data": {
      "image/png": "[encoded data removed]",
      "text/plain": [
       "<Figure size 640x480 with 1 Axes>"
      ]
     },
     "metadata": {},
     "output_type": "display_data"
    }
   ],
   "source": [
    "from sklearn.metrics import ConfusionMatrixDisplay, confusion_matrix, roc_curve, roc_auc_score, recall_score\n",
    "\n",
    "# Suponiendo que ⁠ cnn_model ⁠ sea tu modelo entrenado y ⁠ X_test ⁠ tu conjunto de prueba\n",
    "print(\"\\033[1mTest Dataset.\\033[0m \\n\\n\")\n",
    "\n",
    "# Confusion Matrix\n",
    "print(\"\\033[1mConfusion matrix:\\033[0m\")\n",
    "cm = confusion_matrix(y_test1, prediction_labels)\n",
    "disp = ConfusionMatrixDisplay(confusion_matrix=cm)\n",
    "disp.plot()\n",
    "plt.show()\n",
    "print(f\"Verdaderos Negativos (VN): {cm[0, 0]}\")\n",
    "print(f\"Falsos Positivos (FP): {cm[0, 1]}\")\n",
    "print(f\"Falsos Negativos (FN): {cm[1, 0]}\")\n",
    "print(f\"Verdaderos Positivos (VP): {cm[1, 1]} \\n\\n\")\n",
    "\n",
    "# Calcular las métricas usando probabilidades en lugar de etiquetas\n",
    "#prediction_probs = model.predict([X_val_img])\n",
    "\n",
    "print(\"\\033[1mAUC SCORE:\\033[0m\")\n",
    "print(roc_auc_score(y_test1, prediction ))\n",
    "\n",
    "print(\"\\033[1mRecall SCORE:\\033[0m\")\n",
    "print(recall_score(y_test1, prediction_labels))\n",
    "\n",
    "# Curva ROC\n",
    "fpr, tpr, thresholds = roc_curve(y_test1, prediction)\n",
    "plt.plot([0, 1], [0, 1], 'k--')\n",
    "plt.plot(fpr, tpr)\n",
    "plt.xlabel('False Positive Rate')\n",
    "plt.ylabel('True Positive Rate')\n",
    "plt.title('ROC Curve and AUC')\n",
    "plt.fill_between(fpr, tpr, alpha=0.3)\n",
    "plt.tight_layout()\n",
    "plt.show()"
   ]
  },
  {
   "cell_type": "markdown",
   "metadata": {},
   "source": [
    "---\n",
    "<a id=\"section62\"></a>\n",
    "# <font color=\"#004D7F\" size=5> 6.2. Test evaluation</font>"
   ]
  },
  {
   "cell_type": "code",
   "execution_count": 29,
   "metadata": {},
   "outputs": [
    {
     "name": "stdout",
     "output_type": "stream",
     "text": [
      "\u001b[1m112/112\u001b[0m \u001b[32m━━━━━━━━━━━━━━━━━━━━\u001b[0m\u001b[37m\u001b[0m \u001b[1m1s\u001b[0m 12ms/step - accuracy: 0.9233 - auc: 0.8012 - fn: 114.1770 - fp: 22.6195 - loss: 0.2305 - precision: 0.5188 - recall: 0.1878 - tn: 1658.8761 - tp: 27.8319\n",
      "Loss in Test: 0.22467774152755737 \n",
      "Accuracy in Test: 0.9297312498092651\n"
     ]
    }
   ],
   "source": [
    "#x_validacion = [X_test_num, X_test_img]\n",
    "#y_validacion = y_test\n",
    "#x_validacion = test_iter\n",
    "#y_validacion = y_test\n",
    "score_test= model.evaluate([X_test_img], y_test)\n",
    "print(\"Loss in Test: {} \\nAccuracy in Test: {}\".format(score_test[0], score_test[5]))"
   ]
  },
  {
   "cell_type": "code",
   "execution_count": 30,
   "metadata": {},
   "outputs": [
    {
     "name": "stdout",
     "output_type": "stream",
     "text": [
      "\u001b[1m112/112\u001b[0m \u001b[32m━━━━━━━━━━━━━━━━━━━━\u001b[0m\u001b[37m\u001b[0m \u001b[1m0s\u001b[0m 3ms/step\n"
     ]
    }
   ],
   "source": [
    "#test_images = next(test_iter)[0]\n",
    "prediction = model.predict([X_test_img])\n",
    "#prediction = model.predict(test_images)\n",
    "prediction_labels = (prediction > best_threshold[0]).astype(int)\n",
    "#print(prediction_labels)"
   ]
  },
  {
   "cell_type": "code",
   "execution_count": 31,
   "metadata": {},
   "outputs": [
    {
     "name": "stdout",
     "output_type": "stream",
     "text": [
      "Test accuracy: 0.9297312498092651\n",
      "Test AUC: 0.7968220710754395\n",
      "Test precision: 0.6057692170143127\n",
      "Test recall: 0.23076923191547394\n"
     ]
    }
   ],
   "source": [
    "from sklearn.metrics import roc_auc_score,accuracy_score,precision_score, recall_score\n",
    "\n",
    "test_accuracy = score_test[5]\n",
    "test_auc = score_test[8]\n",
    "test_precision = score_test[6]\n",
    "test_recall = score_test[7]\n",
    "\n",
    "print(\"Test accuracy:\",test_accuracy)\n",
    "print(\"Test AUC:\",test_auc)\n",
    "print(\"Test precision:\",test_precision)\n",
    "print(\"Test recall:\",test_recall)"
   ]
  },
  {
   "cell_type": "code",
   "execution_count": 32,
   "metadata": {},
   "outputs": [
    {
     "data": {
      "text/plain": [
       "650      1\n",
       "4910     0\n",
       "20672    0\n",
       "973      1\n",
       "12541    0\n",
       "        ..\n",
       "17306    0\n",
       "4503     0\n",
       "3256     0\n",
       "8932     0\n",
       "21240    0\n",
       "Name: values, Length: 3572, dtype: int64"
      ]
     },
     "execution_count": 32,
     "metadata": {},
     "output_type": "execute_result"
    }
   ],
   "source": [
    "y_test1 = y_test.astype(float).astype(int)\n",
    "y_test1"
   ]
  },
  {
   "cell_type": "code",
   "execution_count": 33,
   "metadata": {},
   "outputs": [
    {
     "name": "stdout",
     "output_type": "stream",
     "text": [
      "\u001b[1mTest Dataset.\u001b[0m \n",
      "\n",
      "\n",
      "\u001b[1mConfusion matrix:\u001b[0m\n"
     ]
    },
    {
     "data": {
      "image/png": "[encoded data removed]",
      "text/plain": [
       "<Figure size 640x480 with 2 Axes>"
      ]
     },
     "metadata": {},
     "output_type": "display_data"
    },
    {
     "name": "stdout",
     "output_type": "stream",
     "text": [
      "Verdaderos Negativos (VN): 2560\n",
      "Falsos Positivos (FP): 739\n",
      "Falsos Negativos (FN): 98\n",
      "Verdaderos Positivos (VP): 175 \n",
      "\n",
      "\n",
      "\u001b[1mAUC SCORE:\u001b[0m\n",
      "0.797431122984321\n",
      "\u001b[1mRecall SCORE:\u001b[0m\n",
      "0.6410256410256411\n"
     ]
    },
    {
     "data": {
      "image/png": "[encoded data removed]",
      "text/plain": [
       "<Figure size 640x480 with 1 Axes>"
      ]
     },
     "metadata": {},
     "output_type": "display_data"
    }
   ],
   "source": [
    "from sklearn.metrics import ConfusionMatrixDisplay, confusion_matrix, roc_curve, roc_auc_score, recall_score\n",
    "\n",
    "# Suponiendo que ⁠ cnn_model ⁠ sea tu modelo entrenado y ⁠ X_test ⁠ tu conjunto de prueba\n",
    "print(\"\\033[1mTest Dataset.\\033[0m \\n\\n\")\n",
    "\n",
    "# Confusion Matrix\n",
    "print(\"\\033[1mConfusion matrix:\\033[0m\")\n",
    "cm = confusion_matrix(y_test1, prediction_labels)\n",
    "disp = ConfusionMatrixDisplay(confusion_matrix=cm)\n",
    "disp.plot()\n",
    "plt.show()\n",
    "print(f\"Verdaderos Negativos (VN): {cm[0, 0]}\")\n",
    "print(f\"Falsos Positivos (FP): {cm[0, 1]}\")\n",
    "print(f\"Falsos Negativos (FN): {cm[1, 0]}\")\n",
    "print(f\"Verdaderos Positivos (VP): {cm[1, 1]} \\n\\n\")\n",
    "\n",
    "# Calcular las métricas usando probabilidades en lugar de etiquetas\n",
    "#prediction_probs = model.predict([X_val_img])\n",
    "\n",
    "print(\"\\033[1mAUC SCORE:\\033[0m\")\n",
    "print(roc_auc_score(y_test1, prediction ))\n",
    "\n",
    "print(\"\\033[1mRecall SCORE:\\033[0m\")\n",
    "print(recall_score(y_test1, prediction_labels))\n",
    "\n",
    "# Curva ROC\n",
    "fpr, tpr, thresholds = roc_curve(y_test1, prediction)\n",
    "plt.plot([0, 1], [0, 1], 'k--')\n",
    "plt.plot(fpr, tpr)\n",
    "plt.xlabel('False Positive Rate')\n",
    "plt.ylabel('True Positive Rate')\n",
    "plt.title('ROC Curve and AUC')\n",
    "plt.fill_between(fpr, tpr, alpha=0.3)\n",
    "plt.tight_layout()\n",
    "plt.show()"
   ]
  },
  {
   "cell_type": "code",
   "execution_count": null,
   "metadata": {},
   "outputs": [],
   "source": []
  },
  {
   "cell_type": "code",
   "execution_count": null,
   "metadata": {},
   "outputs": [],
   "source": []
  }
 ],
 "metadata": {
  "accelerator": "GPU",
  "colab": {
   "gpuType": "T4",
   "provenance": []
  },
  "kernelspec": {
   "display_name": "Python 3",
   "language": "python",
   "name": "python3"
  },
  "language_info": {
   "codemirror_mode": {
    "name": "ipython",
    "version": 3
   },
   "file_extension": ".py",
   "mimetype": "text/x-python",
   "name": "python",
   "nbconvert_exporter": "python",
   "pygments_lexer": "ipython3",
   "version": "3.9.6"
  }
 },
 "nbformat": 4,
 "nbformat_minor": 1
}
