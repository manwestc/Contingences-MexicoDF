{
 "cells": [
  {
   "cell_type": "markdown",
   "metadata": {
    "id": "EybOZ6hSjpCF"
   },
   "source": [
    "<h1><font color=\"#113D68\" size=5>TINTOlib: Converting Tidy Data into Synthetic Images</font></h1>\n",
    "\n",
    "<h1><font color=\"#113D68\" size=5>Template Classification Machine Learning problem with a CNN</font></h1>\n",
    "\n",
    "<br><br>\n",
    "<div style=\"text-align: right\">\n",
    "<font color=\"#113D68\" size=3>Manuel Castillo-Cara</font><br>\n",
    "<font color=\"#113D68\" size=3>Raúl García-Castro</font><br>\n",
    "<font color=\"#113D68\" size=3>Jiayun Liu</font><br>\n",
    "\n",
    "</div>\n",
    "\n",
    "---"
   ]
  },
  {
   "cell_type": "markdown",
   "metadata": {
    "id": "i3tgsO0BjpCj"
   },
   "source": [
    "<div class=\"alert alert-block alert-info\">\n",
    "    \n",
    "<i class=\"fa fa-info-circle\" aria-hidden=\"true\"></i>\n",
    "More information about [Manuel Castillo-Cara](https://www.manuelcastillo.eu/)"
   ]
  },
  {
   "cell_type": "markdown",
   "metadata": {
    "id": "i3tgsO0BjpCj"
   },
   "source": [
    "<div class=\"alert alert-block alert-info\">\n",
    "    \n",
    "<i class=\"fa fa-info-circle\" aria-hidden=\"true\"></i>\n",
    "More information about [Raúl García-Castro](http://www.garcia-castro.com/)"
   ]
  },
  {
   "cell_type": "markdown",
   "metadata": {},
   "source": [
    "---\n",
    "\n",
    "<a id=\"indice\"></a>\n",
    "<h2><font color=\"#004D7F\" size=5>Licencia</font></h2>\n",
    "\n",
    "<p><small><small>Improving Deep Learning by Exploiting Synthetic Images Copyright 2024 Manuel Castillo Cara.</p>\n",
    "<p><small><small> Licensed under the Apache License, Version 2.0 (the \"License\"); you may not use this file except in compliance with the License. You may obtain a copy of the License at </p>\n",
    "<p><small><small> <a href=\"https://www.apache.org/licenses/LICENSE-2.0\">https://www.apache.org/licenses/LICENSE-2.0</a> </p>\n",
    "<p><small><small> Unless required by applicable law or agreed to in writing, software distributed under the License is distributed on an \"AS IS\" BASIS, WITHOUT WARRANTIES OR CONDITIONS OF ANY KIND, either express or implied. See the License for the specific language governing permissions and limitations under the License. </p>"
   ]
  },
  {
   "cell_type": "markdown",
   "metadata": {
    "id": "2l5nFzsdjpCW"
   },
   "source": [
    "---\n",
    "\n",
    "<a id=\"indice\"></a>\n",
    "<h2><font color=\"#004D7F\" size=5>Index</font></h2>\n",
    "\n",
    "* [0. Context](#section0)\n",
    "* [1. Description](#section1)\n",
    "    * [1.1. Main Features](#section11)\n",
    "    * [1.2. Citation](#section12)\n",
    "    * [1.3. Documentation and License](#section13)\n",
    "* [2. Libraries](#section2)\n",
    "    * [2.1. System setup](#section21)\n",
    "    * [2.2. Invoke the libraries](#section22)\n",
    "* [3. Data processing](#section3)\n",
    "    * [3.1. TINTOlib methods](#section31)\n",
    "    * [3.2. Read the dataset](#section32)\n",
    "    * [3.3. Generate images](#section33)\n",
    "    * [3.4. Read images](#section34)\n",
    "* [4. Pre-modelling phase](#section4)\n",
    "    * [4.1. Data curation](#section41)\n",
    "    * [4.2. Resize Images](#section42)\n",
    "    * [4.3. Iterators](#section43)\n",
    "* [5. Modelling with CNN](#section5)\n",
    "    * [5.1. CNN](#section51)\n",
    "    * [5.2. Compile and fit](#section52)\n",
    "* [6. Results](#section6)\n",
    "    * [6.1. Train/Validation representation](#section61)\n",
    "    * [6.2. Validation/Test evaluation](#section62)\n",
    "    * [6.3. Sklearn metrics evaluation](#section63)"
   ]
  },
  {
   "cell_type": "markdown",
   "metadata": {
    "id": "Z3EzYcjJjpC6"
   },
   "source": [
    "---\n",
    "<div style=\"text-align: right\"> <font size=5> <a href=\"#indice\"><i class=\"fa fa-arrow-circle-up\" aria-hidden=\"true\" style=\"color:#004D7F\"></i></a></font></div>"
   ]
  },
  {
   "cell_type": "markdown",
   "metadata": {
    "id": "qwYF5A2njpC8"
   },
   "source": [
    "<a id=\"section2\"></a>\n",
    "# <font color=\"#004D7F\" size=6> 2. Libraries</font>"
   ]
  },
  {
   "cell_type": "markdown",
   "metadata": {
    "id": "5AdHKnWYsEq_"
   },
   "source": [
    "The first thing we need to do is to declare the libraries"
   ]
  },
  {
   "cell_type": "code",
   "execution_count": 1,
   "metadata": {
    "id": "PeeBbGxlpjFp",
    "tags": []
   },
   "outputs": [
    {
     "name": "stderr",
     "output_type": "stream",
     "text": [
      "/Users/manwest/Library/Python/3.9/lib/python/site-packages/urllib3/__init__.py:35: NotOpenSSLWarning: urllib3 v2 only supports OpenSSL 1.1.1+, currently the 'ssl' module is compiled with 'LibreSSL 2.8.3'. See: https://github.com/urllib3/urllib3/issues/3020\n",
      "  warnings.warn(\n"
     ]
    }
   ],
   "source": [
    "import os\n",
    "import random\n",
    "import pandas as pd\n",
    "import numpy as np\n",
    "from tqdm import tqdm\n",
    "#import cv2\n",
    "import gc\n",
    "import matplotlib.pyplot as plt\n",
    "#import openslide\n",
    "#from openslide.deepzoom import DeepZoomGenerator\n",
    "import tifffile as tifi\n",
    "import sklearn\n",
    "import tensorflow as tf\n",
    "\n",
    "from keras_preprocessing.image import ImageDataGenerator\n",
    "from tensorflow.keras.models import load_model\n",
    "\n",
    "from sklearn.model_selection import train_test_split\n",
    "#from tensorflow.keras.applications import vgg16, vgg19, resnet50, mobilenet, inception_resnet_v2, densenet, inception_v3, xception, nasnet, ResNet152V2\n",
    "from tensorflow.keras.models import Sequential, Model, load_model\n",
    "from tensorflow.keras.layers import Dense, Conv2D, MaxPool2D, Flatten, Dropout, BatchNormalization, InputLayer, LayerNormalization\n",
    "from tensorflow.keras.callbacks import ModelCheckpoint, ReduceLROnPlateau, EarlyStopping\n",
    "from tensorflow.keras.optimizers import SGD, Adam, Adadelta, Adamax, AdamW\n",
    "from keras.layers import MaxPooling2D, AveragePooling2D, Activation, Input, Concatenate\n",
    "from keras.utils import plot_model\n",
    "\n",
    "from imblearn.over_sampling import SMOTE\n",
    "from imblearn.under_sampling import RandomUnderSampler\n",
    "\n",
    "#Models of TINTOlib\n",
    "from TINTOlib.tinto import TINTO\n",
    "from TINTOlib.supertml import SuperTML\n",
    "from TINTOlib.igtd import IGTD\n",
    "from TINTOlib.refined import REFINED\n",
    "from TINTOlib.barGraph import BarGraph\n",
    "from TINTOlib.distanceMatrix import DistanceMatrix\n",
    "from TINTOlib.combination import Combination\n",
    "\n",
    "SEED = 64\n",
    "# SET RANDOM SEED FOR REPRODUCIBILITY\n",
    "#torch.manual_seed(SEED)\n",
    "#torch.cuda.manual_seed(SEED)\n",
    "#torch.cuda.manual_seed_all(SEED)\n",
    "#torch.backends.cudnn.deterministic = True\n",
    "#torch.backends.cudnn.benchmark = False\n",
    "os.environ['PYTHONHASHSEED']=str(SEED)\n",
    "random.seed(SEED)\n",
    "np.random.seed(SEED)\n",
    "tf.random.set_seed(SEED)"
   ]
  },
  {
   "cell_type": "markdown",
   "metadata": {
    "id": "NwS-cKUxjpDQ"
   },
   "source": [
    "---\n",
    "<div style=\"text-align: right\"> <font size=5> <a href=\"#indice\"><i class=\"fa fa-arrow-circle-up\" aria-hidden=\"true\" style=\"color:#004D7F\"></i></a></font></div>\n",
    "\n",
    "---"
   ]
  },
  {
   "cell_type": "markdown",
   "metadata": {
    "id": "aDL4LARWjpDT"
   },
   "source": [
    "<a id=\"section3\"></a>\n",
    "# <font color=\"#004D7F\" size=6> 3. Data processing</font>"
   ]
  },
  {
   "cell_type": "markdown",
   "metadata": {
    "id": "pLzynCxOpHBX"
   },
   "source": [
    "---\n",
    "<a id=\"section31\"></a>\n",
    "# <font color=\"#004D7F\" size=5> 3.1. TINTOlib methods</font>"
   ]
  },
  {
   "cell_type": "code",
   "execution_count": 2,
   "metadata": {},
   "outputs": [],
   "source": [
    "#Select the model and the parameters\n",
    "problem_type = \"supervised\"\n",
    "#problem_type = \"regression\"\n",
    "pixelTML = 30\n",
    "pixel = 20\n",
    "## zoom para ampliar la imagen\n",
    "#image_model = REFINED(problem=problem_type, random_seed=SEED, zoom=5, n_processors=8)\n",
    "#image_model = TINTO(problem= problem_type, blur=True, option='maximum', pixels=pixel, random_seed=SEED)\n",
    "# scale sería [7,4] porque hay 26 variables (para 24 pixeles); \n",
    "#image_model = IGTD(problem= problem_type, random_seed=SEED, scale=[3,3], zoom=5)\n",
    "#image_model = BarGraph(problem= problem_type, pixel_width=2, gap=1, zoom=1)\n",
    "#image_model = DistanceMatrix(problem= problem_type, zoom=4)\n",
    "#image_model = Combination(problem= problem_type, zoom=3)\n",
    "image_model = SuperTML(problem= problem_type, pixels = pixelTML, font_size=4, feature_importance=True, random_seed=SEED)\n",
    "#image_model = SuperTML(problem= problem_type, pixels=pixel, font_size=4, random_seed=SEED)\n",
    "\n",
    "#Define the dataset path and the folder where the images will be saved\n",
    "results_folder = \"SuperTML-FS\"\n",
    "dataset_path = \"../dataset_train.csv\"\n",
    "images_folder = \"SuperTML-FS\"\n",
    "\n"
   ]
  },
  {
   "cell_type": "markdown",
   "metadata": {},
   "source": [
    "<div class=\"alert alert-block alert-info\">\n",
    "\n",
    "<i class=\"fa fa-info-circle\" aria-hidden=\"true\"></i>\n",
    "You can see all information about TINTOlib documentation in [PyPI](https://pypi.org/project/TINTOlib/)"
   ]
  },
  {
   "cell_type": "markdown",
   "metadata": {
    "id": "pLzynCxOpHBX"
   },
   "source": [
    "---\n",
    "<a id=\"section32\"></a>\n",
    "# <font color=\"#004D7F\" size=5> 3.2. Read the dataset</font>"
   ]
  },
  {
   "cell_type": "code",
   "execution_count": 3,
   "metadata": {},
   "outputs": [
    {
     "data": {
      "text/html": [
       "<div>\n",
       "<style scoped>\n",
       "    .dataframe tbody tr th:only-of-type {\n",
       "        vertical-align: middle;\n",
       "    }\n",
       "\n",
       "    .dataframe tbody tr th {\n",
       "        vertical-align: top;\n",
       "    }\n",
       "\n",
       "    .dataframe thead th {\n",
       "        text-align: right;\n",
       "    }\n",
       "</style>\n",
       "<table border=\"1\" class=\"dataframe\">\n",
       "  <thead>\n",
       "    <tr style=\"text-align: right;\">\n",
       "      <th></th>\n",
       "      <th>O3</th>\n",
       "      <th>TMP</th>\n",
       "      <th>RH</th>\n",
       "      <th>1/RH</th>\n",
       "      <th>WSP</th>\n",
       "      <th>WDR</th>\n",
       "      <th>class</th>\n",
       "    </tr>\n",
       "  </thead>\n",
       "  <tbody>\n",
       "    <tr>\n",
       "      <th>0</th>\n",
       "      <td>163.000000</td>\n",
       "      <td>28.2</td>\n",
       "      <td>17.0</td>\n",
       "      <td>0.058824</td>\n",
       "      <td>3.2</td>\n",
       "      <td>346.0</td>\n",
       "      <td>1</td>\n",
       "    </tr>\n",
       "    <tr>\n",
       "      <th>1</th>\n",
       "      <td>170.000000</td>\n",
       "      <td>28.9</td>\n",
       "      <td>23.0</td>\n",
       "      <td>0.043478</td>\n",
       "      <td>3.4</td>\n",
       "      <td>355.0</td>\n",
       "      <td>1</td>\n",
       "    </tr>\n",
       "    <tr>\n",
       "      <th>2</th>\n",
       "      <td>181.000000</td>\n",
       "      <td>28.9</td>\n",
       "      <td>28.0</td>\n",
       "      <td>0.035714</td>\n",
       "      <td>4.4</td>\n",
       "      <td>345.0</td>\n",
       "      <td>1</td>\n",
       "    </tr>\n",
       "    <tr>\n",
       "      <th>3</th>\n",
       "      <td>171.000000</td>\n",
       "      <td>27.4</td>\n",
       "      <td>32.0</td>\n",
       "      <td>0.031250</td>\n",
       "      <td>4.7</td>\n",
       "      <td>357.0</td>\n",
       "      <td>1</td>\n",
       "    </tr>\n",
       "    <tr>\n",
       "      <th>4</th>\n",
       "      <td>124.000000</td>\n",
       "      <td>26.0</td>\n",
       "      <td>37.0</td>\n",
       "      <td>0.027027</td>\n",
       "      <td>5.2</td>\n",
       "      <td>355.0</td>\n",
       "      <td>1</td>\n",
       "    </tr>\n",
       "    <tr>\n",
       "      <th>...</th>\n",
       "      <td>...</td>\n",
       "      <td>...</td>\n",
       "      <td>...</td>\n",
       "      <td>...</td>\n",
       "      <td>...</td>\n",
       "      <td>...</td>\n",
       "      <td>...</td>\n",
       "    </tr>\n",
       "    <tr>\n",
       "      <th>23804</th>\n",
       "      <td>25.000000</td>\n",
       "      <td>21.3</td>\n",
       "      <td>90.0</td>\n",
       "      <td>0.011111</td>\n",
       "      <td>4.6</td>\n",
       "      <td>358.0</td>\n",
       "      <td>0</td>\n",
       "    </tr>\n",
       "    <tr>\n",
       "      <th>23805</th>\n",
       "      <td>23.000000</td>\n",
       "      <td>20.6</td>\n",
       "      <td>89.0</td>\n",
       "      <td>0.011236</td>\n",
       "      <td>4.5</td>\n",
       "      <td>343.0</td>\n",
       "      <td>0</td>\n",
       "    </tr>\n",
       "    <tr>\n",
       "      <th>23806</th>\n",
       "      <td>21.285714</td>\n",
       "      <td>19.1</td>\n",
       "      <td>91.0</td>\n",
       "      <td>0.010989</td>\n",
       "      <td>3.9</td>\n",
       "      <td>359.0</td>\n",
       "      <td>0</td>\n",
       "    </tr>\n",
       "    <tr>\n",
       "      <th>23807</th>\n",
       "      <td>16.000000</td>\n",
       "      <td>18.9</td>\n",
       "      <td>91.0</td>\n",
       "      <td>0.010989</td>\n",
       "      <td>3.6</td>\n",
       "      <td>356.0</td>\n",
       "      <td>0</td>\n",
       "    </tr>\n",
       "    <tr>\n",
       "      <th>23808</th>\n",
       "      <td>20.000000</td>\n",
       "      <td>18.5</td>\n",
       "      <td>91.0</td>\n",
       "      <td>0.010989</td>\n",
       "      <td>3.3</td>\n",
       "      <td>356.0</td>\n",
       "      <td>0</td>\n",
       "    </tr>\n",
       "  </tbody>\n",
       "</table>\n",
       "<p>23809 rows × 7 columns</p>\n",
       "</div>"
      ],
      "text/plain": [
       "               O3   TMP    RH      1/RH  WSP    WDR  class\n",
       "0      163.000000  28.2  17.0  0.058824  3.2  346.0      1\n",
       "1      170.000000  28.9  23.0  0.043478  3.4  355.0      1\n",
       "2      181.000000  28.9  28.0  0.035714  4.4  345.0      1\n",
       "3      171.000000  27.4  32.0  0.031250  4.7  357.0      1\n",
       "4      124.000000  26.0  37.0  0.027027  5.2  355.0      1\n",
       "...           ...   ...   ...       ...  ...    ...    ...\n",
       "23804   25.000000  21.3  90.0  0.011111  4.6  358.0      0\n",
       "23805   23.000000  20.6  89.0  0.011236  4.5  343.0      0\n",
       "23806   21.285714  19.1  91.0  0.010989  3.9  359.0      0\n",
       "23807   16.000000  18.9  91.0  0.010989  3.6  356.0      0\n",
       "23808   20.000000  18.5  91.0  0.010989  3.3  356.0      0\n",
       "\n",
       "[23809 rows x 7 columns]"
      ]
     },
     "execution_count": 3,
     "metadata": {},
     "output_type": "execute_result"
    }
   ],
   "source": [
    "df=pd.read_csv(dataset_path)\n",
    "df"
   ]
  },
  {
   "cell_type": "code",
   "execution_count": 4,
   "metadata": {},
   "outputs": [
    {
     "name": "stdout",
     "output_type": "stream",
     "text": [
      "3\n"
     ]
    }
   ],
   "source": [
    "# Get the shape of the dataframe\n",
    "num_columns = df.shape[1]\n",
    "\n",
    "# Calculate number of columns - 1\n",
    "columns_minus_one = num_columns - 1\n",
    "\n",
    "# Calculate the square root for image size\n",
    "import math\n",
    "image_size = math.ceil(math.sqrt(columns_minus_one))\n",
    "print(image_size)"
   ]
  },
  {
   "cell_type": "markdown",
   "metadata": {},
   "source": [
    "---\n",
    "<a id=\"section33\"></a>\n",
    "# <font color=\"#004D7F\" size=5> 3.3. Generate images</font>"
   ]
  },
  {
   "cell_type": "code",
   "execution_count": 5,
   "metadata": {},
   "outputs": [
    {
     "name": "stdout",
     "output_type": "stream",
     "text": [
      "SuperTML-FS/supervised.csv\n"
     ]
    }
   ],
   "source": [
    "import os\n",
    "\n",
    "# Generate the images if the folder does not exist\n",
    "if not os.path.exists(images_folder):\n",
    "    #Generate thet images\n",
    "    image_model.generateImages(df, images_folder)\n",
    "else:\n",
    "    print(\"The images are already generated\")\n",
    "\n",
    "img_paths = os.path.join(images_folder,problem_type+\".csv\")\n",
    "\n",
    "print(img_paths)"
   ]
  },
  {
   "cell_type": "markdown",
   "metadata": {},
   "source": [
    "<a id=\"section34\"></a>\n",
    "# <font color=\"#004D7F\" size=5> 3.4. Read images</font>"
   ]
  },
  {
   "cell_type": "markdown",
   "metadata": {},
   "source": [
    "Once the images have been created we can read them. In this particular case, by using a pure CNN, we will use the images only to train our model."
   ]
  },
  {
   "cell_type": "code",
   "execution_count": 6,
   "metadata": {},
   "outputs": [
    {
     "data": {
      "text/html": [
       "<div>\n",
       "<style scoped>\n",
       "    .dataframe tbody tr th:only-of-type {\n",
       "        vertical-align: middle;\n",
       "    }\n",
       "\n",
       "    .dataframe tbody tr th {\n",
       "        vertical-align: top;\n",
       "    }\n",
       "\n",
       "    .dataframe thead th {\n",
       "        text-align: right;\n",
       "    }\n",
       "</style>\n",
       "<table border=\"1\" class=\"dataframe\">\n",
       "  <thead>\n",
       "    <tr style=\"text-align: right;\">\n",
       "      <th></th>\n",
       "      <th>images</th>\n",
       "      <th>values</th>\n",
       "    </tr>\n",
       "  </thead>\n",
       "  <tbody>\n",
       "    <tr>\n",
       "      <th>0</th>\n",
       "      <td>SuperTML-FS/01/000000.png</td>\n",
       "      <td>1</td>\n",
       "    </tr>\n",
       "    <tr>\n",
       "      <th>1</th>\n",
       "      <td>SuperTML-FS/01/000001.png</td>\n",
       "      <td>1</td>\n",
       "    </tr>\n",
       "    <tr>\n",
       "      <th>2</th>\n",
       "      <td>SuperTML-FS/01/000002.png</td>\n",
       "      <td>1</td>\n",
       "    </tr>\n",
       "    <tr>\n",
       "      <th>3</th>\n",
       "      <td>SuperTML-FS/01/000003.png</td>\n",
       "      <td>1</td>\n",
       "    </tr>\n",
       "    <tr>\n",
       "      <th>4</th>\n",
       "      <td>SuperTML-FS/01/000004.png</td>\n",
       "      <td>1</td>\n",
       "    </tr>\n",
       "    <tr>\n",
       "      <th>...</th>\n",
       "      <td>...</td>\n",
       "      <td>...</td>\n",
       "    </tr>\n",
       "    <tr>\n",
       "      <th>23804</th>\n",
       "      <td>SuperTML-FS/00/023804.png</td>\n",
       "      <td>0</td>\n",
       "    </tr>\n",
       "    <tr>\n",
       "      <th>23805</th>\n",
       "      <td>SuperTML-FS/00/023805.png</td>\n",
       "      <td>0</td>\n",
       "    </tr>\n",
       "    <tr>\n",
       "      <th>23806</th>\n",
       "      <td>SuperTML-FS/00/023806.png</td>\n",
       "      <td>0</td>\n",
       "    </tr>\n",
       "    <tr>\n",
       "      <th>23807</th>\n",
       "      <td>SuperTML-FS/00/023807.png</td>\n",
       "      <td>0</td>\n",
       "    </tr>\n",
       "    <tr>\n",
       "      <th>23808</th>\n",
       "      <td>SuperTML-FS/00/023808.png</td>\n",
       "      <td>0</td>\n",
       "    </tr>\n",
       "  </tbody>\n",
       "</table>\n",
       "<p>23809 rows × 2 columns</p>\n",
       "</div>"
      ],
      "text/plain": [
       "                          images  values\n",
       "0      SuperTML-FS/01/000000.png       1\n",
       "1      SuperTML-FS/01/000001.png       1\n",
       "2      SuperTML-FS/01/000002.png       1\n",
       "3      SuperTML-FS/01/000003.png       1\n",
       "4      SuperTML-FS/01/000004.png       1\n",
       "...                          ...     ...\n",
       "23804  SuperTML-FS/00/023804.png       0\n",
       "23805  SuperTML-FS/00/023805.png       0\n",
       "23806  SuperTML-FS/00/023806.png       0\n",
       "23807  SuperTML-FS/00/023807.png       0\n",
       "23808  SuperTML-FS/00/023808.png       0\n",
       "\n",
       "[23809 rows x 2 columns]"
      ]
     },
     "execution_count": 6,
     "metadata": {},
     "output_type": "execute_result"
    }
   ],
   "source": [
    "imgs = pd.read_csv(img_paths)\n",
    "\n",
    "#imgs[\"images\"]= images_folder + \"\\\\\" + imgs[\"images\"]\n",
    "imgs[\"images\"]= images_folder + \"/\" + imgs[\"images\"]\n",
    "imgs = imgs.rename(columns={\"class\":\"values\"})\n",
    "imgs"
   ]
  },
  {
   "cell_type": "markdown",
   "metadata": {},
   "source": [
    "---\n",
    "<a id=\"section35\"></a>\n",
    "# <font color=\"#004D7F\" size=5> 3.5. Mix images and tidy data</font>\n",
    "\n",
    "If we want to use hybrid networks, i.e. create a model in which we join a CNN for the images and a MLP for the tabular data, we need to join it in order to integrate all the data in our hybrid model.\n"
   ]
  },
  {
   "cell_type": "markdown",
   "metadata": {},
   "source": [
    "Combine the images and tidy data in the same dataframe, split attributes and objective value"
   ]
  },
  {
   "cell_type": "code",
   "execution_count": 7,
   "metadata": {},
   "outputs": [
    {
     "data": {
      "text/html": [
       "<div>\n",
       "<style scoped>\n",
       "    .dataframe tbody tr th:only-of-type {\n",
       "        vertical-align: middle;\n",
       "    }\n",
       "\n",
       "    .dataframe tbody tr th {\n",
       "        vertical-align: top;\n",
       "    }\n",
       "\n",
       "    .dataframe thead th {\n",
       "        text-align: right;\n",
       "    }\n",
       "</style>\n",
       "<table border=\"1\" class=\"dataframe\">\n",
       "  <thead>\n",
       "    <tr style=\"text-align: right;\">\n",
       "      <th></th>\n",
       "      <th>images</th>\n",
       "      <th>O3</th>\n",
       "      <th>TMP</th>\n",
       "      <th>RH</th>\n",
       "      <th>1/RH</th>\n",
       "      <th>WSP</th>\n",
       "      <th>WDR</th>\n",
       "    </tr>\n",
       "  </thead>\n",
       "  <tbody>\n",
       "    <tr>\n",
       "      <th>0</th>\n",
       "      <td>SuperTML-FS/01/000000.png</td>\n",
       "      <td>163.000000</td>\n",
       "      <td>28.2</td>\n",
       "      <td>17.0</td>\n",
       "      <td>0.058824</td>\n",
       "      <td>3.2</td>\n",
       "      <td>346.0</td>\n",
       "    </tr>\n",
       "    <tr>\n",
       "      <th>1</th>\n",
       "      <td>SuperTML-FS/01/000001.png</td>\n",
       "      <td>170.000000</td>\n",
       "      <td>28.9</td>\n",
       "      <td>23.0</td>\n",
       "      <td>0.043478</td>\n",
       "      <td>3.4</td>\n",
       "      <td>355.0</td>\n",
       "    </tr>\n",
       "    <tr>\n",
       "      <th>2</th>\n",
       "      <td>SuperTML-FS/01/000002.png</td>\n",
       "      <td>181.000000</td>\n",
       "      <td>28.9</td>\n",
       "      <td>28.0</td>\n",
       "      <td>0.035714</td>\n",
       "      <td>4.4</td>\n",
       "      <td>345.0</td>\n",
       "    </tr>\n",
       "    <tr>\n",
       "      <th>3</th>\n",
       "      <td>SuperTML-FS/01/000003.png</td>\n",
       "      <td>171.000000</td>\n",
       "      <td>27.4</td>\n",
       "      <td>32.0</td>\n",
       "      <td>0.031250</td>\n",
       "      <td>4.7</td>\n",
       "      <td>357.0</td>\n",
       "    </tr>\n",
       "    <tr>\n",
       "      <th>4</th>\n",
       "      <td>SuperTML-FS/01/000004.png</td>\n",
       "      <td>124.000000</td>\n",
       "      <td>26.0</td>\n",
       "      <td>37.0</td>\n",
       "      <td>0.027027</td>\n",
       "      <td>5.2</td>\n",
       "      <td>355.0</td>\n",
       "    </tr>\n",
       "    <tr>\n",
       "      <th>...</th>\n",
       "      <td>...</td>\n",
       "      <td>...</td>\n",
       "      <td>...</td>\n",
       "      <td>...</td>\n",
       "      <td>...</td>\n",
       "      <td>...</td>\n",
       "      <td>...</td>\n",
       "    </tr>\n",
       "    <tr>\n",
       "      <th>23804</th>\n",
       "      <td>SuperTML-FS/00/023804.png</td>\n",
       "      <td>25.000000</td>\n",
       "      <td>21.3</td>\n",
       "      <td>90.0</td>\n",
       "      <td>0.011111</td>\n",
       "      <td>4.6</td>\n",
       "      <td>358.0</td>\n",
       "    </tr>\n",
       "    <tr>\n",
       "      <th>23805</th>\n",
       "      <td>SuperTML-FS/00/023805.png</td>\n",
       "      <td>23.000000</td>\n",
       "      <td>20.6</td>\n",
       "      <td>89.0</td>\n",
       "      <td>0.011236</td>\n",
       "      <td>4.5</td>\n",
       "      <td>343.0</td>\n",
       "    </tr>\n",
       "    <tr>\n",
       "      <th>23806</th>\n",
       "      <td>SuperTML-FS/00/023806.png</td>\n",
       "      <td>21.285714</td>\n",
       "      <td>19.1</td>\n",
       "      <td>91.0</td>\n",
       "      <td>0.010989</td>\n",
       "      <td>3.9</td>\n",
       "      <td>359.0</td>\n",
       "    </tr>\n",
       "    <tr>\n",
       "      <th>23807</th>\n",
       "      <td>SuperTML-FS/00/023807.png</td>\n",
       "      <td>16.000000</td>\n",
       "      <td>18.9</td>\n",
       "      <td>91.0</td>\n",
       "      <td>0.010989</td>\n",
       "      <td>3.6</td>\n",
       "      <td>356.0</td>\n",
       "    </tr>\n",
       "    <tr>\n",
       "      <th>23808</th>\n",
       "      <td>SuperTML-FS/00/023808.png</td>\n",
       "      <td>20.000000</td>\n",
       "      <td>18.5</td>\n",
       "      <td>91.0</td>\n",
       "      <td>0.010989</td>\n",
       "      <td>3.3</td>\n",
       "      <td>356.0</td>\n",
       "    </tr>\n",
       "  </tbody>\n",
       "</table>\n",
       "<p>23809 rows × 7 columns</p>\n",
       "</div>"
      ],
      "text/plain": [
       "                          images          O3   TMP    RH      1/RH  WSP    WDR\n",
       "0      SuperTML-FS/01/000000.png  163.000000  28.2  17.0  0.058824  3.2  346.0\n",
       "1      SuperTML-FS/01/000001.png  170.000000  28.9  23.0  0.043478  3.4  355.0\n",
       "2      SuperTML-FS/01/000002.png  181.000000  28.9  28.0  0.035714  4.4  345.0\n",
       "3      SuperTML-FS/01/000003.png  171.000000  27.4  32.0  0.031250  4.7  357.0\n",
       "4      SuperTML-FS/01/000004.png  124.000000  26.0  37.0  0.027027  5.2  355.0\n",
       "...                          ...         ...   ...   ...       ...  ...    ...\n",
       "23804  SuperTML-FS/00/023804.png   25.000000  21.3  90.0  0.011111  4.6  358.0\n",
       "23805  SuperTML-FS/00/023805.png   23.000000  20.6  89.0  0.011236  4.5  343.0\n",
       "23806  SuperTML-FS/00/023806.png   21.285714  19.1  91.0  0.010989  3.9  359.0\n",
       "23807  SuperTML-FS/00/023807.png   16.000000  18.9  91.0  0.010989  3.6  356.0\n",
       "23808  SuperTML-FS/00/023808.png   20.000000  18.5  91.0  0.010989  3.3  356.0\n",
       "\n",
       "[23809 rows x 7 columns]"
      ]
     },
     "execution_count": 7,
     "metadata": {},
     "output_type": "execute_result"
    }
   ],
   "source": [
    "combined_dataset = pd.concat([imgs,df],axis=1)\n",
    "# Drop target column and values which is a copy of target column\n",
    "df_x = combined_dataset.drop(df.columns[-1],axis=1).drop(\"values\",axis=1)\n",
    "df_y = combined_dataset[\"values\"]\n",
    "\n",
    "df_x"
   ]
  },
  {
   "cell_type": "code",
   "execution_count": 8,
   "metadata": {},
   "outputs": [
    {
     "data": {
      "text/html": [
       "<div>\n",
       "<style scoped>\n",
       "    .dataframe tbody tr th:only-of-type {\n",
       "        vertical-align: middle;\n",
       "    }\n",
       "\n",
       "    .dataframe tbody tr th {\n",
       "        vertical-align: top;\n",
       "    }\n",
       "\n",
       "    .dataframe thead th {\n",
       "        text-align: right;\n",
       "    }\n",
       "</style>\n",
       "<table border=\"1\" class=\"dataframe\">\n",
       "  <thead>\n",
       "    <tr style=\"text-align: right;\">\n",
       "      <th></th>\n",
       "      <th>images</th>\n",
       "      <th>values</th>\n",
       "      <th>O3</th>\n",
       "      <th>TMP</th>\n",
       "      <th>RH</th>\n",
       "      <th>1/RH</th>\n",
       "      <th>WSP</th>\n",
       "      <th>WDR</th>\n",
       "      <th>class</th>\n",
       "    </tr>\n",
       "  </thead>\n",
       "  <tbody>\n",
       "    <tr>\n",
       "      <th>0</th>\n",
       "      <td>SuperTML-FS/01/000000.png</td>\n",
       "      <td>1</td>\n",
       "      <td>163.000000</td>\n",
       "      <td>28.2</td>\n",
       "      <td>17.0</td>\n",
       "      <td>0.058824</td>\n",
       "      <td>3.2</td>\n",
       "      <td>346.0</td>\n",
       "      <td>1</td>\n",
       "    </tr>\n",
       "    <tr>\n",
       "      <th>1</th>\n",
       "      <td>SuperTML-FS/01/000001.png</td>\n",
       "      <td>1</td>\n",
       "      <td>170.000000</td>\n",
       "      <td>28.9</td>\n",
       "      <td>23.0</td>\n",
       "      <td>0.043478</td>\n",
       "      <td>3.4</td>\n",
       "      <td>355.0</td>\n",
       "      <td>1</td>\n",
       "    </tr>\n",
       "    <tr>\n",
       "      <th>2</th>\n",
       "      <td>SuperTML-FS/01/000002.png</td>\n",
       "      <td>1</td>\n",
       "      <td>181.000000</td>\n",
       "      <td>28.9</td>\n",
       "      <td>28.0</td>\n",
       "      <td>0.035714</td>\n",
       "      <td>4.4</td>\n",
       "      <td>345.0</td>\n",
       "      <td>1</td>\n",
       "    </tr>\n",
       "    <tr>\n",
       "      <th>3</th>\n",
       "      <td>SuperTML-FS/01/000003.png</td>\n",
       "      <td>1</td>\n",
       "      <td>171.000000</td>\n",
       "      <td>27.4</td>\n",
       "      <td>32.0</td>\n",
       "      <td>0.031250</td>\n",
       "      <td>4.7</td>\n",
       "      <td>357.0</td>\n",
       "      <td>1</td>\n",
       "    </tr>\n",
       "    <tr>\n",
       "      <th>4</th>\n",
       "      <td>SuperTML-FS/01/000004.png</td>\n",
       "      <td>1</td>\n",
       "      <td>124.000000</td>\n",
       "      <td>26.0</td>\n",
       "      <td>37.0</td>\n",
       "      <td>0.027027</td>\n",
       "      <td>5.2</td>\n",
       "      <td>355.0</td>\n",
       "      <td>1</td>\n",
       "    </tr>\n",
       "    <tr>\n",
       "      <th>...</th>\n",
       "      <td>...</td>\n",
       "      <td>...</td>\n",
       "      <td>...</td>\n",
       "      <td>...</td>\n",
       "      <td>...</td>\n",
       "      <td>...</td>\n",
       "      <td>...</td>\n",
       "      <td>...</td>\n",
       "      <td>...</td>\n",
       "    </tr>\n",
       "    <tr>\n",
       "      <th>23804</th>\n",
       "      <td>SuperTML-FS/00/023804.png</td>\n",
       "      <td>0</td>\n",
       "      <td>25.000000</td>\n",
       "      <td>21.3</td>\n",
       "      <td>90.0</td>\n",
       "      <td>0.011111</td>\n",
       "      <td>4.6</td>\n",
       "      <td>358.0</td>\n",
       "      <td>0</td>\n",
       "    </tr>\n",
       "    <tr>\n",
       "      <th>23805</th>\n",
       "      <td>SuperTML-FS/00/023805.png</td>\n",
       "      <td>0</td>\n",
       "      <td>23.000000</td>\n",
       "      <td>20.6</td>\n",
       "      <td>89.0</td>\n",
       "      <td>0.011236</td>\n",
       "      <td>4.5</td>\n",
       "      <td>343.0</td>\n",
       "      <td>0</td>\n",
       "    </tr>\n",
       "    <tr>\n",
       "      <th>23806</th>\n",
       "      <td>SuperTML-FS/00/023806.png</td>\n",
       "      <td>0</td>\n",
       "      <td>21.285714</td>\n",
       "      <td>19.1</td>\n",
       "      <td>91.0</td>\n",
       "      <td>0.010989</td>\n",
       "      <td>3.9</td>\n",
       "      <td>359.0</td>\n",
       "      <td>0</td>\n",
       "    </tr>\n",
       "    <tr>\n",
       "      <th>23807</th>\n",
       "      <td>SuperTML-FS/00/023807.png</td>\n",
       "      <td>0</td>\n",
       "      <td>16.000000</td>\n",
       "      <td>18.9</td>\n",
       "      <td>91.0</td>\n",
       "      <td>0.010989</td>\n",
       "      <td>3.6</td>\n",
       "      <td>356.0</td>\n",
       "      <td>0</td>\n",
       "    </tr>\n",
       "    <tr>\n",
       "      <th>23808</th>\n",
       "      <td>SuperTML-FS/00/023808.png</td>\n",
       "      <td>0</td>\n",
       "      <td>20.000000</td>\n",
       "      <td>18.5</td>\n",
       "      <td>91.0</td>\n",
       "      <td>0.010989</td>\n",
       "      <td>3.3</td>\n",
       "      <td>356.0</td>\n",
       "      <td>0</td>\n",
       "    </tr>\n",
       "  </tbody>\n",
       "</table>\n",
       "<p>23809 rows × 9 columns</p>\n",
       "</div>"
      ],
      "text/plain": [
       "                          images  values          O3   TMP    RH      1/RH  \\\n",
       "0      SuperTML-FS/01/000000.png       1  163.000000  28.2  17.0  0.058824   \n",
       "1      SuperTML-FS/01/000001.png       1  170.000000  28.9  23.0  0.043478   \n",
       "2      SuperTML-FS/01/000002.png       1  181.000000  28.9  28.0  0.035714   \n",
       "3      SuperTML-FS/01/000003.png       1  171.000000  27.4  32.0  0.031250   \n",
       "4      SuperTML-FS/01/000004.png       1  124.000000  26.0  37.0  0.027027   \n",
       "...                          ...     ...         ...   ...   ...       ...   \n",
       "23804  SuperTML-FS/00/023804.png       0   25.000000  21.3  90.0  0.011111   \n",
       "23805  SuperTML-FS/00/023805.png       0   23.000000  20.6  89.0  0.011236   \n",
       "23806  SuperTML-FS/00/023806.png       0   21.285714  19.1  91.0  0.010989   \n",
       "23807  SuperTML-FS/00/023807.png       0   16.000000  18.9  91.0  0.010989   \n",
       "23808  SuperTML-FS/00/023808.png       0   20.000000  18.5  91.0  0.010989   \n",
       "\n",
       "       WSP    WDR  class  \n",
       "0      3.2  346.0      1  \n",
       "1      3.4  355.0      1  \n",
       "2      4.4  345.0      1  \n",
       "3      4.7  357.0      1  \n",
       "4      5.2  355.0      1  \n",
       "...    ...    ...    ...  \n",
       "23804  4.6  358.0      0  \n",
       "23805  4.5  343.0      0  \n",
       "23806  3.9  359.0      0  \n",
       "23807  3.6  356.0      0  \n",
       "23808  3.3  356.0      0  \n",
       "\n",
       "[23809 rows x 9 columns]"
      ]
     },
     "execution_count": 8,
     "metadata": {},
     "output_type": "execute_result"
    }
   ],
   "source": [
    "combined_dataset"
   ]
  },
  {
   "cell_type": "markdown",
   "metadata": {},
   "source": [
    "---\n",
    "<div style=\"text-align: right\"> <font size=5> <a href=\"#indice\"><i class=\"fa fa-arrow-circle-up\" aria-hidden=\"true\" style=\"color:#004D7F\"></i></a></font></div>\n",
    "\n",
    "---"
   ]
  },
  {
   "cell_type": "markdown",
   "metadata": {},
   "source": [
    "<a id=\"section4\"></a>\n",
    "# <font color=\"#004D7F\" size=6> 4. Pre-modelling phase</font>"
   ]
  },
  {
   "cell_type": "markdown",
   "metadata": {},
   "source": [
    "Once the data is ready, we load it into memory with an iterator in order to pass it to the CNN."
   ]
  },
  {
   "cell_type": "markdown",
   "metadata": {},
   "source": [
    "---\n",
    "<a id=\"section41\"></a>\n",
    "# <font color=\"#004D7F\" size=5> 4.1. Data curation</font>"
   ]
  },
  {
   "cell_type": "markdown",
   "metadata": {},
   "source": [
    "Split in train/test/validation"
   ]
  },
  {
   "cell_type": "code",
   "execution_count": 9,
   "metadata": {},
   "outputs": [
    {
     "name": "stdout",
     "output_type": "stream",
     "text": [
      "Images shape:  (30, 30, 1)\n",
      "Attributres:  6\n",
      "Image size (pixels): 30\n"
     ]
    }
   ],
   "source": [
    "import cv2\n",
    "from sklearn.preprocessing import MinMaxScaler\n",
    "X_train, X_val, y_train, y_val = train_test_split(df_x, df_y, test_size = 0.30, random_state=SEED,stratify=df_y)\n",
    "X_val, X_test, y_val, y_test = train_test_split(X_val, y_val, test_size = 0.50, random_state=SEED,stratify=y_val)\n",
    "\n",
    "#TIDY DATA SPLITTED\n",
    "X_train_num = X_train.drop(\"images\",axis=1)\n",
    "X_val_num = X_val.drop(\"images\",axis=1)\n",
    "X_test_num = X_test.drop(\"images\",axis=1)\n",
    "\n",
    "#IMAGES\n",
    "# For 3 channels (RGB)\n",
    "\"\"\"X_train_img = np.array([cv2.imread(img) for img in X_train[\"images\"]])\n",
    "X_val_img = np.array([cv2.imread(img) for img in X_val[\"images\"]])\n",
    "X_test_img = np.array([cv2.imread(img) for img in X_test[\"images\"]])\"\"\"\n",
    "\n",
    "# For 1 channels (GRAY SCALE)\n",
    "X_train_img = np.array([cv2.imread(img,cv2.IMREAD_GRAYSCALE) for img in X_train[\"images\"]])\n",
    "X_val_img = np.array([cv2.imread(img,cv2.IMREAD_GRAYSCALE) for img in X_val[\"images\"]])\n",
    "X_test_img = np.array([cv2.imread(img,cv2.IMREAD_GRAYSCALE) for img in X_test[\"images\"]])\n",
    "\n",
    "# Create a MinMaxScaler object\n",
    "scaler = MinMaxScaler()\n",
    "\n",
    "# Scale numerical data\n",
    "X_train_num = scaler.fit_transform(X_train_num)\n",
    "X_val_num = scaler.transform(X_val_num)\n",
    "X_test_num = scaler.transform(X_test_num)\n",
    "\n",
    "attributes = X_train_num.shape[1]\n",
    "height, width = X_train_img[0].shape\n",
    "channels=1\n",
    "imgs_shape = (height, width, channels)\n",
    "\n",
    "print(\"Images shape: \",imgs_shape)\n",
    "print(\"Attributres: \",attributes)\n",
    "pixel=X_train_img[0].shape[0]\n",
    "print(\"Image size (pixels):\", pixel)"
   ]
  },
  {
   "cell_type": "code",
   "execution_count": 10,
   "metadata": {},
   "outputs": [
    {
     "data": {
      "image/png": "[encoded data removed]",
      "text/plain": [
       "<Figure size 640x480 with 1 Axes>"
      ]
     },
     "metadata": {},
     "output_type": "display_data"
    }
   ],
   "source": [
    "# Plot an example image (e.g., the first image in the array)\n",
    "example_image = X_train_img[0]\n",
    "\n",
    "# Convert the image from BGR (OpenCV default) to RGB for correct color display\n",
    "example_image_rgb = cv2.cvtColor(example_image, cv2.COLOR_BGR2RGB)\n",
    "\n",
    "# Display the image using matplotlib\n",
    "plt.imshow(example_image_rgb)\n",
    "plt.title(\"Example Image from X_train\")\n",
    "plt.axis('off')  # Hide the axis for a cleaner look\n",
    "plt.show()"
   ]
  },
  {
   "cell_type": "markdown",
   "metadata": {},
   "source": [
    "In our case, as we are going to train with a pre-trained network, we must resize it to the dimensions established by the network. Therefore, if you make a customised CNN, this cell is optional. "
   ]
  },
  {
   "cell_type": "code",
   "execution_count": 11,
   "metadata": {},
   "outputs": [],
   "source": [
    "X_train_img = X_train_img/255\n",
    "X_val_img = X_val_img/255\n",
    "X_test_img = X_test_img/255"
   ]
  },
  {
   "cell_type": "markdown",
   "metadata": {
    "id": "xagy7N7ijpEX"
   },
   "source": [
    "---\n",
    "<div style=\"text-align: right\"> <font size=5> <a href=\"#indice\"><i class=\"fa fa-arrow-circle-up\" aria-hidden=\"true\" style=\"color:#004D7F\"></i></a></font></div>\n",
    "\n",
    "---"
   ]
  },
  {
   "cell_type": "markdown",
   "metadata": {
    "id": "rE0VunQYjpEY"
   },
   "source": [
    "<a id=\"section5\"></a>\n",
    "# <font color=\"#004D7F\" size=6> 5. Modelling with CNN</font>"
   ]
  },
  {
   "cell_type": "markdown",
   "metadata": {
    "id": "Qn2U90FwjpEe"
   },
   "source": [
    "<a id=\"section51\"></a>\n",
    "# <font color=\"#004D7F\" size=5> 5.1. CNN</font>"
   ]
  },
  {
   "cell_type": "code",
   "execution_count": 12,
   "metadata": {
    "id": "tZl0AETUw1r8"
   },
   "outputs": [
    {
     "data": {
      "text/plain": [
       "2"
      ]
     },
     "execution_count": 12,
     "metadata": {},
     "output_type": "execute_result"
    }
   ],
   "source": [
    "dropout = 0.2\n",
    "epochs = 100\n",
    "n_class = df['class'].value_counts().count()\n",
    "n_class"
   ]
  },
  {
   "cell_type": "markdown",
   "metadata": {},
   "source": [
    "<div class=\"alert alert-block alert-info\">\n",
    "\n",
    "<i class=\"fa fa-info-circle\" aria-hidden=\"true\"></i>\n",
    "💡 **Important**: `padding=\"same\"` is very important to avoid losing the first/last row/column of pixels. Keep in mind that the images have a small size.\n"
   ]
  },
  {
   "cell_type": "code",
   "execution_count": 13,
   "metadata": {},
   "outputs": [
    {
     "name": "stderr",
     "output_type": "stream",
     "text": [
      "2024-12-13 09:33:07.566066: I metal_plugin/src/device/metal_device.cc:1154] Metal device set to: Apple M3 Pro\n",
      "2024-12-13 09:33:07.566109: I metal_plugin/src/device/metal_device.cc:296] systemMemory: 36.00 GB\n",
      "2024-12-13 09:33:07.566122: I metal_plugin/src/device/metal_device.cc:313] maxCacheSize: 13.50 GB\n",
      "2024-12-13 09:33:07.566148: I tensorflow/core/common_runtime/pluggable_device/pluggable_device_factory.cc:305] Could not identify NUMA node of platform GPU ID 0, defaulting to 0. Your kernel may not have been built with NUMA support.\n",
      "2024-12-13 09:33:07.566177: I tensorflow/core/common_runtime/pluggable_device/pluggable_device_factory.cc:271] Created TensorFlow device (/job:localhost/replica:0/task:0/device:GPU:0 with 0 MB memory) -> physical PluggableDevice (device: 0, name: METAL, pci bus id: <undefined>)\n"
     ]
    }
   ],
   "source": [
    "#Entrada\n",
    "input_shape = Input(shape=(pixel, pixel,1))\n",
    "        \n",
    "#Inicio de rama 1\n",
    "tower_1 = Conv2D(16, (3,3), activation='relu',padding=\"same\")(input_shape)\n",
    "#tower_1 = BatchNormalization()(tower_1)\n",
    "#tower_1 = Activation('relu')(tower_1)\n",
    "tower_1 = MaxPooling2D(2,2)(tower_1)\n",
    "#tower_1 = Dropout(dropout)(tower_1)\n",
    "        \n",
    "tower_1 = Conv2D(32, (3,3), activation='relu',padding=\"same\")(tower_1)\n",
    "#tower_1 = BatchNormalization()(tower_1)\n",
    "#tower_1 = Activation('relu')(tower_1)\n",
    "tower_1 = MaxPooling2D(2,2)(tower_1)\n",
    "#tower_1 = Dropout(dropout)(tower_1)\n",
    "        \n",
    "tower_1 = Conv2D(64, (3,3), activation='relu',padding=\"same\")(tower_1)\n",
    "#tower_1 = BatchNormalization()(tower_1)\n",
    "#tower_1 = Activation('relu')(tower_1)\n",
    "tower_1 = MaxPooling2D(2,2)(tower_1)\n",
    "#tower_1 = Dropout(dropout)(tower_1)\n",
    "        \n",
    "#tower_1 = Conv2D(64, (3,3), activation='relu',padding=\"same\")(tower_1)\n",
    "#tower_1 = BatchNormalization()(tower_1)\n",
    "#tower_1 = Activation('relu')(tower_1)\n",
    "#tower_1 = MaxPooling2D(2,2)(tower_1)\n",
    "#tower_1 = Dropout(dropout)(tower_1)\n",
    "#Fin de rama 1\n",
    "        \n",
    "#Inicio de rama 2\n",
    "tower_2 = Conv2D(16, (5,5), activation='relu',padding=\"same\")(input_shape)\n",
    "#tower_2 = BatchNormalization()(tower_2)\n",
    "#tower_2 = Activation('relu')(tower_2)\n",
    "tower_2 = AveragePooling2D(2,2)(tower_2)\n",
    "#tower_2 = Dropout(dropout)(tower_2)\n",
    "        \n",
    "tower_2 = Conv2D(32, (5,5), activation='relu',padding=\"same\")(tower_2)\n",
    "#tower_2 = BatchNormalization()(tower_2)\n",
    "#tower_2 = Activation('relu')(tower_2)\n",
    "tower_2 = AveragePooling2D(2,2)(tower_2)\n",
    "#tower_2 = Dropout(dropout)(tower_2)\n",
    "        \n",
    "tower_2 = Conv2D(64, (5,5), activation='relu',padding=\"same\")(tower_2)\n",
    "#tower_2 = BatchNormalization()(tower_2)\n",
    "#tower_2 = Activation('relu')(tower_2)\n",
    "tower_2 = AveragePooling2D(2,2)(tower_2)\n",
    "#tower_2 = Dropout(dropout)(tower_2)\n",
    "        \n",
    "#tower_2 = Conv2D(64, (5,5), activation='relu',padding=\"same\")(tower_2)\n",
    "#tower_2 = BatchNormalization()(tower_2)\n",
    "#tower_2 = Activation('relu')(tower_2)\n",
    "#tower_2 = AveragePooling2D(2,2)(tower_2)\n",
    "#tower_2 = Dropout(dropout)(tower_2)\n",
    "            \n",
    "#Concatenación de las 2 ramas\n",
    "merged = Concatenate(axis=1)([tower_1, tower_2])\n",
    "        \n",
    "#Aplanamiento\n",
    "merged = Flatten()(merged)\n",
    "        \n",
    "#Capas adicionales\n",
    "#out = Dense(512, activation='relu')(merged)\n",
    "#out = Dense(256, activation='relu')(merged)\n",
    "out = Dense(128, activation='relu')(merged)\n",
    "out = Dense(64, activation='relu')(out)\n",
    "out = Dense(32, activation='relu')(out)\n",
    "        \n",
    "#Capa final de clasificación\n",
    "#out = Dense(n_class, activation='softmax')(out)\n",
    "out = Dense(1, activation='sigmoid')(out)\n",
    "        \n",
    "model = Model(input_shape, out)"
   ]
  },
  {
   "cell_type": "code",
   "execution_count": 14,
   "metadata": {
    "id": "DC3Ft7sppjGI",
    "tags": []
   },
   "outputs": [],
   "source": [
    "METRICS = [\n",
    "      tf.keras.metrics.TruePositives(name = 'tp'),\n",
    "      tf.keras.metrics.FalsePositives(name = 'fp'),\n",
    "      tf.keras.metrics.TrueNegatives(name = 'tn'),\n",
    "      tf.keras.metrics.FalseNegatives(name = 'fn'), \n",
    "      tf.keras.metrics.BinaryAccuracy(name ='accuracy'),\n",
    "      tf.keras.metrics.Precision(name = 'precision'),\n",
    "      tf.keras.metrics.Recall(name = 'recall'),\n",
    "      tf.keras.metrics.AUC(name = 'auc'),\n",
    "]"
   ]
  },
  {
   "cell_type": "markdown",
   "metadata": {
    "id": "owmN8gR-jpEh"
   },
   "source": [
    "<a id=\"section52\"></a>\n",
    "# <font color=\"#004D7F\" size=5> 5.2. Compile and fit</font>"
   ]
  },
  {
   "cell_type": "markdown",
   "metadata": {},
   "source": [
    "Note to **specify the loss** depending on whether you have a binary or multiclass classification problem."
   ]
  },
  {
   "cell_type": "code",
   "execution_count": 15,
   "metadata": {
    "id": "RFxZU2q6pjGJ",
    "tags": []
   },
   "outputs": [],
   "source": [
    "opt = Adamax()\n",
    "#Adam(learning_rate=1e-6)\n",
    "model.compile(\n",
    "                #optimizer = sgd,\n",
    "                optimizer = opt,\n",
    "                #optimizer = 'Adadelta',\n",
    "                #optimizer = 'Adamax',\n",
    "                #optimizer = opt,\n",
    "                metrics = METRICS,\n",
    "                #metrics = ['accuracy'],\n",
    "                \n",
    "                loss = 'binary_crossentropy'\n",
    "                #loss = 'categorical_crossentropy'\n",
    "                )"
   ]
  },
  {
   "cell_type": "code",
   "execution_count": 16,
   "metadata": {},
   "outputs": [],
   "source": [
    "# Configure EarlyStopping for binary classification\n",
    "early_stopper = tf.keras.callbacks.EarlyStopping(\n",
    "    monitor='val_loss',  # Monitor the validation accuracy\n",
    "    min_delta=0.001,         # Minimum change in the monitored quantity to qualify as an improvement\n",
    "    patience=20,             # Number of epochs with no improvement after which training will be stopped\n",
    "    verbose=1,               # Log when training stops\n",
    "    mode='min',              # Maximize the accuracy; min the loss\n",
    "    restore_best_weights=True  # Restore model weights from the epoch with the best value of the monitored quantity\n",
    ")"
   ]
  },
  {
   "cell_type": "code",
   "execution_count": 17,
   "metadata": {
    "scrolled": true
   },
   "outputs": [
    {
     "name": "stdout",
     "output_type": "stream",
     "text": [
      "Epoch 1/100\n"
     ]
    },
    {
     "name": "stderr",
     "output_type": "stream",
     "text": [
      "/Users/manwest/Library/Python/3.9/lib/python/site-packages/keras/src/models/functional.py:225: UserWarning: The structure of `inputs` doesn't match the expected structure: keras_tensor. Received: the structure of inputs=('*',)\n",
      "  warnings.warn(\n",
      "2024-12-13 09:33:08.674556: I tensorflow/core/grappler/optimizers/custom_graph_optimizer_registry.cc:117] Plugin optimizer for device_type GPU is enabled.\n"
     ]
    },
    {
     "name": "stdout",
     "output_type": "stream",
     "text": [
      "\u001b[1m521/521\u001b[0m \u001b[32m━━━━━━━━━━━━━━━━━━━━\u001b[0m\u001b[37m\u001b[0m \u001b[1m15s\u001b[0m 25ms/step - accuracy: 0.9236 - auc: 0.5192 - fn: 647.7931 - fp: 0.0000e+00 - loss: 0.3000 - precision: 0.0000e+00 - recall: 0.0000e+00 - tn: 7720.1226 - tp: 0.0000e+00 - val_accuracy: 0.9238 - val_auc: 0.6281 - val_fn: 272.0000 - val_fp: 0.0000e+00 - val_loss: 0.2596 - val_precision: 0.0000e+00 - val_recall: 0.0000e+00 - val_tn: 3299.0000 - val_tp: 0.0000e+00\n",
      "Epoch 2/100\n",
      "\u001b[1m521/521\u001b[0m \u001b[32m━━━━━━━━━━━━━━━━━━━━\u001b[0m\u001b[37m\u001b[0m \u001b[1m11s\u001b[0m 22ms/step - accuracy: 0.9236 - auc: 0.5943 - fn: 647.7931 - fp: 0.0000e+00 - loss: 0.2602 - precision: 0.0000e+00 - recall: 0.0000e+00 - tn: 7720.1226 - tp: 0.0000e+00 - val_accuracy: 0.9238 - val_auc: 0.7014 - val_fn: 272.0000 - val_fp: 0.0000e+00 - val_loss: 0.2521 - val_precision: 0.0000e+00 - val_recall: 0.0000e+00 - val_tn: 3299.0000 - val_tp: 0.0000e+00\n",
      "Epoch 3/100\n",
      "\u001b[1m521/521\u001b[0m \u001b[32m━━━━━━━━━━━━━━━━━━━━\u001b[0m\u001b[37m\u001b[0m \u001b[1m20s\u001b[0m 21ms/step - accuracy: 0.9236 - auc: 0.6536 - fn: 647.7931 - fp: 0.0000e+00 - loss: 0.2550 - precision: 0.0000e+00 - recall: 0.0000e+00 - tn: 7720.1226 - tp: 0.0000e+00 - val_accuracy: 0.9238 - val_auc: 0.7454 - val_fn: 272.0000 - val_fp: 0.0000e+00 - val_loss: 0.2431 - val_precision: 0.0000e+00 - val_recall: 0.0000e+00 - val_tn: 3299.0000 - val_tp: 0.0000e+00\n",
      "Epoch 4/100\n",
      "\u001b[1m521/521\u001b[0m \u001b[32m━━━━━━━━━━━━━━━━━━━━\u001b[0m\u001b[37m\u001b[0m \u001b[1m11s\u001b[0m 22ms/step - accuracy: 0.9236 - auc: 0.7157 - fn: 647.7931 - fp: 0.0000e+00 - loss: 0.2476 - precision: 0.0000e+00 - recall: 0.0000e+00 - tn: 7720.1226 - tp: 0.0000e+00 - val_accuracy: 0.9238 - val_auc: 0.7541 - val_fn: 272.0000 - val_fp: 0.0000e+00 - val_loss: 0.2400 - val_precision: 0.0000e+00 - val_recall: 0.0000e+00 - val_tn: 3299.0000 - val_tp: 0.0000e+00\n",
      "Epoch 5/100\n",
      "\u001b[1m521/521\u001b[0m \u001b[32m━━━━━━━━━━━━━━━━━━━━\u001b[0m\u001b[37m\u001b[0m \u001b[1m12s\u001b[0m 24ms/step - accuracy: 0.9236 - auc: 0.7299 - fn: 647.7931 - fp: 0.0000e+00 - loss: 0.2441 - precision: 0.0000e+00 - recall: 0.0000e+00 - tn: 7720.1226 - tp: 0.0000e+00 - val_accuracy: 0.9238 - val_auc: 0.7664 - val_fn: 272.0000 - val_fp: 0.0000e+00 - val_loss: 0.2373 - val_precision: 0.0000e+00 - val_recall: 0.0000e+00 - val_tn: 3299.0000 - val_tp: 0.0000e+00\n",
      "Epoch 6/100\n",
      "\u001b[1m521/521\u001b[0m \u001b[32m━━━━━━━━━━━━━━━━━━━━\u001b[0m\u001b[37m\u001b[0m \u001b[1m13s\u001b[0m 24ms/step - accuracy: 0.9236 - auc: 0.7413 - fn: 647.7931 - fp: 0.0000e+00 - loss: 0.2407 - precision: 0.0000e+00 - recall: 0.0000e+00 - tn: 7720.1226 - tp: 0.0000e+00 - val_accuracy: 0.9238 - val_auc: 0.7727 - val_fn: 272.0000 - val_fp: 0.0000e+00 - val_loss: 0.2350 - val_precision: 0.0000e+00 - val_recall: 0.0000e+00 - val_tn: 3299.0000 - val_tp: 0.0000e+00\n",
      "Epoch 7/100\n",
      "\u001b[1m521/521\u001b[0m \u001b[32m━━━━━━━━━━━━━━━━━━━━\u001b[0m\u001b[37m\u001b[0m \u001b[1m12s\u001b[0m 23ms/step - accuracy: 0.9236 - auc: 0.7506 - fn: 647.7931 - fp: 0.0000e+00 - loss: 0.2377 - precision: 0.0000e+00 - recall: 0.0000e+00 - tn: 7720.1226 - tp: 0.0000e+00 - val_accuracy: 0.9238 - val_auc: 0.7793 - val_fn: 272.0000 - val_fp: 0.0000e+00 - val_loss: 0.2327 - val_precision: 0.0000e+00 - val_recall: 0.0000e+00 - val_tn: 3299.0000 - val_tp: 0.0000e+00\n",
      "Epoch 8/100\n",
      "\u001b[1m521/521\u001b[0m \u001b[32m━━━━━━━━━━━━━━━━━━━━\u001b[0m\u001b[37m\u001b[0m \u001b[1m12s\u001b[0m 23ms/step - accuracy: 0.9236 - auc: 0.7580 - fn: 645.1092 - fp: 2.7107 - loss: 0.2351 - precision: 0.2009 - recall: 0.0025 - tn: 7717.4121 - tp: 2.6839 - val_accuracy: 0.9255 - val_auc: 0.7810 - val_fn: 258.0000 - val_fp: 8.0000 - val_loss: 0.2307 - val_precision: 0.6364 - val_recall: 0.0515 - val_tn: 3291.0000 - val_tp: 14.0000\n",
      "Epoch 9/100\n",
      "\u001b[1m521/521\u001b[0m \u001b[32m━━━━━━━━━━━━━━━━━━━━\u001b[0m\u001b[37m\u001b[0m \u001b[1m11s\u001b[0m 22ms/step - accuracy: 0.9255 - auc: 0.7628 - fn: 608.6341 - fp: 22.3142 - loss: 0.2327 - precision: 0.6304 - recall: 0.0595 - tn: 7697.8086 - tp: 39.1590 - val_accuracy: 0.9261 - val_auc: 0.7822 - val_fn: 251.0000 - val_fp: 13.0000 - val_loss: 0.2294 - val_precision: 0.6176 - val_recall: 0.0772 - val_tn: 3286.0000 - val_tp: 21.0000\n",
      "Epoch 10/100\n",
      "\u001b[1m521/521\u001b[0m \u001b[32m━━━━━━━━━━━━━━━━━━━━\u001b[0m\u001b[37m\u001b[0m \u001b[1m12s\u001b[0m 23ms/step - accuracy: 0.9272 - auc: 0.7659 - fn: 590.8659 - fp: 27.0709 - loss: 0.2310 - precision: 0.6786 - recall: 0.0887 - tn: 7693.0518 - tp: 56.9272 - val_accuracy: 0.9278 - val_auc: 0.7820 - val_fn: 244.0000 - val_fp: 14.0000 - val_loss: 0.2283 - val_precision: 0.6667 - val_recall: 0.1029 - val_tn: 3285.0000 - val_tp: 28.0000\n",
      "Epoch 11/100\n",
      "\u001b[1m521/521\u001b[0m \u001b[32m━━━━━━━━━━━━━━━━━━━━\u001b[0m\u001b[37m\u001b[0m \u001b[1m12s\u001b[0m 23ms/step - accuracy: 0.9280 - auc: 0.7684 - fn: 581.2222 - fp: 30.5939 - loss: 0.2295 - precision: 0.6895 - recall: 0.1052 - tn: 7689.5288 - tp: 66.5709 - val_accuracy: 0.9280 - val_auc: 0.7792 - val_fn: 242.0000 - val_fp: 15.0000 - val_loss: 0.2277 - val_precision: 0.6667 - val_recall: 0.1103 - val_tn: 3284.0000 - val_tp: 30.0000\n",
      "Epoch 12/100\n",
      "\u001b[1m521/521\u001b[0m \u001b[32m━━━━━━━━━━━━━━━━━━━━\u001b[0m\u001b[37m\u001b[0m \u001b[1m12s\u001b[0m 24ms/step - accuracy: 0.9282 - auc: 0.7701 - fn: 577.3353 - fp: 32.9674 - loss: 0.2287 - precision: 0.6849 - recall: 0.1108 - tn: 7687.1553 - tp: 70.4579 - val_accuracy: 0.9283 - val_auc: 0.7783 - val_fn: 240.0000 - val_fp: 16.0000 - val_loss: 0.2273 - val_precision: 0.6667 - val_recall: 0.1176 - val_tn: 3283.0000 - val_tp: 32.0000\n",
      "Epoch 13/100\n",
      "\u001b[1m521/521\u001b[0m \u001b[32m━━━━━━━━━━━━━━━━━━━━\u001b[0m\u001b[37m\u001b[0m \u001b[1m11s\u001b[0m 22ms/step - accuracy: 0.9287 - auc: 0.7719 - fn: 571.6571 - fp: 36.0862 - loss: 0.2278 - precision: 0.6880 - recall: 0.1234 - tn: 7684.0366 - tp: 76.1360 - val_accuracy: 0.9283 - val_auc: 0.7778 - val_fn: 242.0000 - val_fp: 14.0000 - val_loss: 0.2269 - val_precision: 0.6818 - val_recall: 0.1103 - val_tn: 3285.0000 - val_tp: 30.0000\n",
      "Epoch 14/100\n",
      "\u001b[1m521/521\u001b[0m \u001b[32m━━━━━━━━━━━━━━━━━━━━\u001b[0m\u001b[37m\u001b[0m \u001b[1m12s\u001b[0m 22ms/step - accuracy: 0.9286 - auc: 0.7731 - fn: 568.6590 - fp: 39.8333 - loss: 0.2271 - precision: 0.6689 - recall: 0.1286 - tn: 7680.2891 - tp: 79.1341 - val_accuracy: 0.9286 - val_auc: 0.7772 - val_fn: 241.0000 - val_fp: 14.0000 - val_loss: 0.2265 - val_precision: 0.6889 - val_recall: 0.1140 - val_tn: 3285.0000 - val_tp: 31.0000\n",
      "Epoch 15/100\n",
      "\u001b[1m521/521\u001b[0m \u001b[32m━━━━━━━━━━━━━━━━━━━━\u001b[0m\u001b[37m\u001b[0m \u001b[1m12s\u001b[0m 23ms/step - accuracy: 0.9285 - auc: 0.7745 - fn: 567.0153 - fp: 41.0632 - loss: 0.2266 - precision: 0.6637 - recall: 0.1314 - tn: 7679.0596 - tp: 80.7778 - val_accuracy: 0.9280 - val_auc: 0.7793 - val_fn: 239.0000 - val_fp: 18.0000 - val_loss: 0.2261 - val_precision: 0.6471 - val_recall: 0.1213 - val_tn: 3281.0000 - val_tp: 33.0000\n",
      "Epoch 16/100\n",
      "\u001b[1m521/521\u001b[0m \u001b[32m━━━━━━━━━━━━━━━━━━━━\u001b[0m\u001b[37m\u001b[0m \u001b[1m12s\u001b[0m 23ms/step - accuracy: 0.9281 - auc: 0.7752 - fn: 567.2050 - fp: 42.7797 - loss: 0.2262 - precision: 0.6486 - recall: 0.1304 - tn: 7677.3428 - tp: 80.5881 - val_accuracy: 0.9280 - val_auc: 0.7805 - val_fn: 240.0000 - val_fp: 17.0000 - val_loss: 0.2260 - val_precision: 0.6531 - val_recall: 0.1176 - val_tn: 3282.0000 - val_tp: 32.0000\n",
      "Epoch 17/100\n",
      "\u001b[1m521/521\u001b[0m \u001b[32m━━━━━━━━━━━━━━━━━━━━\u001b[0m\u001b[37m\u001b[0m \u001b[1m12s\u001b[0m 22ms/step - accuracy: 0.9284 - auc: 0.7761 - fn: 566.5479 - fp: 41.3793 - loss: 0.2258 - precision: 0.6571 - recall: 0.1312 - tn: 7678.7432 - tp: 81.2452 - val_accuracy: 0.9280 - val_auc: 0.7808 - val_fn: 240.0000 - val_fp: 17.0000 - val_loss: 0.2257 - val_precision: 0.6531 - val_recall: 0.1176 - val_tn: 3282.0000 - val_tp: 32.0000\n",
      "Epoch 18/100\n",
      "\u001b[1m521/521\u001b[0m \u001b[32m━━━━━━━━━━━━━━━━━━━━\u001b[0m\u001b[37m\u001b[0m \u001b[1m11s\u001b[0m 21ms/step - accuracy: 0.9284 - auc: 0.7776 - fn: 563.2433 - fp: 44.2069 - loss: 0.2253 - precision: 0.6512 - recall: 0.1373 - tn: 7675.9155 - tp: 84.5498 - val_accuracy: 0.9289 - val_auc: 0.7833 - val_fn: 237.0000 - val_fp: 17.0000 - val_loss: 0.2250 - val_precision: 0.6731 - val_recall: 0.1287 - val_tn: 3282.0000 - val_tp: 35.0000\n",
      "Epoch 19/100\n",
      "\u001b[1m521/521\u001b[0m \u001b[32m━━━━━━━━━━━━━━━━━━━━\u001b[0m\u001b[37m\u001b[0m \u001b[1m11s\u001b[0m 22ms/step - accuracy: 0.9284 - auc: 0.7786 - fn: 562.3525 - fp: 44.5613 - loss: 0.2248 - precision: 0.6483 - recall: 0.1384 - tn: 7675.5615 - tp: 85.4406 - val_accuracy: 0.9292 - val_auc: 0.7848 - val_fn: 237.0000 - val_fp: 16.0000 - val_loss: 0.2240 - val_precision: 0.6863 - val_recall: 0.1287 - val_tn: 3283.0000 - val_tp: 35.0000\n",
      "Epoch 20/100\n",
      "\u001b[1m521/521\u001b[0m \u001b[32m━━━━━━━━━━━━━━━━━━━━\u001b[0m\u001b[37m\u001b[0m \u001b[1m11s\u001b[0m 22ms/step - accuracy: 0.9289 - auc: 0.7798 - fn: 560.5728 - fp: 44.6935 - loss: 0.2242 - precision: 0.6599 - recall: 0.1442 - tn: 7675.4292 - tp: 87.2203 - val_accuracy: 0.9286 - val_auc: 0.7871 - val_fn: 238.0000 - val_fp: 17.0000 - val_loss: 0.2229 - val_precision: 0.6667 - val_recall: 0.1250 - val_tn: 3282.0000 - val_tp: 34.0000\n",
      "Epoch 21/100\n",
      "\u001b[1m521/521\u001b[0m \u001b[32m━━━━━━━━━━━━━━━━━━━━\u001b[0m\u001b[37m\u001b[0m \u001b[1m13s\u001b[0m 24ms/step - accuracy: 0.9288 - auc: 0.7820 - fn: 559.8257 - fp: 46.6609 - loss: 0.2237 - precision: 0.6558 - recall: 0.1454 - tn: 7673.4619 - tp: 87.9674 - val_accuracy: 0.9283 - val_auc: 0.7882 - val_fn: 238.0000 - val_fp: 18.0000 - val_loss: 0.2225 - val_precision: 0.6538 - val_recall: 0.1250 - val_tn: 3281.0000 - val_tp: 34.0000\n",
      "Epoch 22/100\n",
      "\u001b[1m521/521\u001b[0m \u001b[32m━━━━━━━━━━━━━━━━━━━━\u001b[0m\u001b[37m\u001b[0m \u001b[1m12s\u001b[0m 22ms/step - accuracy: 0.9295 - auc: 0.7838 - fn: 554.9655 - fp: 46.1686 - loss: 0.2232 - precision: 0.6703 - recall: 0.1537 - tn: 7673.9541 - tp: 92.8276 - val_accuracy: 0.9294 - val_auc: 0.7904 - val_fn: 236.0000 - val_fp: 16.0000 - val_loss: 0.2218 - val_precision: 0.6923 - val_recall: 0.1324 - val_tn: 3283.0000 - val_tp: 36.0000\n",
      "Epoch 23/100\n",
      "\u001b[1m521/521\u001b[0m \u001b[32m━━━━━━━━━━━━━━━━━━━━\u001b[0m\u001b[37m\u001b[0m \u001b[1m12s\u001b[0m 23ms/step - accuracy: 0.9296 - auc: 0.7849 - fn: 552.4828 - fp: 48.7759 - loss: 0.2226 - precision: 0.6659 - recall: 0.1575 - tn: 7671.3467 - tp: 95.3103 - val_accuracy: 0.9303 - val_auc: 0.7933 - val_fn: 233.0000 - val_fp: 16.0000 - val_loss: 0.2208 - val_precision: 0.7091 - val_recall: 0.1434 - val_tn: 3283.0000 - val_tp: 39.0000\n",
      "Epoch 24/100\n",
      "\u001b[1m521/521\u001b[0m \u001b[32m━━━━━━━━━━━━━━━━━━━━\u001b[0m\u001b[37m\u001b[0m \u001b[1m12s\u001b[0m 23ms/step - accuracy: 0.9297 - auc: 0.7868 - fn: 549.7126 - fp: 49.6571 - loss: 0.2219 - precision: 0.6673 - recall: 0.1607 - tn: 7670.4653 - tp: 98.0805 - val_accuracy: 0.9308 - val_auc: 0.7947 - val_fn: 230.0000 - val_fp: 17.0000 - val_loss: 0.2201 - val_precision: 0.7119 - val_recall: 0.1544 - val_tn: 3282.0000 - val_tp: 42.0000\n",
      "Epoch 25/100\n",
      "\u001b[1m521/521\u001b[0m \u001b[32m━━━━━━━━━━━━━━━━━━━━\u001b[0m\u001b[37m\u001b[0m \u001b[1m12s\u001b[0m 23ms/step - accuracy: 0.9298 - auc: 0.7891 - fn: 548.7452 - fp: 48.7893 - loss: 0.2213 - precision: 0.6714 - recall: 0.1612 - tn: 7671.3335 - tp: 99.0479 - val_accuracy: 0.9314 - val_auc: 0.7959 - val_fn: 228.0000 - val_fp: 17.0000 - val_loss: 0.2195 - val_precision: 0.7213 - val_recall: 0.1618 - val_tn: 3282.0000 - val_tp: 44.0000\n",
      "Epoch 26/100\n",
      "\u001b[1m521/521\u001b[0m \u001b[32m━━━━━━━━━━━━━━━━━━━━\u001b[0m\u001b[37m\u001b[0m \u001b[1m12s\u001b[0m 22ms/step - accuracy: 0.9303 - auc: 0.7902 - fn: 546.5651 - fp: 47.7893 - loss: 0.2208 - precision: 0.6816 - recall: 0.1651 - tn: 7672.3335 - tp: 101.2280 - val_accuracy: 0.9322 - val_auc: 0.7988 - val_fn: 225.0000 - val_fp: 17.0000 - val_loss: 0.2186 - val_precision: 0.7344 - val_recall: 0.1728 - val_tn: 3282.0000 - val_tp: 47.0000\n",
      "Epoch 27/100\n",
      "\u001b[1m521/521\u001b[0m \u001b[32m━━━━━━━━━━━━━━━━━━━━\u001b[0m\u001b[37m\u001b[0m \u001b[1m12s\u001b[0m 23ms/step - accuracy: 0.9303 - auc: 0.7906 - fn: 545.2452 - fp: 48.5000 - loss: 0.2204 - precision: 0.6803 - recall: 0.1664 - tn: 7671.6226 - tp: 102.5479 - val_accuracy: 0.9320 - val_auc: 0.7982 - val_fn: 225.0000 - val_fp: 18.0000 - val_loss: 0.2186 - val_precision: 0.7231 - val_recall: 0.1728 - val_tn: 3281.0000 - val_tp: 47.0000\n",
      "Epoch 28/100\n",
      "\u001b[1m521/521\u001b[0m \u001b[32m━━━━━━━━━━━━━━━━━━━━\u001b[0m\u001b[37m\u001b[0m \u001b[1m12s\u001b[0m 23ms/step - accuracy: 0.9297 - auc: 0.7915 - fn: 547.2720 - fp: 49.5517 - loss: 0.2204 - precision: 0.6656 - recall: 0.1615 - tn: 7670.5708 - tp: 100.5211 - val_accuracy: 0.9317 - val_auc: 0.7976 - val_fn: 226.0000 - val_fp: 18.0000 - val_loss: 0.2190 - val_precision: 0.7188 - val_recall: 0.1691 - val_tn: 3281.0000 - val_tp: 46.0000\n",
      "Epoch 29/100\n",
      "\u001b[1m521/521\u001b[0m \u001b[32m━━━━━━━━━━━━━━━━━━━━\u001b[0m\u001b[37m\u001b[0m \u001b[1m11s\u001b[0m 22ms/step - accuracy: 0.9302 - auc: 0.7923 - fn: 547.5019 - fp: 46.8755 - loss: 0.2204 - precision: 0.6841 - recall: 0.1608 - tn: 7673.2471 - tp: 100.2912 - val_accuracy: 0.9314 - val_auc: 0.7982 - val_fn: 227.0000 - val_fp: 18.0000 - val_loss: 0.2185 - val_precision: 0.7143 - val_recall: 0.1654 - val_tn: 3281.0000 - val_tp: 45.0000\n",
      "Epoch 30/100\n",
      "\u001b[1m521/521\u001b[0m \u001b[32m━━━━━━━━━━━━━━━━━━━━\u001b[0m\u001b[37m\u001b[0m \u001b[1m11s\u001b[0m 21ms/step - accuracy: 0.9301 - auc: 0.7929 - fn: 543.9329 - fp: 48.8391 - loss: 0.2200 - precision: 0.6749 - recall: 0.1660 - tn: 7671.2837 - tp: 103.8602 - val_accuracy: 0.9311 - val_auc: 0.7982 - val_fn: 224.0000 - val_fp: 22.0000 - val_loss: 0.2189 - val_precision: 0.6857 - val_recall: 0.1765 - val_tn: 3277.0000 - val_tp: 48.0000\n",
      "Epoch 31/100\n",
      "\u001b[1m521/521\u001b[0m \u001b[32m━━━━━━━━━━━━━━━━━━━━\u001b[0m\u001b[37m\u001b[0m \u001b[1m12s\u001b[0m 23ms/step - accuracy: 0.9302 - auc: 0.7945 - fn: 543.2375 - fp: 48.2969 - loss: 0.2195 - precision: 0.6778 - recall: 0.1670 - tn: 7671.8257 - tp: 104.5556 - val_accuracy: 0.9314 - val_auc: 0.7981 - val_fn: 223.0000 - val_fp: 22.0000 - val_loss: 0.2195 - val_precision: 0.6901 - val_recall: 0.1801 - val_tn: 3277.0000 - val_tp: 49.0000\n",
      "Epoch 32/100\n",
      "\u001b[1m521/521\u001b[0m \u001b[32m━━━━━━━━━━━━━━━━━━━━\u001b[0m\u001b[37m\u001b[0m \u001b[1m12s\u001b[0m 22ms/step - accuracy: 0.9304 - auc: 0.7937 - fn: 544.9387 - fp: 46.8640 - loss: 0.2196 - precision: 0.6845 - recall: 0.1667 - tn: 7673.2588 - tp: 102.8544 - val_accuracy: 0.9308 - val_auc: 0.7987 - val_fn: 224.0000 - val_fp: 23.0000 - val_loss: 0.2187 - val_precision: 0.6761 - val_recall: 0.1765 - val_tn: 3276.0000 - val_tp: 48.0000\n",
      "Epoch 33/100\n",
      "\u001b[1m521/521\u001b[0m \u001b[32m━━━━━━━━━━━━━━━━━━━━\u001b[0m\u001b[37m\u001b[0m \u001b[1m11s\u001b[0m 21ms/step - accuracy: 0.9312 - auc: 0.7949 - fn: 540.8544 - fp: 45.4521 - loss: 0.2191 - precision: 0.7000 - recall: 0.1749 - tn: 7674.6704 - tp: 106.9387 - val_accuracy: 0.9311 - val_auc: 0.7994 - val_fn: 224.0000 - val_fp: 22.0000 - val_loss: 0.2184 - val_precision: 0.6857 - val_recall: 0.1765 - val_tn: 3277.0000 - val_tp: 48.0000\n",
      "Epoch 34/100\n",
      "\u001b[1m521/521\u001b[0m \u001b[32m━━━━━━━━━━━━━━━━━━━━\u001b[0m\u001b[37m\u001b[0m \u001b[1m12s\u001b[0m 23ms/step - accuracy: 0.9310 - auc: 0.7953 - fn: 542.0996 - fp: 43.9962 - loss: 0.2187 - precision: 0.7009 - recall: 0.1714 - tn: 7676.1265 - tp: 105.6935 - val_accuracy: 0.9311 - val_auc: 0.8007 - val_fn: 225.0000 - val_fp: 21.0000 - val_loss: 0.2174 - val_precision: 0.6912 - val_recall: 0.1728 - val_tn: 3278.0000 - val_tp: 47.0000\n",
      "Epoch 35/100\n",
      "\u001b[1m521/521\u001b[0m \u001b[32m━━━━━━━━━━━━━━━━━━━━\u001b[0m\u001b[37m\u001b[0m \u001b[1m11s\u001b[0m 21ms/step - accuracy: 0.9316 - auc: 0.7955 - fn: 538.4080 - fp: 45.0019 - loss: 0.2184 - precision: 0.7076 - recall: 0.1793 - tn: 7675.1206 - tp: 109.3851 - val_accuracy: 0.9308 - val_auc: 0.8012 - val_fn: 221.0000 - val_fp: 26.0000 - val_loss: 0.2182 - val_precision: 0.6623 - val_recall: 0.1875 - val_tn: 3273.0000 - val_tp: 51.0000\n",
      "Epoch 36/100\n",
      "\u001b[1m521/521\u001b[0m \u001b[32m━━━━━━━━━━━━━━━━━━━━\u001b[0m\u001b[37m\u001b[0m \u001b[1m11s\u001b[0m 22ms/step - accuracy: 0.9312 - auc: 0.7953 - fn: 539.1782 - fp: 45.5805 - loss: 0.2183 - precision: 0.7016 - recall: 0.1756 - tn: 7674.5420 - tp: 108.6149 - val_accuracy: 0.9311 - val_auc: 0.8025 - val_fn: 223.0000 - val_fp: 23.0000 - val_loss: 0.2177 - val_precision: 0.6806 - val_recall: 0.1801 - val_tn: 3276.0000 - val_tp: 49.0000\n",
      "Epoch 37/100\n",
      "\u001b[1m521/521\u001b[0m \u001b[32m━━━━━━━━━━━━━━━━━━━━\u001b[0m\u001b[37m\u001b[0m \u001b[1m11s\u001b[0m 22ms/step - accuracy: 0.9313 - auc: 0.7967 - fn: 539.2222 - fp: 44.1571 - loss: 0.2179 - precision: 0.7065 - recall: 0.1752 - tn: 7675.9653 - tp: 108.5709 - val_accuracy: 0.9311 - val_auc: 0.8020 - val_fn: 222.0000 - val_fp: 24.0000 - val_loss: 0.2178 - val_precision: 0.6757 - val_recall: 0.1838 - val_tn: 3275.0000 - val_tp: 50.0000\n",
      "Epoch 38/100\n",
      "\u001b[1m521/521\u001b[0m \u001b[32m━━━━━━━━━━━━━━━━━━━━\u001b[0m\u001b[37m\u001b[0m \u001b[1m11s\u001b[0m 20ms/step - accuracy: 0.9316 - auc: 0.7965 - fn: 537.6494 - fp: 45.7414 - loss: 0.2177 - precision: 0.7059 - recall: 0.1814 - tn: 7674.3813 - tp: 110.1437 - val_accuracy: 0.9311 - val_auc: 0.8038 - val_fn: 221.0000 - val_fp: 25.0000 - val_loss: 0.2167 - val_precision: 0.6711 - val_recall: 0.1875 - val_tn: 3274.0000 - val_tp: 51.0000\n",
      "Epoch 39/100\n",
      "\u001b[1m521/521\u001b[0m \u001b[32m━━━━━━━━━━━━━━━━━━━━\u001b[0m\u001b[37m\u001b[0m \u001b[1m10s\u001b[0m 20ms/step - accuracy: 0.9318 - auc: 0.7971 - fn: 535.1877 - fp: 43.7854 - loss: 0.2173 - precision: 0.7127 - recall: 0.1823 - tn: 7676.3374 - tp: 112.6054 - val_accuracy: 0.9306 - val_auc: 0.8045 - val_fn: 224.0000 - val_fp: 24.0000 - val_loss: 0.2170 - val_precision: 0.6667 - val_recall: 0.1765 - val_tn: 3275.0000 - val_tp: 48.0000\n",
      "Epoch 40/100\n",
      "\u001b[1m521/521\u001b[0m \u001b[32m━━━━━━━━━━━━━━━━━━━━\u001b[0m\u001b[37m\u001b[0m \u001b[1m11s\u001b[0m 21ms/step - accuracy: 0.9322 - auc: 0.7979 - fn: 530.8467 - fp: 45.1590 - loss: 0.2169 - precision: 0.7156 - recall: 0.1891 - tn: 7674.9634 - tp: 116.9464 - val_accuracy: 0.9311 - val_auc: 0.8041 - val_fn: 225.0000 - val_fp: 21.0000 - val_loss: 0.2161 - val_precision: 0.6912 - val_recall: 0.1728 - val_tn: 3278.0000 - val_tp: 47.0000\n",
      "Epoch 41/100\n",
      "\u001b[1m521/521\u001b[0m \u001b[32m━━━━━━━━━━━━━━━━━━━━\u001b[0m\u001b[37m\u001b[0m \u001b[1m11s\u001b[0m 22ms/step - accuracy: 0.9323 - auc: 0.7988 - fn: 534.3678 - fp: 41.8736 - loss: 0.2166 - precision: 0.7255 - recall: 0.1837 - tn: 7678.2490 - tp: 113.4253 - val_accuracy: 0.9314 - val_auc: 0.8037 - val_fn: 226.0000 - val_fp: 19.0000 - val_loss: 0.2163 - val_precision: 0.7077 - val_recall: 0.1691 - val_tn: 3280.0000 - val_tp: 46.0000\n",
      "Epoch 42/100\n",
      "\u001b[1m521/521\u001b[0m \u001b[32m━━━━━━━━━━━━━━━━━━━━\u001b[0m\u001b[37m\u001b[0m \u001b[1m11s\u001b[0m 22ms/step - accuracy: 0.9324 - auc: 0.7993 - fn: 529.6954 - fp: 45.5019 - loss: 0.2162 - precision: 0.7181 - recall: 0.1907 - tn: 7674.6206 - tp: 118.0977 - val_accuracy: 0.9314 - val_auc: 0.8080 - val_fn: 226.0000 - val_fp: 19.0000 - val_loss: 0.2148 - val_precision: 0.7077 - val_recall: 0.1691 - val_tn: 3280.0000 - val_tp: 46.0000\n",
      "Epoch 43/100\n",
      "\u001b[1m521/521\u001b[0m \u001b[32m━━━━━━━━━━━━━━━━━━━━\u001b[0m\u001b[37m\u001b[0m \u001b[1m12s\u001b[0m 23ms/step - accuracy: 0.9326 - auc: 0.7998 - fn: 529.9655 - fp: 42.7261 - loss: 0.2161 - precision: 0.7284 - recall: 0.1899 - tn: 7677.3965 - tp: 117.8276 - val_accuracy: 0.9317 - val_auc: 0.8065 - val_fn: 226.0000 - val_fp: 18.0000 - val_loss: 0.2155 - val_precision: 0.7188 - val_recall: 0.1691 - val_tn: 3281.0000 - val_tp: 46.0000\n",
      "Epoch 44/100\n",
      "\u001b[1m521/521\u001b[0m \u001b[32m━━━━━━━━━━━━━━━━━━━━\u001b[0m\u001b[37m\u001b[0m \u001b[1m12s\u001b[0m 22ms/step - accuracy: 0.9323 - auc: 0.8008 - fn: 531.5977 - fp: 44.7625 - loss: 0.2155 - precision: 0.7176 - recall: 0.1882 - tn: 7675.3604 - tp: 116.1954 - val_accuracy: 0.9311 - val_auc: 0.8055 - val_fn: 226.0000 - val_fp: 20.0000 - val_loss: 0.2159 - val_precision: 0.6970 - val_recall: 0.1691 - val_tn: 3279.0000 - val_tp: 46.0000\n",
      "Epoch 45/100\n",
      "\u001b[1m521/521\u001b[0m \u001b[32m━━━━━━━━━━━━━━━━━━━━\u001b[0m\u001b[37m\u001b[0m \u001b[1m11s\u001b[0m 22ms/step - accuracy: 0.9326 - auc: 0.8004 - fn: 526.3831 - fp: 47.2452 - loss: 0.2154 - precision: 0.7165 - recall: 0.1950 - tn: 7672.8774 - tp: 121.4100 - val_accuracy: 0.9317 - val_auc: 0.8057 - val_fn: 226.0000 - val_fp: 18.0000 - val_loss: 0.2154 - val_precision: 0.7188 - val_recall: 0.1691 - val_tn: 3281.0000 - val_tp: 46.0000\n",
      "Epoch 46/100\n",
      "\u001b[1m521/521\u001b[0m \u001b[32m━━━━━━━━━━━━━━━━━━━━\u001b[0m\u001b[37m\u001b[0m \u001b[1m11s\u001b[0m 22ms/step - accuracy: 0.9325 - auc: 0.8005 - fn: 527.1820 - fp: 47.8602 - loss: 0.2151 - precision: 0.7129 - recall: 0.1954 - tn: 7672.2627 - tp: 120.6111 - val_accuracy: 0.9320 - val_auc: 0.8082 - val_fn: 226.0000 - val_fp: 17.0000 - val_loss: 0.2148 - val_precision: 0.7302 - val_recall: 0.1691 - val_tn: 3282.0000 - val_tp: 46.0000\n",
      "Epoch 47/100\n",
      "\u001b[1m521/521\u001b[0m \u001b[32m━━━━━━━━━━━━━━━━━━━━\u001b[0m\u001b[37m\u001b[0m \u001b[1m11s\u001b[0m 22ms/step - accuracy: 0.9329 - auc: 0.8004 - fn: 524.7874 - fp: 45.9713 - loss: 0.2149 - precision: 0.7225 - recall: 0.1987 - tn: 7674.1514 - tp: 123.0057 - val_accuracy: 0.9303 - val_auc: 0.8041 - val_fn: 230.0000 - val_fp: 19.0000 - val_loss: 0.2159 - val_precision: 0.6885 - val_recall: 0.1544 - val_tn: 3280.0000 - val_tp: 42.0000\n",
      "Epoch 48/100\n",
      "\u001b[1m521/521\u001b[0m \u001b[32m━━━━━━━━━━━━━━━━━━━━\u001b[0m\u001b[37m\u001b[0m \u001b[1m11s\u001b[0m 22ms/step - accuracy: 0.9330 - auc: 0.8010 - fn: 525.7855 - fp: 44.6762 - loss: 0.2148 - precision: 0.7303 - recall: 0.1973 - tn: 7675.4463 - tp: 122.0077 - val_accuracy: 0.9308 - val_auc: 0.8042 - val_fn: 230.0000 - val_fp: 17.0000 - val_loss: 0.2153 - val_precision: 0.7119 - val_recall: 0.1544 - val_tn: 3282.0000 - val_tp: 42.0000\n",
      "Epoch 49/100\n",
      "\u001b[1m521/521\u001b[0m \u001b[32m━━━━━━━━━━━━━━━━━━━━\u001b[0m\u001b[37m\u001b[0m \u001b[1m12s\u001b[0m 22ms/step - accuracy: 0.9330 - auc: 0.8019 - fn: 522.8065 - fp: 45.4885 - loss: 0.2142 - precision: 0.7280 - recall: 0.1983 - tn: 7674.6343 - tp: 124.9866 - val_accuracy: 0.9306 - val_auc: 0.8057 - val_fn: 228.0000 - val_fp: 20.0000 - val_loss: 0.2147 - val_precision: 0.6875 - val_recall: 0.1618 - val_tn: 3279.0000 - val_tp: 44.0000\n",
      "Epoch 50/100\n",
      "\u001b[1m521/521\u001b[0m \u001b[32m━━━━━━━━━━━━━━━━━━━━\u001b[0m\u001b[37m\u001b[0m \u001b[1m12s\u001b[0m 22ms/step - accuracy: 0.9330 - auc: 0.8030 - fn: 524.3602 - fp: 43.8602 - loss: 0.2139 - precision: 0.7309 - recall: 0.1951 - tn: 7676.2627 - tp: 123.4330 - val_accuracy: 0.9297 - val_auc: 0.8067 - val_fn: 231.0000 - val_fp: 20.0000 - val_loss: 0.2151 - val_precision: 0.6721 - val_recall: 0.1507 - val_tn: 3279.0000 - val_tp: 41.0000\n",
      "Epoch 51/100\n",
      "\u001b[1m521/521\u001b[0m \u001b[32m━━━━━━━━━━━━━━━━━━━━\u001b[0m\u001b[37m\u001b[0m \u001b[1m11s\u001b[0m 22ms/step - accuracy: 0.9327 - auc: 0.8037 - fn: 526.6245 - fp: 45.6954 - loss: 0.2138 - precision: 0.7235 - recall: 0.1932 - tn: 7674.4272 - tp: 121.1686 - val_accuracy: 0.9297 - val_auc: 0.8082 - val_fn: 231.0000 - val_fp: 20.0000 - val_loss: 0.2149 - val_precision: 0.6721 - val_recall: 0.1507 - val_tn: 3279.0000 - val_tp: 41.0000\n",
      "Epoch 52/100\n",
      "\u001b[1m521/521\u001b[0m \u001b[32m━━━━━━━━━━━━━━━━━━━━\u001b[0m\u001b[37m\u001b[0m \u001b[1m11s\u001b[0m 22ms/step - accuracy: 0.9330 - auc: 0.8048 - fn: 524.3141 - fp: 46.4253 - loss: 0.2137 - precision: 0.7297 - recall: 0.1960 - tn: 7673.6973 - tp: 123.4789 - val_accuracy: 0.9297 - val_auc: 0.8083 - val_fn: 227.0000 - val_fp: 24.0000 - val_loss: 0.2142 - val_precision: 0.6522 - val_recall: 0.1654 - val_tn: 3275.0000 - val_tp: 45.0000\n",
      "Epoch 53/100\n",
      "\u001b[1m521/521\u001b[0m \u001b[32m━━━━━━━━━━━━━━━━━━━━\u001b[0m\u001b[37m\u001b[0m \u001b[1m11s\u001b[0m 22ms/step - accuracy: 0.9334 - auc: 0.8051 - fn: 521.7184 - fp: 44.8985 - loss: 0.2131 - precision: 0.7390 - recall: 0.1982 - tn: 7675.2241 - tp: 126.0747 - val_accuracy: 0.9297 - val_auc: 0.8078 - val_fn: 227.0000 - val_fp: 24.0000 - val_loss: 0.2144 - val_precision: 0.6522 - val_recall: 0.1654 - val_tn: 3275.0000 - val_tp: 45.0000\n",
      "Epoch 54/100\n",
      "\u001b[1m521/521\u001b[0m \u001b[32m━━━━━━━━━━━━━━━━━━━━\u001b[0m\u001b[37m\u001b[0m \u001b[1m12s\u001b[0m 24ms/step - accuracy: 0.9335 - auc: 0.8043 - fn: 520.2126 - fp: 45.6226 - loss: 0.2133 - precision: 0.7370 - recall: 0.2022 - tn: 7674.5000 - tp: 127.5805 - val_accuracy: 0.9308 - val_auc: 0.8080 - val_fn: 220.0000 - val_fp: 27.0000 - val_loss: 0.2143 - val_precision: 0.6582 - val_recall: 0.1912 - val_tn: 3272.0000 - val_tp: 52.0000\n",
      "Epoch 55/100\n",
      "\u001b[1m521/521\u001b[0m \u001b[32m━━━━━━━━━━━━━━━━━━━━\u001b[0m\u001b[37m\u001b[0m \u001b[1m15s\u001b[0m 29ms/step - accuracy: 0.9328 - auc: 0.8054 - fn: 526.5939 - fp: 46.3582 - loss: 0.2132 - precision: 0.7283 - recall: 0.1928 - tn: 7673.7642 - tp: 121.1992 - val_accuracy: 0.9306 - val_auc: 0.8070 - val_fn: 224.0000 - val_fp: 24.0000 - val_loss: 0.2149 - val_precision: 0.6667 - val_recall: 0.1765 - val_tn: 3275.0000 - val_tp: 48.0000\n",
      "Epoch 56/100\n",
      "\u001b[1m521/521\u001b[0m \u001b[32m━━━━━━━━━━━━━━━━━━━━\u001b[0m\u001b[37m\u001b[0m \u001b[1m15s\u001b[0m 28ms/step - accuracy: 0.9323 - auc: 0.8063 - fn: 525.6552 - fp: 49.3046 - loss: 0.2129 - precision: 0.7085 - recall: 0.1945 - tn: 7670.8179 - tp: 122.1379 - val_accuracy: 0.9303 - val_auc: 0.8086 - val_fn: 227.0000 - val_fp: 22.0000 - val_loss: 0.2142 - val_precision: 0.6716 - val_recall: 0.1654 - val_tn: 3277.0000 - val_tp: 45.0000\n",
      "Epoch 57/100\n",
      "\u001b[1m521/521\u001b[0m \u001b[32m━━━━━━━━━━━━━━━━━━━━\u001b[0m\u001b[37m\u001b[0m \u001b[1m14s\u001b[0m 27ms/step - accuracy: 0.9324 - auc: 0.8063 - fn: 527.8716 - fp: 48.2931 - loss: 0.2130 - precision: 0.7186 - recall: 0.1909 - tn: 7671.8296 - tp: 119.9215 - val_accuracy: 0.9297 - val_auc: 0.8104 - val_fn: 228.0000 - val_fp: 23.0000 - val_loss: 0.2140 - val_precision: 0.6567 - val_recall: 0.1618 - val_tn: 3276.0000 - val_tp: 44.0000\n",
      "Epoch 58/100\n",
      "\u001b[1m521/521\u001b[0m \u001b[32m━━━━━━━━━━━━━━━━━━━━\u001b[0m\u001b[37m\u001b[0m \u001b[1m14s\u001b[0m 28ms/step - accuracy: 0.9326 - auc: 0.8066 - fn: 531.2816 - fp: 43.5479 - loss: 0.2130 - precision: 0.7327 - recall: 0.1852 - tn: 7676.5747 - tp: 116.5115 - val_accuracy: 0.9306 - val_auc: 0.8081 - val_fn: 224.0000 - val_fp: 24.0000 - val_loss: 0.2148 - val_precision: 0.6667 - val_recall: 0.1765 - val_tn: 3275.0000 - val_tp: 48.0000\n",
      "Epoch 59/100\n",
      "\u001b[1m521/521\u001b[0m \u001b[32m━━━━━━━━━━━━━━━━━━━━\u001b[0m\u001b[37m\u001b[0m \u001b[1m15s\u001b[0m 29ms/step - accuracy: 0.9329 - auc: 0.8081 - fn: 525.9962 - fp: 46.0805 - loss: 0.2120 - precision: 0.7293 - recall: 0.1935 - tn: 7674.0420 - tp: 121.7969 - val_accuracy: 0.9311 - val_auc: 0.8101 - val_fn: 223.0000 - val_fp: 23.0000 - val_loss: 0.2142 - val_precision: 0.6806 - val_recall: 0.1801 - val_tn: 3276.0000 - val_tp: 49.0000\n",
      "Epoch 60/100\n",
      "\u001b[1m521/521\u001b[0m \u001b[32m━━━━━━━━━━━━━━━━━━━━\u001b[0m\u001b[37m\u001b[0m \u001b[1m13s\u001b[0m 25ms/step - accuracy: 0.9328 - auc: 0.8085 - fn: 525.2606 - fp: 46.8602 - loss: 0.2113 - precision: 0.7285 - recall: 0.1927 - tn: 7673.2627 - tp: 122.5326 - val_accuracy: 0.9300 - val_auc: 0.8099 - val_fn: 224.0000 - val_fp: 26.0000 - val_loss: 0.2144 - val_precision: 0.6486 - val_recall: 0.1765 - val_tn: 3273.0000 - val_tp: 48.0000\n",
      "Epoch 61/100\n",
      "\u001b[1m521/521\u001b[0m \u001b[32m━━━━━━━━━━━━━━━━━━━━\u001b[0m\u001b[37m\u001b[0m \u001b[1m13s\u001b[0m 26ms/step - accuracy: 0.9334 - auc: 0.8099 - fn: 522.4866 - fp: 45.5939 - loss: 0.2108 - precision: 0.7416 - recall: 0.1980 - tn: 7674.5288 - tp: 125.3065 - val_accuracy: 0.9303 - val_auc: 0.8123 - val_fn: 225.0000 - val_fp: 24.0000 - val_loss: 0.2137 - val_precision: 0.6620 - val_recall: 0.1728 - val_tn: 3275.0000 - val_tp: 47.0000\n",
      "Epoch 62/100\n",
      "\u001b[1m521/521\u001b[0m \u001b[32m━━━━━━━━━━━━━━━━━━━━\u001b[0m\u001b[37m\u001b[0m \u001b[1m13s\u001b[0m 25ms/step - accuracy: 0.9338 - auc: 0.8105 - fn: 520.0000 - fp: 44.1398 - loss: 0.2103 - precision: 0.7498 - recall: 0.2013 - tn: 7675.9829 - tp: 127.7931 - val_accuracy: 0.9303 - val_auc: 0.8128 - val_fn: 224.0000 - val_fp: 25.0000 - val_loss: 0.2133 - val_precision: 0.6575 - val_recall: 0.1765 - val_tn: 3274.0000 - val_tp: 48.0000\n",
      "Epoch 63/100\n",
      "\u001b[1m521/521\u001b[0m \u001b[32m━━━━━━━━━━━━━━━━━━━━\u001b[0m\u001b[37m\u001b[0m \u001b[1m14s\u001b[0m 27ms/step - accuracy: 0.9333 - auc: 0.8116 - fn: 520.9847 - fp: 46.9291 - loss: 0.2103 - precision: 0.7330 - recall: 0.1998 - tn: 7673.1934 - tp: 126.8084 - val_accuracy: 0.9303 - val_auc: 0.8146 - val_fn: 227.0000 - val_fp: 22.0000 - val_loss: 0.2128 - val_precision: 0.6716 - val_recall: 0.1654 - val_tn: 3277.0000 - val_tp: 45.0000\n",
      "Epoch 64/100\n",
      "\u001b[1m521/521\u001b[0m \u001b[32m━━━━━━━━━━━━━━━━━━━━\u001b[0m\u001b[37m\u001b[0m \u001b[1m14s\u001b[0m 26ms/step - accuracy: 0.9337 - auc: 0.8111 - fn: 519.6073 - fp: 46.2375 - loss: 0.2101 - precision: 0.7421 - recall: 0.2040 - tn: 7673.8853 - tp: 128.1858 - val_accuracy: 0.9303 - val_auc: 0.8146 - val_fn: 225.0000 - val_fp: 24.0000 - val_loss: 0.2126 - val_precision: 0.6620 - val_recall: 0.1728 - val_tn: 3275.0000 - val_tp: 47.0000\n",
      "Epoch 65/100\n",
      "\u001b[1m521/521\u001b[0m \u001b[32m━━━━━━━━━━━━━━━━━━━━\u001b[0m\u001b[37m\u001b[0m \u001b[1m13s\u001b[0m 25ms/step - accuracy: 0.9333 - auc: 0.8124 - fn: 519.5230 - fp: 49.8103 - loss: 0.2098 - precision: 0.7277 - recall: 0.2037 - tn: 7670.3125 - tp: 128.2701 - val_accuracy: 0.9300 - val_auc: 0.8132 - val_fn: 225.0000 - val_fp: 25.0000 - val_loss: 0.2132 - val_precision: 0.6528 - val_recall: 0.1728 - val_tn: 3274.0000 - val_tp: 47.0000\n",
      "Epoch 66/100\n",
      "\u001b[1m521/521\u001b[0m \u001b[32m━━━━━━━━━━━━━━━━━━━━\u001b[0m\u001b[37m\u001b[0m \u001b[1m11s\u001b[0m 21ms/step - accuracy: 0.9334 - auc: 0.8128 - fn: 518.6379 - fp: 47.8295 - loss: 0.2094 - precision: 0.7324 - recall: 0.2036 - tn: 7672.2930 - tp: 129.1552 - val_accuracy: 0.9300 - val_auc: 0.8144 - val_fn: 226.0000 - val_fp: 24.0000 - val_loss: 0.2130 - val_precision: 0.6571 - val_recall: 0.1691 - val_tn: 3275.0000 - val_tp: 46.0000\n",
      "Epoch 67/100\n",
      "\u001b[1m521/521\u001b[0m \u001b[32m━━━━━━━━━━━━━━━━━━━━\u001b[0m\u001b[37m\u001b[0m \u001b[1m11s\u001b[0m 21ms/step - accuracy: 0.9337 - auc: 0.8138 - fn: 515.0306 - fp: 49.0613 - loss: 0.2086 - precision: 0.7298 - recall: 0.2102 - tn: 7671.0615 - tp: 132.7625 - val_accuracy: 0.9303 - val_auc: 0.8136 - val_fn: 228.0000 - val_fp: 21.0000 - val_loss: 0.2130 - val_precision: 0.6769 - val_recall: 0.1618 - val_tn: 3278.0000 - val_tp: 44.0000\n",
      "Epoch 68/100\n",
      "\u001b[1m521/521\u001b[0m \u001b[32m━━━━━━━━━━━━━━━━━━━━\u001b[0m\u001b[37m\u001b[0m \u001b[1m11s\u001b[0m 21ms/step - accuracy: 0.9339 - auc: 0.8143 - fn: 520.7031 - fp: 44.4042 - loss: 0.2087 - precision: 0.7527 - recall: 0.2013 - tn: 7675.7183 - tp: 127.0900 - val_accuracy: 0.9308 - val_auc: 0.8142 - val_fn: 225.0000 - val_fp: 22.0000 - val_loss: 0.2130 - val_precision: 0.6812 - val_recall: 0.1728 - val_tn: 3277.0000 - val_tp: 47.0000\n",
      "Epoch 69/100\n",
      "\u001b[1m521/521\u001b[0m \u001b[32m━━━━━━━━━━━━━━━━━━━━\u001b[0m\u001b[37m\u001b[0m \u001b[1m11s\u001b[0m 21ms/step - accuracy: 0.9338 - auc: 0.8142 - fn: 518.0192 - fp: 45.5364 - loss: 0.2085 - precision: 0.7424 - recall: 0.2058 - tn: 7674.5864 - tp: 129.7739 - val_accuracy: 0.9311 - val_auc: 0.8154 - val_fn: 225.0000 - val_fp: 21.0000 - val_loss: 0.2128 - val_precision: 0.6912 - val_recall: 0.1728 - val_tn: 3278.0000 - val_tp: 47.0000\n",
      "Epoch 70/100\n",
      "\u001b[1m521/521\u001b[0m \u001b[32m━━━━━━━━━━━━━━━━━━━━\u001b[0m\u001b[37m\u001b[0m \u001b[1m11s\u001b[0m 21ms/step - accuracy: 0.9345 - auc: 0.8157 - fn: 516.1782 - fp: 43.4808 - loss: 0.2080 - precision: 0.7597 - recall: 0.2086 - tn: 7676.6416 - tp: 131.6149 - val_accuracy: 0.9306 - val_auc: 0.8148 - val_fn: 228.0000 - val_fp: 20.0000 - val_loss: 0.2136 - val_precision: 0.6875 - val_recall: 0.1618 - val_tn: 3279.0000 - val_tp: 44.0000\n",
      "Epoch 71/100\n",
      "\u001b[1m521/521\u001b[0m \u001b[32m━━━━━━━━━━━━━━━━━━━━\u001b[0m\u001b[37m\u001b[0m \u001b[1m11s\u001b[0m 21ms/step - accuracy: 0.9340 - auc: 0.8160 - fn: 516.1188 - fp: 46.6284 - loss: 0.2078 - precision: 0.7428 - recall: 0.2090 - tn: 7673.4941 - tp: 131.6743 - val_accuracy: 0.9294 - val_auc: 0.8131 - val_fn: 229.0000 - val_fp: 23.0000 - val_loss: 0.2137 - val_precision: 0.6515 - val_recall: 0.1581 - val_tn: 3276.0000 - val_tp: 43.0000\n",
      "Epoch 72/100\n",
      "\u001b[1m521/521\u001b[0m \u001b[32m━━━━━━━━━━━━━━━━━━━━\u001b[0m\u001b[37m\u001b[0m \u001b[1m11s\u001b[0m 21ms/step - accuracy: 0.9340 - auc: 0.8166 - fn: 517.0766 - fp: 43.8391 - loss: 0.2074 - precision: 0.7479 - recall: 0.2068 - tn: 7676.2837 - tp: 130.7165 - val_accuracy: 0.9306 - val_auc: 0.8156 - val_fn: 226.0000 - val_fp: 22.0000 - val_loss: 0.2131 - val_precision: 0.6765 - val_recall: 0.1691 - val_tn: 3277.0000 - val_tp: 46.0000\n",
      "Epoch 73/100\n",
      "\u001b[1m521/521\u001b[0m \u001b[32m━━━━━━━━━━━━━━━━━━━━\u001b[0m\u001b[37m\u001b[0m \u001b[1m11s\u001b[0m 21ms/step - accuracy: 0.9347 - auc: 0.8169 - fn: 513.4885 - fp: 42.3429 - loss: 0.2072 - precision: 0.7595 - recall: 0.2123 - tn: 7677.7798 - tp: 134.3046 - val_accuracy: 0.9308 - val_auc: 0.8136 - val_fn: 225.0000 - val_fp: 22.0000 - val_loss: 0.2137 - val_precision: 0.6812 - val_recall: 0.1728 - val_tn: 3277.0000 - val_tp: 47.0000\n",
      "Epoch 74/100\n",
      "\u001b[1m521/521\u001b[0m \u001b[32m━━━━━━━━━━━━━━━━━━━━\u001b[0m\u001b[37m\u001b[0m \u001b[1m11s\u001b[0m 21ms/step - accuracy: 0.9351 - auc: 0.8182 - fn: 512.2739 - fp: 41.2107 - loss: 0.2063 - precision: 0.7692 - recall: 0.2148 - tn: 7678.9121 - tp: 135.5191 - val_accuracy: 0.9303 - val_auc: 0.8164 - val_fn: 228.0000 - val_fp: 21.0000 - val_loss: 0.2139 - val_precision: 0.6769 - val_recall: 0.1618 - val_tn: 3278.0000 - val_tp: 44.0000\n",
      "Epoch 75/100\n",
      "\u001b[1m521/521\u001b[0m \u001b[32m━━━━━━━━━━━━━━━━━━━━\u001b[0m\u001b[37m\u001b[0m \u001b[1m11s\u001b[0m 21ms/step - accuracy: 0.9345 - auc: 0.8185 - fn: 515.0326 - fp: 43.2490 - loss: 0.2064 - precision: 0.7579 - recall: 0.2092 - tn: 7676.8735 - tp: 132.7605 - val_accuracy: 0.9297 - val_auc: 0.8169 - val_fn: 223.0000 - val_fp: 28.0000 - val_loss: 0.2133 - val_precision: 0.6364 - val_recall: 0.1801 - val_tn: 3271.0000 - val_tp: 49.0000\n",
      "Epoch 76/100\n",
      "\u001b[1m521/521\u001b[0m \u001b[32m━━━━━━━━━━━━━━━━━━━━\u001b[0m\u001b[37m\u001b[0m \u001b[1m11s\u001b[0m 21ms/step - accuracy: 0.9339 - auc: 0.8196 - fn: 521.6705 - fp: 41.9119 - loss: 0.2063 - precision: 0.7552 - recall: 0.1993 - tn: 7678.2109 - tp: 126.1226 - val_accuracy: 0.9303 - val_auc: 0.8163 - val_fn: 227.0000 - val_fp: 22.0000 - val_loss: 0.2139 - val_precision: 0.6716 - val_recall: 0.1654 - val_tn: 3277.0000 - val_tp: 45.0000\n",
      "Epoch 77/100\n",
      "\u001b[1m521/521\u001b[0m \u001b[32m━━━━━━━━━━━━━━━━━━━━\u001b[0m\u001b[37m\u001b[0m \u001b[1m11s\u001b[0m 21ms/step - accuracy: 0.9339 - auc: 0.8202 - fn: 520.7165 - fp: 42.1858 - loss: 0.2062 - precision: 0.7522 - recall: 0.2026 - tn: 7677.9370 - tp: 127.0766 - val_accuracy: 0.9297 - val_auc: 0.8158 - val_fn: 227.0000 - val_fp: 24.0000 - val_loss: 0.2136 - val_precision: 0.6522 - val_recall: 0.1654 - val_tn: 3275.0000 - val_tp: 45.0000\n",
      "Epoch 78/100\n",
      "\u001b[1m521/521\u001b[0m \u001b[32m━━━━━━━━━━━━━━━━━━━━\u001b[0m\u001b[37m\u001b[0m \u001b[1m11s\u001b[0m 21ms/step - accuracy: 0.9338 - auc: 0.8200 - fn: 518.3602 - fp: 44.6034 - loss: 0.2065 - precision: 0.7395 - recall: 0.2069 - tn: 7675.5190 - tp: 129.4330 - val_accuracy: 0.9300 - val_auc: 0.8154 - val_fn: 226.0000 - val_fp: 24.0000 - val_loss: 0.2136 - val_precision: 0.6571 - val_recall: 0.1691 - val_tn: 3275.0000 - val_tp: 46.0000\n",
      "Epoch 79/100\n",
      "\u001b[1m521/521\u001b[0m \u001b[32m━━━━━━━━━━━━━━━━━━━━\u001b[0m\u001b[37m\u001b[0m \u001b[1m11s\u001b[0m 21ms/step - accuracy: 0.9336 - auc: 0.8209 - fn: 520.9789 - fp: 42.9023 - loss: 0.2063 - precision: 0.7420 - recall: 0.2029 - tn: 7677.2202 - tp: 126.8142 - val_accuracy: 0.9297 - val_auc: 0.8142 - val_fn: 230.0000 - val_fp: 21.0000 - val_loss: 0.2146 - val_precision: 0.6667 - val_recall: 0.1544 - val_tn: 3278.0000 - val_tp: 42.0000\n",
      "Epoch 80/100\n",
      "\u001b[1m521/521\u001b[0m \u001b[32m━━━━━━━━━━━━━━━━━━━━\u001b[0m\u001b[37m\u001b[0m \u001b[1m11s\u001b[0m 21ms/step - accuracy: 0.9340 - auc: 0.8214 - fn: 520.2643 - fp: 39.5785 - loss: 0.2064 - precision: 0.7545 - recall: 0.2044 - tn: 7680.5439 - tp: 127.5287 - val_accuracy: 0.9297 - val_auc: 0.8131 - val_fn: 232.0000 - val_fp: 19.0000 - val_loss: 0.2145 - val_precision: 0.6780 - val_recall: 0.1471 - val_tn: 3280.0000 - val_tp: 40.0000\n",
      "Epoch 81/100\n",
      "\u001b[1m521/521\u001b[0m \u001b[32m━━━━━━━━━━━━━━━━━━━━\u001b[0m\u001b[37m\u001b[0m \u001b[1m11s\u001b[0m 21ms/step - accuracy: 0.9340 - auc: 0.8208 - fn: 523.6207 - fp: 38.2375 - loss: 0.2065 - precision: 0.7574 - recall: 0.2020 - tn: 7681.8853 - tp: 124.1724 - val_accuracy: 0.9294 - val_auc: 0.8111 - val_fn: 226.0000 - val_fp: 26.0000 - val_loss: 0.2159 - val_precision: 0.6389 - val_recall: 0.1691 - val_tn: 3273.0000 - val_tp: 46.0000\n",
      "Epoch 82/100\n",
      "\u001b[1m521/521\u001b[0m \u001b[32m━━━━━━━━━━━━━━━━━━━━\u001b[0m\u001b[37m\u001b[0m \u001b[1m11s\u001b[0m 21ms/step - accuracy: 0.9342 - auc: 0.8224 - fn: 519.3276 - fp: 40.5824 - loss: 0.2060 - precision: 0.7577 - recall: 0.2058 - tn: 7679.5400 - tp: 128.4655 - val_accuracy: 0.9283 - val_auc: 0.8124 - val_fn: 228.0000 - val_fp: 28.0000 - val_loss: 0.2150 - val_precision: 0.6111 - val_recall: 0.1618 - val_tn: 3271.0000 - val_tp: 44.0000\n",
      "Epoch 83/100\n",
      "\u001b[1m521/521\u001b[0m \u001b[32m━━━━━━━━━━━━━━━━━━━━\u001b[0m\u001b[37m\u001b[0m \u001b[1m11s\u001b[0m 21ms/step - accuracy: 0.9348 - auc: 0.8237 - fn: 516.8276 - fp: 39.1360 - loss: 0.2051 - precision: 0.7658 - recall: 0.2123 - tn: 7680.9868 - tp: 130.9655 - val_accuracy: 0.9283 - val_auc: 0.8086 - val_fn: 224.0000 - val_fp: 32.0000 - val_loss: 0.2172 - val_precision: 0.6000 - val_recall: 0.1765 - val_tn: 3267.0000 - val_tp: 48.0000\n",
      "Epoch 84/100\n",
      "\u001b[1m521/521\u001b[0m \u001b[32m━━━━━━━━━━━━━━━━━━━━\u001b[0m\u001b[37m\u001b[0m \u001b[1m11s\u001b[0m 21ms/step - accuracy: 0.9343 - auc: 0.8244 - fn: 519.5287 - fp: 38.7184 - loss: 0.2047 - precision: 0.7578 - recall: 0.2082 - tn: 7681.4043 - tp: 128.2644 - val_accuracy: 0.9264 - val_auc: 0.8088 - val_fn: 217.0000 - val_fp: 46.0000 - val_loss: 0.2228 - val_precision: 0.5446 - val_recall: 0.2022 - val_tn: 3253.0000 - val_tp: 55.0000\n",
      "Epoch 84: early stopping\n",
      "Restoring model weights from the end of the best epoch: 64.\n"
     ]
    }
   ],
   "source": [
    "modelfitprogress = model.fit(\n",
    "                              x=[X_train_img], y=y_train,\n",
    "                              validation_data=([X_val_img], y_val),\n",
    "                              epochs = epochs,\n",
    "                              callbacks = [early_stopper]\n",
    "                              #steps_per_epoch = df_train.shape[0]//train_iter.batch_size,\n",
    "                              #validation_steps = df_val.shape[0]//valid_iter.batch_size\n",
    "                              )"
   ]
  },
  {
   "cell_type": "markdown",
   "metadata": {
    "id": "9R2jytfijpEp"
   },
   "source": [
    "<a id=\"section6\"></a>\n",
    "# <font color=\"#004D7F\" size=6> 6. Results</font>"
   ]
  },
  {
   "cell_type": "markdown",
   "metadata": {
    "id": "9R2jytfijpEp"
   },
   "source": [
    "---\n",
    "<a id=\"section61\"></a>\n",
    "# <font color=\"#004D7F\" size=5> 6.1. Train/Validation representation</font>"
   ]
  },
  {
   "cell_type": "code",
   "execution_count": 18,
   "metadata": {},
   "outputs": [
    {
     "data": {
      "image/png": "[encoded data removed]",
      "text/plain": [
       "<Figure size 640x480 with 1 Axes>"
      ]
     },
     "metadata": {},
     "output_type": "display_data"
    }
   ],
   "source": [
    "plt.plot(modelfitprogress.history['loss'], color = 'red', label = 'loss')\n",
    "plt.plot(modelfitprogress.history['val_loss'], color = 'green', label = 'val loss')\n",
    "plt.legend(loc = 'upper right')\n",
    "#plt.ylim(0,1)\n",
    "plt.show()"
   ]
  },
  {
   "cell_type": "code",
   "execution_count": 19,
   "metadata": {},
   "outputs": [
    {
     "data": {
      "image/png": "[encoded data removed]",
      "text/plain": [
       "<Figure size 640x480 with 1 Axes>"
      ]
     },
     "metadata": {},
     "output_type": "display_data"
    }
   ],
   "source": [
    "plt.plot(modelfitprogress.history['accuracy'], color = 'red', label = 'accuracy')\n",
    "plt.plot(modelfitprogress.history['val_accuracy'], color = 'green', label = 'val accuracy')\n",
    "plt.legend(loc = 'upper right')\n",
    "\n",
    "plt.show()"
   ]
  },
  {
   "cell_type": "code",
   "execution_count": 20,
   "metadata": {},
   "outputs": [
    {
     "name": "stdout",
     "output_type": "stream",
     "text": [
      "Train accuracy: 0.9341173768043518\n",
      "Train AUC: 0.8312336206436157\n",
      "Train precision: 0.7692307829856873\n",
      "Train recall: 0.19638648629188538\n",
      "Train loss: 0.20295803248882294\n"
     ]
    }
   ],
   "source": [
    "train_accuracy = modelfitprogress.history[\"accuracy\"][-1]\n",
    "train_auc = modelfitprogress.history[\"auc\"][-1]\n",
    "train_precision = modelfitprogress.history[\"precision\"][-1]\n",
    "train_recall = modelfitprogress.history[\"recall\"][-1]\n",
    "train_loss = modelfitprogress.history[\"loss\"][-1]\n",
    "\n",
    "print(\"Train accuracy:\",train_accuracy)\n",
    "print(\"Train AUC:\",train_auc)\n",
    "print(\"Train precision:\",train_precision)\n",
    "print(\"Train recall:\",train_recall)\n",
    "print(\"Train loss:\",train_loss)"
   ]
  },
  {
   "cell_type": "code",
   "execution_count": 21,
   "metadata": {},
   "outputs": [
    {
     "name": "stdout",
     "output_type": "stream",
     "text": [
      "Validation accuracy: 0.9263511896133423\n",
      "Validation AUC: 0.8088390827178955\n",
      "Validation precision: 0.5445544719696045\n",
      "Validation recall: 0.20220588147640228\n",
      "Validation loss: 0.22279377281665802\n"
     ]
    }
   ],
   "source": [
    "validation_accuracy = modelfitprogress.history[\"val_accuracy\"][-1]\n",
    "validation_auc = modelfitprogress.history[\"val_auc\"][-1]\n",
    "validation_precision = modelfitprogress.history[\"val_precision\"][-1]\n",
    "validation_recall = modelfitprogress.history[\"val_recall\"][-1]\n",
    "validation_loss = modelfitprogress.history[\"val_loss\"][-1]\n",
    "\n",
    "print(\"Validation accuracy:\",validation_accuracy)\n",
    "print(\"Validation AUC:\",validation_auc)\n",
    "print(\"Validation precision:\",validation_precision)\n",
    "print(\"Validation recall:\",validation_recall)\n",
    "print(\"Validation loss:\",validation_loss)"
   ]
  },
  {
   "cell_type": "markdown",
   "metadata": {},
   "source": [
    "---\n",
    "<a id=\"section62\"></a>\n",
    "# <font color=\"#004D7F\" size=5> 6.2. Validation evaluation</font>"
   ]
  },
  {
   "cell_type": "markdown",
   "metadata": {},
   "source": [
    "Encontrar el mejor corte de probabilidades"
   ]
  },
  {
   "cell_type": "code",
   "execution_count": 22,
   "metadata": {},
   "outputs": [
    {
     "name": "stdout",
     "output_type": "stream",
     "text": [
      "\u001b[1m521/521\u001b[0m \u001b[32m━━━━━━━━━━━━━━━━━━━━\u001b[0m\u001b[37m\u001b[0m \u001b[1m1s\u001b[0m 2ms/step\n"
     ]
    },
    {
     "data": {
      "text/plain": [
       "(0.08, 0.7307863895245434)"
      ]
     },
     "execution_count": 22,
     "metadata": {},
     "output_type": "execute_result"
    }
   ],
   "source": [
    "from sklearn.metrics import roc_auc_score\n",
    "x_train_1 = [X_train_img]\n",
    "\n",
    "def find_best_threshold(y_true, y_probs):\n",
    "    thresholds = np.arange(0.0, 1.0, 0.01)\n",
    "    best_auc = 0\n",
    "    best_thresh = 0\n",
    "    for thresh in thresholds:\n",
    "        preds = (y_probs >= thresh).astype(int)\n",
    "        auc = roc_auc_score(y_true, preds)\n",
    "        if auc > best_auc:\n",
    "            best_auc = auc\n",
    "            best_thresh = thresh\n",
    "    return best_thresh, best_auc\n",
    "prediction = model.predict(x_train_1,)\n",
    "best_threshold = find_best_threshold(y_train, prediction)\n",
    "best_threshold ### !!!!!! IMPORTANTE PARA DEFINIR EL MEJOR CORTE PARA LAS PROBABILIDADES"
   ]
  },
  {
   "cell_type": "code",
   "execution_count": 23,
   "metadata": {},
   "outputs": [
    {
     "name": "stdout",
     "output_type": "stream",
     "text": [
      "\u001b[1m112/112\u001b[0m \u001b[32m━━━━━━━━━━━━━━━━━━━━\u001b[0m\u001b[37m\u001b[0m \u001b[1m1s\u001b[0m 8ms/step - accuracy: 0.9262 - auc: 0.8326 - fn: 118.0796 - fp: 11.1150 - loss: 0.2161 - precision: 0.7058 - recall: 0.1547 - tn: 1669.8761 - tp: 24.4159\n",
      "Loss in validation: 0.21259188652038574 \n",
      "Accuracy in validation: 0.9302716255187988\n"
     ]
    }
   ],
   "source": [
    "#x_validacion = [X_test_num, X_test_img]\n",
    "#y_validacion = y_test\n",
    "#x_validacion = valid_iter\n",
    "#y_validacion = y_val\n",
    "score_test= model.evaluate([X_val_img], y_val)\n",
    "print(\"Loss in validation: {} \\nAccuracy in validation: {}\".format(score_test[0], score_test[5]))"
   ]
  },
  {
   "cell_type": "code",
   "execution_count": 24,
   "metadata": {},
   "outputs": [
    {
     "name": "stdout",
     "output_type": "stream",
     "text": [
      "\u001b[1m112/112\u001b[0m \u001b[32m━━━━━━━━━━━━━━━━━━━━\u001b[0m\u001b[37m\u001b[0m \u001b[1m0s\u001b[0m 2ms/step\n"
     ]
    }
   ],
   "source": [
    "#test_images = next(test_iter)[0]\n",
    "prediction = model.predict([X_val_img])\n",
    "#prediction = model.predict(test_images)\n",
    "prediction_labels = (prediction > best_threshold[0]).astype(int)\n",
    "#print(prediction_labels)"
   ]
  },
  {
   "cell_type": "code",
   "execution_count": 25,
   "metadata": {},
   "outputs": [
    {
     "name": "stdout",
     "output_type": "stream",
     "text": [
      "Validation accuracy: 0.9302716255187988\n",
      "Validation AUC: 0.8145962357521057\n",
      "Validation precision: 0.6619718074798584\n",
      "Validation recall: 0.17279411852359772\n"
     ]
    }
   ],
   "source": [
    "from sklearn.metrics import roc_auc_score,accuracy_score,precision_score, recall_score\n",
    "\n",
    "test_accuracy = score_test[5]\n",
    "test_auc = score_test[8]\n",
    "test_precision = score_test[6]\n",
    "test_recall = score_test[7]\n",
    "\n",
    "print(\"Validation accuracy:\",test_accuracy)\n",
    "print(\"Validation AUC:\",test_auc)\n",
    "print(\"Validation precision:\",test_precision)\n",
    "print(\"Validation recall:\",test_recall)"
   ]
  },
  {
   "cell_type": "code",
   "execution_count": 26,
   "metadata": {},
   "outputs": [
    {
     "data": {
      "text/plain": [
       "19630    0\n",
       "11186    0\n",
       "8758     0\n",
       "4616     0\n",
       "16735    0\n",
       "        ..\n",
       "2079     0\n",
       "17000    0\n",
       "10190    0\n",
       "7585     0\n",
       "7246     0\n",
       "Name: values, Length: 3571, dtype: int64"
      ]
     },
     "execution_count": 26,
     "metadata": {},
     "output_type": "execute_result"
    }
   ],
   "source": [
    "y_test1 = y_val.astype(float).astype(int)\n",
    "y_test1"
   ]
  },
  {
   "cell_type": "code",
   "execution_count": 27,
   "metadata": {},
   "outputs": [
    {
     "name": "stdout",
     "output_type": "stream",
     "text": [
      "\u001b[1mTest Dataset.\u001b[0m \n",
      "\n",
      "\n",
      "\u001b[1mConfusion matrix:\u001b[0m\n"
     ]
    },
    {
     "data": {
      "image/png": "[encoded data removed]",
      "text/plain": [
       "<Figure size 640x480 with 2 Axes>"
      ]
     },
     "metadata": {},
     "output_type": "display_data"
    },
    {
     "name": "stdout",
     "output_type": "stream",
     "text": [
      "Verdaderos Negativos (VN): 2265\n",
      "Falsos Positivos (FP): 1034\n",
      "Falsos Negativos (FN): 64\n",
      "Verdaderos Positivos (VP): 208 \n",
      "\n",
      "\n",
      "\u001b[1mAUC SCORE:\u001b[0m\n",
      "0.8151668063406023\n",
      "\u001b[1mRecall SCORE:\u001b[0m\n",
      "0.7647058823529411\n"
     ]
    },
    {
     "data": {
      "image/png": "[encoded data removed]",
      "text/plain": [
       "<Figure size 640x480 with 1 Axes>"
      ]
     },
     "metadata": {},
     "output_type": "display_data"
    }
   ],
   "source": [
    "from sklearn.metrics import ConfusionMatrixDisplay, confusion_matrix, roc_curve, roc_auc_score, recall_score\n",
    "\n",
    "# Suponiendo que ⁠ cnn_model ⁠ sea tu modelo entrenado y ⁠ X_test ⁠ tu conjunto de prueba\n",
    "print(\"\\033[1mTest Dataset.\\033[0m \\n\\n\")\n",
    "\n",
    "# Confusion Matrix\n",
    "print(\"\\033[1mConfusion matrix:\\033[0m\")\n",
    "cm = confusion_matrix(y_test1, prediction_labels)\n",
    "disp = ConfusionMatrixDisplay(confusion_matrix=cm)\n",
    "disp.plot()\n",
    "plt.show()\n",
    "print(f\"Verdaderos Negativos (VN): {cm[0, 0]}\")\n",
    "print(f\"Falsos Positivos (FP): {cm[0, 1]}\")\n",
    "print(f\"Falsos Negativos (FN): {cm[1, 0]}\")\n",
    "print(f\"Verdaderos Positivos (VP): {cm[1, 1]} \\n\\n\")\n",
    "\n",
    "# Calcular las métricas usando probabilidades en lugar de etiquetas\n",
    "#prediction_probs = model.predict([X_val_img])\n",
    "\n",
    "print(\"\\033[1mAUC SCORE:\\033[0m\")\n",
    "print(roc_auc_score(y_test1, prediction ))\n",
    "\n",
    "print(\"\\033[1mRecall SCORE:\\033[0m\")\n",
    "print(recall_score(y_test1, prediction_labels))\n",
    "\n",
    "# Curva ROC\n",
    "fpr, tpr, thresholds = roc_curve(y_test1, prediction)\n",
    "plt.plot([0, 1], [0, 1], 'k--')\n",
    "plt.plot(fpr, tpr)\n",
    "plt.xlabel('False Positive Rate')\n",
    "plt.ylabel('True Positive Rate')\n",
    "plt.title('ROC Curve and AUC')\n",
    "plt.fill_between(fpr, tpr, alpha=0.3)\n",
    "plt.tight_layout()\n",
    "plt.show()"
   ]
  },
  {
   "cell_type": "markdown",
   "metadata": {},
   "source": [
    "---\n",
    "<a id=\"section62\"></a>\n",
    "# <font color=\"#004D7F\" size=5> 6.2. Test evaluation</font>"
   ]
  },
  {
   "cell_type": "code",
   "execution_count": 28,
   "metadata": {},
   "outputs": [
    {
     "name": "stdout",
     "output_type": "stream",
     "text": [
      "\u001b[1m112/112\u001b[0m \u001b[32m━━━━━━━━━━━━━━━━━━━━\u001b[0m\u001b[37m\u001b[0m \u001b[1m1s\u001b[0m 9ms/step - accuracy: 0.9274 - auc: 0.7968 - fn: 121.0443 - fp: 10.6991 - loss: 0.2234 - precision: 0.6452 - recall: 0.1557 - tn: 1670.7965 - tp: 20.9646\n",
      "Loss in Test: 0.22167102992534637 \n",
      "Accuracy in Test: 0.9291713237762451\n"
     ]
    }
   ],
   "source": [
    "#x_validacion = [X_test_num, X_test_img]\n",
    "#y_validacion = y_test\n",
    "#x_validacion = test_iter\n",
    "#y_validacion = y_test\n",
    "score_test= model.evaluate([X_test_img], y_test)\n",
    "print(\"Loss in Test: {} \\nAccuracy in Test: {}\".format(score_test[0], score_test[5]))"
   ]
  },
  {
   "cell_type": "code",
   "execution_count": 29,
   "metadata": {},
   "outputs": [
    {
     "name": "stdout",
     "output_type": "stream",
     "text": [
      "\u001b[1m112/112\u001b[0m \u001b[32m━━━━━━━━━━━━━━━━━━━━\u001b[0m\u001b[37m\u001b[0m \u001b[1m0s\u001b[0m 2ms/step\n"
     ]
    }
   ],
   "source": [
    "#test_images = next(test_iter)[0]\n",
    "prediction = model.predict([X_test_img])\n",
    "#prediction = model.predict(test_images)\n",
    "prediction_labels = (prediction > best_threshold[0]).astype(int)\n",
    "#print(prediction_labels)"
   ]
  },
  {
   "cell_type": "code",
   "execution_count": 30,
   "metadata": {},
   "outputs": [
    {
     "name": "stdout",
     "output_type": "stream",
     "text": [
      "Test accuracy: 0.9291713237762451\n",
      "Test AUC: 0.7900062799453735\n",
      "Test precision: 0.6666666865348816\n",
      "Test recall: 0.14652015268802643\n"
     ]
    }
   ],
   "source": [
    "from sklearn.metrics import roc_auc_score,accuracy_score,precision_score, recall_score\n",
    "\n",
    "test_accuracy = score_test[5]\n",
    "test_auc = score_test[8]\n",
    "test_precision = score_test[6]\n",
    "test_recall = score_test[7]\n",
    "\n",
    "print(\"Test accuracy:\",test_accuracy)\n",
    "print(\"Test AUC:\",test_auc)\n",
    "print(\"Test precision:\",test_precision)\n",
    "print(\"Test recall:\",test_recall)"
   ]
  },
  {
   "cell_type": "code",
   "execution_count": 31,
   "metadata": {},
   "outputs": [
    {
     "data": {
      "text/plain": [
       "650      1\n",
       "4910     0\n",
       "20672    0\n",
       "973      1\n",
       "12541    0\n",
       "        ..\n",
       "17306    0\n",
       "4503     0\n",
       "3256     0\n",
       "8932     0\n",
       "21240    0\n",
       "Name: values, Length: 3572, dtype: int64"
      ]
     },
     "execution_count": 31,
     "metadata": {},
     "output_type": "execute_result"
    }
   ],
   "source": [
    "y_test1 = y_test.astype(float).astype(int)\n",
    "y_test1"
   ]
  },
  {
   "cell_type": "code",
   "execution_count": 32,
   "metadata": {},
   "outputs": [
    {
     "name": "stdout",
     "output_type": "stream",
     "text": [
      "\u001b[1mTest Dataset.\u001b[0m \n",
      "\n",
      "\n",
      "\u001b[1mConfusion matrix:\u001b[0m\n"
     ]
    },
    {
     "data": {
      "image/png": "[encoded data removed]",
      "text/plain": [
       "<Figure size 640x480 with 2 Axes>"
      ]
     },
     "metadata": {},
     "output_type": "display_data"
    },
    {
     "name": "stdout",
     "output_type": "stream",
     "text": [
      "Verdaderos Negativos (VN): 2220\n",
      "Falsos Positivos (FP): 1079\n",
      "Falsos Negativos (FN): 76\n",
      "Verdaderos Positivos (VP): 197 \n",
      "\n",
      "\n",
      "\u001b[1mAUC SCORE:\u001b[0m\n",
      "0.7905137198862571\n",
      "\u001b[1mRecall SCORE:\u001b[0m\n",
      "0.7216117216117216\n"
     ]
    },
    {
     "data": {
      "image/png": "[encoded data removed]",
      "text/plain": [
       "<Figure size 640x480 with 1 Axes>"
      ]
     },
     "metadata": {},
     "output_type": "display_data"
    }
   ],
   "source": [
    "from sklearn.metrics import ConfusionMatrixDisplay, confusion_matrix, roc_curve, roc_auc_score, recall_score\n",
    "\n",
    "# Suponiendo que ⁠ cnn_model ⁠ sea tu modelo entrenado y ⁠ X_test ⁠ tu conjunto de prueba\n",
    "print(\"\\033[1mTest Dataset.\\033[0m \\n\\n\")\n",
    "\n",
    "# Confusion Matrix\n",
    "print(\"\\033[1mConfusion matrix:\\033[0m\")\n",
    "cm = confusion_matrix(y_test1, prediction_labels)\n",
    "disp = ConfusionMatrixDisplay(confusion_matrix=cm)\n",
    "disp.plot()\n",
    "plt.show()\n",
    "print(f\"Verdaderos Negativos (VN): {cm[0, 0]}\")\n",
    "print(f\"Falsos Positivos (FP): {cm[0, 1]}\")\n",
    "print(f\"Falsos Negativos (FN): {cm[1, 0]}\")\n",
    "print(f\"Verdaderos Positivos (VP): {cm[1, 1]} \\n\\n\")\n",
    "\n",
    "# Calcular las métricas usando probabilidades en lugar de etiquetas\n",
    "#prediction_probs = model.predict([X_val_img])\n",
    "\n",
    "print(\"\\033[1mAUC SCORE:\\033[0m\")\n",
    "print(roc_auc_score(y_test1, prediction ))\n",
    "\n",
    "print(\"\\033[1mRecall SCORE:\\033[0m\")\n",
    "print(recall_score(y_test1, prediction_labels))\n",
    "\n",
    "# Curva ROC\n",
    "fpr, tpr, thresholds = roc_curve(y_test1, prediction)\n",
    "plt.plot([0, 1], [0, 1], 'k--')\n",
    "plt.plot(fpr, tpr)\n",
    "plt.xlabel('False Positive Rate')\n",
    "plt.ylabel('True Positive Rate')\n",
    "plt.title('ROC Curve and AUC')\n",
    "plt.fill_between(fpr, tpr, alpha=0.3)\n",
    "plt.tight_layout()\n",
    "plt.show()"
   ]
  },
  {
   "cell_type": "code",
   "execution_count": null,
   "metadata": {},
   "outputs": [],
   "source": []
  }
 ],
 "metadata": {
  "accelerator": "GPU",
  "colab": {
   "gpuType": "T4",
   "provenance": []
  },
  "kernelspec": {
   "display_name": "Python 3",
   "language": "python",
   "name": "python3"
  },
  "language_info": {
   "codemirror_mode": {
    "name": "ipython",
    "version": 3
   },
   "file_extension": ".py",
   "mimetype": "text/x-python",
   "name": "python",
   "nbconvert_exporter": "python",
   "pygments_lexer": "ipython3",
   "version": "3.9.6"
  }
 },
 "nbformat": 4,
 "nbformat_minor": 1
}
